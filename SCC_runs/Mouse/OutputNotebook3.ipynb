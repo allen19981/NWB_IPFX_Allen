{
 "metadata": {
  "kernelspec": {
   "display_name": "Python 3",
   "language": "python",
   "name": "python3"
  },
  "language_info": {
   "codemirror_mode": {
    "name": "ipython",
    "version": 3
   },
   "file_extension": ".py",
   "mimetype": "text/x-python",
   "name": "python",
   "nbconvert_exporter": "python",
   "pygments_lexer": "ipython3",
   "version": "3.7.1"
  },
  "name": ""
 },
 "nbformat": 3,
 "nbformat_minor": 0,
 "worksheets": [
  {
   "cells": [
    {
     "cell_type": "code",
     "collapsed": false,
     "input": [
      "# Load IPFX libraries\n",
      "from ipfx.dataset.create import create_ephys_data_set\n",
      "from ipfx.data_set_features import extract_data_set_features\n",
      "from ipfx.utilities import drop_failed_sweeps\n",
      "\n",
      "# Load pandas library too\n",
      "import pandas as pd\n",
      "mouse_data_dict = {}"
     ],
     "language": "python",
     "metadata": {},
     "outputs": [],
     "prompt_number": 1
    },
    {
     "cell_type": "code",
     "collapsed": false,
     "input": [
      "from ipfx.data_access import get_archive_info\n",
      "archive_url, file_manifest, experiment_metadata = get_archive_info(dataset=\"mouse\")\n",
      "mouse_specimen_id = list(experiment_metadata['cell_specimen_id'])\n",
      "file_manifest\n",
      "file_name_dict = {}\n",
      "for index, row in file_manifest.iterrows():\n",
      "    if row[\"file_name\"][-4:] == \".nwb\":\n",
      "        file_name_dict[row[\"cell_specimen_id\"]] = row[\"file_name\"]\n",
      "        \n",
      "new_file_name = {}\n",
      "index = 0\n",
      "for item in file_name_dict:\n",
      "    if index > 409:\n",
      "        new_file_name[item] = file_name_dict[item]\n",
      "    index += 1\n",
      "\n",
      "file_name_dict = new_file_name"
     ],
     "language": "python",
     "metadata": {},
     "outputs": [],
     "prompt_number": 2
    },
    {
     "cell_type": "code",
     "collapsed": false,
     "input": [
      "len(file_name_dict)"
     ],
     "language": "python",
     "metadata": {},
     "outputs": [
      {
       "output_type": "pyout",
       "prompt_number": 3,
       "text": [
        "3430"
       ]
      }
     ],
     "prompt_number": 3
    },
    {
     "cell_type": "code",
     "collapsed": false,
     "input": [
      "def summarize_cell_ephys_features(lsa_results):\n",
      "    hero_keep_features = ['adapt', 'avg_rate', 'first_isi', 'isi_cv', 'latency', 'mean_isi', 'median_isi', \n",
      "                          'stim_amp']\n",
      "    rheo_keep_features = ['threshold_v', 'peak_v', 'trough_v', \n",
      "     'fast_trough_v', 'adp_v', 'width', 'upstroke_downstroke_ratio', 'peak_t', 'fast_trough_t', 'trough_t']\n",
      "    \n",
      "    overall_cell_keep_features = ['v_baseline', 'rheobase_i', 'fi_fit_slope', \n",
      "                                  'sag', 'vm_for_sag', 'input_resistance', 'tau']\n",
      "    \n",
      "    hero_small_dict = lsa_results['hero_sweep'][hero_keep_features]\n",
      "    rheobase_sweep_index = lsa_results['rheobase_sweep'].name\n",
      "    rheobase_sweep = lsa_results['spikes_set'][rheobase_sweep_index].iloc[0]\n",
      "    \n",
      "    rheo_spike_small_dict = rheobase_sweep[rheo_keep_features]\n",
      "    rheo_first_isi = lsa_results['rheobase_sweep']['first_isi']\n",
      "    rheo_spike_small_dict['rheo_first_isi'] = rheo_first_isi\n",
      "\n",
      "    spike_comb_dict = {**hero_small_dict, **rheo_spike_small_dict}\n",
      "\n",
      "    overall_cell_features = {x: lsa_results[x] for x in overall_cell_keep_features if x in lsa_results}\n",
      "    final_cell_feature_dict = {**spike_comb_dict, **overall_cell_features}\n",
      "    return(final_cell_feature_dict)"
     ],
     "language": "python",
     "metadata": {},
     "outputs": [],
     "prompt_number": 4
    },
    {
     "cell_type": "code",
     "collapsed": false,
     "input": [
      "import urllib.request\n",
      "from ipfx.dataset.create import create_ephys_data_set\n",
      "from ipfx.utilities import drop_failed_sweeps\n",
      "\n",
      "for item in file_name_dict:\n",
      "    specimen_id = item\n",
      "    file_name_spec = file_name_dict[item]\n",
      "#     row = file_manifest.query('cell_specimen_id == {} & technique == \"intracellular_electrophysiology\"'.format(specimen_id))\n",
      "#     archive_uri = row['archive_uri'].values[0]\n",
      "#     file_name = row['file_name'].values[0]\n",
      "#     print('Intrinsic ephys file url: ' + archive_uri)\n",
      "#     print('Intrinsic ephys file name: ' + file_name)\n",
      "\n",
      "#     print('downloading data for cell from DANDI...')\n",
      "    try:\n",
      "#         urllib.request.urlretrieve(archive_uri, file_name)\n",
      "#         print('data downloaded!')\n",
      "\n",
      "        # Create Ephys Data Set\n",
      "\n",
      "        print('loading dataset into data structure...')\n",
      "        nwb_file_name = '/external/rprshnas01/netdata_kcni/stlab/AIBS_patchseq_2020/mouse/ephys/000020/{}'.format(file_name_spec)\n",
      "        data_set = create_ephys_data_set(nwb_file=nwb_file_name) ##loads nwb file into ipfx data structure\n",
      "\n",
      "        # Drop failed sweeps: sweeps with incomplete recording or failing QC criteria\n",
      "        drop_failed_sweeps(data_set)\n",
      "\n",
      "        from ipfx.feature_extractor import SpikeFeatureExtractor, SpikeTrainFeatureExtractor\n",
      "\n",
      "        import ipfx.stimulus_protocol_analysis as spa\n",
      "        from ipfx.epochs import get_stim_epoch\n",
      "        import matplotlib.pyplot as plt\n",
      "\n",
      "\n",
      "        # get sweep table of Long Square sweeps\n",
      "        long_square_table = data_set.filtered_sweep_table(\n",
      "            stimuli=data_set.ontology.long_square_names\n",
      "        )\n",
      "        long_square_sweeps = data_set.sweep_set(long_square_table.sweep_number)\n",
      "\n",
      "        # Select epoch corresponding to the actual recording from the sweeps\n",
      "        # and align sweeps so that the experiment would start at the same time\n",
      "        long_square_sweeps.select_epoch(\"recording\")\n",
      "        long_square_sweeps.align_to_start_of_epoch(\"experiment\")\n",
      "\n",
      "        # find the start and end time of the stimulus\n",
      "        # (treating the first sweep as representative)\n",
      "        stim_start_index, stim_end_index = get_stim_epoch(long_square_sweeps.i[0])\n",
      "        stim_start_time = long_square_sweeps.t[0][stim_start_index]\n",
      "        stim_end_time = long_square_sweeps.t[0][stim_end_index]\n",
      "\n",
      "        # build the extractors\n",
      "        spfx = SpikeFeatureExtractor(start=stim_start_time, end=stim_end_time)\n",
      "        sptfx = SpikeTrainFeatureExtractor(start=stim_start_time, end=stim_end_time)\n",
      "\n",
      "        # run the analysis and print out a few of the features\n",
      "        long_square_analysis = spa.LongSquareAnalysis(spfx, sptfx, subthresh_min_amp=-100.0)\n",
      "        data = long_square_analysis.analyze(long_square_sweeps)\n",
      "\n",
      "        specimen_dict = summarize_cell_ephys_features(data)\n",
      "        mouse_data_dict[specimen_id] = specimen_dict\n",
      "        \n",
      "        print(\"{} extracted\".format(item))\n",
      "        dfObj = pd.DataFrame(mouse_data_dict)\n",
      "        dfObj.to_csv('mouse_features_from_nwb2.csv')\n",
      "        \n",
      "    except urllib.error.HTTPError as err:\n",
      "        print(err.code)\n",
      "\n"
     ],
     "language": "python",
     "metadata": {},
     "outputs": [
      {
       "output_type": "stream",
       "stream": "stdout",
       "text": [
        "loading dataset into data structure...\n"
       ]
      },
      {
       "output_type": "stream",
       "stream": "stdout",
       "text": [
        "657048690.0 extracted\n",
        "loading dataset into data structure...\n"
       ]
      },
      {
       "output_type": "stream",
       "stream": "stdout",
       "text": [
        "657052370.0 extracted\n",
        "loading dataset into data structure...\n"
       ]
      },
      {
       "output_type": "stream",
       "stream": "stderr",
       "text": [
        "WARNING:root:sweep 15: ['Recording stopped before completing the experiment epoch']\n"
       ]
      },
      {
       "output_type": "stream",
       "stream": "stderr",
       "text": [
        "WARNING:root:sweep 16: ['Recording stopped before completing the experiment epoch']\n"
       ]
      },
      {
       "output_type": "stream",
       "stream": "stderr",
       "text": [
        "WARNING:root:sweep 17: ['Recording stopped before completing the experiment epoch']\n"
       ]
      },
      {
       "output_type": "stream",
       "stream": "stderr",
       "text": [
        "WARNING:root:sweep 18: ['Recording stopped before completing the experiment epoch']\n"
       ]
      },
      {
       "output_type": "stream",
       "stream": "stderr",
       "text": [
        "WARNING:root:sweep 19: ['Recording stopped before completing the experiment epoch']\n"
       ]
      },
      {
       "output_type": "stream",
       "stream": "stdout",
       "text": [
        "657052400.0 extracted\n",
        "loading dataset into data structure...\n"
       ]
      },
      {
       "output_type": "stream",
       "stream": "stderr",
       "text": [
        "WARNING:root:sweep 17: ['Recording stopped before completing the experiment epoch']\n"
       ]
      },
      {
       "output_type": "stream",
       "stream": "stderr",
       "text": [
        "WARNING:root:sweep 18: ['Recording stopped before completing the experiment epoch']\n"
       ]
      },
      {
       "output_type": "stream",
       "stream": "stderr",
       "text": [
        "WARNING:root:sweep 19: ['Recording stopped before completing the experiment epoch']\n"
       ]
      },
      {
       "output_type": "stream",
       "stream": "stderr",
       "text": [
        "WARNING:root:sweep 20: ['Recording stopped before completing the experiment epoch']\n"
       ]
      },
      {
       "output_type": "stream",
       "stream": "stderr",
       "text": [
        "WARNING:root:sweep 21: ['Recording stopped before completing the experiment epoch']\n"
       ]
      },
      {
       "output_type": "stream",
       "stream": "stdout",
       "text": [
        "657054571.0 extracted\n",
        "loading dataset into data structure...\n"
       ]
      },
      {
       "output_type": "stream",
       "stream": "stdout",
       "text": [
        "657179762.0 extracted\n",
        "loading dataset into data structure...\n"
       ]
      },
      {
       "output_type": "stream",
       "stream": "stderr",
       "text": [
        "WARNING:root:sweep 18: ['Recording stopped before completing the experiment epoch']\n"
       ]
      },
      {
       "output_type": "stream",
       "stream": "stderr",
       "text": [
        "WARNING:root:sweep 19: ['Recording stopped before completing the experiment epoch']\n"
       ]
      },
      {
       "output_type": "stream",
       "stream": "stderr",
       "text": [
        "WARNING:root:sweep 20: ['Recording stopped before completing the experiment epoch']\n"
       ]
      },
      {
       "output_type": "stream",
       "stream": "stderr",
       "text": [
        "WARNING:root:sweep 21: ['Recording stopped before completing the experiment epoch']\n"
       ]
      },
      {
       "output_type": "stream",
       "stream": "stderr",
       "text": [
        "WARNING:root:sweep 22: ['Recording stopped before completing the experiment epoch']\n"
       ]
      },
      {
       "output_type": "stream",
       "stream": "stdout",
       "text": [
        "657184390.0 extracted\n",
        "loading dataset into data structure...\n"
       ]
      },
      {
       "output_type": "stream",
       "stream": "stdout",
       "text": [
        "657185314.0 extracted\n",
        "loading dataset into data structure...\n"
       ]
      },
      {
       "output_type": "stream",
       "stream": "stderr",
       "text": [
        "WARNING:root:sweep 14: ['Recording stopped before completing the experiment epoch']\n"
       ]
      },
      {
       "output_type": "stream",
       "stream": "stderr",
       "text": [
        "/nethome/kcni/ychen/.local/lib/python3.6/site-packages/ipfx/spike_features.py:87: RuntimeWarning: invalid value encountered in less\n",
        "  width_levels[width_levels < v[spike_indexes]] = thresh_to_peak_levels[width_levels < v[spike_indexes]]\n"
       ]
      },
      {
       "output_type": "stream",
       "stream": "stdout",
       "text": [
        "657194483.0 extracted\n",
        "loading dataset into data structure...\n"
       ]
      },
      {
       "output_type": "stream",
       "stream": "stderr",
       "text": [
        "WARNING:root:sweep 11: ['Recording stopped before completing the experiment epoch']\n"
       ]
      },
      {
       "output_type": "stream",
       "stream": "stdout",
       "text": [
        "657304069.0 extracted\n",
        "loading dataset into data structure...\n"
       ]
      },
      {
       "output_type": "stream",
       "stream": "stdout",
       "text": [
        "657346185.0 extracted\n",
        "loading dataset into data structure...\n"
       ]
      },
      {
       "output_type": "stream",
       "stream": "stdout",
       "text": [
        "657364930.0 extracted\n",
        "loading dataset into data structure...\n"
       ]
      },
      {
       "output_type": "stream",
       "stream": "stdout",
       "text": [
        "657366321.0 extracted\n",
        "loading dataset into data structure...\n"
       ]
      },
      {
       "output_type": "stream",
       "stream": "stdout",
       "text": [
        "657382231.0 extracted\n",
        "loading dataset into data structure...\n"
       ]
      },
      {
       "output_type": "stream",
       "stream": "stderr",
       "text": [
        "WARNING:root:sweep 9: ['Recording stopped before completing the experiment epoch']\n"
       ]
      },
      {
       "output_type": "stream",
       "stream": "stdout",
       "text": [
        "657382503.0 extracted\n",
        "loading dataset into data structure...\n"
       ]
      },
      {
       "output_type": "stream",
       "stream": "stdout",
       "text": [
        "657442490.0 extracted\n",
        "loading dataset into data structure...\n"
       ]
      },
      {
       "output_type": "stream",
       "stream": "stdout",
       "text": [
        "657454163.0 extracted\n",
        "loading dataset into data structure...\n"
       ]
      },
      {
       "output_type": "stream",
       "stream": "stderr",
       "text": [
        "/nethome/kcni/ychen/.local/lib/python3.6/site-packages/ipfx/spike_features.py:87: RuntimeWarning: invalid value encountered in less\n",
        "  width_levels[width_levels < v[spike_indexes]] = thresh_to_peak_levels[width_levels < v[spike_indexes]]\n"
       ]
      },
      {
       "output_type": "stream",
       "stream": "stdout",
       "text": [
        "657532988.0 extracted\n",
        "loading dataset into data structure...\n"
       ]
      },
      {
       "output_type": "stream",
       "stream": "stdout",
       "text": [
        "657585527.0 extracted\n",
        "loading dataset into data structure...\n"
       ]
      },
      {
       "output_type": "stream",
       "stream": "stdout",
       "text": [
        "657660421.0 extracted\n",
        "loading dataset into data structure...\n"
       ]
      },
      {
       "output_type": "stream",
       "stream": "stdout",
       "text": [
        "657661639.0 extracted\n",
        "loading dataset into data structure...\n"
       ]
      },
      {
       "output_type": "stream",
       "stream": "stderr",
       "text": [
        "WARNING:root:sweep 22: ['Recording stopped before completing the experiment epoch']\n"
       ]
      },
      {
       "output_type": "stream",
       "stream": "stderr",
       "text": [
        "WARNING:root:sweep 23: ['Recording stopped before completing the experiment epoch']\n"
       ]
      },
      {
       "output_type": "stream",
       "stream": "stderr",
       "text": [
        "WARNING:root:sweep 24: ['Recording stopped before completing the experiment epoch']\n"
       ]
      },
      {
       "output_type": "stream",
       "stream": "stderr",
       "text": [
        "WARNING:root:sweep 25: ['Recording stopped before completing the experiment epoch']\n"
       ]
      },
      {
       "output_type": "stream",
       "stream": "stderr",
       "text": [
        "WARNING:root:sweep 26: ['Recording stopped before completing the experiment epoch']\n"
       ]
      },
      {
       "output_type": "stream",
       "stream": "stdout",
       "text": [
        "657661669.0 extracted\n",
        "loading dataset into data structure...\n"
       ]
      },
      {
       "output_type": "stream",
       "stream": "stdout",
       "text": [
        "657661984.0 extracted\n",
        "loading dataset into data structure...\n"
       ]
      },
      {
       "output_type": "stream",
       "stream": "stdout",
       "text": [
        "657673212.0 extracted\n",
        "loading dataset into data structure...\n"
       ]
      },
      {
       "output_type": "stream",
       "stream": "stdout",
       "text": [
        "657675788.0 extracted\n",
        "loading dataset into data structure...\n"
       ]
      },
      {
       "output_type": "stream",
       "stream": "stderr",
       "text": [
        "WARNING:root:sweep 27: ['Recording stopped before completing the experiment epoch']\n"
       ]
      },
      {
       "output_type": "stream",
       "stream": "stderr",
       "text": [
        "WARNING:root:sweep 28: ['Recording stopped before completing the experiment epoch']\n"
       ]
      },
      {
       "output_type": "stream",
       "stream": "stderr",
       "text": [
        "WARNING:root:sweep 29: ['Recording stopped before completing the experiment epoch']\n"
       ]
      },
      {
       "output_type": "stream",
       "stream": "stderr",
       "text": [
        "WARNING:root:sweep 30: ['Recording stopped before completing the experiment epoch']\n"
       ]
      },
      {
       "output_type": "stream",
       "stream": "stderr",
       "text": [
        "WARNING:root:sweep 31: ['Recording stopped before completing the experiment epoch']\n"
       ]
      },
      {
       "output_type": "stream",
       "stream": "stderr",
       "text": [
        "WARNING:root:sweep 32: ['Recording stopped before completing the experiment epoch']\n"
       ]
      },
      {
       "output_type": "stream",
       "stream": "stderr",
       "text": [
        "WARNING:root:sweep 33: ['Recording stopped before completing the experiment epoch']\n"
       ]
      },
      {
       "output_type": "stream",
       "stream": "stderr",
       "text": [
        "/nethome/kcni/ychen/.local/lib/python3.6/site-packages/ipfx/spike_features.py:87: RuntimeWarning: invalid value encountered in less\n",
        "  width_levels[width_levels < v[spike_indexes]] = thresh_to_peak_levels[width_levels < v[spike_indexes]]\n"
       ]
      },
      {
       "output_type": "stream",
       "stream": "stdout",
       "text": [
        "657676265.0 extracted\n",
        "loading dataset into data structure...\n"
       ]
      },
      {
       "output_type": "stream",
       "stream": "stdout",
       "text": [
        "657725630.0 extracted\n",
        "loading dataset into data structure...\n"
       ]
      },
      {
       "output_type": "stream",
       "stream": "stdout",
       "text": [
        "657727121.0 extracted\n",
        "loading dataset into data structure...\n"
       ]
      },
      {
       "output_type": "stream",
       "stream": "stdout",
       "text": [
        "657830169.0 extracted\n",
        "loading dataset into data structure...\n"
       ]
      },
      {
       "output_type": "stream",
       "stream": "stdout",
       "text": [
        "657835250.0 extracted\n",
        "loading dataset into data structure...\n"
       ]
      },
      {
       "output_type": "stream",
       "stream": "stdout",
       "text": [
        "657848681.0 extracted\n",
        "loading dataset into data structure...\n"
       ]
      },
      {
       "output_type": "stream",
       "stream": "stderr",
       "text": [
        "WARNING:root:sweep 24: ['Recording stopped before completing the experiment epoch']\n"
       ]
      },
      {
       "output_type": "stream",
       "stream": "stderr",
       "text": [
        "WARNING:root:sweep 25: ['Recording stopped before completing the experiment epoch']\n"
       ]
      },
      {
       "output_type": "stream",
       "stream": "stderr",
       "text": [
        "WARNING:root:sweep 26: ['Recording stopped before completing the experiment epoch']\n"
       ]
      },
      {
       "output_type": "stream",
       "stream": "stderr",
       "text": [
        "WARNING:root:sweep 27: ['Recording stopped before completing the experiment epoch']\n"
       ]
      },
      {
       "output_type": "stream",
       "stream": "stderr",
       "text": [
        "WARNING:root:sweep 28: ['Recording stopped before completing the experiment epoch']\n"
       ]
      },
      {
       "output_type": "stream",
       "stream": "stderr",
       "text": [
        "WARNING:root:sweep 29: ['Recording stopped before completing the experiment epoch']\n"
       ]
      },
      {
       "output_type": "stream",
       "stream": "stdout",
       "text": [
        "657857340.0 extracted\n",
        "loading dataset into data structure...\n"
       ]
      },
      {
       "output_type": "stream",
       "stream": "stderr",
       "text": [
        "/nethome/kcni/ychen/.local/lib/python3.6/site-packages/ipfx/spike_features.py:87: RuntimeWarning: invalid value encountered in less\n",
        "  width_levels[width_levels < v[spike_indexes]] = thresh_to_peak_levels[width_levels < v[spike_indexes]]\n"
       ]
      },
      {
       "output_type": "stream",
       "stream": "stdout",
       "text": [
        "657857431.0 extracted\n",
        "loading dataset into data structure...\n"
       ]
      },
      {
       "output_type": "stream",
       "stream": "stderr",
       "text": [
        "WARNING:root:sweep 17: ['Recording stopped before completing the experiment epoch']\n"
       ]
      },
      {
       "output_type": "stream",
       "stream": "stderr",
       "text": [
        "WARNING:root:sweep 18: ['Recording stopped before completing the experiment epoch']\n"
       ]
      },
      {
       "output_type": "stream",
       "stream": "stderr",
       "text": [
        "WARNING:root:sweep 19: ['Recording stopped before completing the experiment epoch']\n"
       ]
      },
      {
       "output_type": "stream",
       "stream": "stderr",
       "text": [
        "WARNING:root:sweep 20: ['Recording stopped before completing the experiment epoch']\n"
       ]
      },
      {
       "output_type": "stream",
       "stream": "stderr",
       "text": [
        "WARNING:root:sweep 21: ['Recording stopped before completing the experiment epoch']\n"
       ]
      },
      {
       "output_type": "stream",
       "stream": "stdout",
       "text": [
        "657857908.0 extracted\n",
        "loading dataset into data structure...\n"
       ]
      },
      {
       "output_type": "stream",
       "stream": "stderr",
       "text": [
        "WARNING:root:sweep 26: ['Recording stopped before completing the experiment epoch']\n"
       ]
      },
      {
       "output_type": "stream",
       "stream": "stderr",
       "text": [
        "WARNING:root:sweep 27: ['Recording stopped before completing the experiment epoch']\n"
       ]
      },
      {
       "output_type": "stream",
       "stream": "stderr",
       "text": [
        "WARNING:root:sweep 28: ['Recording stopped before completing the experiment epoch']\n"
       ]
      },
      {
       "output_type": "stream",
       "stream": "stderr",
       "text": [
        "WARNING:root:sweep 29: ['Recording stopped before completing the experiment epoch']\n"
       ]
      },
      {
       "output_type": "stream",
       "stream": "stderr",
       "text": [
        "WARNING:root:sweep 30: ['Recording stopped before completing the experiment epoch']\n"
       ]
      },
      {
       "output_type": "stream",
       "stream": "stderr",
       "text": [
        "WARNING:root:sweep 31: ['Recording stopped before completing the experiment epoch']\n"
       ]
      },
      {
       "output_type": "stream",
       "stream": "stdout",
       "text": [
        "657858349.0 extracted\n",
        "loading dataset into data structure...\n"
       ]
      },
      {
       "output_type": "stream",
       "stream": "stderr",
       "text": [
        "WARNING:root:sweep 17: ['Recording stopped before completing the experiment epoch']\n"
       ]
      },
      {
       "output_type": "stream",
       "stream": "stderr",
       "text": [
        "WARNING:root:sweep 18: ['Recording stopped before completing the experiment epoch']\n"
       ]
      },
      {
       "output_type": "stream",
       "stream": "stderr",
       "text": [
        "WARNING:root:sweep 19: ['Recording stopped before completing the experiment epoch']\n"
       ]
      },
      {
       "output_type": "stream",
       "stream": "stderr",
       "text": [
        "WARNING:root:sweep 20: ['Recording stopped before completing the experiment epoch']\n"
       ]
      },
      {
       "output_type": "stream",
       "stream": "stderr",
       "text": [
        "WARNING:root:sweep 21: ['Recording stopped before completing the experiment epoch']\n"
       ]
      },
      {
       "output_type": "stream",
       "stream": "stderr",
       "text": [
        "WARNING:root:sweep 31: ['Recording stopped before completing the experiment epoch']\n"
       ]
      },
      {
       "output_type": "stream",
       "stream": "stdout",
       "text": [
        "657858379.0 extracted\n",
        "loading dataset into data structure...\n"
       ]
      },
      {
       "output_type": "stream",
       "stream": "stderr",
       "text": [
        "WARNING:root:sweep 19: ['Recording stopped before completing the experiment epoch']\n"
       ]
      },
      {
       "output_type": "stream",
       "stream": "stderr",
       "text": [
        "WARNING:root:sweep 20: ['Recording stopped before completing the experiment epoch']\n"
       ]
      },
      {
       "output_type": "stream",
       "stream": "stderr",
       "text": [
        "WARNING:root:sweep 21: ['Recording stopped before completing the experiment epoch']\n"
       ]
      },
      {
       "output_type": "stream",
       "stream": "stderr",
       "text": [
        "WARNING:root:sweep 22: ['Recording stopped before completing the experiment epoch']\n"
       ]
      },
      {
       "output_type": "stream",
       "stream": "stderr",
       "text": [
        "WARNING:root:sweep 23: ['Recording stopped before completing the experiment epoch']\n"
       ]
      },
      {
       "output_type": "stream",
       "stream": "stderr",
       "text": [
        "/nethome/kcni/ychen/.local/lib/python3.6/site-packages/ipfx/spike_features.py:87: RuntimeWarning: invalid value encountered in less\n",
        "  width_levels[width_levels < v[spike_indexes]] = thresh_to_peak_levels[width_levels < v[spike_indexes]]\n"
       ]
      },
      {
       "output_type": "stream",
       "stream": "stdout",
       "text": [
        "657859005.0 extracted\n",
        "loading dataset into data structure...\n"
       ]
      },
      {
       "output_type": "stream",
       "stream": "stdout",
       "text": [
        "657859611.0 extracted\n",
        "loading dataset into data structure...\n"
       ]
      },
      {
       "output_type": "stream",
       "stream": "stdout",
       "text": [
        "657860437.0 extracted\n",
        "loading dataset into data structure...\n"
       ]
      },
      {
       "output_type": "stream",
       "stream": "stderr",
       "text": [
        "WARNING:root:sweep 24: ['Recording stopped before completing the experiment epoch']\n"
       ]
      },
      {
       "output_type": "stream",
       "stream": "stderr",
       "text": [
        "WARNING:root:sweep 25: ['Recording stopped before completing the experiment epoch']\n"
       ]
      },
      {
       "output_type": "stream",
       "stream": "stderr",
       "text": [
        "WARNING:root:sweep 26: ['Recording stopped before completing the experiment epoch']\n"
       ]
      },
      {
       "output_type": "stream",
       "stream": "stderr",
       "text": [
        "WARNING:root:sweep 27: ['Recording stopped before completing the experiment epoch']\n"
       ]
      },
      {
       "output_type": "stream",
       "stream": "stderr",
       "text": [
        "WARNING:root:sweep 28: ['Recording stopped before completing the experiment epoch']\n"
       ]
      },
      {
       "output_type": "stream",
       "stream": "stdout",
       "text": [
        "657862091.0 extracted\n",
        "loading dataset into data structure...\n"
       ]
      },
      {
       "output_type": "stream",
       "stream": "stderr",
       "text": [
        "/nethome/kcni/ychen/.local/lib/python3.6/site-packages/ipfx/spike_features.py:87: RuntimeWarning: invalid value encountered in less\n",
        "  width_levels[width_levels < v[spike_indexes]] = thresh_to_peak_levels[width_levels < v[spike_indexes]]\n"
       ]
      },
      {
       "output_type": "stream",
       "stream": "stdout",
       "text": [
        "657926526.0 extracted\n",
        "loading dataset into data structure...\n"
       ]
      },
      {
       "output_type": "stream",
       "stream": "stdout",
       "text": [
        "657926790.0 extracted\n",
        "loading dataset into data structure...\n"
       ]
      },
      {
       "output_type": "stream",
       "stream": "stdout",
       "text": [
        "657945461.0 extracted\n",
        "loading dataset into data structure...\n"
       ]
      },
      {
       "output_type": "stream",
       "stream": "stderr",
       "text": [
        "WARNING:root:sweep 22: ['Recording stopped before completing the experiment epoch']\n"
       ]
      },
      {
       "output_type": "stream",
       "stream": "stderr",
       "text": [
        "WARNING:root:sweep 23: ['Recording stopped before completing the experiment epoch']\n"
       ]
      },
      {
       "output_type": "stream",
       "stream": "stderr",
       "text": [
        "WARNING:root:sweep 24: ['Recording stopped before completing the experiment epoch']\n"
       ]
      },
      {
       "output_type": "stream",
       "stream": "stderr",
       "text": [
        "WARNING:root:sweep 25: ['Recording stopped before completing the experiment epoch']\n"
       ]
      },
      {
       "output_type": "stream",
       "stream": "stderr",
       "text": [
        "WARNING:root:sweep 26: ['Recording stopped before completing the experiment epoch']\n"
       ]
      },
      {
       "output_type": "stream",
       "stream": "stderr",
       "text": [
        "WARNING:root:sweep 27: ['Recording stopped before completing the experiment epoch']\n"
       ]
      },
      {
       "output_type": "stream",
       "stream": "stderr",
       "text": [
        "WARNING:root:sweep 31: ['Recording stopped before completing the experiment epoch']\n"
       ]
      },
      {
       "output_type": "stream",
       "stream": "stderr",
       "text": [
        "WARNING:root:sweep 37: ['Recording stopped before completing the experiment epoch']\n"
       ]
      },
      {
       "output_type": "stream",
       "stream": "stdout",
       "text": [
        "657959108.0 extracted\n",
        "loading dataset into data structure...\n"
       ]
      },
      {
       "output_type": "stream",
       "stream": "stdout",
       "text": [
        "657959536.0 extracted\n",
        "loading dataset into data structure...\n"
       ]
      },
      {
       "output_type": "stream",
       "stream": "stderr",
       "text": [
        "WARNING:root:sweep 27: ['Recording stopped before completing the experiment epoch']\n"
       ]
      },
      {
       "output_type": "stream",
       "stream": "stderr",
       "text": [
        "WARNING:root:sweep 28: ['Recording stopped before completing the experiment epoch']\n"
       ]
      },
      {
       "output_type": "stream",
       "stream": "stderr",
       "text": [
        "WARNING:root:sweep 29: ['Recording stopped before completing the experiment epoch']\n"
       ]
      },
      {
       "output_type": "stream",
       "stream": "stderr",
       "text": [
        "WARNING:root:sweep 30: ['Recording stopped before completing the experiment epoch']\n"
       ]
      },
      {
       "output_type": "stream",
       "stream": "stderr",
       "text": [
        "WARNING:root:sweep 31: ['Recording stopped before completing the experiment epoch']\n"
       ]
      },
      {
       "output_type": "stream",
       "stream": "stderr",
       "text": [
        "/nethome/kcni/ychen/.local/lib/python3.6/site-packages/ipfx/spike_features.py:87: RuntimeWarning: invalid value encountered in less\n",
        "  width_levels[width_levels < v[spike_indexes]] = thresh_to_peak_levels[width_levels < v[spike_indexes]]\n"
       ]
      },
      {
       "output_type": "stream",
       "stream": "stdout",
       "text": [
        "657966095.0 extracted\n",
        "loading dataset into data structure...\n"
       ]
      },
      {
       "output_type": "stream",
       "stream": "stdout",
       "text": [
        "657982828.0 extracted\n",
        "loading dataset into data structure...\n"
       ]
      },
      {
       "output_type": "stream",
       "stream": "stdout",
       "text": [
        "657983207.0 extracted\n",
        "loading dataset into data structure...\n"
       ]
      },
      {
       "output_type": "stream",
       "stream": "stdout",
       "text": [
        "657984445.0 extracted\n",
        "loading dataset into data structure...\n"
       ]
      },
      {
       "output_type": "stream",
       "stream": "stderr",
       "text": [
        "WARNING:root:sweep 20: ['Recording stopped before completing the experiment epoch']\n"
       ]
      },
      {
       "output_type": "stream",
       "stream": "stderr",
       "text": [
        "WARNING:root:sweep 21: ['Recording stopped before completing the experiment epoch']\n"
       ]
      },
      {
       "output_type": "stream",
       "stream": "stderr",
       "text": [
        "WARNING:root:sweep 22: ['Recording stopped before completing the experiment epoch']\n"
       ]
      },
      {
       "output_type": "stream",
       "stream": "stderr",
       "text": [
        "WARNING:root:sweep 23: ['Recording stopped before completing the experiment epoch']\n"
       ]
      },
      {
       "output_type": "stream",
       "stream": "stderr",
       "text": [
        "WARNING:root:sweep 24: ['Recording stopped before completing the experiment epoch']\n"
       ]
      },
      {
       "output_type": "stream",
       "stream": "stderr",
       "text": [
        "/nethome/kcni/ychen/.local/lib/python3.6/site-packages/ipfx/spike_features.py:87: RuntimeWarning: invalid value encountered in less\n",
        "  width_levels[width_levels < v[spike_indexes]] = thresh_to_peak_levels[width_levels < v[spike_indexes]]\n"
       ]
      },
      {
       "output_type": "stream",
       "stream": "stdout",
       "text": [
        "657984709.0 extracted\n",
        "loading dataset into data structure...\n"
       ]
      },
      {
       "output_type": "stream",
       "stream": "stderr",
       "text": [
        "WARNING:root:sweep 20: ['Recording stopped before completing the experiment epoch']\n"
       ]
      },
      {
       "output_type": "stream",
       "stream": "stderr",
       "text": [
        "WARNING:root:sweep 21: ['Recording stopped before completing the experiment epoch']\n"
       ]
      },
      {
       "output_type": "stream",
       "stream": "stderr",
       "text": [
        "WARNING:root:sweep 22: ['Recording stopped before completing the experiment epoch']\n"
       ]
      },
      {
       "output_type": "stream",
       "stream": "stderr",
       "text": [
        "WARNING:root:sweep 23: ['Recording stopped before completing the experiment epoch']\n"
       ]
      },
      {
       "output_type": "stream",
       "stream": "stderr",
       "text": [
        "WARNING:root:sweep 24: ['Recording stopped before completing the experiment epoch']\n"
       ]
      },
      {
       "output_type": "stream",
       "stream": "stdout",
       "text": [
        "657985196.0 extracted\n",
        "loading dataset into data structure...\n"
       ]
      },
      {
       "output_type": "stream",
       "stream": "stderr",
       "text": [
        "/nethome/kcni/ychen/.local/lib/python3.6/site-packages/ipfx/spike_features.py:87: RuntimeWarning: invalid value encountered in less\n",
        "  width_levels[width_levels < v[spike_indexes]] = thresh_to_peak_levels[width_levels < v[spike_indexes]]\n"
       ]
      },
      {
       "output_type": "stream",
       "stream": "stdout",
       "text": [
        "657985245.0 extracted\n",
        "loading dataset into data structure...\n"
       ]
      },
      {
       "output_type": "stream",
       "stream": "stdout",
       "text": [
        "657986352.0 extracted\n",
        "loading dataset into data structure...\n"
       ]
      },
      {
       "output_type": "stream",
       "stream": "stderr",
       "text": [
        "WARNING:root:sweep 20: ['Recording stopped before completing the experiment epoch']\n"
       ]
      },
      {
       "output_type": "stream",
       "stream": "stderr",
       "text": [
        "WARNING:root:sweep 21: ['Recording stopped before completing the experiment epoch']\n"
       ]
      },
      {
       "output_type": "stream",
       "stream": "stderr",
       "text": [
        "WARNING:root:sweep 22: ['Recording stopped before completing the experiment epoch']\n"
       ]
      },
      {
       "output_type": "stream",
       "stream": "stderr",
       "text": [
        "WARNING:root:sweep 23: ['Recording stopped before completing the experiment epoch']\n"
       ]
      },
      {
       "output_type": "stream",
       "stream": "stderr",
       "text": [
        "WARNING:root:sweep 24: ['Recording stopped before completing the experiment epoch']\n"
       ]
      },
      {
       "output_type": "stream",
       "stream": "stdout",
       "text": [
        "657999088.0 extracted\n",
        "loading dataset into data structure...\n"
       ]
      },
      {
       "output_type": "stream",
       "stream": "stderr",
       "text": [
        "WARNING:root:sweep 25: ['Recording stopped before completing the experiment epoch']\n"
       ]
      },
      {
       "output_type": "stream",
       "stream": "stderr",
       "text": [
        "WARNING:root:sweep 26: ['Recording stopped before completing the experiment epoch']\n"
       ]
      },
      {
       "output_type": "stream",
       "stream": "stderr",
       "text": [
        "WARNING:root:sweep 27: ['Recording stopped before completing the experiment epoch']\n"
       ]
      },
      {
       "output_type": "stream",
       "stream": "stderr",
       "text": [
        "WARNING:root:sweep 28: ['Recording stopped before completing the experiment epoch']\n"
       ]
      },
      {
       "output_type": "stream",
       "stream": "stderr",
       "text": [
        "WARNING:root:sweep 29: ['Recording stopped before completing the experiment epoch']\n"
       ]
      },
      {
       "output_type": "stream",
       "stream": "stdout",
       "text": [
        "658012080.0 extracted\n",
        "loading dataset into data structure...\n"
       ]
      },
      {
       "output_type": "stream",
       "stream": "stderr",
       "text": [
        "WARNING:root:sweep 22: ['Recording stopped before completing the experiment epoch']\n"
       ]
      },
      {
       "output_type": "stream",
       "stream": "stderr",
       "text": [
        "WARNING:root:sweep 23: ['Recording stopped before completing the experiment epoch']\n"
       ]
      },
      {
       "output_type": "stream",
       "stream": "stderr",
       "text": [
        "WARNING:root:sweep 24: ['Recording stopped before completing the experiment epoch']\n"
       ]
      },
      {
       "output_type": "stream",
       "stream": "stderr",
       "text": [
        "WARNING:root:sweep 25: ['Recording stopped before completing the experiment epoch']\n"
       ]
      },
      {
       "output_type": "stream",
       "stream": "stderr",
       "text": [
        "WARNING:root:sweep 26: ['Recording stopped before completing the experiment epoch']\n"
       ]
      },
      {
       "output_type": "stream",
       "stream": "stderr",
       "text": [
        "WARNING:root:sweep 27: ['Recording stopped before completing the experiment epoch']\n"
       ]
      },
      {
       "output_type": "stream",
       "stream": "stderr",
       "text": [
        "WARNING:root:sweep 28: ['Recording stopped before completing the experiment epoch']\n"
       ]
      },
      {
       "output_type": "stream",
       "stream": "stdout",
       "text": [
        "658019448.0 extracted\n",
        "loading dataset into data structure...\n"
       ]
      },
      {
       "output_type": "stream",
       "stream": "stdout",
       "text": [
        "658061248.0 extracted\n",
        "loading dataset into data structure...\n"
       ]
      },
      {
       "output_type": "stream",
       "stream": "stdout",
       "text": [
        "658068133.0 extracted\n",
        "loading dataset into data structure...\n"
       ]
      },
      {
       "output_type": "stream",
       "stream": "stderr",
       "text": [
        "/nethome/kcni/ychen/.local/lib/python3.6/site-packages/ipfx/spike_features.py:87: RuntimeWarning: invalid value encountered in less\n",
        "  width_levels[width_levels < v[spike_indexes]] = thresh_to_peak_levels[width_levels < v[spike_indexes]]\n"
       ]
      },
      {
       "output_type": "stream",
       "stream": "stdout",
       "text": [
        "658073734.0 extracted\n",
        "loading dataset into data structure...\n"
       ]
      },
      {
       "output_type": "stream",
       "stream": "stderr",
       "text": [
        "/nethome/kcni/ychen/.local/lib/python3.6/site-packages/ipfx/spike_features.py:87: RuntimeWarning: invalid value encountered in less\n",
        "  width_levels[width_levels < v[spike_indexes]] = thresh_to_peak_levels[width_levels < v[spike_indexes]]\n"
       ]
      },
      {
       "output_type": "stream",
       "stream": "stdout",
       "text": [
        "658075752.0 extracted\n",
        "loading dataset into data structure...\n"
       ]
      },
      {
       "output_type": "stream",
       "stream": "stderr",
       "text": [
        "WARNING:root:sweep 17: ['Recording stopped before completing the experiment epoch']\n"
       ]
      },
      {
       "output_type": "stream",
       "stream": "stderr",
       "text": [
        "WARNING:root:sweep 18: ['Recording stopped before completing the experiment epoch']\n"
       ]
      },
      {
       "output_type": "stream",
       "stream": "stderr",
       "text": [
        "WARNING:root:sweep 19: ['Recording stopped before completing the experiment epoch']\n"
       ]
      },
      {
       "output_type": "stream",
       "stream": "stderr",
       "text": [
        "WARNING:root:sweep 20: ['Recording stopped before completing the experiment epoch']\n"
       ]
      },
      {
       "output_type": "stream",
       "stream": "stderr",
       "text": [
        "WARNING:root:sweep 21: ['Recording stopped before completing the experiment epoch']\n"
       ]
      },
      {
       "output_type": "stream",
       "stream": "stdout",
       "text": [
        "658089840.0 extracted\n",
        "loading dataset into data structure...\n"
       ]
      },
      {
       "output_type": "stream",
       "stream": "stdout",
       "text": [
        "658097786.0 extracted\n",
        "loading dataset into data structure...\n"
       ]
      },
      {
       "output_type": "stream",
       "stream": "stdout",
       "text": [
        "658103346.0 extracted\n",
        "loading dataset into data structure...\n"
       ]
      },
      {
       "output_type": "stream",
       "stream": "stdout",
       "text": [
        "658124114.0 extracted\n",
        "loading dataset into data structure...\n"
       ]
      },
      {
       "output_type": "stream",
       "stream": "stderr",
       "text": [
        "/nethome/kcni/ychen/.local/lib/python3.6/site-packages/ipfx/spike_features.py:87: RuntimeWarning: invalid value encountered in less\n",
        "  width_levels[width_levels < v[spike_indexes]] = thresh_to_peak_levels[width_levels < v[spike_indexes]]\n"
       ]
      },
      {
       "output_type": "stream",
       "stream": "stdout",
       "text": [
        "658139545.0 extracted\n",
        "loading dataset into data structure...\n"
       ]
      },
      {
       "output_type": "stream",
       "stream": "stderr",
       "text": [
        "WARNING:root:sweep 23: ['Recording stopped before completing the experiment epoch']\n"
       ]
      },
      {
       "output_type": "stream",
       "stream": "stderr",
       "text": [
        "WARNING:root:sweep 24: ['Recording stopped before completing the experiment epoch']\n"
       ]
      },
      {
       "output_type": "stream",
       "stream": "stderr",
       "text": [
        "WARNING:root:sweep 25: ['Recording stopped before completing the experiment epoch']\n"
       ]
      },
      {
       "output_type": "stream",
       "stream": "stderr",
       "text": [
        "WARNING:root:sweep 26: ['Recording stopped before completing the experiment epoch']\n"
       ]
      },
      {
       "output_type": "stream",
       "stream": "stderr",
       "text": [
        "WARNING:root:sweep 27: ['Recording stopped before completing the experiment epoch']\n"
       ]
      },
      {
       "output_type": "stream",
       "stream": "stderr",
       "text": [
        "WARNING:root:sweep 28: ['Recording stopped before completing the experiment epoch']\n"
       ]
      },
      {
       "output_type": "stream",
       "stream": "stdout",
       "text": [
        "658139862.0 extracted\n",
        "loading dataset into data structure...\n"
       ]
      },
      {
       "output_type": "stream",
       "stream": "stdout",
       "text": [
        "658279826.0 extracted\n",
        "loading dataset into data structure...\n"
       ]
      },
      {
       "output_type": "stream",
       "stream": "stdout",
       "text": [
        "658370407.0 extracted\n",
        "loading dataset into data structure...\n"
       ]
      },
      {
       "output_type": "stream",
       "stream": "stdout",
       "text": [
        "658411218.0 extracted\n",
        "loading dataset into data structure...\n"
       ]
      },
      {
       "output_type": "stream",
       "stream": "stdout",
       "text": [
        "658414952.0 extracted\n",
        "loading dataset into data structure...\n"
       ]
      },
      {
       "output_type": "stream",
       "stream": "stderr",
       "text": [
        "/nethome/kcni/ychen/.local/lib/python3.6/site-packages/ipfx/spike_features.py:87: RuntimeWarning: invalid value encountered in less\n",
        "  width_levels[width_levels < v[spike_indexes]] = thresh_to_peak_levels[width_levels < v[spike_indexes]]\n"
       ]
      },
      {
       "output_type": "stream",
       "stream": "stdout",
       "text": [
        "658418858.0 extracted\n",
        "loading dataset into data structure...\n"
       ]
      },
      {
       "output_type": "stream",
       "stream": "stdout",
       "text": [
        "658424080.0 extracted\n",
        "loading dataset into data structure...\n"
       ]
      },
      {
       "output_type": "stream",
       "stream": "stdout",
       "text": [
        "658435131.0 extracted\n",
        "loading dataset into data structure...\n"
       ]
      },
      {
       "output_type": "stream",
       "stream": "stdout",
       "text": [
        "658441785.0 extracted\n",
        "loading dataset into data structure...\n"
       ]
      },
      {
       "output_type": "stream",
       "stream": "stderr",
       "text": [
        "WARNING:root:sweep 18: ['Recording stopped before completing the experiment epoch']\n"
       ]
      },
      {
       "output_type": "stream",
       "stream": "stderr",
       "text": [
        "WARNING:root:sweep 19: ['Recording stopped before completing the experiment epoch']\n"
       ]
      },
      {
       "output_type": "stream",
       "stream": "stderr",
       "text": [
        "WARNING:root:sweep 20: ['Recording stopped before completing the experiment epoch']\n"
       ]
      },
      {
       "output_type": "stream",
       "stream": "stderr",
       "text": [
        "WARNING:root:sweep 21: ['Recording stopped before completing the experiment epoch']\n"
       ]
      },
      {
       "output_type": "stream",
       "stream": "stderr",
       "text": [
        "WARNING:root:sweep 22: ['Recording stopped before completing the experiment epoch']\n"
       ]
      },
      {
       "output_type": "stream",
       "stream": "stdout",
       "text": [
        "658447323.0 extracted\n",
        "loading dataset into data structure...\n"
       ]
      },
      {
       "output_type": "stream",
       "stream": "stdout",
       "text": [
        "658448573.0 extracted\n",
        "loading dataset into data structure...\n"
       ]
      },
      {
       "output_type": "stream",
       "stream": "stdout",
       "text": [
        "658448683.0 extracted\n",
        "loading dataset into data structure...\n"
       ]
      },
      {
       "output_type": "stream",
       "stream": "stdout",
       "text": [
        "658470462.0 extracted\n",
        "loading dataset into data structure...\n"
       ]
      },
      {
       "output_type": "stream",
       "stream": "stderr",
       "text": [
        "/nethome/kcni/ychen/.local/lib/python3.6/site-packages/ipfx/spike_features.py:87: RuntimeWarning: invalid value encountered in less\n",
        "  width_levels[width_levels < v[spike_indexes]] = thresh_to_peak_levels[width_levels < v[spike_indexes]]\n"
       ]
      },
      {
       "output_type": "stream",
       "stream": "stdout",
       "text": [
        "658477694.0 extracted\n",
        "loading dataset into data structure...\n"
       ]
      },
      {
       "output_type": "stream",
       "stream": "stderr",
       "text": [
        "/nethome/kcni/ychen/.local/lib/python3.6/site-packages/ipfx/spike_features.py:87: RuntimeWarning: invalid value encountered in less\n",
        "  width_levels[width_levels < v[spike_indexes]] = thresh_to_peak_levels[width_levels < v[spike_indexes]]\n"
       ]
      },
      {
       "output_type": "stream",
       "stream": "stdout",
       "text": [
        "658603337.0 extracted\n",
        "loading dataset into data structure...\n"
       ]
      },
      {
       "output_type": "stream",
       "stream": "stdout",
       "text": [
        "658603411.0 extracted\n",
        "loading dataset into data structure...\n"
       ]
      },
      {
       "output_type": "stream",
       "stream": "stdout",
       "text": [
        "658604834.0 extracted\n",
        "loading dataset into data structure...\n"
       ]
      },
      {
       "output_type": "stream",
       "stream": "stderr",
       "text": [
        "WARNING:root:sweep 42: ['Recording stopped before completing the experiment epoch']\n"
       ]
      },
      {
       "output_type": "stream",
       "stream": "stderr",
       "text": [
        "WARNING:root:sweep 43: ['Recording stopped before completing the experiment epoch']\n"
       ]
      },
      {
       "output_type": "stream",
       "stream": "stderr",
       "text": [
        "WARNING:root:sweep 44: ['Recording stopped before completing the experiment epoch']\n"
       ]
      },
      {
       "output_type": "stream",
       "stream": "stderr",
       "text": [
        "WARNING:root:sweep 45: ['Recording stopped before completing the experiment epoch']\n"
       ]
      },
      {
       "output_type": "stream",
       "stream": "stderr",
       "text": [
        "WARNING:root:sweep 46: ['Recording stopped before completing the experiment epoch']\n"
       ]
      },
      {
       "output_type": "stream",
       "stream": "stderr",
       "text": [
        "WARNING:root:sweep 47: ['Recording stopped before completing the experiment epoch']\n"
       ]
      },
      {
       "output_type": "stream",
       "stream": "stderr",
       "text": [
        "WARNING:root:sweep 48: ['Recording stopped before completing the experiment epoch']\n"
       ]
      },
      {
       "output_type": "stream",
       "stream": "stderr",
       "text": [
        "/nethome/kcni/ychen/.local/lib/python3.6/site-packages/ipfx/spike_features.py:87: RuntimeWarning: invalid value encountered in less\n",
        "  width_levels[width_levels < v[spike_indexes]] = thresh_to_peak_levels[width_levels < v[spike_indexes]]\n"
       ]
      },
      {
       "output_type": "stream",
       "stream": "stdout",
       "text": [
        "658616147.0 extracted\n",
        "loading dataset into data structure...\n"
       ]
      },
      {
       "output_type": "stream",
       "stream": "stderr",
       "text": [
        "WARNING:root:sweep 31: ['Recording stopped before completing the experiment epoch']\n"
       ]
      },
      {
       "output_type": "stream",
       "stream": "stderr",
       "text": [
        "WARNING:root:sweep 32: ['Recording stopped before completing the experiment epoch']\n"
       ]
      },
      {
       "output_type": "stream",
       "stream": "stderr",
       "text": [
        "WARNING:root:sweep 33: ['Recording stopped before completing the experiment epoch']\n"
       ]
      },
      {
       "output_type": "stream",
       "stream": "stderr",
       "text": [
        "WARNING:root:sweep 34: ['Recording stopped before completing the experiment epoch']\n"
       ]
      },
      {
       "output_type": "stream",
       "stream": "stderr",
       "text": [
        "WARNING:root:sweep 35: ['Recording stopped before completing the experiment epoch']\n"
       ]
      },
      {
       "output_type": "stream",
       "stream": "stderr",
       "text": [
        "WARNING:root:sweep 36: ['Recording stopped before completing the experiment epoch']\n"
       ]
      },
      {
       "output_type": "stream",
       "stream": "stderr",
       "text": [
        "WARNING:root:sweep 37: ['Recording stopped before completing the experiment epoch']\n"
       ]
      },
      {
       "output_type": "stream",
       "stream": "stdout",
       "text": [
        "658951514.0 extracted\n",
        "loading dataset into data structure...\n"
       ]
      },
      {
       "output_type": "stream",
       "stream": "stdout",
       "text": [
        "659012847.0 extracted\n",
        "loading dataset into data structure...\n"
       ]
      },
      {
       "output_type": "stream",
       "stream": "stderr",
       "text": [
        "WARNING:root:sweep 27: ['Recording stopped before completing the experiment epoch']\n"
       ]
      },
      {
       "output_type": "stream",
       "stream": "stderr",
       "text": [
        "WARNING:root:sweep 28: ['Recording stopped before completing the experiment epoch']\n"
       ]
      },
      {
       "output_type": "stream",
       "stream": "stderr",
       "text": [
        "WARNING:root:sweep 29: ['Recording stopped before completing the experiment epoch']\n"
       ]
      },
      {
       "output_type": "stream",
       "stream": "stderr",
       "text": [
        "WARNING:root:sweep 30: ['Recording stopped before completing the experiment epoch']\n"
       ]
      },
      {
       "output_type": "stream",
       "stream": "stderr",
       "text": [
        "WARNING:root:sweep 31: ['Recording stopped before completing the experiment epoch']\n"
       ]
      },
      {
       "output_type": "stream",
       "stream": "stderr",
       "text": [
        "WARNING:root:sweep 32: ['Recording stopped before completing the experiment epoch']\n"
       ]
      },
      {
       "output_type": "stream",
       "stream": "stderr",
       "text": [
        "WARNING:root:sweep 33: ['Recording stopped before completing the experiment epoch']\n"
       ]
      },
      {
       "output_type": "stream",
       "stream": "stdout",
       "text": [
        "659056830.0 extracted\n",
        "loading dataset into data structure...\n"
       ]
      },
      {
       "output_type": "stream",
       "stream": "stderr",
       "text": [
        "/nethome/kcni/ychen/.local/lib/python3.6/site-packages/ipfx/spike_features.py:87: RuntimeWarning: invalid value encountered in less\n",
        "  width_levels[width_levels < v[spike_indexes]] = thresh_to_peak_levels[width_levels < v[spike_indexes]]\n"
       ]
      },
      {
       "output_type": "stream",
       "stream": "stdout",
       "text": [
        "659095706.0 extracted\n",
        "loading dataset into data structure...\n"
       ]
      },
      {
       "output_type": "stream",
       "stream": "stdout",
       "text": [
        "659112983.0 extracted\n",
        "loading dataset into data structure...\n"
       ]
      },
      {
       "output_type": "stream",
       "stream": "stdout",
       "text": [
        "659134440.0 extracted\n",
        "loading dataset into data structure...\n"
       ]
      },
      {
       "output_type": "stream",
       "stream": "stdout",
       "text": [
        "659141131.0 extracted\n",
        "loading dataset into data structure...\n"
       ]
      },
      {
       "output_type": "stream",
       "stream": "stderr",
       "text": [
        "WARNING:root:sweep 29: ['Recording stopped before completing the experiment epoch']\n"
       ]
      },
      {
       "output_type": "stream",
       "stream": "stderr",
       "text": [
        "WARNING:root:sweep 30: ['Recording stopped before completing the experiment epoch']\n"
       ]
      },
      {
       "output_type": "stream",
       "stream": "stderr",
       "text": [
        "WARNING:root:sweep 31: ['Recording stopped before completing the experiment epoch']\n"
       ]
      },
      {
       "output_type": "stream",
       "stream": "stderr",
       "text": [
        "WARNING:root:sweep 32: ['Recording stopped before completing the experiment epoch']\n"
       ]
      },
      {
       "output_type": "stream",
       "stream": "stderr",
       "text": [
        "WARNING:root:sweep 33: ['Recording stopped before completing the experiment epoch']\n"
       ]
      },
      {
       "output_type": "stream",
       "stream": "stderr",
       "text": [
        "/nethome/kcni/ychen/.local/lib/python3.6/site-packages/ipfx/spike_features.py:87: RuntimeWarning: invalid value encountered in less\n",
        "  width_levels[width_levels < v[spike_indexes]] = thresh_to_peak_levels[width_levels < v[spike_indexes]]\n"
       ]
      },
      {
       "output_type": "stream",
       "stream": "stdout",
       "text": [
        "659147142.0 extracted\n",
        "loading dataset into data structure...\n"
       ]
      },
      {
       "output_type": "stream",
       "stream": "stdout",
       "text": [
        "659280391.0 extracted\n",
        "loading dataset into data structure...\n"
       ]
      },
      {
       "output_type": "stream",
       "stream": "stdout",
       "text": [
        "659389644.0 extracted\n",
        "loading dataset into data structure...\n"
       ]
      },
      {
       "output_type": "stream",
       "stream": "stdout",
       "text": [
        "659395808.0 extracted\n",
        "loading dataset into data structure...\n"
       ]
      },
      {
       "output_type": "stream",
       "stream": "stdout",
       "text": [
        "659405820.0 extracted\n",
        "loading dataset into data structure...\n"
       ]
      },
      {
       "output_type": "stream",
       "stream": "stdout",
       "text": [
        "659405868.0 extracted\n",
        "loading dataset into data structure...\n"
       ]
      },
      {
       "output_type": "stream",
       "stream": "stdout",
       "text": [
        "659413418.0 extracted\n",
        "loading dataset into data structure...\n"
       ]
      },
      {
       "output_type": "stream",
       "stream": "stderr",
       "text": [
        "/nethome/kcni/ychen/.local/lib/python3.6/site-packages/ipfx/spike_features.py:87: RuntimeWarning: invalid value encountered in less\n",
        "  width_levels[width_levels < v[spike_indexes]] = thresh_to_peak_levels[width_levels < v[spike_indexes]]\n"
       ]
      },
      {
       "output_type": "stream",
       "stream": "stdout",
       "text": [
        "659413500.0 extracted\n",
        "loading dataset into data structure...\n"
       ]
      },
      {
       "output_type": "stream",
       "stream": "stderr",
       "text": [
        "WARNING:root:sweep 28: ['Recording stopped before completing the experiment epoch']\n"
       ]
      },
      {
       "output_type": "stream",
       "stream": "stderr",
       "text": [
        "WARNING:root:sweep 29: ['Recording stopped before completing the experiment epoch']\n"
       ]
      },
      {
       "output_type": "stream",
       "stream": "stderr",
       "text": [
        "WARNING:root:sweep 30: ['Recording stopped before completing the experiment epoch']\n"
       ]
      },
      {
       "output_type": "stream",
       "stream": "stderr",
       "text": [
        "WARNING:root:sweep 31: ['Recording stopped before completing the experiment epoch']\n"
       ]
      },
      {
       "output_type": "stream",
       "stream": "stderr",
       "text": [
        "WARNING:root:sweep 32: ['Recording stopped before completing the experiment epoch']\n"
       ]
      },
      {
       "output_type": "stream",
       "stream": "stderr",
       "text": [
        "/nethome/kcni/ychen/.local/lib/python3.6/site-packages/ipfx/spike_features.py:87: RuntimeWarning: invalid value encountered in less\n",
        "  width_levels[width_levels < v[spike_indexes]] = thresh_to_peak_levels[width_levels < v[spike_indexes]]\n"
       ]
      },
      {
       "output_type": "stream",
       "stream": "stdout",
       "text": [
        "659430821.0 extracted\n",
        "loading dataset into data structure...\n"
       ]
      },
      {
       "output_type": "stream",
       "stream": "stdout",
       "text": [
        "659436153.0 extracted\n",
        "loading dataset into data structure...\n"
       ]
      },
      {
       "output_type": "stream",
       "stream": "stdout",
       "text": [
        "659485385.0 extracted\n",
        "loading dataset into data structure...\n"
       ]
      },
      {
       "output_type": "stream",
       "stream": "stdout",
       "text": [
        "659550641.0 extracted\n",
        "loading dataset into data structure...\n"
       ]
      },
      {
       "output_type": "stream",
       "stream": "stderr",
       "text": [
        "WARNING:root:sweep 22: ['Recording stopped before completing the experiment epoch']\n"
       ]
      },
      {
       "output_type": "stream",
       "stream": "stderr",
       "text": [
        "WARNING:root:sweep 23: ['Recording stopped before completing the experiment epoch']\n"
       ]
      },
      {
       "output_type": "stream",
       "stream": "stderr",
       "text": [
        "WARNING:root:sweep 24: ['Recording stopped before completing the experiment epoch']\n"
       ]
      },
      {
       "output_type": "stream",
       "stream": "stderr",
       "text": [
        "WARNING:root:sweep 25: ['Recording stopped before completing the experiment epoch']\n"
       ]
      },
      {
       "output_type": "stream",
       "stream": "stderr",
       "text": [
        "WARNING:root:sweep 26: ['Recording stopped before completing the experiment epoch']\n"
       ]
      },
      {
       "output_type": "stream",
       "stream": "stderr",
       "text": [
        "WARNING:root:sweep 27: ['Recording stopped before completing the experiment epoch']\n"
       ]
      },
      {
       "output_type": "stream",
       "stream": "stderr",
       "text": [
        "WARNING:root:sweep 28: ['Recording stopped before completing the experiment epoch']\n"
       ]
      },
      {
       "output_type": "stream",
       "stream": "stderr",
       "text": [
        "WARNING:root:sweep 29: ['Recording stopped before completing the experiment epoch']\n"
       ]
      },
      {
       "output_type": "stream",
       "stream": "stderr",
       "text": [
        "/nethome/kcni/ychen/.local/lib/python3.6/site-packages/ipfx/spike_features.py:87: RuntimeWarning: invalid value encountered in less\n",
        "  width_levels[width_levels < v[spike_indexes]] = thresh_to_peak_levels[width_levels < v[spike_indexes]]\n"
       ]
      },
      {
       "output_type": "stream",
       "stream": "stdout",
       "text": [
        "659697295.0 extracted\n",
        "loading dataset into data structure...\n"
       ]
      },
      {
       "output_type": "stream",
       "stream": "stderr",
       "text": [
        "WARNING:root:sweep 29: ['Recording stopped before completing the experiment epoch']\n"
       ]
      },
      {
       "output_type": "stream",
       "stream": "stderr",
       "text": [
        "WARNING:root:sweep 30: ['Recording stopped before completing the experiment epoch']\n"
       ]
      },
      {
       "output_type": "stream",
       "stream": "stderr",
       "text": [
        "WARNING:root:sweep 31: ['Recording stopped before completing the experiment epoch']\n"
       ]
      },
      {
       "output_type": "stream",
       "stream": "stderr",
       "text": [
        "WARNING:root:sweep 32: ['Recording stopped before completing the experiment epoch']\n"
       ]
      },
      {
       "output_type": "stream",
       "stream": "stderr",
       "text": [
        "WARNING:root:sweep 33: ['Recording stopped before completing the experiment epoch']\n"
       ]
      },
      {
       "output_type": "stream",
       "stream": "stderr",
       "text": [
        "WARNING:root:sweep 34: ['Recording stopped before completing the experiment epoch']\n"
       ]
      },
      {
       "output_type": "stream",
       "stream": "stdout",
       "text": [
        "659700506.0 extracted\n",
        "loading dataset into data structure...\n"
       ]
      },
      {
       "output_type": "stream",
       "stream": "stdout",
       "text": [
        "659888858.0 extracted\n",
        "loading dataset into data structure...\n"
       ]
      },
      {
       "output_type": "stream",
       "stream": "stdout",
       "text": [
        "659922233.0 extracted\n",
        "loading dataset into data structure...\n"
       ]
      },
      {
       "output_type": "stream",
       "stream": "stdout",
       "text": [
        "659934473.0 extracted\n",
        "loading dataset into data structure...\n"
       ]
      },
      {
       "output_type": "stream",
       "stream": "stderr",
       "text": [
        "WARNING:root:sweep 8: ['experiment epoch is missing', 'stim epoch is missing']\n"
       ]
      },
      {
       "output_type": "stream",
       "stream": "stdout",
       "text": [
        "659960546.0 extracted\n",
        "loading dataset into data structure...\n"
       ]
      },
      {
       "output_type": "stream",
       "stream": "stdout",
       "text": [
        "660050258.0 extracted\n",
        "loading dataset into data structure...\n"
       ]
      },
      {
       "output_type": "stream",
       "stream": "stdout",
       "text": [
        "660430219.0 extracted\n",
        "loading dataset into data structure...\n"
       ]
      },
      {
       "output_type": "stream",
       "stream": "stdout",
       "text": [
        "660454584.0 extracted\n",
        "loading dataset into data structure...\n"
       ]
      },
      {
       "output_type": "stream",
       "stream": "stderr",
       "text": [
        "/nethome/kcni/ychen/.local/lib/python3.6/site-packages/ipfx/spike_features.py:87: RuntimeWarning: invalid value encountered in less\n",
        "  width_levels[width_levels < v[spike_indexes]] = thresh_to_peak_levels[width_levels < v[spike_indexes]]\n"
       ]
      },
      {
       "output_type": "stream",
       "stream": "stdout",
       "text": [
        "660465823.0 extracted\n",
        "loading dataset into data structure...\n"
       ]
      },
      {
       "output_type": "stream",
       "stream": "stdout",
       "text": [
        "660704050.0 extracted\n",
        "loading dataset into data structure...\n"
       ]
      },
      {
       "output_type": "stream",
       "stream": "stdout",
       "text": [
        "660717471.0 extracted\n",
        "loading dataset into data structure...\n"
       ]
      },
      {
       "output_type": "stream",
       "stream": "stdout",
       "text": [
        "660722612.0 extracted\n",
        "loading dataset into data structure...\n"
       ]
      },
      {
       "output_type": "stream",
       "stream": "stdout",
       "text": [
        "660722845.0 extracted\n",
        "loading dataset into data structure...\n"
       ]
      },
      {
       "output_type": "stream",
       "stream": "stdout",
       "text": [
        "660840807.0 extracted\n",
        "loading dataset into data structure...\n"
       ]
      },
      {
       "output_type": "stream",
       "stream": "stderr",
       "text": [
        "WARNING:root:sweep 26: ['Recording stopped before completing the experiment epoch']\n"
       ]
      },
      {
       "output_type": "stream",
       "stream": "stderr",
       "text": [
        "WARNING:root:sweep 27: ['Recording stopped before completing the experiment epoch']\n"
       ]
      },
      {
       "output_type": "stream",
       "stream": "stderr",
       "text": [
        "WARNING:root:sweep 28: ['Recording stopped before completing the experiment epoch']\n"
       ]
      },
      {
       "output_type": "stream",
       "stream": "stderr",
       "text": [
        "WARNING:root:sweep 29: ['Recording stopped before completing the experiment epoch']\n"
       ]
      },
      {
       "output_type": "stream",
       "stream": "stderr",
       "text": [
        "WARNING:root:sweep 30: ['Recording stopped before completing the experiment epoch']\n"
       ]
      },
      {
       "output_type": "stream",
       "stream": "stderr",
       "text": [
        "WARNING:root:sweep 31: ['Recording stopped before completing the experiment epoch']\n"
       ]
      },
      {
       "output_type": "stream",
       "stream": "stderr",
       "text": [
        "/nethome/kcni/ychen/.local/lib/python3.6/site-packages/ipfx/spike_features.py:87: RuntimeWarning: invalid value encountered in less\n",
        "  width_levels[width_levels < v[spike_indexes]] = thresh_to_peak_levels[width_levels < v[spike_indexes]]\n"
       ]
      },
      {
       "output_type": "stream",
       "stream": "stdout",
       "text": [
        "660898270.0 extracted\n",
        "loading dataset into data structure...\n"
       ]
      },
      {
       "output_type": "stream",
       "stream": "stdout",
       "text": [
        "661151042.0 extracted\n",
        "loading dataset into data structure...\n"
       ]
      },
      {
       "output_type": "stream",
       "stream": "stderr",
       "text": [
        "WARNING:root:sweep 36: ['Recording stopped before completing the experiment epoch']\n"
       ]
      },
      {
       "output_type": "stream",
       "stream": "stderr",
       "text": [
        "WARNING:root:sweep 37: ['Recording stopped before completing the experiment epoch']\n"
       ]
      },
      {
       "output_type": "stream",
       "stream": "stderr",
       "text": [
        "WARNING:root:sweep 38: ['Recording stopped before completing the experiment epoch']\n"
       ]
      },
      {
       "output_type": "stream",
       "stream": "stderr",
       "text": [
        "WARNING:root:sweep 39: ['Recording stopped before completing the experiment epoch']\n"
       ]
      },
      {
       "output_type": "stream",
       "stream": "stderr",
       "text": [
        "WARNING:root:sweep 40: ['Recording stopped before completing the experiment epoch']\n"
       ]
      },
      {
       "output_type": "stream",
       "stream": "stderr",
       "text": [
        "WARNING:root:sweep 41: ['Recording stopped before completing the experiment epoch']\n"
       ]
      },
      {
       "output_type": "stream",
       "stream": "stderr",
       "text": [
        "WARNING:root:sweep 42: ['Recording stopped before completing the experiment epoch']\n"
       ]
      },
      {
       "output_type": "stream",
       "stream": "stderr",
       "text": [
        "/nethome/kcni/ychen/.local/lib/python3.6/site-packages/ipfx/spike_features.py:87: RuntimeWarning: invalid value encountered in less\n",
        "  width_levels[width_levels < v[spike_indexes]] = thresh_to_peak_levels[width_levels < v[spike_indexes]]\n"
       ]
      },
      {
       "output_type": "stream",
       "stream": "stdout",
       "text": [
        "661189529.0 extracted\n",
        "loading dataset into data structure...\n"
       ]
      },
      {
       "output_type": "stream",
       "stream": "stderr",
       "text": [
        "WARNING:root:sweep 21: ['Recording stopped before completing the experiment epoch']\n"
       ]
      },
      {
       "output_type": "stream",
       "stream": "stderr",
       "text": [
        "WARNING:root:sweep 22: ['Recording stopped before completing the experiment epoch']\n"
       ]
      },
      {
       "output_type": "stream",
       "stream": "stderr",
       "text": [
        "WARNING:root:sweep 23: ['Recording stopped before completing the experiment epoch']\n"
       ]
      },
      {
       "output_type": "stream",
       "stream": "stderr",
       "text": [
        "WARNING:root:sweep 24: ['Recording stopped before completing the experiment epoch']\n"
       ]
      },
      {
       "output_type": "stream",
       "stream": "stderr",
       "text": [
        "WARNING:root:sweep 25: ['Recording stopped before completing the experiment epoch']\n"
       ]
      },
      {
       "output_type": "stream",
       "stream": "stderr",
       "text": [
        "WARNING:root:sweep 26: ['Recording stopped before completing the experiment epoch']\n"
       ]
      },
      {
       "output_type": "stream",
       "stream": "stderr",
       "text": [
        "WARNING:root:sweep 27: ['Recording stopped before completing the experiment epoch']\n"
       ]
      },
      {
       "output_type": "stream",
       "stream": "stdout",
       "text": [
        "661222942.0 extracted\n",
        "loading dataset into data structure...\n"
       ]
      },
      {
       "output_type": "stream",
       "stream": "stderr",
       "text": [
        "WARNING:root:sweep 32: ['Recording stopped before completing the experiment epoch']\n"
       ]
      },
      {
       "output_type": "stream",
       "stream": "stderr",
       "text": [
        "WARNING:root:sweep 33: ['Recording stopped before completing the experiment epoch']\n"
       ]
      },
      {
       "output_type": "stream",
       "stream": "stderr",
       "text": [
        "WARNING:root:sweep 34: ['Recording stopped before completing the experiment epoch']\n"
       ]
      },
      {
       "output_type": "stream",
       "stream": "stderr",
       "text": [
        "WARNING:root:sweep 35: ['Recording stopped before completing the experiment epoch']\n"
       ]
      },
      {
       "output_type": "stream",
       "stream": "stderr",
       "text": [
        "WARNING:root:sweep 36: ['Recording stopped before completing the experiment epoch']\n"
       ]
      },
      {
       "output_type": "stream",
       "stream": "stdout",
       "text": [
        "661236177.0 extracted\n",
        "loading dataset into data structure...\n"
       ]
      },
      {
       "output_type": "stream",
       "stream": "stdout",
       "text": [
        "661290272.0 extracted\n",
        "loading dataset into data structure...\n"
       ]
      },
      {
       "output_type": "stream",
       "stream": "stderr",
       "text": [
        "WARNING:root:sweep 26: ['Recording stopped before completing the experiment epoch']\n"
       ]
      },
      {
       "output_type": "stream",
       "stream": "stderr",
       "text": [
        "WARNING:root:sweep 27: ['Recording stopped before completing the experiment epoch']\n"
       ]
      },
      {
       "output_type": "stream",
       "stream": "stderr",
       "text": [
        "WARNING:root:sweep 28: ['Recording stopped before completing the experiment epoch']\n"
       ]
      },
      {
       "output_type": "stream",
       "stream": "stderr",
       "text": [
        "WARNING:root:sweep 29: ['Recording stopped before completing the experiment epoch']\n"
       ]
      },
      {
       "output_type": "stream",
       "stream": "stderr",
       "text": [
        "WARNING:root:sweep 30: ['Recording stopped before completing the experiment epoch']\n"
       ]
      },
      {
       "output_type": "stream",
       "stream": "stderr",
       "text": [
        "WARNING:root:sweep 31: ['Recording stopped before completing the experiment epoch']\n"
       ]
      },
      {
       "output_type": "stream",
       "stream": "stderr",
       "text": [
        "WARNING:root:sweep 32: ['Recording stopped before completing the experiment epoch']\n"
       ]
      },
      {
       "output_type": "stream",
       "stream": "stdout",
       "text": [
        "661293762.0 extracted\n",
        "loading dataset into data structure...\n"
       ]
      },
      {
       "output_type": "stream",
       "stream": "stderr",
       "text": [
        "WARNING:root:sweep 18: ['Recording stopped before completing the experiment epoch']\n"
       ]
      },
      {
       "output_type": "stream",
       "stream": "stderr",
       "text": [
        "WARNING:root:sweep 19: ['Recording stopped before completing the experiment epoch']\n"
       ]
      },
      {
       "output_type": "stream",
       "stream": "stderr",
       "text": [
        "WARNING:root:sweep 20: ['Recording stopped before completing the experiment epoch']\n"
       ]
      },
      {
       "output_type": "stream",
       "stream": "stderr",
       "text": [
        "WARNING:root:sweep 21: ['Recording stopped before completing the experiment epoch']\n"
       ]
      },
      {
       "output_type": "stream",
       "stream": "stderr",
       "text": [
        "WARNING:root:sweep 22: ['Recording stopped before completing the experiment epoch']\n"
       ]
      },
      {
       "output_type": "stream",
       "stream": "stdout",
       "text": [
        "661293861.0 extracted\n",
        "loading dataset into data structure...\n"
       ]
      },
      {
       "output_type": "stream",
       "stream": "stdout",
       "text": [
        "661296298.0 extracted\n",
        "loading dataset into data structure...\n"
       ]
      },
      {
       "output_type": "stream",
       "stream": "stderr",
       "text": [
        "WARNING:root:sweep 22: ['Recording stopped before completing the experiment epoch']\n"
       ]
      },
      {
       "output_type": "stream",
       "stream": "stderr",
       "text": [
        "WARNING:root:sweep 23: ['Recording stopped before completing the experiment epoch']\n"
       ]
      },
      {
       "output_type": "stream",
       "stream": "stderr",
       "text": [
        "WARNING:root:sweep 24: ['Recording stopped before completing the experiment epoch']\n"
       ]
      },
      {
       "output_type": "stream",
       "stream": "stderr",
       "text": [
        "WARNING:root:sweep 25: ['Recording stopped before completing the experiment epoch']\n"
       ]
      },
      {
       "output_type": "stream",
       "stream": "stderr",
       "text": [
        "WARNING:root:sweep 26: ['Recording stopped before completing the experiment epoch']\n"
       ]
      },
      {
       "output_type": "stream",
       "stream": "stderr",
       "text": [
        "WARNING:root:sweep 27: ['Recording stopped before completing the experiment epoch']\n"
       ]
      },
      {
       "output_type": "stream",
       "stream": "stdout",
       "text": [
        "661296728.0 extracted\n",
        "loading dataset into data structure...\n"
       ]
      },
      {
       "output_type": "stream",
       "stream": "stdout",
       "text": [
        "661318431.0 extracted\n",
        "loading dataset into data structure...\n"
       ]
      },
      {
       "output_type": "stream",
       "stream": "stderr",
       "text": [
        "WARNING:root:sweep 20: ['Recording stopped before completing the experiment epoch']\n"
       ]
      },
      {
       "output_type": "stream",
       "stream": "stderr",
       "text": [
        "WARNING:root:sweep 21: ['Recording stopped before completing the experiment epoch']\n"
       ]
      },
      {
       "output_type": "stream",
       "stream": "stderr",
       "text": [
        "WARNING:root:sweep 22: ['Recording stopped before completing the experiment epoch']\n"
       ]
      },
      {
       "output_type": "stream",
       "stream": "stderr",
       "text": [
        "WARNING:root:sweep 23: ['Recording stopped before completing the experiment epoch']\n"
       ]
      },
      {
       "output_type": "stream",
       "stream": "stderr",
       "text": [
        "WARNING:root:sweep 24: ['Recording stopped before completing the experiment epoch']\n"
       ]
      },
      {
       "output_type": "stream",
       "stream": "stdout",
       "text": [
        "661319074.0 extracted\n",
        "loading dataset into data structure...\n"
       ]
      },
      {
       "output_type": "stream",
       "stream": "stdout",
       "text": [
        "661354351.0 extracted\n",
        "loading dataset into data structure...\n"
       ]
      },
      {
       "output_type": "stream",
       "stream": "stderr",
       "text": [
        "WARNING:root:sweep 21: ['Recording stopped before completing the experiment epoch']\n"
       ]
      },
      {
       "output_type": "stream",
       "stream": "stderr",
       "text": [
        "WARNING:root:sweep 22: ['Recording stopped before completing the experiment epoch']\n"
       ]
      },
      {
       "output_type": "stream",
       "stream": "stderr",
       "text": [
        "WARNING:root:sweep 23: ['Recording stopped before completing the experiment epoch']\n"
       ]
      },
      {
       "output_type": "stream",
       "stream": "stderr",
       "text": [
        "WARNING:root:sweep 24: ['Recording stopped before completing the experiment epoch']\n"
       ]
      },
      {
       "output_type": "stream",
       "stream": "stderr",
       "text": [
        "WARNING:root:sweep 25: ['Recording stopped before completing the experiment epoch']\n"
       ]
      },
      {
       "output_type": "stream",
       "stream": "stderr",
       "text": [
        "WARNING:root:sweep 26: ['Recording stopped before completing the experiment epoch']\n"
       ]
      },
      {
       "output_type": "stream",
       "stream": "stdout",
       "text": [
        "661390131.0 extracted\n",
        "loading dataset into data structure...\n"
       ]
      },
      {
       "output_type": "stream",
       "stream": "stdout",
       "text": [
        "661391859.0 extracted\n",
        "loading dataset into data structure...\n"
       ]
      },
      {
       "output_type": "stream",
       "stream": "stdout",
       "text": [
        "661401154.0 extracted\n",
        "loading dataset into data structure...\n"
       ]
      },
      {
       "output_type": "stream",
       "stream": "stderr",
       "text": [
        "WARNING:root:sweep 20: ['Recording stopped before completing the experiment epoch']\n"
       ]
      },
      {
       "output_type": "stream",
       "stream": "stderr",
       "text": [
        "WARNING:root:sweep 21: ['Recording stopped before completing the experiment epoch']\n"
       ]
      },
      {
       "output_type": "stream",
       "stream": "stderr",
       "text": [
        "WARNING:root:sweep 22: ['Recording stopped before completing the experiment epoch']\n"
       ]
      },
      {
       "output_type": "stream",
       "stream": "stderr",
       "text": [
        "WARNING:root:sweep 23: ['Recording stopped before completing the experiment epoch']\n"
       ]
      },
      {
       "output_type": "stream",
       "stream": "stderr",
       "text": [
        "WARNING:root:sweep 24: ['Recording stopped before completing the experiment epoch']\n"
       ]
      },
      {
       "output_type": "stream",
       "stream": "stderr",
       "text": [
        "/nethome/kcni/ychen/.local/lib/python3.6/site-packages/ipfx/spike_features.py:87: RuntimeWarning: invalid value encountered in less\n",
        "  width_levels[width_levels < v[spike_indexes]] = thresh_to_peak_levels[width_levels < v[spike_indexes]]\n"
       ]
      },
      {
       "output_type": "stream",
       "stream": "stdout",
       "text": [
        "661401628.0 extracted\n",
        "loading dataset into data structure...\n"
       ]
      },
      {
       "output_type": "stream",
       "stream": "stderr",
       "text": [
        "WARNING:root:sweep 24: ['Recording stopped before completing the experiment epoch']\n"
       ]
      },
      {
       "output_type": "stream",
       "stream": "stderr",
       "text": [
        "WARNING:root:sweep 25: ['Recording stopped before completing the experiment epoch']\n"
       ]
      },
      {
       "output_type": "stream",
       "stream": "stderr",
       "text": [
        "WARNING:root:sweep 26: ['Recording stopped before completing the experiment epoch']\n"
       ]
      },
      {
       "output_type": "stream",
       "stream": "stderr",
       "text": [
        "WARNING:root:sweep 27: ['Recording stopped before completing the experiment epoch']\n"
       ]
      },
      {
       "output_type": "stream",
       "stream": "stderr",
       "text": [
        "WARNING:root:sweep 28: ['Recording stopped before completing the experiment epoch']\n"
       ]
      },
      {
       "output_type": "stream",
       "stream": "stderr",
       "text": [
        "WARNING:root:sweep 29: ['Recording stopped before completing the experiment epoch']\n"
       ]
      },
      {
       "output_type": "stream",
       "stream": "stdout",
       "text": [
        "661407806.0 extracted\n",
        "loading dataset into data structure...\n"
       ]
      },
      {
       "output_type": "stream",
       "stream": "stderr",
       "text": [
        "WARNING:root:sweep 18: ['Recording stopped before completing the experiment epoch']\n"
       ]
      },
      {
       "output_type": "stream",
       "stream": "stderr",
       "text": [
        "WARNING:root:sweep 19: ['Recording stopped before completing the experiment epoch']\n"
       ]
      },
      {
       "output_type": "stream",
       "stream": "stderr",
       "text": [
        "WARNING:root:sweep 20: ['Recording stopped before completing the experiment epoch']\n"
       ]
      },
      {
       "output_type": "stream",
       "stream": "stderr",
       "text": [
        "WARNING:root:sweep 21: ['Recording stopped before completing the experiment epoch']\n"
       ]
      },
      {
       "output_type": "stream",
       "stream": "stderr",
       "text": [
        "WARNING:root:sweep 22: ['Recording stopped before completing the experiment epoch']\n"
       ]
      },
      {
       "output_type": "stream",
       "stream": "stdout",
       "text": [
        "661408488.0 extracted\n",
        "loading dataset into data structure...\n"
       ]
      },
      {
       "output_type": "stream",
       "stream": "stderr",
       "text": [
        "WARNING:root:sweep 20: ['Recording stopped before completing the experiment epoch']\n"
       ]
      },
      {
       "output_type": "stream",
       "stream": "stderr",
       "text": [
        "WARNING:root:sweep 21: ['Recording stopped before completing the experiment epoch']\n"
       ]
      },
      {
       "output_type": "stream",
       "stream": "stderr",
       "text": [
        "WARNING:root:sweep 22: ['Recording stopped before completing the experiment epoch']\n"
       ]
      },
      {
       "output_type": "stream",
       "stream": "stderr",
       "text": [
        "WARNING:root:sweep 23: ['Recording stopped before completing the experiment epoch']\n"
       ]
      },
      {
       "output_type": "stream",
       "stream": "stderr",
       "text": [
        "WARNING:root:sweep 24: ['Recording stopped before completing the experiment epoch']\n"
       ]
      },
      {
       "output_type": "stream",
       "stream": "stderr",
       "text": [
        "WARNING:root:sweep 25: ['Recording stopped before completing the experiment epoch']\n"
       ]
      },
      {
       "output_type": "stream",
       "stream": "stdout",
       "text": [
        "661409627.0 extracted\n",
        "loading dataset into data structure...\n"
       ]
      },
      {
       "output_type": "stream",
       "stream": "stdout",
       "text": [
        "661411305.0 extracted\n",
        "loading dataset into data structure...\n"
       ]
      },
      {
       "output_type": "stream",
       "stream": "stderr",
       "text": [
        "WARNING:root:sweep 27: ['Recording stopped before completing the experiment epoch']\n"
       ]
      },
      {
       "output_type": "stream",
       "stream": "stderr",
       "text": [
        "WARNING:root:sweep 28: ['Recording stopped before completing the experiment epoch']\n"
       ]
      },
      {
       "output_type": "stream",
       "stream": "stderr",
       "text": [
        "WARNING:root:sweep 29: ['Recording stopped before completing the experiment epoch']\n"
       ]
      },
      {
       "output_type": "stream",
       "stream": "stderr",
       "text": [
        "WARNING:root:sweep 30: ['Recording stopped before completing the experiment epoch']\n"
       ]
      },
      {
       "output_type": "stream",
       "stream": "stderr",
       "text": [
        "WARNING:root:sweep 31: ['Recording stopped before completing the experiment epoch']\n"
       ]
      },
      {
       "output_type": "stream",
       "stream": "stderr",
       "text": [
        "WARNING:root:sweep 32: ['Recording stopped before completing the experiment epoch']\n"
       ]
      },
      {
       "output_type": "stream",
       "stream": "stderr",
       "text": [
        "WARNING:root:sweep 33: ['Recording stopped before completing the experiment epoch']\n"
       ]
      },
      {
       "output_type": "stream",
       "stream": "stdout",
       "text": [
        "661422439.0 extracted\n",
        "loading dataset into data structure...\n"
       ]
      },
      {
       "output_type": "stream",
       "stream": "stderr",
       "text": [
        "WARNING:root:sweep 20: ['Recording stopped before completing the experiment epoch']\n"
       ]
      },
      {
       "output_type": "stream",
       "stream": "stderr",
       "text": [
        "WARNING:root:sweep 21: ['Recording stopped before completing the experiment epoch']\n"
       ]
      },
      {
       "output_type": "stream",
       "stream": "stderr",
       "text": [
        "WARNING:root:sweep 22: ['Recording stopped before completing the experiment epoch']\n"
       ]
      },
      {
       "output_type": "stream",
       "stream": "stderr",
       "text": [
        "WARNING:root:sweep 23: ['Recording stopped before completing the experiment epoch']\n"
       ]
      },
      {
       "output_type": "stream",
       "stream": "stderr",
       "text": [
        "WARNING:root:sweep 24: ['Recording stopped before completing the experiment epoch']\n"
       ]
      },
      {
       "output_type": "stream",
       "stream": "stdout",
       "text": [
        "661422469.0 extracted\n",
        "loading dataset into data structure...\n"
       ]
      },
      {
       "output_type": "stream",
       "stream": "stderr",
       "text": [
        "WARNING:root:sweep 27: ['Recording stopped before completing the experiment epoch']\n"
       ]
      },
      {
       "output_type": "stream",
       "stream": "stderr",
       "text": [
        "WARNING:root:sweep 28: ['Recording stopped before completing the experiment epoch']\n"
       ]
      },
      {
       "output_type": "stream",
       "stream": "stderr",
       "text": [
        "WARNING:root:sweep 29: ['Recording stopped before completing the experiment epoch']\n"
       ]
      },
      {
       "output_type": "stream",
       "stream": "stderr",
       "text": [
        "WARNING:root:sweep 30: ['Recording stopped before completing the experiment epoch']\n"
       ]
      },
      {
       "output_type": "stream",
       "stream": "stderr",
       "text": [
        "WARNING:root:sweep 31: ['Recording stopped before completing the experiment epoch']\n"
       ]
      },
      {
       "output_type": "stream",
       "stream": "stderr",
       "text": [
        "WARNING:root:sweep 32: ['Recording stopped before completing the experiment epoch']\n"
       ]
      },
      {
       "output_type": "stream",
       "stream": "stdout",
       "text": [
        "661423720.0 extracted\n",
        "loading dataset into data structure...\n"
       ]
      },
      {
       "output_type": "stream",
       "stream": "stdout",
       "text": [
        "661479403.0 extracted\n",
        "loading dataset into data structure...\n"
       ]
      },
      {
       "output_type": "stream",
       "stream": "stderr",
       "text": [
        "/nethome/kcni/ychen/.local/lib/python3.6/site-packages/ipfx/spike_features.py:87: RuntimeWarning: invalid value encountered in less\n",
        "  width_levels[width_levels < v[spike_indexes]] = thresh_to_peak_levels[width_levels < v[spike_indexes]]\n"
       ]
      },
      {
       "output_type": "stream",
       "stream": "stdout",
       "text": [
        "661481525.0 extracted\n",
        "loading dataset into data structure...\n"
       ]
      },
      {
       "output_type": "stream",
       "stream": "stdout",
       "text": [
        "661482333.0 extracted\n",
        "loading dataset into data structure...\n"
       ]
      },
      {
       "output_type": "stream",
       "stream": "stderr",
       "text": [
        "WARNING:root:sweep 17: ['Recording stopped before completing the experiment epoch']\n"
       ]
      },
      {
       "output_type": "stream",
       "stream": "stderr",
       "text": [
        "WARNING:root:sweep 18: ['Recording stopped before completing the experiment epoch']\n"
       ]
      },
      {
       "output_type": "stream",
       "stream": "stderr",
       "text": [
        "WARNING:root:sweep 19: ['Recording stopped before completing the experiment epoch']\n"
       ]
      },
      {
       "output_type": "stream",
       "stream": "stderr",
       "text": [
        "WARNING:root:sweep 20: ['Recording stopped before completing the experiment epoch']\n"
       ]
      },
      {
       "output_type": "stream",
       "stream": "stderr",
       "text": [
        "WARNING:root:sweep 21: ['Recording stopped before completing the experiment epoch']\n"
       ]
      },
      {
       "output_type": "stream",
       "stream": "stdout",
       "text": [
        "661492805.0 extracted\n",
        "loading dataset into data structure...\n"
       ]
      },
      {
       "output_type": "stream",
       "stream": "stderr",
       "text": [
        "/nethome/kcni/ychen/.local/lib/python3.6/site-packages/ipfx/spike_features.py:87: RuntimeWarning: invalid value encountered in less\n",
        "  width_levels[width_levels < v[spike_indexes]] = thresh_to_peak_levels[width_levels < v[spike_indexes]]\n"
       ]
      },
      {
       "output_type": "stream",
       "stream": "stdout",
       "text": [
        "661495648.0 extracted\n",
        "loading dataset into data structure...\n"
       ]
      },
      {
       "output_type": "stream",
       "stream": "stderr",
       "text": [
        "WARNING:root:sweep 17: ['Recording stopped before completing the experiment epoch']\n"
       ]
      },
      {
       "output_type": "stream",
       "stream": "stderr",
       "text": [
        "WARNING:root:sweep 18: ['Recording stopped before completing the experiment epoch']\n"
       ]
      },
      {
       "output_type": "stream",
       "stream": "stderr",
       "text": [
        "WARNING:root:sweep 19: ['Recording stopped before completing the experiment epoch']\n"
       ]
      },
      {
       "output_type": "stream",
       "stream": "stderr",
       "text": [
        "WARNING:root:sweep 20: ['Recording stopped before completing the experiment epoch']\n"
       ]
      },
      {
       "output_type": "stream",
       "stream": "stderr",
       "text": [
        "WARNING:root:sweep 21: ['Recording stopped before completing the experiment epoch']\n"
       ]
      },
      {
       "output_type": "stream",
       "stream": "stdout",
       "text": [
        "661496177.0 extracted\n",
        "loading dataset into data structure...\n"
       ]
      },
      {
       "output_type": "stream",
       "stream": "stdout",
       "text": [
        "661500944.0 extracted\n",
        "loading dataset into data structure...\n"
       ]
      },
      {
       "output_type": "stream",
       "stream": "stdout",
       "text": [
        "661514378.0 extracted\n",
        "loading dataset into data structure...\n"
       ]
      },
      {
       "output_type": "stream",
       "stream": "stdout",
       "text": [
        "661542876.0 extracted\n",
        "loading dataset into data structure...\n"
       ]
      },
      {
       "output_type": "stream",
       "stream": "stdout",
       "text": [
        "662580082.0 extracted\n",
        "loading dataset into data structure...\n"
       ]
      },
      {
       "output_type": "stream",
       "stream": "stderr",
       "text": [
        "WARNING:root:sweep 19: ['Recording stopped before completing the experiment epoch']\n"
       ]
      },
      {
       "output_type": "stream",
       "stream": "stderr",
       "text": [
        "WARNING:root:sweep 20: ['Recording stopped before completing the experiment epoch']\n"
       ]
      },
      {
       "output_type": "stream",
       "stream": "stderr",
       "text": [
        "WARNING:root:sweep 21: ['Recording stopped before completing the experiment epoch']\n"
       ]
      },
      {
       "output_type": "stream",
       "stream": "stderr",
       "text": [
        "WARNING:root:sweep 22: ['Recording stopped before completing the experiment epoch']\n"
       ]
      },
      {
       "output_type": "stream",
       "stream": "stderr",
       "text": [
        "WARNING:root:sweep 23: ['Recording stopped before completing the experiment epoch']\n"
       ]
      },
      {
       "output_type": "stream",
       "stream": "stdout",
       "text": [
        "663193112.0 extracted\n",
        "loading dataset into data structure...\n"
       ]
      },
      {
       "output_type": "stream",
       "stream": "stdout",
       "text": [
        "665104716.0 extracted\n",
        "loading dataset into data structure...\n"
       ]
      },
      {
       "output_type": "stream",
       "stream": "stdout",
       "text": [
        "665129920.0 extracted\n",
        "loading dataset into data structure...\n"
       ]
      },
      {
       "output_type": "stream",
       "stream": "stdout",
       "text": [
        "665178360.0 extracted\n",
        "loading dataset into data structure...\n"
       ]
      },
      {
       "output_type": "stream",
       "stream": "stdout",
       "text": [
        "665208462.0 extracted\n",
        "loading dataset into data structure...\n"
       ]
      },
      {
       "output_type": "stream",
       "stream": "stderr",
       "text": [
        "/nethome/kcni/ychen/.local/lib/python3.6/site-packages/ipfx/spike_features.py:87: RuntimeWarning: invalid value encountered in less\n",
        "  width_levels[width_levels < v[spike_indexes]] = thresh_to_peak_levels[width_levels < v[spike_indexes]]\n"
       ]
      },
      {
       "output_type": "stream",
       "stream": "stdout",
       "text": [
        "665220542.0 extracted\n",
        "loading dataset into data structure...\n"
       ]
      },
      {
       "output_type": "stream",
       "stream": "stdout",
       "text": [
        "665271681.0 extracted\n",
        "loading dataset into data structure...\n"
       ]
      },
      {
       "output_type": "stream",
       "stream": "stdout",
       "text": [
        "665276770.0 extracted\n",
        "loading dataset into data structure...\n"
       ]
      },
      {
       "output_type": "stream",
       "stream": "stderr",
       "text": [
        "WARNING:root:sweep 24: ['Recording stopped before completing the experiment epoch']\n"
       ]
      },
      {
       "output_type": "stream",
       "stream": "stderr",
       "text": [
        "WARNING:root:sweep 25: ['Recording stopped before completing the experiment epoch']\n"
       ]
      },
      {
       "output_type": "stream",
       "stream": "stderr",
       "text": [
        "WARNING:root:sweep 26: ['Recording stopped before completing the experiment epoch']\n"
       ]
      },
      {
       "output_type": "stream",
       "stream": "stderr",
       "text": [
        "WARNING:root:sweep 27: ['Recording stopped before completing the experiment epoch']\n"
       ]
      },
      {
       "output_type": "stream",
       "stream": "stderr",
       "text": [
        "WARNING:root:sweep 28: ['Recording stopped before completing the experiment epoch']\n"
       ]
      },
      {
       "output_type": "stream",
       "stream": "stderr",
       "text": [
        "WARNING:root:sweep 29: ['Recording stopped before completing the experiment epoch']\n"
       ]
      },
      {
       "output_type": "stream",
       "stream": "stdout",
       "text": [
        "665286365.0 extracted\n",
        "loading dataset into data structure...\n"
       ]
      },
      {
       "output_type": "stream",
       "stream": "stdout",
       "text": [
        "665468858.0 extracted\n",
        "loading dataset into data structure...\n"
       ]
      },
      {
       "output_type": "stream",
       "stream": "stdout",
       "text": [
        "665478543.0 extracted\n",
        "loading dataset into data structure...\n"
       ]
      },
      {
       "output_type": "stream",
       "stream": "stderr",
       "text": [
        "/nethome/kcni/ychen/.local/lib/python3.6/site-packages/ipfx/spike_features.py:87: RuntimeWarning: invalid value encountered in less\n",
        "  width_levels[width_levels < v[spike_indexes]] = thresh_to_peak_levels[width_levels < v[spike_indexes]]\n"
       ]
      },
      {
       "output_type": "stream",
       "stream": "stdout",
       "text": [
        "665502576.0 extracted\n",
        "loading dataset into data structure...\n"
       ]
      },
      {
       "output_type": "stream",
       "stream": "stdout",
       "text": [
        "665602299.0 extracted\n",
        "loading dataset into data structure...\n"
       ]
      },
      {
       "output_type": "stream",
       "stream": "stdout",
       "text": [
        "666030065.0 extracted\n",
        "loading dataset into data structure...\n"
       ]
      },
      {
       "output_type": "stream",
       "stream": "stderr",
       "text": [
        "WARNING:root:sweep 27: ['experiment epoch is missing', 'stim epoch is missing']\n"
       ]
      },
      {
       "output_type": "stream",
       "stream": "stdout",
       "text": [
        "666046495.0 extracted\n",
        "loading dataset into data structure...\n"
       ]
      },
      {
       "output_type": "stream",
       "stream": "stderr",
       "text": [
        "WARNING:root:sweep 33: ['Recording stopped before completing the experiment epoch']\n"
       ]
      },
      {
       "output_type": "stream",
       "stream": "stderr",
       "text": [
        "WARNING:root:sweep 34: ['Recording stopped before completing the experiment epoch']\n"
       ]
      },
      {
       "output_type": "stream",
       "stream": "stderr",
       "text": [
        "WARNING:root:sweep 35: ['Recording stopped before completing the experiment epoch']\n"
       ]
      },
      {
       "output_type": "stream",
       "stream": "stderr",
       "text": [
        "WARNING:root:sweep 36: ['Recording stopped before completing the experiment epoch']\n"
       ]
      },
      {
       "output_type": "stream",
       "stream": "stderr",
       "text": [
        "WARNING:root:sweep 37: ['Recording stopped before completing the experiment epoch']\n"
       ]
      },
      {
       "output_type": "stream",
       "stream": "stderr",
       "text": [
        "WARNING:root:sweep 38: ['Recording stopped before completing the experiment epoch']\n"
       ]
      },
      {
       "output_type": "stream",
       "stream": "stderr",
       "text": [
        "WARNING:root:sweep 39: ['Recording stopped before completing the experiment epoch']\n"
       ]
      },
      {
       "output_type": "stream",
       "stream": "stderr",
       "text": [
        "WARNING:root:sweep 40: ['Recording stopped before completing the experiment epoch']\n"
       ]
      },
      {
       "output_type": "stream",
       "stream": "stdout",
       "text": [
        "666141992.0 extracted\n",
        "loading dataset into data structure...\n"
       ]
      },
      {
       "output_type": "stream",
       "stream": "stderr",
       "text": [
        "/nethome/kcni/ychen/.local/lib/python3.6/site-packages/ipfx/spike_features.py:87: RuntimeWarning: invalid value encountered in less\n",
        "  width_levels[width_levels < v[spike_indexes]] = thresh_to_peak_levels[width_levels < v[spike_indexes]]\n"
       ]
      },
      {
       "output_type": "stream",
       "stream": "stdout",
       "text": [
        "666209423.0 extracted\n",
        "loading dataset into data structure...\n"
       ]
      },
      {
       "output_type": "stream",
       "stream": "stdout",
       "text": [
        "666218416.0 extracted\n",
        "loading dataset into data structure...\n"
       ]
      },
      {
       "output_type": "stream",
       "stream": "stderr",
       "text": [
        "WARNING:root:sweep 17: ['Recording stopped before completing the experiment epoch']\n"
       ]
      },
      {
       "output_type": "stream",
       "stream": "stderr",
       "text": [
        "WARNING:root:sweep 18: ['Recording stopped before completing the experiment epoch']\n"
       ]
      },
      {
       "output_type": "stream",
       "stream": "stderr",
       "text": [
        "WARNING:root:sweep 19: ['Recording stopped before completing the experiment epoch']\n"
       ]
      },
      {
       "output_type": "stream",
       "stream": "stderr",
       "text": [
        "WARNING:root:sweep 20: ['Recording stopped before completing the experiment epoch']\n"
       ]
      },
      {
       "output_type": "stream",
       "stream": "stderr",
       "text": [
        "WARNING:root:sweep 21: ['Recording stopped before completing the experiment epoch']\n"
       ]
      },
      {
       "output_type": "stream",
       "stream": "stderr",
       "text": [
        "/nethome/kcni/ychen/.local/lib/python3.6/site-packages/ipfx/spike_features.py:87: RuntimeWarning: invalid value encountered in less\n",
        "  width_levels[width_levels < v[spike_indexes]] = thresh_to_peak_levels[width_levels < v[spike_indexes]]\n"
       ]
      },
      {
       "output_type": "stream",
       "stream": "stdout",
       "text": [
        "666219578.0 extracted\n",
        "loading dataset into data structure...\n"
       ]
      },
      {
       "output_type": "stream",
       "stream": "stderr",
       "text": [
        "/nethome/kcni/ychen/.local/lib/python3.6/site-packages/ipfx/spike_features.py:87: RuntimeWarning: invalid value encountered in less\n",
        "  width_levels[width_levels < v[spike_indexes]] = thresh_to_peak_levels[width_levels < v[spike_indexes]]\n"
       ]
      },
      {
       "output_type": "stream",
       "stream": "stdout",
       "text": [
        "667163821.0 extracted\n",
        "loading dataset into data structure...\n"
       ]
      },
      {
       "output_type": "stream",
       "stream": "stderr",
       "text": [
        "WARNING:root:sweep 21: ['Recording stopped before completing the experiment epoch']\n"
       ]
      },
      {
       "output_type": "stream",
       "stream": "stderr",
       "text": [
        "WARNING:root:sweep 22: ['Recording stopped before completing the experiment epoch']\n"
       ]
      },
      {
       "output_type": "stream",
       "stream": "stderr",
       "text": [
        "WARNING:root:sweep 23: ['Recording stopped before completing the experiment epoch']\n"
       ]
      },
      {
       "output_type": "stream",
       "stream": "stderr",
       "text": [
        "WARNING:root:sweep 24: ['Recording stopped before completing the experiment epoch']\n"
       ]
      },
      {
       "output_type": "stream",
       "stream": "stderr",
       "text": [
        "WARNING:root:sweep 25: ['Recording stopped before completing the experiment epoch']\n"
       ]
      },
      {
       "output_type": "stream",
       "stream": "stderr",
       "text": [
        "WARNING:root:sweep 26: ['Recording stopped before completing the experiment epoch']\n"
       ]
      },
      {
       "output_type": "stream",
       "stream": "stderr",
       "text": [
        "WARNING:root:sweep 27: ['Recording stopped before completing the experiment epoch']\n"
       ]
      },
      {
       "output_type": "stream",
       "stream": "stderr",
       "text": [
        "/nethome/kcni/ychen/.local/lib/python3.6/site-packages/ipfx/spike_features.py:87: RuntimeWarning: invalid value encountered in less\n",
        "  width_levels[width_levels < v[spike_indexes]] = thresh_to_peak_levels[width_levels < v[spike_indexes]]\n"
       ]
      },
      {
       "output_type": "stream",
       "stream": "stdout",
       "text": [
        "667328279.0 extracted\n",
        "loading dataset into data structure...\n"
       ]
      },
      {
       "output_type": "stream",
       "stream": "stdout",
       "text": [
        "667457951.0 extracted\n",
        "loading dataset into data structure...\n"
       ]
      },
      {
       "output_type": "stream",
       "stream": "stderr",
       "text": [
        "WARNING:root:sweep 21: ['Recording stopped before completing the experiment epoch']\n"
       ]
      },
      {
       "output_type": "stream",
       "stream": "stderr",
       "text": [
        "WARNING:root:sweep 22: ['Recording stopped before completing the experiment epoch']\n"
       ]
      },
      {
       "output_type": "stream",
       "stream": "stderr",
       "text": [
        "WARNING:root:sweep 23: ['Recording stopped before completing the experiment epoch']\n"
       ]
      },
      {
       "output_type": "stream",
       "stream": "stderr",
       "text": [
        "WARNING:root:sweep 24: ['Recording stopped before completing the experiment epoch']\n"
       ]
      },
      {
       "output_type": "stream",
       "stream": "stderr",
       "text": [
        "WARNING:root:sweep 25: ['Recording stopped before completing the experiment epoch']\n"
       ]
      },
      {
       "output_type": "stream",
       "stream": "stdout",
       "text": [
        "667472005.0 extracted\n",
        "loading dataset into data structure...\n"
       ]
      },
      {
       "output_type": "stream",
       "stream": "stderr",
       "text": [
        "WARNING:root:sweep 19: ['Recording stopped before completing the experiment epoch']\n"
       ]
      },
      {
       "output_type": "stream",
       "stream": "stderr",
       "text": [
        "WARNING:root:sweep 20: ['Recording stopped before completing the experiment epoch']\n"
       ]
      },
      {
       "output_type": "stream",
       "stream": "stderr",
       "text": [
        "WARNING:root:sweep 21: ['Recording stopped before completing the experiment epoch']\n"
       ]
      },
      {
       "output_type": "stream",
       "stream": "stderr",
       "text": [
        "WARNING:root:sweep 22: ['Recording stopped before completing the experiment epoch']\n"
       ]
      },
      {
       "output_type": "stream",
       "stream": "stderr",
       "text": [
        "WARNING:root:sweep 23: ['Recording stopped before completing the experiment epoch']\n"
       ]
      },
      {
       "output_type": "stream",
       "stream": "stdout",
       "text": [
        "667473084.0 extracted\n",
        "loading dataset into data structure...\n"
       ]
      },
      {
       "output_type": "stream",
       "stream": "stderr",
       "text": [
        "WARNING:root:sweep 24: ['Recording stopped before completing the experiment epoch']\n"
       ]
      },
      {
       "output_type": "stream",
       "stream": "stderr",
       "text": [
        "WARNING:root:sweep 25: ['Recording stopped before completing the experiment epoch']\n"
       ]
      },
      {
       "output_type": "stream",
       "stream": "stderr",
       "text": [
        "WARNING:root:sweep 26: ['Recording stopped before completing the experiment epoch']\n"
       ]
      },
      {
       "output_type": "stream",
       "stream": "stderr",
       "text": [
        "WARNING:root:sweep 27: ['Recording stopped before completing the experiment epoch']\n"
       ]
      },
      {
       "output_type": "stream",
       "stream": "stderr",
       "text": [
        "WARNING:root:sweep 28: ['Recording stopped before completing the experiment epoch']\n"
       ]
      },
      {
       "output_type": "stream",
       "stream": "stderr",
       "text": [
        "WARNING:root:sweep 32: ['Recording stopped before completing the experiment epoch']\n"
       ]
      },
      {
       "output_type": "stream",
       "stream": "stderr",
       "text": [
        "WARNING:root:sweep 35: ['Recording stopped before completing the experiment epoch']\n"
       ]
      },
      {
       "output_type": "stream",
       "stream": "stdout",
       "text": [
        "667473755.0 extracted\n",
        "loading dataset into data structure...\n"
       ]
      },
      {
       "output_type": "stream",
       "stream": "stdout",
       "text": [
        "667473785.0 extracted\n",
        "loading dataset into data structure...\n"
       ]
      },
      {
       "output_type": "stream",
       "stream": "stdout",
       "text": [
        "667478348.0 extracted\n",
        "loading dataset into data structure...\n"
       ]
      },
      {
       "output_type": "stream",
       "stream": "stderr",
       "text": [
        "WARNING:root:sweep 34: ['Recording stopped before completing the experiment epoch']\n"
       ]
      },
      {
       "output_type": "stream",
       "stream": "stderr",
       "text": [
        "WARNING:root:sweep 35: ['Recording stopped before completing the experiment epoch']\n"
       ]
      },
      {
       "output_type": "stream",
       "stream": "stderr",
       "text": [
        "WARNING:root:sweep 36: ['Recording stopped before completing the experiment epoch']\n"
       ]
      },
      {
       "output_type": "stream",
       "stream": "stderr",
       "text": [
        "WARNING:root:sweep 37: ['Recording stopped before completing the experiment epoch']\n"
       ]
      },
      {
       "output_type": "stream",
       "stream": "stderr",
       "text": [
        "WARNING:root:sweep 38: ['Recording stopped before completing the experiment epoch']\n"
       ]
      },
      {
       "output_type": "stream",
       "stream": "stderr",
       "text": [
        "WARNING:root:sweep 39: ['Recording stopped before completing the experiment epoch']\n"
       ]
      },
      {
       "output_type": "stream",
       "stream": "stdout",
       "text": [
        "667490926.0 extracted\n",
        "loading dataset into data structure...\n"
       ]
      },
      {
       "output_type": "stream",
       "stream": "stderr",
       "text": [
        "WARNING:root:sweep 20: ['Recording stopped before completing the experiment epoch']\n"
       ]
      },
      {
       "output_type": "stream",
       "stream": "stderr",
       "text": [
        "WARNING:root:sweep 21: ['Recording stopped before completing the experiment epoch']\n"
       ]
      },
      {
       "output_type": "stream",
       "stream": "stderr",
       "text": [
        "WARNING:root:sweep 22: ['Recording stopped before completing the experiment epoch']\n"
       ]
      },
      {
       "output_type": "stream",
       "stream": "stderr",
       "text": [
        "WARNING:root:sweep 23: ['Recording stopped before completing the experiment epoch']\n"
       ]
      },
      {
       "output_type": "stream",
       "stream": "stderr",
       "text": [
        "WARNING:root:sweep 24: ['Recording stopped before completing the experiment epoch']\n"
       ]
      },
      {
       "output_type": "stream",
       "stream": "stdout",
       "text": [
        "667492234.0 extracted\n",
        "loading dataset into data structure...\n"
       ]
      },
      {
       "output_type": "stream",
       "stream": "stdout",
       "text": [
        "667492978.0 extracted\n",
        "loading dataset into data structure...\n"
       ]
      },
      {
       "output_type": "stream",
       "stream": "stderr",
       "text": [
        "WARNING:root:sweep 28: ['Recording stopped before completing the experiment epoch']\n"
       ]
      },
      {
       "output_type": "stream",
       "stream": "stderr",
       "text": [
        "WARNING:root:sweep 29: ['Recording stopped before completing the experiment epoch']\n"
       ]
      },
      {
       "output_type": "stream",
       "stream": "stderr",
       "text": [
        "WARNING:root:sweep 30: ['Recording stopped before completing the experiment epoch']\n"
       ]
      },
      {
       "output_type": "stream",
       "stream": "stderr",
       "text": [
        "WARNING:root:sweep 31: ['Recording stopped before completing the experiment epoch']\n"
       ]
      },
      {
       "output_type": "stream",
       "stream": "stderr",
       "text": [
        "WARNING:root:sweep 32: ['Recording stopped before completing the experiment epoch']\n"
       ]
      },
      {
       "output_type": "stream",
       "stream": "stderr",
       "text": [
        "WARNING:root:sweep 36: ['Recording stopped before completing the experiment epoch']\n"
       ]
      },
      {
       "output_type": "stream",
       "stream": "stdout",
       "text": [
        "667493822.0 extracted\n",
        "loading dataset into data structure...\n"
       ]
      },
      {
       "output_type": "stream",
       "stream": "stderr",
       "text": [
        "WARNING:root:sweep 29: ['Recording stopped before completing the experiment epoch']\n"
       ]
      },
      {
       "output_type": "stream",
       "stream": "stderr",
       "text": [
        "WARNING:root:sweep 30: ['Recording stopped before completing the experiment epoch']\n"
       ]
      },
      {
       "output_type": "stream",
       "stream": "stderr",
       "text": [
        "WARNING:root:sweep 31: ['Recording stopped before completing the experiment epoch']\n"
       ]
      },
      {
       "output_type": "stream",
       "stream": "stderr",
       "text": [
        "WARNING:root:sweep 32: ['Recording stopped before completing the experiment epoch']\n"
       ]
      },
      {
       "output_type": "stream",
       "stream": "stderr",
       "text": [
        "WARNING:root:sweep 33: ['Recording stopped before completing the experiment epoch']\n"
       ]
      },
      {
       "output_type": "stream",
       "stream": "stderr",
       "text": [
        "WARNING:root:sweep 34: ['Recording stopped before completing the experiment epoch']\n"
       ]
      },
      {
       "output_type": "stream",
       "stream": "stdout",
       "text": [
        "667496244.0 extracted\n",
        "loading dataset into data structure...\n"
       ]
      },
      {
       "output_type": "stream",
       "stream": "stdout",
       "text": [
        "668176228.0 extracted\n",
        "loading dataset into data structure...\n"
       ]
      },
      {
       "output_type": "stream",
       "stream": "stderr",
       "text": [
        "WARNING:root:sweep 21: ['Recording stopped before completing the experiment epoch']\n"
       ]
      },
      {
       "output_type": "stream",
       "stream": "stderr",
       "text": [
        "WARNING:root:sweep 22: ['Recording stopped before completing the experiment epoch']\n"
       ]
      },
      {
       "output_type": "stream",
       "stream": "stderr",
       "text": [
        "WARNING:root:sweep 23: ['Recording stopped before completing the experiment epoch']\n"
       ]
      },
      {
       "output_type": "stream",
       "stream": "stderr",
       "text": [
        "WARNING:root:sweep 24: ['Recording stopped before completing the experiment epoch']\n"
       ]
      },
      {
       "output_type": "stream",
       "stream": "stderr",
       "text": [
        "WARNING:root:sweep 25: ['Recording stopped before completing the experiment epoch']\n"
       ]
      },
      {
       "output_type": "stream",
       "stream": "stderr",
       "text": [
        "WARNING:root:sweep 26: ['Recording stopped before completing the experiment epoch']\n"
       ]
      },
      {
       "output_type": "stream",
       "stream": "stdout",
       "text": [
        "668249770.0 extracted\n",
        "loading dataset into data structure...\n"
       ]
      },
      {
       "output_type": "stream",
       "stream": "stdout",
       "text": [
        "668292781.0 extracted\n",
        "loading dataset into data structure...\n"
       ]
      },
      {
       "output_type": "stream",
       "stream": "stdout",
       "text": [
        "668319974.0 extracted\n",
        "loading dataset into data structure...\n"
       ]
      },
      {
       "output_type": "stream",
       "stream": "stderr",
       "text": [
        "WARNING:root:sweep 18: ['Recording stopped before completing the experiment epoch']\n"
       ]
      },
      {
       "output_type": "stream",
       "stream": "stderr",
       "text": [
        "WARNING:root:sweep 19: ['Recording stopped before completing the experiment epoch']\n"
       ]
      },
      {
       "output_type": "stream",
       "stream": "stderr",
       "text": [
        "WARNING:root:sweep 20: ['Recording stopped before completing the experiment epoch']\n"
       ]
      },
      {
       "output_type": "stream",
       "stream": "stderr",
       "text": [
        "WARNING:root:sweep 21: ['Recording stopped before completing the experiment epoch']\n"
       ]
      },
      {
       "output_type": "stream",
       "stream": "stderr",
       "text": [
        "WARNING:root:sweep 22: ['Recording stopped before completing the experiment epoch']\n"
       ]
      },
      {
       "output_type": "stream",
       "stream": "stdout",
       "text": [
        "668337999.0 extracted\n",
        "loading dataset into data structure...\n"
       ]
      },
      {
       "output_type": "stream",
       "stream": "stdout",
       "text": [
        "668444309.0 extracted\n",
        "loading dataset into data structure...\n"
       ]
      },
      {
       "output_type": "stream",
       "stream": "stderr",
       "text": [
        "WARNING:root:sweep 21: ['experiment epoch is missing', 'stim epoch is missing']\n"
       ]
      },
      {
       "output_type": "stream",
       "stream": "stderr",
       "text": [
        "WARNING:root:sweep 35: ['Recording stopped before completing the experiment epoch']\n"
       ]
      },
      {
       "output_type": "stream",
       "stream": "stderr",
       "text": [
        "WARNING:root:sweep 36: ['Recording stopped before completing the experiment epoch']\n"
       ]
      },
      {
       "output_type": "stream",
       "stream": "stderr",
       "text": [
        "WARNING:root:sweep 37: ['Recording stopped before completing the experiment epoch']\n"
       ]
      },
      {
       "output_type": "stream",
       "stream": "stderr",
       "text": [
        "WARNING:root:sweep 38: ['Recording stopped before completing the experiment epoch']\n"
       ]
      },
      {
       "output_type": "stream",
       "stream": "stderr",
       "text": [
        "WARNING:root:sweep 39: ['Recording stopped before completing the experiment epoch']\n"
       ]
      },
      {
       "output_type": "stream",
       "stream": "stdout",
       "text": [
        "668464797.0 extracted\n",
        "loading dataset into data structure...\n"
       ]
      },
      {
       "output_type": "stream",
       "stream": "stderr",
       "text": [
        "WARNING:root:sweep 20: ['Recording stopped before completing the experiment epoch']\n"
       ]
      },
      {
       "output_type": "stream",
       "stream": "stderr",
       "text": [
        "WARNING:root:sweep 21: ['Recording stopped before completing the experiment epoch']\n"
       ]
      },
      {
       "output_type": "stream",
       "stream": "stderr",
       "text": [
        "WARNING:root:sweep 22: ['Recording stopped before completing the experiment epoch']\n"
       ]
      },
      {
       "output_type": "stream",
       "stream": "stderr",
       "text": [
        "WARNING:root:sweep 23: ['Recording stopped before completing the experiment epoch']\n"
       ]
      },
      {
       "output_type": "stream",
       "stream": "stderr",
       "text": [
        "WARNING:root:sweep 24: ['Recording stopped before completing the experiment epoch']\n"
       ]
      },
      {
       "output_type": "stream",
       "stream": "stdout",
       "text": [
        "668489573.0 extracted\n",
        "loading dataset into data structure...\n"
       ]
      },
      {
       "output_type": "stream",
       "stream": "stderr",
       "text": [
        "WARNING:root:sweep 28: ['Recording stopped before completing the experiment epoch']\n"
       ]
      },
      {
       "output_type": "stream",
       "stream": "stderr",
       "text": [
        "WARNING:root:sweep 29: ['Recording stopped before completing the experiment epoch']\n"
       ]
      },
      {
       "output_type": "stream",
       "stream": "stderr",
       "text": [
        "WARNING:root:sweep 30: ['Recording stopped before completing the experiment epoch']\n"
       ]
      },
      {
       "output_type": "stream",
       "stream": "stderr",
       "text": [
        "WARNING:root:sweep 31: ['Recording stopped before completing the experiment epoch']\n"
       ]
      },
      {
       "output_type": "stream",
       "stream": "stderr",
       "text": [
        "WARNING:root:sweep 32: ['Recording stopped before completing the experiment epoch']\n"
       ]
      },
      {
       "output_type": "stream",
       "stream": "stdout",
       "text": [
        "669047347.0 extracted\n",
        "loading dataset into data structure...\n"
       ]
      },
      {
       "output_type": "stream",
       "stream": "stderr",
       "text": [
        "/nethome/kcni/ychen/.local/lib/python3.6/site-packages/ipfx/spike_features.py:87: RuntimeWarning: invalid value encountered in less\n",
        "  width_levels[width_levels < v[spike_indexes]] = thresh_to_peak_levels[width_levels < v[spike_indexes]]\n"
       ]
      },
      {
       "output_type": "stream",
       "stream": "stdout",
       "text": [
        "669047778.0 extracted\n",
        "loading dataset into data structure...\n"
       ]
      },
      {
       "output_type": "stream",
       "stream": "stdout",
       "text": [
        "669072563.0 extracted\n",
        "loading dataset into data structure...\n"
       ]
      },
      {
       "output_type": "stream",
       "stream": "stdout",
       "text": [
        "669072736.0 extracted\n",
        "loading dataset into data structure...\n"
       ]
      },
      {
       "output_type": "stream",
       "stream": "stderr",
       "text": [
        "WARNING:root:sweep 19: ['Recording stopped before completing the experiment epoch']\n"
       ]
      },
      {
       "output_type": "stream",
       "stream": "stderr",
       "text": [
        "WARNING:root:sweep 20: ['Recording stopped before completing the experiment epoch']\n"
       ]
      },
      {
       "output_type": "stream",
       "stream": "stderr",
       "text": [
        "WARNING:root:sweep 21: ['Recording stopped before completing the experiment epoch']\n"
       ]
      },
      {
       "output_type": "stream",
       "stream": "stderr",
       "text": [
        "WARNING:root:sweep 22: ['Recording stopped before completing the experiment epoch']\n"
       ]
      },
      {
       "output_type": "stream",
       "stream": "stderr",
       "text": [
        "WARNING:root:sweep 23: ['Recording stopped before completing the experiment epoch']\n"
       ]
      },
      {
       "output_type": "stream",
       "stream": "stdout",
       "text": [
        "669074640.0 extracted\n",
        "loading dataset into data structure...\n"
       ]
      },
      {
       "output_type": "stream",
       "stream": "stderr",
       "text": [
        "WARNING:root:sweep 22: ['Recording stopped before completing the experiment epoch']\n"
       ]
      },
      {
       "output_type": "stream",
       "stream": "stderr",
       "text": [
        "WARNING:root:sweep 23: ['Recording stopped before completing the experiment epoch']\n"
       ]
      },
      {
       "output_type": "stream",
       "stream": "stderr",
       "text": [
        "WARNING:root:sweep 24: ['Recording stopped before completing the experiment epoch']\n"
       ]
      },
      {
       "output_type": "stream",
       "stream": "stderr",
       "text": [
        "WARNING:root:sweep 25: ['Recording stopped before completing the experiment epoch']\n"
       ]
      },
      {
       "output_type": "stream",
       "stream": "stderr",
       "text": [
        "WARNING:root:sweep 26: ['Recording stopped before completing the experiment epoch']\n"
       ]
      },
      {
       "output_type": "stream",
       "stream": "stdout",
       "text": [
        "669088423.0 extracted\n",
        "loading dataset into data structure...\n"
       ]
      },
      {
       "output_type": "stream",
       "stream": "stderr",
       "text": [
        "WARNING:root:sweep 18: ['Recording stopped before completing the experiment epoch']\n"
       ]
      },
      {
       "output_type": "stream",
       "stream": "stderr",
       "text": [
        "WARNING:root:sweep 19: ['Recording stopped before completing the experiment epoch']\n"
       ]
      },
      {
       "output_type": "stream",
       "stream": "stderr",
       "text": [
        "WARNING:root:sweep 20: ['Recording stopped before completing the experiment epoch']\n"
       ]
      },
      {
       "output_type": "stream",
       "stream": "stderr",
       "text": [
        "WARNING:root:sweep 21: ['Recording stopped before completing the experiment epoch']\n"
       ]
      },
      {
       "output_type": "stream",
       "stream": "stderr",
       "text": [
        "WARNING:root:sweep 22: ['Recording stopped before completing the experiment epoch']\n"
       ]
      },
      {
       "output_type": "stream",
       "stream": "stdout",
       "text": [
        "669112312.0 extracted\n",
        "loading dataset into data structure...\n"
       ]
      },
      {
       "output_type": "stream",
       "stream": "stderr",
       "text": [
        "WARNING:root:sweep 26: ['Recording stopped before completing the experiment epoch']\n"
       ]
      },
      {
       "output_type": "stream",
       "stream": "stderr",
       "text": [
        "WARNING:root:sweep 27: ['Recording stopped before completing the experiment epoch']\n"
       ]
      },
      {
       "output_type": "stream",
       "stream": "stderr",
       "text": [
        "WARNING:root:sweep 28: ['Recording stopped before completing the experiment epoch']\n"
       ]
      },
      {
       "output_type": "stream",
       "stream": "stderr",
       "text": [
        "WARNING:root:sweep 29: ['Recording stopped before completing the experiment epoch']\n"
       ]
      },
      {
       "output_type": "stream",
       "stream": "stderr",
       "text": [
        "WARNING:root:sweep 30: ['Recording stopped before completing the experiment epoch']\n"
       ]
      },
      {
       "output_type": "stream",
       "stream": "stdout",
       "text": [
        "669154876.0 extracted\n",
        "loading dataset into data structure...\n"
       ]
      },
      {
       "output_type": "stream",
       "stream": "stdout",
       "text": [
        "669165270.0 extracted\n",
        "loading dataset into data structure...\n"
       ]
      },
      {
       "output_type": "stream",
       "stream": "stderr",
       "text": [
        "WARNING:root:sweep 38: ['Recording stopped before completing the experiment epoch']\n"
       ]
      },
      {
       "output_type": "stream",
       "stream": "stderr",
       "text": [
        "WARNING:root:sweep 39: ['Recording stopped before completing the experiment epoch']\n"
       ]
      },
      {
       "output_type": "stream",
       "stream": "stderr",
       "text": [
        "WARNING:root:sweep 40: ['Recording stopped before completing the experiment epoch']\n"
       ]
      },
      {
       "output_type": "stream",
       "stream": "stderr",
       "text": [
        "WARNING:root:sweep 41: ['Recording stopped before completing the experiment epoch']\n"
       ]
      },
      {
       "output_type": "stream",
       "stream": "stderr",
       "text": [
        "WARNING:root:sweep 42: ['Recording stopped before completing the experiment epoch']\n"
       ]
      },
      {
       "output_type": "stream",
       "stream": "stdout",
       "text": [
        "669165397.0 extracted\n",
        "loading dataset into data structure...\n"
       ]
      },
      {
       "output_type": "stream",
       "stream": "stdout",
       "text": [
        "669166845.0 extracted\n",
        "loading dataset into data structure...\n"
       ]
      },
      {
       "output_type": "stream",
       "stream": "stderr",
       "text": [
        "WARNING:root:sweep 28: ['Recording stopped before completing the experiment epoch']\n"
       ]
      },
      {
       "output_type": "stream",
       "stream": "stderr",
       "text": [
        "WARNING:root:sweep 29: ['Recording stopped before completing the experiment epoch']\n"
       ]
      },
      {
       "output_type": "stream",
       "stream": "stderr",
       "text": [
        "WARNING:root:sweep 30: ['Recording stopped before completing the experiment epoch']\n"
       ]
      },
      {
       "output_type": "stream",
       "stream": "stderr",
       "text": [
        "WARNING:root:sweep 31: ['Recording stopped before completing the experiment epoch']\n"
       ]
      },
      {
       "output_type": "stream",
       "stream": "stderr",
       "text": [
        "WARNING:root:sweep 32: ['Recording stopped before completing the experiment epoch']\n"
       ]
      },
      {
       "output_type": "stream",
       "stream": "stderr",
       "text": [
        "WARNING:root:sweep 33: ['Recording stopped before completing the experiment epoch']\n"
       ]
      },
      {
       "output_type": "stream",
       "stream": "stderr",
       "text": [
        "WARNING:root:sweep 37: ['Recording stopped before completing the experiment epoch']\n"
       ]
      },
      {
       "output_type": "stream",
       "stream": "stderr",
       "text": [
        "/nethome/kcni/ychen/.local/lib/python3.6/site-packages/ipfx/spike_features.py:87: RuntimeWarning: invalid value encountered in less\n",
        "  width_levels[width_levels < v[spike_indexes]] = thresh_to_peak_levels[width_levels < v[spike_indexes]]\n"
       ]
      },
      {
       "output_type": "stream",
       "stream": "stdout",
       "text": [
        "669495116.0 extracted\n",
        "loading dataset into data structure...\n"
       ]
      },
      {
       "output_type": "stream",
       "stream": "stderr",
       "text": [
        "WARNING:root:sweep 24: ['Recording stopped before completing the experiment epoch']\n"
       ]
      },
      {
       "output_type": "stream",
       "stream": "stderr",
       "text": [
        "WARNING:root:sweep 25: ['Recording stopped before completing the experiment epoch']\n"
       ]
      },
      {
       "output_type": "stream",
       "stream": "stderr",
       "text": [
        "WARNING:root:sweep 26: ['Recording stopped before completing the experiment epoch']\n"
       ]
      },
      {
       "output_type": "stream",
       "stream": "stderr",
       "text": [
        "WARNING:root:sweep 27: ['Recording stopped before completing the experiment epoch']\n"
       ]
      },
      {
       "output_type": "stream",
       "stream": "stderr",
       "text": [
        "WARNING:root:sweep 28: ['Recording stopped before completing the experiment epoch']\n"
       ]
      },
      {
       "output_type": "stream",
       "stream": "stderr",
       "text": [
        "/nethome/kcni/ychen/.local/lib/python3.6/site-packages/ipfx/spike_features.py:87: RuntimeWarning: invalid value encountered in less\n",
        "  width_levels[width_levels < v[spike_indexes]] = thresh_to_peak_levels[width_levels < v[spike_indexes]]\n"
       ]
      },
      {
       "output_type": "stream",
       "stream": "stdout",
       "text": [
        "669523148.0 extracted\n",
        "loading dataset into data structure...\n"
       ]
      },
      {
       "output_type": "stream",
       "stream": "stderr",
       "text": [
        "/nethome/kcni/ychen/.local/lib/python3.6/site-packages/ipfx/spike_features.py:87: RuntimeWarning: invalid value encountered in less\n",
        "  width_levels[width_levels < v[spike_indexes]] = thresh_to_peak_levels[width_levels < v[spike_indexes]]\n"
       ]
      },
      {
       "output_type": "stream",
       "stream": "stdout",
       "text": [
        "669567574.0 extracted\n",
        "loading dataset into data structure...\n"
       ]
      },
      {
       "output_type": "stream",
       "stream": "stderr",
       "text": [
        "/nethome/kcni/ychen/.local/lib/python3.6/site-packages/ipfx/spike_features.py:87: RuntimeWarning: invalid value encountered in less\n",
        "  width_levels[width_levels < v[spike_indexes]] = thresh_to_peak_levels[width_levels < v[spike_indexes]]\n"
       ]
      },
      {
       "output_type": "stream",
       "stream": "stdout",
       "text": [
        "669764794.0 extracted\n",
        "loading dataset into data structure...\n"
       ]
      },
      {
       "output_type": "stream",
       "stream": "stderr",
       "text": [
        "WARNING:root:sweep 30: ['Recording stopped before completing the experiment epoch']\n"
       ]
      },
      {
       "output_type": "stream",
       "stream": "stderr",
       "text": [
        "WARNING:root:sweep 31: ['Recording stopped before completing the experiment epoch']\n"
       ]
      },
      {
       "output_type": "stream",
       "stream": "stderr",
       "text": [
        "WARNING:root:sweep 32: ['Recording stopped before completing the experiment epoch']\n"
       ]
      },
      {
       "output_type": "stream",
       "stream": "stderr",
       "text": [
        "WARNING:root:sweep 33: ['Recording stopped before completing the experiment epoch']\n"
       ]
      },
      {
       "output_type": "stream",
       "stream": "stderr",
       "text": [
        "WARNING:root:sweep 34: ['Recording stopped before completing the experiment epoch']\n"
       ]
      },
      {
       "output_type": "stream",
       "stream": "stderr",
       "text": [
        "WARNING:root:sweep 35: ['Recording stopped before completing the experiment epoch']\n"
       ]
      },
      {
       "output_type": "stream",
       "stream": "stderr",
       "text": [
        "WARNING:root:sweep 36: ['Recording stopped before completing the experiment epoch']\n"
       ]
      },
      {
       "output_type": "stream",
       "stream": "stderr",
       "text": [
        "WARNING:root:sweep 40: ['Recording stopped before completing the experiment epoch']\n"
       ]
      },
      {
       "output_type": "stream",
       "stream": "stderr",
       "text": [
        "WARNING:root:sweep 41: ['Recording stopped before completing the experiment epoch']\n"
       ]
      },
      {
       "output_type": "stream",
       "stream": "stdout",
       "text": [
        "669807010.0 extracted\n",
        "loading dataset into data structure...\n"
       ]
      },
      {
       "output_type": "stream",
       "stream": "stdout",
       "text": [
        "669817511.0 extracted\n",
        "loading dataset into data structure...\n"
       ]
      },
      {
       "output_type": "stream",
       "stream": "stderr",
       "text": [
        "WARNING:root:sweep 18: ['Recording stopped before completing the experiment epoch']\n"
       ]
      },
      {
       "output_type": "stream",
       "stream": "stderr",
       "text": [
        "WARNING:root:sweep 19: ['Recording stopped before completing the experiment epoch']\n"
       ]
      },
      {
       "output_type": "stream",
       "stream": "stderr",
       "text": [
        "WARNING:root:sweep 20: ['Recording stopped before completing the experiment epoch']\n"
       ]
      },
      {
       "output_type": "stream",
       "stream": "stderr",
       "text": [
        "WARNING:root:sweep 21: ['Recording stopped before completing the experiment epoch']\n"
       ]
      },
      {
       "output_type": "stream",
       "stream": "stderr",
       "text": [
        "WARNING:root:sweep 22: ['Recording stopped before completing the experiment epoch']\n"
       ]
      },
      {
       "output_type": "stream",
       "stream": "stderr",
       "text": [
        "WARNING:root:sweep 26: ['Recording stopped before completing the experiment epoch']\n"
       ]
      },
      {
       "output_type": "stream",
       "stream": "stdout",
       "text": [
        "669825158.0 extracted\n",
        "loading dataset into data structure...\n"
       ]
      },
      {
       "output_type": "stream",
       "stream": "stderr",
       "text": [
        "WARNING:root:sweep 22: ['Recording stopped before completing the experiment epoch']\n"
       ]
      },
      {
       "output_type": "stream",
       "stream": "stderr",
       "text": [
        "WARNING:root:sweep 23: ['Recording stopped before completing the experiment epoch']\n"
       ]
      },
      {
       "output_type": "stream",
       "stream": "stderr",
       "text": [
        "WARNING:root:sweep 24: ['Recording stopped before completing the experiment epoch']\n"
       ]
      },
      {
       "output_type": "stream",
       "stream": "stderr",
       "text": [
        "WARNING:root:sweep 25: ['Recording stopped before completing the experiment epoch']\n"
       ]
      },
      {
       "output_type": "stream",
       "stream": "stderr",
       "text": [
        "WARNING:root:sweep 26: ['Recording stopped before completing the experiment epoch']\n"
       ]
      },
      {
       "output_type": "stream",
       "stream": "stderr",
       "text": [
        "WARNING:root:sweep 27: ['Recording stopped before completing the experiment epoch']\n"
       ]
      },
      {
       "output_type": "stream",
       "stream": "stdout",
       "text": [
        "669825289.0 extracted\n",
        "loading dataset into data structure...\n"
       ]
      },
      {
       "output_type": "stream",
       "stream": "stderr",
       "text": [
        "WARNING:root:sweep 22: ['Recording stopped before completing the experiment epoch']\n"
       ]
      },
      {
       "output_type": "stream",
       "stream": "stderr",
       "text": [
        "WARNING:root:sweep 23: ['Recording stopped before completing the experiment epoch']\n"
       ]
      },
      {
       "output_type": "stream",
       "stream": "stderr",
       "text": [
        "WARNING:root:sweep 24: ['Recording stopped before completing the experiment epoch']\n"
       ]
      },
      {
       "output_type": "stream",
       "stream": "stderr",
       "text": [
        "WARNING:root:sweep 25: ['Recording stopped before completing the experiment epoch']\n"
       ]
      },
      {
       "output_type": "stream",
       "stream": "stderr",
       "text": [
        "WARNING:root:sweep 26: ['Recording stopped before completing the experiment epoch']\n"
       ]
      },
      {
       "output_type": "stream",
       "stream": "stderr",
       "text": [
        "WARNING:root:sweep 27: ['Recording stopped before completing the experiment epoch']\n"
       ]
      },
      {
       "output_type": "stream",
       "stream": "stderr",
       "text": [
        "WARNING:root:sweep 28: ['Recording stopped before completing the experiment epoch']\n"
       ]
      },
      {
       "output_type": "stream",
       "stream": "stdout",
       "text": [
        "669838950.0 extracted\n",
        "loading dataset into data structure...\n"
       ]
      },
      {
       "output_type": "stream",
       "stream": "stderr",
       "text": [
        "WARNING:root:sweep 28: ['Recording stopped before completing the experiment epoch']\n"
       ]
      },
      {
       "output_type": "stream",
       "stream": "stderr",
       "text": [
        "WARNING:root:sweep 29: ['Recording stopped before completing the experiment epoch']\n"
       ]
      },
      {
       "output_type": "stream",
       "stream": "stderr",
       "text": [
        "WARNING:root:sweep 30: ['Recording stopped before completing the experiment epoch']\n"
       ]
      },
      {
       "output_type": "stream",
       "stream": "stderr",
       "text": [
        "WARNING:root:sweep 31: ['Recording stopped before completing the experiment epoch']\n"
       ]
      },
      {
       "output_type": "stream",
       "stream": "stderr",
       "text": [
        "WARNING:root:sweep 32: ['Recording stopped before completing the experiment epoch']\n"
       ]
      },
      {
       "output_type": "stream",
       "stream": "stderr",
       "text": [
        "WARNING:root:sweep 36: ['Recording stopped before completing the experiment epoch']\n"
       ]
      },
      {
       "output_type": "stream",
       "stream": "stdout",
       "text": [
        "670066005.0 extracted\n",
        "loading dataset into data structure...\n"
       ]
      },
      {
       "output_type": "stream",
       "stream": "stderr",
       "text": [
        "WARNING:root:sweep 37: ['Recording stopped before completing the experiment epoch']\n"
       ]
      },
      {
       "output_type": "stream",
       "stream": "stderr",
       "text": [
        "WARNING:root:sweep 38: ['Recording stopped before completing the experiment epoch']\n"
       ]
      },
      {
       "output_type": "stream",
       "stream": "stderr",
       "text": [
        "WARNING:root:sweep 39: ['Recording stopped before completing the experiment epoch']\n"
       ]
      },
      {
       "output_type": "stream",
       "stream": "stderr",
       "text": [
        "WARNING:root:sweep 40: ['Recording stopped before completing the experiment epoch']\n"
       ]
      },
      {
       "output_type": "stream",
       "stream": "stderr",
       "text": [
        "WARNING:root:sweep 41: ['Recording stopped before completing the experiment epoch']\n"
       ]
      },
      {
       "output_type": "stream",
       "stream": "stderr",
       "text": [
        "WARNING:root:sweep 42: ['Recording stopped before completing the experiment epoch']\n"
       ]
      },
      {
       "output_type": "stream",
       "stream": "stderr",
       "text": [
        "WARNING:root:sweep 43: ['Recording stopped before completing the experiment epoch']\n"
       ]
      },
      {
       "output_type": "stream",
       "stream": "stdout",
       "text": [
        "670091720.0 extracted\n",
        "loading dataset into data structure...\n"
       ]
      },
      {
       "output_type": "stream",
       "stream": "stderr",
       "text": [
        "WARNING:root:sweep 26: ['Recording stopped before completing the experiment epoch']\n"
       ]
      },
      {
       "output_type": "stream",
       "stream": "stderr",
       "text": [
        "WARNING:root:sweep 27: ['Recording stopped before completing the experiment epoch']\n"
       ]
      },
      {
       "output_type": "stream",
       "stream": "stderr",
       "text": [
        "WARNING:root:sweep 28: ['Recording stopped before completing the experiment epoch']\n"
       ]
      },
      {
       "output_type": "stream",
       "stream": "stderr",
       "text": [
        "WARNING:root:sweep 29: ['Recording stopped before completing the experiment epoch']\n"
       ]
      },
      {
       "output_type": "stream",
       "stream": "stderr",
       "text": [
        "WARNING:root:sweep 30: ['Recording stopped before completing the experiment epoch']\n"
       ]
      },
      {
       "output_type": "stream",
       "stream": "stderr",
       "text": [
        "/nethome/kcni/ychen/.local/lib/python3.6/site-packages/ipfx/spike_features.py:87: RuntimeWarning: invalid value encountered in less\n",
        "  width_levels[width_levels < v[spike_indexes]] = thresh_to_peak_levels[width_levels < v[spike_indexes]]\n"
       ]
      },
      {
       "output_type": "stream",
       "stream": "stdout",
       "text": [
        "670106972.0 extracted\n",
        "loading dataset into data structure...\n"
       ]
      },
      {
       "output_type": "stream",
       "stream": "stderr",
       "text": [
        "WARNING:root:sweep 25: ['Recording stopped before completing the experiment epoch']\n"
       ]
      },
      {
       "output_type": "stream",
       "stream": "stderr",
       "text": [
        "WARNING:root:sweep 26: ['Recording stopped before completing the experiment epoch']\n"
       ]
      },
      {
       "output_type": "stream",
       "stream": "stderr",
       "text": [
        "WARNING:root:sweep 27: ['Recording stopped before completing the experiment epoch']\n"
       ]
      },
      {
       "output_type": "stream",
       "stream": "stderr",
       "text": [
        "WARNING:root:sweep 28: ['Recording stopped before completing the experiment epoch']\n"
       ]
      },
      {
       "output_type": "stream",
       "stream": "stderr",
       "text": [
        "WARNING:root:sweep 29: ['Recording stopped before completing the experiment epoch']\n"
       ]
      },
      {
       "output_type": "stream",
       "stream": "stderr",
       "text": [
        "WARNING:root:sweep 30: ['Recording stopped before completing the experiment epoch']\n"
       ]
      },
      {
       "output_type": "stream",
       "stream": "stdout",
       "text": [
        "670153271.0 extracted\n",
        "loading dataset into data structure...\n"
       ]
      },
      {
       "output_type": "stream",
       "stream": "stdout",
       "text": [
        "670295503.0 extracted\n",
        "loading dataset into data structure...\n"
       ]
      },
      {
       "output_type": "stream",
       "stream": "stderr",
       "text": [
        "/nethome/kcni/ychen/.local/lib/python3.6/site-packages/ipfx/spike_features.py:87: RuntimeWarning: invalid value encountered in less\n",
        "  width_levels[width_levels < v[spike_indexes]] = thresh_to_peak_levels[width_levels < v[spike_indexes]]\n"
       ]
      },
      {
       "output_type": "stream",
       "stream": "stdout",
       "text": [
        "670326711.0 extracted\n",
        "loading dataset into data structure...\n"
       ]
      },
      {
       "output_type": "stream",
       "stream": "stderr",
       "text": [
        "WARNING:root:sweep 19: ['Recording stopped before completing the experiment epoch']\n"
       ]
      },
      {
       "output_type": "stream",
       "stream": "stderr",
       "text": [
        "WARNING:root:sweep 20: ['Recording stopped before completing the experiment epoch']\n"
       ]
      },
      {
       "output_type": "stream",
       "stream": "stderr",
       "text": [
        "WARNING:root:sweep 21: ['Recording stopped before completing the experiment epoch']\n"
       ]
      },
      {
       "output_type": "stream",
       "stream": "stderr",
       "text": [
        "WARNING:root:sweep 22: ['Recording stopped before completing the experiment epoch']\n"
       ]
      },
      {
       "output_type": "stream",
       "stream": "stderr",
       "text": [
        "WARNING:root:sweep 23: ['Recording stopped before completing the experiment epoch']\n"
       ]
      },
      {
       "output_type": "stream",
       "stream": "stdout",
       "text": [
        "670329639.0 extracted\n",
        "loading dataset into data structure...\n"
       ]
      },
      {
       "output_type": "stream",
       "stream": "stderr",
       "text": [
        "WARNING:root:sweep 26: ['Recording stopped before completing the experiment epoch']\n"
       ]
      },
      {
       "output_type": "stream",
       "stream": "stderr",
       "text": [
        "WARNING:root:sweep 27: ['Recording stopped before completing the experiment epoch']\n"
       ]
      },
      {
       "output_type": "stream",
       "stream": "stderr",
       "text": [
        "WARNING:root:sweep 28: ['Recording stopped before completing the experiment epoch']\n"
       ]
      },
      {
       "output_type": "stream",
       "stream": "stderr",
       "text": [
        "WARNING:root:sweep 29: ['Recording stopped before completing the experiment epoch']\n"
       ]
      },
      {
       "output_type": "stream",
       "stream": "stderr",
       "text": [
        "WARNING:root:sweep 30: ['Recording stopped before completing the experiment epoch']\n"
       ]
      },
      {
       "output_type": "stream",
       "stream": "stdout",
       "text": [
        "670340941.0 extracted\n",
        "loading dataset into data structure...\n"
       ]
      },
      {
       "output_type": "stream",
       "stream": "stderr",
       "text": [
        "/nethome/kcni/ychen/.local/lib/python3.6/site-packages/ipfx/spike_features.py:87: RuntimeWarning: invalid value encountered in less\n",
        "  width_levels[width_levels < v[spike_indexes]] = thresh_to_peak_levels[width_levels < v[spike_indexes]]\n"
       ]
      },
      {
       "output_type": "stream",
       "stream": "stdout",
       "text": [
        "670607755.0 extracted\n",
        "loading dataset into data structure...\n"
       ]
      },
      {
       "output_type": "stream",
       "stream": "stderr",
       "text": [
        "WARNING:root:sweep 23: ['Recording stopped before completing the experiment epoch']\n"
       ]
      },
      {
       "output_type": "stream",
       "stream": "stderr",
       "text": [
        "WARNING:root:sweep 24: ['Recording stopped before completing the experiment epoch']\n"
       ]
      },
      {
       "output_type": "stream",
       "stream": "stderr",
       "text": [
        "WARNING:root:sweep 25: ['Recording stopped before completing the experiment epoch']\n"
       ]
      },
      {
       "output_type": "stream",
       "stream": "stderr",
       "text": [
        "WARNING:root:sweep 26: ['Recording stopped before completing the experiment epoch']\n"
       ]
      },
      {
       "output_type": "stream",
       "stream": "stderr",
       "text": [
        "WARNING:root:sweep 27: ['Recording stopped before completing the experiment epoch']\n"
       ]
      },
      {
       "output_type": "stream",
       "stream": "stderr",
       "text": [
        "WARNING:root:sweep 28: ['Recording stopped before completing the experiment epoch']\n"
       ]
      },
      {
       "output_type": "stream",
       "stream": "stderr",
       "text": [
        "/nethome/kcni/ychen/.local/lib/python3.6/site-packages/ipfx/spike_features.py:87: RuntimeWarning: invalid value encountered in less\n",
        "  width_levels[width_levels < v[spike_indexes]] = thresh_to_peak_levels[width_levels < v[spike_indexes]]\n"
       ]
      },
      {
       "output_type": "stream",
       "stream": "stdout",
       "text": [
        "670666224.0 extracted\n",
        "loading dataset into data structure...\n"
       ]
      },
      {
       "output_type": "stream",
       "stream": "stderr",
       "text": [
        "/nethome/kcni/ychen/.local/lib/python3.6/site-packages/ipfx/spike_features.py:87: RuntimeWarning: invalid value encountered in less\n",
        "  width_levels[width_levels < v[spike_indexes]] = thresh_to_peak_levels[width_levels < v[spike_indexes]]\n"
       ]
      },
      {
       "output_type": "stream",
       "stream": "stdout",
       "text": [
        "670686401.0 extracted\n",
        "loading dataset into data structure...\n"
       ]
      },
      {
       "output_type": "stream",
       "stream": "stderr",
       "text": [
        "WARNING:root:sweep 38: ['Recording stopped before completing the experiment epoch']\n"
       ]
      },
      {
       "output_type": "stream",
       "stream": "stderr",
       "text": [
        "WARNING:root:sweep 39: ['Recording stopped before completing the experiment epoch']\n"
       ]
      },
      {
       "output_type": "stream",
       "stream": "stderr",
       "text": [
        "WARNING:root:sweep 40: ['Recording stopped before completing the experiment epoch']\n"
       ]
      },
      {
       "output_type": "stream",
       "stream": "stderr",
       "text": [
        "WARNING:root:sweep 41: ['Recording stopped before completing the experiment epoch']\n"
       ]
      },
      {
       "output_type": "stream",
       "stream": "stderr",
       "text": [
        "WARNING:root:sweep 42: ['Recording stopped before completing the experiment epoch']\n"
       ]
      },
      {
       "output_type": "stream",
       "stream": "stderr",
       "text": [
        "WARNING:root:sweep 46: ['Recording stopped before completing the experiment epoch']\n"
       ]
      },
      {
       "output_type": "stream",
       "stream": "stderr",
       "text": [
        "WARNING:root:sweep 56: ['Recording stopped before completing the experiment epoch']\n"
       ]
      },
      {
       "output_type": "stream",
       "stream": "stdout",
       "text": [
        "670698462.0 extracted\n",
        "loading dataset into data structure...\n"
       ]
      },
      {
       "output_type": "stream",
       "stream": "stderr",
       "text": [
        "WARNING:root:sweep 18: ['Recording stopped before completing the experiment epoch']\n"
       ]
      },
      {
       "output_type": "stream",
       "stream": "stderr",
       "text": [
        "WARNING:root:sweep 19: ['Recording stopped before completing the experiment epoch']\n"
       ]
      },
      {
       "output_type": "stream",
       "stream": "stderr",
       "text": [
        "WARNING:root:sweep 20: ['Recording stopped before completing the experiment epoch']\n"
       ]
      },
      {
       "output_type": "stream",
       "stream": "stderr",
       "text": [
        "WARNING:root:sweep 21: ['Recording stopped before completing the experiment epoch']\n"
       ]
      },
      {
       "output_type": "stream",
       "stream": "stderr",
       "text": [
        "WARNING:root:sweep 22: ['Recording stopped before completing the experiment epoch']\n"
       ]
      },
      {
       "output_type": "stream",
       "stream": "stdout",
       "text": [
        "670709216.0 extracted\n",
        "loading dataset into data structure...\n"
       ]
      },
      {
       "output_type": "stream",
       "stream": "stderr",
       "text": [
        "/nethome/kcni/ychen/.local/lib/python3.6/site-packages/ipfx/spike_features.py:87: RuntimeWarning: invalid value encountered in less\n",
        "  width_levels[width_levels < v[spike_indexes]] = thresh_to_peak_levels[width_levels < v[spike_indexes]]\n"
       ]
      },
      {
       "output_type": "stream",
       "stream": "stdout",
       "text": [
        "671529949.0 extracted\n",
        "loading dataset into data structure...\n"
       ]
      },
      {
       "output_type": "stream",
       "stream": "stderr",
       "text": [
        "WARNING:root:sweep 22: ['Recording stopped before completing the experiment epoch']\n"
       ]
      },
      {
       "output_type": "stream",
       "stream": "stderr",
       "text": [
        "WARNING:root:sweep 23: ['Recording stopped before completing the experiment epoch']\n"
       ]
      },
      {
       "output_type": "stream",
       "stream": "stderr",
       "text": [
        "WARNING:root:sweep 24: ['Recording stopped before completing the experiment epoch']\n"
       ]
      },
      {
       "output_type": "stream",
       "stream": "stderr",
       "text": [
        "WARNING:root:sweep 25: ['Recording stopped before completing the experiment epoch']\n"
       ]
      },
      {
       "output_type": "stream",
       "stream": "stderr",
       "text": [
        "WARNING:root:sweep 26: ['Recording stopped before completing the experiment epoch']\n"
       ]
      },
      {
       "output_type": "stream",
       "stream": "stderr",
       "text": [
        "WARNING:root:sweep 27: ['Recording stopped before completing the experiment epoch']\n"
       ]
      },
      {
       "output_type": "stream",
       "stream": "stderr",
       "text": [
        "/nethome/kcni/ychen/.local/lib/python3.6/site-packages/ipfx/spike_features.py:87: RuntimeWarning: invalid value encountered in less\n",
        "  width_levels[width_levels < v[spike_indexes]] = thresh_to_peak_levels[width_levels < v[spike_indexes]]\n"
       ]
      },
      {
       "output_type": "stream",
       "stream": "stdout",
       "text": [
        "671544471.0 extracted\n",
        "loading dataset into data structure...\n"
       ]
      },
      {
       "output_type": "stream",
       "stream": "stderr",
       "text": [
        "/nethome/kcni/ychen/.local/lib/python3.6/site-packages/ipfx/spike_features.py:87: RuntimeWarning: invalid value encountered in less\n",
        "  width_levels[width_levels < v[spike_indexes]] = thresh_to_peak_levels[width_levels < v[spike_indexes]]\n"
       ]
      },
      {
       "output_type": "stream",
       "stream": "stdout",
       "text": [
        "671547731.0 extracted\n",
        "loading dataset into data structure...\n"
       ]
      },
      {
       "output_type": "stream",
       "stream": "stdout",
       "text": [
        "671822971.0 extracted\n",
        "loading dataset into data structure...\n"
       ]
      },
      {
       "output_type": "stream",
       "stream": "stderr",
       "text": [
        "WARNING:root:sweep 17: ['Recording stopped before completing the experiment epoch']\n"
       ]
      },
      {
       "output_type": "stream",
       "stream": "stderr",
       "text": [
        "WARNING:root:sweep 18: ['Recording stopped before completing the experiment epoch']\n"
       ]
      },
      {
       "output_type": "stream",
       "stream": "stderr",
       "text": [
        "WARNING:root:sweep 19: ['Recording stopped before completing the experiment epoch']\n"
       ]
      },
      {
       "output_type": "stream",
       "stream": "stderr",
       "text": [
        "WARNING:root:sweep 20: ['Recording stopped before completing the experiment epoch']\n"
       ]
      },
      {
       "output_type": "stream",
       "stream": "stderr",
       "text": [
        "WARNING:root:sweep 21: ['Recording stopped before completing the experiment epoch']\n"
       ]
      },
      {
       "output_type": "stream",
       "stream": "stdout",
       "text": [
        "671840004.0 extracted\n",
        "loading dataset into data structure...\n"
       ]
      },
      {
       "output_type": "stream",
       "stream": "stdout",
       "text": [
        "671876425.0 extracted\n",
        "loading dataset into data structure...\n"
       ]
      },
      {
       "output_type": "stream",
       "stream": "stderr",
       "text": [
        "WARNING:root:sweep 18: ['Recording stopped before completing the experiment epoch']\n"
       ]
      },
      {
       "output_type": "stream",
       "stream": "stderr",
       "text": [
        "WARNING:root:sweep 19: ['Recording stopped before completing the experiment epoch']\n"
       ]
      },
      {
       "output_type": "stream",
       "stream": "stderr",
       "text": [
        "WARNING:root:sweep 20: ['Recording stopped before completing the experiment epoch']\n"
       ]
      },
      {
       "output_type": "stream",
       "stream": "stderr",
       "text": [
        "WARNING:root:sweep 21: ['Recording stopped before completing the experiment epoch']\n"
       ]
      },
      {
       "output_type": "stream",
       "stream": "stderr",
       "text": [
        "WARNING:root:sweep 22: ['Recording stopped before completing the experiment epoch']\n"
       ]
      },
      {
       "output_type": "stream",
       "stream": "stdout",
       "text": [
        "671943738.0 extracted\n",
        "loading dataset into data structure...\n"
       ]
      },
      {
       "output_type": "stream",
       "stream": "stdout",
       "text": [
        "672318911.0 extracted\n",
        "loading dataset into data structure...\n"
       ]
      },
      {
       "output_type": "stream",
       "stream": "stdout",
       "text": [
        "672346130.0 extracted\n",
        "loading dataset into data structure...\n"
       ]
      },
      {
       "output_type": "stream",
       "stream": "stdout",
       "text": [
        "672346340.0 extracted\n",
        "loading dataset into data structure...\n"
       ]
      },
      {
       "output_type": "stream",
       "stream": "stdout",
       "text": [
        "672392283.0 extracted\n",
        "loading dataset into data structure...\n"
       ]
      },
      {
       "output_type": "stream",
       "stream": "stdout",
       "text": [
        "672414832.0 extracted\n",
        "loading dataset into data structure...\n"
       ]
      },
      {
       "output_type": "stream",
       "stream": "stderr",
       "text": [
        "WARNING:root:sweep 21: ['experiment epoch is missing', 'stim epoch is missing']\n"
       ]
      },
      {
       "output_type": "stream",
       "stream": "stdout",
       "text": [
        "672444950.0 extracted\n",
        "loading dataset into data structure...\n"
       ]
      },
      {
       "output_type": "stream",
       "stream": "stderr",
       "text": [
        "WARNING:root:sweep 34: ['Recording stopped before completing the experiment epoch']\n"
       ]
      },
      {
       "output_type": "stream",
       "stream": "stderr",
       "text": [
        "WARNING:root:sweep 35: ['Recording stopped before completing the experiment epoch']\n"
       ]
      },
      {
       "output_type": "stream",
       "stream": "stderr",
       "text": [
        "WARNING:root:sweep 36: ['Recording stopped before completing the experiment epoch']\n"
       ]
      },
      {
       "output_type": "stream",
       "stream": "stderr",
       "text": [
        "WARNING:root:sweep 37: ['Recording stopped before completing the experiment epoch']\n"
       ]
      },
      {
       "output_type": "stream",
       "stream": "stderr",
       "text": [
        "WARNING:root:sweep 38: ['Recording stopped before completing the experiment epoch']\n"
       ]
      },
      {
       "output_type": "stream",
       "stream": "stderr",
       "text": [
        "WARNING:root:sweep 42: ['Recording stopped before completing the experiment epoch']\n"
       ]
      },
      {
       "output_type": "stream",
       "stream": "stdout",
       "text": [
        "672460582.0 extracted\n",
        "loading dataset into data structure...\n"
       ]
      },
      {
       "output_type": "stream",
       "stream": "stderr",
       "text": [
        "WARNING:root:sweep 19: ['Recording stopped before completing the experiment epoch']\n"
       ]
      },
      {
       "output_type": "stream",
       "stream": "stderr",
       "text": [
        "WARNING:root:sweep 20: ['Recording stopped before completing the experiment epoch']\n"
       ]
      },
      {
       "output_type": "stream",
       "stream": "stderr",
       "text": [
        "WARNING:root:sweep 21: ['Recording stopped before completing the experiment epoch']\n"
       ]
      },
      {
       "output_type": "stream",
       "stream": "stderr",
       "text": [
        "WARNING:root:sweep 22: ['Recording stopped before completing the experiment epoch']\n"
       ]
      },
      {
       "output_type": "stream",
       "stream": "stderr",
       "text": [
        "WARNING:root:sweep 23: ['Recording stopped before completing the experiment epoch']\n"
       ]
      },
      {
       "output_type": "stream",
       "stream": "stderr",
       "text": [
        "/nethome/kcni/ychen/.local/lib/python3.6/site-packages/ipfx/spike_features.py:87: RuntimeWarning: invalid value encountered in less\n",
        "  width_levels[width_levels < v[spike_indexes]] = thresh_to_peak_levels[width_levels < v[spike_indexes]]\n"
       ]
      },
      {
       "output_type": "stream",
       "stream": "stdout",
       "text": [
        "672494596.0 extracted\n",
        "loading dataset into data structure...\n"
       ]
      },
      {
       "output_type": "stream",
       "stream": "stdout",
       "text": [
        "672812091.0 extracted\n",
        "loading dataset into data structure...\n"
       ]
      },
      {
       "output_type": "stream",
       "stream": "stdout",
       "text": [
        "672823119.0 extracted\n",
        "loading dataset into data structure...\n"
       ]
      },
      {
       "output_type": "stream",
       "stream": "stderr",
       "text": [
        "WARNING:root:sweep 18: ['Recording stopped before completing the experiment epoch']\n"
       ]
      },
      {
       "output_type": "stream",
       "stream": "stderr",
       "text": [
        "WARNING:root:sweep 19: ['Recording stopped before completing the experiment epoch']\n"
       ]
      },
      {
       "output_type": "stream",
       "stream": "stderr",
       "text": [
        "WARNING:root:sweep 20: ['Recording stopped before completing the experiment epoch']\n"
       ]
      },
      {
       "output_type": "stream",
       "stream": "stderr",
       "text": [
        "WARNING:root:sweep 21: ['Recording stopped before completing the experiment epoch']\n"
       ]
      },
      {
       "output_type": "stream",
       "stream": "stderr",
       "text": [
        "WARNING:root:sweep 22: ['Recording stopped before completing the experiment epoch']\n"
       ]
      },
      {
       "output_type": "stream",
       "stream": "stdout",
       "text": [
        "672839890.0 extracted\n",
        "loading dataset into data structure...\n"
       ]
      },
      {
       "output_type": "stream",
       "stream": "stderr",
       "text": [
        "WARNING:root:sweep 38: ['Recording stopped before completing the experiment epoch']\n"
       ]
      },
      {
       "output_type": "stream",
       "stream": "stderr",
       "text": [
        "WARNING:root:sweep 39: ['Recording stopped before completing the experiment epoch']\n"
       ]
      },
      {
       "output_type": "stream",
       "stream": "stderr",
       "text": [
        "WARNING:root:sweep 40: ['Recording stopped before completing the experiment epoch']\n"
       ]
      },
      {
       "output_type": "stream",
       "stream": "stderr",
       "text": [
        "WARNING:root:sweep 41: ['Recording stopped before completing the experiment epoch']\n"
       ]
      },
      {
       "output_type": "stream",
       "stream": "stderr",
       "text": [
        "WARNING:root:sweep 42: ['Recording stopped before completing the experiment epoch']\n"
       ]
      },
      {
       "output_type": "stream",
       "stream": "stderr",
       "text": [
        "/nethome/kcni/ychen/.local/lib/python3.6/site-packages/ipfx/spike_features.py:87: RuntimeWarning: invalid value encountered in less\n",
        "  width_levels[width_levels < v[spike_indexes]] = thresh_to_peak_levels[width_levels < v[spike_indexes]]\n"
       ]
      },
      {
       "output_type": "stream",
       "stream": "stdout",
       "text": [
        "672871389.0 extracted\n",
        "loading dataset into data structure...\n"
       ]
      },
      {
       "output_type": "stream",
       "stream": "stderr",
       "text": [
        "WARNING:root:sweep 28: ['Recording stopped before completing the experiment epoch']\n"
       ]
      },
      {
       "output_type": "stream",
       "stream": "stderr",
       "text": [
        "WARNING:root:sweep 29: ['Recording stopped before completing the experiment epoch']\n"
       ]
      },
      {
       "output_type": "stream",
       "stream": "stderr",
       "text": [
        "WARNING:root:sweep 30: ['Recording stopped before completing the experiment epoch']\n"
       ]
      },
      {
       "output_type": "stream",
       "stream": "stderr",
       "text": [
        "WARNING:root:sweep 31: ['Recording stopped before completing the experiment epoch']\n"
       ]
      },
      {
       "output_type": "stream",
       "stream": "stderr",
       "text": [
        "WARNING:root:sweep 32: ['Recording stopped before completing the experiment epoch']\n"
       ]
      },
      {
       "output_type": "stream",
       "stream": "stderr",
       "text": [
        "WARNING:root:sweep 33: ['Recording stopped before completing the experiment epoch']\n"
       ]
      },
      {
       "output_type": "stream",
       "stream": "stdout",
       "text": [
        "672871774.0 extracted\n",
        "loading dataset into data structure...\n"
       ]
      },
      {
       "output_type": "stream",
       "stream": "stdout",
       "text": [
        "672918290.0 extracted\n",
        "loading dataset into data structure...\n"
       ]
      },
      {
       "output_type": "stream",
       "stream": "stderr",
       "text": [
        "WARNING:root:sweep 23: ['Recording stopped before completing the experiment epoch']\n"
       ]
      },
      {
       "output_type": "stream",
       "stream": "stderr",
       "text": [
        "WARNING:root:sweep 24: ['Recording stopped before completing the experiment epoch']\n"
       ]
      },
      {
       "output_type": "stream",
       "stream": "stderr",
       "text": [
        "WARNING:root:sweep 25: ['Recording stopped before completing the experiment epoch']\n"
       ]
      },
      {
       "output_type": "stream",
       "stream": "stderr",
       "text": [
        "WARNING:root:sweep 26: ['Recording stopped before completing the experiment epoch']\n"
       ]
      },
      {
       "output_type": "stream",
       "stream": "stderr",
       "text": [
        "WARNING:root:sweep 27: ['Recording stopped before completing the experiment epoch']\n"
       ]
      },
      {
       "output_type": "stream",
       "stream": "stderr",
       "text": [
        "WARNING:root:sweep 28: ['Recording stopped before completing the experiment epoch']\n"
       ]
      },
      {
       "output_type": "stream",
       "stream": "stdout",
       "text": [
        "672977850.0 extracted\n",
        "loading dataset into data structure...\n"
       ]
      },
      {
       "output_type": "stream",
       "stream": "stdout",
       "text": [
        "673047103.0 extracted\n",
        "loading dataset into data structure...\n"
       ]
      },
      {
       "output_type": "stream",
       "stream": "stderr",
       "text": [
        "WARNING:root:sweep 33: ['Recording stopped before completing the experiment epoch']\n"
       ]
      },
      {
       "output_type": "stream",
       "stream": "stderr",
       "text": [
        "WARNING:root:sweep 34: ['Recording stopped before completing the experiment epoch']\n"
       ]
      },
      {
       "output_type": "stream",
       "stream": "stderr",
       "text": [
        "WARNING:root:sweep 35: ['Recording stopped before completing the experiment epoch']\n"
       ]
      },
      {
       "output_type": "stream",
       "stream": "stderr",
       "text": [
        "WARNING:root:sweep 36: ['Recording stopped before completing the experiment epoch']\n"
       ]
      },
      {
       "output_type": "stream",
       "stream": "stderr",
       "text": [
        "WARNING:root:sweep 37: ['Recording stopped before completing the experiment epoch']\n"
       ]
      },
      {
       "output_type": "stream",
       "stream": "stdout",
       "text": [
        "673082762.0 extracted\n",
        "loading dataset into data structure...\n"
       ]
      },
      {
       "output_type": "stream",
       "stream": "stdout",
       "text": [
        "673103568.0 extracted\n",
        "loading dataset into data structure...\n"
       ]
      },
      {
       "output_type": "stream",
       "stream": "stderr",
       "text": [
        "WARNING:root:sweep 21: ['Recording stopped before completing the experiment epoch']\n"
       ]
      },
      {
       "output_type": "stream",
       "stream": "stderr",
       "text": [
        "WARNING:root:sweep 22: ['Recording stopped before completing the experiment epoch']\n"
       ]
      },
      {
       "output_type": "stream",
       "stream": "stderr",
       "text": [
        "WARNING:root:sweep 23: ['Recording stopped before completing the experiment epoch']\n"
       ]
      },
      {
       "output_type": "stream",
       "stream": "stderr",
       "text": [
        "WARNING:root:sweep 24: ['Recording stopped before completing the experiment epoch']\n"
       ]
      },
      {
       "output_type": "stream",
       "stream": "stderr",
       "text": [
        "WARNING:root:sweep 25: ['Recording stopped before completing the experiment epoch']\n"
       ]
      },
      {
       "output_type": "stream",
       "stream": "stdout",
       "text": [
        "673121351.0 extracted\n",
        "loading dataset into data structure...\n"
       ]
      },
      {
       "output_type": "stream",
       "stream": "stdout",
       "text": [
        "673132928.0 extracted\n",
        "loading dataset into data structure...\n"
       ]
      },
      {
       "output_type": "stream",
       "stream": "stderr",
       "text": [
        "WARNING:root:sweep 19: ['Recording stopped before completing the experiment epoch']\n"
       ]
      },
      {
       "output_type": "stream",
       "stream": "stderr",
       "text": [
        "WARNING:root:sweep 20: ['Recording stopped before completing the experiment epoch']\n"
       ]
      },
      {
       "output_type": "stream",
       "stream": "stderr",
       "text": [
        "WARNING:root:sweep 21: ['Recording stopped before completing the experiment epoch']\n"
       ]
      },
      {
       "output_type": "stream",
       "stream": "stderr",
       "text": [
        "WARNING:root:sweep 22: ['Recording stopped before completing the experiment epoch']\n"
       ]
      },
      {
       "output_type": "stream",
       "stream": "stderr",
       "text": [
        "WARNING:root:sweep 23: ['Recording stopped before completing the experiment epoch']\n"
       ]
      },
      {
       "output_type": "stream",
       "stream": "stdout",
       "text": [
        "673139917.0 extracted\n",
        "loading dataset into data structure...\n"
       ]
      },
      {
       "output_type": "stream",
       "stream": "stderr",
       "text": [
        "/nethome/kcni/ychen/.local/lib/python3.6/site-packages/ipfx/spike_features.py:87: RuntimeWarning: invalid value encountered in less\n",
        "  width_levels[width_levels < v[spike_indexes]] = thresh_to_peak_levels[width_levels < v[spike_indexes]]\n"
       ]
      },
      {
       "output_type": "stream",
       "stream": "stdout",
       "text": [
        "673395815.0 extracted\n",
        "loading dataset into data structure...\n"
       ]
      },
      {
       "output_type": "stream",
       "stream": "stdout",
       "text": [
        "673427380.0 extracted\n",
        "loading dataset into data structure...\n"
       ]
      },
      {
       "output_type": "stream",
       "stream": "stdout",
       "text": [
        "673692648.0 extracted\n",
        "loading dataset into data structure...\n"
       ]
      },
      {
       "output_type": "stream",
       "stream": "stdout",
       "text": [
        "673724358.0 extracted\n",
        "loading dataset into data structure...\n"
       ]
      },
      {
       "output_type": "stream",
       "stream": "stderr",
       "text": [
        "WARNING:root:sweep 29: ['Recording stopped before completing the experiment epoch']\n"
       ]
      },
      {
       "output_type": "stream",
       "stream": "stderr",
       "text": [
        "WARNING:root:sweep 30: ['Recording stopped before completing the experiment epoch']\n"
       ]
      },
      {
       "output_type": "stream",
       "stream": "stderr",
       "text": [
        "WARNING:root:sweep 31: ['Recording stopped before completing the experiment epoch']\n"
       ]
      },
      {
       "output_type": "stream",
       "stream": "stderr",
       "text": [
        "WARNING:root:sweep 32: ['Recording stopped before completing the experiment epoch']\n"
       ]
      },
      {
       "output_type": "stream",
       "stream": "stderr",
       "text": [
        "WARNING:root:sweep 33: ['Recording stopped before completing the experiment epoch']\n"
       ]
      },
      {
       "output_type": "stream",
       "stream": "stdout",
       "text": [
        "673753671.0 extracted\n",
        "loading dataset into data structure...\n"
       ]
      },
      {
       "output_type": "stream",
       "stream": "stdout",
       "text": [
        "673769249.0 extracted\n",
        "loading dataset into data structure...\n"
       ]
      },
      {
       "output_type": "stream",
       "stream": "stdout",
       "text": [
        "674069192.0 extracted\n",
        "loading dataset into data structure...\n"
       ]
      },
      {
       "output_type": "stream",
       "stream": "stdout",
       "text": [
        "674142820.0 extracted\n",
        "loading dataset into data structure...\n"
       ]
      },
      {
       "output_type": "stream",
       "stream": "stderr",
       "text": [
        "/nethome/kcni/ychen/.local/lib/python3.6/site-packages/ipfx/spike_features.py:87: RuntimeWarning: invalid value encountered in less\n",
        "  width_levels[width_levels < v[spike_indexes]] = thresh_to_peak_levels[width_levels < v[spike_indexes]]\n"
       ]
      },
      {
       "output_type": "stream",
       "stream": "stdout",
       "text": [
        "674144712.0 extracted\n",
        "loading dataset into data structure...\n"
       ]
      },
      {
       "output_type": "stream",
       "stream": "stdout",
       "text": [
        "674168361.0 extracted\n",
        "loading dataset into data structure...\n"
       ]
      },
      {
       "output_type": "stream",
       "stream": "stderr",
       "text": [
        "/nethome/kcni/ychen/.local/lib/python3.6/site-packages/ipfx/spike_features.py:87: RuntimeWarning: invalid value encountered in less\n",
        "  width_levels[width_levels < v[spike_indexes]] = thresh_to_peak_levels[width_levels < v[spike_indexes]]\n"
       ]
      },
      {
       "output_type": "stream",
       "stream": "stdout",
       "text": [
        "674168545.0 extracted\n",
        "loading dataset into data structure...\n"
       ]
      },
      {
       "output_type": "stream",
       "stream": "stderr",
       "text": [
        "WARNING:root:sweep 25: ['Recording stopped before completing the experiment epoch']\n"
       ]
      },
      {
       "output_type": "stream",
       "stream": "stderr",
       "text": [
        "WARNING:root:sweep 26: ['Recording stopped before completing the experiment epoch']\n"
       ]
      },
      {
       "output_type": "stream",
       "stream": "stderr",
       "text": [
        "WARNING:root:sweep 27: ['Recording stopped before completing the experiment epoch']\n"
       ]
      },
      {
       "output_type": "stream",
       "stream": "stderr",
       "text": [
        "WARNING:root:sweep 28: ['Recording stopped before completing the experiment epoch']\n"
       ]
      },
      {
       "output_type": "stream",
       "stream": "stderr",
       "text": [
        "WARNING:root:sweep 29: ['Recording stopped before completing the experiment epoch']\n"
       ]
      },
      {
       "output_type": "stream",
       "stream": "stdout",
       "text": [
        "674221323.0 extracted\n",
        "loading dataset into data structure...\n"
       ]
      },
      {
       "output_type": "stream",
       "stream": "stdout",
       "text": [
        "674238221.0 extracted\n",
        "loading dataset into data structure...\n"
       ]
      },
      {
       "output_type": "stream",
       "stream": "stdout",
       "text": [
        "674238265.0 extracted\n",
        "loading dataset into data structure...\n"
       ]
      },
      {
       "output_type": "stream",
       "stream": "stdout",
       "text": [
        "674240849.0 extracted\n",
        "loading dataset into data structure...\n"
       ]
      },
      {
       "output_type": "stream",
       "stream": "stdout",
       "text": [
        "674246494.0 extracted\n",
        "loading dataset into data structure...\n"
       ]
      },
      {
       "output_type": "stream",
       "stream": "stdout",
       "text": [
        "674247723.0 extracted\n",
        "loading dataset into data structure...\n"
       ]
      },
      {
       "output_type": "stream",
       "stream": "stderr",
       "text": [
        "WARNING:root:sweep 17: ['Recording stopped before completing the experiment epoch']\n"
       ]
      },
      {
       "output_type": "stream",
       "stream": "stderr",
       "text": [
        "WARNING:root:sweep 18: ['Recording stopped before completing the experiment epoch']\n"
       ]
      },
      {
       "output_type": "stream",
       "stream": "stderr",
       "text": [
        "WARNING:root:sweep 19: ['Recording stopped before completing the experiment epoch']\n"
       ]
      },
      {
       "output_type": "stream",
       "stream": "stderr",
       "text": [
        "WARNING:root:sweep 20: ['Recording stopped before completing the experiment epoch']\n"
       ]
      },
      {
       "output_type": "stream",
       "stream": "stderr",
       "text": [
        "WARNING:root:sweep 21: ['Recording stopped before completing the experiment epoch']\n"
       ]
      },
      {
       "output_type": "stream",
       "stream": "stdout",
       "text": [
        "674251116.0 extracted\n",
        "loading dataset into data structure...\n"
       ]
      },
      {
       "output_type": "stream",
       "stream": "stdout",
       "text": [
        "674260498.0 extracted\n",
        "loading dataset into data structure...\n"
       ]
      },
      {
       "output_type": "stream",
       "stream": "stderr",
       "text": [
        "WARNING:root:sweep 33: ['Recording stopped before completing the experiment epoch']\n"
       ]
      },
      {
       "output_type": "stream",
       "stream": "stderr",
       "text": [
        "WARNING:root:sweep 34: ['Recording stopped before completing the experiment epoch']\n"
       ]
      },
      {
       "output_type": "stream",
       "stream": "stderr",
       "text": [
        "WARNING:root:sweep 35: ['Recording stopped before completing the experiment epoch']\n"
       ]
      },
      {
       "output_type": "stream",
       "stream": "stderr",
       "text": [
        "WARNING:root:sweep 36: ['Recording stopped before completing the experiment epoch']\n"
       ]
      },
      {
       "output_type": "stream",
       "stream": "stderr",
       "text": [
        "WARNING:root:sweep 37: ['Recording stopped before completing the experiment epoch']\n"
       ]
      },
      {
       "output_type": "stream",
       "stream": "stdout",
       "text": [
        "674419902.0 extracted\n",
        "loading dataset into data structure...\n"
       ]
      },
      {
       "output_type": "stream",
       "stream": "stdout",
       "text": [
        "674420128.0 extracted\n",
        "loading dataset into data structure...\n"
       ]
      },
      {
       "output_type": "stream",
       "stream": "stderr",
       "text": [
        "/nethome/kcni/ychen/.local/lib/python3.6/site-packages/ipfx/spike_features.py:87: RuntimeWarning: invalid value encountered in less\n",
        "  width_levels[width_levels < v[spike_indexes]] = thresh_to_peak_levels[width_levels < v[spike_indexes]]\n"
       ]
      },
      {
       "output_type": "stream",
       "stream": "stdout",
       "text": [
        "674436459.0 extracted\n",
        "loading dataset into data structure...\n"
       ]
      },
      {
       "output_type": "stream",
       "stream": "stderr",
       "text": [
        "WARNING:root:sweep 30: ['Recording stopped before completing the experiment epoch']\n"
       ]
      },
      {
       "output_type": "stream",
       "stream": "stderr",
       "text": [
        "WARNING:root:sweep 31: ['Recording stopped before completing the experiment epoch']\n"
       ]
      },
      {
       "output_type": "stream",
       "stream": "stderr",
       "text": [
        "WARNING:root:sweep 32: ['Recording stopped before completing the experiment epoch']\n"
       ]
      },
      {
       "output_type": "stream",
       "stream": "stderr",
       "text": [
        "WARNING:root:sweep 33: ['Recording stopped before completing the experiment epoch']\n"
       ]
      },
      {
       "output_type": "stream",
       "stream": "stderr",
       "text": [
        "WARNING:root:sweep 34: ['Recording stopped before completing the experiment epoch']\n"
       ]
      },
      {
       "output_type": "stream",
       "stream": "stdout",
       "text": [
        "674449465.0 extracted\n",
        "loading dataset into data structure...\n"
       ]
      },
      {
       "output_type": "stream",
       "stream": "stdout",
       "text": [
        "674471452.0 extracted\n",
        "loading dataset into data structure...\n"
       ]
      },
      {
       "output_type": "stream",
       "stream": "stdout",
       "text": [
        "674482551.0 extracted\n",
        "loading dataset into data structure...\n"
       ]
      },
      {
       "output_type": "stream",
       "stream": "stderr",
       "text": [
        "WARNING:root:sweep 20: ['Recording stopped before completing the experiment epoch']\n"
       ]
      },
      {
       "output_type": "stream",
       "stream": "stderr",
       "text": [
        "WARNING:root:sweep 21: ['Recording stopped before completing the experiment epoch']\n"
       ]
      },
      {
       "output_type": "stream",
       "stream": "stderr",
       "text": [
        "WARNING:root:sweep 22: ['Recording stopped before completing the experiment epoch']\n"
       ]
      },
      {
       "output_type": "stream",
       "stream": "stderr",
       "text": [
        "WARNING:root:sweep 23: ['Recording stopped before completing the experiment epoch']\n"
       ]
      },
      {
       "output_type": "stream",
       "stream": "stderr",
       "text": [
        "WARNING:root:sweep 24: ['Recording stopped before completing the experiment epoch']\n"
       ]
      },
      {
       "output_type": "stream",
       "stream": "stderr",
       "text": [
        "WARNING:root:sweep 25: ['Recording stopped before completing the experiment epoch']\n"
       ]
      },
      {
       "output_type": "stream",
       "stream": "stderr",
       "text": [
        "WARNING:root:sweep 26: ['Recording stopped before completing the experiment epoch']\n"
       ]
      },
      {
       "output_type": "stream",
       "stream": "stderr",
       "text": [
        "WARNING:root:sweep 27: ['Recording stopped before completing the experiment epoch']\n"
       ]
      },
      {
       "output_type": "stream",
       "stream": "stderr",
       "text": [
        "WARNING:root:sweep 28: ['Recording stopped before completing the experiment epoch']\n"
       ]
      },
      {
       "output_type": "stream",
       "stream": "stdout",
       "text": [
        "674495385.0 extracted\n",
        "loading dataset into data structure...\n"
       ]
      },
      {
       "output_type": "stream",
       "stream": "stderr",
       "text": [
        "WARNING:root:sweep 20: ['Recording stopped before completing the experiment epoch']\n"
       ]
      },
      {
       "output_type": "stream",
       "stream": "stderr",
       "text": [
        "WARNING:root:sweep 21: ['Recording stopped before completing the experiment epoch']\n"
       ]
      },
      {
       "output_type": "stream",
       "stream": "stderr",
       "text": [
        "WARNING:root:sweep 22: ['Recording stopped before completing the experiment epoch']\n"
       ]
      },
      {
       "output_type": "stream",
       "stream": "stderr",
       "text": [
        "WARNING:root:sweep 23: ['Recording stopped before completing the experiment epoch']\n"
       ]
      },
      {
       "output_type": "stream",
       "stream": "stderr",
       "text": [
        "WARNING:root:sweep 24: ['Recording stopped before completing the experiment epoch']\n"
       ]
      },
      {
       "output_type": "stream",
       "stream": "stderr",
       "text": [
        "WARNING:root:sweep 25: ['Recording stopped before completing the experiment epoch']\n"
       ]
      },
      {
       "output_type": "stream",
       "stream": "stdout",
       "text": [
        "674537160.0 extracted\n",
        "loading dataset into data structure...\n"
       ]
      },
      {
       "output_type": "stream",
       "stream": "stderr",
       "text": [
        "WARNING:root:sweep 23: ['Recording stopped before completing the experiment epoch']\n"
       ]
      },
      {
       "output_type": "stream",
       "stream": "stderr",
       "text": [
        "WARNING:root:sweep 24: ['Recording stopped before completing the experiment epoch']\n"
       ]
      },
      {
       "output_type": "stream",
       "stream": "stderr",
       "text": [
        "WARNING:root:sweep 25: ['Recording stopped before completing the experiment epoch']\n"
       ]
      },
      {
       "output_type": "stream",
       "stream": "stderr",
       "text": [
        "WARNING:root:sweep 26: ['Recording stopped before completing the experiment epoch']\n"
       ]
      },
      {
       "output_type": "stream",
       "stream": "stderr",
       "text": [
        "WARNING:root:sweep 27: ['Recording stopped before completing the experiment epoch']\n"
       ]
      },
      {
       "output_type": "stream",
       "stream": "stderr",
       "text": [
        "WARNING:root:sweep 28: ['Recording stopped before completing the experiment epoch']\n"
       ]
      },
      {
       "output_type": "stream",
       "stream": "stdout",
       "text": [
        "674556708.0 extracted\n",
        "loading dataset into data structure...\n"
       ]
      },
      {
       "output_type": "stream",
       "stream": "stdout",
       "text": [
        "674559170.0 extracted\n",
        "loading dataset into data structure...\n"
       ]
      },
      {
       "output_type": "stream",
       "stream": "stdout",
       "text": [
        "674566874.0 extracted\n",
        "loading dataset into data structure...\n"
       ]
      },
      {
       "output_type": "stream",
       "stream": "stdout",
       "text": [
        "674582479.0 extracted\n",
        "loading dataset into data structure...\n"
       ]
      },
      {
       "output_type": "stream",
       "stream": "stdout",
       "text": [
        "674587352.0 extracted\n",
        "loading dataset into data structure...\n"
       ]
      },
      {
       "output_type": "stream",
       "stream": "stdout",
       "text": [
        "674588640.0 extracted\n",
        "loading dataset into data structure...\n"
       ]
      },
      {
       "output_type": "stream",
       "stream": "stdout",
       "text": [
        "675013307.0 extracted\n",
        "loading dataset into data structure...\n"
       ]
      },
      {
       "output_type": "stream",
       "stream": "stderr",
       "text": [
        "WARNING:root:sweep 18: ['Recording stopped before completing the experiment epoch']\n"
       ]
      },
      {
       "output_type": "stream",
       "stream": "stderr",
       "text": [
        "WARNING:root:sweep 19: ['Recording stopped before completing the experiment epoch']\n"
       ]
      },
      {
       "output_type": "stream",
       "stream": "stderr",
       "text": [
        "WARNING:root:sweep 20: ['Recording stopped before completing the experiment epoch']\n"
       ]
      },
      {
       "output_type": "stream",
       "stream": "stderr",
       "text": [
        "WARNING:root:sweep 21: ['Recording stopped before completing the experiment epoch']\n"
       ]
      },
      {
       "output_type": "stream",
       "stream": "stderr",
       "text": [
        "WARNING:root:sweep 22: ['Recording stopped before completing the experiment epoch']\n"
       ]
      },
      {
       "output_type": "stream",
       "stream": "stdout",
       "text": [
        "675025032.0 extracted\n",
        "loading dataset into data structure...\n"
       ]
      },
      {
       "output_type": "stream",
       "stream": "stderr",
       "text": [
        "WARNING:root:sweep 31: ['Recording stopped before completing the experiment epoch']\n"
       ]
      },
      {
       "output_type": "stream",
       "stream": "stderr",
       "text": [
        "WARNING:root:sweep 32: ['Recording stopped before completing the experiment epoch']\n"
       ]
      },
      {
       "output_type": "stream",
       "stream": "stderr",
       "text": [
        "WARNING:root:sweep 33: ['Recording stopped before completing the experiment epoch']\n"
       ]
      },
      {
       "output_type": "stream",
       "stream": "stderr",
       "text": [
        "WARNING:root:sweep 34: ['Recording stopped before completing the experiment epoch']\n"
       ]
      },
      {
       "output_type": "stream",
       "stream": "stderr",
       "text": [
        "WARNING:root:sweep 35: ['Recording stopped before completing the experiment epoch']\n"
       ]
      },
      {
       "output_type": "stream",
       "stream": "stdout",
       "text": [
        "675025710.0 extracted\n",
        "loading dataset into data structure...\n"
       ]
      },
      {
       "output_type": "stream",
       "stream": "stdout",
       "text": [
        "675026566.0 extracted\n",
        "loading dataset into data structure...\n"
       ]
      },
      {
       "output_type": "stream",
       "stream": "stderr",
       "text": [
        "WARNING:root:sweep 26: ['Recording stopped before completing the experiment epoch']\n"
       ]
      },
      {
       "output_type": "stream",
       "stream": "stderr",
       "text": [
        "WARNING:root:sweep 27: ['Recording stopped before completing the experiment epoch']\n"
       ]
      },
      {
       "output_type": "stream",
       "stream": "stderr",
       "text": [
        "WARNING:root:sweep 28: ['Recording stopped before completing the experiment epoch']\n"
       ]
      },
      {
       "output_type": "stream",
       "stream": "stderr",
       "text": [
        "WARNING:root:sweep 29: ['Recording stopped before completing the experiment epoch']\n"
       ]
      },
      {
       "output_type": "stream",
       "stream": "stderr",
       "text": [
        "WARNING:root:sweep 30: ['Recording stopped before completing the experiment epoch']\n"
       ]
      },
      {
       "output_type": "stream",
       "stream": "stdout",
       "text": [
        "675027801.0 extracted\n",
        "loading dataset into data structure...\n"
       ]
      },
      {
       "output_type": "stream",
       "stream": "stdout",
       "text": [
        "675772724.0 extracted\n",
        "loading dataset into data structure...\n"
       ]
      },
      {
       "output_type": "stream",
       "stream": "stderr",
       "text": [
        "WARNING:root:sweep 23: ['Recording stopped before completing the experiment epoch']\n"
       ]
      },
      {
       "output_type": "stream",
       "stream": "stderr",
       "text": [
        "WARNING:root:sweep 24: ['Recording stopped before completing the experiment epoch']\n"
       ]
      },
      {
       "output_type": "stream",
       "stream": "stderr",
       "text": [
        "WARNING:root:sweep 25: ['Recording stopped before completing the experiment epoch']\n"
       ]
      },
      {
       "output_type": "stream",
       "stream": "stderr",
       "text": [
        "WARNING:root:sweep 26: ['Recording stopped before completing the experiment epoch']\n"
       ]
      },
      {
       "output_type": "stream",
       "stream": "stderr",
       "text": [
        "WARNING:root:sweep 27: ['Recording stopped before completing the experiment epoch']\n"
       ]
      },
      {
       "output_type": "stream",
       "stream": "stderr",
       "text": [
        "WARNING:root:sweep 28: ['Recording stopped before completing the experiment epoch']\n"
       ]
      },
      {
       "output_type": "stream",
       "stream": "stdout",
       "text": [
        "675904449.0 extracted\n",
        "loading dataset into data structure...\n"
       ]
      },
      {
       "output_type": "stream",
       "stream": "stdout",
       "text": [
        "676685241.0 extracted\n",
        "loading dataset into data structure...\n"
       ]
      },
      {
       "output_type": "stream",
       "stream": "stderr",
       "text": [
        "WARNING:root:sweep 24: ['Recording stopped before completing the experiment epoch']\n"
       ]
      },
      {
       "output_type": "stream",
       "stream": "stderr",
       "text": [
        "WARNING:root:sweep 25: ['Recording stopped before completing the experiment epoch']\n"
       ]
      },
      {
       "output_type": "stream",
       "stream": "stderr",
       "text": [
        "WARNING:root:sweep 26: ['Recording stopped before completing the experiment epoch']\n"
       ]
      },
      {
       "output_type": "stream",
       "stream": "stderr",
       "text": [
        "WARNING:root:sweep 27: ['Recording stopped before completing the experiment epoch']\n"
       ]
      },
      {
       "output_type": "stream",
       "stream": "stderr",
       "text": [
        "WARNING:root:sweep 28: ['Recording stopped before completing the experiment epoch']\n"
       ]
      },
      {
       "output_type": "stream",
       "stream": "stderr",
       "text": [
        "WARNING:root:sweep 29: ['Recording stopped before completing the experiment epoch']\n"
       ]
      },
      {
       "output_type": "stream",
       "stream": "stderr",
       "text": [
        "WARNING:root:sweep 30: ['Recording stopped before completing the experiment epoch']\n"
       ]
      },
      {
       "ename": "AssertionError",
       "evalue": "Given time (1.499980) is outside of time range (-0.520000, 1.498840)",
       "output_type": "pyerr",
       "traceback": [
        "\u001b[0;31m---------------------------------------------------------------------------\u001b[0m",
        "\u001b[0;31mAssertionError\u001b[0m                            Traceback (most recent call last)",
        "\u001b[0;32m<ipython-input-5-bb4a87ba8a0b>\u001b[0m in \u001b[0;36m<module>\u001b[0;34m\u001b[0m\n\u001b[1;32m     56\u001b[0m         \u001b[0;31m# run the analysis and print out a few of the features\u001b[0m\u001b[0;34m\u001b[0m\u001b[0;34m\u001b[0m\u001b[0;34m\u001b[0m\u001b[0m\n\u001b[1;32m     57\u001b[0m         \u001b[0mlong_square_analysis\u001b[0m \u001b[0;34m=\u001b[0m \u001b[0mspa\u001b[0m\u001b[0;34m.\u001b[0m\u001b[0mLongSquareAnalysis\u001b[0m\u001b[0;34m(\u001b[0m\u001b[0mspfx\u001b[0m\u001b[0;34m,\u001b[0m \u001b[0msptfx\u001b[0m\u001b[0;34m,\u001b[0m \u001b[0msubthresh_min_amp\u001b[0m\u001b[0;34m=\u001b[0m\u001b[0;34m-\u001b[0m\u001b[0;36m100.0\u001b[0m\u001b[0;34m)\u001b[0m\u001b[0;34m\u001b[0m\u001b[0;34m\u001b[0m\u001b[0m\n\u001b[0;32m---> 58\u001b[0;31m         \u001b[0mdata\u001b[0m \u001b[0;34m=\u001b[0m \u001b[0mlong_square_analysis\u001b[0m\u001b[0;34m.\u001b[0m\u001b[0manalyze\u001b[0m\u001b[0;34m(\u001b[0m\u001b[0mlong_square_sweeps\u001b[0m\u001b[0;34m)\u001b[0m\u001b[0;34m\u001b[0m\u001b[0;34m\u001b[0m\u001b[0m\n\u001b[0m\u001b[1;32m     59\u001b[0m \u001b[0;34m\u001b[0m\u001b[0m\n\u001b[1;32m     60\u001b[0m         \u001b[0mspecimen_dict\u001b[0m \u001b[0;34m=\u001b[0m \u001b[0msummarize_cell_ephys_features\u001b[0m\u001b[0;34m(\u001b[0m\u001b[0mdata\u001b[0m\u001b[0;34m)\u001b[0m\u001b[0;34m\u001b[0m\u001b[0;34m\u001b[0m\u001b[0m\n",
        "\u001b[0;32m~/.local/lib/python3.6/site-packages/ipfx/stimulus_protocol_analysis.py\u001b[0m in \u001b[0;36manalyze\u001b[0;34m(self, sweep_set)\u001b[0m\n\u001b[1;32m    129\u001b[0m \u001b[0;34m\u001b[0m\u001b[0m\n\u001b[1;32m    130\u001b[0m         \u001b[0mextra_sweep_feature_names\u001b[0m \u001b[0;34m=\u001b[0m \u001b[0;34m[\u001b[0m\u001b[0;34m'peak_deflect'\u001b[0m\u001b[0;34m,\u001b[0m\u001b[0;34m'stim_amp'\u001b[0m\u001b[0;34m,\u001b[0m\u001b[0;34m'v_baseline'\u001b[0m\u001b[0;34m,\u001b[0m\u001b[0;34m'sag'\u001b[0m\u001b[0;34m]\u001b[0m\u001b[0;34m\u001b[0m\u001b[0;34m\u001b[0m\u001b[0m\n\u001b[0;32m--> 131\u001b[0;31m         \u001b[0mfeatures\u001b[0m \u001b[0;34m=\u001b[0m \u001b[0msuper\u001b[0m\u001b[0;34m(\u001b[0m\u001b[0mLongSquareAnalysis\u001b[0m\u001b[0;34m,\u001b[0m \u001b[0mself\u001b[0m\u001b[0;34m)\u001b[0m\u001b[0;34m.\u001b[0m\u001b[0manalyze\u001b[0m\u001b[0;34m(\u001b[0m\u001b[0msweep_set\u001b[0m\u001b[0;34m,\u001b[0m \u001b[0mextra_sweep_features\u001b[0m\u001b[0;34m=\u001b[0m\u001b[0mextra_sweep_feature_names\u001b[0m\u001b[0;34m)\u001b[0m\u001b[0;34m\u001b[0m\u001b[0;34m\u001b[0m\u001b[0m\n\u001b[0m\u001b[1;32m    132\u001b[0m \u001b[0;34m\u001b[0m\u001b[0m\n\u001b[1;32m    133\u001b[0m         \u001b[0mfeatures\u001b[0m\u001b[0;34m[\u001b[0m\u001b[0;34m\"v_baseline\"\u001b[0m\u001b[0;34m]\u001b[0m \u001b[0;34m=\u001b[0m \u001b[0mnp\u001b[0m\u001b[0;34m.\u001b[0m\u001b[0mnanmean\u001b[0m\u001b[0;34m(\u001b[0m\u001b[0mself\u001b[0m\u001b[0;34m.\u001b[0m\u001b[0m_sweep_features\u001b[0m\u001b[0;34m[\u001b[0m\u001b[0;34m\"v_baseline\"\u001b[0m\u001b[0;34m]\u001b[0m\u001b[0;34m.\u001b[0m\u001b[0mvalues\u001b[0m\u001b[0;34m)\u001b[0m\u001b[0;34m\u001b[0m\u001b[0;34m\u001b[0m\u001b[0m\n",
        "\u001b[0;32m~/.local/lib/python3.6/site-packages/ipfx/stimulus_protocol_analysis.py\u001b[0m in \u001b[0;36manalyze\u001b[0;34m(self, sweep_set, extra_sweep_features, exclude_clipped)\u001b[0m\n\u001b[1;32m     82\u001b[0m \u001b[0;34m\u001b[0m\u001b[0m\n\u001b[1;32m     83\u001b[0m     \u001b[0;32mdef\u001b[0m \u001b[0manalyze\u001b[0m\u001b[0;34m(\u001b[0m\u001b[0mself\u001b[0m\u001b[0;34m,\u001b[0m \u001b[0msweep_set\u001b[0m\u001b[0;34m,\u001b[0m \u001b[0mextra_sweep_features\u001b[0m\u001b[0;34m=\u001b[0m\u001b[0;32mNone\u001b[0m\u001b[0;34m,\u001b[0m \u001b[0mexclude_clipped\u001b[0m\u001b[0;34m=\u001b[0m\u001b[0;32mFalse\u001b[0m\u001b[0;34m)\u001b[0m\u001b[0;34m:\u001b[0m\u001b[0;34m\u001b[0m\u001b[0;34m\u001b[0m\u001b[0m\n\u001b[0;32m---> 84\u001b[0;31m         \u001b[0mself\u001b[0m\u001b[0;34m.\u001b[0m\u001b[0manalyze_basic_features\u001b[0m\u001b[0;34m(\u001b[0m\u001b[0msweep_set\u001b[0m\u001b[0;34m,\u001b[0m \u001b[0mextra_sweep_features\u001b[0m\u001b[0;34m=\u001b[0m\u001b[0mextra_sweep_features\u001b[0m\u001b[0;34m,\u001b[0m \u001b[0mexclude_clipped\u001b[0m\u001b[0;34m=\u001b[0m\u001b[0mexclude_clipped\u001b[0m\u001b[0;34m)\u001b[0m\u001b[0;34m\u001b[0m\u001b[0;34m\u001b[0m\u001b[0m\n\u001b[0m\u001b[1;32m     85\u001b[0m         \u001b[0;32mreturn\u001b[0m \u001b[0;34m{\u001b[0m\u001b[0;34m\"spikes_set\"\u001b[0m\u001b[0;34m:\u001b[0m \u001b[0mself\u001b[0m\u001b[0;34m.\u001b[0m\u001b[0m_spikes_set\u001b[0m\u001b[0;34m,\u001b[0m \u001b[0;34m\"sweeps\"\u001b[0m\u001b[0;34m:\u001b[0m \u001b[0mself\u001b[0m\u001b[0;34m.\u001b[0m\u001b[0m_sweep_features\u001b[0m\u001b[0;34m}\u001b[0m\u001b[0;34m\u001b[0m\u001b[0;34m\u001b[0m\u001b[0m\n\u001b[1;32m     86\u001b[0m \u001b[0;34m\u001b[0m\u001b[0m\n",
        "\u001b[0;32m~/.local/lib/python3.6/site-packages/ipfx/stimulus_protocol_analysis.py\u001b[0m in \u001b[0;36manalyze_basic_features\u001b[0;34m(self, sweep_set, extra_sweep_features, exclude_clipped)\u001b[0m\n\u001b[1;32m     72\u001b[0m         \u001b[0mself\u001b[0m\u001b[0;34m.\u001b[0m\u001b[0m_spikes_set\u001b[0m \u001b[0;34m=\u001b[0m \u001b[0;34m[\u001b[0m\u001b[0;34m]\u001b[0m\u001b[0;34m\u001b[0m\u001b[0;34m\u001b[0m\u001b[0m\n\u001b[1;32m     73\u001b[0m         \u001b[0;32mfor\u001b[0m \u001b[0msweep\u001b[0m \u001b[0;32min\u001b[0m \u001b[0msweep_set\u001b[0m\u001b[0;34m.\u001b[0m\u001b[0msweeps\u001b[0m\u001b[0;34m:\u001b[0m\u001b[0;34m\u001b[0m\u001b[0;34m\u001b[0m\u001b[0m\n\u001b[0;32m---> 74\u001b[0;31m             \u001b[0mself\u001b[0m\u001b[0;34m.\u001b[0m\u001b[0m_spikes_set\u001b[0m\u001b[0;34m.\u001b[0m\u001b[0mappend\u001b[0m\u001b[0;34m(\u001b[0m\u001b[0mself\u001b[0m\u001b[0;34m.\u001b[0m\u001b[0mspx\u001b[0m\u001b[0;34m.\u001b[0m\u001b[0mprocess\u001b[0m\u001b[0;34m(\u001b[0m\u001b[0msweep\u001b[0m\u001b[0;34m.\u001b[0m\u001b[0mt\u001b[0m\u001b[0;34m,\u001b[0m \u001b[0msweep\u001b[0m\u001b[0;34m.\u001b[0m\u001b[0mv\u001b[0m\u001b[0;34m,\u001b[0m \u001b[0msweep\u001b[0m\u001b[0;34m.\u001b[0m\u001b[0mi\u001b[0m\u001b[0;34m)\u001b[0m\u001b[0;34m)\u001b[0m\u001b[0;34m\u001b[0m\u001b[0;34m\u001b[0m\u001b[0m\n\u001b[0m\u001b[1;32m     75\u001b[0m \u001b[0;34m\u001b[0m\u001b[0m\n\u001b[1;32m     76\u001b[0m         self._sweep_features = pd.DataFrame([ self.sptx.process(sweep.t, sweep.v, sweep.i, spikes, extra_sweep_features, exclude_clipped=exclude_clipped)\n",
        "\u001b[0;32m~/.local/lib/python3.6/site-packages/ipfx/feature_extractor.py\u001b[0m in \u001b[0;36mprocess\u001b[0;34m(self, t, v, i)\u001b[0m\n\u001b[1;32m     91\u001b[0m         putative_spikes = spkd.detect_putative_spikes(v, t, self.start, self.end,\n\u001b[1;32m     92\u001b[0m                                                     \u001b[0mdv_cutoff\u001b[0m\u001b[0;34m=\u001b[0m\u001b[0mself\u001b[0m\u001b[0;34m.\u001b[0m\u001b[0mdv_cutoff\u001b[0m\u001b[0;34m,\u001b[0m\u001b[0;34m\u001b[0m\u001b[0;34m\u001b[0m\u001b[0m\n\u001b[0;32m---> 93\u001b[0;31m                                                     dvdt=dvdt)\n\u001b[0m\u001b[1;32m     94\u001b[0m         \u001b[0mpeaks\u001b[0m \u001b[0;34m=\u001b[0m \u001b[0mspkd\u001b[0m\u001b[0;34m.\u001b[0m\u001b[0mfind_peak_indexes\u001b[0m\u001b[0;34m(\u001b[0m\u001b[0mv\u001b[0m\u001b[0;34m,\u001b[0m \u001b[0mt\u001b[0m\u001b[0;34m,\u001b[0m \u001b[0mputative_spikes\u001b[0m\u001b[0;34m,\u001b[0m \u001b[0mself\u001b[0m\u001b[0;34m.\u001b[0m\u001b[0mend\u001b[0m\u001b[0;34m)\u001b[0m\u001b[0;34m\u001b[0m\u001b[0;34m\u001b[0m\u001b[0m\n\u001b[1;32m     95\u001b[0m         putative_spikes, peaks = spkd.filter_putative_spikes(v, t, putative_spikes, peaks,\n",
        "\u001b[0;32m~/.local/lib/python3.6/site-packages/ipfx/spike_detector.py\u001b[0m in \u001b[0;36mdetect_putative_spikes\u001b[0;34m(v, t, start, end, filter, dv_cutoff, dvdt)\u001b[0m\n\u001b[1;32m     38\u001b[0m \u001b[0;34m\u001b[0m\u001b[0m\n\u001b[1;32m     39\u001b[0m     \u001b[0mstart_index\u001b[0m \u001b[0;34m=\u001b[0m \u001b[0mtsu\u001b[0m\u001b[0;34m.\u001b[0m\u001b[0mfind_time_index\u001b[0m\u001b[0;34m(\u001b[0m\u001b[0mt\u001b[0m\u001b[0;34m,\u001b[0m \u001b[0mstart\u001b[0m\u001b[0;34m)\u001b[0m\u001b[0;34m\u001b[0m\u001b[0;34m\u001b[0m\u001b[0m\n\u001b[0;32m---> 40\u001b[0;31m     \u001b[0mend_index\u001b[0m \u001b[0;34m=\u001b[0m \u001b[0mtsu\u001b[0m\u001b[0;34m.\u001b[0m\u001b[0mfind_time_index\u001b[0m\u001b[0;34m(\u001b[0m\u001b[0mt\u001b[0m\u001b[0;34m,\u001b[0m \u001b[0mend\u001b[0m\u001b[0;34m)\u001b[0m\u001b[0;34m\u001b[0m\u001b[0;34m\u001b[0m\u001b[0m\n\u001b[0m\u001b[1;32m     41\u001b[0m     \u001b[0mv_window\u001b[0m \u001b[0;34m=\u001b[0m \u001b[0mv\u001b[0m\u001b[0;34m[\u001b[0m\u001b[0mstart_index\u001b[0m\u001b[0;34m:\u001b[0m\u001b[0mend_index\u001b[0m \u001b[0;34m+\u001b[0m \u001b[0;36m1\u001b[0m\u001b[0;34m]\u001b[0m\u001b[0;34m\u001b[0m\u001b[0;34m\u001b[0m\u001b[0m\n\u001b[1;32m     42\u001b[0m     \u001b[0mt_window\u001b[0m \u001b[0;34m=\u001b[0m \u001b[0mt\u001b[0m\u001b[0;34m[\u001b[0m\u001b[0mstart_index\u001b[0m\u001b[0;34m:\u001b[0m\u001b[0mend_index\u001b[0m \u001b[0;34m+\u001b[0m \u001b[0;36m1\u001b[0m\u001b[0;34m]\u001b[0m\u001b[0;34m\u001b[0m\u001b[0;34m\u001b[0m\u001b[0m\n",
        "\u001b[0;32m~/.local/lib/python3.6/site-packages/ipfx/time_series_utils.py\u001b[0m in \u001b[0;36mfind_time_index\u001b[0;34m(t, t_0)\u001b[0m\n\u001b[1;32m     18\u001b[0m     \u001b[0midx\u001b[0m\u001b[0;34m:\u001b[0m \u001b[0mindex\u001b[0m \u001b[0mof\u001b[0m \u001b[0mt\u001b[0m \u001b[0mclosest\u001b[0m \u001b[0mto\u001b[0m \u001b[0mt_0\u001b[0m\u001b[0;34m\u001b[0m\u001b[0;34m\u001b[0m\u001b[0m\n\u001b[1;32m     19\u001b[0m     \"\"\"\n\u001b[0;32m---> 20\u001b[0;31m     \u001b[0;32massert\u001b[0m \u001b[0mt\u001b[0m\u001b[0;34m[\u001b[0m\u001b[0;36m0\u001b[0m\u001b[0;34m]\u001b[0m \u001b[0;34m<=\u001b[0m \u001b[0mt_0\u001b[0m \u001b[0;34m<=\u001b[0m \u001b[0mt\u001b[0m\u001b[0;34m[\u001b[0m\u001b[0;34m-\u001b[0m\u001b[0;36m1\u001b[0m\u001b[0;34m]\u001b[0m\u001b[0;34m,\u001b[0m \u001b[0;34m\"Given time ({:f}) is outside of time range ({:f}, {:f})\"\u001b[0m\u001b[0;34m.\u001b[0m\u001b[0mformat\u001b[0m\u001b[0;34m(\u001b[0m\u001b[0mt_0\u001b[0m\u001b[0;34m,\u001b[0m \u001b[0mt\u001b[0m\u001b[0;34m[\u001b[0m\u001b[0;36m0\u001b[0m\u001b[0;34m]\u001b[0m\u001b[0;34m,\u001b[0m \u001b[0mt\u001b[0m\u001b[0;34m[\u001b[0m\u001b[0;34m-\u001b[0m\u001b[0;36m1\u001b[0m\u001b[0;34m]\u001b[0m\u001b[0;34m)\u001b[0m\u001b[0;34m\u001b[0m\u001b[0;34m\u001b[0m\u001b[0m\n\u001b[0m\u001b[1;32m     21\u001b[0m \u001b[0;34m\u001b[0m\u001b[0m\n\u001b[1;32m     22\u001b[0m     \u001b[0midx\u001b[0m \u001b[0;34m=\u001b[0m \u001b[0mnp\u001b[0m\u001b[0;34m.\u001b[0m\u001b[0margmin\u001b[0m\u001b[0;34m(\u001b[0m\u001b[0mabs\u001b[0m\u001b[0;34m(\u001b[0m\u001b[0mt\u001b[0m \u001b[0;34m-\u001b[0m \u001b[0mt_0\u001b[0m\u001b[0;34m)\u001b[0m\u001b[0;34m)\u001b[0m\u001b[0;34m\u001b[0m\u001b[0;34m\u001b[0m\u001b[0m\n",
        "\u001b[0;31mAssertionError\u001b[0m: Given time (1.499980) is outside of time range (-0.520000, 1.498840)"
       ]
      }
     ],
     "prompt_number": 5
    }
   ],
   "metadata": {}
  }
 ]
}
