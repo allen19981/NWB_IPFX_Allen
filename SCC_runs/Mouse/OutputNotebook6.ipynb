{
 "metadata": {
  "kernelspec": {
   "display_name": "Python 3",
   "language": "python",
   "name": "python3"
  },
  "language_info": {
   "codemirror_mode": {
    "name": "ipython",
    "version": 3
   },
   "file_extension": ".py",
   "mimetype": "text/x-python",
   "name": "python",
   "nbconvert_exporter": "python",
   "pygments_lexer": "ipython3",
   "version": "3.7.1"
  },
  "name": ""
 },
 "nbformat": 3,
 "nbformat_minor": 0,
 "worksheets": [
  {
   "cells": [
    {
     "cell_type": "code",
     "collapsed": false,
     "input": [
      "# Load IPFX libraries\n",
      "from ipfx.dataset.create import create_ephys_data_set\n",
      "from ipfx.data_set_features import extract_data_set_features\n",
      "from ipfx.utilities import drop_failed_sweeps\n",
      "\n",
      "# Load pandas library too\n",
      "import pandas as pd\n",
      "mouse_data_dict = {}"
     ],
     "language": "python",
     "metadata": {},
     "outputs": [],
     "prompt_number": 1
    },
    {
     "cell_type": "code",
     "collapsed": false,
     "input": [
      "from ipfx.data_access import get_archive_info\n",
      "archive_url, file_manifest, experiment_metadata = get_archive_info(dataset=\"mouse\")\n",
      "mouse_specimen_id = list(experiment_metadata['cell_specimen_id'])\n",
      "file_manifest\n",
      "file_name_dict = {}\n",
      "for index, row in file_manifest.iterrows():\n",
      "    if row[\"file_name\"][-4:] == \".nwb\":\n",
      "        file_name_dict[row[\"cell_specimen_id\"]] = row[\"file_name\"]\n",
      "        \n",
      "new_file_name = {}\n",
      "index = 0\n",
      "for item in file_name_dict:\n",
      "    if index > 1158:\n",
      "        new_file_name[item] = file_name_dict[item]\n",
      "    index += 1\n",
      "\n",
      "file_name_dict = new_file_name"
     ],
     "language": "python",
     "metadata": {},
     "outputs": [],
     "prompt_number": 2
    },
    {
     "cell_type": "code",
     "collapsed": false,
     "input": [
      "def summarize_cell_ephys_features(lsa_results):\n",
      "    hero_keep_features = ['adapt', 'avg_rate', 'first_isi', 'isi_cv', 'latency', 'mean_isi', 'median_isi', \n",
      "                          'stim_amp']\n",
      "    rheo_keep_features = ['threshold_v', 'peak_v', 'trough_v', \n",
      "     'fast_trough_v', 'adp_v', 'width', 'upstroke_downstroke_ratio', 'peak_t', 'fast_trough_t', 'trough_t']\n",
      "    \n",
      "    overall_cell_keep_features = ['v_baseline', 'rheobase_i', 'fi_fit_slope', \n",
      "                                  'sag', 'vm_for_sag', 'input_resistance', 'tau']\n",
      "    \n",
      "    hero_small_dict = lsa_results['hero_sweep'][hero_keep_features]\n",
      "    rheobase_sweep_index = lsa_results['rheobase_sweep'].name\n",
      "    rheobase_sweep = lsa_results['spikes_set'][rheobase_sweep_index].iloc[0]\n",
      "    \n",
      "    rheo_spike_small_dict = rheobase_sweep[rheo_keep_features]\n",
      "    rheo_first_isi = lsa_results['rheobase_sweep']['first_isi']\n",
      "    rheo_spike_small_dict['rheo_first_isi'] = rheo_first_isi\n",
      "\n",
      "    spike_comb_dict = {**hero_small_dict, **rheo_spike_small_dict}\n",
      "\n",
      "    overall_cell_features = {x: lsa_results[x] for x in overall_cell_keep_features if x in lsa_results}\n",
      "    final_cell_feature_dict = {**spike_comb_dict, **overall_cell_features}\n",
      "    return(final_cell_feature_dict)"
     ],
     "language": "python",
     "metadata": {},
     "outputs": [],
     "prompt_number": 3
    },
    {
     "cell_type": "code",
     "collapsed": false,
     "input": [
      "import urllib.request\n",
      "from ipfx.dataset.create import create_ephys_data_set\n",
      "from ipfx.utilities import drop_failed_sweeps\n",
      "\n",
      "for item in file_name_dict:\n",
      "    specimen_id = item\n",
      "    file_name_spec = file_name_dict[item]\n",
      "#     row = file_manifest.query('cell_specimen_id == {} & technique == \"intracellular_electrophysiology\"'.format(specimen_id))\n",
      "#     archive_uri = row['archive_uri'].values[0]\n",
      "#     file_name = row['file_name'].values[0]\n",
      "#     print('Intrinsic ephys file url: ' + archive_uri)\n",
      "#     print('Intrinsic ephys file name: ' + file_name)\n",
      "\n",
      "#     print('downloading data for cell from DANDI...')\n",
      "    try:\n",
      "#         urllib.request.urlretrieve(archive_uri, file_name)\n",
      "#         print('data downloaded!')\n",
      "\n",
      "        # Create Ephys Data Set\n",
      "\n",
      "        print('loading dataset into data structure...')\n",
      "        nwb_file_name = '/external/rprshnas01/netdata_kcni/stlab/AIBS_patchseq_2020/mouse/ephys/000020/{}'.format(file_name_spec)\n",
      "        data_set = create_ephys_data_set(nwb_file=nwb_file_name) ##loads nwb file into ipfx data structure\n",
      "\n",
      "        # Drop failed sweeps: sweeps with incomplete recording or failing QC criteria\n",
      "        drop_failed_sweeps(data_set)\n",
      "\n",
      "        from ipfx.feature_extractor import SpikeFeatureExtractor, SpikeTrainFeatureExtractor\n",
      "\n",
      "        import ipfx.stimulus_protocol_analysis as spa\n",
      "        from ipfx.epochs import get_stim_epoch\n",
      "        import matplotlib.pyplot as plt\n",
      "\n",
      "\n",
      "        # get sweep table of Long Square sweeps\n",
      "        long_square_table = data_set.filtered_sweep_table(\n",
      "            stimuli=data_set.ontology.long_square_names\n",
      "        )\n",
      "        long_square_sweeps = data_set.sweep_set(long_square_table.sweep_number)\n",
      "\n",
      "        # Select epoch corresponding to the actual recording from the sweeps\n",
      "        # and align sweeps so that the experiment would start at the same time\n",
      "        long_square_sweeps.select_epoch(\"recording\")\n",
      "        long_square_sweeps.align_to_start_of_epoch(\"experiment\")\n",
      "\n",
      "        # find the start and end time of the stimulus\n",
      "        # (treating the first sweep as representative)\n",
      "        stim_start_index, stim_end_index = get_stim_epoch(long_square_sweeps.i[0])\n",
      "        stim_start_time = long_square_sweeps.t[0][stim_start_index]\n",
      "        stim_end_time = long_square_sweeps.t[0][stim_end_index]\n",
      "\n",
      "        # build the extractors\n",
      "        spfx = SpikeFeatureExtractor(start=stim_start_time, end=stim_end_time)\n",
      "        sptfx = SpikeTrainFeatureExtractor(start=stim_start_time, end=stim_end_time)\n",
      "\n",
      "        # run the analysis and print out a few of the features\n",
      "        long_square_analysis = spa.LongSquareAnalysis(spfx, sptfx, subthresh_min_amp=-100.0)\n",
      "        data = long_square_analysis.analyze(long_square_sweeps)\n",
      "\n",
      "        specimen_dict = summarize_cell_ephys_features(data)\n",
      "        mouse_data_dict[specimen_id] = specimen_dict\n",
      "        \n",
      "        print(\"{} extracted\".format(item))\n",
      "        dfObj = pd.DataFrame(mouse_data_dict)\n",
      "        dfObj.to_csv('mouse_features_from_nwb6.csv')\n",
      "        \n",
      "    except urllib.error.HTTPError as err:\n",
      "        print(err.code)\n",
      "\n"
     ],
     "language": "python",
     "metadata": {},
     "outputs": [
      {
       "output_type": "stream",
       "stream": "stdout",
       "text": [
        "loading dataset into data structure...\n"
       ]
      },
      {
       "output_type": "stream",
       "stream": "stderr",
       "text": [
        "WARNING:root:sweep 34: ['Recording stopped before completing the experiment epoch']\n"
       ]
      },
      {
       "output_type": "stream",
       "stream": "stderr",
       "text": [
        "WARNING:root:sweep 35: ['Recording stopped before completing the experiment epoch']\n"
       ]
      },
      {
       "output_type": "stream",
       "stream": "stderr",
       "text": [
        "WARNING:root:sweep 36: ['Recording stopped before completing the experiment epoch']\n"
       ]
      },
      {
       "output_type": "stream",
       "stream": "stderr",
       "text": [
        "WARNING:root:sweep 37: ['Recording stopped before completing the experiment epoch']\n"
       ]
      },
      {
       "output_type": "stream",
       "stream": "stderr",
       "text": [
        "WARNING:root:sweep 38: ['Recording stopped before completing the experiment epoch']\n"
       ]
      },
      {
       "output_type": "stream",
       "stream": "stdout",
       "text": [
        "706221820.0 extracted\n",
        "loading dataset into data structure...\n"
       ]
      },
      {
       "output_type": "stream",
       "stream": "stderr",
       "text": [
        "WARNING:root:sweep 37: ['Recording stopped before completing the experiment epoch']\n"
       ]
      },
      {
       "output_type": "stream",
       "stream": "stderr",
       "text": [
        "WARNING:root:sweep 38: ['Recording stopped before completing the experiment epoch']\n"
       ]
      },
      {
       "output_type": "stream",
       "stream": "stderr",
       "text": [
        "WARNING:root:sweep 39: ['Recording stopped before completing the experiment epoch']\n"
       ]
      },
      {
       "output_type": "stream",
       "stream": "stderr",
       "text": [
        "WARNING:root:sweep 40: ['Recording stopped before completing the experiment epoch']\n"
       ]
      },
      {
       "output_type": "stream",
       "stream": "stderr",
       "text": [
        "WARNING:root:sweep 41: ['Recording stopped before completing the experiment epoch']\n"
       ]
      },
      {
       "output_type": "stream",
       "stream": "stdout",
       "text": [
        "706265097.0 extracted\n",
        "loading dataset into data structure...\n"
       ]
      },
      {
       "output_type": "stream",
       "stream": "stderr",
       "text": [
        "WARNING:root:sweep 28: ['Recording stopped before completing the experiment epoch']\n"
       ]
      },
      {
       "output_type": "stream",
       "stream": "stderr",
       "text": [
        "WARNING:root:sweep 29: ['Recording stopped before completing the experiment epoch']\n"
       ]
      },
      {
       "output_type": "stream",
       "stream": "stderr",
       "text": [
        "WARNING:root:sweep 30: ['Recording stopped before completing the experiment epoch']\n"
       ]
      },
      {
       "output_type": "stream",
       "stream": "stderr",
       "text": [
        "WARNING:root:sweep 31: ['Recording stopped before completing the experiment epoch']\n"
       ]
      },
      {
       "output_type": "stream",
       "stream": "stderr",
       "text": [
        "WARNING:root:sweep 32: ['Recording stopped before completing the experiment epoch']\n"
       ]
      },
      {
       "output_type": "stream",
       "stream": "stdout",
       "text": [
        "706289784.0 extracted\n",
        "loading dataset into data structure...\n"
       ]
      },
      {
       "output_type": "stream",
       "stream": "stderr",
       "text": [
        "WARNING:root:sweep 25: ['Recording stopped before completing the experiment epoch']\n"
       ]
      },
      {
       "output_type": "stream",
       "stream": "stderr",
       "text": [
        "WARNING:root:sweep 26: ['Recording stopped before completing the experiment epoch']\n"
       ]
      },
      {
       "output_type": "stream",
       "stream": "stderr",
       "text": [
        "WARNING:root:sweep 27: ['Recording stopped before completing the experiment epoch']\n"
       ]
      },
      {
       "output_type": "stream",
       "stream": "stderr",
       "text": [
        "WARNING:root:sweep 28: ['Recording stopped before completing the experiment epoch']\n"
       ]
      },
      {
       "output_type": "stream",
       "stream": "stderr",
       "text": [
        "WARNING:root:sweep 29: ['Recording stopped before completing the experiment epoch']\n"
       ]
      },
      {
       "output_type": "stream",
       "stream": "stdout",
       "text": [
        "706463467.0 extracted\n",
        "loading dataset into data structure...\n"
       ]
      },
      {
       "output_type": "stream",
       "stream": "stderr",
       "text": [
        "WARNING:root:sweep 24: ['experiment epoch is missing', 'stim epoch is missing']\n"
       ]
      },
      {
       "output_type": "stream",
       "stream": "stderr",
       "text": [
        "WARNING:root:sweep 25: ['Recording stopped before completing the experiment epoch']\n"
       ]
      },
      {
       "output_type": "stream",
       "stream": "stderr",
       "text": [
        "WARNING:root:sweep 26: ['Recording stopped before completing the experiment epoch']\n"
       ]
      },
      {
       "output_type": "stream",
       "stream": "stderr",
       "text": [
        "WARNING:root:sweep 27: ['Recording stopped before completing the experiment epoch']\n"
       ]
      },
      {
       "output_type": "stream",
       "stream": "stderr",
       "text": [
        "WARNING:root:sweep 28: ['Recording stopped before completing the experiment epoch']\n"
       ]
      },
      {
       "output_type": "stream",
       "stream": "stderr",
       "text": [
        "WARNING:root:sweep 29: ['Recording stopped before completing the experiment epoch']\n"
       ]
      },
      {
       "output_type": "stream",
       "stream": "stdout",
       "text": [
        "706470043.0 extracted\n",
        "loading dataset into data structure...\n"
       ]
      },
      {
       "output_type": "stream",
       "stream": "stderr",
       "text": [
        "/nethome/kcni/ychen/.local/lib/python3.6/site-packages/ipfx/spike_features.py:87: RuntimeWarning: invalid value encountered in less\n",
        "  width_levels[width_levels < v[spike_indexes]] = thresh_to_peak_levels[width_levels < v[spike_indexes]]\n"
       ]
      },
      {
       "output_type": "stream",
       "stream": "stdout",
       "text": [
        "706531271.0 extracted\n",
        "loading dataset into data structure...\n"
       ]
      },
      {
       "output_type": "stream",
       "stream": "stderr",
       "text": [
        "WARNING:root:sweep 15: ['Recording stopped before completing the experiment epoch']\n"
       ]
      },
      {
       "output_type": "stream",
       "stream": "stderr",
       "text": [
        "WARNING:root:sweep 32: ['Recording stopped before completing the experiment epoch']\n"
       ]
      },
      {
       "output_type": "stream",
       "stream": "stderr",
       "text": [
        "WARNING:root:sweep 33: ['Recording stopped before completing the experiment epoch']\n"
       ]
      },
      {
       "output_type": "stream",
       "stream": "stderr",
       "text": [
        "WARNING:root:sweep 34: ['Recording stopped before completing the experiment epoch']\n"
       ]
      },
      {
       "output_type": "stream",
       "stream": "stderr",
       "text": [
        "WARNING:root:sweep 35: ['Recording stopped before completing the experiment epoch']\n"
       ]
      },
      {
       "output_type": "stream",
       "stream": "stderr",
       "text": [
        "WARNING:root:sweep 36: ['Recording stopped before completing the experiment epoch']\n"
       ]
      },
      {
       "output_type": "stream",
       "stream": "stdout",
       "text": [
        "706531340.0 extracted\n",
        "loading dataset into data structure...\n"
       ]
      },
      {
       "output_type": "stream",
       "stream": "stderr",
       "text": [
        "WARNING:root:sweep 35: ['Recording stopped before completing the experiment epoch']\n"
       ]
      },
      {
       "output_type": "stream",
       "stream": "stderr",
       "text": [
        "WARNING:root:sweep 36: ['Recording stopped before completing the experiment epoch']\n"
       ]
      },
      {
       "output_type": "stream",
       "stream": "stderr",
       "text": [
        "WARNING:root:sweep 37: ['Recording stopped before completing the experiment epoch']\n"
       ]
      },
      {
       "output_type": "stream",
       "stream": "stderr",
       "text": [
        "WARNING:root:sweep 38: ['Recording stopped before completing the experiment epoch']\n"
       ]
      },
      {
       "output_type": "stream",
       "stream": "stderr",
       "text": [
        "WARNING:root:sweep 39: ['Recording stopped before completing the experiment epoch']\n"
       ]
      },
      {
       "output_type": "stream",
       "stream": "stdout",
       "text": [
        "706628654.0 extracted\n",
        "loading dataset into data structure...\n"
       ]
      },
      {
       "output_type": "stream",
       "stream": "stderr",
       "text": [
        "WARNING:root:sweep 22: ['Recording stopped before completing the experiment epoch']\n"
       ]
      },
      {
       "output_type": "stream",
       "stream": "stderr",
       "text": [
        "WARNING:root:sweep 23: ['Recording stopped before completing the experiment epoch']\n"
       ]
      },
      {
       "output_type": "stream",
       "stream": "stderr",
       "text": [
        "WARNING:root:sweep 24: ['Recording stopped before completing the experiment epoch']\n"
       ]
      },
      {
       "output_type": "stream",
       "stream": "stderr",
       "text": [
        "WARNING:root:sweep 25: ['Recording stopped before completing the experiment epoch']\n"
       ]
      },
      {
       "output_type": "stream",
       "stream": "stderr",
       "text": [
        "WARNING:root:sweep 26: ['Recording stopped before completing the experiment epoch']\n"
       ]
      },
      {
       "output_type": "stream",
       "stream": "stdout",
       "text": [
        "706631307.0 extracted\n",
        "loading dataset into data structure...\n"
       ]
      },
      {
       "output_type": "stream",
       "stream": "stderr",
       "text": [
        "WARNING:root:sweep 24: ['Recording stopped before completing the experiment epoch']\n"
       ]
      },
      {
       "output_type": "stream",
       "stream": "stderr",
       "text": [
        "WARNING:root:sweep 25: ['Recording stopped before completing the experiment epoch']\n"
       ]
      },
      {
       "output_type": "stream",
       "stream": "stderr",
       "text": [
        "WARNING:root:sweep 26: ['Recording stopped before completing the experiment epoch']\n"
       ]
      },
      {
       "output_type": "stream",
       "stream": "stderr",
       "text": [
        "WARNING:root:sweep 27: ['Recording stopped before completing the experiment epoch']\n"
       ]
      },
      {
       "output_type": "stream",
       "stream": "stderr",
       "text": [
        "WARNING:root:sweep 28: ['Recording stopped before completing the experiment epoch']\n"
       ]
      },
      {
       "output_type": "stream",
       "stream": "stderr",
       "text": [
        "WARNING:root:sweep 32: ['Recording stopped before completing the experiment epoch']\n"
       ]
      },
      {
       "output_type": "stream",
       "stream": "stdout",
       "text": [
        "707147758.0 extracted\n",
        "loading dataset into data structure...\n"
       ]
      },
      {
       "output_type": "stream",
       "stream": "stderr",
       "text": [
        "WARNING:root:sweep 31: ['Recording stopped before completing the experiment epoch']\n"
       ]
      },
      {
       "output_type": "stream",
       "stream": "stderr",
       "text": [
        "WARNING:root:sweep 32: ['Recording stopped before completing the experiment epoch']\n"
       ]
      },
      {
       "output_type": "stream",
       "stream": "stderr",
       "text": [
        "WARNING:root:sweep 33: ['Recording stopped before completing the experiment epoch']\n"
       ]
      },
      {
       "output_type": "stream",
       "stream": "stderr",
       "text": [
        "WARNING:root:sweep 34: ['Recording stopped before completing the experiment epoch']\n"
       ]
      },
      {
       "output_type": "stream",
       "stream": "stderr",
       "text": [
        "WARNING:root:sweep 35: ['Recording stopped before completing the experiment epoch']\n"
       ]
      },
      {
       "output_type": "stream",
       "stream": "stdout",
       "text": [
        "707162377.0 extracted\n",
        "loading dataset into data structure...\n"
       ]
      },
      {
       "output_type": "stream",
       "stream": "stderr",
       "text": [
        "WARNING:root:sweep 28: ['Recording stopped before completing the experiment epoch']\n"
       ]
      },
      {
       "output_type": "stream",
       "stream": "stderr",
       "text": [
        "WARNING:root:sweep 29: ['Recording stopped before completing the experiment epoch']\n"
       ]
      },
      {
       "output_type": "stream",
       "stream": "stderr",
       "text": [
        "WARNING:root:sweep 30: ['Recording stopped before completing the experiment epoch']\n"
       ]
      },
      {
       "output_type": "stream",
       "stream": "stderr",
       "text": [
        "WARNING:root:sweep 31: ['Recording stopped before completing the experiment epoch']\n"
       ]
      },
      {
       "output_type": "stream",
       "stream": "stderr",
       "text": [
        "WARNING:root:sweep 32: ['Recording stopped before completing the experiment epoch']\n"
       ]
      },
      {
       "output_type": "stream",
       "stream": "stdout",
       "text": [
        "707179690.0 extracted\n",
        "loading dataset into data structure...\n"
       ]
      },
      {
       "output_type": "stream",
       "stream": "stderr",
       "text": [
        "WARNING:root:sweep 29: ['Recording stopped before completing the experiment epoch']\n"
       ]
      },
      {
       "output_type": "stream",
       "stream": "stderr",
       "text": [
        "WARNING:root:sweep 30: ['Recording stopped before completing the experiment epoch']\n"
       ]
      },
      {
       "output_type": "stream",
       "stream": "stderr",
       "text": [
        "WARNING:root:sweep 31: ['Recording stopped before completing the experiment epoch']\n"
       ]
      },
      {
       "output_type": "stream",
       "stream": "stderr",
       "text": [
        "WARNING:root:sweep 32: ['Recording stopped before completing the experiment epoch']\n"
       ]
      },
      {
       "output_type": "stream",
       "stream": "stderr",
       "text": [
        "WARNING:root:sweep 33: ['Recording stopped before completing the experiment epoch']\n"
       ]
      },
      {
       "output_type": "stream",
       "stream": "stdout",
       "text": [
        "707201871.0 extracted\n",
        "loading dataset into data structure...\n"
       ]
      },
      {
       "output_type": "stream",
       "stream": "stderr",
       "text": [
        "WARNING:root:sweep 26: ['Recording stopped before completing the experiment epoch']\n"
       ]
      },
      {
       "output_type": "stream",
       "stream": "stderr",
       "text": [
        "WARNING:root:sweep 27: ['Recording stopped before completing the experiment epoch']\n"
       ]
      },
      {
       "output_type": "stream",
       "stream": "stderr",
       "text": [
        "WARNING:root:sweep 28: ['Recording stopped before completing the experiment epoch']\n"
       ]
      },
      {
       "output_type": "stream",
       "stream": "stderr",
       "text": [
        "WARNING:root:sweep 29: ['Recording stopped before completing the experiment epoch']\n"
       ]
      },
      {
       "output_type": "stream",
       "stream": "stderr",
       "text": [
        "WARNING:root:sweep 30: ['Recording stopped before completing the experiment epoch']\n"
       ]
      },
      {
       "output_type": "stream",
       "stream": "stderr",
       "text": [
        "WARNING:root:sweep 34: ['Recording stopped before completing the experiment epoch']\n"
       ]
      },
      {
       "output_type": "stream",
       "stream": "stdout",
       "text": [
        "707297335.0 extracted\n",
        "loading dataset into data structure...\n"
       ]
      },
      {
       "output_type": "stream",
       "stream": "stderr",
       "text": [
        "WARNING:root:sweep 26: ['Recording stopped before completing the experiment epoch']\n"
       ]
      },
      {
       "output_type": "stream",
       "stream": "stderr",
       "text": [
        "WARNING:root:sweep 27: ['Recording stopped before completing the experiment epoch']\n"
       ]
      },
      {
       "output_type": "stream",
       "stream": "stderr",
       "text": [
        "WARNING:root:sweep 28: ['Recording stopped before completing the experiment epoch']\n"
       ]
      },
      {
       "output_type": "stream",
       "stream": "stderr",
       "text": [
        "WARNING:root:sweep 29: ['Recording stopped before completing the experiment epoch']\n"
       ]
      },
      {
       "output_type": "stream",
       "stream": "stderr",
       "text": [
        "WARNING:root:sweep 30: ['Recording stopped before completing the experiment epoch']\n"
       ]
      },
      {
       "output_type": "stream",
       "stream": "stdout",
       "text": [
        "707333574.0 extracted\n",
        "loading dataset into data structure...\n"
       ]
      },
      {
       "output_type": "stream",
       "stream": "stderr",
       "text": [
        "WARNING:root:sweep 26: ['Recording stopped before completing the experiment epoch']\n"
       ]
      },
      {
       "output_type": "stream",
       "stream": "stderr",
       "text": [
        "WARNING:root:sweep 27: ['Recording stopped before completing the experiment epoch']\n"
       ]
      },
      {
       "output_type": "stream",
       "stream": "stderr",
       "text": [
        "WARNING:root:sweep 28: ['Recording stopped before completing the experiment epoch']\n"
       ]
      },
      {
       "output_type": "stream",
       "stream": "stderr",
       "text": [
        "WARNING:root:sweep 29: ['Recording stopped before completing the experiment epoch']\n"
       ]
      },
      {
       "output_type": "stream",
       "stream": "stderr",
       "text": [
        "WARNING:root:sweep 30: ['Recording stopped before completing the experiment epoch']\n"
       ]
      },
      {
       "output_type": "stream",
       "stream": "stdout",
       "text": [
        "707352752.0 extracted\n",
        "loading dataset into data structure...\n"
       ]
      },
      {
       "output_type": "stream",
       "stream": "stderr",
       "text": [
        "WARNING:root:sweep 28: ['Recording stopped before completing the experiment epoch']\n"
       ]
      },
      {
       "output_type": "stream",
       "stream": "stderr",
       "text": [
        "WARNING:root:sweep 29: ['Recording stopped before completing the experiment epoch']\n"
       ]
      },
      {
       "output_type": "stream",
       "stream": "stderr",
       "text": [
        "WARNING:root:sweep 30: ['Recording stopped before completing the experiment epoch']\n"
       ]
      },
      {
       "output_type": "stream",
       "stream": "stderr",
       "text": [
        "WARNING:root:sweep 31: ['Recording stopped before completing the experiment epoch']\n"
       ]
      },
      {
       "output_type": "stream",
       "stream": "stderr",
       "text": [
        "WARNING:root:sweep 32: ['Recording stopped before completing the experiment epoch']\n"
       ]
      },
      {
       "output_type": "stream",
       "stream": "stdout",
       "text": [
        "707397301.0 extracted\n",
        "loading dataset into data structure...\n"
       ]
      },
      {
       "output_type": "stream",
       "stream": "stderr",
       "text": [
        "WARNING:root:sweep 29: ['Recording stopped before completing the experiment epoch']\n"
       ]
      },
      {
       "output_type": "stream",
       "stream": "stderr",
       "text": [
        "WARNING:root:sweep 41: ['Recording stopped before completing the experiment epoch']\n"
       ]
      },
      {
       "output_type": "stream",
       "stream": "stderr",
       "text": [
        "WARNING:root:sweep 42: ['Recording stopped before completing the experiment epoch']\n"
       ]
      },
      {
       "output_type": "stream",
       "stream": "stderr",
       "text": [
        "WARNING:root:sweep 43: ['Recording stopped before completing the experiment epoch']\n"
       ]
      },
      {
       "output_type": "stream",
       "stream": "stderr",
       "text": [
        "WARNING:root:sweep 44: ['Recording stopped before completing the experiment epoch']\n"
       ]
      },
      {
       "output_type": "stream",
       "stream": "stderr",
       "text": [
        "WARNING:root:sweep 45: ['Recording stopped before completing the experiment epoch']\n"
       ]
      },
      {
       "output_type": "stream",
       "stream": "stdout",
       "text": [
        "707403326.0 extracted\n",
        "loading dataset into data structure...\n"
       ]
      },
      {
       "output_type": "stream",
       "stream": "stderr",
       "text": [
        "WARNING:root:sweep 24: ['Recording stopped before completing the experiment epoch']\n"
       ]
      },
      {
       "output_type": "stream",
       "stream": "stderr",
       "text": [
        "WARNING:root:sweep 25: ['Recording stopped before completing the experiment epoch']\n"
       ]
      },
      {
       "output_type": "stream",
       "stream": "stderr",
       "text": [
        "WARNING:root:sweep 26: ['Recording stopped before completing the experiment epoch']\n"
       ]
      },
      {
       "output_type": "stream",
       "stream": "stderr",
       "text": [
        "WARNING:root:sweep 27: ['Recording stopped before completing the experiment epoch']\n"
       ]
      },
      {
       "output_type": "stream",
       "stream": "stderr",
       "text": [
        "WARNING:root:sweep 28: ['Recording stopped before completing the experiment epoch']\n"
       ]
      },
      {
       "output_type": "stream",
       "stream": "stdout",
       "text": [
        "707408726.0 extracted\n",
        "loading dataset into data structure...\n"
       ]
      },
      {
       "output_type": "stream",
       "stream": "stderr",
       "text": [
        "WARNING:root:sweep 24: ['Recording stopped before completing the experiment epoch']\n"
       ]
      },
      {
       "output_type": "stream",
       "stream": "stderr",
       "text": [
        "WARNING:root:sweep 25: ['Recording stopped before completing the experiment epoch']\n"
       ]
      },
      {
       "output_type": "stream",
       "stream": "stderr",
       "text": [
        "WARNING:root:sweep 26: ['Recording stopped before completing the experiment epoch']\n"
       ]
      },
      {
       "output_type": "stream",
       "stream": "stderr",
       "text": [
        "WARNING:root:sweep 27: ['Recording stopped before completing the experiment epoch']\n"
       ]
      },
      {
       "output_type": "stream",
       "stream": "stderr",
       "text": [
        "WARNING:root:sweep 28: ['Recording stopped before completing the experiment epoch']\n"
       ]
      },
      {
       "output_type": "stream",
       "stream": "stdout",
       "text": [
        "707424705.0 extracted\n",
        "loading dataset into data structure...\n"
       ]
      },
      {
       "output_type": "stream",
       "stream": "stdout",
       "text": [
        "707622361.0 extracted\n",
        "loading dataset into data structure...\n"
       ]
      },
      {
       "output_type": "stream",
       "stream": "stderr",
       "text": [
        "WARNING:root:sweep 31: ['Recording stopped before completing the experiment epoch']\n"
       ]
      },
      {
       "output_type": "stream",
       "stream": "stderr",
       "text": [
        "WARNING:root:sweep 32: ['Recording stopped before completing the experiment epoch']\n"
       ]
      },
      {
       "output_type": "stream",
       "stream": "stderr",
       "text": [
        "WARNING:root:sweep 33: ['Recording stopped before completing the experiment epoch']\n"
       ]
      },
      {
       "output_type": "stream",
       "stream": "stderr",
       "text": [
        "WARNING:root:sweep 34: ['Recording stopped before completing the experiment epoch']\n"
       ]
      },
      {
       "output_type": "stream",
       "stream": "stderr",
       "text": [
        "WARNING:root:sweep 35: ['Recording stopped before completing the experiment epoch']\n"
       ]
      },
      {
       "output_type": "stream",
       "stream": "stdout",
       "text": [
        "707660063.0 extracted\n",
        "loading dataset into data structure...\n"
       ]
      },
      {
       "output_type": "stream",
       "stream": "stdout",
       "text": [
        "707666602.0 extracted\n",
        "loading dataset into data structure...\n"
       ]
      },
      {
       "output_type": "stream",
       "stream": "stderr",
       "text": [
        "WARNING:root:sweep 29: ['Recording stopped before completing the experiment epoch']\n"
       ]
      },
      {
       "output_type": "stream",
       "stream": "stderr",
       "text": [
        "WARNING:root:sweep 30: ['Recording stopped before completing the experiment epoch']\n"
       ]
      },
      {
       "output_type": "stream",
       "stream": "stderr",
       "text": [
        "WARNING:root:sweep 31: ['Recording stopped before completing the experiment epoch']\n"
       ]
      },
      {
       "output_type": "stream",
       "stream": "stderr",
       "text": [
        "WARNING:root:sweep 32: ['Recording stopped before completing the experiment epoch']\n"
       ]
      },
      {
       "output_type": "stream",
       "stream": "stderr",
       "text": [
        "WARNING:root:sweep 33: ['Recording stopped before completing the experiment epoch']\n"
       ]
      },
      {
       "output_type": "stream",
       "stream": "stdout",
       "text": [
        "707666779.0 extracted\n",
        "loading dataset into data structure...\n"
       ]
      },
      {
       "output_type": "stream",
       "stream": "stderr",
       "text": [
        "WARNING:root:sweep 30: ['Recording stopped before completing the experiment epoch']\n"
       ]
      },
      {
       "output_type": "stream",
       "stream": "stderr",
       "text": [
        "WARNING:root:sweep 31: ['Recording stopped before completing the experiment epoch']\n"
       ]
      },
      {
       "output_type": "stream",
       "stream": "stderr",
       "text": [
        "WARNING:root:sweep 32: ['Recording stopped before completing the experiment epoch']\n"
       ]
      },
      {
       "output_type": "stream",
       "stream": "stderr",
       "text": [
        "WARNING:root:sweep 33: ['Recording stopped before completing the experiment epoch']\n"
       ]
      },
      {
       "output_type": "stream",
       "stream": "stderr",
       "text": [
        "WARNING:root:sweep 34: ['Recording stopped before completing the experiment epoch']\n"
       ]
      },
      {
       "output_type": "stream",
       "stream": "stdout",
       "text": [
        "707678952.0 extracted\n",
        "loading dataset into data structure...\n"
       ]
      },
      {
       "output_type": "stream",
       "stream": "stderr",
       "text": [
        "WARNING:root:sweep 8: ['Recording stopped before completing the experiment epoch']\n"
       ]
      },
      {
       "output_type": "stream",
       "stream": "stderr",
       "text": [
        "WARNING:root:sweep 35: ['Recording stopped before completing the experiment epoch']\n"
       ]
      },
      {
       "output_type": "stream",
       "stream": "stderr",
       "text": [
        "WARNING:root:sweep 36: ['Recording stopped before completing the experiment epoch']\n"
       ]
      },
      {
       "output_type": "stream",
       "stream": "stderr",
       "text": [
        "WARNING:root:sweep 37: ['Recording stopped before completing the experiment epoch']\n"
       ]
      },
      {
       "output_type": "stream",
       "stream": "stderr",
       "text": [
        "WARNING:root:sweep 38: ['Recording stopped before completing the experiment epoch']\n"
       ]
      },
      {
       "output_type": "stream",
       "stream": "stderr",
       "text": [
        "WARNING:root:sweep 39: ['Recording stopped before completing the experiment epoch']\n"
       ]
      },
      {
       "output_type": "stream",
       "stream": "stderr",
       "text": [
        "/nethome/kcni/ychen/.local/lib/python3.6/site-packages/ipfx/spike_features.py:87: RuntimeWarning: invalid value encountered in less\n",
        "  width_levels[width_levels < v[spike_indexes]] = thresh_to_peak_levels[width_levels < v[spike_indexes]]\n"
       ]
      },
      {
       "output_type": "stream",
       "stream": "stdout",
       "text": [
        "707681894.0 extracted\n",
        "loading dataset into data structure...\n"
       ]
      },
      {
       "output_type": "stream",
       "stream": "stderr",
       "text": [
        "WARNING:root:sweep 27: ['Recording stopped before completing the experiment epoch']\n"
       ]
      },
      {
       "output_type": "stream",
       "stream": "stderr",
       "text": [
        "WARNING:root:sweep 28: ['Recording stopped before completing the experiment epoch']\n"
       ]
      },
      {
       "output_type": "stream",
       "stream": "stderr",
       "text": [
        "WARNING:root:sweep 29: ['Recording stopped before completing the experiment epoch']\n"
       ]
      },
      {
       "output_type": "stream",
       "stream": "stderr",
       "text": [
        "WARNING:root:sweep 30: ['Recording stopped before completing the experiment epoch']\n"
       ]
      },
      {
       "output_type": "stream",
       "stream": "stderr",
       "text": [
        "WARNING:root:sweep 31: ['Recording stopped before completing the experiment epoch']\n"
       ]
      },
      {
       "output_type": "stream",
       "stream": "stderr",
       "text": [
        "WARNING:root:sweep 35: ['Recording stopped before completing the experiment epoch']\n"
       ]
      },
      {
       "output_type": "stream",
       "stream": "stdout",
       "text": [
        "708221753.0 extracted\n",
        "loading dataset into data structure...\n"
       ]
      },
      {
       "output_type": "stream",
       "stream": "stderr",
       "text": [
        "WARNING:root:sweep 23: ['Recording stopped before completing the experiment epoch']\n"
       ]
      },
      {
       "output_type": "stream",
       "stream": "stderr",
       "text": [
        "WARNING:root:sweep 24: ['Recording stopped before completing the experiment epoch']\n"
       ]
      },
      {
       "output_type": "stream",
       "stream": "stderr",
       "text": [
        "WARNING:root:sweep 25: ['Recording stopped before completing the experiment epoch']\n"
       ]
      },
      {
       "output_type": "stream",
       "stream": "stderr",
       "text": [
        "WARNING:root:sweep 26: ['Recording stopped before completing the experiment epoch']\n"
       ]
      },
      {
       "output_type": "stream",
       "stream": "stderr",
       "text": [
        "WARNING:root:sweep 27: ['Recording stopped before completing the experiment epoch']\n"
       ]
      },
      {
       "output_type": "stream",
       "stream": "stdout",
       "text": [
        "708221965.0 extracted\n",
        "loading dataset into data structure...\n"
       ]
      },
      {
       "output_type": "stream",
       "stream": "stderr",
       "text": [
        "WARNING:root:sweep 24: ['Recording stopped before completing the experiment epoch']\n"
       ]
      },
      {
       "output_type": "stream",
       "stream": "stderr",
       "text": [
        "WARNING:root:sweep 25: ['Recording stopped before completing the experiment epoch']\n"
       ]
      },
      {
       "output_type": "stream",
       "stream": "stderr",
       "text": [
        "WARNING:root:sweep 26: ['Recording stopped before completing the experiment epoch']\n"
       ]
      },
      {
       "output_type": "stream",
       "stream": "stderr",
       "text": [
        "WARNING:root:sweep 27: ['Recording stopped before completing the experiment epoch']\n"
       ]
      },
      {
       "output_type": "stream",
       "stream": "stderr",
       "text": [
        "WARNING:root:sweep 28: ['Recording stopped before completing the experiment epoch']\n"
       ]
      },
      {
       "output_type": "stream",
       "stream": "stdout",
       "text": [
        "708229331.0 extracted\n",
        "loading dataset into data structure...\n"
       ]
      },
      {
       "output_type": "stream",
       "stream": "stderr",
       "text": [
        "WARNING:root:sweep 25: ['Recording stopped before completing the experiment epoch']\n"
       ]
      },
      {
       "output_type": "stream",
       "stream": "stderr",
       "text": [
        "WARNING:root:sweep 26: ['Recording stopped before completing the experiment epoch']\n"
       ]
      },
      {
       "output_type": "stream",
       "stream": "stderr",
       "text": [
        "WARNING:root:sweep 27: ['Recording stopped before completing the experiment epoch']\n"
       ]
      },
      {
       "output_type": "stream",
       "stream": "stderr",
       "text": [
        "WARNING:root:sweep 28: ['Recording stopped before completing the experiment epoch']\n"
       ]
      },
      {
       "output_type": "stream",
       "stream": "stderr",
       "text": [
        "WARNING:root:sweep 29: ['Recording stopped before completing the experiment epoch']\n"
       ]
      },
      {
       "output_type": "stream",
       "stream": "stdout",
       "text": [
        "708237126.0 extracted\n",
        "loading dataset into data structure...\n"
       ]
      },
      {
       "output_type": "stream",
       "stream": "stdout",
       "text": [
        "708246759.0 extracted\n",
        "loading dataset into data structure...\n"
       ]
      },
      {
       "output_type": "stream",
       "stream": "stderr",
       "text": [
        "WARNING:root:sweep 27: ['Recording stopped before completing the experiment epoch']\n"
       ]
      },
      {
       "output_type": "stream",
       "stream": "stderr",
       "text": [
        "WARNING:root:sweep 28: ['Recording stopped before completing the experiment epoch']\n"
       ]
      },
      {
       "output_type": "stream",
       "stream": "stderr",
       "text": [
        "WARNING:root:sweep 29: ['Recording stopped before completing the experiment epoch']\n"
       ]
      },
      {
       "output_type": "stream",
       "stream": "stderr",
       "text": [
        "WARNING:root:sweep 30: ['Recording stopped before completing the experiment epoch']\n"
       ]
      },
      {
       "output_type": "stream",
       "stream": "stderr",
       "text": [
        "WARNING:root:sweep 31: ['Recording stopped before completing the experiment epoch']\n"
       ]
      },
      {
       "output_type": "stream",
       "stream": "stdout",
       "text": [
        "708289788.0 extracted\n",
        "loading dataset into data structure...\n"
       ]
      },
      {
       "output_type": "stream",
       "stream": "stderr",
       "text": [
        "WARNING:root:sweep 23: ['Recording stopped before completing the experiment epoch']\n"
       ]
      },
      {
       "output_type": "stream",
       "stream": "stderr",
       "text": [
        "WARNING:root:sweep 24: ['Recording stopped before completing the experiment epoch']\n"
       ]
      },
      {
       "output_type": "stream",
       "stream": "stderr",
       "text": [
        "WARNING:root:sweep 25: ['Recording stopped before completing the experiment epoch']\n"
       ]
      },
      {
       "output_type": "stream",
       "stream": "stderr",
       "text": [
        "WARNING:root:sweep 26: ['Recording stopped before completing the experiment epoch']\n"
       ]
      },
      {
       "output_type": "stream",
       "stream": "stderr",
       "text": [
        "WARNING:root:sweep 27: ['Recording stopped before completing the experiment epoch']\n"
       ]
      },
      {
       "output_type": "stream",
       "stream": "stdout",
       "text": [
        "708298763.0 extracted\n",
        "loading dataset into data structure...\n"
       ]
      },
      {
       "output_type": "stream",
       "stream": "stdout",
       "text": [
        "708479383.0 extracted\n",
        "loading dataset into data structure...\n"
       ]
      },
      {
       "output_type": "stream",
       "stream": "stderr",
       "text": [
        "WARNING:root:sweep 29: ['experiment epoch is missing', 'stim epoch is missing']\n"
       ]
      },
      {
       "output_type": "stream",
       "stream": "stderr",
       "text": [
        "WARNING:root:sweep 35: ['Recording stopped before completing the experiment epoch']\n"
       ]
      },
      {
       "output_type": "stream",
       "stream": "stderr",
       "text": [
        "WARNING:root:sweep 36: ['Recording stopped before completing the experiment epoch']\n"
       ]
      },
      {
       "output_type": "stream",
       "stream": "stderr",
       "text": [
        "WARNING:root:sweep 37: ['Recording stopped before completing the experiment epoch']\n"
       ]
      },
      {
       "output_type": "stream",
       "stream": "stderr",
       "text": [
        "WARNING:root:sweep 38: ['Recording stopped before completing the experiment epoch']\n"
       ]
      },
      {
       "output_type": "stream",
       "stream": "stderr",
       "text": [
        "WARNING:root:sweep 39: ['Recording stopped before completing the experiment epoch']\n"
       ]
      },
      {
       "output_type": "stream",
       "stream": "stdout",
       "text": [
        "708495657.0 extracted\n",
        "loading dataset into data structure...\n"
       ]
      },
      {
       "output_type": "stream",
       "stream": "stderr",
       "text": [
        "/nethome/kcni/ychen/.local/lib/python3.6/site-packages/ipfx/spike_features.py:87: RuntimeWarning: invalid value encountered in less\n",
        "  width_levels[width_levels < v[spike_indexes]] = thresh_to_peak_levels[width_levels < v[spike_indexes]]\n"
       ]
      },
      {
       "output_type": "stream",
       "stream": "stdout",
       "text": [
        "708506205.0 extracted\n",
        "loading dataset into data structure...\n"
       ]
      },
      {
       "output_type": "stream",
       "stream": "stderr",
       "text": [
        "WARNING:root:sweep 26: ['Recording stopped before completing the experiment epoch']\n"
       ]
      },
      {
       "output_type": "stream",
       "stream": "stderr",
       "text": [
        "WARNING:root:sweep 27: ['Recording stopped before completing the experiment epoch']\n"
       ]
      },
      {
       "output_type": "stream",
       "stream": "stderr",
       "text": [
        "WARNING:root:sweep 28: ['Recording stopped before completing the experiment epoch']\n"
       ]
      },
      {
       "output_type": "stream",
       "stream": "stderr",
       "text": [
        "WARNING:root:sweep 29: ['Recording stopped before completing the experiment epoch']\n"
       ]
      },
      {
       "output_type": "stream",
       "stream": "stderr",
       "text": [
        "WARNING:root:sweep 30: ['Recording stopped before completing the experiment epoch']\n"
       ]
      },
      {
       "output_type": "stream",
       "stream": "stdout",
       "text": [
        "708513415.0 extracted\n",
        "loading dataset into data structure...\n"
       ]
      },
      {
       "output_type": "stream",
       "stream": "stdout",
       "text": [
        "708525749.0 extracted\n",
        "loading dataset into data structure...\n"
       ]
      },
      {
       "output_type": "stream",
       "stream": "stderr",
       "text": [
        "WARNING:root:sweep 26: ['Recording stopped before completing the experiment epoch']\n"
       ]
      },
      {
       "output_type": "stream",
       "stream": "stderr",
       "text": [
        "WARNING:root:sweep 27: ['Recording stopped before completing the experiment epoch']\n"
       ]
      },
      {
       "output_type": "stream",
       "stream": "stderr",
       "text": [
        "WARNING:root:sweep 28: ['Recording stopped before completing the experiment epoch']\n"
       ]
      },
      {
       "output_type": "stream",
       "stream": "stderr",
       "text": [
        "WARNING:root:sweep 29: ['Recording stopped before completing the experiment epoch']\n"
       ]
      },
      {
       "output_type": "stream",
       "stream": "stderr",
       "text": [
        "WARNING:root:sweep 30: ['Recording stopped before completing the experiment epoch']\n"
       ]
      },
      {
       "output_type": "stream",
       "stream": "stdout",
       "text": [
        "708545660.0 extracted\n",
        "loading dataset into data structure...\n"
       ]
      },
      {
       "output_type": "stream",
       "stream": "stderr",
       "text": [
        "WARNING:root:sweep 23: ['Recording stopped before completing the experiment epoch']\n"
       ]
      },
      {
       "output_type": "stream",
       "stream": "stderr",
       "text": [
        "WARNING:root:sweep 24: ['Recording stopped before completing the experiment epoch']\n"
       ]
      },
      {
       "output_type": "stream",
       "stream": "stderr",
       "text": [
        "WARNING:root:sweep 25: ['Recording stopped before completing the experiment epoch']\n"
       ]
      },
      {
       "output_type": "stream",
       "stream": "stderr",
       "text": [
        "WARNING:root:sweep 26: ['Recording stopped before completing the experiment epoch']\n"
       ]
      },
      {
       "output_type": "stream",
       "stream": "stderr",
       "text": [
        "WARNING:root:sweep 27: ['Recording stopped before completing the experiment epoch']\n"
       ]
      },
      {
       "output_type": "stream",
       "stream": "stdout",
       "text": [
        "708642436.0 extracted\n",
        "loading dataset into data structure...\n"
       ]
      },
      {
       "output_type": "stream",
       "stream": "stderr",
       "text": [
        "WARNING:root:sweep 28: ['Recording stopped before completing the experiment epoch']\n"
       ]
      },
      {
       "output_type": "stream",
       "stream": "stderr",
       "text": [
        "WARNING:root:sweep 29: ['Recording stopped before completing the experiment epoch']\n"
       ]
      },
      {
       "output_type": "stream",
       "stream": "stderr",
       "text": [
        "WARNING:root:sweep 30: ['Recording stopped before completing the experiment epoch']\n"
       ]
      },
      {
       "output_type": "stream",
       "stream": "stderr",
       "text": [
        "WARNING:root:sweep 31: ['Recording stopped before completing the experiment epoch']\n"
       ]
      },
      {
       "output_type": "stream",
       "stream": "stderr",
       "text": [
        "WARNING:root:sweep 32: ['Recording stopped before completing the experiment epoch']\n"
       ]
      },
      {
       "output_type": "stream",
       "stream": "stdout",
       "text": [
        "708659517.0 extracted\n",
        "loading dataset into data structure...\n"
       ]
      },
      {
       "output_type": "stream",
       "stream": "stderr",
       "text": [
        "WARNING:root:sweep 25: ['Recording stopped before completing the experiment epoch']\n"
       ]
      },
      {
       "output_type": "stream",
       "stream": "stderr",
       "text": [
        "WARNING:root:sweep 26: ['Recording stopped before completing the experiment epoch']\n"
       ]
      },
      {
       "output_type": "stream",
       "stream": "stderr",
       "text": [
        "WARNING:root:sweep 27: ['Recording stopped before completing the experiment epoch']\n"
       ]
      },
      {
       "output_type": "stream",
       "stream": "stderr",
       "text": [
        "WARNING:root:sweep 28: ['Recording stopped before completing the experiment epoch']\n"
       ]
      },
      {
       "output_type": "stream",
       "stream": "stderr",
       "text": [
        "WARNING:root:sweep 29: ['Recording stopped before completing the experiment epoch']\n"
       ]
      },
      {
       "output_type": "stream",
       "stream": "stdout",
       "text": [
        "708685097.0 extracted\n",
        "loading dataset into data structure...\n"
       ]
      },
      {
       "output_type": "stream",
       "stream": "stderr",
       "text": [
        "WARNING:root:sweep 24: ['Recording stopped before completing the experiment epoch']\n"
       ]
      },
      {
       "output_type": "stream",
       "stream": "stderr",
       "text": [
        "WARNING:root:sweep 25: ['Recording stopped before completing the experiment epoch']\n"
       ]
      },
      {
       "output_type": "stream",
       "stream": "stderr",
       "text": [
        "WARNING:root:sweep 26: ['Recording stopped before completing the experiment epoch']\n"
       ]
      },
      {
       "output_type": "stream",
       "stream": "stderr",
       "text": [
        "WARNING:root:sweep 27: ['Recording stopped before completing the experiment epoch']\n"
       ]
      },
      {
       "output_type": "stream",
       "stream": "stderr",
       "text": [
        "WARNING:root:sweep 28: ['Recording stopped before completing the experiment epoch']\n"
       ]
      },
      {
       "output_type": "stream",
       "stream": "stdout",
       "text": [
        "708696471.0 extracted\n",
        "loading dataset into data structure...\n"
       ]
      },
      {
       "output_type": "stream",
       "stream": "stderr",
       "text": [
        "WARNING:root:sweep 32: ['Recording stopped before completing the experiment epoch']\n"
       ]
      },
      {
       "output_type": "stream",
       "stream": "stderr",
       "text": [
        "WARNING:root:sweep 33: ['Recording stopped before completing the experiment epoch']\n"
       ]
      },
      {
       "output_type": "stream",
       "stream": "stderr",
       "text": [
        "WARNING:root:sweep 34: ['Recording stopped before completing the experiment epoch']\n"
       ]
      },
      {
       "output_type": "stream",
       "stream": "stderr",
       "text": [
        "WARNING:root:sweep 35: ['Recording stopped before completing the experiment epoch']\n"
       ]
      },
      {
       "output_type": "stream",
       "stream": "stderr",
       "text": [
        "WARNING:root:sweep 36: ['Recording stopped before completing the experiment epoch']\n"
       ]
      },
      {
       "output_type": "stream",
       "stream": "stdout",
       "text": [
        "708696754.0 extracted\n",
        "loading dataset into data structure...\n"
       ]
      },
      {
       "output_type": "stream",
       "stream": "stderr",
       "text": [
        "WARNING:root:sweep 27: ['Recording stopped before completing the experiment epoch']\n"
       ]
      },
      {
       "output_type": "stream",
       "stream": "stderr",
       "text": [
        "WARNING:root:sweep 28: ['Recording stopped before completing the experiment epoch']\n"
       ]
      },
      {
       "output_type": "stream",
       "stream": "stderr",
       "text": [
        "WARNING:root:sweep 29: ['Recording stopped before completing the experiment epoch']\n"
       ]
      },
      {
       "output_type": "stream",
       "stream": "stderr",
       "text": [
        "WARNING:root:sweep 30: ['Recording stopped before completing the experiment epoch']\n"
       ]
      },
      {
       "output_type": "stream",
       "stream": "stderr",
       "text": [
        "WARNING:root:sweep 31: ['Recording stopped before completing the experiment epoch']\n"
       ]
      },
      {
       "output_type": "stream",
       "stream": "stdout",
       "text": [
        "708699996.0 extracted\n",
        "loading dataset into data structure...\n"
       ]
      },
      {
       "output_type": "stream",
       "stream": "stdout",
       "text": [
        "708712664.0 extracted\n",
        "loading dataset into data structure...\n"
       ]
      },
      {
       "output_type": "stream",
       "stream": "stdout",
       "text": [
        "708755480.0 extracted\n",
        "loading dataset into data structure...\n"
       ]
      },
      {
       "output_type": "stream",
       "stream": "stderr",
       "text": [
        "WARNING:root:sweep 22: ['Recording stopped before completing the experiment epoch']\n"
       ]
      },
      {
       "output_type": "stream",
       "stream": "stderr",
       "text": [
        "WARNING:root:sweep 23: ['Recording stopped before completing the experiment epoch']\n"
       ]
      },
      {
       "output_type": "stream",
       "stream": "stderr",
       "text": [
        "WARNING:root:sweep 24: ['Recording stopped before completing the experiment epoch']\n"
       ]
      },
      {
       "output_type": "stream",
       "stream": "stderr",
       "text": [
        "WARNING:root:sweep 25: ['Recording stopped before completing the experiment epoch']\n"
       ]
      },
      {
       "output_type": "stream",
       "stream": "stderr",
       "text": [
        "WARNING:root:sweep 26: ['Recording stopped before completing the experiment epoch']\n"
       ]
      },
      {
       "output_type": "stream",
       "stream": "stdout",
       "text": [
        "708758571.0 extracted\n",
        "loading dataset into data structure...\n"
       ]
      },
      {
       "output_type": "stream",
       "stream": "stderr",
       "text": [
        "WARNING:root:sweep 31: ['Recording stopped before completing the experiment epoch']\n"
       ]
      },
      {
       "output_type": "stream",
       "stream": "stderr",
       "text": [
        "WARNING:root:sweep 32: ['Recording stopped before completing the experiment epoch']\n"
       ]
      },
      {
       "output_type": "stream",
       "stream": "stderr",
       "text": [
        "WARNING:root:sweep 33: ['Recording stopped before completing the experiment epoch']\n"
       ]
      },
      {
       "output_type": "stream",
       "stream": "stderr",
       "text": [
        "WARNING:root:sweep 34: ['Recording stopped before completing the experiment epoch']\n"
       ]
      },
      {
       "output_type": "stream",
       "stream": "stderr",
       "text": [
        "WARNING:root:sweep 35: ['Recording stopped before completing the experiment epoch']\n"
       ]
      },
      {
       "output_type": "stream",
       "stream": "stdout",
       "text": [
        "708766941.0 extracted\n",
        "loading dataset into data structure...\n"
       ]
      },
      {
       "output_type": "stream",
       "stream": "stderr",
       "text": [
        "WARNING:root:sweep 26: ['Recording stopped before completing the experiment epoch']\n"
       ]
      },
      {
       "output_type": "stream",
       "stream": "stderr",
       "text": [
        "WARNING:root:sweep 27: ['Recording stopped before completing the experiment epoch']\n"
       ]
      },
      {
       "output_type": "stream",
       "stream": "stderr",
       "text": [
        "WARNING:root:sweep 28: ['Recording stopped before completing the experiment epoch']\n"
       ]
      },
      {
       "output_type": "stream",
       "stream": "stderr",
       "text": [
        "WARNING:root:sweep 29: ['Recording stopped before completing the experiment epoch']\n"
       ]
      },
      {
       "output_type": "stream",
       "stream": "stderr",
       "text": [
        "WARNING:root:sweep 30: ['Recording stopped before completing the experiment epoch']\n"
       ]
      },
      {
       "output_type": "stream",
       "stream": "stdout",
       "text": [
        "708781717.0 extracted\n",
        "loading dataset into data structure...\n"
       ]
      },
      {
       "output_type": "stream",
       "stream": "stderr",
       "text": [
        "WARNING:root:sweep 34: ['Recording stopped before completing the experiment epoch']\n"
       ]
      },
      {
       "output_type": "stream",
       "stream": "stderr",
       "text": [
        "WARNING:root:sweep 35: ['Recording stopped before completing the experiment epoch']\n"
       ]
      },
      {
       "output_type": "stream",
       "stream": "stderr",
       "text": [
        "WARNING:root:sweep 36: ['Recording stopped before completing the experiment epoch']\n"
       ]
      },
      {
       "output_type": "stream",
       "stream": "stderr",
       "text": [
        "WARNING:root:sweep 37: ['Recording stopped before completing the experiment epoch']\n"
       ]
      },
      {
       "output_type": "stream",
       "stream": "stderr",
       "text": [
        "WARNING:root:sweep 38: ['Recording stopped before completing the experiment epoch']\n"
       ]
      },
      {
       "output_type": "stream",
       "stream": "stderr",
       "text": [
        "/nethome/kcni/ychen/.local/lib/python3.6/site-packages/ipfx/spike_features.py:87: RuntimeWarning: invalid value encountered in less\n",
        "  width_levels[width_levels < v[spike_indexes]] = thresh_to_peak_levels[width_levels < v[spike_indexes]]\n"
       ]
      },
      {
       "output_type": "stream",
       "stream": "stdout",
       "text": [
        "708791930.0 extracted\n",
        "loading dataset into data structure...\n"
       ]
      },
      {
       "output_type": "stream",
       "stream": "stderr",
       "text": [
        "WARNING:root:sweep 23: ['Recording stopped before completing the experiment epoch']\n"
       ]
      },
      {
       "output_type": "stream",
       "stream": "stderr",
       "text": [
        "WARNING:root:sweep 24: ['Recording stopped before completing the experiment epoch']\n"
       ]
      },
      {
       "output_type": "stream",
       "stream": "stderr",
       "text": [
        "WARNING:root:sweep 25: ['Recording stopped before completing the experiment epoch']\n"
       ]
      },
      {
       "output_type": "stream",
       "stream": "stderr",
       "text": [
        "WARNING:root:sweep 26: ['Recording stopped before completing the experiment epoch']\n"
       ]
      },
      {
       "output_type": "stream",
       "stream": "stderr",
       "text": [
        "WARNING:root:sweep 27: ['Recording stopped before completing the experiment epoch']\n"
       ]
      },
      {
       "output_type": "stream",
       "stream": "stdout",
       "text": [
        "708792108.0 extracted\n",
        "loading dataset into data structure...\n"
       ]
      },
      {
       "output_type": "stream",
       "stream": "stderr",
       "text": [
        "WARNING:root:sweep 22: ['Recording stopped before completing the experiment epoch']\n"
       ]
      },
      {
       "output_type": "stream",
       "stream": "stderr",
       "text": [
        "WARNING:root:sweep 23: ['Recording stopped before completing the experiment epoch']\n"
       ]
      },
      {
       "output_type": "stream",
       "stream": "stderr",
       "text": [
        "WARNING:root:sweep 24: ['Recording stopped before completing the experiment epoch']\n"
       ]
      },
      {
       "output_type": "stream",
       "stream": "stderr",
       "text": [
        "WARNING:root:sweep 25: ['Recording stopped before completing the experiment epoch']\n"
       ]
      },
      {
       "output_type": "stream",
       "stream": "stderr",
       "text": [
        "WARNING:root:sweep 26: ['Recording stopped before completing the experiment epoch']\n"
       ]
      },
      {
       "output_type": "stream",
       "stream": "stdout",
       "text": [
        "708797744.0 extracted\n",
        "loading dataset into data structure...\n"
       ]
      },
      {
       "output_type": "stream",
       "stream": "stderr",
       "text": [
        "WARNING:root:sweep 25: ['Recording stopped before completing the experiment epoch']\n"
       ]
      },
      {
       "output_type": "stream",
       "stream": "stderr",
       "text": [
        "WARNING:root:sweep 26: ['Recording stopped before completing the experiment epoch']\n"
       ]
      },
      {
       "output_type": "stream",
       "stream": "stderr",
       "text": [
        "WARNING:root:sweep 27: ['Recording stopped before completing the experiment epoch']\n"
       ]
      },
      {
       "output_type": "stream",
       "stream": "stderr",
       "text": [
        "WARNING:root:sweep 28: ['Recording stopped before completing the experiment epoch']\n"
       ]
      },
      {
       "output_type": "stream",
       "stream": "stderr",
       "text": [
        "WARNING:root:sweep 29: ['Recording stopped before completing the experiment epoch']\n"
       ]
      },
      {
       "output_type": "stream",
       "stream": "stderr",
       "text": [
        "WARNING:root:sweep 30: ['Recording stopped before completing the experiment epoch']\n"
       ]
      },
      {
       "output_type": "stream",
       "stream": "stderr",
       "text": [
        "WARNING:root:sweep 31: ['Recording stopped before completing the experiment epoch']\n"
       ]
      },
      {
       "output_type": "stream",
       "stream": "stderr",
       "text": [
        "WARNING:root:sweep 32: ['Recording stopped before completing the experiment epoch']\n"
       ]
      },
      {
       "output_type": "stream",
       "stream": "stdout",
       "text": [
        "708819184.0 extracted\n",
        "loading dataset into data structure...\n"
       ]
      },
      {
       "output_type": "stream",
       "stream": "stderr",
       "text": [
        "WARNING:root:sweep 28: ['experiment epoch is missing', 'stim epoch is missing']\n"
       ]
      },
      {
       "output_type": "stream",
       "stream": "stderr",
       "text": [
        "WARNING:root:sweep 29: ['Recording stopped before completing the experiment epoch']\n"
       ]
      },
      {
       "output_type": "stream",
       "stream": "stderr",
       "text": [
        "WARNING:root:sweep 30: ['Recording stopped before completing the experiment epoch']\n"
       ]
      },
      {
       "output_type": "stream",
       "stream": "stderr",
       "text": [
        "WARNING:root:sweep 31: ['Recording stopped before completing the experiment epoch']\n"
       ]
      },
      {
       "output_type": "stream",
       "stream": "stderr",
       "text": [
        "WARNING:root:sweep 32: ['Recording stopped before completing the experiment epoch']\n"
       ]
      },
      {
       "output_type": "stream",
       "stream": "stderr",
       "text": [
        "WARNING:root:sweep 33: ['Recording stopped before completing the experiment epoch']\n"
       ]
      },
      {
       "output_type": "stream",
       "stream": "stderr",
       "text": [
        "/nethome/kcni/ychen/.local/lib/python3.6/site-packages/ipfx/spike_features.py:87: RuntimeWarning: invalid value encountered in less\n",
        "  width_levels[width_levels < v[spike_indexes]] = thresh_to_peak_levels[width_levels < v[spike_indexes]]\n"
       ]
      },
      {
       "output_type": "stream",
       "stream": "stdout",
       "text": [
        "709153201.0 extracted\n",
        "loading dataset into data structure...\n"
       ]
      },
      {
       "output_type": "stream",
       "stream": "stderr",
       "text": [
        "WARNING:root:sweep 24: ['Recording stopped before completing the experiment epoch']\n"
       ]
      },
      {
       "output_type": "stream",
       "stream": "stderr",
       "text": [
        "WARNING:root:sweep 25: ['Recording stopped before completing the experiment epoch']\n"
       ]
      },
      {
       "output_type": "stream",
       "stream": "stderr",
       "text": [
        "WARNING:root:sweep 26: ['Recording stopped before completing the experiment epoch']\n"
       ]
      },
      {
       "output_type": "stream",
       "stream": "stderr",
       "text": [
        "WARNING:root:sweep 27: ['Recording stopped before completing the experiment epoch']\n"
       ]
      },
      {
       "output_type": "stream",
       "stream": "stderr",
       "text": [
        "WARNING:root:sweep 28: ['Recording stopped before completing the experiment epoch']\n"
       ]
      },
      {
       "output_type": "stream",
       "stream": "stdout",
       "text": [
        "709179855.0 extracted\n",
        "loading dataset into data structure...\n"
       ]
      },
      {
       "output_type": "stream",
       "stream": "stderr",
       "text": [
        "WARNING:root:sweep 25: ['Recording stopped before completing the experiment epoch']\n"
       ]
      },
      {
       "output_type": "stream",
       "stream": "stderr",
       "text": [
        "WARNING:root:sweep 26: ['Recording stopped before completing the experiment epoch']\n"
       ]
      },
      {
       "output_type": "stream",
       "stream": "stderr",
       "text": [
        "WARNING:root:sweep 27: ['Recording stopped before completing the experiment epoch']\n"
       ]
      },
      {
       "output_type": "stream",
       "stream": "stderr",
       "text": [
        "WARNING:root:sweep 28: ['Recording stopped before completing the experiment epoch']\n"
       ]
      },
      {
       "output_type": "stream",
       "stream": "stderr",
       "text": [
        "WARNING:root:sweep 29: ['Recording stopped before completing the experiment epoch']\n"
       ]
      },
      {
       "output_type": "stream",
       "stream": "stderr",
       "text": [
        "WARNING:root:sweep 48: ['Recording stopped before completing the experiment epoch']\n"
       ]
      },
      {
       "output_type": "stream",
       "stream": "stdout",
       "text": [
        "709186410.0 extracted\n",
        "loading dataset into data structure...\n"
       ]
      },
      {
       "output_type": "stream",
       "stream": "stderr",
       "text": [
        "WARNING:root:sweep 28: ['Recording stopped before completing the experiment epoch']\n"
       ]
      },
      {
       "output_type": "stream",
       "stream": "stderr",
       "text": [
        "WARNING:root:sweep 29: ['Recording stopped before completing the experiment epoch']\n"
       ]
      },
      {
       "output_type": "stream",
       "stream": "stderr",
       "text": [
        "WARNING:root:sweep 30: ['Recording stopped before completing the experiment epoch']\n"
       ]
      },
      {
       "output_type": "stream",
       "stream": "stderr",
       "text": [
        "WARNING:root:sweep 31: ['Recording stopped before completing the experiment epoch']\n"
       ]
      },
      {
       "output_type": "stream",
       "stream": "stderr",
       "text": [
        "WARNING:root:sweep 32: ['Recording stopped before completing the experiment epoch']\n"
       ]
      },
      {
       "output_type": "stream",
       "stream": "stderr",
       "text": [
        "/nethome/kcni/ychen/.local/lib/python3.6/site-packages/ipfx/spike_features.py:87: RuntimeWarning: invalid value encountered in less\n",
        "  width_levels[width_levels < v[spike_indexes]] = thresh_to_peak_levels[width_levels < v[spike_indexes]]\n"
       ]
      },
      {
       "output_type": "stream",
       "stream": "stdout",
       "text": [
        "709219898.0 extracted\n",
        "loading dataset into data structure...\n"
       ]
      },
      {
       "output_type": "stream",
       "stream": "stderr",
       "text": [
        "WARNING:root:sweep 22: ['Recording stopped before completing the experiment epoch']\n"
       ]
      },
      {
       "output_type": "stream",
       "stream": "stderr",
       "text": [
        "WARNING:root:sweep 23: ['Recording stopped before completing the experiment epoch']\n"
       ]
      },
      {
       "output_type": "stream",
       "stream": "stderr",
       "text": [
        "WARNING:root:sweep 24: ['Recording stopped before completing the experiment epoch']\n"
       ]
      },
      {
       "output_type": "stream",
       "stream": "stderr",
       "text": [
        "WARNING:root:sweep 25: ['Recording stopped before completing the experiment epoch']\n"
       ]
      },
      {
       "output_type": "stream",
       "stream": "stderr",
       "text": [
        "WARNING:root:sweep 26: ['Recording stopped before completing the experiment epoch']\n"
       ]
      },
      {
       "output_type": "stream",
       "stream": "stderr",
       "text": [
        "WARNING:root:sweep 27: ['Recording stopped before completing the experiment epoch']\n"
       ]
      },
      {
       "output_type": "stream",
       "stream": "stdout",
       "text": [
        "709232477.0 extracted\n",
        "loading dataset into data structure...\n"
       ]
      },
      {
       "output_type": "stream",
       "stream": "stderr",
       "text": [
        "WARNING:root:sweep 24: ['Recording stopped before completing the experiment epoch']\n"
       ]
      },
      {
       "output_type": "stream",
       "stream": "stderr",
       "text": [
        "WARNING:root:sweep 25: ['Recording stopped before completing the experiment epoch']\n"
       ]
      },
      {
       "output_type": "stream",
       "stream": "stderr",
       "text": [
        "WARNING:root:sweep 26: ['Recording stopped before completing the experiment epoch']\n"
       ]
      },
      {
       "output_type": "stream",
       "stream": "stderr",
       "text": [
        "WARNING:root:sweep 27: ['Recording stopped before completing the experiment epoch']\n"
       ]
      },
      {
       "output_type": "stream",
       "stream": "stderr",
       "text": [
        "WARNING:root:sweep 28: ['Recording stopped before completing the experiment epoch']\n"
       ]
      },
      {
       "output_type": "stream",
       "stream": "stderr",
       "text": [
        "/nethome/kcni/ychen/.local/lib/python3.6/site-packages/ipfx/spike_features.py:87: RuntimeWarning: invalid value encountered in less\n",
        "  width_levels[width_levels < v[spike_indexes]] = thresh_to_peak_levels[width_levels < v[spike_indexes]]\n"
       ]
      },
      {
       "output_type": "stream",
       "stream": "stdout",
       "text": [
        "709323717.0 extracted\n",
        "loading dataset into data structure...\n"
       ]
      },
      {
       "output_type": "stream",
       "stream": "stderr",
       "text": [
        "WARNING:root:sweep 22: ['Recording stopped before completing the experiment epoch']\n"
       ]
      },
      {
       "output_type": "stream",
       "stream": "stderr",
       "text": [
        "WARNING:root:sweep 23: ['Recording stopped before completing the experiment epoch']\n"
       ]
      },
      {
       "output_type": "stream",
       "stream": "stderr",
       "text": [
        "WARNING:root:sweep 24: ['Recording stopped before completing the experiment epoch']\n"
       ]
      },
      {
       "output_type": "stream",
       "stream": "stderr",
       "text": [
        "WARNING:root:sweep 25: ['Recording stopped before completing the experiment epoch']\n"
       ]
      },
      {
       "output_type": "stream",
       "stream": "stderr",
       "text": [
        "WARNING:root:sweep 26: ['Recording stopped before completing the experiment epoch']\n"
       ]
      },
      {
       "output_type": "stream",
       "stream": "stdout",
       "text": [
        "709329028.0 extracted\n",
        "loading dataset into data structure...\n"
       ]
      },
      {
       "output_type": "stream",
       "stream": "stderr",
       "text": [
        "WARNING:root:sweep 20: ['Recording stopped before completing the experiment epoch']\n"
       ]
      },
      {
       "output_type": "stream",
       "stream": "stderr",
       "text": [
        "WARNING:root:sweep 21: ['Recording stopped before completing the experiment epoch']\n"
       ]
      },
      {
       "output_type": "stream",
       "stream": "stderr",
       "text": [
        "WARNING:root:sweep 22: ['Recording stopped before completing the experiment epoch']\n"
       ]
      },
      {
       "output_type": "stream",
       "stream": "stderr",
       "text": [
        "WARNING:root:sweep 23: ['Recording stopped before completing the experiment epoch']\n"
       ]
      },
      {
       "output_type": "stream",
       "stream": "stderr",
       "text": [
        "WARNING:root:sweep 24: ['Recording stopped before completing the experiment epoch']\n"
       ]
      },
      {
       "output_type": "stream",
       "stream": "stdout",
       "text": [
        "709332066.0 extracted\n",
        "loading dataset into data structure...\n"
       ]
      },
      {
       "output_type": "stream",
       "stream": "stderr",
       "text": [
        "WARNING:root:sweep 25: ['Recording stopped before completing the experiment epoch']\n"
       ]
      },
      {
       "output_type": "stream",
       "stream": "stderr",
       "text": [
        "WARNING:root:sweep 26: ['Recording stopped before completing the experiment epoch']\n"
       ]
      },
      {
       "output_type": "stream",
       "stream": "stderr",
       "text": [
        "WARNING:root:sweep 27: ['Recording stopped before completing the experiment epoch']\n"
       ]
      },
      {
       "output_type": "stream",
       "stream": "stderr",
       "text": [
        "WARNING:root:sweep 28: ['Recording stopped before completing the experiment epoch']\n"
       ]
      },
      {
       "output_type": "stream",
       "stream": "stderr",
       "text": [
        "WARNING:root:sweep 29: ['Recording stopped before completing the experiment epoch']\n"
       ]
      },
      {
       "output_type": "stream",
       "stream": "stdout",
       "text": [
        "709363412.0 extracted\n",
        "loading dataset into data structure...\n"
       ]
      },
      {
       "output_type": "stream",
       "stream": "stderr",
       "text": [
        "WARNING:root:sweep 25: ['Recording stopped before completing the experiment epoch']\n"
       ]
      },
      {
       "output_type": "stream",
       "stream": "stderr",
       "text": [
        "WARNING:root:sweep 26: ['Recording stopped before completing the experiment epoch']\n"
       ]
      },
      {
       "output_type": "stream",
       "stream": "stderr",
       "text": [
        "WARNING:root:sweep 27: ['Recording stopped before completing the experiment epoch']\n"
       ]
      },
      {
       "output_type": "stream",
       "stream": "stderr",
       "text": [
        "WARNING:root:sweep 28: ['Recording stopped before completing the experiment epoch']\n"
       ]
      },
      {
       "output_type": "stream",
       "stream": "stderr",
       "text": [
        "WARNING:root:sweep 29: ['Recording stopped before completing the experiment epoch']\n"
       ]
      },
      {
       "output_type": "stream",
       "stream": "stdout",
       "text": [
        "709375041.0 extracted\n",
        "loading dataset into data structure...\n"
       ]
      },
      {
       "output_type": "stream",
       "stream": "stderr",
       "text": [
        "WARNING:root:sweep 22: ['Recording stopped before completing the experiment epoch']\n"
       ]
      },
      {
       "output_type": "stream",
       "stream": "stderr",
       "text": [
        "WARNING:root:sweep 23: ['Recording stopped before completing the experiment epoch']\n"
       ]
      },
      {
       "output_type": "stream",
       "stream": "stderr",
       "text": [
        "WARNING:root:sweep 24: ['Recording stopped before completing the experiment epoch']\n"
       ]
      },
      {
       "output_type": "stream",
       "stream": "stderr",
       "text": [
        "WARNING:root:sweep 25: ['Recording stopped before completing the experiment epoch']\n"
       ]
      },
      {
       "output_type": "stream",
       "stream": "stderr",
       "text": [
        "WARNING:root:sweep 26: ['Recording stopped before completing the experiment epoch']\n"
       ]
      },
      {
       "output_type": "stream",
       "stream": "stdout",
       "text": [
        "709376713.0 extracted\n",
        "loading dataset into data structure...\n"
       ]
      },
      {
       "output_type": "stream",
       "stream": "stderr",
       "text": [
        "/nethome/kcni/ychen/.local/lib/python3.6/site-packages/ipfx/spike_features.py:87: RuntimeWarning: invalid value encountered in less\n",
        "  width_levels[width_levels < v[spike_indexes]] = thresh_to_peak_levels[width_levels < v[spike_indexes]]\n"
       ]
      },
      {
       "output_type": "stream",
       "stream": "stdout",
       "text": [
        "709417950.0 extracted\n",
        "loading dataset into data structure...\n"
       ]
      },
      {
       "output_type": "stream",
       "stream": "stderr",
       "text": [
        "WARNING:root:sweep 23: ['Recording stopped before completing the experiment epoch']\n"
       ]
      },
      {
       "output_type": "stream",
       "stream": "stderr",
       "text": [
        "WARNING:root:sweep 24: ['Recording stopped before completing the experiment epoch']\n"
       ]
      },
      {
       "output_type": "stream",
       "stream": "stderr",
       "text": [
        "WARNING:root:sweep 25: ['Recording stopped before completing the experiment epoch']\n"
       ]
      },
      {
       "output_type": "stream",
       "stream": "stderr",
       "text": [
        "WARNING:root:sweep 26: ['Recording stopped before completing the experiment epoch']\n"
       ]
      },
      {
       "output_type": "stream",
       "stream": "stderr",
       "text": [
        "WARNING:root:sweep 27: ['Recording stopped before completing the experiment epoch']\n"
       ]
      },
      {
       "output_type": "stream",
       "stream": "stderr",
       "text": [
        "WARNING:root:sweep 29: ['Recording stopped before completing the experiment epoch']\n"
       ]
      },
      {
       "output_type": "stream",
       "stream": "stdout",
       "text": [
        "709421749.0 extracted\n",
        "loading dataset into data structure...\n"
       ]
      },
      {
       "output_type": "stream",
       "stream": "stderr",
       "text": [
        "WARNING:root:sweep 22: ['Recording stopped before completing the experiment epoch']\n"
       ]
      },
      {
       "output_type": "stream",
       "stream": "stderr",
       "text": [
        "WARNING:root:sweep 23: ['Recording stopped before completing the experiment epoch']\n"
       ]
      },
      {
       "output_type": "stream",
       "stream": "stderr",
       "text": [
        "WARNING:root:sweep 24: ['Recording stopped before completing the experiment epoch']\n"
       ]
      },
      {
       "output_type": "stream",
       "stream": "stderr",
       "text": [
        "WARNING:root:sweep 25: ['Recording stopped before completing the experiment epoch']\n"
       ]
      },
      {
       "output_type": "stream",
       "stream": "stderr",
       "text": [
        "WARNING:root:sweep 26: ['Recording stopped before completing the experiment epoch']\n"
       ]
      },
      {
       "output_type": "stream",
       "stream": "stdout",
       "text": [
        "709423277.0 extracted\n",
        "loading dataset into data structure...\n"
       ]
      },
      {
       "output_type": "stream",
       "stream": "stderr",
       "text": [
        "WARNING:root:sweep 35: ['Recording stopped before completing the experiment epoch']\n"
       ]
      },
      {
       "output_type": "stream",
       "stream": "stderr",
       "text": [
        "WARNING:root:sweep 36: ['Recording stopped before completing the experiment epoch']\n"
       ]
      },
      {
       "output_type": "stream",
       "stream": "stderr",
       "text": [
        "WARNING:root:sweep 37: ['Recording stopped before completing the experiment epoch']\n"
       ]
      },
      {
       "output_type": "stream",
       "stream": "stderr",
       "text": [
        "WARNING:root:sweep 38: ['Recording stopped before completing the experiment epoch']\n"
       ]
      },
      {
       "output_type": "stream",
       "stream": "stderr",
       "text": [
        "WARNING:root:sweep 39: ['Recording stopped before completing the experiment epoch']\n"
       ]
      },
      {
       "output_type": "stream",
       "stream": "stderr",
       "text": [
        "/nethome/kcni/ychen/.local/lib/python3.6/site-packages/ipfx/spike_features.py:87: RuntimeWarning: invalid value encountered in less\n",
        "  width_levels[width_levels < v[spike_indexes]] = thresh_to_peak_levels[width_levels < v[spike_indexes]]\n"
       ]
      },
      {
       "output_type": "stream",
       "stream": "stdout",
       "text": [
        "709427923.0 extracted\n",
        "loading dataset into data structure...\n"
       ]
      },
      {
       "output_type": "stream",
       "stream": "stderr",
       "text": [
        "WARNING:root:sweep 23: ['Recording stopped before completing the experiment epoch']\n"
       ]
      },
      {
       "output_type": "stream",
       "stream": "stderr",
       "text": [
        "WARNING:root:sweep 24: ['Recording stopped before completing the experiment epoch']\n"
       ]
      },
      {
       "output_type": "stream",
       "stream": "stderr",
       "text": [
        "WARNING:root:sweep 25: ['Recording stopped before completing the experiment epoch']\n"
       ]
      },
      {
       "output_type": "stream",
       "stream": "stderr",
       "text": [
        "WARNING:root:sweep 26: ['Recording stopped before completing the experiment epoch']\n"
       ]
      },
      {
       "output_type": "stream",
       "stream": "stderr",
       "text": [
        "WARNING:root:sweep 27: ['Recording stopped before completing the experiment epoch']\n"
       ]
      },
      {
       "output_type": "stream",
       "stream": "stdout",
       "text": [
        "709436266.0 extracted\n",
        "loading dataset into data structure...\n"
       ]
      },
      {
       "output_type": "stream",
       "stream": "stderr",
       "text": [
        "WARNING:root:sweep 28: ['Recording stopped before completing the experiment epoch']\n"
       ]
      },
      {
       "output_type": "stream",
       "stream": "stderr",
       "text": [
        "WARNING:root:sweep 29: ['Recording stopped before completing the experiment epoch']\n"
       ]
      },
      {
       "output_type": "stream",
       "stream": "stderr",
       "text": [
        "WARNING:root:sweep 30: ['Recording stopped before completing the experiment epoch']\n"
       ]
      },
      {
       "output_type": "stream",
       "stream": "stderr",
       "text": [
        "WARNING:root:sweep 31: ['Recording stopped before completing the experiment epoch']\n"
       ]
      },
      {
       "output_type": "stream",
       "stream": "stderr",
       "text": [
        "WARNING:root:sweep 32: ['Recording stopped before completing the experiment epoch']\n"
       ]
      },
      {
       "output_type": "stream",
       "stream": "stdout",
       "text": [
        "709445342.0 extracted\n",
        "loading dataset into data structure...\n"
       ]
      },
      {
       "output_type": "stream",
       "stream": "stderr",
       "text": [
        "WARNING:root:sweep 30: ['Recording stopped before completing the experiment epoch']\n"
       ]
      },
      {
       "output_type": "stream",
       "stream": "stderr",
       "text": [
        "WARNING:root:sweep 31: ['Recording stopped before completing the experiment epoch']\n"
       ]
      },
      {
       "output_type": "stream",
       "stream": "stderr",
       "text": [
        "WARNING:root:sweep 32: ['Recording stopped before completing the experiment epoch']\n"
       ]
      },
      {
       "output_type": "stream",
       "stream": "stderr",
       "text": [
        "WARNING:root:sweep 33: ['Recording stopped before completing the experiment epoch']\n"
       ]
      },
      {
       "output_type": "stream",
       "stream": "stderr",
       "text": [
        "WARNING:root:sweep 34: ['Recording stopped before completing the experiment epoch']\n"
       ]
      },
      {
       "output_type": "stream",
       "stream": "stderr",
       "text": [
        "/nethome/kcni/ychen/.local/lib/python3.6/site-packages/ipfx/spike_features.py:87: RuntimeWarning: invalid value encountered in less\n",
        "  width_levels[width_levels < v[spike_indexes]] = thresh_to_peak_levels[width_levels < v[spike_indexes]]\n"
       ]
      },
      {
       "output_type": "stream",
       "stream": "stdout",
       "text": [
        "709447918.0 extracted\n",
        "loading dataset into data structure...\n"
       ]
      },
      {
       "output_type": "stream",
       "stream": "stdout",
       "text": [
        "709453221.0 extracted\n",
        "loading dataset into data structure...\n"
       ]
      },
      {
       "output_type": "stream",
       "stream": "stderr",
       "text": [
        "WARNING:root:sweep 27: ['Recording stopped before completing the experiment epoch']\n"
       ]
      },
      {
       "output_type": "stream",
       "stream": "stderr",
       "text": [
        "WARNING:root:sweep 28: ['Recording stopped before completing the experiment epoch']\n"
       ]
      },
      {
       "output_type": "stream",
       "stream": "stderr",
       "text": [
        "WARNING:root:sweep 29: ['Recording stopped before completing the experiment epoch']\n"
       ]
      },
      {
       "output_type": "stream",
       "stream": "stderr",
       "text": [
        "WARNING:root:sweep 30: ['Recording stopped before completing the experiment epoch']\n"
       ]
      },
      {
       "output_type": "stream",
       "stream": "stderr",
       "text": [
        "WARNING:root:sweep 31: ['Recording stopped before completing the experiment epoch']\n"
       ]
      },
      {
       "output_type": "stream",
       "stream": "stderr",
       "text": [
        "WARNING:root:sweep 32: ['Recording stopped before completing the experiment epoch']\n"
       ]
      },
      {
       "output_type": "stream",
       "stream": "stderr",
       "text": [
        "WARNING:root:sweep 35: ['Recording stopped before completing the experiment epoch']\n"
       ]
      },
      {
       "output_type": "stream",
       "stream": "stdout",
       "text": [
        "709454191.0 extracted\n",
        "loading dataset into data structure...\n"
       ]
      },
      {
       "output_type": "stream",
       "stream": "stderr",
       "text": [
        "WARNING:root:sweep 25: ['Recording stopped before completing the experiment epoch']\n"
       ]
      },
      {
       "output_type": "stream",
       "stream": "stderr",
       "text": [
        "WARNING:root:sweep 26: ['Recording stopped before completing the experiment epoch']\n"
       ]
      },
      {
       "output_type": "stream",
       "stream": "stderr",
       "text": [
        "WARNING:root:sweep 27: ['Recording stopped before completing the experiment epoch']\n"
       ]
      },
      {
       "output_type": "stream",
       "stream": "stderr",
       "text": [
        "WARNING:root:sweep 28: ['Recording stopped before completing the experiment epoch']\n"
       ]
      },
      {
       "output_type": "stream",
       "stream": "stderr",
       "text": [
        "WARNING:root:sweep 29: ['Recording stopped before completing the experiment epoch']\n"
       ]
      },
      {
       "output_type": "stream",
       "stream": "stderr",
       "text": [
        "/nethome/kcni/ychen/.local/lib/python3.6/site-packages/ipfx/spike_features.py:87: RuntimeWarning: invalid value encountered in less\n",
        "  width_levels[width_levels < v[spike_indexes]] = thresh_to_peak_levels[width_levels < v[spike_indexes]]\n"
       ]
      },
      {
       "output_type": "stream",
       "stream": "stdout",
       "text": [
        "709454254.0 extracted\n",
        "loading dataset into data structure...\n"
       ]
      },
      {
       "output_type": "stream",
       "stream": "stderr",
       "text": [
        "WARNING:root:sweep 24: ['Recording stopped before completing the experiment epoch']\n"
       ]
      },
      {
       "output_type": "stream",
       "stream": "stderr",
       "text": [
        "WARNING:root:sweep 25: ['Recording stopped before completing the experiment epoch']\n"
       ]
      },
      {
       "output_type": "stream",
       "stream": "stderr",
       "text": [
        "WARNING:root:sweep 26: ['Recording stopped before completing the experiment epoch']\n"
       ]
      },
      {
       "output_type": "stream",
       "stream": "stderr",
       "text": [
        "WARNING:root:sweep 27: ['Recording stopped before completing the experiment epoch']\n"
       ]
      },
      {
       "output_type": "stream",
       "stream": "stderr",
       "text": [
        "WARNING:root:sweep 28: ['Recording stopped before completing the experiment epoch']\n"
       ]
      },
      {
       "output_type": "stream",
       "stream": "stderr",
       "text": [
        "WARNING:root:sweep 32: ['Recording stopped before completing the experiment epoch']\n"
       ]
      },
      {
       "output_type": "stream",
       "stream": "stderr",
       "text": [
        "WARNING:root:sweep 33: ['Recording stopped before completing the experiment epoch']\n"
       ]
      },
      {
       "output_type": "stream",
       "stream": "stdout",
       "text": [
        "709459382.0 extracted\n",
        "loading dataset into data structure...\n"
       ]
      },
      {
       "output_type": "stream",
       "stream": "stderr",
       "text": [
        "WARNING:root:sweep 25: ['Recording stopped before completing the experiment epoch']\n"
       ]
      },
      {
       "output_type": "stream",
       "stream": "stderr",
       "text": [
        "WARNING:root:sweep 26: ['Recording stopped before completing the experiment epoch']\n"
       ]
      },
      {
       "output_type": "stream",
       "stream": "stderr",
       "text": [
        "WARNING:root:sweep 27: ['Recording stopped before completing the experiment epoch']\n"
       ]
      },
      {
       "output_type": "stream",
       "stream": "stderr",
       "text": [
        "WARNING:root:sweep 28: ['Recording stopped before completing the experiment epoch']\n"
       ]
      },
      {
       "output_type": "stream",
       "stream": "stderr",
       "text": [
        "WARNING:root:sweep 29: ['Recording stopped before completing the experiment epoch']\n"
       ]
      },
      {
       "output_type": "stream",
       "stream": "stderr",
       "text": [
        "/nethome/kcni/ychen/.local/lib/python3.6/site-packages/ipfx/spike_features.py:87: RuntimeWarning: invalid value encountered in less\n",
        "  width_levels[width_levels < v[spike_indexes]] = thresh_to_peak_levels[width_levels < v[spike_indexes]]\n"
       ]
      },
      {
       "output_type": "stream",
       "stream": "stdout",
       "text": [
        "709459537.0 extracted\n",
        "loading dataset into data structure...\n"
       ]
      },
      {
       "output_type": "stream",
       "stream": "stderr",
       "text": [
        "WARNING:root:sweep 27: ['Recording stopped before completing the experiment epoch']\n"
       ]
      },
      {
       "output_type": "stream",
       "stream": "stderr",
       "text": [
        "WARNING:root:sweep 28: ['Recording stopped before completing the experiment epoch']\n"
       ]
      },
      {
       "output_type": "stream",
       "stream": "stderr",
       "text": [
        "WARNING:root:sweep 29: ['Recording stopped before completing the experiment epoch']\n"
       ]
      },
      {
       "output_type": "stream",
       "stream": "stderr",
       "text": [
        "WARNING:root:sweep 30: ['Recording stopped before completing the experiment epoch']\n"
       ]
      },
      {
       "output_type": "stream",
       "stream": "stderr",
       "text": [
        "WARNING:root:sweep 31: ['Recording stopped before completing the experiment epoch']\n"
       ]
      },
      {
       "output_type": "stream",
       "stream": "stdout",
       "text": [
        "709461711.0 extracted\n",
        "loading dataset into data structure...\n"
       ]
      },
      {
       "output_type": "stream",
       "stream": "stderr",
       "text": [
        "WARNING:root:sweep 24: ['Recording stopped before completing the experiment epoch']\n"
       ]
      },
      {
       "output_type": "stream",
       "stream": "stderr",
       "text": [
        "WARNING:root:sweep 25: ['Recording stopped before completing the experiment epoch']\n"
       ]
      },
      {
       "output_type": "stream",
       "stream": "stderr",
       "text": [
        "WARNING:root:sweep 26: ['Recording stopped before completing the experiment epoch']\n"
       ]
      },
      {
       "output_type": "stream",
       "stream": "stderr",
       "text": [
        "WARNING:root:sweep 27: ['Recording stopped before completing the experiment epoch']\n"
       ]
      },
      {
       "output_type": "stream",
       "stream": "stderr",
       "text": [
        "WARNING:root:sweep 28: ['Recording stopped before completing the experiment epoch']\n"
       ]
      },
      {
       "output_type": "stream",
       "stream": "stdout",
       "text": [
        "709464809.0 extracted\n",
        "loading dataset into data structure...\n"
       ]
      },
      {
       "output_type": "stream",
       "stream": "stderr",
       "text": [
        "WARNING:root:sweep 30: ['Recording stopped before completing the experiment epoch']\n"
       ]
      },
      {
       "output_type": "stream",
       "stream": "stderr",
       "text": [
        "WARNING:root:sweep 31: ['Recording stopped before completing the experiment epoch']\n"
       ]
      },
      {
       "output_type": "stream",
       "stream": "stderr",
       "text": [
        "WARNING:root:sweep 32: ['Recording stopped before completing the experiment epoch']\n"
       ]
      },
      {
       "output_type": "stream",
       "stream": "stderr",
       "text": [
        "WARNING:root:sweep 33: ['Recording stopped before completing the experiment epoch']\n"
       ]
      },
      {
       "output_type": "stream",
       "stream": "stderr",
       "text": [
        "WARNING:root:sweep 34: ['Recording stopped before completing the experiment epoch']\n"
       ]
      },
      {
       "output_type": "stream",
       "stream": "stdout",
       "text": [
        "709466351.0 extracted\n",
        "loading dataset into data structure...\n"
       ]
      },
      {
       "output_type": "stream",
       "stream": "stderr",
       "text": [
        "WARNING:root:sweep 24: ['Recording stopped before completing the experiment epoch']\n"
       ]
      },
      {
       "output_type": "stream",
       "stream": "stderr",
       "text": [
        "WARNING:root:sweep 25: ['Recording stopped before completing the experiment epoch']\n"
       ]
      },
      {
       "output_type": "stream",
       "stream": "stderr",
       "text": [
        "WARNING:root:sweep 26: ['Recording stopped before completing the experiment epoch']\n"
       ]
      },
      {
       "output_type": "stream",
       "stream": "stderr",
       "text": [
        "WARNING:root:sweep 27: ['Recording stopped before completing the experiment epoch']\n"
       ]
      },
      {
       "output_type": "stream",
       "stream": "stderr",
       "text": [
        "WARNING:root:sweep 28: ['Recording stopped before completing the experiment epoch']\n"
       ]
      },
      {
       "output_type": "stream",
       "stream": "stdout",
       "text": [
        "709473109.0 extracted\n",
        "loading dataset into data structure...\n"
       ]
      },
      {
       "output_type": "stream",
       "stream": "stderr",
       "text": [
        "WARNING:root:sweep 25: ['Recording stopped before completing the experiment epoch']\n"
       ]
      },
      {
       "output_type": "stream",
       "stream": "stderr",
       "text": [
        "WARNING:root:sweep 26: ['Recording stopped before completing the experiment epoch']\n"
       ]
      },
      {
       "output_type": "stream",
       "stream": "stderr",
       "text": [
        "WARNING:root:sweep 27: ['Recording stopped before completing the experiment epoch']\n"
       ]
      },
      {
       "output_type": "stream",
       "stream": "stderr",
       "text": [
        "WARNING:root:sweep 28: ['Recording stopped before completing the experiment epoch']\n"
       ]
      },
      {
       "output_type": "stream",
       "stream": "stderr",
       "text": [
        "WARNING:root:sweep 29: ['Recording stopped before completing the experiment epoch']\n"
       ]
      },
      {
       "output_type": "stream",
       "stream": "stderr",
       "text": [
        "/nethome/kcni/ychen/.local/lib/python3.6/site-packages/ipfx/spike_features.py:87: RuntimeWarning: invalid value encountered in less\n",
        "  width_levels[width_levels < v[spike_indexes]] = thresh_to_peak_levels[width_levels < v[spike_indexes]]\n"
       ]
      },
      {
       "output_type": "stream",
       "stream": "stdout",
       "text": [
        "709477636.0 extracted\n",
        "loading dataset into data structure...\n"
       ]
      },
      {
       "output_type": "stream",
       "stream": "stderr",
       "text": [
        "WARNING:root:sweep 26: ['Recording stopped before completing the experiment epoch']\n"
       ]
      },
      {
       "output_type": "stream",
       "stream": "stderr",
       "text": [
        "WARNING:root:sweep 27: ['Recording stopped before completing the experiment epoch']\n"
       ]
      },
      {
       "output_type": "stream",
       "stream": "stderr",
       "text": [
        "WARNING:root:sweep 28: ['Recording stopped before completing the experiment epoch']\n"
       ]
      },
      {
       "output_type": "stream",
       "stream": "stderr",
       "text": [
        "WARNING:root:sweep 29: ['Recording stopped before completing the experiment epoch']\n"
       ]
      },
      {
       "output_type": "stream",
       "stream": "stderr",
       "text": [
        "WARNING:root:sweep 30: ['Recording stopped before completing the experiment epoch']\n"
       ]
      },
      {
       "output_type": "stream",
       "stream": "stdout",
       "text": [
        "709480097.0 extracted\n",
        "loading dataset into data structure...\n"
       ]
      },
      {
       "output_type": "stream",
       "stream": "stderr",
       "text": [
        "WARNING:root:sweep 19: ['Recording stopped before completing the experiment epoch']\n"
       ]
      },
      {
       "output_type": "stream",
       "stream": "stderr",
       "text": [
        "WARNING:root:sweep 20: ['Recording stopped before completing the experiment epoch']\n"
       ]
      },
      {
       "output_type": "stream",
       "stream": "stderr",
       "text": [
        "WARNING:root:sweep 21: ['Recording stopped before completing the experiment epoch']\n"
       ]
      },
      {
       "output_type": "stream",
       "stream": "stderr",
       "text": [
        "WARNING:root:sweep 22: ['Recording stopped before completing the experiment epoch']\n"
       ]
      },
      {
       "output_type": "stream",
       "stream": "stderr",
       "text": [
        "WARNING:root:sweep 23: ['Recording stopped before completing the experiment epoch']\n"
       ]
      },
      {
       "output_type": "stream",
       "stream": "stdout",
       "text": [
        "710114365.0 extracted\n",
        "loading dataset into data structure...\n"
       ]
      },
      {
       "output_type": "stream",
       "stream": "stderr",
       "text": [
        "WARNING:root:sweep 26: ['Recording stopped before completing the experiment epoch']\n"
       ]
      },
      {
       "output_type": "stream",
       "stream": "stderr",
       "text": [
        "WARNING:root:sweep 27: ['Recording stopped before completing the experiment epoch']\n"
       ]
      },
      {
       "output_type": "stream",
       "stream": "stderr",
       "text": [
        "WARNING:root:sweep 28: ['Recording stopped before completing the experiment epoch']\n"
       ]
      },
      {
       "output_type": "stream",
       "stream": "stderr",
       "text": [
        "WARNING:root:sweep 29: ['Recording stopped before completing the experiment epoch']\n"
       ]
      },
      {
       "output_type": "stream",
       "stream": "stderr",
       "text": [
        "WARNING:root:sweep 30: ['Recording stopped before completing the experiment epoch']\n"
       ]
      },
      {
       "output_type": "stream",
       "stream": "stdout",
       "text": [
        "710136447.0 extracted\n",
        "loading dataset into data structure...\n"
       ]
      },
      {
       "output_type": "stream",
       "stream": "stderr",
       "text": [
        "WARNING:root:sweep 25: ['Recording stopped before completing the experiment epoch']\n"
       ]
      },
      {
       "output_type": "stream",
       "stream": "stderr",
       "text": [
        "WARNING:root:sweep 26: ['Recording stopped before completing the experiment epoch']\n"
       ]
      },
      {
       "output_type": "stream",
       "stream": "stderr",
       "text": [
        "WARNING:root:sweep 27: ['Recording stopped before completing the experiment epoch']\n"
       ]
      },
      {
       "output_type": "stream",
       "stream": "stderr",
       "text": [
        "WARNING:root:sweep 28: ['Recording stopped before completing the experiment epoch']\n"
       ]
      },
      {
       "output_type": "stream",
       "stream": "stderr",
       "text": [
        "WARNING:root:sweep 29: ['Recording stopped before completing the experiment epoch']\n"
       ]
      },
      {
       "output_type": "stream",
       "stream": "stderr",
       "text": [
        "WARNING:root:sweep 30: ['Recording stopped before completing the experiment epoch']\n"
       ]
      },
      {
       "output_type": "stream",
       "stream": "stderr",
       "text": [
        "WARNING:root:sweep 31: ['Recording stopped before completing the experiment epoch']\n"
       ]
      },
      {
       "output_type": "stream",
       "stream": "stderr",
       "text": [
        "WARNING:root:sweep 32: ['Recording stopped before completing the experiment epoch']\n"
       ]
      },
      {
       "output_type": "stream",
       "stream": "stdout",
       "text": [
        "710172327.0 extracted\n",
        "loading dataset into data structure...\n"
       ]
      },
      {
       "output_type": "stream",
       "stream": "stderr",
       "text": [
        "WARNING:root:sweep 21: ['Recording stopped before completing the experiment epoch']\n"
       ]
      },
      {
       "output_type": "stream",
       "stream": "stderr",
       "text": [
        "WARNING:root:sweep 22: ['Recording stopped before completing the experiment epoch']\n"
       ]
      },
      {
       "output_type": "stream",
       "stream": "stderr",
       "text": [
        "WARNING:root:sweep 23: ['Recording stopped before completing the experiment epoch']\n"
       ]
      },
      {
       "output_type": "stream",
       "stream": "stderr",
       "text": [
        "WARNING:root:sweep 24: ['Recording stopped before completing the experiment epoch']\n"
       ]
      },
      {
       "output_type": "stream",
       "stream": "stderr",
       "text": [
        "WARNING:root:sweep 25: ['Recording stopped before completing the experiment epoch']\n"
       ]
      },
      {
       "output_type": "stream",
       "stream": "stdout",
       "text": [
        "710188363.0 extracted\n",
        "loading dataset into data structure...\n"
       ]
      },
      {
       "output_type": "stream",
       "stream": "stdout",
       "text": [
        "710230349.0 extracted\n",
        "loading dataset into data structure...\n"
       ]
      },
      {
       "output_type": "stream",
       "stream": "stderr",
       "text": [
        "WARNING:root:sweep 24: ['Recording stopped before completing the experiment epoch']\n"
       ]
      },
      {
       "output_type": "stream",
       "stream": "stderr",
       "text": [
        "WARNING:root:sweep 25: ['Recording stopped before completing the experiment epoch']\n"
       ]
      },
      {
       "output_type": "stream",
       "stream": "stderr",
       "text": [
        "WARNING:root:sweep 26: ['Recording stopped before completing the experiment epoch']\n"
       ]
      },
      {
       "output_type": "stream",
       "stream": "stderr",
       "text": [
        "WARNING:root:sweep 27: ['Recording stopped before completing the experiment epoch']\n"
       ]
      },
      {
       "output_type": "stream",
       "stream": "stderr",
       "text": [
        "WARNING:root:sweep 28: ['Recording stopped before completing the experiment epoch']\n"
       ]
      },
      {
       "output_type": "stream",
       "stream": "stdout",
       "text": [
        "710294678.0 extracted\n",
        "loading dataset into data structure...\n"
       ]
      },
      {
       "output_type": "stream",
       "stream": "stderr",
       "text": [
        "WARNING:root:sweep 24: ['Recording stopped before completing the experiment epoch']\n"
       ]
      },
      {
       "output_type": "stream",
       "stream": "stderr",
       "text": [
        "WARNING:root:sweep 25: ['Recording stopped before completing the experiment epoch']\n"
       ]
      },
      {
       "output_type": "stream",
       "stream": "stderr",
       "text": [
        "WARNING:root:sweep 26: ['Recording stopped before completing the experiment epoch']\n"
       ]
      },
      {
       "output_type": "stream",
       "stream": "stderr",
       "text": [
        "WARNING:root:sweep 27: ['Recording stopped before completing the experiment epoch']\n"
       ]
      },
      {
       "output_type": "stream",
       "stream": "stderr",
       "text": [
        "WARNING:root:sweep 28: ['Recording stopped before completing the experiment epoch']\n"
       ]
      },
      {
       "output_type": "stream",
       "stream": "stderr",
       "text": [
        "WARNING:root:sweep 32: ['Recording stopped before completing the experiment epoch']\n"
       ]
      },
      {
       "output_type": "stream",
       "stream": "stderr",
       "text": [
        "WARNING:root:sweep 63: ['Recording stopped before completing the experiment epoch']\n"
       ]
      },
      {
       "output_type": "stream",
       "stream": "stderr",
       "text": [
        "/nethome/kcni/ychen/.local/lib/python3.6/site-packages/ipfx/spike_features.py:87: RuntimeWarning: invalid value encountered in less\n",
        "  width_levels[width_levels < v[spike_indexes]] = thresh_to_peak_levels[width_levels < v[spike_indexes]]\n"
       ]
      },
      {
       "output_type": "stream",
       "stream": "stdout",
       "text": [
        "710309393.0 extracted\n",
        "loading dataset into data structure...\n"
       ]
      },
      {
       "output_type": "stream",
       "stream": "stderr",
       "text": [
        "WARNING:root:sweep 25: ['Recording stopped before completing the experiment epoch']\n"
       ]
      },
      {
       "output_type": "stream",
       "stream": "stderr",
       "text": [
        "WARNING:root:sweep 26: ['Recording stopped before completing the experiment epoch']\n"
       ]
      },
      {
       "output_type": "stream",
       "stream": "stderr",
       "text": [
        "WARNING:root:sweep 27: ['Recording stopped before completing the experiment epoch']\n"
       ]
      },
      {
       "output_type": "stream",
       "stream": "stderr",
       "text": [
        "WARNING:root:sweep 28: ['Recording stopped before completing the experiment epoch']\n"
       ]
      },
      {
       "output_type": "stream",
       "stream": "stderr",
       "text": [
        "WARNING:root:sweep 29: ['Recording stopped before completing the experiment epoch']\n"
       ]
      },
      {
       "output_type": "stream",
       "stream": "stdout",
       "text": [
        "710332099.0 extracted\n",
        "loading dataset into data structure...\n"
       ]
      },
      {
       "output_type": "stream",
       "stream": "stderr",
       "text": [
        "WARNING:root:sweep 29: ['Recording stopped before completing the experiment epoch']\n"
       ]
      },
      {
       "output_type": "stream",
       "stream": "stderr",
       "text": [
        "WARNING:root:sweep 30: ['Recording stopped before completing the experiment epoch']\n"
       ]
      },
      {
       "output_type": "stream",
       "stream": "stderr",
       "text": [
        "WARNING:root:sweep 31: ['Recording stopped before completing the experiment epoch']\n"
       ]
      },
      {
       "output_type": "stream",
       "stream": "stderr",
       "text": [
        "WARNING:root:sweep 32: ['Recording stopped before completing the experiment epoch']\n"
       ]
      },
      {
       "output_type": "stream",
       "stream": "stderr",
       "text": [
        "WARNING:root:sweep 33: ['Recording stopped before completing the experiment epoch']\n"
       ]
      },
      {
       "output_type": "stream",
       "stream": "stderr",
       "text": [
        "WARNING:root:sweep 34: ['Recording stopped before completing the experiment epoch']\n"
       ]
      },
      {
       "output_type": "stream",
       "stream": "stderr",
       "text": [
        "WARNING:root:sweep 38: ['Recording stopped before completing the experiment epoch']\n"
       ]
      },
      {
       "output_type": "stream",
       "stream": "stderr",
       "text": [
        "/nethome/kcni/ychen/.local/lib/python3.6/site-packages/ipfx/spike_features.py:87: RuntimeWarning: invalid value encountered in less\n",
        "  width_levels[width_levels < v[spike_indexes]] = thresh_to_peak_levels[width_levels < v[spike_indexes]]\n"
       ]
      },
      {
       "output_type": "stream",
       "stream": "stdout",
       "text": [
        "710335225.0 extracted\n",
        "loading dataset into data structure...\n"
       ]
      },
      {
       "output_type": "stream",
       "stream": "stdout",
       "text": [
        "710336632.0 extracted\n",
        "loading dataset into data structure...\n"
       ]
      },
      {
       "output_type": "stream",
       "stream": "stderr",
       "text": [
        "WARNING:root:sweep 30: ['Recording stopped before completing the experiment epoch']\n"
       ]
      },
      {
       "output_type": "stream",
       "stream": "stderr",
       "text": [
        "WARNING:root:sweep 31: ['Recording stopped before completing the experiment epoch']\n"
       ]
      },
      {
       "output_type": "stream",
       "stream": "stderr",
       "text": [
        "WARNING:root:sweep 32: ['Recording stopped before completing the experiment epoch']\n"
       ]
      },
      {
       "output_type": "stream",
       "stream": "stderr",
       "text": [
        "WARNING:root:sweep 33: ['Recording stopped before completing the experiment epoch']\n"
       ]
      },
      {
       "output_type": "stream",
       "stream": "stderr",
       "text": [
        "WARNING:root:sweep 34: ['Recording stopped before completing the experiment epoch']\n"
       ]
      },
      {
       "output_type": "stream",
       "stream": "stdout",
       "text": [
        "710338421.0 extracted\n",
        "loading dataset into data structure...\n"
       ]
      },
      {
       "output_type": "stream",
       "stream": "stderr",
       "text": [
        "WARNING:root:sweep 21: ['Recording stopped before completing the experiment epoch']\n"
       ]
      },
      {
       "output_type": "stream",
       "stream": "stderr",
       "text": [
        "WARNING:root:sweep 22: ['Recording stopped before completing the experiment epoch']\n"
       ]
      },
      {
       "output_type": "stream",
       "stream": "stderr",
       "text": [
        "WARNING:root:sweep 23: ['Recording stopped before completing the experiment epoch']\n"
       ]
      },
      {
       "output_type": "stream",
       "stream": "stderr",
       "text": [
        "WARNING:root:sweep 24: ['Recording stopped before completing the experiment epoch']\n"
       ]
      },
      {
       "output_type": "stream",
       "stream": "stderr",
       "text": [
        "WARNING:root:sweep 25: ['Recording stopped before completing the experiment epoch']\n"
       ]
      },
      {
       "output_type": "stream",
       "stream": "stdout",
       "text": [
        "710345047.0 extracted\n",
        "loading dataset into data structure...\n"
       ]
      },
      {
       "output_type": "stream",
       "stream": "stderr",
       "text": [
        "WARNING:root:sweep 27: ['Recording stopped before completing the experiment epoch']\n"
       ]
      },
      {
       "output_type": "stream",
       "stream": "stderr",
       "text": [
        "WARNING:root:sweep 28: ['Recording stopped before completing the experiment epoch']\n"
       ]
      },
      {
       "output_type": "stream",
       "stream": "stderr",
       "text": [
        "WARNING:root:sweep 29: ['Recording stopped before completing the experiment epoch']\n"
       ]
      },
      {
       "output_type": "stream",
       "stream": "stderr",
       "text": [
        "WARNING:root:sweep 30: ['Recording stopped before completing the experiment epoch']\n"
       ]
      },
      {
       "output_type": "stream",
       "stream": "stderr",
       "text": [
        "WARNING:root:sweep 31: ['Recording stopped before completing the experiment epoch']\n"
       ]
      },
      {
       "output_type": "stream",
       "stream": "stderr",
       "text": [
        "WARNING:root:sweep 32: ['Recording stopped before completing the experiment epoch']\n"
       ]
      },
      {
       "output_type": "stream",
       "stream": "stderr",
       "text": [
        "WARNING:root:sweep 33: ['Recording stopped before completing the experiment epoch']\n"
       ]
      },
      {
       "output_type": "stream",
       "stream": "stdout",
       "text": [
        "710345218.0 extracted\n",
        "loading dataset into data structure...\n"
       ]
      },
      {
       "output_type": "stream",
       "stream": "stderr",
       "text": [
        "WARNING:root:sweep 31: ['Recording stopped before completing the experiment epoch']\n"
       ]
      },
      {
       "output_type": "stream",
       "stream": "stderr",
       "text": [
        "WARNING:root:sweep 32: ['Recording stopped before completing the experiment epoch']\n"
       ]
      },
      {
       "output_type": "stream",
       "stream": "stderr",
       "text": [
        "WARNING:root:sweep 33: ['Recording stopped before completing the experiment epoch']\n"
       ]
      },
      {
       "output_type": "stream",
       "stream": "stderr",
       "text": [
        "WARNING:root:sweep 34: ['Recording stopped before completing the experiment epoch']\n"
       ]
      },
      {
       "output_type": "stream",
       "stream": "stderr",
       "text": [
        "WARNING:root:sweep 35: ['Recording stopped before completing the experiment epoch']\n"
       ]
      },
      {
       "output_type": "stream",
       "stream": "stderr",
       "text": [
        "WARNING:root:sweep 36: ['Recording stopped before completing the experiment epoch']\n"
       ]
      },
      {
       "output_type": "stream",
       "stream": "stderr",
       "text": [
        "/nethome/kcni/ychen/.local/lib/python3.6/site-packages/ipfx/spike_features.py:87: RuntimeWarning: invalid value encountered in less\n",
        "  width_levels[width_levels < v[spike_indexes]] = thresh_to_peak_levels[width_levels < v[spike_indexes]]\n"
       ]
      },
      {
       "output_type": "stream",
       "stream": "stdout",
       "text": [
        "710353264.0 extracted\n",
        "loading dataset into data structure...\n"
       ]
      },
      {
       "output_type": "stream",
       "stream": "stderr",
       "text": [
        "WARNING:root:sweep 24: ['Recording stopped before completing the experiment epoch']\n"
       ]
      },
      {
       "output_type": "stream",
       "stream": "stderr",
       "text": [
        "WARNING:root:sweep 25: ['Recording stopped before completing the experiment epoch']\n"
       ]
      },
      {
       "output_type": "stream",
       "stream": "stderr",
       "text": [
        "WARNING:root:sweep 26: ['Recording stopped before completing the experiment epoch']\n"
       ]
      },
      {
       "output_type": "stream",
       "stream": "stderr",
       "text": [
        "WARNING:root:sweep 27: ['Recording stopped before completing the experiment epoch']\n"
       ]
      },
      {
       "output_type": "stream",
       "stream": "stderr",
       "text": [
        "WARNING:root:sweep 28: ['Recording stopped before completing the experiment epoch']\n"
       ]
      },
      {
       "output_type": "stream",
       "stream": "stderr",
       "text": [
        "WARNING:root:sweep 29: ['Recording stopped before completing the experiment epoch']\n"
       ]
      },
      {
       "output_type": "stream",
       "stream": "stderr",
       "text": [
        "WARNING:root:sweep 30: ['Recording stopped before completing the experiment epoch']\n"
       ]
      },
      {
       "output_type": "stream",
       "stream": "stdout",
       "text": [
        "710363006.0 extracted\n",
        "loading dataset into data structure...\n"
       ]
      },
      {
       "output_type": "stream",
       "stream": "stderr",
       "text": [
        "WARNING:root:sweep 27: ['Recording stopped before completing the experiment epoch']\n"
       ]
      },
      {
       "output_type": "stream",
       "stream": "stderr",
       "text": [
        "WARNING:root:sweep 28: ['Recording stopped before completing the experiment epoch']\n"
       ]
      },
      {
       "output_type": "stream",
       "stream": "stderr",
       "text": [
        "WARNING:root:sweep 29: ['Recording stopped before completing the experiment epoch']\n"
       ]
      },
      {
       "output_type": "stream",
       "stream": "stderr",
       "text": [
        "WARNING:root:sweep 30: ['Recording stopped before completing the experiment epoch']\n"
       ]
      },
      {
       "output_type": "stream",
       "stream": "stderr",
       "text": [
        "WARNING:root:sweep 31: ['Recording stopped before completing the experiment epoch']\n"
       ]
      },
      {
       "output_type": "stream",
       "stream": "stderr",
       "text": [
        "WARNING:root:sweep 35: ['Recording stopped before completing the experiment epoch']\n"
       ]
      },
      {
       "output_type": "stream",
       "stream": "stdout",
       "text": [
        "710730520.0 extracted\n",
        "loading dataset into data structure...\n"
       ]
      },
      {
       "output_type": "stream",
       "stream": "stderr",
       "text": [
        "WARNING:root:sweep 32: ['Recording stopped before completing the experiment epoch']\n"
       ]
      },
      {
       "output_type": "stream",
       "stream": "stderr",
       "text": [
        "WARNING:root:sweep 33: ['Recording stopped before completing the experiment epoch']\n"
       ]
      },
      {
       "output_type": "stream",
       "stream": "stderr",
       "text": [
        "WARNING:root:sweep 34: ['Recording stopped before completing the experiment epoch']\n"
       ]
      },
      {
       "output_type": "stream",
       "stream": "stderr",
       "text": [
        "WARNING:root:sweep 35: ['Recording stopped before completing the experiment epoch']\n"
       ]
      },
      {
       "output_type": "stream",
       "stream": "stderr",
       "text": [
        "WARNING:root:sweep 36: ['Recording stopped before completing the experiment epoch']\n"
       ]
      },
      {
       "output_type": "stream",
       "stream": "stdout",
       "text": [
        "710738613.0 extracted\n",
        "loading dataset into data structure...\n"
       ]
      },
      {
       "output_type": "stream",
       "stream": "stderr",
       "text": [
        "WARNING:root:sweep 32: ['Recording stopped before completing the experiment epoch']\n"
       ]
      },
      {
       "output_type": "stream",
       "stream": "stderr",
       "text": [
        "WARNING:root:sweep 33: ['Recording stopped before completing the experiment epoch']\n"
       ]
      },
      {
       "output_type": "stream",
       "stream": "stderr",
       "text": [
        "WARNING:root:sweep 34: ['Recording stopped before completing the experiment epoch']\n"
       ]
      },
      {
       "output_type": "stream",
       "stream": "stderr",
       "text": [
        "WARNING:root:sweep 35: ['Recording stopped before completing the experiment epoch']\n"
       ]
      },
      {
       "output_type": "stream",
       "stream": "stderr",
       "text": [
        "WARNING:root:sweep 36: ['Recording stopped before completing the experiment epoch']\n"
       ]
      },
      {
       "output_type": "stream",
       "stream": "stdout",
       "text": [
        "710743304.0 extracted\n",
        "loading dataset into data structure...\n"
       ]
      },
      {
       "output_type": "stream",
       "stream": "stderr",
       "text": [
        "WARNING:root:sweep 29: ['Recording stopped before completing the experiment epoch']\n"
       ]
      },
      {
       "output_type": "stream",
       "stream": "stderr",
       "text": [
        "WARNING:root:sweep 30: ['Recording stopped before completing the experiment epoch']\n"
       ]
      },
      {
       "output_type": "stream",
       "stream": "stderr",
       "text": [
        "WARNING:root:sweep 31: ['Recording stopped before completing the experiment epoch']\n"
       ]
      },
      {
       "output_type": "stream",
       "stream": "stderr",
       "text": [
        "WARNING:root:sweep 32: ['Recording stopped before completing the experiment epoch']\n"
       ]
      },
      {
       "output_type": "stream",
       "stream": "stderr",
       "text": [
        "WARNING:root:sweep 33: ['Recording stopped before completing the experiment epoch']\n"
       ]
      },
      {
       "output_type": "stream",
       "stream": "stdout",
       "text": [
        "710755730.0 extracted\n",
        "loading dataset into data structure...\n"
       ]
      },
      {
       "output_type": "stream",
       "stream": "stderr",
       "text": [
        "WARNING:root:sweep 32: ['Recording stopped before completing the experiment epoch']\n"
       ]
      },
      {
       "output_type": "stream",
       "stream": "stderr",
       "text": [
        "WARNING:root:sweep 33: ['Recording stopped before completing the experiment epoch']\n"
       ]
      },
      {
       "output_type": "stream",
       "stream": "stderr",
       "text": [
        "WARNING:root:sweep 34: ['Recording stopped before completing the experiment epoch']\n"
       ]
      },
      {
       "output_type": "stream",
       "stream": "stderr",
       "text": [
        "WARNING:root:sweep 35: ['Recording stopped before completing the experiment epoch']\n"
       ]
      },
      {
       "output_type": "stream",
       "stream": "stderr",
       "text": [
        "WARNING:root:sweep 36: ['Recording stopped before completing the experiment epoch']\n"
       ]
      },
      {
       "output_type": "stream",
       "stream": "stdout",
       "text": [
        "710757677.0 extracted\n",
        "loading dataset into data structure...\n"
       ]
      },
      {
       "output_type": "stream",
       "stream": "stdout",
       "text": [
        "710767527.0 extracted\n",
        "loading dataset into data structure...\n"
       ]
      },
      {
       "output_type": "stream",
       "stream": "stderr",
       "text": [
        "WARNING:root:sweep 26: ['Recording stopped before completing the experiment epoch']\n"
       ]
      },
      {
       "output_type": "stream",
       "stream": "stderr",
       "text": [
        "WARNING:root:sweep 27: ['Recording stopped before completing the experiment epoch']\n"
       ]
      },
      {
       "output_type": "stream",
       "stream": "stderr",
       "text": [
        "WARNING:root:sweep 28: ['Recording stopped before completing the experiment epoch']\n"
       ]
      },
      {
       "output_type": "stream",
       "stream": "stderr",
       "text": [
        "WARNING:root:sweep 29: ['Recording stopped before completing the experiment epoch']\n"
       ]
      },
      {
       "output_type": "stream",
       "stream": "stderr",
       "text": [
        "WARNING:root:sweep 30: ['Recording stopped before completing the experiment epoch']\n"
       ]
      },
      {
       "output_type": "stream",
       "stream": "stderr",
       "text": [
        "WARNING:root:sweep 31: ['Recording stopped before completing the experiment epoch']\n"
       ]
      },
      {
       "output_type": "stream",
       "stream": "stderr",
       "text": [
        "/nethome/kcni/ychen/.local/lib/python3.6/site-packages/ipfx/spike_features.py:87: RuntimeWarning: invalid value encountered in less\n",
        "  width_levels[width_levels < v[spike_indexes]] = thresh_to_peak_levels[width_levels < v[spike_indexes]]\n"
       ]
      },
      {
       "output_type": "stream",
       "stream": "stdout",
       "text": [
        "710784375.0 extracted\n",
        "loading dataset into data structure...\n"
       ]
      },
      {
       "output_type": "stream",
       "stream": "stderr",
       "text": [
        "WARNING:root:sweep 29: ['Recording stopped before completing the experiment epoch']\n"
       ]
      },
      {
       "output_type": "stream",
       "stream": "stderr",
       "text": [
        "WARNING:root:sweep 30: ['Recording stopped before completing the experiment epoch']\n"
       ]
      },
      {
       "output_type": "stream",
       "stream": "stderr",
       "text": [
        "WARNING:root:sweep 31: ['Recording stopped before completing the experiment epoch']\n"
       ]
      },
      {
       "output_type": "stream",
       "stream": "stderr",
       "text": [
        "WARNING:root:sweep 32: ['Recording stopped before completing the experiment epoch']\n"
       ]
      },
      {
       "output_type": "stream",
       "stream": "stderr",
       "text": [
        "WARNING:root:sweep 33: ['Recording stopped before completing the experiment epoch']\n"
       ]
      },
      {
       "output_type": "stream",
       "stream": "stderr",
       "text": [
        "WARNING:root:sweep 34: ['Recording stopped before completing the experiment epoch']\n"
       ]
      },
      {
       "output_type": "stream",
       "stream": "stderr",
       "text": [
        "WARNING:root:sweep 35: ['Recording stopped before completing the experiment epoch']\n"
       ]
      },
      {
       "output_type": "stream",
       "stream": "stderr",
       "text": [
        "WARNING:root:sweep 36: ['Recording stopped before completing the experiment epoch']\n"
       ]
      },
      {
       "output_type": "stream",
       "stream": "stderr",
       "text": [
        "/nethome/kcni/ychen/.local/lib/python3.6/site-packages/ipfx/spike_features.py:87: RuntimeWarning: invalid value encountered in less\n",
        "  width_levels[width_levels < v[spike_indexes]] = thresh_to_peak_levels[width_levels < v[spike_indexes]]\n"
       ]
      },
      {
       "output_type": "stream",
       "stream": "stdout",
       "text": [
        "710818330.0 extracted\n",
        "loading dataset into data structure...\n"
       ]
      },
      {
       "output_type": "stream",
       "stream": "stderr",
       "text": [
        "WARNING:root:sweep 30: ['Recording stopped before completing the experiment epoch']\n"
       ]
      },
      {
       "output_type": "stream",
       "stream": "stderr",
       "text": [
        "WARNING:root:sweep 31: ['Recording stopped before completing the experiment epoch']\n"
       ]
      },
      {
       "output_type": "stream",
       "stream": "stderr",
       "text": [
        "WARNING:root:sweep 32: ['Recording stopped before completing the experiment epoch']\n"
       ]
      },
      {
       "output_type": "stream",
       "stream": "stderr",
       "text": [
        "WARNING:root:sweep 33: ['Recording stopped before completing the experiment epoch']\n"
       ]
      },
      {
       "output_type": "stream",
       "stream": "stderr",
       "text": [
        "WARNING:root:sweep 34: ['Recording stopped before completing the experiment epoch']\n"
       ]
      },
      {
       "output_type": "stream",
       "stream": "stdout",
       "text": [
        "710847377.0 extracted\n",
        "loading dataset into data structure...\n"
       ]
      },
      {
       "output_type": "stream",
       "stream": "stderr",
       "text": [
        "WARNING:root:sweep 32: ['Recording stopped before completing the experiment epoch']\n"
       ]
      },
      {
       "output_type": "stream",
       "stream": "stderr",
       "text": [
        "WARNING:root:sweep 33: ['Recording stopped before completing the experiment epoch']\n"
       ]
      },
      {
       "output_type": "stream",
       "stream": "stderr",
       "text": [
        "WARNING:root:sweep 34: ['Recording stopped before completing the experiment epoch']\n"
       ]
      },
      {
       "output_type": "stream",
       "stream": "stderr",
       "text": [
        "WARNING:root:sweep 35: ['Recording stopped before completing the experiment epoch']\n"
       ]
      },
      {
       "output_type": "stream",
       "stream": "stderr",
       "text": [
        "WARNING:root:sweep 36: ['Recording stopped before completing the experiment epoch']\n"
       ]
      },
      {
       "output_type": "stream",
       "stream": "stderr",
       "text": [
        "WARNING:root:sweep 40: ['Recording stopped before completing the experiment epoch']\n"
       ]
      },
      {
       "output_type": "stream",
       "stream": "stdout",
       "text": [
        "710867549.0 extracted\n",
        "loading dataset into data structure...\n"
       ]
      },
      {
       "output_type": "stream",
       "stream": "stderr",
       "text": [
        "WARNING:root:sweep 11: ['experiment epoch is missing', 'stim epoch is missing']\n"
       ]
      },
      {
       "output_type": "stream",
       "stream": "stderr",
       "text": [
        "WARNING:root:sweep 38: ['Recording stopped before completing the experiment epoch']\n"
       ]
      },
      {
       "output_type": "stream",
       "stream": "stderr",
       "text": [
        "WARNING:root:sweep 39: ['Recording stopped before completing the experiment epoch']\n"
       ]
      },
      {
       "output_type": "stream",
       "stream": "stderr",
       "text": [
        "WARNING:root:sweep 40: ['Recording stopped before completing the experiment epoch']\n"
       ]
      },
      {
       "output_type": "stream",
       "stream": "stderr",
       "text": [
        "WARNING:root:sweep 41: ['Recording stopped before completing the experiment epoch']\n"
       ]
      },
      {
       "output_type": "stream",
       "stream": "stderr",
       "text": [
        "WARNING:root:sweep 42: ['Recording stopped before completing the experiment epoch']\n"
       ]
      },
      {
       "output_type": "stream",
       "stream": "stdout",
       "text": [
        "710867810.0 extracted\n",
        "loading dataset into data structure...\n"
       ]
      },
      {
       "output_type": "stream",
       "stream": "stderr",
       "text": [
        "WARNING:root:sweep 22: ['Recording stopped before completing the experiment epoch']\n"
       ]
      },
      {
       "output_type": "stream",
       "stream": "stderr",
       "text": [
        "WARNING:root:sweep 23: ['Recording stopped before completing the experiment epoch']\n"
       ]
      },
      {
       "output_type": "stream",
       "stream": "stderr",
       "text": [
        "WARNING:root:sweep 24: ['Recording stopped before completing the experiment epoch']\n"
       ]
      },
      {
       "output_type": "stream",
       "stream": "stderr",
       "text": [
        "WARNING:root:sweep 25: ['Recording stopped before completing the experiment epoch']\n"
       ]
      },
      {
       "output_type": "stream",
       "stream": "stderr",
       "text": [
        "WARNING:root:sweep 26: ['Recording stopped before completing the experiment epoch']\n"
       ]
      },
      {
       "output_type": "stream",
       "stream": "stdout",
       "text": [
        "710884224.0 extracted\n",
        "loading dataset into data structure...\n"
       ]
      },
      {
       "output_type": "stream",
       "stream": "stdout",
       "text": [
        "710887122.0 extracted\n",
        "loading dataset into data structure...\n"
       ]
      },
      {
       "output_type": "stream",
       "stream": "stderr",
       "text": [
        "WARNING:root:sweep 27: ['Recording stopped before completing the experiment epoch']\n"
       ]
      },
      {
       "output_type": "stream",
       "stream": "stderr",
       "text": [
        "WARNING:root:sweep 28: ['Recording stopped before completing the experiment epoch']\n"
       ]
      },
      {
       "output_type": "stream",
       "stream": "stderr",
       "text": [
        "WARNING:root:sweep 29: ['Recording stopped before completing the experiment epoch']\n"
       ]
      },
      {
       "output_type": "stream",
       "stream": "stderr",
       "text": [
        "WARNING:root:sweep 30: ['Recording stopped before completing the experiment epoch']\n"
       ]
      },
      {
       "output_type": "stream",
       "stream": "stderr",
       "text": [
        "WARNING:root:sweep 31: ['Recording stopped before completing the experiment epoch']\n"
       ]
      },
      {
       "output_type": "stream",
       "stream": "stdout",
       "text": [
        "710889545.0 extracted\n",
        "loading dataset into data structure...\n"
       ]
      },
      {
       "output_type": "stream",
       "stream": "stderr",
       "text": [
        "WARNING:root:sweep 13: ['Recording stopped before completing the experiment epoch']\n"
       ]
      },
      {
       "output_type": "stream",
       "stream": "stdout",
       "text": [
        "710895059.0 extracted\n",
        "loading dataset into data structure...\n"
       ]
      },
      {
       "output_type": "stream",
       "stream": "stderr",
       "text": [
        "WARNING:root:sweep 34: ['Recording stopped before completing the experiment epoch']\n"
       ]
      },
      {
       "output_type": "stream",
       "stream": "stderr",
       "text": [
        "WARNING:root:sweep 35: ['Recording stopped before completing the experiment epoch']\n"
       ]
      },
      {
       "output_type": "stream",
       "stream": "stderr",
       "text": [
        "WARNING:root:sweep 36: ['Recording stopped before completing the experiment epoch']\n"
       ]
      },
      {
       "output_type": "stream",
       "stream": "stderr",
       "text": [
        "WARNING:root:sweep 37: ['Recording stopped before completing the experiment epoch']\n"
       ]
      },
      {
       "output_type": "stream",
       "stream": "stderr",
       "text": [
        "WARNING:root:sweep 38: ['Recording stopped before completing the experiment epoch']\n"
       ]
      },
      {
       "output_type": "stream",
       "stream": "stdout",
       "text": [
        "710912956.0 extracted\n",
        "loading dataset into data structure...\n"
       ]
      },
      {
       "output_type": "stream",
       "stream": "stderr",
       "text": [
        "WARNING:root:sweep 30: ['Recording stopped before completing the experiment epoch']\n"
       ]
      },
      {
       "output_type": "stream",
       "stream": "stderr",
       "text": [
        "WARNING:root:sweep 31: ['Recording stopped before completing the experiment epoch']\n"
       ]
      },
      {
       "output_type": "stream",
       "stream": "stderr",
       "text": [
        "WARNING:root:sweep 32: ['Recording stopped before completing the experiment epoch']\n"
       ]
      },
      {
       "output_type": "stream",
       "stream": "stderr",
       "text": [
        "WARNING:root:sweep 33: ['Recording stopped before completing the experiment epoch']\n"
       ]
      },
      {
       "output_type": "stream",
       "stream": "stderr",
       "text": [
        "WARNING:root:sweep 34: ['Recording stopped before completing the experiment epoch']\n"
       ]
      },
      {
       "output_type": "stream",
       "stream": "stderr",
       "text": [
        "WARNING:root:sweep 37: ['Recording stopped before completing the experiment epoch']\n"
       ]
      },
      {
       "output_type": "stream",
       "stream": "stderr",
       "text": [
        "WARNING:root:sweep 40: ['Recording stopped before completing the experiment epoch']\n"
       ]
      },
      {
       "output_type": "stream",
       "stream": "stdout",
       "text": [
        "710920450.0 extracted\n",
        "loading dataset into data structure...\n"
       ]
      },
      {
       "output_type": "stream",
       "stream": "stdout",
       "text": [
        "711202068.0 extracted\n",
        "loading dataset into data structure...\n"
       ]
      },
      {
       "output_type": "stream",
       "stream": "stderr",
       "text": [
        "WARNING:root:sweep 28: ['Recording stopped before completing the experiment epoch']\n"
       ]
      },
      {
       "output_type": "stream",
       "stream": "stderr",
       "text": [
        "WARNING:root:sweep 29: ['Recording stopped before completing the experiment epoch']\n"
       ]
      },
      {
       "output_type": "stream",
       "stream": "stderr",
       "text": [
        "WARNING:root:sweep 30: ['Recording stopped before completing the experiment epoch']\n"
       ]
      },
      {
       "output_type": "stream",
       "stream": "stderr",
       "text": [
        "WARNING:root:sweep 31: ['Recording stopped before completing the experiment epoch']\n"
       ]
      },
      {
       "output_type": "stream",
       "stream": "stderr",
       "text": [
        "WARNING:root:sweep 32: ['Recording stopped before completing the experiment epoch']\n"
       ]
      },
      {
       "output_type": "stream",
       "stream": "stdout",
       "text": [
        "711212623.0 extracted\n",
        "loading dataset into data structure...\n"
       ]
      },
      {
       "output_type": "stream",
       "stream": "stderr",
       "text": [
        "WARNING:root:sweep 25: ['Recording stopped before completing the experiment epoch']\n"
       ]
      },
      {
       "output_type": "stream",
       "stream": "stderr",
       "text": [
        "WARNING:root:sweep 26: ['Recording stopped before completing the experiment epoch']\n"
       ]
      },
      {
       "output_type": "stream",
       "stream": "stderr",
       "text": [
        "WARNING:root:sweep 27: ['Recording stopped before completing the experiment epoch']\n"
       ]
      },
      {
       "output_type": "stream",
       "stream": "stderr",
       "text": [
        "WARNING:root:sweep 28: ['Recording stopped before completing the experiment epoch']\n"
       ]
      },
      {
       "output_type": "stream",
       "stream": "stderr",
       "text": [
        "WARNING:root:sweep 29: ['Recording stopped before completing the experiment epoch']\n"
       ]
      },
      {
       "output_type": "stream",
       "stream": "stdout",
       "text": [
        "711245238.0 extracted\n",
        "loading dataset into data structure...\n"
       ]
      },
      {
       "output_type": "stream",
       "stream": "stderr",
       "text": [
        "WARNING:root:sweep 30: ['Recording stopped before completing the experiment epoch']\n"
       ]
      },
      {
       "output_type": "stream",
       "stream": "stderr",
       "text": [
        "WARNING:root:sweep 31: ['Recording stopped before completing the experiment epoch']\n"
       ]
      },
      {
       "output_type": "stream",
       "stream": "stderr",
       "text": [
        "WARNING:root:sweep 32: ['Recording stopped before completing the experiment epoch']\n"
       ]
      },
      {
       "output_type": "stream",
       "stream": "stderr",
       "text": [
        "WARNING:root:sweep 33: ['Recording stopped before completing the experiment epoch']\n"
       ]
      },
      {
       "output_type": "stream",
       "stream": "stderr",
       "text": [
        "WARNING:root:sweep 34: ['Recording stopped before completing the experiment epoch']\n"
       ]
      },
      {
       "output_type": "stream",
       "stream": "stderr",
       "text": [
        "WARNING:root:sweep 35: ['Recording stopped before completing the experiment epoch']\n"
       ]
      },
      {
       "output_type": "stream",
       "stream": "stderr",
       "text": [
        "WARNING:root:sweep 36: ['Recording stopped before completing the experiment epoch']\n"
       ]
      },
      {
       "output_type": "stream",
       "stream": "stdout",
       "text": [
        "711260951.0 extracted\n",
        "loading dataset into data structure...\n"
       ]
      },
      {
       "output_type": "stream",
       "stream": "stderr",
       "text": [
        "WARNING:root:sweep 23: ['Recording stopped before completing the experiment epoch']\n"
       ]
      },
      {
       "output_type": "stream",
       "stream": "stderr",
       "text": [
        "WARNING:root:sweep 24: ['Recording stopped before completing the experiment epoch']\n"
       ]
      },
      {
       "output_type": "stream",
       "stream": "stderr",
       "text": [
        "WARNING:root:sweep 25: ['Recording stopped before completing the experiment epoch']\n"
       ]
      },
      {
       "output_type": "stream",
       "stream": "stderr",
       "text": [
        "WARNING:root:sweep 26: ['Recording stopped before completing the experiment epoch']\n"
       ]
      },
      {
       "output_type": "stream",
       "stream": "stderr",
       "text": [
        "WARNING:root:sweep 27: ['Recording stopped before completing the experiment epoch']\n"
       ]
      },
      {
       "output_type": "stream",
       "stream": "stderr",
       "text": [
        "/nethome/kcni/ychen/.local/lib/python3.6/site-packages/ipfx/spike_features.py:87: RuntimeWarning: invalid value encountered in less\n",
        "  width_levels[width_levels < v[spike_indexes]] = thresh_to_peak_levels[width_levels < v[spike_indexes]]\n"
       ]
      },
      {
       "output_type": "stream",
       "stream": "stdout",
       "text": [
        "711282684.0 extracted\n",
        "loading dataset into data structure...\n"
       ]
      },
      {
       "output_type": "stream",
       "stream": "stderr",
       "text": [
        "WARNING:root:sweep 31: ['Recording stopped before completing the experiment epoch']\n"
       ]
      },
      {
       "output_type": "stream",
       "stream": "stderr",
       "text": [
        "WARNING:root:sweep 32: ['Recording stopped before completing the experiment epoch']\n"
       ]
      },
      {
       "output_type": "stream",
       "stream": "stderr",
       "text": [
        "WARNING:root:sweep 33: ['Recording stopped before completing the experiment epoch']\n"
       ]
      },
      {
       "output_type": "stream",
       "stream": "stderr",
       "text": [
        "WARNING:root:sweep 34: ['Recording stopped before completing the experiment epoch']\n"
       ]
      },
      {
       "output_type": "stream",
       "stream": "stderr",
       "text": [
        "WARNING:root:sweep 35: ['Recording stopped before completing the experiment epoch']\n"
       ]
      },
      {
       "output_type": "stream",
       "stream": "stderr",
       "text": [
        "WARNING:root:sweep 36: ['Recording stopped before completing the experiment epoch']\n"
       ]
      },
      {
       "output_type": "stream",
       "stream": "stderr",
       "text": [
        "/nethome/kcni/ychen/.local/lib/python3.6/site-packages/ipfx/spike_features.py:87: RuntimeWarning: invalid value encountered in less\n",
        "  width_levels[width_levels < v[spike_indexes]] = thresh_to_peak_levels[width_levels < v[spike_indexes]]\n"
       ]
      },
      {
       "output_type": "stream",
       "stream": "stdout",
       "text": [
        "711338953.0 extracted\n",
        "loading dataset into data structure...\n"
       ]
      },
      {
       "output_type": "stream",
       "stream": "stderr",
       "text": [
        "WARNING:root:sweep 26: ['Recording stopped before completing the experiment epoch']\n"
       ]
      },
      {
       "output_type": "stream",
       "stream": "stderr",
       "text": [
        "WARNING:root:sweep 27: ['Recording stopped before completing the experiment epoch']\n"
       ]
      },
      {
       "output_type": "stream",
       "stream": "stderr",
       "text": [
        "WARNING:root:sweep 28: ['Recording stopped before completing the experiment epoch']\n"
       ]
      },
      {
       "output_type": "stream",
       "stream": "stderr",
       "text": [
        "WARNING:root:sweep 29: ['Recording stopped before completing the experiment epoch']\n"
       ]
      },
      {
       "output_type": "stream",
       "stream": "stderr",
       "text": [
        "WARNING:root:sweep 30: ['Recording stopped before completing the experiment epoch']\n"
       ]
      },
      {
       "output_type": "stream",
       "stream": "stdout",
       "text": [
        "711339717.0 extracted\n",
        "loading dataset into data structure...\n"
       ]
      },
      {
       "output_type": "stream",
       "stream": "stderr",
       "text": [
        "/nethome/kcni/ychen/.local/lib/python3.6/site-packages/ipfx/spike_features.py:87: RuntimeWarning: invalid value encountered in less\n",
        "  width_levels[width_levels < v[spike_indexes]] = thresh_to_peak_levels[width_levels < v[spike_indexes]]\n"
       ]
      },
      {
       "output_type": "stream",
       "stream": "stdout",
       "text": [
        "711369579.0 extracted\n",
        "loading dataset into data structure...\n"
       ]
      },
      {
       "output_type": "stream",
       "stream": "stderr",
       "text": [
        "WARNING:root:sweep 19: ['Recording stopped before completing the experiment epoch']\n"
       ]
      },
      {
       "output_type": "stream",
       "stream": "stderr",
       "text": [
        "WARNING:root:sweep 20: ['Recording stopped before completing the experiment epoch']\n"
       ]
      },
      {
       "output_type": "stream",
       "stream": "stderr",
       "text": [
        "WARNING:root:sweep 21: ['Recording stopped before completing the experiment epoch']\n"
       ]
      },
      {
       "output_type": "stream",
       "stream": "stderr",
       "text": [
        "WARNING:root:sweep 22: ['Recording stopped before completing the experiment epoch']\n"
       ]
      },
      {
       "output_type": "stream",
       "stream": "stderr",
       "text": [
        "WARNING:root:sweep 23: ['Recording stopped before completing the experiment epoch']\n"
       ]
      },
      {
       "output_type": "stream",
       "stream": "stdout",
       "text": [
        "711438994.0 extracted\n",
        "loading dataset into data structure...\n"
       ]
      },
      {
       "output_type": "stream",
       "stream": "stderr",
       "text": [
        "WARNING:root:sweep 7: ['experiment epoch is missing', 'stim epoch is missing']\n"
       ]
      },
      {
       "output_type": "stream",
       "stream": "stdout",
       "text": [
        "711464852.0 extracted\n",
        "loading dataset into data structure...\n"
       ]
      },
      {
       "output_type": "stream",
       "stream": "stderr",
       "text": [
        "WARNING:root:sweep 25: ['Recording stopped before completing the experiment epoch']\n"
       ]
      },
      {
       "output_type": "stream",
       "stream": "stderr",
       "text": [
        "WARNING:root:sweep 26: ['Recording stopped before completing the experiment epoch']\n"
       ]
      },
      {
       "output_type": "stream",
       "stream": "stderr",
       "text": [
        "WARNING:root:sweep 27: ['Recording stopped before completing the experiment epoch']\n"
       ]
      },
      {
       "output_type": "stream",
       "stream": "stderr",
       "text": [
        "WARNING:root:sweep 28: ['Recording stopped before completing the experiment epoch']\n"
       ]
      },
      {
       "output_type": "stream",
       "stream": "stderr",
       "text": [
        "WARNING:root:sweep 29: ['Recording stopped before completing the experiment epoch']\n"
       ]
      },
      {
       "output_type": "stream",
       "stream": "stdout",
       "text": [
        "711465105.0 extracted\n",
        "loading dataset into data structure...\n"
       ]
      },
      {
       "output_type": "stream",
       "stream": "stderr",
       "text": [
        "/nethome/kcni/ychen/.local/lib/python3.6/site-packages/ipfx/spike_features.py:87: RuntimeWarning: invalid value encountered in less\n",
        "  width_levels[width_levels < v[spike_indexes]] = thresh_to_peak_levels[width_levels < v[spike_indexes]]\n"
       ]
      },
      {
       "output_type": "stream",
       "stream": "stdout",
       "text": [
        "711477649.0 extracted\n",
        "loading dataset into data structure...\n"
       ]
      },
      {
       "output_type": "stream",
       "stream": "stderr",
       "text": [
        "WARNING:root:sweep 32: ['Recording stopped before completing the experiment epoch']\n"
       ]
      },
      {
       "output_type": "stream",
       "stream": "stderr",
       "text": [
        "WARNING:root:sweep 33: ['Recording stopped before completing the experiment epoch']\n"
       ]
      },
      {
       "output_type": "stream",
       "stream": "stderr",
       "text": [
        "WARNING:root:sweep 34: ['Recording stopped before completing the experiment epoch']\n"
       ]
      },
      {
       "output_type": "stream",
       "stream": "stderr",
       "text": [
        "WARNING:root:sweep 35: ['Recording stopped before completing the experiment epoch']\n"
       ]
      },
      {
       "output_type": "stream",
       "stream": "stderr",
       "text": [
        "WARNING:root:sweep 36: ['Recording stopped before completing the experiment epoch']\n"
       ]
      },
      {
       "output_type": "stream",
       "stream": "stdout",
       "text": [
        "711483278.0 extracted\n",
        "loading dataset into data structure...\n"
       ]
      },
      {
       "output_type": "stream",
       "stream": "stderr",
       "text": [
        "/nethome/kcni/ychen/.local/lib/python3.6/site-packages/ipfx/spike_features.py:87: RuntimeWarning: invalid value encountered in less\n",
        "  width_levels[width_levels < v[spike_indexes]] = thresh_to_peak_levels[width_levels < v[spike_indexes]]\n"
       ]
      },
      {
       "output_type": "stream",
       "stream": "stdout",
       "text": [
        "711483359.0 extracted\n",
        "loading dataset into data structure...\n"
       ]
      },
      {
       "output_type": "stream",
       "stream": "stderr",
       "text": [
        "WARNING:root:sweep 24: ['Recording stopped before completing the experiment epoch']\n"
       ]
      },
      {
       "output_type": "stream",
       "stream": "stderr",
       "text": [
        "WARNING:root:sweep 25: ['Recording stopped before completing the experiment epoch']\n"
       ]
      },
      {
       "output_type": "stream",
       "stream": "stderr",
       "text": [
        "WARNING:root:sweep 26: ['Recording stopped before completing the experiment epoch']\n"
       ]
      },
      {
       "output_type": "stream",
       "stream": "stderr",
       "text": [
        "WARNING:root:sweep 27: ['Recording stopped before completing the experiment epoch']\n"
       ]
      },
      {
       "output_type": "stream",
       "stream": "stderr",
       "text": [
        "WARNING:root:sweep 28: ['Recording stopped before completing the experiment epoch']\n"
       ]
      },
      {
       "output_type": "stream",
       "stream": "stdout",
       "text": [
        "711508435.0 extracted\n",
        "loading dataset into data structure...\n"
       ]
      },
      {
       "output_type": "stream",
       "stream": "stdout",
       "text": [
        "711510463.0 extracted\n",
        "loading dataset into data structure...\n"
       ]
      },
      {
       "output_type": "stream",
       "stream": "stdout",
       "text": [
        "711511692.0 extracted\n",
        "loading dataset into data structure...\n"
       ]
      },
      {
       "output_type": "stream",
       "stream": "stderr",
       "text": [
        "WARNING:root:sweep 35: ['Recording stopped before completing the experiment epoch']\n"
       ]
      },
      {
       "output_type": "stream",
       "stream": "stderr",
       "text": [
        "WARNING:root:sweep 36: ['Recording stopped before completing the experiment epoch']\n"
       ]
      },
      {
       "output_type": "stream",
       "stream": "stderr",
       "text": [
        "WARNING:root:sweep 37: ['Recording stopped before completing the experiment epoch']\n"
       ]
      },
      {
       "output_type": "stream",
       "stream": "stderr",
       "text": [
        "WARNING:root:sweep 38: ['Recording stopped before completing the experiment epoch']\n"
       ]
      },
      {
       "output_type": "stream",
       "stream": "stderr",
       "text": [
        "WARNING:root:sweep 39: ['Recording stopped before completing the experiment epoch']\n"
       ]
      },
      {
       "output_type": "stream",
       "stream": "stdout",
       "text": [
        "711528753.0 extracted\n",
        "loading dataset into data structure...\n"
       ]
      },
      {
       "output_type": "stream",
       "stream": "stderr",
       "text": [
        "WARNING:root:sweep 28: ['Recording stopped before completing the experiment epoch']\n"
       ]
      },
      {
       "output_type": "stream",
       "stream": "stderr",
       "text": [
        "WARNING:root:sweep 29: ['Recording stopped before completing the experiment epoch']\n"
       ]
      },
      {
       "output_type": "stream",
       "stream": "stderr",
       "text": [
        "WARNING:root:sweep 30: ['Recording stopped before completing the experiment epoch']\n"
       ]
      },
      {
       "output_type": "stream",
       "stream": "stderr",
       "text": [
        "WARNING:root:sweep 31: ['Recording stopped before completing the experiment epoch']\n"
       ]
      },
      {
       "output_type": "stream",
       "stream": "stderr",
       "text": [
        "WARNING:root:sweep 32: ['Recording stopped before completing the experiment epoch']\n"
       ]
      },
      {
       "output_type": "stream",
       "stream": "stderr",
       "text": [
        "/nethome/kcni/ychen/.local/lib/python3.6/site-packages/ipfx/spike_features.py:87: RuntimeWarning: invalid value encountered in less\n",
        "  width_levels[width_levels < v[spike_indexes]] = thresh_to_peak_levels[width_levels < v[spike_indexes]]\n"
       ]
      },
      {
       "output_type": "stream",
       "stream": "stdout",
       "text": [
        "711571947.0 extracted\n",
        "loading dataset into data structure...\n"
       ]
      },
      {
       "output_type": "stream",
       "stream": "stdout",
       "text": [
        "711572453.0 extracted\n",
        "loading dataset into data structure...\n"
       ]
      },
      {
       "output_type": "stream",
       "stream": "stderr",
       "text": [
        "WARNING:root:sweep 26: ['Recording stopped before completing the experiment epoch']\n"
       ]
      },
      {
       "output_type": "stream",
       "stream": "stderr",
       "text": [
        "WARNING:root:sweep 27: ['Recording stopped before completing the experiment epoch']\n"
       ]
      },
      {
       "output_type": "stream",
       "stream": "stderr",
       "text": [
        "WARNING:root:sweep 28: ['Recording stopped before completing the experiment epoch']\n"
       ]
      },
      {
       "output_type": "stream",
       "stream": "stderr",
       "text": [
        "WARNING:root:sweep 29: ['Recording stopped before completing the experiment epoch']\n"
       ]
      },
      {
       "output_type": "stream",
       "stream": "stderr",
       "text": [
        "WARNING:root:sweep 30: ['Recording stopped before completing the experiment epoch']\n"
       ]
      },
      {
       "output_type": "stream",
       "stream": "stdout",
       "text": [
        "711572656.0 extracted\n",
        "loading dataset into data structure...\n"
       ]
      },
      {
       "output_type": "stream",
       "stream": "stderr",
       "text": [
        "WARNING:root:sweep 23: ['Recording stopped before completing the experiment epoch']\n"
       ]
      },
      {
       "output_type": "stream",
       "stream": "stderr",
       "text": [
        "WARNING:root:sweep 24: ['Recording stopped before completing the experiment epoch']\n"
       ]
      },
      {
       "output_type": "stream",
       "stream": "stderr",
       "text": [
        "WARNING:root:sweep 25: ['Recording stopped before completing the experiment epoch']\n"
       ]
      },
      {
       "output_type": "stream",
       "stream": "stderr",
       "text": [
        "WARNING:root:sweep 26: ['Recording stopped before completing the experiment epoch']\n"
       ]
      },
      {
       "output_type": "stream",
       "stream": "stderr",
       "text": [
        "WARNING:root:sweep 27: ['Recording stopped before completing the experiment epoch']\n"
       ]
      },
      {
       "output_type": "stream",
       "stream": "stderr",
       "text": [
        "/nethome/kcni/ychen/.local/lib/python3.6/site-packages/ipfx/spike_features.py:87: RuntimeWarning: invalid value encountered in less\n",
        "  width_levels[width_levels < v[spike_indexes]] = thresh_to_peak_levels[width_levels < v[spike_indexes]]\n"
       ]
      },
      {
       "output_type": "stream",
       "stream": "stdout",
       "text": [
        "711577762.0 extracted\n",
        "loading dataset into data structure...\n"
       ]
      },
      {
       "output_type": "stream",
       "stream": "stderr",
       "text": [
        "WARNING:root:sweep 20: ['Recording stopped before completing the experiment epoch']\n"
       ]
      },
      {
       "output_type": "stream",
       "stream": "stdout",
       "text": [
        "711770582.0 extracted\n",
        "loading dataset into data structure...\n"
       ]
      },
      {
       "output_type": "stream",
       "stream": "stderr",
       "text": [
        "WARNING:root:sweep 23: ['Recording stopped before completing the experiment epoch']\n"
       ]
      },
      {
       "output_type": "stream",
       "stream": "stderr",
       "text": [
        "WARNING:root:sweep 24: ['Recording stopped before completing the experiment epoch']\n"
       ]
      },
      {
       "output_type": "stream",
       "stream": "stderr",
       "text": [
        "WARNING:root:sweep 25: ['Recording stopped before completing the experiment epoch']\n"
       ]
      },
      {
       "output_type": "stream",
       "stream": "stderr",
       "text": [
        "WARNING:root:sweep 26: ['Recording stopped before completing the experiment epoch']\n"
       ]
      },
      {
       "output_type": "stream",
       "stream": "stderr",
       "text": [
        "WARNING:root:sweep 27: ['Recording stopped before completing the experiment epoch']\n"
       ]
      },
      {
       "output_type": "stream",
       "stream": "stdout",
       "text": [
        "711838627.0 extracted\n",
        "loading dataset into data structure...\n"
       ]
      },
      {
       "output_type": "stream",
       "stream": "stderr",
       "text": [
        "WARNING:root:sweep 32: ['Recording stopped before completing the experiment epoch']\n"
       ]
      },
      {
       "output_type": "stream",
       "stream": "stderr",
       "text": [
        "WARNING:root:sweep 33: ['Recording stopped before completing the experiment epoch']\n"
       ]
      },
      {
       "output_type": "stream",
       "stream": "stderr",
       "text": [
        "WARNING:root:sweep 34: ['Recording stopped before completing the experiment epoch']\n"
       ]
      },
      {
       "output_type": "stream",
       "stream": "stderr",
       "text": [
        "WARNING:root:sweep 35: ['Recording stopped before completing the experiment epoch']\n"
       ]
      },
      {
       "output_type": "stream",
       "stream": "stderr",
       "text": [
        "WARNING:root:sweep 36: ['Recording stopped before completing the experiment epoch']\n"
       ]
      },
      {
       "output_type": "stream",
       "stream": "stderr",
       "text": [
        "/nethome/kcni/ychen/.local/lib/python3.6/site-packages/ipfx/spike_features.py:87: RuntimeWarning: invalid value encountered in less\n",
        "  width_levels[width_levels < v[spike_indexes]] = thresh_to_peak_levels[width_levels < v[spike_indexes]]\n"
       ]
      },
      {
       "output_type": "stream",
       "stream": "stdout",
       "text": [
        "711876906.0 extracted\n",
        "loading dataset into data structure...\n"
       ]
      },
      {
       "output_type": "stream",
       "stream": "stderr",
       "text": [
        "WARNING:root:sweep 42: ['Recording stopped before completing the experiment epoch']\n"
       ]
      },
      {
       "output_type": "stream",
       "stream": "stderr",
       "text": [
        "WARNING:root:sweep 43: ['Recording stopped before completing the experiment epoch']\n"
       ]
      },
      {
       "output_type": "stream",
       "stream": "stderr",
       "text": [
        "WARNING:root:sweep 44: ['Recording stopped before completing the experiment epoch']\n"
       ]
      },
      {
       "output_type": "stream",
       "stream": "stderr",
       "text": [
        "WARNING:root:sweep 45: ['Recording stopped before completing the experiment epoch']\n"
       ]
      },
      {
       "output_type": "stream",
       "stream": "stderr",
       "text": [
        "WARNING:root:sweep 46: ['Recording stopped before completing the experiment epoch']\n"
       ]
      },
      {
       "output_type": "stream",
       "stream": "stdout",
       "text": [
        "711883863.0 extracted\n",
        "loading dataset into data structure...\n"
       ]
      },
      {
       "output_type": "stream",
       "stream": "stderr",
       "text": [
        "WARNING:root:sweep 20: ['Recording stopped before completing the experiment epoch']\n"
       ]
      },
      {
       "output_type": "stream",
       "stream": "stderr",
       "text": [
        "WARNING:root:sweep 21: ['Recording stopped before completing the experiment epoch']\n"
       ]
      },
      {
       "output_type": "stream",
       "stream": "stderr",
       "text": [
        "WARNING:root:sweep 22: ['Recording stopped before completing the experiment epoch']\n"
       ]
      },
      {
       "output_type": "stream",
       "stream": "stderr",
       "text": [
        "WARNING:root:sweep 23: ['Recording stopped before completing the experiment epoch']\n"
       ]
      },
      {
       "output_type": "stream",
       "stream": "stderr",
       "text": [
        "WARNING:root:sweep 24: ['Recording stopped before completing the experiment epoch']\n"
       ]
      },
      {
       "output_type": "stream",
       "stream": "stdout",
       "text": [
        "711903629.0 extracted\n",
        "loading dataset into data structure...\n"
       ]
      },
      {
       "output_type": "stream",
       "stream": "stderr",
       "text": [
        "WARNING:root:sweep 28: ['Recording stopped before completing the experiment epoch']\n"
       ]
      },
      {
       "output_type": "stream",
       "stream": "stderr",
       "text": [
        "WARNING:root:sweep 29: ['Recording stopped before completing the experiment epoch']\n"
       ]
      },
      {
       "output_type": "stream",
       "stream": "stderr",
       "text": [
        "WARNING:root:sweep 30: ['Recording stopped before completing the experiment epoch']\n"
       ]
      },
      {
       "output_type": "stream",
       "stream": "stderr",
       "text": [
        "WARNING:root:sweep 31: ['Recording stopped before completing the experiment epoch']\n"
       ]
      },
      {
       "output_type": "stream",
       "stream": "stderr",
       "text": [
        "WARNING:root:sweep 32: ['Recording stopped before completing the experiment epoch']\n"
       ]
      },
      {
       "output_type": "stream",
       "stream": "stdout",
       "text": [
        "711923209.0 extracted\n",
        "loading dataset into data structure...\n"
       ]
      },
      {
       "output_type": "stream",
       "stream": "stderr",
       "text": [
        "WARNING:root:sweep 20: ['Recording stopped before completing the experiment epoch']\n"
       ]
      },
      {
       "output_type": "stream",
       "stream": "stderr",
       "text": [
        "WARNING:root:sweep 21: ['Recording stopped before completing the experiment epoch']\n"
       ]
      },
      {
       "output_type": "stream",
       "stream": "stderr",
       "text": [
        "WARNING:root:sweep 22: ['Recording stopped before completing the experiment epoch']\n"
       ]
      },
      {
       "output_type": "stream",
       "stream": "stderr",
       "text": [
        "WARNING:root:sweep 23: ['Recording stopped before completing the experiment epoch']\n"
       ]
      },
      {
       "output_type": "stream",
       "stream": "stderr",
       "text": [
        "WARNING:root:sweep 24: ['Recording stopped before completing the experiment epoch']\n"
       ]
      },
      {
       "output_type": "stream",
       "stream": "stderr",
       "text": [
        "WARNING:root:sweep 25: ['Recording stopped before completing the experiment epoch']\n"
       ]
      },
      {
       "output_type": "stream",
       "stream": "stdout",
       "text": [
        "711990021.0 extracted\n",
        "loading dataset into data structure...\n"
       ]
      },
      {
       "output_type": "stream",
       "stream": "stdout",
       "text": [
        "712020677.0 extracted\n",
        "loading dataset into data structure...\n"
       ]
      },
      {
       "output_type": "stream",
       "stream": "stderr",
       "text": [
        "WARNING:root:sweep 40: ['Recording stopped before completing the experiment epoch']\n"
       ]
      },
      {
       "output_type": "stream",
       "stream": "stderr",
       "text": [
        "WARNING:root:sweep 41: ['Recording stopped before completing the experiment epoch']\n"
       ]
      },
      {
       "output_type": "stream",
       "stream": "stderr",
       "text": [
        "WARNING:root:sweep 42: ['Recording stopped before completing the experiment epoch']\n"
       ]
      },
      {
       "output_type": "stream",
       "stream": "stderr",
       "text": [
        "WARNING:root:sweep 43: ['Recording stopped before completing the experiment epoch']\n"
       ]
      },
      {
       "output_type": "stream",
       "stream": "stderr",
       "text": [
        "WARNING:root:sweep 44: ['Recording stopped before completing the experiment epoch']\n"
       ]
      },
      {
       "output_type": "stream",
       "stream": "stdout",
       "text": [
        "712037689.0 extracted\n",
        "loading dataset into data structure...\n"
       ]
      },
      {
       "output_type": "stream",
       "stream": "stdout",
       "text": [
        "712133949.0 extracted\n",
        "loading dataset into data structure...\n"
       ]
      },
      {
       "output_type": "stream",
       "stream": "stderr",
       "text": [
        "/nethome/kcni/ychen/.local/lib/python3.6/site-packages/ipfx/spike_features.py:87: RuntimeWarning: invalid value encountered in less\n",
        "  width_levels[width_levels < v[spike_indexes]] = thresh_to_peak_levels[width_levels < v[spike_indexes]]\n"
       ]
      },
      {
       "output_type": "stream",
       "stream": "stdout",
       "text": [
        "712150175.0 extracted\n",
        "loading dataset into data structure...\n"
       ]
      },
      {
       "output_type": "stream",
       "stream": "stderr",
       "text": [
        "WARNING:root:sweep 29: ['Recording stopped before completing the experiment epoch']\n"
       ]
      },
      {
       "output_type": "stream",
       "stream": "stderr",
       "text": [
        "WARNING:root:sweep 30: ['Recording stopped before completing the experiment epoch']\n"
       ]
      },
      {
       "output_type": "stream",
       "stream": "stderr",
       "text": [
        "WARNING:root:sweep 31: ['Recording stopped before completing the experiment epoch']\n"
       ]
      },
      {
       "output_type": "stream",
       "stream": "stderr",
       "text": [
        "WARNING:root:sweep 32: ['Recording stopped before completing the experiment epoch']\n"
       ]
      },
      {
       "output_type": "stream",
       "stream": "stderr",
       "text": [
        "WARNING:root:sweep 33: ['Recording stopped before completing the experiment epoch']\n"
       ]
      },
      {
       "output_type": "stream",
       "stream": "stdout",
       "text": [
        "712156999.0 extracted\n",
        "loading dataset into data structure...\n"
       ]
      },
      {
       "output_type": "stream",
       "stream": "stdout",
       "text": [
        "713116724.0 extracted\n",
        "loading dataset into data structure...\n"
       ]
      },
      {
       "output_type": "stream",
       "stream": "stderr",
       "text": [
        "WARNING:root:sweep 28: ['Recording stopped before completing the experiment epoch']\n"
       ]
      },
      {
       "output_type": "stream",
       "stream": "stderr",
       "text": [
        "WARNING:root:sweep 29: ['Recording stopped before completing the experiment epoch']\n"
       ]
      },
      {
       "output_type": "stream",
       "stream": "stderr",
       "text": [
        "WARNING:root:sweep 30: ['Recording stopped before completing the experiment epoch']\n"
       ]
      },
      {
       "output_type": "stream",
       "stream": "stderr",
       "text": [
        "WARNING:root:sweep 31: ['Recording stopped before completing the experiment epoch']\n"
       ]
      },
      {
       "output_type": "stream",
       "stream": "stderr",
       "text": [
        "WARNING:root:sweep 32: ['Recording stopped before completing the experiment epoch']\n"
       ]
      },
      {
       "output_type": "stream",
       "stream": "stderr",
       "text": [
        "WARNING:root:sweep 33: ['Recording stopped before completing the experiment epoch']\n"
       ]
      },
      {
       "output_type": "stream",
       "stream": "stdout",
       "text": [
        "713132614.0 extracted\n",
        "loading dataset into data structure...\n"
       ]
      },
      {
       "output_type": "stream",
       "stream": "stderr",
       "text": [
        "WARNING:root:sweep 24: ['Recording stopped before completing the experiment epoch']\n"
       ]
      },
      {
       "output_type": "stream",
       "stream": "stderr",
       "text": [
        "WARNING:root:sweep 25: ['Recording stopped before completing the experiment epoch']\n"
       ]
      },
      {
       "output_type": "stream",
       "stream": "stderr",
       "text": [
        "WARNING:root:sweep 26: ['Recording stopped before completing the experiment epoch']\n"
       ]
      },
      {
       "output_type": "stream",
       "stream": "stderr",
       "text": [
        "WARNING:root:sweep 27: ['Recording stopped before completing the experiment epoch']\n"
       ]
      },
      {
       "output_type": "stream",
       "stream": "stderr",
       "text": [
        "WARNING:root:sweep 28: ['Recording stopped before completing the experiment epoch']\n"
       ]
      },
      {
       "output_type": "stream",
       "stream": "stdout",
       "text": [
        "713136280.0 extracted\n",
        "loading dataset into data structure...\n"
       ]
      },
      {
       "output_type": "stream",
       "stream": "stderr",
       "text": [
        "WARNING:root:sweep 24: ['Recording stopped before completing the experiment epoch']\n"
       ]
      },
      {
       "output_type": "stream",
       "stream": "stderr",
       "text": [
        "WARNING:root:sweep 25: ['Recording stopped before completing the experiment epoch']\n"
       ]
      },
      {
       "output_type": "stream",
       "stream": "stderr",
       "text": [
        "WARNING:root:sweep 26: ['Recording stopped before completing the experiment epoch']\n"
       ]
      },
      {
       "output_type": "stream",
       "stream": "stderr",
       "text": [
        "WARNING:root:sweep 27: ['Recording stopped before completing the experiment epoch']\n"
       ]
      },
      {
       "output_type": "stream",
       "stream": "stderr",
       "text": [
        "WARNING:root:sweep 28: ['Recording stopped before completing the experiment epoch']\n"
       ]
      },
      {
       "output_type": "stream",
       "stream": "stderr",
       "text": [
        "/nethome/kcni/ychen/.local/lib/python3.6/site-packages/ipfx/spike_features.py:87: RuntimeWarning: invalid value encountered in less\n",
        "  width_levels[width_levels < v[spike_indexes]] = thresh_to_peak_levels[width_levels < v[spike_indexes]]\n"
       ]
      },
      {
       "output_type": "stream",
       "stream": "stdout",
       "text": [
        "713181291.0 extracted\n",
        "loading dataset into data structure...\n"
       ]
      },
      {
       "output_type": "stream",
       "stream": "stdout",
       "text": [
        "713238678.0 extracted\n",
        "loading dataset into data structure...\n"
       ]
      },
      {
       "output_type": "stream",
       "stream": "stderr",
       "text": [
        "WARNING:root:sweep 27: ['Recording stopped before completing the experiment epoch']\n"
       ]
      },
      {
       "output_type": "stream",
       "stream": "stderr",
       "text": [
        "WARNING:root:sweep 28: ['Recording stopped before completing the experiment epoch']\n"
       ]
      },
      {
       "output_type": "stream",
       "stream": "stderr",
       "text": [
        "WARNING:root:sweep 29: ['Recording stopped before completing the experiment epoch']\n"
       ]
      },
      {
       "output_type": "stream",
       "stream": "stderr",
       "text": [
        "WARNING:root:sweep 30: ['Recording stopped before completing the experiment epoch']\n"
       ]
      },
      {
       "output_type": "stream",
       "stream": "stderr",
       "text": [
        "WARNING:root:sweep 31: ['Recording stopped before completing the experiment epoch']\n"
       ]
      },
      {
       "output_type": "stream",
       "stream": "stdout",
       "text": [
        "713245298.0 extracted\n",
        "loading dataset into data structure...\n"
       ]
      },
      {
       "output_type": "stream",
       "stream": "stdout",
       "text": [
        "713288327.0 extracted\n",
        "loading dataset into data structure...\n"
       ]
      },
      {
       "output_type": "stream",
       "stream": "stdout",
       "text": [
        "713336527.0 extracted\n",
        "loading dataset into data structure...\n"
       ]
      },
      {
       "output_type": "stream",
       "stream": "stderr",
       "text": [
        "WARNING:root:sweep 21: ['Recording stopped before completing the experiment epoch']\n"
       ]
      },
      {
       "output_type": "stream",
       "stream": "stderr",
       "text": [
        "WARNING:root:sweep 22: ['Recording stopped before completing the experiment epoch']\n"
       ]
      },
      {
       "output_type": "stream",
       "stream": "stderr",
       "text": [
        "WARNING:root:sweep 23: ['Recording stopped before completing the experiment epoch']\n"
       ]
      },
      {
       "output_type": "stream",
       "stream": "stderr",
       "text": [
        "WARNING:root:sweep 24: ['Recording stopped before completing the experiment epoch']\n"
       ]
      },
      {
       "output_type": "stream",
       "stream": "stderr",
       "text": [
        "WARNING:root:sweep 25: ['Recording stopped before completing the experiment epoch']\n"
       ]
      },
      {
       "output_type": "stream",
       "stream": "stdout",
       "text": [
        "713442456.0 extracted\n",
        "loading dataset into data structure...\n"
       ]
      },
      {
       "output_type": "stream",
       "stream": "stderr",
       "text": [
        "WARNING:root:sweep 25: ['Recording stopped before completing the experiment epoch']\n"
       ]
      },
      {
       "output_type": "stream",
       "stream": "stderr",
       "text": [
        "WARNING:root:sweep 26: ['Recording stopped before completing the experiment epoch']\n"
       ]
      },
      {
       "output_type": "stream",
       "stream": "stderr",
       "text": [
        "WARNING:root:sweep 27: ['Recording stopped before completing the experiment epoch']\n"
       ]
      },
      {
       "output_type": "stream",
       "stream": "stderr",
       "text": [
        "WARNING:root:sweep 28: ['Recording stopped before completing the experiment epoch']\n"
       ]
      },
      {
       "output_type": "stream",
       "stream": "stderr",
       "text": [
        "WARNING:root:sweep 29: ['Recording stopped before completing the experiment epoch']\n"
       ]
      },
      {
       "output_type": "stream",
       "stream": "stderr",
       "text": [
        "WARNING:root:sweep 33: ['Recording stopped before completing the experiment epoch']\n"
       ]
      },
      {
       "output_type": "stream",
       "stream": "stderr",
       "text": [
        "WARNING:root:sweep 36: ['Recording stopped before completing the experiment epoch']\n"
       ]
      },
      {
       "output_type": "stream",
       "stream": "stdout",
       "text": [
        "713692025.0 extracted\n",
        "loading dataset into data structure...\n"
       ]
      },
      {
       "output_type": "stream",
       "stream": "stderr",
       "text": [
        "WARNING:root:sweep 25: ['Recording stopped before completing the experiment epoch']\n"
       ]
      },
      {
       "output_type": "stream",
       "stream": "stderr",
       "text": [
        "WARNING:root:sweep 26: ['Recording stopped before completing the experiment epoch']\n"
       ]
      },
      {
       "output_type": "stream",
       "stream": "stderr",
       "text": [
        "WARNING:root:sweep 27: ['Recording stopped before completing the experiment epoch']\n"
       ]
      },
      {
       "output_type": "stream",
       "stream": "stderr",
       "text": [
        "WARNING:root:sweep 28: ['Recording stopped before completing the experiment epoch']\n"
       ]
      },
      {
       "output_type": "stream",
       "stream": "stderr",
       "text": [
        "WARNING:root:sweep 29: ['Recording stopped before completing the experiment epoch']\n"
       ]
      },
      {
       "output_type": "stream",
       "stream": "stdout",
       "text": [
        "713723052.0 extracted\n",
        "loading dataset into data structure...\n"
       ]
      },
      {
       "output_type": "stream",
       "stream": "stderr",
       "text": [
        "WARNING:root:sweep 26: ['Recording stopped before completing the experiment epoch']\n"
       ]
      },
      {
       "output_type": "stream",
       "stream": "stderr",
       "text": [
        "WARNING:root:sweep 27: ['Recording stopped before completing the experiment epoch']\n"
       ]
      },
      {
       "output_type": "stream",
       "stream": "stderr",
       "text": [
        "WARNING:root:sweep 28: ['Recording stopped before completing the experiment epoch']\n"
       ]
      },
      {
       "output_type": "stream",
       "stream": "stderr",
       "text": [
        "WARNING:root:sweep 29: ['Recording stopped before completing the experiment epoch']\n"
       ]
      },
      {
       "output_type": "stream",
       "stream": "stderr",
       "text": [
        "WARNING:root:sweep 30: ['Recording stopped before completing the experiment epoch']\n"
       ]
      },
      {
       "output_type": "stream",
       "stream": "stdout",
       "text": [
        "713747705.0 extracted\n",
        "loading dataset into data structure...\n"
       ]
      },
      {
       "output_type": "stream",
       "stream": "stderr",
       "text": [
        "WARNING:root:sweep 28: ['Recording stopped before completing the experiment epoch']\n"
       ]
      },
      {
       "output_type": "stream",
       "stream": "stderr",
       "text": [
        "WARNING:root:sweep 29: ['Recording stopped before completing the experiment epoch']\n"
       ]
      },
      {
       "output_type": "stream",
       "stream": "stderr",
       "text": [
        "WARNING:root:sweep 30: ['Recording stopped before completing the experiment epoch']\n"
       ]
      },
      {
       "output_type": "stream",
       "stream": "stderr",
       "text": [
        "WARNING:root:sweep 31: ['Recording stopped before completing the experiment epoch']\n"
       ]
      },
      {
       "output_type": "stream",
       "stream": "stderr",
       "text": [
        "WARNING:root:sweep 32: ['Recording stopped before completing the experiment epoch']\n"
       ]
      },
      {
       "output_type": "stream",
       "stream": "stdout",
       "text": [
        "713768156.0 extracted\n",
        "loading dataset into data structure...\n"
       ]
      },
      {
       "output_type": "stream",
       "stream": "stderr",
       "text": [
        "WARNING:root:sweep 24: ['Recording stopped before completing the experiment epoch']\n"
       ]
      },
      {
       "output_type": "stream",
       "stream": "stderr",
       "text": [
        "WARNING:root:sweep 25: ['Recording stopped before completing the experiment epoch']\n"
       ]
      },
      {
       "output_type": "stream",
       "stream": "stderr",
       "text": [
        "WARNING:root:sweep 26: ['Recording stopped before completing the experiment epoch']\n"
       ]
      },
      {
       "output_type": "stream",
       "stream": "stderr",
       "text": [
        "WARNING:root:sweep 27: ['Recording stopped before completing the experiment epoch']\n"
       ]
      },
      {
       "output_type": "stream",
       "stream": "stderr",
       "text": [
        "WARNING:root:sweep 28: ['Recording stopped before completing the experiment epoch']\n"
       ]
      },
      {
       "output_type": "stream",
       "stream": "stdout",
       "text": [
        "713797685.0 extracted\n",
        "loading dataset into data structure...\n"
       ]
      },
      {
       "output_type": "stream",
       "stream": "stderr",
       "text": [
        "WARNING:root:sweep 26: ['Recording stopped before completing the experiment epoch']\n"
       ]
      },
      {
       "output_type": "stream",
       "stream": "stderr",
       "text": [
        "WARNING:root:sweep 27: ['Recording stopped before completing the experiment epoch']\n"
       ]
      },
      {
       "output_type": "stream",
       "stream": "stderr",
       "text": [
        "WARNING:root:sweep 28: ['Recording stopped before completing the experiment epoch']\n"
       ]
      },
      {
       "output_type": "stream",
       "stream": "stderr",
       "text": [
        "WARNING:root:sweep 29: ['Recording stopped before completing the experiment epoch']\n"
       ]
      },
      {
       "output_type": "stream",
       "stream": "stderr",
       "text": [
        "WARNING:root:sweep 30: ['Recording stopped before completing the experiment epoch']\n"
       ]
      },
      {
       "output_type": "stream",
       "stream": "stdout",
       "text": [
        "713806196.0 extracted\n",
        "loading dataset into data structure...\n"
       ]
      },
      {
       "output_type": "stream",
       "stream": "stderr",
       "text": [
        "WARNING:root:sweep 25: ['Recording stopped before completing the experiment epoch']\n"
       ]
      },
      {
       "output_type": "stream",
       "stream": "stderr",
       "text": [
        "WARNING:root:sweep 26: ['Recording stopped before completing the experiment epoch']\n"
       ]
      },
      {
       "output_type": "stream",
       "stream": "stderr",
       "text": [
        "WARNING:root:sweep 27: ['Recording stopped before completing the experiment epoch']\n"
       ]
      },
      {
       "output_type": "stream",
       "stream": "stderr",
       "text": [
        "WARNING:root:sweep 28: ['Recording stopped before completing the experiment epoch']\n"
       ]
      },
      {
       "output_type": "stream",
       "stream": "stderr",
       "text": [
        "WARNING:root:sweep 29: ['Recording stopped before completing the experiment epoch']\n"
       ]
      },
      {
       "output_type": "stream",
       "stream": "stdout",
       "text": [
        "713829667.0 extracted\n",
        "loading dataset into data structure...\n"
       ]
      },
      {
       "output_type": "stream",
       "stream": "stderr",
       "text": [
        "WARNING:root:sweep 21: ['Recording stopped before completing the experiment epoch']\n"
       ]
      },
      {
       "output_type": "stream",
       "stream": "stderr",
       "text": [
        "WARNING:root:sweep 22: ['Recording stopped before completing the experiment epoch']\n"
       ]
      },
      {
       "output_type": "stream",
       "stream": "stderr",
       "text": [
        "WARNING:root:sweep 23: ['Recording stopped before completing the experiment epoch']\n"
       ]
      },
      {
       "output_type": "stream",
       "stream": "stderr",
       "text": [
        "WARNING:root:sweep 24: ['Recording stopped before completing the experiment epoch']\n"
       ]
      },
      {
       "output_type": "stream",
       "stream": "stderr",
       "text": [
        "WARNING:root:sweep 25: ['Recording stopped before completing the experiment epoch']\n"
       ]
      },
      {
       "output_type": "stream",
       "stream": "stderr",
       "text": [
        "WARNING:root:sweep 26: ['Recording stopped before completing the experiment epoch']\n"
       ]
      },
      {
       "output_type": "stream",
       "stream": "stderr",
       "text": [
        "WARNING:root:sweep 27: ['Recording stopped before completing the experiment epoch']\n"
       ]
      },
      {
       "output_type": "stream",
       "stream": "stdout",
       "text": [
        "713886995.0 extracted\n",
        "loading dataset into data structure...\n"
       ]
      },
      {
       "output_type": "stream",
       "stream": "stdout",
       "text": [
        "713899652.0 extracted\n",
        "loading dataset into data structure...\n"
       ]
      },
      {
       "output_type": "stream",
       "stream": "stderr",
       "text": [
        "WARNING:root:sweep 25: ['Recording stopped before completing the experiment epoch']\n"
       ]
      },
      {
       "output_type": "stream",
       "stream": "stderr",
       "text": [
        "WARNING:root:sweep 26: ['Recording stopped before completing the experiment epoch']\n"
       ]
      },
      {
       "output_type": "stream",
       "stream": "stderr",
       "text": [
        "WARNING:root:sweep 27: ['Recording stopped before completing the experiment epoch']\n"
       ]
      },
      {
       "output_type": "stream",
       "stream": "stderr",
       "text": [
        "WARNING:root:sweep 28: ['Recording stopped before completing the experiment epoch']\n"
       ]
      },
      {
       "output_type": "stream",
       "stream": "stderr",
       "text": [
        "WARNING:root:sweep 29: ['Recording stopped before completing the experiment epoch']\n"
       ]
      },
      {
       "output_type": "stream",
       "stream": "stdout",
       "text": [
        "713924319.0 extracted\n",
        "loading dataset into data structure...\n"
       ]
      },
      {
       "output_type": "stream",
       "stream": "stderr",
       "text": [
        "WARNING:root:sweep 23: ['Recording stopped before completing the experiment epoch']\n"
       ]
      },
      {
       "output_type": "stream",
       "stream": "stderr",
       "text": [
        "WARNING:root:sweep 24: ['Recording stopped before completing the experiment epoch']\n"
       ]
      },
      {
       "output_type": "stream",
       "stream": "stderr",
       "text": [
        "WARNING:root:sweep 25: ['Recording stopped before completing the experiment epoch']\n"
       ]
      },
      {
       "output_type": "stream",
       "stream": "stderr",
       "text": [
        "WARNING:root:sweep 26: ['Recording stopped before completing the experiment epoch']\n"
       ]
      },
      {
       "output_type": "stream",
       "stream": "stderr",
       "text": [
        "WARNING:root:sweep 27: ['Recording stopped before completing the experiment epoch']\n"
       ]
      },
      {
       "output_type": "stream",
       "stream": "stderr",
       "text": [
        "/nethome/kcni/ychen/.local/lib/python3.6/site-packages/ipfx/spike_features.py:87: RuntimeWarning: invalid value encountered in less\n",
        "  width_levels[width_levels < v[spike_indexes]] = thresh_to_peak_levels[width_levels < v[spike_indexes]]\n"
       ]
      },
      {
       "output_type": "stream",
       "stream": "stdout",
       "text": [
        "713957719.0 extracted\n",
        "loading dataset into data structure...\n"
       ]
      },
      {
       "output_type": "stream",
       "stream": "stderr",
       "text": [
        "WARNING:root:sweep 24: ['Recording stopped before completing the experiment epoch']\n"
       ]
      },
      {
       "output_type": "stream",
       "stream": "stderr",
       "text": [
        "WARNING:root:sweep 25: ['Recording stopped before completing the experiment epoch']\n"
       ]
      },
      {
       "output_type": "stream",
       "stream": "stderr",
       "text": [
        "WARNING:root:sweep 26: ['Recording stopped before completing the experiment epoch']\n"
       ]
      },
      {
       "output_type": "stream",
       "stream": "stderr",
       "text": [
        "WARNING:root:sweep 27: ['Recording stopped before completing the experiment epoch']\n"
       ]
      },
      {
       "output_type": "stream",
       "stream": "stderr",
       "text": [
        "WARNING:root:sweep 28: ['Recording stopped before completing the experiment epoch']\n"
       ]
      },
      {
       "output_type": "stream",
       "stream": "stderr",
       "text": [
        "WARNING:root:sweep 29: ['Recording stopped before completing the experiment epoch']\n"
       ]
      },
      {
       "output_type": "stream",
       "stream": "stderr",
       "text": [
        "WARNING:root:sweep 30: ['Recording stopped before completing the experiment epoch']\n"
       ]
      },
      {
       "output_type": "stream",
       "stream": "stderr",
       "text": [
        "WARNING:root:sweep 31: ['Recording stopped before completing the experiment epoch']\n"
       ]
      },
      {
       "output_type": "stream",
       "stream": "stderr",
       "text": [
        "WARNING:root:sweep 32: ['Recording stopped before completing the experiment epoch']\n"
       ]
      },
      {
       "output_type": "stream",
       "stream": "stdout",
       "text": [
        "714007445.0 extracted\n"
       ]
      },
      {
       "output_type": "stream",
       "stream": "stdout",
       "text": [
        "loading dataset into data structure...\n"
       ]
      },
      {
       "output_type": "stream",
       "stream": "stdout",
       "text": [
        "714016148.0 extracted\n",
        "loading dataset into data structure...\n"
       ]
      },
      {
       "output_type": "stream",
       "stream": "stderr",
       "text": [
        "WARNING:root:sweep 26: ['Recording stopped before completing the experiment epoch']\n"
       ]
      },
      {
       "output_type": "stream",
       "stream": "stderr",
       "text": [
        "WARNING:root:sweep 27: ['Recording stopped before completing the experiment epoch']\n"
       ]
      },
      {
       "output_type": "stream",
       "stream": "stderr",
       "text": [
        "WARNING:root:sweep 28: ['Recording stopped before completing the experiment epoch']\n"
       ]
      },
      {
       "output_type": "stream",
       "stream": "stderr",
       "text": [
        "WARNING:root:sweep 29: ['Recording stopped before completing the experiment epoch']\n"
       ]
      },
      {
       "output_type": "stream",
       "stream": "stderr",
       "text": [
        "WARNING:root:sweep 30: ['Recording stopped before completing the experiment epoch']\n"
       ]
      },
      {
       "output_type": "stream",
       "stream": "stdout",
       "text": [
        "714040661.0 extracted\n",
        "loading dataset into data structure...\n"
       ]
      },
      {
       "output_type": "stream",
       "stream": "stderr",
       "text": [
        "/nethome/kcni/ychen/.local/lib/python3.6/site-packages/ipfx/spike_features.py:87: RuntimeWarning: invalid value encountered in less\n",
        "  width_levels[width_levels < v[spike_indexes]] = thresh_to_peak_levels[width_levels < v[spike_indexes]]\n"
       ]
      },
      {
       "output_type": "stream",
       "stream": "stdout",
       "text": [
        "714046391.0 extracted\n",
        "loading dataset into data structure...\n"
       ]
      },
      {
       "output_type": "stream",
       "stream": "stderr",
       "text": [
        "WARNING:root:sweep 24: ['Recording stopped before completing the experiment epoch']\n"
       ]
      },
      {
       "output_type": "stream",
       "stream": "stderr",
       "text": [
        "WARNING:root:sweep 25: ['Recording stopped before completing the experiment epoch']\n"
       ]
      },
      {
       "output_type": "stream",
       "stream": "stderr",
       "text": [
        "WARNING:root:sweep 26: ['Recording stopped before completing the experiment epoch']\n"
       ]
      },
      {
       "output_type": "stream",
       "stream": "stderr",
       "text": [
        "WARNING:root:sweep 27: ['Recording stopped before completing the experiment epoch']\n"
       ]
      },
      {
       "output_type": "stream",
       "stream": "stderr",
       "text": [
        "WARNING:root:sweep 28: ['Recording stopped before completing the experiment epoch']\n"
       ]
      },
      {
       "output_type": "stream",
       "stream": "stdout",
       "text": [
        "714046701.0 extracted\n",
        "loading dataset into data structure...\n"
       ]
      },
      {
       "output_type": "stream",
       "stream": "stderr",
       "text": [
        "WARNING:root:sweep 29: ['Recording stopped before completing the experiment epoch']\n"
       ]
      },
      {
       "output_type": "stream",
       "stream": "stderr",
       "text": [
        "WARNING:root:sweep 30: ['Recording stopped before completing the experiment epoch']\n"
       ]
      },
      {
       "output_type": "stream",
       "stream": "stderr",
       "text": [
        "WARNING:root:sweep 31: ['Recording stopped before completing the experiment epoch']\n"
       ]
      },
      {
       "output_type": "stream",
       "stream": "stderr",
       "text": [
        "WARNING:root:sweep 32: ['Recording stopped before completing the experiment epoch']\n"
       ]
      },
      {
       "output_type": "stream",
       "stream": "stderr",
       "text": [
        "WARNING:root:sweep 33: ['Recording stopped before completing the experiment epoch']\n"
       ]
      },
      {
       "output_type": "stream",
       "stream": "stdout",
       "text": [
        "714086883.0 extracted\n",
        "loading dataset into data structure...\n"
       ]
      },
      {
       "output_type": "stream",
       "stream": "stderr",
       "text": [
        "WARNING:root:sweep 27: ['Recording stopped before completing the experiment epoch']\n"
       ]
      },
      {
       "output_type": "stream",
       "stream": "stderr",
       "text": [
        "WARNING:root:sweep 28: ['Recording stopped before completing the experiment epoch']\n"
       ]
      },
      {
       "output_type": "stream",
       "stream": "stderr",
       "text": [
        "WARNING:root:sweep 29: ['Recording stopped before completing the experiment epoch']\n"
       ]
      },
      {
       "output_type": "stream",
       "stream": "stderr",
       "text": [
        "WARNING:root:sweep 30: ['Recording stopped before completing the experiment epoch']\n"
       ]
      },
      {
       "output_type": "stream",
       "stream": "stderr",
       "text": [
        "WARNING:root:sweep 31: ['Recording stopped before completing the experiment epoch']\n"
       ]
      },
      {
       "output_type": "stream",
       "stream": "stderr",
       "text": [
        "/nethome/kcni/ychen/.local/lib/python3.6/site-packages/ipfx/spike_features.py:87: RuntimeWarning: invalid value encountered in less\n",
        "  width_levels[width_levels < v[spike_indexes]] = thresh_to_peak_levels[width_levels < v[spike_indexes]]\n"
       ]
      },
      {
       "output_type": "stream",
       "stream": "stdout",
       "text": [
        "714106437.0 extracted\n",
        "loading dataset into data structure...\n"
       ]
      },
      {
       "output_type": "stream",
       "stream": "stderr",
       "text": [
        "WARNING:root:sweep 13: ['Recording stopped before completing the experiment epoch']\n"
       ]
      },
      {
       "output_type": "stream",
       "stream": "stdout",
       "text": [
        "714210189.0 extracted\n",
        "loading dataset into data structure...\n"
       ]
      },
      {
       "output_type": "stream",
       "stream": "stderr",
       "text": [
        "WARNING:root:sweep 5: ['Recording stopped before completing the experiment epoch']\n"
       ]
      },
      {
       "output_type": "stream",
       "stream": "stderr",
       "text": [
        "WARNING:root:sweep 7: ['Recording stopped before completing the experiment epoch']\n"
       ]
      },
      {
       "output_type": "stream",
       "stream": "stderr",
       "text": [
        "WARNING:root:sweep 8: ['Recording stopped before completing the experiment epoch']\n"
       ]
      },
      {
       "output_type": "stream",
       "stream": "stderr",
       "text": [
        "WARNING:root:sweep 10: ['Recording stopped before completing the experiment epoch']\n"
       ]
      },
      {
       "output_type": "stream",
       "stream": "stderr",
       "text": [
        "WARNING:root:sweep 11: ['Recording stopped before completing the experiment epoch']\n"
       ]
      },
      {
       "output_type": "stream",
       "stream": "stderr",
       "text": [
        "WARNING:root:sweep 18: ['Recording stopped before completing the experiment epoch']\n"
       ]
      },
      {
       "output_type": "stream",
       "stream": "stderr",
       "text": [
        "WARNING:root:sweep 19: ['Recording stopped before completing the experiment epoch']\n"
       ]
      },
      {
       "output_type": "stream",
       "stream": "stderr",
       "text": [
        "WARNING:root:sweep 20: ['Recording stopped before completing the experiment epoch']\n"
       ]
      },
      {
       "output_type": "stream",
       "stream": "stderr",
       "text": [
        "WARNING:root:sweep 22: ['Recording stopped before completing the experiment epoch']\n"
       ]
      },
      {
       "output_type": "stream",
       "stream": "stderr",
       "text": [
        "WARNING:root:sweep 34: ['Recording stopped before completing the experiment epoch']\n"
       ]
      },
      {
       "output_type": "stream",
       "stream": "stderr",
       "text": [
        "WARNING:root:sweep 36: ['Recording stopped before completing the experiment epoch']\n"
       ]
      },
      {
       "output_type": "stream",
       "stream": "stderr",
       "text": [
        "WARNING:root:sweep 48: ['Recording stopped before completing the experiment epoch']\n"
       ]
      },
      {
       "output_type": "stream",
       "stream": "stderr",
       "text": [
        "WARNING:root:sweep 51: ['Recording stopped before completing the experiment epoch']\n"
       ]
      },
      {
       "output_type": "stream",
       "stream": "stderr",
       "text": [
        "WARNING:root:sweep 69: ['Recording stopped before completing the experiment epoch']\n"
       ]
      },
      {
       "output_type": "stream",
       "stream": "stdout",
       "text": [
        "714228701.0 extracted\n",
        "loading dataset into data structure...\n"
       ]
      },
      {
       "output_type": "stream",
       "stream": "stderr",
       "text": [
        "WARNING:root:sweep 28: ['Recording stopped before completing the experiment epoch']\n"
       ]
      },
      {
       "output_type": "stream",
       "stream": "stderr",
       "text": [
        "WARNING:root:sweep 29: ['Recording stopped before completing the experiment epoch']\n"
       ]
      },
      {
       "output_type": "stream",
       "stream": "stderr",
       "text": [
        "WARNING:root:sweep 30: ['Recording stopped before completing the experiment epoch']\n"
       ]
      },
      {
       "output_type": "stream",
       "stream": "stderr",
       "text": [
        "WARNING:root:sweep 31: ['Recording stopped before completing the experiment epoch']\n"
       ]
      },
      {
       "output_type": "stream",
       "stream": "stderr",
       "text": [
        "WARNING:root:sweep 32: ['Recording stopped before completing the experiment epoch']\n"
       ]
      },
      {
       "output_type": "stream",
       "stream": "stderr",
       "text": [
        "/nethome/kcni/ychen/.local/lib/python3.6/site-packages/ipfx/spike_features.py:87: RuntimeWarning: invalid value encountered in less\n",
        "  width_levels[width_levels < v[spike_indexes]] = thresh_to_peak_levels[width_levels < v[spike_indexes]]\n"
       ]
      },
      {
       "output_type": "stream",
       "stream": "stdout",
       "text": [
        "714378460.0 extracted\n",
        "loading dataset into data structure...\n"
       ]
      },
      {
       "output_type": "stream",
       "stream": "stderr",
       "text": [
        "WARNING:root:sweep 29: ['Recording stopped before completing the experiment epoch']\n"
       ]
      },
      {
       "output_type": "stream",
       "stream": "stderr",
       "text": [
        "WARNING:root:sweep 30: ['Recording stopped before completing the experiment epoch']\n"
       ]
      },
      {
       "output_type": "stream",
       "stream": "stderr",
       "text": [
        "WARNING:root:sweep 31: ['Recording stopped before completing the experiment epoch']\n"
       ]
      },
      {
       "output_type": "stream",
       "stream": "stderr",
       "text": [
        "WARNING:root:sweep 32: ['Recording stopped before completing the experiment epoch']\n"
       ]
      },
      {
       "output_type": "stream",
       "stream": "stderr",
       "text": [
        "WARNING:root:sweep 33: ['Recording stopped before completing the experiment epoch']\n"
       ]
      },
      {
       "output_type": "stream",
       "stream": "stderr",
       "text": [
        "/nethome/kcni/ychen/.local/lib/python3.6/site-packages/ipfx/spike_features.py:87: RuntimeWarning: invalid value encountered in less\n",
        "  width_levels[width_levels < v[spike_indexes]] = thresh_to_peak_levels[width_levels < v[spike_indexes]]\n"
       ]
      },
      {
       "output_type": "stream",
       "stream": "stdout",
       "text": [
        "714379428.0 extracted\n",
        "loading dataset into data structure...\n"
       ]
      },
      {
       "output_type": "stream",
       "stream": "stderr",
       "text": [
        "WARNING:root:sweep 18: ['experiment epoch is missing', 'stim epoch is missing']\n"
       ]
      },
      {
       "output_type": "stream",
       "stream": "stdout",
       "text": [
        "714405422.0 extracted\n",
        "loading dataset into data structure...\n"
       ]
      },
      {
       "output_type": "stream",
       "stream": "stderr",
       "text": [
        "WARNING:root:sweep 25: ['Recording stopped before completing the experiment epoch']\n"
       ]
      },
      {
       "output_type": "stream",
       "stream": "stderr",
       "text": [
        "WARNING:root:sweep 26: ['Recording stopped before completing the experiment epoch']\n"
       ]
      },
      {
       "output_type": "stream",
       "stream": "stderr",
       "text": [
        "WARNING:root:sweep 27: ['Recording stopped before completing the experiment epoch']\n"
       ]
      },
      {
       "output_type": "stream",
       "stream": "stderr",
       "text": [
        "WARNING:root:sweep 28: ['Recording stopped before completing the experiment epoch']\n"
       ]
      },
      {
       "output_type": "stream",
       "stream": "stderr",
       "text": [
        "WARNING:root:sweep 29: ['Recording stopped before completing the experiment epoch']\n"
       ]
      },
      {
       "output_type": "stream",
       "stream": "stdout",
       "text": [
        "714420127.0 extracted\n",
        "loading dataset into data structure...\n"
       ]
      },
      {
       "output_type": "stream",
       "stream": "stderr",
       "text": [
        "WARNING:root:sweep 26: ['Recording stopped before completing the experiment epoch']\n"
       ]
      },
      {
       "output_type": "stream",
       "stream": "stderr",
       "text": [
        "WARNING:root:sweep 27: ['Recording stopped before completing the experiment epoch']\n"
       ]
      },
      {
       "output_type": "stream",
       "stream": "stderr",
       "text": [
        "WARNING:root:sweep 28: ['Recording stopped before completing the experiment epoch']\n"
       ]
      },
      {
       "output_type": "stream",
       "stream": "stderr",
       "text": [
        "WARNING:root:sweep 29: ['Recording stopped before completing the experiment epoch']\n"
       ]
      },
      {
       "output_type": "stream",
       "stream": "stderr",
       "text": [
        "WARNING:root:sweep 30: ['Recording stopped before completing the experiment epoch']\n"
       ]
      },
      {
       "output_type": "stream",
       "stream": "stdout",
       "text": [
        "714462113.0 extracted\n",
        "loading dataset into data structure...\n"
       ]
      },
      {
       "output_type": "stream",
       "stream": "stderr",
       "text": [
        "WARNING:root:sweep 24: ['Recording stopped before completing the experiment epoch']\n"
       ]
      },
      {
       "output_type": "stream",
       "stream": "stderr",
       "text": [
        "WARNING:root:sweep 25: ['Recording stopped before completing the experiment epoch']\n"
       ]
      },
      {
       "output_type": "stream",
       "stream": "stderr",
       "text": [
        "WARNING:root:sweep 26: ['Recording stopped before completing the experiment epoch']\n"
       ]
      },
      {
       "output_type": "stream",
       "stream": "stderr",
       "text": [
        "WARNING:root:sweep 27: ['Recording stopped before completing the experiment epoch']\n"
       ]
      },
      {
       "output_type": "stream",
       "stream": "stderr",
       "text": [
        "WARNING:root:sweep 28: ['Recording stopped before completing the experiment epoch']\n"
       ]
      },
      {
       "output_type": "stream",
       "stream": "stdout",
       "text": [
        "714485370.0 extracted\n",
        "loading dataset into data structure...\n"
       ]
      },
      {
       "output_type": "stream",
       "stream": "stdout",
       "text": [
        "714493051.0 extracted\n",
        "loading dataset into data structure...\n"
       ]
      },
      {
       "output_type": "stream",
       "stream": "stderr",
       "text": [
        "WARNING:root:sweep 22: ['experiment epoch is missing', 'stim epoch is missing']\n"
       ]
      },
      {
       "output_type": "stream",
       "stream": "stderr",
       "text": [
        "WARNING:root:sweep 24: ['Recording stopped before completing the experiment epoch']\n"
       ]
      },
      {
       "output_type": "stream",
       "stream": "stderr",
       "text": [
        "WARNING:root:sweep 25: ['Recording stopped before completing the experiment epoch']\n"
       ]
      },
      {
       "output_type": "stream",
       "stream": "stderr",
       "text": [
        "WARNING:root:sweep 26: ['Recording stopped before completing the experiment epoch']\n"
       ]
      },
      {
       "output_type": "stream",
       "stream": "stderr",
       "text": [
        "WARNING:root:sweep 27: ['Recording stopped before completing the experiment epoch']\n"
       ]
      },
      {
       "output_type": "stream",
       "stream": "stderr",
       "text": [
        "WARNING:root:sweep 28: ['Recording stopped before completing the experiment epoch']\n"
       ]
      },
      {
       "output_type": "stream",
       "stream": "stdout",
       "text": [
        "714517612.0 extracted\n",
        "loading dataset into data structure...\n"
       ]
      },
      {
       "output_type": "stream",
       "stream": "stderr",
       "text": [
        "WARNING:root:sweep 27: ['Recording stopped before completing the experiment epoch']\n"
       ]
      },
      {
       "output_type": "stream",
       "stream": "stderr",
       "text": [
        "WARNING:root:sweep 28: ['Recording stopped before completing the experiment epoch']\n"
       ]
      },
      {
       "output_type": "stream",
       "stream": "stderr",
       "text": [
        "WARNING:root:sweep 29: ['Recording stopped before completing the experiment epoch']\n"
       ]
      },
      {
       "output_type": "stream",
       "stream": "stderr",
       "text": [
        "WARNING:root:sweep 30: ['Recording stopped before completing the experiment epoch']\n"
       ]
      },
      {
       "output_type": "stream",
       "stream": "stderr",
       "text": [
        "WARNING:root:sweep 31: ['Recording stopped before completing the experiment epoch']\n"
       ]
      },
      {
       "output_type": "stream",
       "stream": "stderr",
       "text": [
        "/nethome/kcni/ychen/.local/lib/python3.6/site-packages/ipfx/spike_features.py:87: RuntimeWarning: invalid value encountered in less\n",
        "  width_levels[width_levels < v[spike_indexes]] = thresh_to_peak_levels[width_levels < v[spike_indexes]]\n"
       ]
      },
      {
       "output_type": "stream",
       "stream": "stdout",
       "text": [
        "714601733.0 extracted\n",
        "loading dataset into data structure...\n"
       ]
      },
      {
       "output_type": "stream",
       "stream": "stdout",
       "text": [
        "714673962.0 extracted\n",
        "loading dataset into data structure...\n"
       ]
      },
      {
       "output_type": "stream",
       "stream": "stderr",
       "text": [
        "/nethome/kcni/ychen/.local/lib/python3.6/site-packages/ipfx/spike_features.py:87: RuntimeWarning: invalid value encountered in less\n",
        "  width_levels[width_levels < v[spike_indexes]] = thresh_to_peak_levels[width_levels < v[spike_indexes]]\n"
       ]
      },
      {
       "output_type": "stream",
       "stream": "stdout",
       "text": [
        "714701049.0 extracted\n",
        "loading dataset into data structure...\n"
       ]
      },
      {
       "output_type": "stream",
       "stream": "stderr",
       "text": [
        "WARNING:root:sweep 21: ['Recording stopped before completing the experiment epoch']\n"
       ]
      },
      {
       "output_type": "stream",
       "stream": "stderr",
       "text": [
        "WARNING:root:sweep 22: ['Recording stopped before completing the experiment epoch']\n"
       ]
      },
      {
       "output_type": "stream",
       "stream": "stderr",
       "text": [
        "WARNING:root:sweep 23: ['Recording stopped before completing the experiment epoch']\n"
       ]
      },
      {
       "output_type": "stream",
       "stream": "stderr",
       "text": [
        "WARNING:root:sweep 24: ['Recording stopped before completing the experiment epoch']\n"
       ]
      },
      {
       "output_type": "stream",
       "stream": "stderr",
       "text": [
        "WARNING:root:sweep 25: ['Recording stopped before completing the experiment epoch']\n"
       ]
      },
      {
       "output_type": "stream",
       "stream": "stdout",
       "text": [
        "714701212.0 extracted\n",
        "loading dataset into data structure...\n"
       ]
      },
      {
       "output_type": "stream",
       "stream": "stderr",
       "text": [
        "WARNING:root:sweep 31: ['experiment epoch is missing', 'stim epoch is missing']\n"
       ]
      },
      {
       "output_type": "stream",
       "stream": "stderr",
       "text": [
        "WARNING:root:sweep 32: ['Recording stopped before completing the experiment epoch']\n"
       ]
      },
      {
       "output_type": "stream",
       "stream": "stderr",
       "text": [
        "WARNING:root:sweep 33: ['Recording stopped before completing the experiment epoch']\n"
       ]
      },
      {
       "output_type": "stream",
       "stream": "stderr",
       "text": [
        "WARNING:root:sweep 34: ['Recording stopped before completing the experiment epoch']\n"
       ]
      },
      {
       "output_type": "stream",
       "stream": "stderr",
       "text": [
        "WARNING:root:sweep 35: ['Recording stopped before completing the experiment epoch']\n"
       ]
      },
      {
       "output_type": "stream",
       "stream": "stderr",
       "text": [
        "WARNING:root:sweep 36: ['Recording stopped before completing the experiment epoch']\n"
       ]
      },
      {
       "output_type": "stream",
       "stream": "stdout",
       "text": [
        "714701489.0 extracted\n",
        "loading dataset into data structure...\n"
       ]
      },
      {
       "output_type": "stream",
       "stream": "stderr",
       "text": [
        "WARNING:root:sweep 25: ['Recording stopped before completing the experiment epoch']\n"
       ]
      },
      {
       "output_type": "stream",
       "stream": "stderr",
       "text": [
        "WARNING:root:sweep 26: ['Recording stopped before completing the experiment epoch']\n"
       ]
      },
      {
       "output_type": "stream",
       "stream": "stderr",
       "text": [
        "WARNING:root:sweep 27: ['Recording stopped before completing the experiment epoch']\n"
       ]
      },
      {
       "output_type": "stream",
       "stream": "stderr",
       "text": [
        "WARNING:root:sweep 28: ['Recording stopped before completing the experiment epoch']\n"
       ]
      },
      {
       "output_type": "stream",
       "stream": "stderr",
       "text": [
        "WARNING:root:sweep 29: ['Recording stopped before completing the experiment epoch']\n"
       ]
      },
      {
       "output_type": "stream",
       "stream": "stderr",
       "text": [
        "WARNING:root:sweep 33: ['Recording stopped before completing the experiment epoch']\n"
       ]
      },
      {
       "output_type": "stream",
       "stream": "stdout",
       "text": [
        "714717722.0 extracted\n",
        "loading dataset into data structure...\n"
       ]
      },
      {
       "output_type": "stream",
       "stream": "stderr",
       "text": [
        "WARNING:root:sweep 27: ['Recording stopped before completing the experiment epoch']\n"
       ]
      },
      {
       "output_type": "stream",
       "stream": "stderr",
       "text": [
        "WARNING:root:sweep 28: ['Recording stopped before completing the experiment epoch']\n"
       ]
      },
      {
       "output_type": "stream",
       "stream": "stderr",
       "text": [
        "WARNING:root:sweep 29: ['Recording stopped before completing the experiment epoch']\n"
       ]
      },
      {
       "output_type": "stream",
       "stream": "stderr",
       "text": [
        "WARNING:root:sweep 30: ['Recording stopped before completing the experiment epoch']\n"
       ]
      },
      {
       "output_type": "stream",
       "stream": "stderr",
       "text": [
        "WARNING:root:sweep 31: ['Recording stopped before completing the experiment epoch']\n"
       ]
      },
      {
       "output_type": "stream",
       "stream": "stdout",
       "text": [
        "714722191.0 extracted\n",
        "loading dataset into data structure...\n"
       ]
      },
      {
       "output_type": "stream",
       "stream": "stderr",
       "text": [
        "WARNING:root:sweep 24: ['Recording stopped before completing the experiment epoch']\n"
       ]
      },
      {
       "output_type": "stream",
       "stream": "stderr",
       "text": [
        "WARNING:root:sweep 25: ['Recording stopped before completing the experiment epoch']\n"
       ]
      },
      {
       "output_type": "stream",
       "stream": "stderr",
       "text": [
        "WARNING:root:sweep 26: ['Recording stopped before completing the experiment epoch']\n"
       ]
      },
      {
       "output_type": "stream",
       "stream": "stderr",
       "text": [
        "WARNING:root:sweep 27: ['Recording stopped before completing the experiment epoch']\n"
       ]
      },
      {
       "output_type": "stream",
       "stream": "stderr",
       "text": [
        "WARNING:root:sweep 28: ['Recording stopped before completing the experiment epoch']\n"
       ]
      },
      {
       "output_type": "stream",
       "stream": "stdout",
       "text": [
        "714722221.0 extracted\n",
        "loading dataset into data structure...\n"
       ]
      },
      {
       "output_type": "stream",
       "stream": "stderr",
       "text": [
        "WARNING:root:sweep 25: ['Recording stopped before completing the experiment epoch']\n"
       ]
      },
      {
       "output_type": "stream",
       "stream": "stderr",
       "text": [
        "WARNING:root:sweep 26: ['Recording stopped before completing the experiment epoch']\n"
       ]
      },
      {
       "output_type": "stream",
       "stream": "stderr",
       "text": [
        "WARNING:root:sweep 27: ['Recording stopped before completing the experiment epoch']\n"
       ]
      },
      {
       "output_type": "stream",
       "stream": "stderr",
       "text": [
        "WARNING:root:sweep 28: ['Recording stopped before completing the experiment epoch']\n"
       ]
      },
      {
       "output_type": "stream",
       "stream": "stderr",
       "text": [
        "WARNING:root:sweep 29: ['Recording stopped before completing the experiment epoch']\n"
       ]
      },
      {
       "output_type": "stream",
       "stream": "stdout",
       "text": [
        "714732199.0 extracted\n",
        "loading dataset into data structure...\n"
       ]
      },
      {
       "output_type": "stream",
       "stream": "stderr",
       "text": [
        "WARNING:root:sweep 25: ['Recording stopped before completing the experiment epoch']\n"
       ]
      },
      {
       "output_type": "stream",
       "stream": "stderr",
       "text": [
        "WARNING:root:sweep 26: ['Recording stopped before completing the experiment epoch']\n"
       ]
      },
      {
       "output_type": "stream",
       "stream": "stderr",
       "text": [
        "WARNING:root:sweep 27: ['Recording stopped before completing the experiment epoch']\n"
       ]
      },
      {
       "output_type": "stream",
       "stream": "stderr",
       "text": [
        "WARNING:root:sweep 28: ['Recording stopped before completing the experiment epoch']\n"
       ]
      },
      {
       "output_type": "stream",
       "stream": "stderr",
       "text": [
        "WARNING:root:sweep 29: ['Recording stopped before completing the experiment epoch']\n"
       ]
      },
      {
       "output_type": "stream",
       "stream": "stdout",
       "text": [
        "714743771.0 extracted\n",
        "loading dataset into data structure...\n"
       ]
      },
      {
       "output_type": "stream",
       "stream": "stderr",
       "text": [
        "WARNING:root:sweep 23: ['Recording stopped before completing the experiment epoch']\n"
       ]
      },
      {
       "output_type": "stream",
       "stream": "stderr",
       "text": [
        "WARNING:root:sweep 24: ['Recording stopped before completing the experiment epoch']\n"
       ]
      },
      {
       "output_type": "stream",
       "stream": "stderr",
       "text": [
        "WARNING:root:sweep 25: ['Recording stopped before completing the experiment epoch']\n"
       ]
      },
      {
       "output_type": "stream",
       "stream": "stderr",
       "text": [
        "WARNING:root:sweep 26: ['Recording stopped before completing the experiment epoch']\n"
       ]
      },
      {
       "output_type": "stream",
       "stream": "stderr",
       "text": [
        "WARNING:root:sweep 27: ['Recording stopped before completing the experiment epoch']\n"
       ]
      },
      {
       "output_type": "stream",
       "stream": "stdout",
       "text": [
        "714755043.0 extracted\n",
        "loading dataset into data structure...\n"
       ]
      },
      {
       "output_type": "stream",
       "stream": "stderr",
       "text": [
        "WARNING:root:sweep 22: ['Recording stopped before completing the experiment epoch']\n"
       ]
      },
      {
       "output_type": "stream",
       "stream": "stderr",
       "text": [
        "WARNING:root:sweep 23: ['Recording stopped before completing the experiment epoch']\n"
       ]
      },
      {
       "output_type": "stream",
       "stream": "stderr",
       "text": [
        "WARNING:root:sweep 24: ['Recording stopped before completing the experiment epoch']\n"
       ]
      },
      {
       "output_type": "stream",
       "stream": "stderr",
       "text": [
        "WARNING:root:sweep 25: ['Recording stopped before completing the experiment epoch']\n"
       ]
      },
      {
       "output_type": "stream",
       "stream": "stderr",
       "text": [
        "WARNING:root:sweep 26: ['Recording stopped before completing the experiment epoch']\n"
       ]
      },
      {
       "output_type": "stream",
       "stream": "stdout",
       "text": [
        "714755572.0 extracted\n",
        "loading dataset into data structure...\n"
       ]
      },
      {
       "output_type": "stream",
       "stream": "stderr",
       "text": [
        "WARNING:root:sweep 25: ['Recording stopped before completing the experiment epoch']\n"
       ]
      },
      {
       "output_type": "stream",
       "stream": "stderr",
       "text": [
        "WARNING:root:sweep 26: ['Recording stopped before completing the experiment epoch']\n"
       ]
      },
      {
       "output_type": "stream",
       "stream": "stderr",
       "text": [
        "WARNING:root:sweep 27: ['Recording stopped before completing the experiment epoch']\n"
       ]
      },
      {
       "output_type": "stream",
       "stream": "stderr",
       "text": [
        "WARNING:root:sweep 28: ['Recording stopped before completing the experiment epoch']\n"
       ]
      },
      {
       "output_type": "stream",
       "stream": "stderr",
       "text": [
        "WARNING:root:sweep 29: ['Recording stopped before completing the experiment epoch']\n"
       ]
      },
      {
       "output_type": "stream",
       "stream": "stdout",
       "text": [
        "714904858.0 extracted\n",
        "loading dataset into data structure...\n"
       ]
      },
      {
       "output_type": "stream",
       "stream": "stderr",
       "text": [
        "WARNING:root:sweep 23: ['Recording stopped before completing the experiment epoch']\n"
       ]
      },
      {
       "output_type": "stream",
       "stream": "stderr",
       "text": [
        "WARNING:root:sweep 24: ['Recording stopped before completing the experiment epoch']\n"
       ]
      },
      {
       "output_type": "stream",
       "stream": "stderr",
       "text": [
        "WARNING:root:sweep 25: ['Recording stopped before completing the experiment epoch']\n"
       ]
      },
      {
       "output_type": "stream",
       "stream": "stderr",
       "text": [
        "WARNING:root:sweep 26: ['Recording stopped before completing the experiment epoch']\n"
       ]
      },
      {
       "output_type": "stream",
       "stream": "stderr",
       "text": [
        "WARNING:root:sweep 27: ['Recording stopped before completing the experiment epoch']\n"
       ]
      },
      {
       "output_type": "stream",
       "stream": "stdout",
       "text": [
        "714932261.0 extracted\n",
        "loading dataset into data structure...\n"
       ]
      },
      {
       "output_type": "stream",
       "stream": "stderr",
       "text": [
        "WARNING:root:sweep 32: ['Recording stopped before completing the experiment epoch']\n"
       ]
      },
      {
       "output_type": "stream",
       "stream": "stderr",
       "text": [
        "WARNING:root:sweep 33: ['Recording stopped before completing the experiment epoch']\n"
       ]
      },
      {
       "output_type": "stream",
       "stream": "stderr",
       "text": [
        "WARNING:root:sweep 34: ['Recording stopped before completing the experiment epoch']\n"
       ]
      },
      {
       "output_type": "stream",
       "stream": "stderr",
       "text": [
        "WARNING:root:sweep 35: ['Recording stopped before completing the experiment epoch']\n"
       ]
      },
      {
       "output_type": "stream",
       "stream": "stderr",
       "text": [
        "WARNING:root:sweep 36: ['Recording stopped before completing the experiment epoch']\n"
       ]
      },
      {
       "output_type": "stream",
       "stream": "stdout",
       "text": [
        "714936352.0 extracted\n",
        "loading dataset into data structure...\n"
       ]
      },
      {
       "output_type": "stream",
       "stream": "stderr",
       "text": [
        "WARNING:root:sweep 29: ['Recording stopped before completing the experiment epoch']\n"
       ]
      },
      {
       "output_type": "stream",
       "stream": "stderr",
       "text": [
        "WARNING:root:sweep 30: ['Recording stopped before completing the experiment epoch']\n"
       ]
      },
      {
       "output_type": "stream",
       "stream": "stderr",
       "text": [
        "WARNING:root:sweep 31: ['Recording stopped before completing the experiment epoch']\n"
       ]
      },
      {
       "output_type": "stream",
       "stream": "stderr",
       "text": [
        "WARNING:root:sweep 32: ['Recording stopped before completing the experiment epoch']\n"
       ]
      },
      {
       "output_type": "stream",
       "stream": "stderr",
       "text": [
        "WARNING:root:sweep 33: ['Recording stopped before completing the experiment epoch']\n"
       ]
      },
      {
       "output_type": "stream",
       "stream": "stdout",
       "text": [
        "714953409.0 extracted\n",
        "loading dataset into data structure...\n"
       ]
      },
      {
       "output_type": "stream",
       "stream": "stderr",
       "text": [
        "WARNING:root:sweep 26: ['Recording stopped before completing the experiment epoch']\n"
       ]
      },
      {
       "output_type": "stream",
       "stream": "stderr",
       "text": [
        "WARNING:root:sweep 27: ['Recording stopped before completing the experiment epoch']\n"
       ]
      },
      {
       "output_type": "stream",
       "stream": "stderr",
       "text": [
        "WARNING:root:sweep 28: ['Recording stopped before completing the experiment epoch']\n"
       ]
      },
      {
       "output_type": "stream",
       "stream": "stderr",
       "text": [
        "WARNING:root:sweep 29: ['Recording stopped before completing the experiment epoch']\n"
       ]
      },
      {
       "output_type": "stream",
       "stream": "stderr",
       "text": [
        "WARNING:root:sweep 30: ['Recording stopped before completing the experiment epoch']\n"
       ]
      },
      {
       "output_type": "stream",
       "stream": "stdout",
       "text": [
        "714976613.0 extracted\n",
        "loading dataset into data structure...\n"
       ]
      },
      {
       "output_type": "stream",
       "stream": "stderr",
       "text": [
        "WARNING:root:sweep 20: ['Recording stopped before completing the experiment epoch']\n"
       ]
      },
      {
       "output_type": "stream",
       "stream": "stderr",
       "text": [
        "WARNING:root:sweep 21: ['Recording stopped before completing the experiment epoch']\n"
       ]
      },
      {
       "output_type": "stream",
       "stream": "stderr",
       "text": [
        "WARNING:root:sweep 22: ['Recording stopped before completing the experiment epoch']\n"
       ]
      },
      {
       "output_type": "stream",
       "stream": "stderr",
       "text": [
        "WARNING:root:sweep 23: ['Recording stopped before completing the experiment epoch']\n"
       ]
      },
      {
       "output_type": "stream",
       "stream": "stderr",
       "text": [
        "WARNING:root:sweep 24: ['Recording stopped before completing the experiment epoch']\n"
       ]
      },
      {
       "output_type": "stream",
       "stream": "stderr",
       "text": [
        "WARNING:root:sweep 25: ['Recording stopped before completing the experiment epoch']\n"
       ]
      },
      {
       "output_type": "stream",
       "stream": "stdout",
       "text": [
        "714977195.0 extracted\n",
        "loading dataset into data structure...\n"
       ]
      },
      {
       "output_type": "stream",
       "stream": "stderr",
       "text": [
        "WARNING:root:sweep 24: ['Recording stopped before completing the experiment epoch']\n"
       ]
      },
      {
       "output_type": "stream",
       "stream": "stderr",
       "text": [
        "WARNING:root:sweep 25: ['Recording stopped before completing the experiment epoch']\n"
       ]
      },
      {
       "output_type": "stream",
       "stream": "stderr",
       "text": [
        "WARNING:root:sweep 26: ['Recording stopped before completing the experiment epoch']\n"
       ]
      },
      {
       "output_type": "stream",
       "stream": "stderr",
       "text": [
        "WARNING:root:sweep 27: ['Recording stopped before completing the experiment epoch']\n"
       ]
      },
      {
       "output_type": "stream",
       "stream": "stderr",
       "text": [
        "WARNING:root:sweep 28: ['Recording stopped before completing the experiment epoch']\n"
       ]
      },
      {
       "output_type": "stream",
       "stream": "stdout",
       "text": [
        "715036882.0 extracted\n",
        "loading dataset into data structure...\n"
       ]
      },
      {
       "output_type": "stream",
       "stream": "stdout",
       "text": [
        "715056519.0 extracted\n",
        "loading dataset into data structure...\n"
       ]
      },
      {
       "output_type": "stream",
       "stream": "stderr",
       "text": [
        "WARNING:root:sweep 24: ['Recording stopped before completing the experiment epoch']\n"
       ]
      },
      {
       "output_type": "stream",
       "stream": "stderr",
       "text": [
        "WARNING:root:sweep 25: ['Recording stopped before completing the experiment epoch']\n"
       ]
      },
      {
       "output_type": "stream",
       "stream": "stderr",
       "text": [
        "WARNING:root:sweep 26: ['Recording stopped before completing the experiment epoch']\n"
       ]
      },
      {
       "output_type": "stream",
       "stream": "stderr",
       "text": [
        "WARNING:root:sweep 27: ['Recording stopped before completing the experiment epoch']\n"
       ]
      },
      {
       "output_type": "stream",
       "stream": "stderr",
       "text": [
        "WARNING:root:sweep 28: ['Recording stopped before completing the experiment epoch']\n"
       ]
      },
      {
       "output_type": "stream",
       "stream": "stdout",
       "text": [
        "715063865.0 extracted\n",
        "loading dataset into data structure...\n"
       ]
      },
      {
       "output_type": "stream",
       "stream": "stderr",
       "text": [
        "/nethome/kcni/ychen/.local/lib/python3.6/site-packages/ipfx/spike_features.py:87: RuntimeWarning: invalid value encountered in less\n",
        "  width_levels[width_levels < v[spike_indexes]] = thresh_to_peak_levels[width_levels < v[spike_indexes]]\n"
       ]
      },
      {
       "output_type": "stream",
       "stream": "stdout",
       "text": [
        "715072625.0 extracted\n",
        "loading dataset into data structure...\n"
       ]
      },
      {
       "output_type": "stream",
       "stream": "stderr",
       "text": [
        "WARNING:root:sweep 22: ['Recording stopped before completing the experiment epoch']\n"
       ]
      },
      {
       "output_type": "stream",
       "stream": "stderr",
       "text": [
        "WARNING:root:sweep 23: ['Recording stopped before completing the experiment epoch']\n"
       ]
      },
      {
       "output_type": "stream",
       "stream": "stderr",
       "text": [
        "WARNING:root:sweep 24: ['Recording stopped before completing the experiment epoch']\n"
       ]
      },
      {
       "output_type": "stream",
       "stream": "stderr",
       "text": [
        "WARNING:root:sweep 25: ['Recording stopped before completing the experiment epoch']\n"
       ]
      },
      {
       "output_type": "stream",
       "stream": "stdout",
       "text": [
        "715092854.0 extracted\n",
        "loading dataset into data structure...\n"
       ]
      },
      {
       "output_type": "stream",
       "stream": "stderr",
       "text": [
        "WARNING:root:sweep 31: ['Recording stopped before completing the experiment epoch']\n"
       ]
      },
      {
       "output_type": "stream",
       "stream": "stderr",
       "text": [
        "WARNING:root:sweep 32: ['Recording stopped before completing the experiment epoch']\n"
       ]
      },
      {
       "output_type": "stream",
       "stream": "stderr",
       "text": [
        "WARNING:root:sweep 33: ['Recording stopped before completing the experiment epoch']\n"
       ]
      },
      {
       "output_type": "stream",
       "stream": "stderr",
       "text": [
        "WARNING:root:sweep 34: ['Recording stopped before completing the experiment epoch']\n"
       ]
      },
      {
       "output_type": "stream",
       "stream": "stderr",
       "text": [
        "WARNING:root:sweep 35: ['Recording stopped before completing the experiment epoch']\n"
       ]
      },
      {
       "output_type": "stream",
       "stream": "stderr",
       "text": [
        "/nethome/kcni/ychen/.local/lib/python3.6/site-packages/ipfx/spike_features.py:87: RuntimeWarning: invalid value encountered in less\n",
        "  width_levels[width_levels < v[spike_indexes]] = thresh_to_peak_levels[width_levels < v[spike_indexes]]\n"
       ]
      },
      {
       "output_type": "stream",
       "stream": "stdout",
       "text": [
        "715103050.0 extracted\n",
        "loading dataset into data structure...\n"
       ]
      },
      {
       "output_type": "stream",
       "stream": "stderr",
       "text": [
        "WARNING:root:sweep 28: ['Recording stopped before completing the experiment epoch']\n"
       ]
      },
      {
       "output_type": "stream",
       "stream": "stderr",
       "text": [
        "WARNING:root:sweep 29: ['Recording stopped before completing the experiment epoch']\n"
       ]
      },
      {
       "output_type": "stream",
       "stream": "stderr",
       "text": [
        "WARNING:root:sweep 30: ['Recording stopped before completing the experiment epoch']\n"
       ]
      },
      {
       "output_type": "stream",
       "stream": "stderr",
       "text": [
        "WARNING:root:sweep 31: ['Recording stopped before completing the experiment epoch']\n"
       ]
      },
      {
       "output_type": "stream",
       "stream": "stderr",
       "text": [
        "WARNING:root:sweep 32: ['Recording stopped before completing the experiment epoch']\n"
       ]
      },
      {
       "output_type": "stream",
       "stream": "stdout",
       "text": [
        "715106551.0 extracted\n",
        "loading dataset into data structure...\n"
       ]
      },
      {
       "output_type": "stream",
       "stream": "stderr",
       "text": [
        "WARNING:root:sweep 32: ['Recording stopped before completing the experiment epoch']\n"
       ]
      },
      {
       "output_type": "stream",
       "stream": "stderr",
       "text": [
        "WARNING:root:sweep 33: ['Recording stopped before completing the experiment epoch']\n"
       ]
      },
      {
       "output_type": "stream",
       "stream": "stderr",
       "text": [
        "WARNING:root:sweep 34: ['Recording stopped before completing the experiment epoch']\n"
       ]
      },
      {
       "output_type": "stream",
       "stream": "stderr",
       "text": [
        "WARNING:root:sweep 35: ['Recording stopped before completing the experiment epoch']\n"
       ]
      },
      {
       "output_type": "stream",
       "stream": "stderr",
       "text": [
        "WARNING:root:sweep 36: ['Recording stopped before completing the experiment epoch']\n"
       ]
      },
      {
       "output_type": "stream",
       "stream": "stdout",
       "text": [
        "715140522.0 extracted\n",
        "loading dataset into data structure...\n"
       ]
      },
      {
       "output_type": "stream",
       "stream": "stderr",
       "text": [
        "WARNING:root:sweep 24: ['Recording stopped before completing the experiment epoch']\n"
       ]
      },
      {
       "output_type": "stream",
       "stream": "stderr",
       "text": [
        "WARNING:root:sweep 25: ['Recording stopped before completing the experiment epoch']\n"
       ]
      },
      {
       "output_type": "stream",
       "stream": "stderr",
       "text": [
        "WARNING:root:sweep 26: ['Recording stopped before completing the experiment epoch']\n"
       ]
      },
      {
       "output_type": "stream",
       "stream": "stderr",
       "text": [
        "WARNING:root:sweep 27: ['Recording stopped before completing the experiment epoch']\n"
       ]
      },
      {
       "output_type": "stream",
       "stream": "stderr",
       "text": [
        "WARNING:root:sweep 28: ['Recording stopped before completing the experiment epoch']\n"
       ]
      },
      {
       "output_type": "stream",
       "stream": "stderr",
       "text": [
        "WARNING:root:sweep 29: ['Recording stopped before completing the experiment epoch']\n"
       ]
      },
      {
       "output_type": "stream",
       "stream": "stdout",
       "text": [
        "715148321.0 extracted\n",
        "loading dataset into data structure...\n"
       ]
      },
      {
       "output_type": "stream",
       "stream": "stderr",
       "text": [
        "WARNING:root:sweep 21: ['Recording stopped before completing the experiment epoch']\n"
       ]
      },
      {
       "output_type": "stream",
       "stream": "stderr",
       "text": [
        "WARNING:root:sweep 22: ['Recording stopped before completing the experiment epoch']\n"
       ]
      },
      {
       "output_type": "stream",
       "stream": "stderr",
       "text": [
        "WARNING:root:sweep 23: ['Recording stopped before completing the experiment epoch']\n"
       ]
      },
      {
       "output_type": "stream",
       "stream": "stderr",
       "text": [
        "WARNING:root:sweep 24: ['Recording stopped before completing the experiment epoch']\n"
       ]
      },
      {
       "output_type": "stream",
       "stream": "stderr",
       "text": [
        "WARNING:root:sweep 25: ['Recording stopped before completing the experiment epoch']\n"
       ]
      },
      {
       "output_type": "stream",
       "stream": "stderr",
       "text": [
        "WARNING:root:sweep 26: ['Recording stopped before completing the experiment epoch']\n"
       ]
      },
      {
       "output_type": "stream",
       "stream": "stderr",
       "text": [
        "WARNING:root:sweep 27: ['Recording stopped before completing the experiment epoch']\n"
       ]
      },
      {
       "output_type": "stream",
       "stream": "stderr",
       "text": [
        "WARNING:root:sweep 28: ['Recording stopped before completing the experiment epoch']\n"
       ]
      },
      {
       "output_type": "stream",
       "stream": "stdout",
       "text": [
        "715156169.0 extracted\n",
        "loading dataset into data structure...\n"
       ]
      },
      {
       "output_type": "stream",
       "stream": "stderr",
       "text": [
        "WARNING:root:sweep 24: ['Recording stopped before completing the experiment epoch']\n"
       ]
      },
      {
       "output_type": "stream",
       "stream": "stderr",
       "text": [
        "WARNING:root:sweep 25: ['Recording stopped before completing the experiment epoch']\n"
       ]
      },
      {
       "output_type": "stream",
       "stream": "stderr",
       "text": [
        "WARNING:root:sweep 26: ['Recording stopped before completing the experiment epoch']\n"
       ]
      },
      {
       "output_type": "stream",
       "stream": "stderr",
       "text": [
        "WARNING:root:sweep 27: ['Recording stopped before completing the experiment epoch']\n"
       ]
      },
      {
       "output_type": "stream",
       "stream": "stderr",
       "text": [
        "WARNING:root:sweep 28: ['Recording stopped before completing the experiment epoch']\n"
       ]
      },
      {
       "output_type": "stream",
       "stream": "stdout",
       "text": [
        "715158850.0 extracted\n",
        "loading dataset into data structure...\n"
       ]
      },
      {
       "output_type": "stream",
       "stream": "stderr",
       "text": [
        "WARNING:root:sweep 26: ['Recording stopped before completing the experiment epoch']\n"
       ]
      },
      {
       "output_type": "stream",
       "stream": "stderr",
       "text": [
        "WARNING:root:sweep 27: ['Recording stopped before completing the experiment epoch']\n"
       ]
      },
      {
       "output_type": "stream",
       "stream": "stderr",
       "text": [
        "WARNING:root:sweep 28: ['Recording stopped before completing the experiment epoch']\n"
       ]
      },
      {
       "output_type": "stream",
       "stream": "stderr",
       "text": [
        "WARNING:root:sweep 29: ['Recording stopped before completing the experiment epoch']\n"
       ]
      },
      {
       "output_type": "stream",
       "stream": "stderr",
       "text": [
        "WARNING:root:sweep 30: ['Recording stopped before completing the experiment epoch']\n"
       ]
      },
      {
       "output_type": "stream",
       "stream": "stderr",
       "text": [
        "WARNING:root:sweep 31: ['Recording stopped before completing the experiment epoch']\n"
       ]
      },
      {
       "output_type": "stream",
       "stream": "stdout",
       "text": [
        "715159651.0 extracted\n",
        "loading dataset into data structure...\n"
       ]
      },
      {
       "output_type": "stream",
       "stream": "stdout",
       "text": [
        "715161134.0 extracted\n",
        "loading dataset into data structure...\n"
       ]
      },
      {
       "output_type": "stream",
       "stream": "stderr",
       "text": [
        "WARNING:root:sweep 24: ['Recording stopped before completing the experiment epoch']\n"
       ]
      },
      {
       "output_type": "stream",
       "stream": "stderr",
       "text": [
        "WARNING:root:sweep 25: ['Recording stopped before completing the experiment epoch']\n"
       ]
      },
      {
       "output_type": "stream",
       "stream": "stderr",
       "text": [
        "WARNING:root:sweep 26: ['Recording stopped before completing the experiment epoch']\n"
       ]
      },
      {
       "output_type": "stream",
       "stream": "stderr",
       "text": [
        "WARNING:root:sweep 27: ['Recording stopped before completing the experiment epoch']\n"
       ]
      },
      {
       "output_type": "stream",
       "stream": "stderr",
       "text": [
        "WARNING:root:sweep 28: ['Recording stopped before completing the experiment epoch']\n"
       ]
      },
      {
       "output_type": "stream",
       "stream": "stdout",
       "text": [
        "715163712.0 extracted\n",
        "loading dataset into data structure...\n"
       ]
      },
      {
       "output_type": "stream",
       "stream": "stderr",
       "text": [
        "WARNING:root:sweep 28: ['Recording stopped before completing the experiment epoch']\n"
       ]
      },
      {
       "output_type": "stream",
       "stream": "stderr",
       "text": [
        "WARNING:root:sweep 29: ['Recording stopped before completing the experiment epoch']\n"
       ]
      },
      {
       "output_type": "stream",
       "stream": "stderr",
       "text": [
        "WARNING:root:sweep 30: ['Recording stopped before completing the experiment epoch']\n"
       ]
      },
      {
       "output_type": "stream",
       "stream": "stderr",
       "text": [
        "WARNING:root:sweep 31: ['Recording stopped before completing the experiment epoch']\n"
       ]
      },
      {
       "output_type": "stream",
       "stream": "stderr",
       "text": [
        "WARNING:root:sweep 32: ['Recording stopped before completing the experiment epoch']\n"
       ]
      },
      {
       "output_type": "stream",
       "stream": "stderr",
       "text": [
        "/nethome/kcni/ychen/.local/lib/python3.6/site-packages/ipfx/spike_features.py:87: RuntimeWarning: invalid value encountered in less\n",
        "  width_levels[width_levels < v[spike_indexes]] = thresh_to_peak_levels[width_levels < v[spike_indexes]]\n"
       ]
      },
      {
       "output_type": "stream",
       "stream": "stdout",
       "text": [
        "715163795.0 extracted\n",
        "loading dataset into data structure...\n"
       ]
      },
      {
       "output_type": "stream",
       "stream": "stdout",
       "text": [
        "716008621.0 extracted\n",
        "loading dataset into data structure...\n"
       ]
      },
      {
       "output_type": "stream",
       "stream": "stderr",
       "text": [
        "WARNING:root:sweep 25: ['Recording stopped before completing the experiment epoch']\n"
       ]
      },
      {
       "output_type": "stream",
       "stream": "stderr",
       "text": [
        "WARNING:root:sweep 26: ['Recording stopped before completing the experiment epoch']\n"
       ]
      },
      {
       "output_type": "stream",
       "stream": "stderr",
       "text": [
        "WARNING:root:sweep 27: ['Recording stopped before completing the experiment epoch']\n"
       ]
      },
      {
       "output_type": "stream",
       "stream": "stderr",
       "text": [
        "WARNING:root:sweep 28: ['Recording stopped before completing the experiment epoch']\n"
       ]
      },
      {
       "output_type": "stream",
       "stream": "stderr",
       "text": [
        "WARNING:root:sweep 29: ['Recording stopped before completing the experiment epoch']\n"
       ]
      },
      {
       "output_type": "stream",
       "stream": "stdout",
       "text": [
        "716233643.0 extracted\n",
        "loading dataset into data structure...\n"
       ]
      },
      {
       "output_type": "stream",
       "stream": "stderr",
       "text": [
        "WARNING:root:sweep 22: ['Recording stopped before completing the experiment epoch']\n"
       ]
      },
      {
       "output_type": "stream",
       "stream": "stderr",
       "text": [
        "WARNING:root:sweep 23: ['Recording stopped before completing the experiment epoch']\n"
       ]
      },
      {
       "output_type": "stream",
       "stream": "stderr",
       "text": [
        "WARNING:root:sweep 24: ['Recording stopped before completing the experiment epoch']\n"
       ]
      },
      {
       "output_type": "stream",
       "stream": "stderr",
       "text": [
        "WARNING:root:sweep 25: ['Recording stopped before completing the experiment epoch']\n"
       ]
      },
      {
       "output_type": "stream",
       "stream": "stderr",
       "text": [
        "WARNING:root:sweep 26: ['Recording stopped before completing the experiment epoch']\n"
       ]
      },
      {
       "output_type": "stream",
       "stream": "stderr",
       "text": [
        "WARNING:root:sweep 27: ['Recording stopped before completing the experiment epoch']\n"
       ]
      },
      {
       "output_type": "stream",
       "stream": "stdout",
       "text": [
        "716280227.0 extracted\n",
        "loading dataset into data structure...\n"
       ]
      },
      {
       "output_type": "stream",
       "stream": "stderr",
       "text": [
        "WARNING:root:sweep 24: ['Recording stopped before completing the experiment epoch']\n"
       ]
      },
      {
       "output_type": "stream",
       "stream": "stderr",
       "text": [
        "WARNING:root:sweep 25: ['Recording stopped before completing the experiment epoch']\n"
       ]
      },
      {
       "output_type": "stream",
       "stream": "stderr",
       "text": [
        "WARNING:root:sweep 26: ['Recording stopped before completing the experiment epoch']\n"
       ]
      },
      {
       "output_type": "stream",
       "stream": "stderr",
       "text": [
        "WARNING:root:sweep 27: ['Recording stopped before completing the experiment epoch']\n"
       ]
      },
      {
       "output_type": "stream",
       "stream": "stderr",
       "text": [
        "WARNING:root:sweep 28: ['Recording stopped before completing the experiment epoch']\n"
       ]
      },
      {
       "output_type": "stream",
       "stream": "stdout",
       "text": [
        "716298521.0 extracted\n",
        "loading dataset into data structure...\n"
       ]
      },
      {
       "output_type": "stream",
       "stream": "stderr",
       "text": [
        "WARNING:root:sweep 26: ['Recording stopped before completing the experiment epoch']\n"
       ]
      },
      {
       "output_type": "stream",
       "stream": "stderr",
       "text": [
        "WARNING:root:sweep 27: ['Recording stopped before completing the experiment epoch']\n"
       ]
      },
      {
       "output_type": "stream",
       "stream": "stderr",
       "text": [
        "WARNING:root:sweep 28: ['Recording stopped before completing the experiment epoch']\n"
       ]
      },
      {
       "output_type": "stream",
       "stream": "stderr",
       "text": [
        "WARNING:root:sweep 29: ['Recording stopped before completing the experiment epoch']\n"
       ]
      },
      {
       "output_type": "stream",
       "stream": "stderr",
       "text": [
        "WARNING:root:sweep 30: ['Recording stopped before completing the experiment epoch']\n"
       ]
      },
      {
       "output_type": "stream",
       "stream": "stderr",
       "text": [
        "WARNING:root:sweep 31: ['Recording stopped before completing the experiment epoch']\n"
       ]
      },
      {
       "output_type": "stream",
       "stream": "stdout",
       "text": [
        "716307564.0 extracted\n",
        "loading dataset into data structure...\n"
       ]
      },
      {
       "output_type": "stream",
       "stream": "stderr",
       "text": [
        "WARNING:root:sweep 25: ['Recording stopped before completing the experiment epoch']\n"
       ]
      },
      {
       "output_type": "stream",
       "stream": "stderr",
       "text": [
        "WARNING:root:sweep 26: ['Recording stopped before completing the experiment epoch']\n"
       ]
      },
      {
       "output_type": "stream",
       "stream": "stderr",
       "text": [
        "WARNING:root:sweep 27: ['Recording stopped before completing the experiment epoch']\n"
       ]
      },
      {
       "output_type": "stream",
       "stream": "stderr",
       "text": [
        "WARNING:root:sweep 28: ['Recording stopped before completing the experiment epoch']\n"
       ]
      },
      {
       "output_type": "stream",
       "stream": "stderr",
       "text": [
        "WARNING:root:sweep 29: ['Recording stopped before completing the experiment epoch']\n"
       ]
      },
      {
       "output_type": "stream",
       "stream": "stdout",
       "text": [
        "716330705.0 extracted\n",
        "loading dataset into data structure...\n"
       ]
      },
      {
       "output_type": "stream",
       "stream": "stderr",
       "text": [
        "WARNING:root:sweep 27: ['Recording stopped before completing the experiment epoch']\n"
       ]
      },
      {
       "output_type": "stream",
       "stream": "stderr",
       "text": [
        "WARNING:root:sweep 28: ['Recording stopped before completing the experiment epoch']\n"
       ]
      },
      {
       "output_type": "stream",
       "stream": "stderr",
       "text": [
        "WARNING:root:sweep 29: ['Recording stopped before completing the experiment epoch']\n"
       ]
      },
      {
       "output_type": "stream",
       "stream": "stderr",
       "text": [
        "WARNING:root:sweep 30: ['Recording stopped before completing the experiment epoch']\n"
       ]
      },
      {
       "output_type": "stream",
       "stream": "stderr",
       "text": [
        "WARNING:root:sweep 31: ['Recording stopped before completing the experiment epoch']\n"
       ]
      },
      {
       "output_type": "stream",
       "stream": "stderr",
       "text": [
        "/nethome/kcni/ychen/.local/lib/python3.6/site-packages/ipfx/spike_features.py:87: RuntimeWarning: invalid value encountered in less\n",
        "  width_levels[width_levels < v[spike_indexes]] = thresh_to_peak_levels[width_levels < v[spike_indexes]]\n"
       ]
      },
      {
       "output_type": "stream",
       "stream": "stdout",
       "text": [
        "716473635.0 extracted\n",
        "loading dataset into data structure...\n"
       ]
      },
      {
       "output_type": "stream",
       "stream": "stderr",
       "text": [
        "WARNING:root:sweep 25: ['Recording stopped before completing the experiment epoch']\n"
       ]
      },
      {
       "output_type": "stream",
       "stream": "stderr",
       "text": [
        "WARNING:root:sweep 26: ['Recording stopped before completing the experiment epoch']\n"
       ]
      },
      {
       "output_type": "stream",
       "stream": "stderr",
       "text": [
        "WARNING:root:sweep 27: ['Recording stopped before completing the experiment epoch']\n"
       ]
      },
      {
       "output_type": "stream",
       "stream": "stderr",
       "text": [
        "WARNING:root:sweep 28: ['Recording stopped before completing the experiment epoch']\n"
       ]
      },
      {
       "output_type": "stream",
       "stream": "stderr",
       "text": [
        "WARNING:root:sweep 29: ['Recording stopped before completing the experiment epoch']\n"
       ]
      },
      {
       "output_type": "stream",
       "stream": "stderr",
       "text": [
        "/nethome/kcni/ychen/.local/lib/python3.6/site-packages/ipfx/spike_features.py:87: RuntimeWarning: invalid value encountered in less\n",
        "  width_levels[width_levels < v[spike_indexes]] = thresh_to_peak_levels[width_levels < v[spike_indexes]]\n"
       ]
      },
      {
       "output_type": "stream",
       "stream": "stdout",
       "text": [
        "716477575.0 extracted\n",
        "loading dataset into data structure...\n"
       ]
      },
      {
       "output_type": "stream",
       "stream": "stderr",
       "text": [
        "WARNING:root:sweep 23: ['Recording stopped before completing the experiment epoch']\n"
       ]
      },
      {
       "output_type": "stream",
       "stream": "stderr",
       "text": [
        "WARNING:root:sweep 24: ['Recording stopped before completing the experiment epoch']\n"
       ]
      },
      {
       "output_type": "stream",
       "stream": "stderr",
       "text": [
        "WARNING:root:sweep 25: ['Recording stopped before completing the experiment epoch']\n"
       ]
      },
      {
       "output_type": "stream",
       "stream": "stderr",
       "text": [
        "WARNING:root:sweep 26: ['Recording stopped before completing the experiment epoch']\n"
       ]
      },
      {
       "output_type": "stream",
       "stream": "stderr",
       "text": [
        "WARNING:root:sweep 27: ['Recording stopped before completing the experiment epoch']\n"
       ]
      },
      {
       "output_type": "stream",
       "stream": "stderr",
       "text": [
        "WARNING:root:sweep 28: ['Recording stopped before completing the experiment epoch']\n"
       ]
      },
      {
       "output_type": "stream",
       "stream": "stdout",
       "text": [
        "716492058.0 extracted\n",
        "loading dataset into data structure...\n"
       ]
      },
      {
       "output_type": "stream",
       "stream": "stdout",
       "text": [
        "716506444.0 extracted\n",
        "loading dataset into data structure...\n"
       ]
      },
      {
       "output_type": "stream",
       "stream": "stderr",
       "text": [
        "WARNING:root:sweep 20: ['Recording stopped before completing the experiment epoch']\n"
       ]
      },
      {
       "output_type": "stream",
       "stream": "stderr",
       "text": [
        "WARNING:root:sweep 21: ['Recording stopped before completing the experiment epoch']\n"
       ]
      },
      {
       "output_type": "stream",
       "stream": "stderr",
       "text": [
        "WARNING:root:sweep 22: ['Recording stopped before completing the experiment epoch']\n"
       ]
      },
      {
       "output_type": "stream",
       "stream": "stderr",
       "text": [
        "WARNING:root:sweep 23: ['Recording stopped before completing the experiment epoch']\n"
       ]
      },
      {
       "output_type": "stream",
       "stream": "stderr",
       "text": [
        "WARNING:root:sweep 24: ['Recording stopped before completing the experiment epoch']\n"
       ]
      },
      {
       "output_type": "stream",
       "stream": "stderr",
       "text": [
        "WARNING:root:sweep 25: ['Recording stopped before completing the experiment epoch']\n"
       ]
      },
      {
       "output_type": "stream",
       "stream": "stdout",
       "text": [
        "716527368.0 extracted\n",
        "loading dataset into data structure...\n"
       ]
      },
      {
       "output_type": "stream",
       "stream": "stderr",
       "text": [
        "WARNING:root:sweep 27: ['Recording stopped before completing the experiment epoch']\n"
       ]
      },
      {
       "output_type": "stream",
       "stream": "stderr",
       "text": [
        "WARNING:root:sweep 28: ['Recording stopped before completing the experiment epoch']\n"
       ]
      },
      {
       "output_type": "stream",
       "stream": "stderr",
       "text": [
        "WARNING:root:sweep 29: ['Recording stopped before completing the experiment epoch']\n"
       ]
      },
      {
       "output_type": "stream",
       "stream": "stderr",
       "text": [
        "WARNING:root:sweep 30: ['Recording stopped before completing the experiment epoch']\n"
       ]
      },
      {
       "output_type": "stream",
       "stream": "stderr",
       "text": [
        "WARNING:root:sweep 31: ['Recording stopped before completing the experiment epoch']\n"
       ]
      },
      {
       "output_type": "stream",
       "stream": "stderr",
       "text": [
        "WARNING:root:sweep 34: ['Recording stopped before completing the experiment epoch']\n"
       ]
      },
      {
       "output_type": "stream",
       "stream": "stdout",
       "text": [
        "716556217.0 extracted\n",
        "loading dataset into data structure...\n"
       ]
      },
      {
       "output_type": "stream",
       "stream": "stderr",
       "text": [
        "WARNING:root:sweep 24: ['Recording stopped before completing the experiment epoch']\n"
       ]
      },
      {
       "output_type": "stream",
       "stream": "stderr",
       "text": [
        "WARNING:root:sweep 25: ['Recording stopped before completing the experiment epoch']\n"
       ]
      },
      {
       "output_type": "stream",
       "stream": "stderr",
       "text": [
        "WARNING:root:sweep 26: ['Recording stopped before completing the experiment epoch']\n"
       ]
      },
      {
       "output_type": "stream",
       "stream": "stderr",
       "text": [
        "WARNING:root:sweep 27: ['Recording stopped before completing the experiment epoch']\n"
       ]
      },
      {
       "output_type": "stream",
       "stream": "stderr",
       "text": [
        "WARNING:root:sweep 28: ['Recording stopped before completing the experiment epoch']\n"
       ]
      },
      {
       "output_type": "stream",
       "stream": "stdout",
       "text": [
        "716560189.0 extracted\n",
        "loading dataset into data structure...\n"
       ]
      },
      {
       "output_type": "stream",
       "stream": "stderr",
       "text": [
        "WARNING:root:sweep 29: ['Recording stopped before completing the experiment epoch']\n"
       ]
      },
      {
       "output_type": "stream",
       "stream": "stderr",
       "text": [
        "WARNING:root:sweep 30: ['Recording stopped before completing the experiment epoch']\n"
       ]
      },
      {
       "output_type": "stream",
       "stream": "stderr",
       "text": [
        "WARNING:root:sweep 31: ['Recording stopped before completing the experiment epoch']\n"
       ]
      },
      {
       "output_type": "stream",
       "stream": "stderr",
       "text": [
        "WARNING:root:sweep 32: ['Recording stopped before completing the experiment epoch']\n"
       ]
      },
      {
       "output_type": "stream",
       "stream": "stderr",
       "text": [
        "WARNING:root:sweep 33: ['Recording stopped before completing the experiment epoch']\n"
       ]
      },
      {
       "output_type": "stream",
       "stream": "stdout",
       "text": [
        "716562206.0 extracted\n",
        "loading dataset into data structure...\n"
       ]
      },
      {
       "output_type": "stream",
       "stream": "stderr",
       "text": [
        "WARNING:root:sweep 26: ['Recording stopped before completing the experiment epoch']\n"
       ]
      },
      {
       "output_type": "stream",
       "stream": "stderr",
       "text": [
        "WARNING:root:sweep 27: ['Recording stopped before completing the experiment epoch']\n"
       ]
      },
      {
       "output_type": "stream",
       "stream": "stderr",
       "text": [
        "WARNING:root:sweep 28: ['Recording stopped before completing the experiment epoch']\n"
       ]
      },
      {
       "output_type": "stream",
       "stream": "stderr",
       "text": [
        "WARNING:root:sweep 29: ['Recording stopped before completing the experiment epoch']\n"
       ]
      },
      {
       "output_type": "stream",
       "stream": "stderr",
       "text": [
        "WARNING:root:sweep 30: ['Recording stopped before completing the experiment epoch']\n"
       ]
      },
      {
       "output_type": "stream",
       "stream": "stdout",
       "text": [
        "716591444.0 extracted\n",
        "loading dataset into data structure...\n"
       ]
      },
      {
       "output_type": "stream",
       "stream": "stdout",
       "text": [
        "716591702.0 extracted\n",
        "loading dataset into data structure...\n"
       ]
      },
      {
       "output_type": "stream",
       "stream": "stderr",
       "text": [
        "WARNING:root:sweep 18: ['experiment epoch is missing', 'stim epoch is missing']\n"
       ]
      },
      {
       "output_type": "stream",
       "stream": "stderr",
       "text": [
        "WARNING:root:sweep 27: ['Recording stopped before completing the experiment epoch']\n"
       ]
      },
      {
       "output_type": "stream",
       "stream": "stderr",
       "text": [
        "WARNING:root:sweep 28: ['Recording stopped before completing the experiment epoch']\n"
       ]
      },
      {
       "output_type": "stream",
       "stream": "stderr",
       "text": [
        "WARNING:root:sweep 29: ['Recording stopped before completing the experiment epoch']\n"
       ]
      },
      {
       "output_type": "stream",
       "stream": "stderr",
       "text": [
        "WARNING:root:sweep 30: ['Recording stopped before completing the experiment epoch']\n"
       ]
      },
      {
       "output_type": "stream",
       "stream": "stderr",
       "text": [
        "WARNING:root:sweep 31: ['Recording stopped before completing the experiment epoch']\n"
       ]
      },
      {
       "output_type": "stream",
       "stream": "stdout",
       "text": [
        "716592645.0 extracted\n",
        "loading dataset into data structure...\n"
       ]
      },
      {
       "output_type": "stream",
       "stream": "stderr",
       "text": [
        "WARNING:root:sweep 26: ['Recording stopped before completing the experiment epoch']\n"
       ]
      },
      {
       "output_type": "stream",
       "stream": "stderr",
       "text": [
        "WARNING:root:sweep 27: ['Recording stopped before completing the experiment epoch']\n"
       ]
      },
      {
       "output_type": "stream",
       "stream": "stderr",
       "text": [
        "WARNING:root:sweep 28: ['Recording stopped before completing the experiment epoch']\n"
       ]
      },
      {
       "output_type": "stream",
       "stream": "stderr",
       "text": [
        "WARNING:root:sweep 29: ['Recording stopped before completing the experiment epoch']\n"
       ]
      },
      {
       "output_type": "stream",
       "stream": "stderr",
       "text": [
        "WARNING:root:sweep 30: ['Recording stopped before completing the experiment epoch']\n"
       ]
      },
      {
       "output_type": "stream",
       "stream": "stderr",
       "text": [
        "WARNING:root:sweep 34: ['Recording stopped before completing the experiment epoch']\n"
       ]
      },
      {
       "output_type": "stream",
       "stream": "stderr",
       "text": [
        "WARNING:root:sweep 35: ['Recording stopped before completing the experiment epoch']\n"
       ]
      },
      {
       "output_type": "stream",
       "stream": "stdout",
       "text": [
        "716595024.0 extracted\n",
        "loading dataset into data structure...\n"
       ]
      },
      {
       "output_type": "stream",
       "stream": "stderr",
       "text": [
        "WARNING:root:sweep 4: ['Recording stopped before completing the experiment epoch']\n"
       ]
      },
      {
       "output_type": "stream",
       "stream": "stderr",
       "text": [
        "WARNING:root:sweep 11: ['Recording stopped before completing the experiment epoch']\n"
       ]
      },
      {
       "output_type": "stream",
       "stream": "stdout",
       "text": [
        "716729379.0 extracted\n",
        "loading dataset into data structure...\n"
       ]
      },
      {
       "output_type": "stream",
       "stream": "stdout",
       "text": [
        "716746196.0 extracted\n",
        "loading dataset into data structure...\n"
       ]
      },
      {
       "output_type": "stream",
       "stream": "stderr",
       "text": [
        "WARNING:root:sweep 28: ['Recording stopped before completing the experiment epoch']\n"
       ]
      },
      {
       "output_type": "stream",
       "stream": "stderr",
       "text": [
        "WARNING:root:sweep 29: ['Recording stopped before completing the experiment epoch']\n"
       ]
      },
      {
       "output_type": "stream",
       "stream": "stderr",
       "text": [
        "WARNING:root:sweep 30: ['Recording stopped before completing the experiment epoch']\n"
       ]
      },
      {
       "output_type": "stream",
       "stream": "stderr",
       "text": [
        "WARNING:root:sweep 31: ['Recording stopped before completing the experiment epoch']\n"
       ]
      },
      {
       "output_type": "stream",
       "stream": "stderr",
       "text": [
        "WARNING:root:sweep 32: ['Recording stopped before completing the experiment epoch']\n"
       ]
      },
      {
       "output_type": "stream",
       "stream": "stdout",
       "text": [
        "716756437.0 extracted\n",
        "loading dataset into data structure...\n"
       ]
      },
      {
       "output_type": "stream",
       "stream": "stderr",
       "text": [
        "WARNING:root:sweep 24: ['Recording stopped before completing the experiment epoch']\n"
       ]
      },
      {
       "output_type": "stream",
       "stream": "stderr",
       "text": [
        "WARNING:root:sweep 25: ['Recording stopped before completing the experiment epoch']\n"
       ]
      },
      {
       "output_type": "stream",
       "stream": "stderr",
       "text": [
        "WARNING:root:sweep 26: ['Recording stopped before completing the experiment epoch']\n"
       ]
      },
      {
       "output_type": "stream",
       "stream": "stderr",
       "text": [
        "WARNING:root:sweep 27: ['Recording stopped before completing the experiment epoch']\n"
       ]
      },
      {
       "output_type": "stream",
       "stream": "stderr",
       "text": [
        "WARNING:root:sweep 28: ['Recording stopped before completing the experiment epoch']\n"
       ]
      },
      {
       "output_type": "stream",
       "stream": "stdout",
       "text": [
        "716760772.0 extracted\n",
        "loading dataset into data structure...\n"
       ]
      },
      {
       "output_type": "stream",
       "stream": "stderr",
       "text": [
        "WARNING:root:sweep 29: ['Recording stopped before completing the experiment epoch']\n"
       ]
      },
      {
       "output_type": "stream",
       "stream": "stderr",
       "text": [
        "WARNING:root:sweep 30: ['Recording stopped before completing the experiment epoch']\n"
       ]
      },
      {
       "output_type": "stream",
       "stream": "stderr",
       "text": [
        "WARNING:root:sweep 31: ['Recording stopped before completing the experiment epoch']\n"
       ]
      },
      {
       "output_type": "stream",
       "stream": "stderr",
       "text": [
        "WARNING:root:sweep 32: ['Recording stopped before completing the experiment epoch']\n"
       ]
      },
      {
       "output_type": "stream",
       "stream": "stderr",
       "text": [
        "WARNING:root:sweep 33: ['Recording stopped before completing the experiment epoch']\n"
       ]
      },
      {
       "output_type": "stream",
       "stream": "stdout",
       "text": [
        "716832846.0 extracted\n",
        "loading dataset into data structure...\n"
       ]
      },
      {
       "output_type": "stream",
       "stream": "stderr",
       "text": [
        "WARNING:root:sweep 30: ['Recording stopped before completing the experiment epoch']\n"
       ]
      },
      {
       "output_type": "stream",
       "stream": "stderr",
       "text": [
        "WARNING:root:sweep 31: ['Recording stopped before completing the experiment epoch']\n"
       ]
      },
      {
       "output_type": "stream",
       "stream": "stderr",
       "text": [
        "WARNING:root:sweep 32: ['Recording stopped before completing the experiment epoch']\n"
       ]
      },
      {
       "output_type": "stream",
       "stream": "stderr",
       "text": [
        "WARNING:root:sweep 33: ['Recording stopped before completing the experiment epoch']\n"
       ]
      },
      {
       "output_type": "stream",
       "stream": "stderr",
       "text": [
        "WARNING:root:sweep 34: ['Recording stopped before completing the experiment epoch']\n"
       ]
      },
      {
       "output_type": "stream",
       "stream": "stderr",
       "text": [
        "/nethome/kcni/ychen/.local/lib/python3.6/site-packages/ipfx/spike_features.py:87: RuntimeWarning: invalid value encountered in less\n",
        "  width_levels[width_levels < v[spike_indexes]] = thresh_to_peak_levels[width_levels < v[spike_indexes]]\n"
       ]
      },
      {
       "output_type": "stream",
       "stream": "stdout",
       "text": [
        "716838742.0 extracted\n",
        "loading dataset into data structure...\n"
       ]
      },
      {
       "output_type": "stream",
       "stream": "stderr",
       "text": [
        "WARNING:root:sweep 25: ['Recording stopped before completing the experiment epoch']\n"
       ]
      },
      {
       "output_type": "stream",
       "stream": "stderr",
       "text": [
        "WARNING:root:sweep 26: ['Recording stopped before completing the experiment epoch']\n"
       ]
      },
      {
       "output_type": "stream",
       "stream": "stderr",
       "text": [
        "WARNING:root:sweep 27: ['Recording stopped before completing the experiment epoch']\n"
       ]
      },
      {
       "output_type": "stream",
       "stream": "stderr",
       "text": [
        "WARNING:root:sweep 28: ['Recording stopped before completing the experiment epoch']\n"
       ]
      },
      {
       "output_type": "stream",
       "stream": "stderr",
       "text": [
        "WARNING:root:sweep 29: ['Recording stopped before completing the experiment epoch']\n"
       ]
      },
      {
       "output_type": "stream",
       "stream": "stderr",
       "text": [
        "WARNING:root:sweep 30: ['Recording stopped before completing the experiment epoch']\n"
       ]
      },
      {
       "output_type": "stream",
       "stream": "stderr",
       "text": [
        "WARNING:root:sweep 31: ['Recording stopped before completing the experiment epoch']\n"
       ]
      },
      {
       "output_type": "stream",
       "stream": "stderr",
       "text": [
        "WARNING:root:sweep 32: ['Recording stopped before completing the experiment epoch']\n"
       ]
      },
      {
       "output_type": "stream",
       "stream": "stdout",
       "text": [
        "716842039.0 extracted\n",
        "loading dataset into data structure...\n"
       ]
      },
      {
       "output_type": "stream",
       "stream": "stderr",
       "text": [
        "WARNING:root:sweep 25: ['Recording stopped before completing the experiment epoch']\n"
       ]
      },
      {
       "output_type": "stream",
       "stream": "stderr",
       "text": [
        "WARNING:root:sweep 26: ['Recording stopped before completing the experiment epoch']\n"
       ]
      },
      {
       "output_type": "stream",
       "stream": "stderr",
       "text": [
        "WARNING:root:sweep 27: ['Recording stopped before completing the experiment epoch']\n"
       ]
      },
      {
       "output_type": "stream",
       "stream": "stderr",
       "text": [
        "WARNING:root:sweep 28: ['Recording stopped before completing the experiment epoch']\n"
       ]
      },
      {
       "output_type": "stream",
       "stream": "stderr",
       "text": [
        "WARNING:root:sweep 29: ['Recording stopped before completing the experiment epoch']\n"
       ]
      },
      {
       "output_type": "stream",
       "stream": "stdout",
       "text": [
        "716842736.0 extracted\n",
        "loading dataset into data structure...\n"
       ]
      },
      {
       "output_type": "stream",
       "stream": "stderr",
       "text": [
        "WARNING:root:sweep 23: ['Recording stopped before completing the experiment epoch']\n"
       ]
      },
      {
       "output_type": "stream",
       "stream": "stderr",
       "text": [
        "WARNING:root:sweep 24: ['Recording stopped before completing the experiment epoch']\n"
       ]
      },
      {
       "output_type": "stream",
       "stream": "stderr",
       "text": [
        "WARNING:root:sweep 25: ['Recording stopped before completing the experiment epoch']\n"
       ]
      },
      {
       "output_type": "stream",
       "stream": "stderr",
       "text": [
        "WARNING:root:sweep 26: ['Recording stopped before completing the experiment epoch']\n"
       ]
      },
      {
       "output_type": "stream",
       "stream": "stderr",
       "text": [
        "WARNING:root:sweep 27: ['Recording stopped before completing the experiment epoch']\n"
       ]
      },
      {
       "output_type": "stream",
       "stream": "stderr",
       "text": [
        "/nethome/kcni/ychen/.local/lib/python3.6/site-packages/ipfx/spike_features.py:87: RuntimeWarning: invalid value encountered in less\n",
        "  width_levels[width_levels < v[spike_indexes]] = thresh_to_peak_levels[width_levels < v[spike_indexes]]\n"
       ]
      },
      {
       "output_type": "stream",
       "stream": "stdout",
       "text": [
        "716846357.0 extracted\n",
        "loading dataset into data structure...\n"
       ]
      },
      {
       "output_type": "stream",
       "stream": "stderr",
       "text": [
        "WARNING:root:sweep 30: ['Recording stopped before completing the experiment epoch']\n"
       ]
      },
      {
       "output_type": "stream",
       "stream": "stderr",
       "text": [
        "WARNING:root:sweep 31: ['Recording stopped before completing the experiment epoch']\n"
       ]
      },
      {
       "output_type": "stream",
       "stream": "stderr",
       "text": [
        "WARNING:root:sweep 32: ['Recording stopped before completing the experiment epoch']\n"
       ]
      },
      {
       "output_type": "stream",
       "stream": "stderr",
       "text": [
        "WARNING:root:sweep 33: ['Recording stopped before completing the experiment epoch']\n"
       ]
      },
      {
       "output_type": "stream",
       "stream": "stderr",
       "text": [
        "WARNING:root:sweep 34: ['Recording stopped before completing the experiment epoch']\n"
       ]
      },
      {
       "output_type": "stream",
       "stream": "stderr",
       "text": [
        "WARNING:root:sweep 38: ['Recording stopped before completing the experiment epoch']\n"
       ]
      },
      {
       "output_type": "stream",
       "stream": "stdout",
       "text": [
        "716846733.0 extracted\n",
        "loading dataset into data structure...\n"
       ]
      },
      {
       "output_type": "stream",
       "stream": "stderr",
       "text": [
        "WARNING:root:sweep 20: ['Recording stopped before completing the experiment epoch']\n"
       ]
      },
      {
       "output_type": "stream",
       "stream": "stderr",
       "text": [
        "WARNING:root:sweep 21: ['Recording stopped before completing the experiment epoch']\n"
       ]
      },
      {
       "output_type": "stream",
       "stream": "stderr",
       "text": [
        "WARNING:root:sweep 22: ['Recording stopped before completing the experiment epoch']\n"
       ]
      },
      {
       "output_type": "stream",
       "stream": "stderr",
       "text": [
        "WARNING:root:sweep 23: ['Recording stopped before completing the experiment epoch']\n"
       ]
      },
      {
       "output_type": "stream",
       "stream": "stderr",
       "text": [
        "WARNING:root:sweep 24: ['Recording stopped before completing the experiment epoch']\n"
       ]
      },
      {
       "output_type": "stream",
       "stream": "stdout",
       "text": [
        "716855459.0 extracted\n",
        "loading dataset into data structure...\n"
       ]
      },
      {
       "output_type": "stream",
       "stream": "stderr",
       "text": [
        "WARNING:root:sweep 25: ['Recording stopped before completing the experiment epoch']\n"
       ]
      },
      {
       "output_type": "stream",
       "stream": "stderr",
       "text": [
        "WARNING:root:sweep 26: ['Recording stopped before completing the experiment epoch']\n"
       ]
      },
      {
       "output_type": "stream",
       "stream": "stderr",
       "text": [
        "WARNING:root:sweep 27: ['Recording stopped before completing the experiment epoch']\n"
       ]
      },
      {
       "output_type": "stream",
       "stream": "stderr",
       "text": [
        "WARNING:root:sweep 28: ['Recording stopped before completing the experiment epoch']\n"
       ]
      },
      {
       "output_type": "stream",
       "stream": "stderr",
       "text": [
        "WARNING:root:sweep 29: ['Recording stopped before completing the experiment epoch']\n"
       ]
      },
      {
       "output_type": "stream",
       "stream": "stdout",
       "text": [
        "716859364.0 extracted\n",
        "loading dataset into data structure...\n"
       ]
      },
      {
       "output_type": "stream",
       "stream": "stderr",
       "text": [
        "WARNING:root:sweep 28: ['Recording stopped before completing the experiment epoch']\n"
       ]
      },
      {
       "output_type": "stream",
       "stream": "stderr",
       "text": [
        "WARNING:root:sweep 29: ['Recording stopped before completing the experiment epoch']\n"
       ]
      },
      {
       "output_type": "stream",
       "stream": "stderr",
       "text": [
        "WARNING:root:sweep 30: ['Recording stopped before completing the experiment epoch']\n"
       ]
      },
      {
       "output_type": "stream",
       "stream": "stderr",
       "text": [
        "WARNING:root:sweep 31: ['Recording stopped before completing the experiment epoch']\n"
       ]
      },
      {
       "output_type": "stream",
       "stream": "stderr",
       "text": [
        "WARNING:root:sweep 32: ['Recording stopped before completing the experiment epoch']\n"
       ]
      },
      {
       "output_type": "stream",
       "stream": "stderr",
       "text": [
        "WARNING:root:sweep 33: ['Recording stopped before completing the experiment epoch']\n"
       ]
      },
      {
       "output_type": "stream",
       "stream": "stderr",
       "text": [
        "WARNING:root:sweep 38: ['experiment epoch is missing', 'stim epoch is missing']\n"
       ]
      },
      {
       "output_type": "stream",
       "stream": "stdout",
       "text": [
        "716864944.0 extracted\n",
        "loading dataset into data structure...\n"
       ]
      },
      {
       "output_type": "stream",
       "stream": "stderr",
       "text": [
        "WARNING:root:sweep 28: ['Recording stopped before completing the experiment epoch']\n"
       ]
      },
      {
       "output_type": "stream",
       "stream": "stderr",
       "text": [
        "WARNING:root:sweep 29: ['Recording stopped before completing the experiment epoch']\n"
       ]
      },
      {
       "output_type": "stream",
       "stream": "stderr",
       "text": [
        "WARNING:root:sweep 30: ['Recording stopped before completing the experiment epoch']\n"
       ]
      },
      {
       "output_type": "stream",
       "stream": "stderr",
       "text": [
        "WARNING:root:sweep 31: ['Recording stopped before completing the experiment epoch']\n"
       ]
      },
      {
       "output_type": "stream",
       "stream": "stderr",
       "text": [
        "WARNING:root:sweep 32: ['Recording stopped before completing the experiment epoch']\n"
       ]
      },
      {
       "output_type": "stream",
       "stream": "stdout",
       "text": [
        "717089521.0 extracted\n",
        "loading dataset into data structure...\n"
       ]
      },
      {
       "output_type": "stream",
       "stream": "stderr",
       "text": [
        "WARNING:root:sweep 25: ['Recording stopped before completing the experiment epoch']\n"
       ]
      },
      {
       "output_type": "stream",
       "stream": "stderr",
       "text": [
        "WARNING:root:sweep 26: ['Recording stopped before completing the experiment epoch']\n"
       ]
      },
      {
       "output_type": "stream",
       "stream": "stderr",
       "text": [
        "WARNING:root:sweep 27: ['Recording stopped before completing the experiment epoch']\n"
       ]
      },
      {
       "output_type": "stream",
       "stream": "stderr",
       "text": [
        "WARNING:root:sweep 28: ['Recording stopped before completing the experiment epoch']\n"
       ]
      },
      {
       "output_type": "stream",
       "stream": "stderr",
       "text": [
        "WARNING:root:sweep 29: ['Recording stopped before completing the experiment epoch']\n"
       ]
      },
      {
       "output_type": "stream",
       "stream": "stderr",
       "text": [
        "WARNING:root:sweep 30: ['Recording stopped before completing the experiment epoch']\n"
       ]
      },
      {
       "output_type": "stream",
       "stream": "stdout",
       "text": [
        "717113701.0 extracted\n",
        "loading dataset into data structure...\n"
       ]
      },
      {
       "output_type": "stream",
       "stream": "stderr",
       "text": [
        "WARNING:root:sweep 27: ['Recording stopped before completing the experiment epoch']\n"
       ]
      },
      {
       "output_type": "stream",
       "stream": "stderr",
       "text": [
        "WARNING:root:sweep 28: ['Recording stopped before completing the experiment epoch']\n"
       ]
      },
      {
       "output_type": "stream",
       "stream": "stderr",
       "text": [
        "WARNING:root:sweep 29: ['Recording stopped before completing the experiment epoch']\n"
       ]
      },
      {
       "output_type": "stream",
       "stream": "stderr",
       "text": [
        "WARNING:root:sweep 30: ['Recording stopped before completing the experiment epoch']\n"
       ]
      },
      {
       "output_type": "stream",
       "stream": "stderr",
       "text": [
        "WARNING:root:sweep 31: ['Recording stopped before completing the experiment epoch']\n"
       ]
      },
      {
       "output_type": "stream",
       "stream": "stderr",
       "text": [
        "WARNING:root:sweep 32: ['Recording stopped before completing the experiment epoch']\n"
       ]
      },
      {
       "output_type": "stream",
       "stream": "stderr",
       "text": [
        "WARNING:root:sweep 33: ['Recording stopped before completing the experiment epoch']\n"
       ]
      },
      {
       "output_type": "stream",
       "stream": "stdout",
       "text": [
        "717321001.0 extracted\n",
        "loading dataset into data structure...\n"
       ]
      },
      {
       "output_type": "stream",
       "stream": "stderr",
       "text": [
        "WARNING:root:sweep 30: ['Recording stopped before completing the experiment epoch']\n"
       ]
      },
      {
       "output_type": "stream",
       "stream": "stderr",
       "text": [
        "WARNING:root:sweep 31: ['Recording stopped before completing the experiment epoch']\n"
       ]
      },
      {
       "output_type": "stream",
       "stream": "stderr",
       "text": [
        "WARNING:root:sweep 32: ['Recording stopped before completing the experiment epoch']\n"
       ]
      },
      {
       "output_type": "stream",
       "stream": "stderr",
       "text": [
        "WARNING:root:sweep 33: ['Recording stopped before completing the experiment epoch']\n"
       ]
      },
      {
       "output_type": "stream",
       "stream": "stderr",
       "text": [
        "WARNING:root:sweep 34: ['Recording stopped before completing the experiment epoch']\n"
       ]
      },
      {
       "output_type": "stream",
       "stream": "stdout",
       "text": [
        "717354644.0 extracted\n",
        "loading dataset into data structure...\n"
       ]
      },
      {
       "output_type": "stream",
       "stream": "stderr",
       "text": [
        "WARNING:root:sweep 25: ['Recording stopped before completing the experiment epoch']\n"
       ]
      },
      {
       "output_type": "stream",
       "stream": "stderr",
       "text": [
        "WARNING:root:sweep 26: ['Recording stopped before completing the experiment epoch']\n"
       ]
      },
      {
       "output_type": "stream",
       "stream": "stderr",
       "text": [
        "WARNING:root:sweep 27: ['Recording stopped before completing the experiment epoch']\n"
       ]
      },
      {
       "output_type": "stream",
       "stream": "stderr",
       "text": [
        "WARNING:root:sweep 28: ['Recording stopped before completing the experiment epoch']\n"
       ]
      },
      {
       "output_type": "stream",
       "stream": "stderr",
       "text": [
        "WARNING:root:sweep 29: ['Recording stopped before completing the experiment epoch']\n"
       ]
      },
      {
       "output_type": "stream",
       "stream": "stdout",
       "text": [
        "717376304.0 extracted\n",
        "loading dataset into data structure...\n"
       ]
      },
      {
       "output_type": "stream",
       "stream": "stderr",
       "text": [
        "WARNING:root:sweep 31: ['Recording stopped before completing the experiment epoch']\n"
       ]
      },
      {
       "output_type": "stream",
       "stream": "stderr",
       "text": [
        "WARNING:root:sweep 32: ['Recording stopped before completing the experiment epoch']\n"
       ]
      },
      {
       "output_type": "stream",
       "stream": "stderr",
       "text": [
        "WARNING:root:sweep 33: ['Recording stopped before completing the experiment epoch']\n"
       ]
      },
      {
       "output_type": "stream",
       "stream": "stderr",
       "text": [
        "WARNING:root:sweep 34: ['Recording stopped before completing the experiment epoch']\n"
       ]
      },
      {
       "output_type": "stream",
       "stream": "stderr",
       "text": [
        "WARNING:root:sweep 35: ['Recording stopped before completing the experiment epoch']\n"
       ]
      },
      {
       "output_type": "stream",
       "stream": "stdout",
       "text": [
        "717393031.0 extracted\n",
        "loading dataset into data structure...\n"
       ]
      },
      {
       "output_type": "stream",
       "stream": "stderr",
       "text": [
        "WARNING:root:sweep 23: ['Recording stopped before completing the experiment epoch']\n"
       ]
      },
      {
       "output_type": "stream",
       "stream": "stderr",
       "text": [
        "WARNING:root:sweep 24: ['Recording stopped before completing the experiment epoch']\n"
       ]
      },
      {
       "output_type": "stream",
       "stream": "stderr",
       "text": [
        "WARNING:root:sweep 25: ['Recording stopped before completing the experiment epoch']\n"
       ]
      },
      {
       "output_type": "stream",
       "stream": "stderr",
       "text": [
        "WARNING:root:sweep 26: ['Recording stopped before completing the experiment epoch']\n"
       ]
      },
      {
       "output_type": "stream",
       "stream": "stderr",
       "text": [
        "WARNING:root:sweep 27: ['Recording stopped before completing the experiment epoch']\n"
       ]
      },
      {
       "output_type": "stream",
       "stream": "stdout",
       "text": [
        "717412114.0 extracted\n",
        "loading dataset into data structure...\n"
       ]
      },
      {
       "output_type": "stream",
       "stream": "stderr",
       "text": [
        "WARNING:root:sweep 26: ['Recording stopped before completing the experiment epoch']\n"
       ]
      },
      {
       "output_type": "stream",
       "stream": "stderr",
       "text": [
        "WARNING:root:sweep 27: ['Recording stopped before completing the experiment epoch']\n"
       ]
      },
      {
       "output_type": "stream",
       "stream": "stderr",
       "text": [
        "WARNING:root:sweep 28: ['Recording stopped before completing the experiment epoch']\n"
       ]
      },
      {
       "output_type": "stream",
       "stream": "stderr",
       "text": [
        "WARNING:root:sweep 29: ['Recording stopped before completing the experiment epoch']\n"
       ]
      },
      {
       "output_type": "stream",
       "stream": "stderr",
       "text": [
        "WARNING:root:sweep 30: ['Recording stopped before completing the experiment epoch']\n"
       ]
      },
      {
       "output_type": "stream",
       "stream": "stdout",
       "text": [
        "717472464.0 extracted\n",
        "loading dataset into data structure...\n"
       ]
      },
      {
       "output_type": "stream",
       "stream": "stderr",
       "text": [
        "WARNING:root:sweep 24: ['Recording stopped before completing the experiment epoch']\n"
       ]
      },
      {
       "output_type": "stream",
       "stream": "stderr",
       "text": [
        "WARNING:root:sweep 25: ['Recording stopped before completing the experiment epoch']\n"
       ]
      },
      {
       "output_type": "stream",
       "stream": "stderr",
       "text": [
        "WARNING:root:sweep 26: ['Recording stopped before completing the experiment epoch']\n"
       ]
      },
      {
       "output_type": "stream",
       "stream": "stderr",
       "text": [
        "WARNING:root:sweep 27: ['Recording stopped before completing the experiment epoch']\n"
       ]
      },
      {
       "output_type": "stream",
       "stream": "stderr",
       "text": [
        "WARNING:root:sweep 28: ['Recording stopped before completing the experiment epoch']\n"
       ]
      },
      {
       "output_type": "stream",
       "stream": "stdout",
       "text": [
        "717502546.0 extracted\n",
        "loading dataset into data structure...\n"
       ]
      },
      {
       "output_type": "stream",
       "stream": "stderr",
       "text": [
        "WARNING:root:sweep 25: ['Recording stopped before completing the experiment epoch']\n"
       ]
      },
      {
       "output_type": "stream",
       "stream": "stderr",
       "text": [
        "WARNING:root:sweep 26: ['Recording stopped before completing the experiment epoch']\n"
       ]
      },
      {
       "output_type": "stream",
       "stream": "stderr",
       "text": [
        "WARNING:root:sweep 27: ['Recording stopped before completing the experiment epoch']\n"
       ]
      },
      {
       "output_type": "stream",
       "stream": "stderr",
       "text": [
        "WARNING:root:sweep 28: ['Recording stopped before completing the experiment epoch']\n"
       ]
      },
      {
       "output_type": "stream",
       "stream": "stderr",
       "text": [
        "WARNING:root:sweep 29: ['Recording stopped before completing the experiment epoch']\n"
       ]
      },
      {
       "output_type": "stream",
       "stream": "stderr",
       "text": [
        "WARNING:root:sweep 30: ['Recording stopped before completing the experiment epoch']\n"
       ]
      },
      {
       "output_type": "stream",
       "stream": "stderr",
       "text": [
        "WARNING:root:sweep 31: ['Recording stopped before completing the experiment epoch']\n"
       ]
      },
      {
       "output_type": "stream",
       "stream": "stdout",
       "text": [
        "717546699.0 extracted\n",
        "loading dataset into data structure...\n"
       ]
      },
      {
       "output_type": "stream",
       "stream": "stderr",
       "text": [
        "WARNING:root:sweep 28: ['Recording stopped before completing the experiment epoch']\n"
       ]
      },
      {
       "output_type": "stream",
       "stream": "stderr",
       "text": [
        "WARNING:root:sweep 29: ['Recording stopped before completing the experiment epoch']\n"
       ]
      },
      {
       "output_type": "stream",
       "stream": "stderr",
       "text": [
        "WARNING:root:sweep 30: ['Recording stopped before completing the experiment epoch']\n"
       ]
      },
      {
       "output_type": "stream",
       "stream": "stderr",
       "text": [
        "WARNING:root:sweep 31: ['Recording stopped before completing the experiment epoch']\n"
       ]
      },
      {
       "output_type": "stream",
       "stream": "stderr",
       "text": [
        "WARNING:root:sweep 32: ['Recording stopped before completing the experiment epoch']\n"
       ]
      },
      {
       "output_type": "stream",
       "stream": "stderr",
       "text": [
        "/nethome/kcni/ychen/.local/lib/python3.6/site-packages/ipfx/spike_features.py:87: RuntimeWarning: invalid value encountered in less\n",
        "  width_levels[width_levels < v[spike_indexes]] = thresh_to_peak_levels[width_levels < v[spike_indexes]]\n"
       ]
      },
      {
       "output_type": "stream",
       "stream": "stdout",
       "text": [
        "717637005.0 extracted\n",
        "loading dataset into data structure...\n"
       ]
      },
      {
       "output_type": "stream",
       "stream": "stderr",
       "text": [
        "WARNING:root:sweep 27: ['Recording stopped before completing the experiment epoch']\n"
       ]
      },
      {
       "output_type": "stream",
       "stream": "stderr",
       "text": [
        "WARNING:root:sweep 28: ['Recording stopped before completing the experiment epoch']\n"
       ]
      },
      {
       "output_type": "stream",
       "stream": "stderr",
       "text": [
        "WARNING:root:sweep 29: ['Recording stopped before completing the experiment epoch']\n"
       ]
      },
      {
       "output_type": "stream",
       "stream": "stderr",
       "text": [
        "WARNING:root:sweep 30: ['Recording stopped before completing the experiment epoch']\n"
       ]
      },
      {
       "output_type": "stream",
       "stream": "stderr",
       "text": [
        "WARNING:root:sweep 31: ['Recording stopped before completing the experiment epoch']\n"
       ]
      },
      {
       "output_type": "stream",
       "stream": "stderr",
       "text": [
        "/nethome/kcni/ychen/.local/lib/python3.6/site-packages/ipfx/spike_features.py:87: RuntimeWarning: invalid value encountered in less\n",
        "  width_levels[width_levels < v[spike_indexes]] = thresh_to_peak_levels[width_levels < v[spike_indexes]]\n"
       ]
      },
      {
       "output_type": "stream",
       "stream": "stdout",
       "text": [
        "717637270.0 extracted\n",
        "loading dataset into data structure...\n"
       ]
      },
      {
       "output_type": "stream",
       "stream": "stderr",
       "text": [
        "WARNING:root:sweep 24: ['Recording stopped before completing the experiment epoch']\n"
       ]
      },
      {
       "output_type": "stream",
       "stream": "stderr",
       "text": [
        "WARNING:root:sweep 25: ['Recording stopped before completing the experiment epoch']\n"
       ]
      },
      {
       "output_type": "stream",
       "stream": "stderr",
       "text": [
        "WARNING:root:sweep 26: ['Recording stopped before completing the experiment epoch']\n"
       ]
      },
      {
       "output_type": "stream",
       "stream": "stderr",
       "text": [
        "WARNING:root:sweep 27: ['Recording stopped before completing the experiment epoch']\n"
       ]
      },
      {
       "output_type": "stream",
       "stream": "stderr",
       "text": [
        "WARNING:root:sweep 28: ['Recording stopped before completing the experiment epoch']\n"
       ]
      },
      {
       "output_type": "stream",
       "stream": "stdout",
       "text": [
        "717646732.0 extracted\n",
        "loading dataset into data structure...\n"
       ]
      },
      {
       "output_type": "stream",
       "stream": "stderr",
       "text": [
        "WARNING:root:sweep 25: ['experiment epoch is missing', 'stim epoch is missing']\n"
       ]
      },
      {
       "output_type": "stream",
       "stream": "stderr",
       "text": [
        "WARNING:root:sweep 28: ['Recording stopped before completing the experiment epoch']\n"
       ]
      },
      {
       "output_type": "stream",
       "stream": "stderr",
       "text": [
        "WARNING:root:sweep 29: ['Recording stopped before completing the experiment epoch']\n"
       ]
      },
      {
       "output_type": "stream",
       "stream": "stderr",
       "text": [
        "WARNING:root:sweep 30: ['Recording stopped before completing the experiment epoch']\n"
       ]
      },
      {
       "output_type": "stream",
       "stream": "stderr",
       "text": [
        "WARNING:root:sweep 31: ['Recording stopped before completing the experiment epoch']\n"
       ]
      },
      {
       "output_type": "stream",
       "stream": "stderr",
       "text": [
        "WARNING:root:sweep 32: ['Recording stopped before completing the experiment epoch']\n"
       ]
      },
      {
       "output_type": "stream",
       "stream": "stdout",
       "text": [
        "717675736.0 extracted\n",
        "loading dataset into data structure...\n"
       ]
      },
      {
       "output_type": "stream",
       "stream": "stderr",
       "text": [
        "WARNING:root:sweep 24: ['Recording stopped before completing the experiment epoch']\n"
       ]
      },
      {
       "output_type": "stream",
       "stream": "stderr",
       "text": [
        "WARNING:root:sweep 25: ['Recording stopped before completing the experiment epoch']\n"
       ]
      },
      {
       "output_type": "stream",
       "stream": "stderr",
       "text": [
        "WARNING:root:sweep 26: ['Recording stopped before completing the experiment epoch']\n"
       ]
      },
      {
       "output_type": "stream",
       "stream": "stderr",
       "text": [
        "WARNING:root:sweep 27: ['Recording stopped before completing the experiment epoch']\n"
       ]
      },
      {
       "output_type": "stream",
       "stream": "stderr",
       "text": [
        "WARNING:root:sweep 28: ['Recording stopped before completing the experiment epoch']\n"
       ]
      },
      {
       "output_type": "stream",
       "stream": "stdout",
       "text": [
        "717700352.0 extracted\n",
        "loading dataset into data structure...\n"
       ]
      },
      {
       "output_type": "stream",
       "stream": "stderr",
       "text": [
        "WARNING:root:sweep 27: ['Recording stopped before completing the experiment epoch']\n"
       ]
      },
      {
       "output_type": "stream",
       "stream": "stderr",
       "text": [
        "WARNING:root:sweep 28: ['Recording stopped before completing the experiment epoch']\n"
       ]
      },
      {
       "output_type": "stream",
       "stream": "stderr",
       "text": [
        "WARNING:root:sweep 29: ['Recording stopped before completing the experiment epoch']\n"
       ]
      },
      {
       "output_type": "stream",
       "stream": "stderr",
       "text": [
        "WARNING:root:sweep 30: ['Recording stopped before completing the experiment epoch']\n"
       ]
      },
      {
       "output_type": "stream",
       "stream": "stderr",
       "text": [
        "WARNING:root:sweep 31: ['Recording stopped before completing the experiment epoch']\n"
       ]
      },
      {
       "output_type": "stream",
       "stream": "stdout",
       "text": [
        "717702263.0 extracted\n",
        "loading dataset into data structure...\n"
       ]
      },
      {
       "output_type": "stream",
       "stream": "stderr",
       "text": [
        "WARNING:root:sweep 24: ['Recording stopped before completing the experiment epoch']\n"
       ]
      },
      {
       "output_type": "stream",
       "stream": "stderr",
       "text": [
        "WARNING:root:sweep 25: ['Recording stopped before completing the experiment epoch']\n"
       ]
      },
      {
       "output_type": "stream",
       "stream": "stderr",
       "text": [
        "WARNING:root:sweep 26: ['Recording stopped before completing the experiment epoch']\n"
       ]
      },
      {
       "output_type": "stream",
       "stream": "stderr",
       "text": [
        "WARNING:root:sweep 27: ['Recording stopped before completing the experiment epoch']\n"
       ]
      },
      {
       "output_type": "stream",
       "stream": "stderr",
       "text": [
        "WARNING:root:sweep 28: ['Recording stopped before completing the experiment epoch']\n"
       ]
      },
      {
       "output_type": "stream",
       "stream": "stdout",
       "text": [
        "717732613.0 extracted\n",
        "loading dataset into data structure...\n"
       ]
      },
      {
       "output_type": "stream",
       "stream": "stderr",
       "text": [
        "WARNING:root:sweep 24: ['Recording stopped before completing the experiment epoch']\n"
       ]
      },
      {
       "output_type": "stream",
       "stream": "stderr",
       "text": [
        "WARNING:root:sweep 25: ['Recording stopped before completing the experiment epoch']\n"
       ]
      },
      {
       "output_type": "stream",
       "stream": "stderr",
       "text": [
        "WARNING:root:sweep 26: ['Recording stopped before completing the experiment epoch']\n"
       ]
      },
      {
       "output_type": "stream",
       "stream": "stderr",
       "text": [
        "WARNING:root:sweep 27: ['Recording stopped before completing the experiment epoch']\n"
       ]
      },
      {
       "output_type": "stream",
       "stream": "stderr",
       "text": [
        "WARNING:root:sweep 28: ['Recording stopped before completing the experiment epoch']\n"
       ]
      },
      {
       "output_type": "stream",
       "stream": "stdout",
       "text": [
        "717732762.0 extracted\n",
        "loading dataset into data structure...\n"
       ]
      },
      {
       "output_type": "stream",
       "stream": "stderr",
       "text": [
        "WARNING:root:sweep 26: ['Recording stopped before completing the experiment epoch']\n"
       ]
      },
      {
       "output_type": "stream",
       "stream": "stderr",
       "text": [
        "WARNING:root:sweep 27: ['Recording stopped before completing the experiment epoch']\n"
       ]
      },
      {
       "output_type": "stream",
       "stream": "stderr",
       "text": [
        "WARNING:root:sweep 28: ['Recording stopped before completing the experiment epoch']\n"
       ]
      },
      {
       "output_type": "stream",
       "stream": "stderr",
       "text": [
        "WARNING:root:sweep 29: ['Recording stopped before completing the experiment epoch']\n"
       ]
      },
      {
       "output_type": "stream",
       "stream": "stderr",
       "text": [
        "WARNING:root:sweep 30: ['Recording stopped before completing the experiment epoch']\n"
       ]
      },
      {
       "output_type": "stream",
       "stream": "stdout",
       "text": [
        "717738370.0 extracted\n",
        "loading dataset into data structure...\n"
       ]
      },
      {
       "output_type": "stream",
       "stream": "stderr",
       "text": [
        "WARNING:root:sweep 28: ['Recording stopped before completing the experiment epoch']\n"
       ]
      },
      {
       "output_type": "stream",
       "stream": "stderr",
       "text": [
        "WARNING:root:sweep 29: ['Recording stopped before completing the experiment epoch']\n"
       ]
      },
      {
       "output_type": "stream",
       "stream": "stderr",
       "text": [
        "WARNING:root:sweep 30: ['Recording stopped before completing the experiment epoch']\n"
       ]
      },
      {
       "output_type": "stream",
       "stream": "stderr",
       "text": [
        "WARNING:root:sweep 31: ['Recording stopped before completing the experiment epoch']\n"
       ]
      },
      {
       "output_type": "stream",
       "stream": "stdout",
       "text": [
        "717745994.0 extracted\n",
        "loading dataset into data structure...\n"
       ]
      },
      {
       "output_type": "stream",
       "stream": "stdout",
       "text": [
        "717770635.0 extracted\n",
        "loading dataset into data structure...\n"
       ]
      },
      {
       "output_type": "stream",
       "stream": "stderr",
       "text": [
        "WARNING:root:sweep 29: ['Recording stopped before completing the experiment epoch']\n"
       ]
      },
      {
       "output_type": "stream",
       "stream": "stderr",
       "text": [
        "WARNING:root:sweep 30: ['Recording stopped before completing the experiment epoch']\n"
       ]
      },
      {
       "output_type": "stream",
       "stream": "stderr",
       "text": [
        "WARNING:root:sweep 31: ['Recording stopped before completing the experiment epoch']\n"
       ]
      },
      {
       "output_type": "stream",
       "stream": "stderr",
       "text": [
        "WARNING:root:sweep 32: ['Recording stopped before completing the experiment epoch']\n"
       ]
      },
      {
       "output_type": "stream",
       "stream": "stderr",
       "text": [
        "WARNING:root:sweep 33: ['Recording stopped before completing the experiment epoch']\n"
       ]
      },
      {
       "output_type": "stream",
       "stream": "stdout",
       "text": [
        "717784643.0 extracted\n",
        "loading dataset into data structure...\n"
       ]
      },
      {
       "output_type": "stream",
       "stream": "stdout",
       "text": [
        "718049075.0 extracted\n",
        "loading dataset into data structure...\n"
       ]
      },
      {
       "output_type": "stream",
       "stream": "stderr",
       "text": [
        "WARNING:root:sweep 28: ['Recording stopped before completing the experiment epoch']\n"
       ]
      },
      {
       "output_type": "stream",
       "stream": "stdout",
       "text": [
        "718054696.0 extracted\n",
        "loading dataset into data structure...\n"
       ]
      },
      {
       "output_type": "stream",
       "stream": "stderr",
       "text": [
        "WARNING:root:sweep 25: ['Recording stopped before completing the experiment epoch']\n"
       ]
      },
      {
       "output_type": "stream",
       "stream": "stderr",
       "text": [
        "WARNING:root:sweep 26: ['Recording stopped before completing the experiment epoch']\n"
       ]
      },
      {
       "output_type": "stream",
       "stream": "stderr",
       "text": [
        "WARNING:root:sweep 27: ['Recording stopped before completing the experiment epoch']\n"
       ]
      },
      {
       "output_type": "stream",
       "stream": "stderr",
       "text": [
        "WARNING:root:sweep 28: ['Recording stopped before completing the experiment epoch']\n"
       ]
      },
      {
       "output_type": "stream",
       "stream": "stderr",
       "text": [
        "WARNING:root:sweep 29: ['Recording stopped before completing the experiment epoch']\n"
       ]
      },
      {
       "output_type": "stream",
       "stream": "stderr",
       "text": [
        "/nethome/kcni/ychen/.local/lib/python3.6/site-packages/ipfx/spike_features.py:87: RuntimeWarning: invalid value encountered in less\n",
        "  width_levels[width_levels < v[spike_indexes]] = thresh_to_peak_levels[width_levels < v[spike_indexes]]\n"
       ]
      },
      {
       "output_type": "stream",
       "stream": "stdout",
       "text": [
        "718114850.0 extracted\n",
        "loading dataset into data structure...\n"
       ]
      },
      {
       "output_type": "stream",
       "stream": "stderr",
       "text": [
        "WARNING:root:sweep 39: ['Recording stopped before completing the experiment epoch']\n"
       ]
      },
      {
       "output_type": "stream",
       "stream": "stderr",
       "text": [
        "WARNING:root:sweep 40: ['Recording stopped before completing the experiment epoch']\n"
       ]
      },
      {
       "output_type": "stream",
       "stream": "stderr",
       "text": [
        "WARNING:root:sweep 41: ['Recording stopped before completing the experiment epoch']\n"
       ]
      },
      {
       "output_type": "stream",
       "stream": "stderr",
       "text": [
        "WARNING:root:sweep 42: ['Recording stopped before completing the experiment epoch']\n"
       ]
      },
      {
       "output_type": "stream",
       "stream": "stderr",
       "text": [
        "WARNING:root:sweep 43: ['Recording stopped before completing the experiment epoch']\n"
       ]
      },
      {
       "output_type": "stream",
       "stream": "stdout",
       "text": [
        "718123792.0 extracted\n",
        "loading dataset into data structure...\n"
       ]
      },
      {
       "output_type": "stream",
       "stream": "stderr",
       "text": [
        "WARNING:root:sweep 24: ['Recording stopped before completing the experiment epoch']\n"
       ]
      },
      {
       "output_type": "stream",
       "stream": "stderr",
       "text": [
        "WARNING:root:sweep 25: ['Recording stopped before completing the experiment epoch']\n"
       ]
      },
      {
       "output_type": "stream",
       "stream": "stderr",
       "text": [
        "WARNING:root:sweep 26: ['Recording stopped before completing the experiment epoch']\n"
       ]
      },
      {
       "output_type": "stream",
       "stream": "stderr",
       "text": [
        "WARNING:root:sweep 27: ['Recording stopped before completing the experiment epoch']\n"
       ]
      },
      {
       "output_type": "stream",
       "stream": "stderr",
       "text": [
        "WARNING:root:sweep 28: ['Recording stopped before completing the experiment epoch']\n"
       ]
      },
      {
       "output_type": "stream",
       "stream": "stderr",
       "text": [
        "WARNING:root:sweep 32: ['Recording stopped before completing the experiment epoch']\n"
       ]
      },
      {
       "output_type": "stream",
       "stream": "stdout",
       "text": [
        "718128873.0 extracted\n",
        "loading dataset into data structure...\n"
       ]
      },
      {
       "output_type": "stream",
       "stream": "stderr",
       "text": [
        "WARNING:root:sweep 26: ['Recording stopped before completing the experiment epoch']\n"
       ]
      },
      {
       "output_type": "stream",
       "stream": "stderr",
       "text": [
        "WARNING:root:sweep 27: ['Recording stopped before completing the experiment epoch']\n"
       ]
      },
      {
       "output_type": "stream",
       "stream": "stderr",
       "text": [
        "WARNING:root:sweep 28: ['Recording stopped before completing the experiment epoch']\n"
       ]
      },
      {
       "output_type": "stream",
       "stream": "stderr",
       "text": [
        "WARNING:root:sweep 29: ['Recording stopped before completing the experiment epoch']\n"
       ]
      },
      {
       "output_type": "stream",
       "stream": "stderr",
       "text": [
        "WARNING:root:sweep 30: ['Recording stopped before completing the experiment epoch']\n"
       ]
      },
      {
       "output_type": "stream",
       "stream": "stdout",
       "text": [
        "718135969.0 extracted\n",
        "loading dataset into data structure...\n"
       ]
      },
      {
       "output_type": "stream",
       "stream": "stderr",
       "text": [
        "WARNING:root:sweep 24: ['Recording stopped before completing the experiment epoch']\n"
       ]
      },
      {
       "output_type": "stream",
       "stream": "stderr",
       "text": [
        "WARNING:root:sweep 25: ['Recording stopped before completing the experiment epoch']\n"
       ]
      },
      {
       "output_type": "stream",
       "stream": "stderr",
       "text": [
        "WARNING:root:sweep 26: ['Recording stopped before completing the experiment epoch']\n"
       ]
      },
      {
       "output_type": "stream",
       "stream": "stderr",
       "text": [
        "WARNING:root:sweep 27: ['Recording stopped before completing the experiment epoch']\n"
       ]
      },
      {
       "output_type": "stream",
       "stream": "stderr",
       "text": [
        "WARNING:root:sweep 28: ['Recording stopped before completing the experiment epoch']\n"
       ]
      },
      {
       "output_type": "stream",
       "stream": "stderr",
       "text": [
        "WARNING:root:sweep 32: ['Recording stopped before completing the experiment epoch']\n"
       ]
      },
      {
       "output_type": "stream",
       "stream": "stderr",
       "text": [
        "WARNING:root:sweep 33: ['Recording stopped before completing the experiment epoch']\n"
       ]
      },
      {
       "output_type": "stream",
       "stream": "stdout",
       "text": [
        "718136012.0 extracted\n",
        "loading dataset into data structure...\n"
       ]
      },
      {
       "output_type": "stream",
       "stream": "stderr",
       "text": [
        "WARNING:root:sweep 20: ['experiment epoch is missing', 'stim epoch is missing']\n"
       ]
      },
      {
       "output_type": "stream",
       "stream": "stderr",
       "text": [
        "WARNING:root:sweep 29: ['Recording stopped before completing the experiment epoch']\n"
       ]
      },
      {
       "output_type": "stream",
       "stream": "stderr",
       "text": [
        "WARNING:root:sweep 30: ['Recording stopped before completing the experiment epoch']\n"
       ]
      },
      {
       "output_type": "stream",
       "stream": "stderr",
       "text": [
        "WARNING:root:sweep 31: ['Recording stopped before completing the experiment epoch']\n"
       ]
      },
      {
       "output_type": "stream",
       "stream": "stderr",
       "text": [
        "WARNING:root:sweep 32: ['Recording stopped before completing the experiment epoch']\n"
       ]
      },
      {
       "output_type": "stream",
       "stream": "stderr",
       "text": [
        "WARNING:root:sweep 33: ['Recording stopped before completing the experiment epoch']\n"
       ]
      },
      {
       "output_type": "stream",
       "stream": "stdout",
       "text": [
        "718138161.0 extracted\n",
        "loading dataset into data structure...\n"
       ]
      },
      {
       "output_type": "stream",
       "stream": "stderr",
       "text": [
        "WARNING:root:sweep 25: ['Recording stopped before completing the experiment epoch']\n"
       ]
      },
      {
       "output_type": "stream",
       "stream": "stderr",
       "text": [
        "WARNING:root:sweep 26: ['Recording stopped before completing the experiment epoch']\n"
       ]
      },
      {
       "output_type": "stream",
       "stream": "stderr",
       "text": [
        "WARNING:root:sweep 27: ['Recording stopped before completing the experiment epoch']\n"
       ]
      },
      {
       "output_type": "stream",
       "stream": "stderr",
       "text": [
        "WARNING:root:sweep 28: ['Recording stopped before completing the experiment epoch']\n"
       ]
      },
      {
       "output_type": "stream",
       "stream": "stderr",
       "text": [
        "WARNING:root:sweep 29: ['Recording stopped before completing the experiment epoch']\n"
       ]
      },
      {
       "output_type": "stream",
       "stream": "stdout",
       "text": [
        "718165701.0 extracted\n",
        "loading dataset into data structure...\n"
       ]
      },
      {
       "output_type": "stream",
       "stream": "stderr",
       "text": [
        "WARNING:root:sweep 22: ['Recording stopped before completing the experiment epoch']\n"
       ]
      },
      {
       "output_type": "stream",
       "stream": "stderr",
       "text": [
        "WARNING:root:sweep 23: ['Recording stopped before completing the experiment epoch']\n"
       ]
      },
      {
       "output_type": "stream",
       "stream": "stderr",
       "text": [
        "WARNING:root:sweep 24: ['Recording stopped before completing the experiment epoch']\n"
       ]
      },
      {
       "output_type": "stream",
       "stream": "stderr",
       "text": [
        "WARNING:root:sweep 25: ['Recording stopped before completing the experiment epoch']\n"
       ]
      },
      {
       "output_type": "stream",
       "stream": "stderr",
       "text": [
        "WARNING:root:sweep 26: ['Recording stopped before completing the experiment epoch']\n"
       ]
      },
      {
       "output_type": "stream",
       "stream": "stderr",
       "text": [
        "/nethome/kcni/ychen/.local/lib/python3.6/site-packages/ipfx/spike_features.py:87: RuntimeWarning: invalid value encountered in less\n",
        "  width_levels[width_levels < v[spike_indexes]] = thresh_to_peak_levels[width_levels < v[spike_indexes]]\n"
       ]
      },
      {
       "output_type": "stream",
       "stream": "stdout",
       "text": [
        "718177320.0 extracted\n",
        "loading dataset into data structure...\n"
       ]
      },
      {
       "output_type": "stream",
       "stream": "stderr",
       "text": [
        "WARNING:root:sweep 29: ['Recording stopped before completing the experiment epoch']\n"
       ]
      },
      {
       "output_type": "stream",
       "stream": "stderr",
       "text": [
        "WARNING:root:sweep 30: ['Recording stopped before completing the experiment epoch']\n"
       ]
      },
      {
       "output_type": "stream",
       "stream": "stderr",
       "text": [
        "WARNING:root:sweep 31: ['Recording stopped before completing the experiment epoch']\n"
       ]
      },
      {
       "output_type": "stream",
       "stream": "stderr",
       "text": [
        "WARNING:root:sweep 32: ['Recording stopped before completing the experiment epoch']\n"
       ]
      },
      {
       "output_type": "stream",
       "stream": "stderr",
       "text": [
        "WARNING:root:sweep 33: ['Recording stopped before completing the experiment epoch']\n"
       ]
      },
      {
       "output_type": "stream",
       "stream": "stdout",
       "text": [
        "718188717.0 extracted\n",
        "loading dataset into data structure...\n"
       ]
      },
      {
       "output_type": "stream",
       "stream": "stderr",
       "text": [
        "WARNING:root:sweep 37: ['Recording stopped before completing the experiment epoch']\n"
       ]
      },
      {
       "output_type": "stream",
       "stream": "stderr",
       "text": [
        "WARNING:root:sweep 38: ['Recording stopped before completing the experiment epoch']\n"
       ]
      },
      {
       "output_type": "stream",
       "stream": "stderr",
       "text": [
        "WARNING:root:sweep 39: ['Recording stopped before completing the experiment epoch']\n"
       ]
      },
      {
       "output_type": "stream",
       "stream": "stderr",
       "text": [
        "WARNING:root:sweep 40: ['Recording stopped before completing the experiment epoch']\n"
       ]
      },
      {
       "output_type": "stream",
       "stream": "stderr",
       "text": [
        "WARNING:root:sweep 41: ['Recording stopped before completing the experiment epoch']\n"
       ]
      },
      {
       "output_type": "stream",
       "stream": "stderr",
       "text": [
        "WARNING:root:sweep 42: ['Recording stopped before completing the experiment epoch']\n"
       ]
      },
      {
       "output_type": "stream",
       "stream": "stdout",
       "text": [
        "718195284.0 extracted\n",
        "loading dataset into data structure...\n"
       ]
      },
      {
       "output_type": "stream",
       "stream": "stderr",
       "text": [
        "WARNING:root:sweep 21: ['Recording stopped before completing the experiment epoch']\n"
       ]
      },
      {
       "output_type": "stream",
       "stream": "stderr",
       "text": [
        "WARNING:root:sweep 22: ['Recording stopped before completing the experiment epoch']\n"
       ]
      },
      {
       "output_type": "stream",
       "stream": "stderr",
       "text": [
        "WARNING:root:sweep 23: ['Recording stopped before completing the experiment epoch']\n"
       ]
      },
      {
       "output_type": "stream",
       "stream": "stderr",
       "text": [
        "WARNING:root:sweep 24: ['Recording stopped before completing the experiment epoch']\n"
       ]
      },
      {
       "output_type": "stream",
       "stream": "stderr",
       "text": [
        "WARNING:root:sweep 25: ['Recording stopped before completing the experiment epoch']\n"
       ]
      },
      {
       "output_type": "stream",
       "stream": "stdout",
       "text": [
        "718195555.0 extracted\n",
        "loading dataset into data structure...\n"
       ]
      },
      {
       "output_type": "stream",
       "stream": "stderr",
       "text": [
        "WARNING:root:sweep 30: ['Recording stopped before completing the experiment epoch']\n"
       ]
      },
      {
       "output_type": "stream",
       "stream": "stderr",
       "text": [
        "WARNING:root:sweep 31: ['Recording stopped before completing the experiment epoch']\n"
       ]
      },
      {
       "output_type": "stream",
       "stream": "stderr",
       "text": [
        "WARNING:root:sweep 32: ['Recording stopped before completing the experiment epoch']\n"
       ]
      },
      {
       "output_type": "stream",
       "stream": "stderr",
       "text": [
        "WARNING:root:sweep 33: ['Recording stopped before completing the experiment epoch']\n"
       ]
      },
      {
       "output_type": "stream",
       "stream": "stderr",
       "text": [
        "WARNING:root:sweep 34: ['Recording stopped before completing the experiment epoch']\n"
       ]
      },
      {
       "output_type": "stream",
       "stream": "stderr",
       "text": [
        "WARNING:root:sweep 35: ['Recording stopped before completing the experiment epoch']\n"
       ]
      },
      {
       "output_type": "stream",
       "stream": "stdout",
       "text": [
        "718196458.0 extracted\n",
        "loading dataset into data structure...\n"
       ]
      },
      {
       "output_type": "stream",
       "stream": "stderr",
       "text": [
        "WARNING:root:sweep 27: ['Recording stopped before completing the experiment epoch']\n"
       ]
      },
      {
       "output_type": "stream",
       "stream": "stderr",
       "text": [
        "WARNING:root:sweep 28: ['Recording stopped before completing the experiment epoch']\n"
       ]
      },
      {
       "output_type": "stream",
       "stream": "stderr",
       "text": [
        "WARNING:root:sweep 29: ['Recording stopped before completing the experiment epoch']\n"
       ]
      },
      {
       "output_type": "stream",
       "stream": "stderr",
       "text": [
        "WARNING:root:sweep 30: ['Recording stopped before completing the experiment epoch']\n"
       ]
      },
      {
       "output_type": "stream",
       "stream": "stderr",
       "text": [
        "WARNING:root:sweep 31: ['Recording stopped before completing the experiment epoch']\n"
       ]
      },
      {
       "output_type": "stream",
       "stream": "stderr",
       "text": [
        "/nethome/kcni/ychen/.local/lib/python3.6/site-packages/ipfx/spike_features.py:87: RuntimeWarning: invalid value encountered in less\n",
        "  width_levels[width_levels < v[spike_indexes]] = thresh_to_peak_levels[width_levels < v[spike_indexes]]\n"
       ]
      },
      {
       "output_type": "stream",
       "stream": "stdout",
       "text": [
        "718202813.0 extracted\n",
        "loading dataset into data structure...\n"
       ]
      },
      {
       "output_type": "stream",
       "stream": "stderr",
       "text": [
        "WARNING:root:sweep 31: ['Recording stopped before completing the experiment epoch']\n"
       ]
      },
      {
       "output_type": "stream",
       "stream": "stderr",
       "text": [
        "WARNING:root:sweep 32: ['Recording stopped before completing the experiment epoch']\n"
       ]
      },
      {
       "output_type": "stream",
       "stream": "stderr",
       "text": [
        "WARNING:root:sweep 33: ['Recording stopped before completing the experiment epoch']\n"
       ]
      },
      {
       "output_type": "stream",
       "stream": "stderr",
       "text": [
        "WARNING:root:sweep 34: ['Recording stopped before completing the experiment epoch']\n"
       ]
      },
      {
       "output_type": "stream",
       "stream": "stderr",
       "text": [
        "WARNING:root:sweep 35: ['Recording stopped before completing the experiment epoch']\n"
       ]
      },
      {
       "output_type": "stream",
       "stream": "stdout",
       "text": [
        "718205473.0 extracted\n",
        "loading dataset into data structure...\n"
       ]
      },
      {
       "output_type": "stream",
       "stream": "stderr",
       "text": [
        "WARNING:root:sweep 33: ['Recording stopped before completing the experiment epoch']\n"
       ]
      },
      {
       "output_type": "stream",
       "stream": "stderr",
       "text": [
        "WARNING:root:sweep 34: ['Recording stopped before completing the experiment epoch']\n"
       ]
      },
      {
       "output_type": "stream",
       "stream": "stderr",
       "text": [
        "WARNING:root:sweep 35: ['Recording stopped before completing the experiment epoch']\n"
       ]
      },
      {
       "output_type": "stream",
       "stream": "stderr",
       "text": [
        "WARNING:root:sweep 36: ['Recording stopped before completing the experiment epoch']\n"
       ]
      },
      {
       "output_type": "stream",
       "stream": "stderr",
       "text": [
        "WARNING:root:sweep 37: ['Recording stopped before completing the experiment epoch']\n"
       ]
      },
      {
       "output_type": "stream",
       "stream": "stdout",
       "text": [
        "718205957.0 extracted\n",
        "loading dataset into data structure...\n"
       ]
      },
      {
       "output_type": "stream",
       "stream": "stderr",
       "text": [
        "WARNING:root:sweep 28: ['Recording stopped before completing the experiment epoch']\n"
       ]
      },
      {
       "output_type": "stream",
       "stream": "stderr",
       "text": [
        "WARNING:root:sweep 29: ['Recording stopped before completing the experiment epoch']\n"
       ]
      },
      {
       "output_type": "stream",
       "stream": "stderr",
       "text": [
        "WARNING:root:sweep 30: ['Recording stopped before completing the experiment epoch']\n"
       ]
      },
      {
       "output_type": "stream",
       "stream": "stderr",
       "text": [
        "WARNING:root:sweep 31: ['Recording stopped before completing the experiment epoch']\n"
       ]
      },
      {
       "output_type": "stream",
       "stream": "stderr",
       "text": [
        "WARNING:root:sweep 32: ['Recording stopped before completing the experiment epoch']\n"
       ]
      },
      {
       "output_type": "stream",
       "stream": "stderr",
       "text": [
        "/nethome/kcni/ychen/.local/lib/python3.6/site-packages/ipfx/spike_features.py:87: RuntimeWarning: invalid value encountered in less\n",
        "  width_levels[width_levels < v[spike_indexes]] = thresh_to_peak_levels[width_levels < v[spike_indexes]]\n"
       ]
      },
      {
       "output_type": "stream",
       "stream": "stdout",
       "text": [
        "718207944.0 extracted\n"
       ]
      },
      {
       "output_type": "stream",
       "stream": "stdout",
       "text": [
        "loading dataset into data structure...\n"
       ]
      },
      {
       "output_type": "stream",
       "stream": "stderr",
       "text": [
        "WARNING:root:sweep 26: ['Recording stopped before completing the experiment epoch']\n"
       ]
      },
      {
       "output_type": "stream",
       "stream": "stderr",
       "text": [
        "WARNING:root:sweep 27: ['Recording stopped before completing the experiment epoch']\n"
       ]
      },
      {
       "output_type": "stream",
       "stream": "stderr",
       "text": [
        "WARNING:root:sweep 28: ['Recording stopped before completing the experiment epoch']\n"
       ]
      },
      {
       "output_type": "stream",
       "stream": "stderr",
       "text": [
        "WARNING:root:sweep 29: ['Recording stopped before completing the experiment epoch']\n"
       ]
      },
      {
       "output_type": "stream",
       "stream": "stderr",
       "text": [
        "WARNING:root:sweep 30: ['Recording stopped before completing the experiment epoch']\n"
       ]
      },
      {
       "output_type": "stream",
       "stream": "stderr",
       "text": [
        "WARNING:root:sweep 34: ['Recording stopped before completing the experiment epoch']\n"
       ]
      },
      {
       "output_type": "stream",
       "stream": "stdout",
       "text": [
        "718217349.0 extracted\n",
        "loading dataset into data structure...\n"
       ]
      },
      {
       "output_type": "stream",
       "stream": "stderr",
       "text": [
        "WARNING:root:sweep 39: ['Recording stopped before completing the experiment epoch']\n"
       ]
      },
      {
       "output_type": "stream",
       "stream": "stderr",
       "text": [
        "WARNING:root:sweep 40: ['Recording stopped before completing the experiment epoch']\n"
       ]
      },
      {
       "output_type": "stream",
       "stream": "stderr",
       "text": [
        "WARNING:root:sweep 41: ['Recording stopped before completing the experiment epoch']\n"
       ]
      },
      {
       "output_type": "stream",
       "stream": "stderr",
       "text": [
        "WARNING:root:sweep 42: ['Recording stopped before completing the experiment epoch']\n"
       ]
      },
      {
       "output_type": "stream",
       "stream": "stderr",
       "text": [
        "WARNING:root:sweep 43: ['Recording stopped before completing the experiment epoch']\n"
       ]
      },
      {
       "output_type": "stream",
       "stream": "stdout",
       "text": [
        "718237581.0 extracted\n",
        "loading dataset into data structure...\n"
       ]
      },
      {
       "output_type": "stream",
       "stream": "stderr",
       "text": [
        "WARNING:root:sweep 25: ['Recording stopped before completing the experiment epoch']\n"
       ]
      },
      {
       "output_type": "stream",
       "stream": "stderr",
       "text": [
        "WARNING:root:sweep 26: ['Recording stopped before completing the experiment epoch']\n"
       ]
      },
      {
       "output_type": "stream",
       "stream": "stderr",
       "text": [
        "WARNING:root:sweep 27: ['Recording stopped before completing the experiment epoch']\n"
       ]
      },
      {
       "output_type": "stream",
       "stream": "stderr",
       "text": [
        "WARNING:root:sweep 28: ['Recording stopped before completing the experiment epoch']\n"
       ]
      },
      {
       "output_type": "stream",
       "stream": "stderr",
       "text": [
        "WARNING:root:sweep 29: ['Recording stopped before completing the experiment epoch']\n"
       ]
      },
      {
       "output_type": "stream",
       "stream": "stdout",
       "text": [
        "718246985.0 extracted\n",
        "loading dataset into data structure...\n"
       ]
      },
      {
       "output_type": "stream",
       "stream": "stderr",
       "text": [
        "WARNING:root:sweep 31: ['Recording stopped before completing the experiment epoch']\n"
       ]
      },
      {
       "output_type": "stream",
       "stream": "stderr",
       "text": [
        "WARNING:root:sweep 32: ['Recording stopped before completing the experiment epoch']\n"
       ]
      },
      {
       "output_type": "stream",
       "stream": "stderr",
       "text": [
        "WARNING:root:sweep 33: ['Recording stopped before completing the experiment epoch']\n"
       ]
      },
      {
       "output_type": "stream",
       "stream": "stderr",
       "text": [
        "WARNING:root:sweep 34: ['Recording stopped before completing the experiment epoch']\n"
       ]
      },
      {
       "output_type": "stream",
       "stream": "stderr",
       "text": [
        "WARNING:root:sweep 35: ['Recording stopped before completing the experiment epoch']\n"
       ]
      },
      {
       "output_type": "stream",
       "stream": "stdout",
       "text": [
        "718255020.0 extracted\n",
        "loading dataset into data structure...\n"
       ]
      },
      {
       "output_type": "stream",
       "stream": "stdout",
       "text": [
        "718257664.0 extracted\n",
        "loading dataset into data structure...\n"
       ]
      },
      {
       "output_type": "stream",
       "stream": "stderr",
       "text": [
        "WARNING:root:sweep 31: ['Recording stopped before completing the experiment epoch']\n"
       ]
      },
      {
       "output_type": "stream",
       "stream": "stderr",
       "text": [
        "WARNING:root:sweep 32: ['Recording stopped before completing the experiment epoch']\n"
       ]
      },
      {
       "output_type": "stream",
       "stream": "stderr",
       "text": [
        "WARNING:root:sweep 33: ['Recording stopped before completing the experiment epoch']\n"
       ]
      },
      {
       "output_type": "stream",
       "stream": "stderr",
       "text": [
        "WARNING:root:sweep 34: ['Recording stopped before completing the experiment epoch']\n"
       ]
      },
      {
       "output_type": "stream",
       "stream": "stderr",
       "text": [
        "WARNING:root:sweep 35: ['Recording stopped before completing the experiment epoch']\n"
       ]
      },
      {
       "output_type": "stream",
       "stream": "stdout",
       "text": [
        "718257716.0 extracted\n",
        "loading dataset into data structure...\n"
       ]
      },
      {
       "output_type": "stream",
       "stream": "stderr",
       "text": [
        "WARNING:root:sweep 24: ['Recording stopped before completing the experiment epoch']\n"
       ]
      },
      {
       "output_type": "stream",
       "stream": "stderr",
       "text": [
        "WARNING:root:sweep 25: ['Recording stopped before completing the experiment epoch']\n"
       ]
      },
      {
       "output_type": "stream",
       "stream": "stderr",
       "text": [
        "WARNING:root:sweep 26: ['Recording stopped before completing the experiment epoch']\n"
       ]
      },
      {
       "output_type": "stream",
       "stream": "stderr",
       "text": [
        "WARNING:root:sweep 27: ['Recording stopped before completing the experiment epoch']\n"
       ]
      },
      {
       "output_type": "stream",
       "stream": "stderr",
       "text": [
        "WARNING:root:sweep 28: ['Recording stopped before completing the experiment epoch']\n"
       ]
      },
      {
       "output_type": "stream",
       "stream": "stderr",
       "text": [
        "/nethome/kcni/ychen/.local/lib/python3.6/site-packages/ipfx/spike_features.py:87: RuntimeWarning: invalid value encountered in less\n",
        "  width_levels[width_levels < v[spike_indexes]] = thresh_to_peak_levels[width_levels < v[spike_indexes]]\n"
       ]
      },
      {
       "output_type": "stream",
       "stream": "stdout",
       "text": [
        "718264660.0 extracted\n",
        "loading dataset into data structure...\n"
       ]
      },
      {
       "output_type": "stream",
       "stream": "stderr",
       "text": [
        "WARNING:root:sweep 6: ['Recording stopped before completing the experiment epoch']\n"
       ]
      },
      {
       "output_type": "stream",
       "stream": "stderr",
       "text": [
        "WARNING:root:sweep 8: ['Recording stopped before completing the experiment epoch']\n"
       ]
      },
      {
       "output_type": "stream",
       "stream": "stdout",
       "text": [
        "718473774.0 extracted\n",
        "loading dataset into data structure...\n"
       ]
      },
      {
       "output_type": "stream",
       "stream": "stderr",
       "text": [
        "WARNING:root:sweep 15: ['Recording stopped before completing the experiment epoch']\n"
       ]
      },
      {
       "output_type": "stream",
       "stream": "stdout",
       "text": [
        "718474288.0 extracted\n",
        "loading dataset into data structure...\n"
       ]
      },
      {
       "output_type": "stream",
       "stream": "stdout",
       "text": [
        "718475318.0 extracted\n",
        "loading dataset into data structure...\n"
       ]
      },
      {
       "output_type": "stream",
       "stream": "stderr",
       "text": [
        "WARNING:root:sweep 14: ['Recording stopped before completing the experiment epoch']\n"
       ]
      },
      {
       "output_type": "stream",
       "stream": "stdout",
       "text": [
        "718476740.0 extracted\n",
        "loading dataset into data structure...\n"
       ]
      },
      {
       "output_type": "stream",
       "stream": "stderr",
       "text": [
        "WARNING:root:sweep 6: ['Recording stopped before completing the experiment epoch']\n"
       ]
      },
      {
       "output_type": "stream",
       "stream": "stderr",
       "text": [
        "WARNING:root:sweep 13: ['Recording stopped before completing the experiment epoch']\n"
       ]
      },
      {
       "output_type": "stream",
       "stream": "stdout",
       "text": [
        "718492407.0 extracted\n",
        "loading dataset into data structure...\n"
       ]
      },
      {
       "output_type": "stream",
       "stream": "stderr",
       "text": [
        "WARNING:root:sweep 15: ['Recording stopped before completing the experiment epoch']\n"
       ]
      },
      {
       "output_type": "stream",
       "stream": "stdout",
       "text": [
        "718494231.0 extracted\n",
        "loading dataset into data structure...\n"
       ]
      },
      {
       "output_type": "stream",
       "stream": "stderr",
       "text": [
        "WARNING:root:sweep 30: ['Recording stopped before completing the experiment epoch']\n"
       ]
      },
      {
       "output_type": "stream",
       "stream": "stderr",
       "text": [
        "WARNING:root:sweep 31: ['Recording stopped before completing the experiment epoch']\n"
       ]
      },
      {
       "output_type": "stream",
       "stream": "stderr",
       "text": [
        "WARNING:root:sweep 32: ['Recording stopped before completing the experiment epoch']\n"
       ]
      },
      {
       "output_type": "stream",
       "stream": "stderr",
       "text": [
        "WARNING:root:sweep 33: ['Recording stopped before completing the experiment epoch']\n"
       ]
      },
      {
       "output_type": "stream",
       "stream": "stderr",
       "text": [
        "WARNING:root:sweep 34: ['Recording stopped before completing the experiment epoch']\n"
       ]
      },
      {
       "output_type": "stream",
       "stream": "stdout",
       "text": [
        "718552831.0 extracted\n",
        "loading dataset into data structure...\n"
       ]
      },
      {
       "output_type": "stream",
       "stream": "stdout",
       "text": [
        "718564349.0 extracted\n",
        "loading dataset into data structure...\n"
       ]
      },
      {
       "output_type": "stream",
       "stream": "stderr",
       "text": [
        "WARNING:root:sweep 27: ['Recording stopped before completing the experiment epoch']\n"
       ]
      },
      {
       "output_type": "stream",
       "stream": "stderr",
       "text": [
        "WARNING:root:sweep 28: ['Recording stopped before completing the experiment epoch']\n"
       ]
      },
      {
       "output_type": "stream",
       "stream": "stderr",
       "text": [
        "WARNING:root:sweep 29: ['Recording stopped before completing the experiment epoch']\n"
       ]
      },
      {
       "output_type": "stream",
       "stream": "stderr",
       "text": [
        "WARNING:root:sweep 30: ['Recording stopped before completing the experiment epoch']\n"
       ]
      },
      {
       "output_type": "stream",
       "stream": "stderr",
       "text": [
        "WARNING:root:sweep 31: ['Recording stopped before completing the experiment epoch']\n"
       ]
      },
      {
       "output_type": "stream",
       "stream": "stdout",
       "text": [
        "718571204.0 extracted\n",
        "loading dataset into data structure...\n"
       ]
      },
      {
       "output_type": "stream",
       "stream": "stderr",
       "text": [
        "WARNING:root:sweep 21: ['Recording stopped before completing the experiment epoch']\n"
       ]
      },
      {
       "output_type": "stream",
       "stream": "stderr",
       "text": [
        "WARNING:root:sweep 22: ['Recording stopped before completing the experiment epoch']\n"
       ]
      },
      {
       "output_type": "stream",
       "stream": "stderr",
       "text": [
        "WARNING:root:sweep 23: ['Recording stopped before completing the experiment epoch']\n"
       ]
      },
      {
       "output_type": "stream",
       "stream": "stderr",
       "text": [
        "WARNING:root:sweep 24: ['Recording stopped before completing the experiment epoch']\n"
       ]
      },
      {
       "output_type": "stream",
       "stream": "stderr",
       "text": [
        "WARNING:root:sweep 25: ['Recording stopped before completing the experiment epoch']\n"
       ]
      },
      {
       "output_type": "stream",
       "stream": "stdout",
       "text": [
        "718594887.0 extracted\n",
        "loading dataset into data structure...\n"
       ]
      },
      {
       "output_type": "stream",
       "stream": "stderr",
       "text": [
        "WARNING:root:sweep 26: ['Recording stopped before completing the experiment epoch']\n"
       ]
      },
      {
       "output_type": "stream",
       "stream": "stderr",
       "text": [
        "WARNING:root:sweep 27: ['Recording stopped before completing the experiment epoch']\n"
       ]
      },
      {
       "output_type": "stream",
       "stream": "stderr",
       "text": [
        "WARNING:root:sweep 28: ['Recording stopped before completing the experiment epoch']\n"
       ]
      },
      {
       "output_type": "stream",
       "stream": "stderr",
       "text": [
        "WARNING:root:sweep 29: ['Recording stopped before completing the experiment epoch']\n"
       ]
      },
      {
       "output_type": "stream",
       "stream": "stderr",
       "text": [
        "WARNING:root:sweep 30: ['Recording stopped before completing the experiment epoch']\n"
       ]
      },
      {
       "output_type": "stream",
       "stream": "stdout",
       "text": [
        "718601016.0 extracted\n",
        "loading dataset into data structure...\n"
       ]
      },
      {
       "output_type": "stream",
       "stream": "stderr",
       "text": [
        "WARNING:root:sweep 22: ['Recording stopped before completing the experiment epoch']\n"
       ]
      },
      {
       "output_type": "stream",
       "stream": "stderr",
       "text": [
        "WARNING:root:sweep 23: ['Recording stopped before completing the experiment epoch']\n"
       ]
      },
      {
       "output_type": "stream",
       "stream": "stderr",
       "text": [
        "WARNING:root:sweep 24: ['Recording stopped before completing the experiment epoch']\n"
       ]
      },
      {
       "output_type": "stream",
       "stream": "stderr",
       "text": [
        "WARNING:root:sweep 25: ['Recording stopped before completing the experiment epoch']\n"
       ]
      },
      {
       "output_type": "stream",
       "stream": "stderr",
       "text": [
        "WARNING:root:sweep 26: ['Recording stopped before completing the experiment epoch']\n"
       ]
      },
      {
       "output_type": "stream",
       "stream": "stdout",
       "text": [
        "718611725.0 extracted\n",
        "loading dataset into data structure...\n"
       ]
      },
      {
       "output_type": "stream",
       "stream": "stderr",
       "text": [
        "WARNING:root:sweep 30: ['Recording stopped before completing the experiment epoch']\n"
       ]
      },
      {
       "output_type": "stream",
       "stream": "stderr",
       "text": [
        "WARNING:root:sweep 31: ['Recording stopped before completing the experiment epoch']\n"
       ]
      },
      {
       "output_type": "stream",
       "stream": "stderr",
       "text": [
        "WARNING:root:sweep 32: ['Recording stopped before completing the experiment epoch']\n"
       ]
      },
      {
       "output_type": "stream",
       "stream": "stderr",
       "text": [
        "WARNING:root:sweep 33: ['Recording stopped before completing the experiment epoch']\n"
       ]
      },
      {
       "output_type": "stream",
       "stream": "stderr",
       "text": [
        "WARNING:root:sweep 34: ['Recording stopped before completing the experiment epoch']\n"
       ]
      },
      {
       "output_type": "stream",
       "stream": "stdout",
       "text": [
        "718618263.0 extracted\n",
        "loading dataset into data structure...\n"
       ]
      },
      {
       "output_type": "stream",
       "stream": "stderr",
       "text": [
        "WARNING:root:sweep 29: ['Recording stopped before completing the experiment epoch']\n"
       ]
      },
      {
       "output_type": "stream",
       "stream": "stderr",
       "text": [
        "WARNING:root:sweep 30: ['Recording stopped before completing the experiment epoch']\n"
       ]
      },
      {
       "output_type": "stream",
       "stream": "stderr",
       "text": [
        "WARNING:root:sweep 31: ['Recording stopped before completing the experiment epoch']\n"
       ]
      },
      {
       "output_type": "stream",
       "stream": "stderr",
       "text": [
        "WARNING:root:sweep 32: ['Recording stopped before completing the experiment epoch']\n"
       ]
      },
      {
       "output_type": "stream",
       "stream": "stderr",
       "text": [
        "WARNING:root:sweep 33: ['Recording stopped before completing the experiment epoch']\n"
       ]
      },
      {
       "output_type": "stream",
       "stream": "stdout",
       "text": [
        "718631381.0 extracted\n",
        "loading dataset into data structure...\n"
       ]
      },
      {
       "output_type": "stream",
       "stream": "stderr",
       "text": [
        "WARNING:root:sweep 25: ['Recording stopped before completing the experiment epoch']\n"
       ]
      },
      {
       "output_type": "stream",
       "stream": "stderr",
       "text": [
        "WARNING:root:sweep 26: ['Recording stopped before completing the experiment epoch']\n"
       ]
      },
      {
       "output_type": "stream",
       "stream": "stderr",
       "text": [
        "WARNING:root:sweep 27: ['Recording stopped before completing the experiment epoch']\n"
       ]
      },
      {
       "output_type": "stream",
       "stream": "stderr",
       "text": [
        "WARNING:root:sweep 28: ['Recording stopped before completing the experiment epoch']\n"
       ]
      },
      {
       "output_type": "stream",
       "stream": "stderr",
       "text": [
        "WARNING:root:sweep 29: ['Recording stopped before completing the experiment epoch']\n"
       ]
      },
      {
       "output_type": "stream",
       "stream": "stdout",
       "text": [
        "718632464.0 extracted\n",
        "loading dataset into data structure...\n"
       ]
      },
      {
       "output_type": "stream",
       "stream": "stderr",
       "text": [
        "WARNING:root:sweep 27: ['Recording stopped before completing the experiment epoch']\n"
       ]
      },
      {
       "output_type": "stream",
       "stream": "stderr",
       "text": [
        "WARNING:root:sweep 28: ['Recording stopped before completing the experiment epoch']\n"
       ]
      },
      {
       "output_type": "stream",
       "stream": "stderr",
       "text": [
        "WARNING:root:sweep 29: ['Recording stopped before completing the experiment epoch']\n"
       ]
      },
      {
       "output_type": "stream",
       "stream": "stderr",
       "text": [
        "WARNING:root:sweep 30: ['Recording stopped before completing the experiment epoch']\n"
       ]
      },
      {
       "output_type": "stream",
       "stream": "stderr",
       "text": [
        "WARNING:root:sweep 31: ['Recording stopped before completing the experiment epoch']\n"
       ]
      },
      {
       "output_type": "stream",
       "stream": "stdout",
       "text": [
        "718634695.0 extracted\n",
        "loading dataset into data structure...\n"
       ]
      },
      {
       "output_type": "stream",
       "stream": "stderr",
       "text": [
        "WARNING:root:sweep 25: ['Recording stopped before completing the experiment epoch']\n"
       ]
      },
      {
       "output_type": "stream",
       "stream": "stderr",
       "text": [
        "WARNING:root:sweep 26: ['Recording stopped before completing the experiment epoch']\n"
       ]
      },
      {
       "output_type": "stream",
       "stream": "stderr",
       "text": [
        "WARNING:root:sweep 27: ['Recording stopped before completing the experiment epoch']\n"
       ]
      },
      {
       "output_type": "stream",
       "stream": "stderr",
       "text": [
        "WARNING:root:sweep 28: ['Recording stopped before completing the experiment epoch']\n"
       ]
      },
      {
       "output_type": "stream",
       "stream": "stderr",
       "text": [
        "WARNING:root:sweep 29: ['Recording stopped before completing the experiment epoch']\n"
       ]
      },
      {
       "output_type": "stream",
       "stream": "stderr",
       "text": [
        "WARNING:root:sweep 33: ['Recording stopped before completing the experiment epoch']\n"
       ]
      },
      {
       "output_type": "stream",
       "stream": "stderr",
       "text": [
        "WARNING:root:sweep 37: ['Recording stopped before completing the experiment epoch']\n"
       ]
      },
      {
       "output_type": "stream",
       "stream": "stdout",
       "text": [
        "718636190.0 extracted\n",
        "loading dataset into data structure...\n"
       ]
      },
      {
       "output_type": "stream",
       "stream": "stderr",
       "text": [
        "WARNING:root:sweep 25: ['experiment epoch is missing', 'stim epoch is missing']\n"
       ]
      },
      {
       "output_type": "stream",
       "stream": "stderr",
       "text": [
        "WARNING:root:sweep 28: ['Recording stopped before completing the experiment epoch']\n"
       ]
      },
      {
       "output_type": "stream",
       "stream": "stderr",
       "text": [
        "WARNING:root:sweep 29: ['Recording stopped before completing the experiment epoch']\n"
       ]
      },
      {
       "output_type": "stream",
       "stream": "stderr",
       "text": [
        "WARNING:root:sweep 30: ['Recording stopped before completing the experiment epoch']\n"
       ]
      },
      {
       "output_type": "stream",
       "stream": "stderr",
       "text": [
        "WARNING:root:sweep 31: ['Recording stopped before completing the experiment epoch']\n"
       ]
      },
      {
       "output_type": "stream",
       "stream": "stderr",
       "text": [
        "WARNING:root:sweep 32: ['Recording stopped before completing the experiment epoch']\n"
       ]
      },
      {
       "output_type": "stream",
       "stream": "stdout",
       "text": [
        "718640845.0 extracted\n",
        "loading dataset into data structure...\n"
       ]
      },
      {
       "output_type": "stream",
       "stream": "stderr",
       "text": [
        "WARNING:root:sweep 22: ['Recording stopped before completing the experiment epoch']\n"
       ]
      },
      {
       "output_type": "stream",
       "stream": "stderr",
       "text": [
        "WARNING:root:sweep 23: ['Recording stopped before completing the experiment epoch']\n"
       ]
      },
      {
       "output_type": "stream",
       "stream": "stderr",
       "text": [
        "WARNING:root:sweep 24: ['Recording stopped before completing the experiment epoch']\n"
       ]
      },
      {
       "output_type": "stream",
       "stream": "stderr",
       "text": [
        "WARNING:root:sweep 25: ['Recording stopped before completing the experiment epoch']\n"
       ]
      },
      {
       "output_type": "stream",
       "stream": "stderr",
       "text": [
        "WARNING:root:sweep 26: ['Recording stopped before completing the experiment epoch']\n"
       ]
      },
      {
       "output_type": "stream",
       "stream": "stdout",
       "text": [
        "718643242.0 extracted\n",
        "loading dataset into data structure...\n"
       ]
      },
      {
       "output_type": "stream",
       "stream": "stderr",
       "text": [
        "WARNING:root:sweep 33: ['Recording stopped before completing the experiment epoch']\n"
       ]
      },
      {
       "output_type": "stream",
       "stream": "stderr",
       "text": [
        "WARNING:root:sweep 34: ['Recording stopped before completing the experiment epoch']\n"
       ]
      },
      {
       "output_type": "stream",
       "stream": "stderr",
       "text": [
        "WARNING:root:sweep 35: ['Recording stopped before completing the experiment epoch']\n"
       ]
      },
      {
       "output_type": "stream",
       "stream": "stderr",
       "text": [
        "WARNING:root:sweep 36: ['Recording stopped before completing the experiment epoch']\n"
       ]
      },
      {
       "output_type": "stream",
       "stream": "stderr",
       "text": [
        "WARNING:root:sweep 37: ['Recording stopped before completing the experiment epoch']\n"
       ]
      },
      {
       "output_type": "stream",
       "stream": "stdout",
       "text": [
        "718643723.0 extracted\n",
        "loading dataset into data structure...\n"
       ]
      },
      {
       "output_type": "stream",
       "stream": "stderr",
       "text": [
        "WARNING:root:sweep 26: ['Recording stopped before completing the experiment epoch']\n"
       ]
      },
      {
       "output_type": "stream",
       "stream": "stderr",
       "text": [
        "WARNING:root:sweep 27: ['Recording stopped before completing the experiment epoch']\n"
       ]
      },
      {
       "output_type": "stream",
       "stream": "stderr",
       "text": [
        "WARNING:root:sweep 28: ['Recording stopped before completing the experiment epoch']\n"
       ]
      },
      {
       "output_type": "stream",
       "stream": "stderr",
       "text": [
        "WARNING:root:sweep 29: ['Recording stopped before completing the experiment epoch']\n"
       ]
      },
      {
       "output_type": "stream",
       "stream": "stderr",
       "text": [
        "WARNING:root:sweep 30: ['Recording stopped before completing the experiment epoch']\n"
       ]
      },
      {
       "output_type": "stream",
       "stream": "stdout",
       "text": [
        "718644056.0 extracted\n",
        "loading dataset into data structure...\n"
       ]
      },
      {
       "output_type": "stream",
       "stream": "stdout",
       "text": [
        "718645369.0 extracted\n",
        "loading dataset into data structure...\n"
       ]
      },
      {
       "output_type": "stream",
       "stream": "stderr",
       "text": [
        "WARNING:root:sweep 26: ['Recording stopped before completing the experiment epoch']\n"
       ]
      },
      {
       "output_type": "stream",
       "stream": "stderr",
       "text": [
        "WARNING:root:sweep 27: ['Recording stopped before completing the experiment epoch']\n"
       ]
      },
      {
       "output_type": "stream",
       "stream": "stderr",
       "text": [
        "WARNING:root:sweep 28: ['Recording stopped before completing the experiment epoch']\n"
       ]
      },
      {
       "output_type": "stream",
       "stream": "stderr",
       "text": [
        "WARNING:root:sweep 29: ['Recording stopped before completing the experiment epoch']\n"
       ]
      },
      {
       "output_type": "stream",
       "stream": "stderr",
       "text": [
        "WARNING:root:sweep 30: ['Recording stopped before completing the experiment epoch']\n"
       ]
      },
      {
       "output_type": "stream",
       "stream": "stdout",
       "text": [
        "718645405.0 extracted\n",
        "loading dataset into data structure...\n"
       ]
      },
      {
       "output_type": "stream",
       "stream": "stderr",
       "text": [
        "WARNING:root:sweep 28: ['Recording stopped before completing the experiment epoch']\n"
       ]
      },
      {
       "output_type": "stream",
       "stream": "stderr",
       "text": [
        "WARNING:root:sweep 29: ['Recording stopped before completing the experiment epoch']\n"
       ]
      },
      {
       "output_type": "stream",
       "stream": "stderr",
       "text": [
        "WARNING:root:sweep 30: ['Recording stopped before completing the experiment epoch']\n"
       ]
      },
      {
       "output_type": "stream",
       "stream": "stderr",
       "text": [
        "WARNING:root:sweep 31: ['Recording stopped before completing the experiment epoch']\n"
       ]
      },
      {
       "output_type": "stream",
       "stream": "stderr",
       "text": [
        "WARNING:root:sweep 32: ['Recording stopped before completing the experiment epoch']\n"
       ]
      },
      {
       "output_type": "stream",
       "stream": "stdout",
       "text": [
        "718647025.0 extracted\n",
        "loading dataset into data structure...\n"
       ]
      },
      {
       "output_type": "stream",
       "stream": "stderr",
       "text": [
        "WARNING:root:sweep 25: ['Recording stopped before completing the experiment epoch']\n"
       ]
      },
      {
       "output_type": "stream",
       "stream": "stderr",
       "text": [
        "WARNING:root:sweep 26: ['Recording stopped before completing the experiment epoch']\n"
       ]
      },
      {
       "output_type": "stream",
       "stream": "stderr",
       "text": [
        "WARNING:root:sweep 27: ['Recording stopped before completing the experiment epoch']\n"
       ]
      },
      {
       "output_type": "stream",
       "stream": "stderr",
       "text": [
        "WARNING:root:sweep 28: ['Recording stopped before completing the experiment epoch']\n"
       ]
      },
      {
       "output_type": "stream",
       "stream": "stderr",
       "text": [
        "WARNING:root:sweep 29: ['Recording stopped before completing the experiment epoch']\n"
       ]
      },
      {
       "output_type": "stream",
       "stream": "stdout",
       "text": [
        "718647510.0 extracted\n",
        "loading dataset into data structure...\n"
       ]
      },
      {
       "output_type": "stream",
       "stream": "stderr",
       "text": [
        "WARNING:root:sweep 25: ['Recording stopped before completing the experiment epoch']\n"
       ]
      },
      {
       "output_type": "stream",
       "stream": "stderr",
       "text": [
        "WARNING:root:sweep 26: ['Recording stopped before completing the experiment epoch']\n"
       ]
      },
      {
       "output_type": "stream",
       "stream": "stderr",
       "text": [
        "WARNING:root:sweep 27: ['Recording stopped before completing the experiment epoch']\n"
       ]
      },
      {
       "output_type": "stream",
       "stream": "stderr",
       "text": [
        "WARNING:root:sweep 28: ['Recording stopped before completing the experiment epoch']\n"
       ]
      },
      {
       "output_type": "stream",
       "stream": "stderr",
       "text": [
        "WARNING:root:sweep 29: ['Recording stopped before completing the experiment epoch']\n"
       ]
      },
      {
       "output_type": "stream",
       "stream": "stdout",
       "text": [
        "718649829.0 extracted\n",
        "loading dataset into data structure...\n"
       ]
      },
      {
       "output_type": "stream",
       "stream": "stdout",
       "text": [
        "718650384.0 extracted\n",
        "loading dataset into data structure...\n"
       ]
      },
      {
       "output_type": "stream",
       "stream": "stdout",
       "text": [
        "718654090.0 extracted\n",
        "loading dataset into data structure...\n"
       ]
      },
      {
       "output_type": "stream",
       "stream": "stderr",
       "text": [
        "WARNING:root:sweep 28: ['Recording stopped before completing the experiment epoch']\n"
       ]
      },
      {
       "output_type": "stream",
       "stream": "stderr",
       "text": [
        "WARNING:root:sweep 29: ['Recording stopped before completing the experiment epoch']\n"
       ]
      },
      {
       "output_type": "stream",
       "stream": "stderr",
       "text": [
        "WARNING:root:sweep 30: ['Recording stopped before completing the experiment epoch']\n"
       ]
      },
      {
       "output_type": "stream",
       "stream": "stderr",
       "text": [
        "WARNING:root:sweep 31: ['Recording stopped before completing the experiment epoch']\n"
       ]
      },
      {
       "output_type": "stream",
       "stream": "stderr",
       "text": [
        "WARNING:root:sweep 32: ['Recording stopped before completing the experiment epoch']\n"
       ]
      },
      {
       "output_type": "stream",
       "stream": "stderr",
       "text": [
        "/nethome/kcni/ychen/.local/lib/python3.6/site-packages/ipfx/spike_features.py:87: RuntimeWarning: invalid value encountered in less\n",
        "  width_levels[width_levels < v[spike_indexes]] = thresh_to_peak_levels[width_levels < v[spike_indexes]]\n"
       ]
      },
      {
       "output_type": "stream",
       "stream": "stdout",
       "text": [
        "718654456.0 extracted\n",
        "loading dataset into data structure...\n"
       ]
      },
      {
       "output_type": "stream",
       "stream": "stderr",
       "text": [
        "WARNING:root:sweep 29: ['Recording stopped before completing the experiment epoch']\n"
       ]
      },
      {
       "output_type": "stream",
       "stream": "stderr",
       "text": [
        "WARNING:root:sweep 30: ['Recording stopped before completing the experiment epoch']\n"
       ]
      },
      {
       "output_type": "stream",
       "stream": "stderr",
       "text": [
        "WARNING:root:sweep 31: ['Recording stopped before completing the experiment epoch']\n"
       ]
      },
      {
       "output_type": "stream",
       "stream": "stderr",
       "text": [
        "WARNING:root:sweep 32: ['Recording stopped before completing the experiment epoch']\n"
       ]
      },
      {
       "output_type": "stream",
       "stream": "stderr",
       "text": [
        "WARNING:root:sweep 33: ['Recording stopped before completing the experiment epoch']\n"
       ]
      },
      {
       "output_type": "stream",
       "stream": "stdout",
       "text": [
        "718654972.0 extracted\n",
        "loading dataset into data structure...\n"
       ]
      },
      {
       "output_type": "stream",
       "stream": "stderr",
       "text": [
        "WARNING:root:sweep 31: ['Recording stopped before completing the experiment epoch']\n"
       ]
      },
      {
       "output_type": "stream",
       "stream": "stderr",
       "text": [
        "WARNING:root:sweep 32: ['Recording stopped before completing the experiment epoch']\n"
       ]
      },
      {
       "output_type": "stream",
       "stream": "stderr",
       "text": [
        "WARNING:root:sweep 33: ['Recording stopped before completing the experiment epoch']\n"
       ]
      },
      {
       "output_type": "stream",
       "stream": "stderr",
       "text": [
        "WARNING:root:sweep 34: ['Recording stopped before completing the experiment epoch']\n"
       ]
      },
      {
       "output_type": "stream",
       "stream": "stderr",
       "text": [
        "WARNING:root:sweep 35: ['Recording stopped before completing the experiment epoch']\n"
       ]
      },
      {
       "output_type": "stream",
       "stream": "stderr",
       "text": [
        "WARNING:root:sweep 43: ['experiment epoch is missing', 'stim epoch is missing']\n"
       ]
      },
      {
       "output_type": "stream",
       "stream": "stdout",
       "text": [
        "718656998.0 extracted\n",
        "loading dataset into data structure...\n"
       ]
      },
      {
       "output_type": "stream",
       "stream": "stderr",
       "text": [
        "WARNING:root:sweep 23: ['Recording stopped before completing the experiment epoch']\n"
       ]
      },
      {
       "output_type": "stream",
       "stream": "stderr",
       "text": [
        "WARNING:root:sweep 24: ['Recording stopped before completing the experiment epoch']\n"
       ]
      },
      {
       "output_type": "stream",
       "stream": "stderr",
       "text": [
        "WARNING:root:sweep 25: ['Recording stopped before completing the experiment epoch']\n"
       ]
      },
      {
       "output_type": "stream",
       "stream": "stderr",
       "text": [
        "WARNING:root:sweep 26: ['Recording stopped before completing the experiment epoch']\n"
       ]
      },
      {
       "output_type": "stream",
       "stream": "stderr",
       "text": [
        "WARNING:root:sweep 27: ['Recording stopped before completing the experiment epoch']\n"
       ]
      },
      {
       "output_type": "stream",
       "stream": "stdout",
       "text": [
        "718657362.0 extracted\n",
        "loading dataset into data structure...\n"
       ]
      },
      {
       "output_type": "stream",
       "stream": "stderr",
       "text": [
        "WARNING:root:sweep 16: ['Recording stopped before completing the experiment epoch']\n"
       ]
      },
      {
       "output_type": "stream",
       "stream": "stdout",
       "text": [
        "718759804.0 extracted\n",
        "loading dataset into data structure...\n"
       ]
      },
      {
       "output_type": "stream",
       "stream": "stderr",
       "text": [
        "WARNING:root:sweep 24: ['Recording stopped before completing the experiment epoch']\n"
       ]
      },
      {
       "output_type": "stream",
       "stream": "stderr",
       "text": [
        "WARNING:root:sweep 25: ['Recording stopped before completing the experiment epoch']\n"
       ]
      },
      {
       "output_type": "stream",
       "stream": "stderr",
       "text": [
        "WARNING:root:sweep 26: ['Recording stopped before completing the experiment epoch']\n"
       ]
      },
      {
       "output_type": "stream",
       "stream": "stderr",
       "text": [
        "WARNING:root:sweep 27: ['Recording stopped before completing the experiment epoch']\n"
       ]
      },
      {
       "output_type": "stream",
       "stream": "stderr",
       "text": [
        "WARNING:root:sweep 28: ['Recording stopped before completing the experiment epoch']\n"
       ]
      },
      {
       "output_type": "stream",
       "stream": "stdout",
       "text": [
        "718798931.0 extracted\n",
        "loading dataset into data structure...\n"
       ]
      },
      {
       "output_type": "stream",
       "stream": "stderr",
       "text": [
        "WARNING:root:sweep 22: ['Recording stopped before completing the experiment epoch']\n"
       ]
      },
      {
       "output_type": "stream",
       "stream": "stderr",
       "text": [
        "WARNING:root:sweep 23: ['Recording stopped before completing the experiment epoch']\n"
       ]
      },
      {
       "output_type": "stream",
       "stream": "stderr",
       "text": [
        "WARNING:root:sweep 24: ['Recording stopped before completing the experiment epoch']\n"
       ]
      },
      {
       "output_type": "stream",
       "stream": "stderr",
       "text": [
        "WARNING:root:sweep 25: ['Recording stopped before completing the experiment epoch']\n"
       ]
      },
      {
       "output_type": "stream",
       "stream": "stderr",
       "text": [
        "WARNING:root:sweep 26: ['Recording stopped before completing the experiment epoch']\n"
       ]
      },
      {
       "output_type": "stream",
       "stream": "stderr",
       "text": [
        "WARNING:root:sweep 27: ['Recording stopped before completing the experiment epoch']\n"
       ]
      },
      {
       "output_type": "stream",
       "stream": "stdout",
       "text": [
        "718831022.0 extracted\n",
        "loading dataset into data structure...\n"
       ]
      },
      {
       "output_type": "stream",
       "stream": "stdout",
       "text": [
        "718849411.0 extracted\n",
        "loading dataset into data structure...\n"
       ]
      },
      {
       "output_type": "stream",
       "stream": "stderr",
       "text": [
        "WARNING:root:sweep 24: ['Recording stopped before completing the experiment epoch']\n"
       ]
      },
      {
       "output_type": "stream",
       "stream": "stderr",
       "text": [
        "WARNING:root:sweep 25: ['Recording stopped before completing the experiment epoch']\n"
       ]
      },
      {
       "output_type": "stream",
       "stream": "stderr",
       "text": [
        "WARNING:root:sweep 26: ['Recording stopped before completing the experiment epoch']\n"
       ]
      },
      {
       "output_type": "stream",
       "stream": "stderr",
       "text": [
        "WARNING:root:sweep 27: ['Recording stopped before completing the experiment epoch']\n"
       ]
      },
      {
       "output_type": "stream",
       "stream": "stderr",
       "text": [
        "WARNING:root:sweep 28: ['Recording stopped before completing the experiment epoch']\n"
       ]
      },
      {
       "output_type": "stream",
       "stream": "stderr",
       "text": [
        "WARNING:root:sweep 35: ['experiment epoch is missing', 'stim epoch is missing']\n"
       ]
      },
      {
       "output_type": "stream",
       "stream": "stdout",
       "text": [
        "718852883.0 extracted\n",
        "loading dataset into data structure...\n"
       ]
      },
      {
       "output_type": "stream",
       "stream": "stderr",
       "text": [
        "WARNING:root:sweep 28: ['experiment epoch is missing', 'stim epoch is missing']\n"
       ]
      },
      {
       "output_type": "stream",
       "stream": "stderr",
       "text": [
        "WARNING:root:sweep 29: ['Recording stopped before completing the experiment epoch']\n"
       ]
      },
      {
       "output_type": "stream",
       "stream": "stderr",
       "text": [
        "WARNING:root:sweep 30: ['Recording stopped before completing the experiment epoch']\n"
       ]
      },
      {
       "output_type": "stream",
       "stream": "stderr",
       "text": [
        "WARNING:root:sweep 31: ['Recording stopped before completing the experiment epoch']\n"
       ]
      },
      {
       "output_type": "stream",
       "stream": "stderr",
       "text": [
        "WARNING:root:sweep 32: ['Recording stopped before completing the experiment epoch']\n"
       ]
      },
      {
       "output_type": "stream",
       "stream": "stderr",
       "text": [
        "WARNING:root:sweep 33: ['Recording stopped before completing the experiment epoch']\n"
       ]
      },
      {
       "output_type": "stream",
       "stream": "stdout",
       "text": [
        "718869962.0 extracted\n",
        "loading dataset into data structure...\n"
       ]
      },
      {
       "output_type": "stream",
       "stream": "stdout",
       "text": [
        "718872930.0 extracted\n",
        "loading dataset into data structure...\n"
       ]
      },
      {
       "output_type": "stream",
       "stream": "stderr",
       "text": [
        "WARNING:root:sweep 30: ['Recording stopped before completing the experiment epoch']\n"
       ]
      },
      {
       "output_type": "stream",
       "stream": "stderr",
       "text": [
        "WARNING:root:sweep 31: ['Recording stopped before completing the experiment epoch']\n"
       ]
      },
      {
       "output_type": "stream",
       "stream": "stderr",
       "text": [
        "WARNING:root:sweep 32: ['Recording stopped before completing the experiment epoch']\n"
       ]
      },
      {
       "output_type": "stream",
       "stream": "stderr",
       "text": [
        "WARNING:root:sweep 33: ['Recording stopped before completing the experiment epoch']\n"
       ]
      },
      {
       "output_type": "stream",
       "stream": "stderr",
       "text": [
        "WARNING:root:sweep 34: ['Recording stopped before completing the experiment epoch']\n"
       ]
      },
      {
       "output_type": "stream",
       "stream": "stdout",
       "text": [
        "718873091.0 extracted\n",
        "loading dataset into data structure...\n"
       ]
      },
      {
       "output_type": "stream",
       "stream": "stderr",
       "text": [
        "WARNING:root:sweep 36: ['Recording stopped before completing the experiment epoch']\n"
       ]
      },
      {
       "output_type": "stream",
       "stream": "stderr",
       "text": [
        "WARNING:root:sweep 37: ['Recording stopped before completing the experiment epoch']\n"
       ]
      },
      {
       "output_type": "stream",
       "stream": "stderr",
       "text": [
        "WARNING:root:sweep 38: ['Recording stopped before completing the experiment epoch']\n"
       ]
      },
      {
       "output_type": "stream",
       "stream": "stderr",
       "text": [
        "WARNING:root:sweep 39: ['Recording stopped before completing the experiment epoch']\n"
       ]
      },
      {
       "output_type": "stream",
       "stream": "stderr",
       "text": [
        "WARNING:root:sweep 40: ['Recording stopped before completing the experiment epoch']\n"
       ]
      },
      {
       "output_type": "stream",
       "stream": "stderr",
       "text": [
        "/nethome/kcni/ychen/.local/lib/python3.6/site-packages/ipfx/spike_features.py:87: RuntimeWarning: invalid value encountered in less\n",
        "  width_levels[width_levels < v[spike_indexes]] = thresh_to_peak_levels[width_levels < v[spike_indexes]]\n"
       ]
      },
      {
       "output_type": "stream",
       "stream": "stdout",
       "text": [
        "718874355.0 extracted\n",
        "loading dataset into data structure...\n"
       ]
      },
      {
       "output_type": "stream",
       "stream": "stderr",
       "text": [
        "WARNING:root:sweep 25: ['Recording stopped before completing the experiment epoch']\n"
       ]
      },
      {
       "output_type": "stream",
       "stream": "stderr",
       "text": [
        "WARNING:root:sweep 26: ['Recording stopped before completing the experiment epoch']\n"
       ]
      },
      {
       "output_type": "stream",
       "stream": "stderr",
       "text": [
        "WARNING:root:sweep 27: ['Recording stopped before completing the experiment epoch']\n"
       ]
      },
      {
       "output_type": "stream",
       "stream": "stderr",
       "text": [
        "WARNING:root:sweep 28: ['Recording stopped before completing the experiment epoch']\n"
       ]
      },
      {
       "output_type": "stream",
       "stream": "stderr",
       "text": [
        "WARNING:root:sweep 29: ['Recording stopped before completing the experiment epoch']\n"
       ]
      },
      {
       "output_type": "stream",
       "stream": "stderr",
       "text": [
        "WARNING:root:sweep 30: ['Recording stopped before completing the experiment epoch']\n"
       ]
      },
      {
       "output_type": "stream",
       "stream": "stdout",
       "text": [
        "718875577.0 extracted\n",
        "loading dataset into data structure...\n"
       ]
      },
      {
       "output_type": "stream",
       "stream": "stderr",
       "text": [
        "/nethome/kcni/ychen/.local/lib/python3.6/site-packages/ipfx/spike_features.py:87: RuntimeWarning: invalid value encountered in less\n",
        "  width_levels[width_levels < v[spike_indexes]] = thresh_to_peak_levels[width_levels < v[spike_indexes]]\n"
       ]
      },
      {
       "output_type": "stream",
       "stream": "stdout",
       "text": [
        "718877932.0 extracted\n",
        "loading dataset into data structure...\n"
       ]
      },
      {
       "output_type": "stream",
       "stream": "stderr",
       "text": [
        "WARNING:root:sweep 24: ['Recording stopped before completing the experiment epoch']\n"
       ]
      },
      {
       "output_type": "stream",
       "stream": "stderr",
       "text": [
        "WARNING:root:sweep 25: ['Recording stopped before completing the experiment epoch']\n"
       ]
      },
      {
       "output_type": "stream",
       "stream": "stderr",
       "text": [
        "WARNING:root:sweep 26: ['Recording stopped before completing the experiment epoch']\n"
       ]
      },
      {
       "output_type": "stream",
       "stream": "stderr",
       "text": [
        "WARNING:root:sweep 27: ['Recording stopped before completing the experiment epoch']\n"
       ]
      },
      {
       "output_type": "stream",
       "stream": "stderr",
       "text": [
        "WARNING:root:sweep 28: ['Recording stopped before completing the experiment epoch']\n"
       ]
      },
      {
       "output_type": "stream",
       "stream": "stderr",
       "text": [
        "WARNING:root:sweep 29: ['Recording stopped before completing the experiment epoch']\n"
       ]
      },
      {
       "output_type": "stream",
       "stream": "stderr",
       "text": [
        "/nethome/kcni/ychen/.local/lib/python3.6/site-packages/ipfx/spike_features.py:87: RuntimeWarning: invalid value encountered in less\n",
        "  width_levels[width_levels < v[spike_indexes]] = thresh_to_peak_levels[width_levels < v[spike_indexes]]\n"
       ]
      },
      {
       "output_type": "stream",
       "stream": "stdout",
       "text": [
        "718882166.0 extracted\n",
        "loading dataset into data structure...\n"
       ]
      },
      {
       "output_type": "stream",
       "stream": "stderr",
       "text": [
        "WARNING:root:sweep 20: ['Recording stopped before completing the experiment epoch']\n"
       ]
      },
      {
       "output_type": "stream",
       "stream": "stderr",
       "text": [
        "WARNING:root:sweep 33: ['Recording stopped before completing the experiment epoch']\n"
       ]
      },
      {
       "output_type": "stream",
       "stream": "stdout",
       "text": [
        "718882265.0 extracted\n",
        "loading dataset into data structure...\n"
       ]
      },
      {
       "output_type": "stream",
       "stream": "stderr",
       "text": [
        "WARNING:root:sweep 28: ['Recording stopped before completing the experiment epoch']\n"
       ]
      },
      {
       "output_type": "stream",
       "stream": "stderr",
       "text": [
        "WARNING:root:sweep 29: ['Recording stopped before completing the experiment epoch']\n"
       ]
      },
      {
       "output_type": "stream",
       "stream": "stderr",
       "text": [
        "WARNING:root:sweep 30: ['Recording stopped before completing the experiment epoch']\n"
       ]
      },
      {
       "output_type": "stream",
       "stream": "stderr",
       "text": [
        "WARNING:root:sweep 31: ['Recording stopped before completing the experiment epoch']\n"
       ]
      },
      {
       "output_type": "stream",
       "stream": "stderr",
       "text": [
        "WARNING:root:sweep 32: ['Recording stopped before completing the experiment epoch']\n"
       ]
      },
      {
       "output_type": "stream",
       "stream": "stdout",
       "text": [
        "718883357.0 extracted\n",
        "loading dataset into data structure...\n"
       ]
      },
      {
       "output_type": "stream",
       "stream": "stderr",
       "text": [
        "WARNING:root:sweep 33: ['Recording stopped before completing the experiment epoch']\n"
       ]
      },
      {
       "output_type": "stream",
       "stream": "stderr",
       "text": [
        "WARNING:root:sweep 34: ['Recording stopped before completing the experiment epoch']\n"
       ]
      },
      {
       "output_type": "stream",
       "stream": "stderr",
       "text": [
        "WARNING:root:sweep 35: ['Recording stopped before completing the experiment epoch']\n"
       ]
      },
      {
       "output_type": "stream",
       "stream": "stderr",
       "text": [
        "WARNING:root:sweep 36: ['Recording stopped before completing the experiment epoch']\n"
       ]
      },
      {
       "output_type": "stream",
       "stream": "stderr",
       "text": [
        "WARNING:root:sweep 37: ['Recording stopped before completing the experiment epoch']\n"
       ]
      },
      {
       "output_type": "stream",
       "stream": "stdout",
       "text": [
        "718886619.0 extracted\n",
        "loading dataset into data structure...\n"
       ]
      },
      {
       "output_type": "stream",
       "stream": "stdout",
       "text": [
        "719067104.0 extracted\n",
        "loading dataset into data structure...\n"
       ]
      },
      {
       "output_type": "stream",
       "stream": "stderr",
       "text": [
        "WARNING:root:sweep 16: ['Recording stopped before completing the experiment epoch']\n"
       ]
      },
      {
       "output_type": "stream",
       "stream": "stdout",
       "text": [
        "719101092.0 extracted\n",
        "loading dataset into data structure...\n"
       ]
      },
      {
       "output_type": "stream",
       "stream": "stderr",
       "text": [
        "WARNING:root:sweep 6: ['Recording stopped before completing the experiment epoch']\n"
       ]
      },
      {
       "output_type": "stream",
       "stream": "stderr",
       "text": [
        "WARNING:root:sweep 20: ['Recording stopped before completing the experiment epoch']\n"
       ]
      },
      {
       "output_type": "stream",
       "stream": "stdout",
       "text": [
        "719108203.0 extracted\n",
        "loading dataset into data structure...\n"
       ]
      },
      {
       "output_type": "stream",
       "stream": "stderr",
       "text": [
        "WARNING:root:sweep 25: ['Recording stopped before completing the experiment epoch']\n"
       ]
      },
      {
       "output_type": "stream",
       "stream": "stderr",
       "text": [
        "WARNING:root:sweep 26: ['Recording stopped before completing the experiment epoch']\n"
       ]
      },
      {
       "output_type": "stream",
       "stream": "stderr",
       "text": [
        "WARNING:root:sweep 27: ['Recording stopped before completing the experiment epoch']\n"
       ]
      },
      {
       "output_type": "stream",
       "stream": "stderr",
       "text": [
        "WARNING:root:sweep 28: ['Recording stopped before completing the experiment epoch']\n"
       ]
      },
      {
       "output_type": "stream",
       "stream": "stderr",
       "text": [
        "WARNING:root:sweep 29: ['Recording stopped before completing the experiment epoch']\n"
       ]
      },
      {
       "output_type": "stream",
       "stream": "stderr",
       "text": [
        "WARNING:root:sweep 32: ['Recording stopped before completing the experiment epoch']\n"
       ]
      },
      {
       "output_type": "stream",
       "stream": "stdout",
       "text": [
        "719519226.0 extracted\n",
        "loading dataset into data structure...\n"
       ]
      },
      {
       "output_type": "stream",
       "stream": "stderr",
       "text": [
        "WARNING:root:sweep 28: ['Recording stopped before completing the experiment epoch']\n"
       ]
      },
      {
       "output_type": "stream",
       "stream": "stderr",
       "text": [
        "WARNING:root:sweep 29: ['Recording stopped before completing the experiment epoch']\n"
       ]
      },
      {
       "output_type": "stream",
       "stream": "stderr",
       "text": [
        "WARNING:root:sweep 30: ['Recording stopped before completing the experiment epoch']\n"
       ]
      },
      {
       "output_type": "stream",
       "stream": "stderr",
       "text": [
        "WARNING:root:sweep 31: ['Recording stopped before completing the experiment epoch']\n"
       ]
      },
      {
       "output_type": "stream",
       "stream": "stderr",
       "text": [
        "WARNING:root:sweep 32: ['Recording stopped before completing the experiment epoch']\n"
       ]
      },
      {
       "output_type": "stream",
       "stream": "stderr",
       "text": [
        "/nethome/kcni/ychen/.local/lib/python3.6/site-packages/ipfx/spike_features.py:87: RuntimeWarning: invalid value encountered in less\n",
        "  width_levels[width_levels < v[spike_indexes]] = thresh_to_peak_levels[width_levels < v[spike_indexes]]\n"
       ]
      },
      {
       "output_type": "stream",
       "stream": "stdout",
       "text": [
        "719547130.0 extracted\n",
        "loading dataset into data structure...\n"
       ]
      },
      {
       "output_type": "stream",
       "stream": "stderr",
       "text": [
        "WARNING:root:sweep 28: ['Recording stopped before completing the experiment epoch']\n"
       ]
      },
      {
       "output_type": "stream",
       "stream": "stderr",
       "text": [
        "WARNING:root:sweep 29: ['Recording stopped before completing the experiment epoch']\n"
       ]
      },
      {
       "output_type": "stream",
       "stream": "stderr",
       "text": [
        "WARNING:root:sweep 30: ['Recording stopped before completing the experiment epoch']\n"
       ]
      },
      {
       "output_type": "stream",
       "stream": "stderr",
       "text": [
        "WARNING:root:sweep 31: ['Recording stopped before completing the experiment epoch']\n"
       ]
      },
      {
       "output_type": "stream",
       "stream": "stderr",
       "text": [
        "WARNING:root:sweep 32: ['Recording stopped before completing the experiment epoch']\n"
       ]
      },
      {
       "output_type": "stream",
       "stream": "stderr",
       "text": [
        "/nethome/kcni/ychen/.local/lib/python3.6/site-packages/ipfx/spike_features.py:87: RuntimeWarning: invalid value encountered in less\n",
        "  width_levels[width_levels < v[spike_indexes]] = thresh_to_peak_levels[width_levels < v[spike_indexes]]\n"
       ]
      },
      {
       "output_type": "stream",
       "stream": "stdout",
       "text": [
        "719604384.0 extracted\n",
        "loading dataset into data structure...\n"
       ]
      },
      {
       "output_type": "stream",
       "stream": "stderr",
       "text": [
        "WARNING:root:sweep 25: ['Recording stopped before completing the experiment epoch']\n"
       ]
      },
      {
       "output_type": "stream",
       "stream": "stderr",
       "text": [
        "WARNING:root:sweep 26: ['Recording stopped before completing the experiment epoch']\n"
       ]
      },
      {
       "output_type": "stream",
       "stream": "stderr",
       "text": [
        "WARNING:root:sweep 27: ['Recording stopped before completing the experiment epoch']\n"
       ]
      },
      {
       "output_type": "stream",
       "stream": "stderr",
       "text": [
        "WARNING:root:sweep 28: ['Recording stopped before completing the experiment epoch']\n"
       ]
      },
      {
       "output_type": "stream",
       "stream": "stderr",
       "text": [
        "WARNING:root:sweep 29: ['Recording stopped before completing the experiment epoch']\n"
       ]
      },
      {
       "output_type": "stream",
       "stream": "stdout",
       "text": [
        "719637133.0 extracted\n",
        "loading dataset into data structure...\n"
       ]
      },
      {
       "output_type": "stream",
       "stream": "stderr",
       "text": [
        "WARNING:root:sweep 23: ['Recording stopped before completing the experiment epoch']\n"
       ]
      },
      {
       "output_type": "stream",
       "stream": "stderr",
       "text": [
        "WARNING:root:sweep 24: ['Recording stopped before completing the experiment epoch']\n"
       ]
      },
      {
       "output_type": "stream",
       "stream": "stderr",
       "text": [
        "WARNING:root:sweep 25: ['Recording stopped before completing the experiment epoch']\n"
       ]
      },
      {
       "output_type": "stream",
       "stream": "stderr",
       "text": [
        "WARNING:root:sweep 26: ['Recording stopped before completing the experiment epoch']\n"
       ]
      },
      {
       "output_type": "stream",
       "stream": "stderr",
       "text": [
        "WARNING:root:sweep 27: ['Recording stopped before completing the experiment epoch']\n"
       ]
      },
      {
       "output_type": "stream",
       "stream": "stderr",
       "text": [
        "/nethome/kcni/ychen/.local/lib/python3.6/site-packages/ipfx/spike_features.py:87: RuntimeWarning: invalid value encountered in less\n",
        "  width_levels[width_levels < v[spike_indexes]] = thresh_to_peak_levels[width_levels < v[spike_indexes]]\n"
       ]
      },
      {
       "output_type": "stream",
       "stream": "stdout",
       "text": [
        "719683370.0 extracted\n",
        "loading dataset into data structure...\n"
       ]
      },
      {
       "output_type": "stream",
       "stream": "stderr",
       "text": [
        "WARNING:root:sweep 24: ['Recording stopped before completing the experiment epoch']\n"
       ]
      },
      {
       "output_type": "stream",
       "stream": "stderr",
       "text": [
        "WARNING:root:sweep 25: ['Recording stopped before completing the experiment epoch']\n"
       ]
      },
      {
       "output_type": "stream",
       "stream": "stderr",
       "text": [
        "WARNING:root:sweep 26: ['Recording stopped before completing the experiment epoch']\n"
       ]
      },
      {
       "output_type": "stream",
       "stream": "stderr",
       "text": [
        "WARNING:root:sweep 27: ['Recording stopped before completing the experiment epoch']\n"
       ]
      },
      {
       "output_type": "stream",
       "stream": "stderr",
       "text": [
        "WARNING:root:sweep 28: ['Recording stopped before completing the experiment epoch']\n"
       ]
      },
      {
       "output_type": "stream",
       "stream": "stdout",
       "text": [
        "719918282.0 extracted\n",
        "loading dataset into data structure...\n"
       ]
      },
      {
       "output_type": "stream",
       "stream": "stderr",
       "text": [
        "WARNING:root:sweep 23: ['Recording stopped before completing the experiment epoch']\n"
       ]
      },
      {
       "output_type": "stream",
       "stream": "stderr",
       "text": [
        "WARNING:root:sweep 24: ['Recording stopped before completing the experiment epoch']\n"
       ]
      },
      {
       "output_type": "stream",
       "stream": "stderr",
       "text": [
        "WARNING:root:sweep 25: ['Recording stopped before completing the experiment epoch']\n"
       ]
      },
      {
       "output_type": "stream",
       "stream": "stderr",
       "text": [
        "WARNING:root:sweep 26: ['Recording stopped before completing the experiment epoch']\n"
       ]
      },
      {
       "output_type": "stream",
       "stream": "stderr",
       "text": [
        "WARNING:root:sweep 27: ['Recording stopped before completing the experiment epoch']\n"
       ]
      },
      {
       "output_type": "stream",
       "stream": "stdout",
       "text": [
        "719945075.0 extracted\n",
        "loading dataset into data structure...\n"
       ]
      },
      {
       "output_type": "stream",
       "stream": "stdout",
       "text": [
        "720163722.0 extracted\n",
        "loading dataset into data structure...\n"
       ]
      },
      {
       "output_type": "stream",
       "stream": "stdout",
       "text": [
        "720165746.0 extracted\n",
        "loading dataset into data structure...\n"
       ]
      },
      {
       "output_type": "stream",
       "stream": "stdout",
       "text": [
        "720170155.0 extracted\n",
        "loading dataset into data structure...\n"
       ]
      },
      {
       "output_type": "stream",
       "stream": "stderr",
       "text": [
        "WARNING:root:sweep 33: ['Recording stopped before completing the experiment epoch']\n"
       ]
      },
      {
       "output_type": "stream",
       "stream": "stderr",
       "text": [
        "WARNING:root:sweep 34: ['Recording stopped before completing the experiment epoch']\n"
       ]
      },
      {
       "output_type": "stream",
       "stream": "stderr",
       "text": [
        "WARNING:root:sweep 35: ['Recording stopped before completing the experiment epoch']\n"
       ]
      },
      {
       "output_type": "stream",
       "stream": "stderr",
       "text": [
        "WARNING:root:sweep 36: ['Recording stopped before completing the experiment epoch']\n"
       ]
      },
      {
       "output_type": "stream",
       "stream": "stderr",
       "text": [
        "WARNING:root:sweep 37: ['Recording stopped before completing the experiment epoch']\n"
       ]
      },
      {
       "output_type": "stream",
       "stream": "stderr",
       "text": [
        "/nethome/kcni/ychen/.local/lib/python3.6/site-packages/ipfx/spike_features.py:87: RuntimeWarning: invalid value encountered in less\n",
        "  width_levels[width_levels < v[spike_indexes]] = thresh_to_peak_levels[width_levels < v[spike_indexes]]\n"
       ]
      },
      {
       "output_type": "stream",
       "stream": "stdout",
       "text": [
        "720173255.0 extracted\n",
        "loading dataset into data structure...\n"
       ]
      },
      {
       "output_type": "stream",
       "stream": "stderr",
       "text": [
        "WARNING:root:sweep 27: ['Recording stopped before completing the experiment epoch']\n"
       ]
      },
      {
       "output_type": "stream",
       "stream": "stderr",
       "text": [
        "WARNING:root:sweep 28: ['Recording stopped before completing the experiment epoch']\n"
       ]
      },
      {
       "output_type": "stream",
       "stream": "stderr",
       "text": [
        "WARNING:root:sweep 29: ['Recording stopped before completing the experiment epoch']\n"
       ]
      },
      {
       "output_type": "stream",
       "stream": "stderr",
       "text": [
        "WARNING:root:sweep 30: ['Recording stopped before completing the experiment epoch']\n"
       ]
      },
      {
       "output_type": "stream",
       "stream": "stderr",
       "text": [
        "WARNING:root:sweep 31: ['Recording stopped before completing the experiment epoch']\n"
       ]
      },
      {
       "output_type": "stream",
       "stream": "stderr",
       "text": [
        "WARNING:root:sweep 35: ['Recording stopped before completing the experiment epoch']\n"
       ]
      },
      {
       "output_type": "stream",
       "stream": "stderr",
       "text": [
        "WARNING:root:sweep 36: ['Recording stopped before completing the experiment epoch']\n"
       ]
      },
      {
       "output_type": "stream",
       "stream": "stdout",
       "text": [
        "720186469.0 extracted\n",
        "loading dataset into data structure...\n"
       ]
      },
      {
       "output_type": "stream",
       "stream": "stderr",
       "text": [
        "WARNING:root:sweep 30: ['Recording stopped before completing the experiment epoch']\n"
       ]
      },
      {
       "output_type": "stream",
       "stream": "stderr",
       "text": [
        "WARNING:root:sweep 31: ['Recording stopped before completing the experiment epoch']\n"
       ]
      },
      {
       "output_type": "stream",
       "stream": "stderr",
       "text": [
        "WARNING:root:sweep 32: ['Recording stopped before completing the experiment epoch']\n"
       ]
      },
      {
       "output_type": "stream",
       "stream": "stderr",
       "text": [
        "WARNING:root:sweep 33: ['Recording stopped before completing the experiment epoch']\n"
       ]
      },
      {
       "output_type": "stream",
       "stream": "stderr",
       "text": [
        "WARNING:root:sweep 34: ['Recording stopped before completing the experiment epoch']\n"
       ]
      },
      {
       "output_type": "stream",
       "stream": "stdout",
       "text": [
        "720207494.0 extracted\n",
        "loading dataset into data structure...\n"
       ]
      },
      {
       "output_type": "stream",
       "stream": "stderr",
       "text": [
        "WARNING:root:sweep 24: ['Recording stopped before completing the experiment epoch']\n"
       ]
      },
      {
       "output_type": "stream",
       "stream": "stderr",
       "text": [
        "WARNING:root:sweep 25: ['Recording stopped before completing the experiment epoch']\n"
       ]
      },
      {
       "output_type": "stream",
       "stream": "stderr",
       "text": [
        "WARNING:root:sweep 26: ['Recording stopped before completing the experiment epoch']\n"
       ]
      },
      {
       "output_type": "stream",
       "stream": "stderr",
       "text": [
        "WARNING:root:sweep 27: ['Recording stopped before completing the experiment epoch']\n"
       ]
      },
      {
       "output_type": "stream",
       "stream": "stderr",
       "text": [
        "WARNING:root:sweep 28: ['Recording stopped before completing the experiment epoch']\n"
       ]
      },
      {
       "output_type": "stream",
       "stream": "stderr",
       "text": [
        "WARNING:root:sweep 30: ['Recording stopped before completing the experiment epoch']\n"
       ]
      },
      {
       "output_type": "stream",
       "stream": "stderr",
       "text": [
        "/nethome/kcni/ychen/.local/lib/python3.6/site-packages/ipfx/spike_features.py:87: RuntimeWarning: invalid value encountered in less\n",
        "  width_levels[width_levels < v[spike_indexes]] = thresh_to_peak_levels[width_levels < v[spike_indexes]]\n"
       ]
      },
      {
       "output_type": "stream",
       "stream": "stdout",
       "text": [
        "720223511.0 extracted\n",
        "loading dataset into data structure...\n"
       ]
      },
      {
       "output_type": "stream",
       "stream": "stderr",
       "text": [
        "WARNING:root:sweep 23: ['Recording stopped before completing the experiment epoch']\n"
       ]
      },
      {
       "output_type": "stream",
       "stream": "stderr",
       "text": [
        "WARNING:root:sweep 24: ['Recording stopped before completing the experiment epoch']\n"
       ]
      },
      {
       "output_type": "stream",
       "stream": "stderr",
       "text": [
        "WARNING:root:sweep 25: ['Recording stopped before completing the experiment epoch']\n"
       ]
      },
      {
       "output_type": "stream",
       "stream": "stderr",
       "text": [
        "WARNING:root:sweep 26: ['Recording stopped before completing the experiment epoch']\n"
       ]
      },
      {
       "output_type": "stream",
       "stream": "stderr",
       "text": [
        "WARNING:root:sweep 27: ['Recording stopped before completing the experiment epoch']\n"
       ]
      },
      {
       "output_type": "stream",
       "stream": "stdout",
       "text": [
        "720232438.0 extracted\n",
        "loading dataset into data structure...\n"
       ]
      },
      {
       "output_type": "stream",
       "stream": "stderr",
       "text": [
        "WARNING:root:sweep 24: ['Recording stopped before completing the experiment epoch']\n"
       ]
      },
      {
       "output_type": "stream",
       "stream": "stderr",
       "text": [
        "WARNING:root:sweep 25: ['Recording stopped before completing the experiment epoch']\n"
       ]
      },
      {
       "output_type": "stream",
       "stream": "stderr",
       "text": [
        "WARNING:root:sweep 26: ['Recording stopped before completing the experiment epoch']\n"
       ]
      },
      {
       "output_type": "stream",
       "stream": "stderr",
       "text": [
        "WARNING:root:sweep 27: ['Recording stopped before completing the experiment epoch']\n"
       ]
      },
      {
       "output_type": "stream",
       "stream": "stderr",
       "text": [
        "WARNING:root:sweep 28: ['Recording stopped before completing the experiment epoch']\n"
       ]
      },
      {
       "output_type": "stream",
       "stream": "stderr",
       "text": [
        "WARNING:root:sweep 29: ['Recording stopped before completing the experiment epoch']\n"
       ]
      },
      {
       "output_type": "stream",
       "stream": "stderr",
       "text": [
        "WARNING:root:sweep 30: ['Recording stopped before completing the experiment epoch']\n"
       ]
      },
      {
       "output_type": "stream",
       "stream": "stderr",
       "text": [
        "WARNING:root:sweep 31: ['Recording stopped before completing the experiment epoch']\n"
       ]
      },
      {
       "output_type": "stream",
       "stream": "stderr",
       "text": [
        "WARNING:root:sweep 32: ['Recording stopped before completing the experiment epoch']\n"
       ]
      },
      {
       "output_type": "stream",
       "stream": "stdout",
       "text": [
        "720269533.0 extracted\n",
        "loading dataset into data structure...\n"
       ]
      },
      {
       "output_type": "stream",
       "stream": "stderr",
       "text": [
        "WARNING:root:sweep 23: ['Recording stopped before completing the experiment epoch']\n"
       ]
      },
      {
       "output_type": "stream",
       "stream": "stderr",
       "text": [
        "WARNING:root:sweep 24: ['Recording stopped before completing the experiment epoch']\n"
       ]
      },
      {
       "output_type": "stream",
       "stream": "stderr",
       "text": [
        "WARNING:root:sweep 25: ['Recording stopped before completing the experiment epoch']\n"
       ]
      },
      {
       "output_type": "stream",
       "stream": "stderr",
       "text": [
        "WARNING:root:sweep 26: ['Recording stopped before completing the experiment epoch']\n"
       ]
      },
      {
       "output_type": "stream",
       "stream": "stderr",
       "text": [
        "WARNING:root:sweep 27: ['Recording stopped before completing the experiment epoch']\n"
       ]
      },
      {
       "output_type": "stream",
       "stream": "stdout",
       "text": [
        "720288904.0 extracted\n",
        "loading dataset into data structure...\n"
       ]
      },
      {
       "output_type": "stream",
       "stream": "stderr",
       "text": [
        "WARNING:root:sweep 25: ['Recording stopped before completing the experiment epoch']\n"
       ]
      },
      {
       "output_type": "stream",
       "stream": "stderr",
       "text": [
        "WARNING:root:sweep 26: ['Recording stopped before completing the experiment epoch']\n"
       ]
      },
      {
       "output_type": "stream",
       "stream": "stderr",
       "text": [
        "WARNING:root:sweep 27: ['Recording stopped before completing the experiment epoch']\n"
       ]
      },
      {
       "output_type": "stream",
       "stream": "stderr",
       "text": [
        "WARNING:root:sweep 28: ['Recording stopped before completing the experiment epoch']\n"
       ]
      },
      {
       "output_type": "stream",
       "stream": "stderr",
       "text": [
        "WARNING:root:sweep 29: ['Recording stopped before completing the experiment epoch']\n"
       ]
      },
      {
       "output_type": "stream",
       "stream": "stdout",
       "text": [
        "720308298.0 extracted\n",
        "loading dataset into data structure...\n"
       ]
      },
      {
       "output_type": "stream",
       "stream": "stderr",
       "text": [
        "WARNING:root:sweep 26: ['Recording stopped before completing the experiment epoch']\n"
       ]
      },
      {
       "output_type": "stream",
       "stream": "stderr",
       "text": [
        "WARNING:root:sweep 27: ['Recording stopped before completing the experiment epoch']\n"
       ]
      },
      {
       "output_type": "stream",
       "stream": "stderr",
       "text": [
        "WARNING:root:sweep 28: ['Recording stopped before completing the experiment epoch']\n"
       ]
      },
      {
       "output_type": "stream",
       "stream": "stderr",
       "text": [
        "WARNING:root:sweep 29: ['Recording stopped before completing the experiment epoch']\n"
       ]
      },
      {
       "output_type": "stream",
       "stream": "stderr",
       "text": [
        "WARNING:root:sweep 30: ['Recording stopped before completing the experiment epoch']\n"
       ]
      },
      {
       "output_type": "stream",
       "stream": "stdout",
       "text": [
        "720310588.0 extracted\n",
        "loading dataset into data structure...\n"
       ]
      },
      {
       "output_type": "stream",
       "stream": "stderr",
       "text": [
        "WARNING:root:sweep 36: ['Recording stopped before completing the experiment epoch']\n"
       ]
      },
      {
       "output_type": "stream",
       "stream": "stderr",
       "text": [
        "WARNING:root:sweep 37: ['Recording stopped before completing the experiment epoch']\n"
       ]
      },
      {
       "output_type": "stream",
       "stream": "stderr",
       "text": [
        "WARNING:root:sweep 38: ['Recording stopped before completing the experiment epoch']\n"
       ]
      },
      {
       "output_type": "stream",
       "stream": "stderr",
       "text": [
        "WARNING:root:sweep 39: ['Recording stopped before completing the experiment epoch']\n"
       ]
      },
      {
       "output_type": "stream",
       "stream": "stderr",
       "text": [
        "WARNING:root:sweep 40: ['Recording stopped before completing the experiment epoch']\n"
       ]
      },
      {
       "output_type": "stream",
       "stream": "stderr",
       "text": [
        "WARNING:root:sweep 41: ['Recording stopped before completing the experiment epoch']\n"
       ]
      },
      {
       "output_type": "stream",
       "stream": "stderr",
       "text": [
        "WARNING:root:sweep 42: ['Recording stopped before completing the experiment epoch']\n"
       ]
      },
      {
       "output_type": "stream",
       "stream": "stdout",
       "text": [
        "720313430.0 extracted\n",
        "loading dataset into data structure...\n"
       ]
      },
      {
       "output_type": "stream",
       "stream": "stderr",
       "text": [
        "WARNING:root:sweep 24: ['Recording stopped before completing the experiment epoch']\n"
       ]
      },
      {
       "output_type": "stream",
       "stream": "stderr",
       "text": [
        "WARNING:root:sweep 25: ['Recording stopped before completing the experiment epoch']\n"
       ]
      },
      {
       "output_type": "stream",
       "stream": "stderr",
       "text": [
        "WARNING:root:sweep 26: ['Recording stopped before completing the experiment epoch']\n"
       ]
      },
      {
       "output_type": "stream",
       "stream": "stderr",
       "text": [
        "WARNING:root:sweep 27: ['Recording stopped before completing the experiment epoch']\n"
       ]
      },
      {
       "output_type": "stream",
       "stream": "stderr",
       "text": [
        "WARNING:root:sweep 28: ['Recording stopped before completing the experiment epoch']\n"
       ]
      },
      {
       "output_type": "stream",
       "stream": "stdout",
       "text": [
        "720323976.0 extracted\n",
        "loading dataset into data structure...\n"
       ]
      },
      {
       "output_type": "stream",
       "stream": "stderr",
       "text": [
        "WARNING:root:sweep 24: ['Recording stopped before completing the experiment epoch']\n"
       ]
      },
      {
       "output_type": "stream",
       "stream": "stderr",
       "text": [
        "WARNING:root:sweep 25: ['Recording stopped before completing the experiment epoch']\n"
       ]
      },
      {
       "output_type": "stream",
       "stream": "stderr",
       "text": [
        "WARNING:root:sweep 26: ['Recording stopped before completing the experiment epoch']\n"
       ]
      },
      {
       "output_type": "stream",
       "stream": "stderr",
       "text": [
        "WARNING:root:sweep 27: ['Recording stopped before completing the experiment epoch']\n"
       ]
      },
      {
       "output_type": "stream",
       "stream": "stderr",
       "text": [
        "WARNING:root:sweep 28: ['Recording stopped before completing the experiment epoch']\n"
       ]
      },
      {
       "output_type": "stream",
       "stream": "stdout",
       "text": [
        "720352732.0 extracted\n",
        "loading dataset into data structure...\n"
       ]
      },
      {
       "output_type": "stream",
       "stream": "stderr",
       "text": [
        "/nethome/kcni/ychen/.local/lib/python3.6/site-packages/ipfx/spike_features.py:87: RuntimeWarning: invalid value encountered in less\n",
        "  width_levels[width_levels < v[spike_indexes]] = thresh_to_peak_levels[width_levels < v[spike_indexes]]\n"
       ]
      },
      {
       "output_type": "stream",
       "stream": "stdout",
       "text": [
        "720375475.0 extracted\n",
        "loading dataset into data structure...\n"
       ]
      },
      {
       "output_type": "stream",
       "stream": "stderr",
       "text": [
        "WARNING:root:sweep 30: ['Recording stopped before completing the experiment epoch']\n"
       ]
      },
      {
       "output_type": "stream",
       "stream": "stderr",
       "text": [
        "WARNING:root:sweep 31: ['Recording stopped before completing the experiment epoch']\n"
       ]
      },
      {
       "output_type": "stream",
       "stream": "stderr",
       "text": [
        "WARNING:root:sweep 32: ['Recording stopped before completing the experiment epoch']\n"
       ]
      },
      {
       "output_type": "stream",
       "stream": "stderr",
       "text": [
        "WARNING:root:sweep 33: ['Recording stopped before completing the experiment epoch']\n"
       ]
      },
      {
       "output_type": "stream",
       "stream": "stderr",
       "text": [
        "WARNING:root:sweep 34: ['Recording stopped before completing the experiment epoch']\n"
       ]
      },
      {
       "output_type": "stream",
       "stream": "stdout",
       "text": [
        "720526714.0 extracted\n",
        "loading dataset into data structure...\n"
       ]
      },
      {
       "output_type": "stream",
       "stream": "stderr",
       "text": [
        "WARNING:root:sweep 26: ['experiment epoch is missing', 'stim epoch is missing']\n"
       ]
      },
      {
       "output_type": "stream",
       "stream": "stderr",
       "text": [
        "WARNING:root:sweep 27: ['Recording stopped before completing the experiment epoch']\n"
       ]
      },
      {
       "output_type": "stream",
       "stream": "stderr",
       "text": [
        "WARNING:root:sweep 28: ['Recording stopped before completing the experiment epoch']\n"
       ]
      },
      {
       "output_type": "stream",
       "stream": "stderr",
       "text": [
        "WARNING:root:sweep 29: ['Recording stopped before completing the experiment epoch']\n"
       ]
      },
      {
       "output_type": "stream",
       "stream": "stderr",
       "text": [
        "WARNING:root:sweep 30: ['Recording stopped before completing the experiment epoch']\n"
       ]
      },
      {
       "output_type": "stream",
       "stream": "stderr",
       "text": [
        "WARNING:root:sweep 31: ['Recording stopped before completing the experiment epoch']\n"
       ]
      },
      {
       "output_type": "stream",
       "stream": "stdout",
       "text": [
        "720529759.0 extracted\n",
        "loading dataset into data structure...\n"
       ]
      },
      {
       "output_type": "stream",
       "stream": "stderr",
       "text": [
        "WARNING:root:sweep 27: ['Recording stopped before completing the experiment epoch']\n"
       ]
      },
      {
       "output_type": "stream",
       "stream": "stderr",
       "text": [
        "WARNING:root:sweep 28: ['Recording stopped before completing the experiment epoch']\n"
       ]
      },
      {
       "output_type": "stream",
       "stream": "stderr",
       "text": [
        "WARNING:root:sweep 29: ['Recording stopped before completing the experiment epoch']\n"
       ]
      },
      {
       "output_type": "stream",
       "stream": "stderr",
       "text": [
        "WARNING:root:sweep 30: ['Recording stopped before completing the experiment epoch']\n"
       ]
      },
      {
       "output_type": "stream",
       "stream": "stderr",
       "text": [
        "WARNING:root:sweep 31: ['Recording stopped before completing the experiment epoch']\n"
       ]
      },
      {
       "output_type": "stream",
       "stream": "stderr",
       "text": [
        "WARNING:root:sweep 32: ['Recording stopped before completing the experiment epoch']\n"
       ]
      },
      {
       "output_type": "stream",
       "stream": "stderr",
       "text": [
        "/nethome/kcni/ychen/.local/lib/python3.6/site-packages/ipfx/spike_features.py:87: RuntimeWarning: invalid value encountered in less\n",
        "  width_levels[width_levels < v[spike_indexes]] = thresh_to_peak_levels[width_levels < v[spike_indexes]]\n"
       ]
      },
      {
       "output_type": "stream",
       "stream": "stdout",
       "text": [
        "720545325.0 extracted\n",
        "loading dataset into data structure...\n"
       ]
      },
      {
       "output_type": "stream",
       "stream": "stderr",
       "text": [
        "WARNING:root:sweep 30: ['Recording stopped before completing the experiment epoch']\n"
       ]
      },
      {
       "output_type": "stream",
       "stream": "stderr",
       "text": [
        "WARNING:root:sweep 31: ['Recording stopped before completing the experiment epoch']\n"
       ]
      },
      {
       "output_type": "stream",
       "stream": "stderr",
       "text": [
        "WARNING:root:sweep 32: ['Recording stopped before completing the experiment epoch']\n"
       ]
      },
      {
       "output_type": "stream",
       "stream": "stderr",
       "text": [
        "WARNING:root:sweep 33: ['Recording stopped before completing the experiment epoch']\n"
       ]
      },
      {
       "output_type": "stream",
       "stream": "stderr",
       "text": [
        "WARNING:root:sweep 34: ['Recording stopped before completing the experiment epoch']\n"
       ]
      },
      {
       "output_type": "stream",
       "stream": "stderr",
       "text": [
        "WARNING:root:sweep 35: ['Recording stopped before completing the experiment epoch']\n"
       ]
      },
      {
       "output_type": "stream",
       "stream": "stdout",
       "text": [
        "720545711.0 extracted\n",
        "loading dataset into data structure...\n"
       ]
      },
      {
       "output_type": "stream",
       "stream": "stderr",
       "text": [
        "WARNING:root:sweep 24: ['Recording stopped before completing the experiment epoch']\n"
       ]
      },
      {
       "output_type": "stream",
       "stream": "stderr",
       "text": [
        "WARNING:root:sweep 25: ['Recording stopped before completing the experiment epoch']\n"
       ]
      },
      {
       "output_type": "stream",
       "stream": "stderr",
       "text": [
        "WARNING:root:sweep 26: ['Recording stopped before completing the experiment epoch']\n"
       ]
      },
      {
       "output_type": "stream",
       "stream": "stderr",
       "text": [
        "WARNING:root:sweep 27: ['Recording stopped before completing the experiment epoch']\n"
       ]
      },
      {
       "output_type": "stream",
       "stream": "stderr",
       "text": [
        "WARNING:root:sweep 28: ['Recording stopped before completing the experiment epoch']\n"
       ]
      },
      {
       "output_type": "stream",
       "stream": "stderr",
       "text": [
        "WARNING:root:sweep 32: ['Recording stopped before completing the experiment epoch']\n"
       ]
      },
      {
       "output_type": "stream",
       "stream": "stderr",
       "text": [
        "WARNING:root:sweep 33: ['Recording stopped before completing the experiment epoch']\n"
       ]
      },
      {
       "output_type": "stream",
       "stream": "stderr",
       "text": [
        "WARNING:root:sweep 34: ['Recording stopped before completing the experiment epoch']\n"
       ]
      },
      {
       "output_type": "stream",
       "stream": "stderr",
       "text": [
        "WARNING:root:sweep 35: ['Recording stopped before completing the experiment epoch']\n"
       ]
      },
      {
       "output_type": "stream",
       "stream": "stdout",
       "text": [
        "720548007.0 extracted\n",
        "loading dataset into data structure...\n"
       ]
      },
      {
       "output_type": "stream",
       "stream": "stderr",
       "text": [
        "WARNING:root:sweep 30: ['Recording stopped before completing the experiment epoch']\n"
       ]
      },
      {
       "output_type": "stream",
       "stream": "stderr",
       "text": [
        "WARNING:root:sweep 31: ['Recording stopped before completing the experiment epoch']\n"
       ]
      },
      {
       "output_type": "stream",
       "stream": "stderr",
       "text": [
        "WARNING:root:sweep 32: ['Recording stopped before completing the experiment epoch']\n"
       ]
      },
      {
       "output_type": "stream",
       "stream": "stderr",
       "text": [
        "WARNING:root:sweep 33: ['Recording stopped before completing the experiment epoch']\n"
       ]
      },
      {
       "output_type": "stream",
       "stream": "stderr",
       "text": [
        "WARNING:root:sweep 34: ['Recording stopped before completing the experiment epoch']\n"
       ]
      },
      {
       "output_type": "stream",
       "stream": "stdout",
       "text": [
        "720579946.0 extracted\n",
        "loading dataset into data structure...\n"
       ]
      },
      {
       "output_type": "stream",
       "stream": "stderr",
       "text": [
        "WARNING:root:sweep 26: ['Recording stopped before completing the experiment epoch']\n"
       ]
      },
      {
       "output_type": "stream",
       "stream": "stderr",
       "text": [
        "WARNING:root:sweep 27: ['Recording stopped before completing the experiment epoch']\n"
       ]
      },
      {
       "output_type": "stream",
       "stream": "stderr",
       "text": [
        "WARNING:root:sweep 28: ['Recording stopped before completing the experiment epoch']\n"
       ]
      },
      {
       "output_type": "stream",
       "stream": "stderr",
       "text": [
        "WARNING:root:sweep 29: ['Recording stopped before completing the experiment epoch']\n"
       ]
      },
      {
       "output_type": "stream",
       "stream": "stderr",
       "text": [
        "WARNING:root:sweep 30: ['Recording stopped before completing the experiment epoch']\n"
       ]
      },
      {
       "output_type": "stream",
       "stream": "stdout",
       "text": [
        "720580383.0 extracted\n",
        "loading dataset into data structure...\n"
       ]
      },
      {
       "output_type": "stream",
       "stream": "stdout",
       "text": [
        "720598581.0 extracted\n",
        "loading dataset into data structure...\n"
       ]
      },
      {
       "output_type": "stream",
       "stream": "stderr",
       "text": [
        "WARNING:root:sweep 21: ['Recording stopped before completing the experiment epoch']\n"
       ]
      },
      {
       "output_type": "stream",
       "stream": "stderr",
       "text": [
        "WARNING:root:sweep 22: ['Recording stopped before completing the experiment epoch']\n"
       ]
      },
      {
       "output_type": "stream",
       "stream": "stderr",
       "text": [
        "WARNING:root:sweep 23: ['Recording stopped before completing the experiment epoch']\n"
       ]
      },
      {
       "output_type": "stream",
       "stream": "stderr",
       "text": [
        "WARNING:root:sweep 24: ['Recording stopped before completing the experiment epoch']\n"
       ]
      },
      {
       "output_type": "stream",
       "stream": "stderr",
       "text": [
        "WARNING:root:sweep 25: ['Recording stopped before completing the experiment epoch']\n"
       ]
      },
      {
       "output_type": "stream",
       "stream": "stderr",
       "text": [
        "WARNING:root:sweep 26: ['Recording stopped before completing the experiment epoch']\n"
       ]
      },
      {
       "output_type": "stream",
       "stream": "stderr",
       "text": [
        "WARNING:root:sweep 27: ['Recording stopped before completing the experiment epoch']\n"
       ]
      },
      {
       "output_type": "stream",
       "stream": "stdout",
       "text": [
        "720622139.0 extracted\n",
        "loading dataset into data structure...\n"
       ]
      },
      {
       "output_type": "stream",
       "stream": "stderr",
       "text": [
        "WARNING:root:sweep 24: ['Recording stopped before completing the experiment epoch']\n"
       ]
      },
      {
       "output_type": "stream",
       "stream": "stderr",
       "text": [
        "WARNING:root:sweep 25: ['Recording stopped before completing the experiment epoch']\n"
       ]
      },
      {
       "output_type": "stream",
       "stream": "stderr",
       "text": [
        "WARNING:root:sweep 26: ['Recording stopped before completing the experiment epoch']\n"
       ]
      },
      {
       "output_type": "stream",
       "stream": "stderr",
       "text": [
        "WARNING:root:sweep 27: ['Recording stopped before completing the experiment epoch']\n"
       ]
      },
      {
       "output_type": "stream",
       "stream": "stderr",
       "text": [
        "WARNING:root:sweep 28: ['Recording stopped before completing the experiment epoch']\n"
       ]
      },
      {
       "output_type": "stream",
       "stream": "stderr",
       "text": [
        "WARNING:root:sweep 29: ['Recording stopped before completing the experiment epoch']\n"
       ]
      },
      {
       "output_type": "stream",
       "stream": "stdout",
       "text": [
        "720658177.0 extracted\n",
        "loading dataset into data structure...\n"
       ]
      },
      {
       "output_type": "stream",
       "stream": "stderr",
       "text": [
        "WARNING:root:sweep 23: ['Recording stopped before completing the experiment epoch']\n"
       ]
      },
      {
       "output_type": "stream",
       "stream": "stderr",
       "text": [
        "WARNING:root:sweep 24: ['Recording stopped before completing the experiment epoch']\n"
       ]
      },
      {
       "output_type": "stream",
       "stream": "stderr",
       "text": [
        "WARNING:root:sweep 25: ['Recording stopped before completing the experiment epoch']\n"
       ]
      },
      {
       "output_type": "stream",
       "stream": "stderr",
       "text": [
        "WARNING:root:sweep 26: ['Recording stopped before completing the experiment epoch']\n"
       ]
      },
      {
       "output_type": "stream",
       "stream": "stderr",
       "text": [
        "WARNING:root:sweep 27: ['Recording stopped before completing the experiment epoch']\n"
       ]
      },
      {
       "output_type": "stream",
       "stream": "stdout",
       "text": [
        "720678722.0 extracted\n",
        "loading dataset into data structure...\n"
       ]
      },
      {
       "output_type": "stream",
       "stream": "stderr",
       "text": [
        "WARNING:root:sweep 24: ['Recording stopped before completing the experiment epoch']\n"
       ]
      },
      {
       "output_type": "stream",
       "stream": "stderr",
       "text": [
        "WARNING:root:sweep 25: ['Recording stopped before completing the experiment epoch']\n"
       ]
      },
      {
       "output_type": "stream",
       "stream": "stderr",
       "text": [
        "WARNING:root:sweep 26: ['Recording stopped before completing the experiment epoch']\n"
       ]
      },
      {
       "output_type": "stream",
       "stream": "stderr",
       "text": [
        "WARNING:root:sweep 27: ['Recording stopped before completing the experiment epoch']\n"
       ]
      },
      {
       "output_type": "stream",
       "stream": "stderr",
       "text": [
        "WARNING:root:sweep 28: ['Recording stopped before completing the experiment epoch']\n"
       ]
      },
      {
       "output_type": "stream",
       "stream": "stdout",
       "text": [
        "720681717.0 extracted\n"
       ]
      },
      {
       "output_type": "stream",
       "stream": "stdout",
       "text": [
        "loading dataset into data structure...\n"
       ]
      },
      {
       "output_type": "stream",
       "stream": "stderr",
       "text": [
        "WARNING:root:sweep 32: ['Recording stopped before completing the experiment epoch']\n"
       ]
      },
      {
       "output_type": "stream",
       "stream": "stderr",
       "text": [
        "WARNING:root:sweep 33: ['Recording stopped before completing the experiment epoch']\n"
       ]
      },
      {
       "output_type": "stream",
       "stream": "stderr",
       "text": [
        "WARNING:root:sweep 34: ['Recording stopped before completing the experiment epoch']\n"
       ]
      },
      {
       "output_type": "stream",
       "stream": "stderr",
       "text": [
        "WARNING:root:sweep 35: ['Recording stopped before completing the experiment epoch']\n"
       ]
      },
      {
       "output_type": "stream",
       "stream": "stderr",
       "text": [
        "WARNING:root:sweep 36: ['Recording stopped before completing the experiment epoch']\n"
       ]
      },
      {
       "output_type": "stream",
       "stream": "stdout",
       "text": [
        "720682831.0 extracted\n",
        "loading dataset into data structure...\n"
       ]
      },
      {
       "output_type": "stream",
       "stream": "stderr",
       "text": [
        "WARNING:root:sweep 23: ['Recording stopped before completing the experiment epoch']\n"
       ]
      },
      {
       "output_type": "stream",
       "stream": "stderr",
       "text": [
        "WARNING:root:sweep 24: ['Recording stopped before completing the experiment epoch']\n"
       ]
      },
      {
       "output_type": "stream",
       "stream": "stderr",
       "text": [
        "WARNING:root:sweep 25: ['Recording stopped before completing the experiment epoch']\n"
       ]
      },
      {
       "output_type": "stream",
       "stream": "stderr",
       "text": [
        "WARNING:root:sweep 26: ['Recording stopped before completing the experiment epoch']\n"
       ]
      },
      {
       "output_type": "stream",
       "stream": "stderr",
       "text": [
        "WARNING:root:sweep 27: ['Recording stopped before completing the experiment epoch']\n"
       ]
      },
      {
       "output_type": "stream",
       "stream": "stderr",
       "text": [
        "WARNING:root:sweep 31: ['Recording stopped before completing the experiment epoch']\n"
       ]
      },
      {
       "output_type": "stream",
       "stream": "stderr",
       "text": [
        "/nethome/kcni/ychen/.local/lib/python3.6/site-packages/ipfx/spike_features.py:87: RuntimeWarning: invalid value encountered in less\n",
        "  width_levels[width_levels < v[spike_indexes]] = thresh_to_peak_levels[width_levels < v[spike_indexes]]\n"
       ]
      },
      {
       "output_type": "stream",
       "stream": "stdout",
       "text": [
        "720684671.0 extracted\n",
        "loading dataset into data structure...\n"
       ]
      },
      {
       "output_type": "stream",
       "stream": "stderr",
       "text": [
        "WARNING:root:sweep 29: ['Recording stopped before completing the experiment epoch']\n"
       ]
      },
      {
       "output_type": "stream",
       "stream": "stderr",
       "text": [
        "WARNING:root:sweep 30: ['Recording stopped before completing the experiment epoch']\n"
       ]
      },
      {
       "output_type": "stream",
       "stream": "stderr",
       "text": [
        "WARNING:root:sweep 31: ['Recording stopped before completing the experiment epoch']\n"
       ]
      },
      {
       "output_type": "stream",
       "stream": "stderr",
       "text": [
        "WARNING:root:sweep 32: ['Recording stopped before completing the experiment epoch']\n"
       ]
      },
      {
       "output_type": "stream",
       "stream": "stderr",
       "text": [
        "WARNING:root:sweep 33: ['Recording stopped before completing the experiment epoch']\n"
       ]
      },
      {
       "output_type": "stream",
       "stream": "stderr",
       "text": [
        "WARNING:root:sweep 37: ['Recording stopped before completing the experiment epoch']\n"
       ]
      },
      {
       "output_type": "stream",
       "stream": "stdout",
       "text": [
        "720692608.0 extracted\n",
        "loading dataset into data structure...\n"
       ]
      },
      {
       "output_type": "stream",
       "stream": "stderr",
       "text": [
        "WARNING:root:sweep 37: ['Recording stopped before completing the experiment epoch']\n"
       ]
      },
      {
       "output_type": "stream",
       "stream": "stderr",
       "text": [
        "WARNING:root:sweep 38: ['Recording stopped before completing the experiment epoch']\n"
       ]
      },
      {
       "output_type": "stream",
       "stream": "stderr",
       "text": [
        "WARNING:root:sweep 39: ['Recording stopped before completing the experiment epoch']\n"
       ]
      },
      {
       "output_type": "stream",
       "stream": "stderr",
       "text": [
        "WARNING:root:sweep 40: ['Recording stopped before completing the experiment epoch']\n"
       ]
      },
      {
       "output_type": "stream",
       "stream": "stderr",
       "text": [
        "WARNING:root:sweep 41: ['Recording stopped before completing the experiment epoch']\n"
       ]
      },
      {
       "output_type": "stream",
       "stream": "stdout",
       "text": [
        "720692646.0 extracted\n",
        "loading dataset into data structure...\n"
       ]
      },
      {
       "output_type": "stream",
       "stream": "stderr",
       "text": [
        "WARNING:root:sweep 23: ['Recording stopped before completing the experiment epoch']\n"
       ]
      },
      {
       "output_type": "stream",
       "stream": "stderr",
       "text": [
        "WARNING:root:sweep 24: ['Recording stopped before completing the experiment epoch']\n"
       ]
      },
      {
       "output_type": "stream",
       "stream": "stderr",
       "text": [
        "WARNING:root:sweep 25: ['Recording stopped before completing the experiment epoch']\n"
       ]
      },
      {
       "output_type": "stream",
       "stream": "stderr",
       "text": [
        "WARNING:root:sweep 26: ['Recording stopped before completing the experiment epoch']\n"
       ]
      },
      {
       "output_type": "stream",
       "stream": "stderr",
       "text": [
        "WARNING:root:sweep 27: ['Recording stopped before completing the experiment epoch']\n"
       ]
      },
      {
       "output_type": "stream",
       "stream": "stderr",
       "text": [
        "/nethome/kcni/ychen/.local/lib/python3.6/site-packages/ipfx/spike_features.py:87: RuntimeWarning: invalid value encountered in less\n",
        "  width_levels[width_levels < v[spike_indexes]] = thresh_to_peak_levels[width_levels < v[spike_indexes]]\n"
       ]
      },
      {
       "output_type": "stream",
       "stream": "stdout",
       "text": [
        "720695149.0 extracted\n",
        "loading dataset into data structure...\n"
       ]
      },
      {
       "output_type": "stream",
       "stream": "stderr",
       "text": [
        "WARNING:root:sweep 32: ['Recording stopped before completing the experiment epoch']\n"
       ]
      },
      {
       "output_type": "stream",
       "stream": "stderr",
       "text": [
        "WARNING:root:sweep 33: ['Recording stopped before completing the experiment epoch']\n"
       ]
      },
      {
       "output_type": "stream",
       "stream": "stderr",
       "text": [
        "WARNING:root:sweep 34: ['Recording stopped before completing the experiment epoch']\n"
       ]
      },
      {
       "output_type": "stream",
       "stream": "stderr",
       "text": [
        "WARNING:root:sweep 35: ['Recording stopped before completing the experiment epoch']\n"
       ]
      },
      {
       "output_type": "stream",
       "stream": "stderr",
       "text": [
        "WARNING:root:sweep 36: ['Recording stopped before completing the experiment epoch']\n"
       ]
      },
      {
       "output_type": "stream",
       "stream": "stdout",
       "text": [
        "720722317.0 extracted\n",
        "loading dataset into data structure...\n"
       ]
      },
      {
       "output_type": "stream",
       "stream": "stderr",
       "text": [
        "WARNING:root:sweep 25: ['Recording stopped before completing the experiment epoch']\n"
       ]
      },
      {
       "output_type": "stream",
       "stream": "stderr",
       "text": [
        "WARNING:root:sweep 26: ['Recording stopped before completing the experiment epoch']\n"
       ]
      },
      {
       "output_type": "stream",
       "stream": "stderr",
       "text": [
        "WARNING:root:sweep 27: ['Recording stopped before completing the experiment epoch']\n"
       ]
      },
      {
       "output_type": "stream",
       "stream": "stderr",
       "text": [
        "WARNING:root:sweep 28: ['Recording stopped before completing the experiment epoch']\n"
       ]
      },
      {
       "output_type": "stream",
       "stream": "stdout",
       "text": [
        "720725635.0 extracted\n",
        "loading dataset into data structure...\n"
       ]
      },
      {
       "output_type": "stream",
       "stream": "stderr",
       "text": [
        "WARNING:root:sweep 20: ['Recording stopped before completing the experiment epoch']\n"
       ]
      },
      {
       "output_type": "stream",
       "stream": "stderr",
       "text": [
        "WARNING:root:sweep 21: ['Recording stopped before completing the experiment epoch']\n"
       ]
      },
      {
       "output_type": "stream",
       "stream": "stderr",
       "text": [
        "WARNING:root:sweep 22: ['Recording stopped before completing the experiment epoch']\n"
       ]
      },
      {
       "output_type": "stream",
       "stream": "stderr",
       "text": [
        "WARNING:root:sweep 23: ['Recording stopped before completing the experiment epoch']\n"
       ]
      },
      {
       "output_type": "stream",
       "stream": "stderr",
       "text": [
        "WARNING:root:sweep 24: ['Recording stopped before completing the experiment epoch']\n"
       ]
      },
      {
       "output_type": "stream",
       "stream": "stdout",
       "text": [
        "720734428.0 extracted\n",
        "loading dataset into data structure...\n"
       ]
      },
      {
       "output_type": "stream",
       "stream": "stdout",
       "text": [
        "720745045.0 extracted\n",
        "loading dataset into data structure...\n"
       ]
      },
      {
       "output_type": "stream",
       "stream": "stderr",
       "text": [
        "WARNING:root:sweep 29: ['Recording stopped before completing the experiment epoch']\n"
       ]
      },
      {
       "output_type": "stream",
       "stream": "stderr",
       "text": [
        "WARNING:root:sweep 30: ['Recording stopped before completing the experiment epoch']\n"
       ]
      },
      {
       "output_type": "stream",
       "stream": "stderr",
       "text": [
        "WARNING:root:sweep 31: ['Recording stopped before completing the experiment epoch']\n"
       ]
      },
      {
       "output_type": "stream",
       "stream": "stderr",
       "text": [
        "WARNING:root:sweep 32: ['Recording stopped before completing the experiment epoch']\n"
       ]
      },
      {
       "output_type": "stream",
       "stream": "stderr",
       "text": [
        "WARNING:root:sweep 33: ['Recording stopped before completing the experiment epoch']\n"
       ]
      },
      {
       "output_type": "stream",
       "stream": "stdout",
       "text": [
        "720752467.0 extracted\n",
        "loading dataset into data structure...\n"
       ]
      },
      {
       "output_type": "stream",
       "stream": "stderr",
       "text": [
        "WARNING:root:sweep 26: ['Recording stopped before completing the experiment epoch']\n"
       ]
      },
      {
       "output_type": "stream",
       "stream": "stderr",
       "text": [
        "WARNING:root:sweep 27: ['Recording stopped before completing the experiment epoch']\n"
       ]
      },
      {
       "output_type": "stream",
       "stream": "stderr",
       "text": [
        "WARNING:root:sweep 28: ['Recording stopped before completing the experiment epoch']\n"
       ]
      },
      {
       "output_type": "stream",
       "stream": "stderr",
       "text": [
        "WARNING:root:sweep 29: ['Recording stopped before completing the experiment epoch']\n"
       ]
      },
      {
       "output_type": "stream",
       "stream": "stderr",
       "text": [
        "WARNING:root:sweep 30: ['Recording stopped before completing the experiment epoch']\n"
       ]
      },
      {
       "output_type": "stream",
       "stream": "stdout",
       "text": [
        "720754651.0 extracted\n",
        "loading dataset into data structure...\n"
       ]
      },
      {
       "output_type": "stream",
       "stream": "stderr",
       "text": [
        "WARNING:root:sweep 22: ['Recording stopped before completing the experiment epoch']\n"
       ]
      },
      {
       "output_type": "stream",
       "stream": "stderr",
       "text": [
        "WARNING:root:sweep 23: ['Recording stopped before completing the experiment epoch']\n"
       ]
      },
      {
       "output_type": "stream",
       "stream": "stderr",
       "text": [
        "WARNING:root:sweep 24: ['Recording stopped before completing the experiment epoch']\n"
       ]
      },
      {
       "output_type": "stream",
       "stream": "stderr",
       "text": [
        "WARNING:root:sweep 25: ['Recording stopped before completing the experiment epoch']\n"
       ]
      },
      {
       "output_type": "stream",
       "stream": "stderr",
       "text": [
        "WARNING:root:sweep 26: ['Recording stopped before completing the experiment epoch']\n"
       ]
      },
      {
       "output_type": "stream",
       "stream": "stderr",
       "text": [
        "/nethome/kcni/ychen/.local/lib/python3.6/site-packages/ipfx/spike_features.py:87: RuntimeWarning: invalid value encountered in less\n",
        "  width_levels[width_levels < v[spike_indexes]] = thresh_to_peak_levels[width_levels < v[spike_indexes]]\n"
       ]
      },
      {
       "output_type": "stream",
       "stream": "stdout",
       "text": [
        "721693943.0 extracted\n",
        "loading dataset into data structure...\n"
       ]
      },
      {
       "output_type": "stream",
       "stream": "stderr",
       "text": [
        "WARNING:root:sweep 25: ['Recording stopped before completing the experiment epoch']\n"
       ]
      },
      {
       "output_type": "stream",
       "stream": "stderr",
       "text": [
        "WARNING:root:sweep 26: ['Recording stopped before completing the experiment epoch']\n"
       ]
      },
      {
       "output_type": "stream",
       "stream": "stderr",
       "text": [
        "WARNING:root:sweep 27: ['Recording stopped before completing the experiment epoch']\n"
       ]
      },
      {
       "output_type": "stream",
       "stream": "stderr",
       "text": [
        "WARNING:root:sweep 28: ['Recording stopped before completing the experiment epoch']\n"
       ]
      },
      {
       "output_type": "stream",
       "stream": "stderr",
       "text": [
        "WARNING:root:sweep 29: ['Recording stopped before completing the experiment epoch']\n"
       ]
      },
      {
       "output_type": "stream",
       "stream": "stderr",
       "text": [
        "/nethome/kcni/ychen/.local/lib/python3.6/site-packages/ipfx/spike_features.py:87: RuntimeWarning: invalid value encountered in less\n",
        "  width_levels[width_levels < v[spike_indexes]] = thresh_to_peak_levels[width_levels < v[spike_indexes]]\n"
       ]
      },
      {
       "output_type": "stream",
       "stream": "stdout",
       "text": [
        "722771889.0 extracted\n",
        "loading dataset into data structure...\n"
       ]
      },
      {
       "output_type": "stream",
       "stream": "stderr",
       "text": [
        "WARNING:root:sweep 28: ['Recording stopped before completing the experiment epoch']\n"
       ]
      },
      {
       "output_type": "stream",
       "stream": "stderr",
       "text": [
        "WARNING:root:sweep 29: ['Recording stopped before completing the experiment epoch']\n"
       ]
      },
      {
       "output_type": "stream",
       "stream": "stderr",
       "text": [
        "WARNING:root:sweep 30: ['Recording stopped before completing the experiment epoch']\n"
       ]
      },
      {
       "output_type": "stream",
       "stream": "stderr",
       "text": [
        "WARNING:root:sweep 31: ['Recording stopped before completing the experiment epoch']\n"
       ]
      },
      {
       "output_type": "stream",
       "stream": "stderr",
       "text": [
        "WARNING:root:sweep 32: ['Recording stopped before completing the experiment epoch']\n"
       ]
      },
      {
       "output_type": "stream",
       "stream": "stdout",
       "text": [
        "722774792.0 extracted\n",
        "loading dataset into data structure...\n"
       ]
      },
      {
       "output_type": "stream",
       "stream": "stderr",
       "text": [
        "WARNING:root:sweep 24: ['Recording stopped before completing the experiment epoch']\n"
       ]
      },
      {
       "output_type": "stream",
       "stream": "stderr",
       "text": [
        "WARNING:root:sweep 25: ['Recording stopped before completing the experiment epoch']\n"
       ]
      },
      {
       "output_type": "stream",
       "stream": "stderr",
       "text": [
        "WARNING:root:sweep 26: ['Recording stopped before completing the experiment epoch']\n"
       ]
      },
      {
       "output_type": "stream",
       "stream": "stderr",
       "text": [
        "WARNING:root:sweep 27: ['Recording stopped before completing the experiment epoch']\n"
       ]
      },
      {
       "output_type": "stream",
       "stream": "stderr",
       "text": [
        "WARNING:root:sweep 28: ['Recording stopped before completing the experiment epoch']\n"
       ]
      },
      {
       "output_type": "stream",
       "stream": "stdout",
       "text": [
        "722795299.0 extracted\n",
        "loading dataset into data structure...\n"
       ]
      },
      {
       "output_type": "stream",
       "stream": "stderr",
       "text": [
        "WARNING:root:sweep 29: ['Recording stopped before completing the experiment epoch']\n"
       ]
      },
      {
       "output_type": "stream",
       "stream": "stderr",
       "text": [
        "WARNING:root:sweep 30: ['Recording stopped before completing the experiment epoch']\n"
       ]
      },
      {
       "output_type": "stream",
       "stream": "stderr",
       "text": [
        "WARNING:root:sweep 31: ['Recording stopped before completing the experiment epoch']\n"
       ]
      },
      {
       "output_type": "stream",
       "stream": "stderr",
       "text": [
        "WARNING:root:sweep 32: ['Recording stopped before completing the experiment epoch']\n"
       ]
      },
      {
       "output_type": "stream",
       "stream": "stderr",
       "text": [
        "WARNING:root:sweep 33: ['Recording stopped before completing the experiment epoch']\n"
       ]
      },
      {
       "output_type": "stream",
       "stream": "stdout",
       "text": [
        "722821387.0 extracted\n",
        "loading dataset into data structure...\n"
       ]
      },
      {
       "output_type": "stream",
       "stream": "stderr",
       "text": [
        "WARNING:root:sweep 36: ['Recording stopped before completing the experiment epoch']\n"
       ]
      },
      {
       "output_type": "stream",
       "stream": "stderr",
       "text": [
        "WARNING:root:sweep 37: ['Recording stopped before completing the experiment epoch']\n"
       ]
      },
      {
       "output_type": "stream",
       "stream": "stderr",
       "text": [
        "WARNING:root:sweep 38: ['Recording stopped before completing the experiment epoch']\n"
       ]
      },
      {
       "output_type": "stream",
       "stream": "stderr",
       "text": [
        "WARNING:root:sweep 39: ['Recording stopped before completing the experiment epoch']\n"
       ]
      },
      {
       "output_type": "stream",
       "stream": "stderr",
       "text": [
        "WARNING:root:sweep 40: ['Recording stopped before completing the experiment epoch']\n"
       ]
      },
      {
       "output_type": "stream",
       "stream": "stdout",
       "text": [
        "722821551.0 extracted\n",
        "loading dataset into data structure...\n"
       ]
      },
      {
       "output_type": "stream",
       "stream": "stderr",
       "text": [
        "WARNING:root:sweep 22: ['Recording stopped before completing the experiment epoch']\n"
       ]
      },
      {
       "output_type": "stream",
       "stream": "stderr",
       "text": [
        "WARNING:root:sweep 23: ['Recording stopped before completing the experiment epoch']\n"
       ]
      },
      {
       "output_type": "stream",
       "stream": "stderr",
       "text": [
        "WARNING:root:sweep 24: ['Recording stopped before completing the experiment epoch']\n"
       ]
      },
      {
       "output_type": "stream",
       "stream": "stdout",
       "text": [
        "722831890.0 extracted\n",
        "loading dataset into data structure...\n"
       ]
      },
      {
       "output_type": "stream",
       "stream": "stderr",
       "text": [
        "WARNING:root:sweep 22: ['Recording stopped before completing the experiment epoch']\n"
       ]
      },
      {
       "output_type": "stream",
       "stream": "stderr",
       "text": [
        "WARNING:root:sweep 23: ['Recording stopped before completing the experiment epoch']\n"
       ]
      },
      {
       "output_type": "stream",
       "stream": "stderr",
       "text": [
        "WARNING:root:sweep 24: ['Recording stopped before completing the experiment epoch']\n"
       ]
      },
      {
       "output_type": "stream",
       "stream": "stderr",
       "text": [
        "WARNING:root:sweep 25: ['Recording stopped before completing the experiment epoch']\n"
       ]
      },
      {
       "output_type": "stream",
       "stream": "stderr",
       "text": [
        "WARNING:root:sweep 26: ['Recording stopped before completing the experiment epoch']\n"
       ]
      },
      {
       "output_type": "stream",
       "stream": "stderr",
       "text": [
        "/nethome/kcni/ychen/.local/lib/python3.6/site-packages/ipfx/spike_features.py:87: RuntimeWarning: invalid value encountered in less\n",
        "  width_levels[width_levels < v[spike_indexes]] = thresh_to_peak_levels[width_levels < v[spike_indexes]]\n"
       ]
      },
      {
       "output_type": "stream",
       "stream": "stdout",
       "text": [
        "722849501.0 extracted\n",
        "loading dataset into data structure...\n"
       ]
      },
      {
       "output_type": "stream",
       "stream": "stderr",
       "text": [
        "WARNING:root:sweep 22: ['Recording stopped before completing the experiment epoch']\n"
       ]
      },
      {
       "output_type": "stream",
       "stream": "stderr",
       "text": [
        "WARNING:root:sweep 23: ['Recording stopped before completing the experiment epoch']\n"
       ]
      },
      {
       "output_type": "stream",
       "stream": "stderr",
       "text": [
        "WARNING:root:sweep 24: ['Recording stopped before completing the experiment epoch']\n"
       ]
      },
      {
       "output_type": "stream",
       "stream": "stderr",
       "text": [
        "WARNING:root:sweep 25: ['Recording stopped before completing the experiment epoch']\n"
       ]
      },
      {
       "output_type": "stream",
       "stream": "stderr",
       "text": [
        "WARNING:root:sweep 26: ['Recording stopped before completing the experiment epoch']\n"
       ]
      },
      {
       "output_type": "stream",
       "stream": "stdout",
       "text": [
        "722883706.0 extracted\n",
        "loading dataset into data structure...\n"
       ]
      },
      {
       "output_type": "stream",
       "stream": "stderr",
       "text": [
        "WARNING:root:sweep 28: ['Recording stopped before completing the experiment epoch']\n"
       ]
      },
      {
       "output_type": "stream",
       "stream": "stderr",
       "text": [
        "WARNING:root:sweep 29: ['Recording stopped before completing the experiment epoch']\n"
       ]
      },
      {
       "output_type": "stream",
       "stream": "stderr",
       "text": [
        "WARNING:root:sweep 30: ['Recording stopped before completing the experiment epoch']\n"
       ]
      },
      {
       "output_type": "stream",
       "stream": "stderr",
       "text": [
        "WARNING:root:sweep 31: ['Recording stopped before completing the experiment epoch']\n"
       ]
      },
      {
       "output_type": "stream",
       "stream": "stderr",
       "text": [
        "WARNING:root:sweep 32: ['Recording stopped before completing the experiment epoch']\n"
       ]
      },
      {
       "output_type": "stream",
       "stream": "stderr",
       "text": [
        "WARNING:root:sweep 36: ['Recording stopped before completing the experiment epoch']\n"
       ]
      },
      {
       "output_type": "stream",
       "stream": "stderr",
       "text": [
        "WARNING:root:sweep 37: ['Recording stopped before completing the experiment epoch']\n"
       ]
      },
      {
       "output_type": "stream",
       "stream": "stderr",
       "text": [
        "WARNING:root:sweep 38: ['Recording stopped before completing the experiment epoch']\n"
       ]
      },
      {
       "output_type": "stream",
       "stream": "stderr",
       "text": [
        "WARNING:root:sweep 39: ['Recording stopped before completing the experiment epoch']\n"
       ]
      },
      {
       "output_type": "stream",
       "stream": "stdout",
       "text": [
        "722885306.0 extracted\n",
        "loading dataset into data structure...\n"
       ]
      },
      {
       "output_type": "stream",
       "stream": "stderr",
       "text": [
        "WARNING:root:sweep 25: ['Recording stopped before completing the experiment epoch']\n"
       ]
      },
      {
       "output_type": "stream",
       "stream": "stderr",
       "text": [
        "WARNING:root:sweep 26: ['Recording stopped before completing the experiment epoch']\n"
       ]
      },
      {
       "output_type": "stream",
       "stream": "stderr",
       "text": [
        "WARNING:root:sweep 27: ['Recording stopped before completing the experiment epoch']\n"
       ]
      },
      {
       "output_type": "stream",
       "stream": "stderr",
       "text": [
        "WARNING:root:sweep 28: ['Recording stopped before completing the experiment epoch']\n"
       ]
      },
      {
       "output_type": "stream",
       "stream": "stderr",
       "text": [
        "WARNING:root:sweep 29: ['Recording stopped before completing the experiment epoch']\n"
       ]
      },
      {
       "output_type": "stream",
       "stream": "stderr",
       "text": [
        "WARNING:root:sweep 30: ['Recording stopped before completing the experiment epoch']\n"
       ]
      },
      {
       "output_type": "stream",
       "stream": "stdout",
       "text": [
        "722891560.0 extracted\n",
        "loading dataset into data structure...\n"
       ]
      },
      {
       "output_type": "stream",
       "stream": "stderr",
       "text": [
        "WARNING:root:sweep 27: ['Recording stopped before completing the experiment epoch']\n"
       ]
      },
      {
       "output_type": "stream",
       "stream": "stderr",
       "text": [
        "WARNING:root:sweep 28: ['Recording stopped before completing the experiment epoch']\n"
       ]
      },
      {
       "output_type": "stream",
       "stream": "stderr",
       "text": [
        "WARNING:root:sweep 29: ['Recording stopped before completing the experiment epoch']\n"
       ]
      },
      {
       "output_type": "stream",
       "stream": "stderr",
       "text": [
        "WARNING:root:sweep 30: ['Recording stopped before completing the experiment epoch']\n"
       ]
      },
      {
       "output_type": "stream",
       "stream": "stderr",
       "text": [
        "WARNING:root:sweep 31: ['Recording stopped before completing the experiment epoch']\n"
       ]
      },
      {
       "output_type": "stream",
       "stream": "stderr",
       "text": [
        "/nethome/kcni/ychen/.local/lib/python3.6/site-packages/ipfx/spike_features.py:87: RuntimeWarning: invalid value encountered in less\n",
        "  width_levels[width_levels < v[spike_indexes]] = thresh_to_peak_levels[width_levels < v[spike_indexes]]\n"
       ]
      },
      {
       "output_type": "stream",
       "stream": "stdout",
       "text": [
        "722895311.0 extracted\n",
        "loading dataset into data structure...\n"
       ]
      },
      {
       "output_type": "stream",
       "stream": "stderr",
       "text": [
        "/nethome/kcni/ychen/.local/lib/python3.6/site-packages/ipfx/spike_features.py:87: RuntimeWarning: invalid value encountered in less\n",
        "  width_levels[width_levels < v[spike_indexes]] = thresh_to_peak_levels[width_levels < v[spike_indexes]]\n"
       ]
      },
      {
       "output_type": "stream",
       "stream": "stdout",
       "text": [
        "722931053.0 extracted\n",
        "loading dataset into data structure...\n"
       ]
      },
      {
       "output_type": "stream",
       "stream": "stderr",
       "text": [
        "WARNING:root:sweep 27: ['Recording stopped before completing the experiment epoch']\n"
       ]
      },
      {
       "output_type": "stream",
       "stream": "stderr",
       "text": [
        "WARNING:root:sweep 28: ['Recording stopped before completing the experiment epoch']\n"
       ]
      },
      {
       "output_type": "stream",
       "stream": "stderr",
       "text": [
        "WARNING:root:sweep 29: ['Recording stopped before completing the experiment epoch']\n"
       ]
      },
      {
       "output_type": "stream",
       "stream": "stderr",
       "text": [
        "WARNING:root:sweep 30: ['Recording stopped before completing the experiment epoch']\n"
       ]
      },
      {
       "output_type": "stream",
       "stream": "stderr",
       "text": [
        "WARNING:root:sweep 31: ['Recording stopped before completing the experiment epoch']\n"
       ]
      },
      {
       "output_type": "stream",
       "stream": "stdout",
       "text": [
        "723478039.0 extracted\n",
        "loading dataset into data structure...\n"
       ]
      },
      {
       "output_type": "stream",
       "stream": "stdout",
       "text": [
        "723597336.0 extracted\n",
        "loading dataset into data structure...\n"
       ]
      },
      {
       "output_type": "stream",
       "stream": "stderr",
       "text": [
        "WARNING:root:sweep 4: ['Recording stopped before completing the experiment epoch']\n"
       ]
      },
      {
       "output_type": "stream",
       "stream": "stderr",
       "text": [
        "WARNING:root:sweep 7: ['Recording stopped before completing the experiment epoch']\n"
       ]
      },
      {
       "output_type": "stream",
       "stream": "stderr",
       "text": [
        "WARNING:root:sweep 13: ['Recording stopped before completing the experiment epoch']\n"
       ]
      },
      {
       "output_type": "stream",
       "stream": "stdout",
       "text": [
        "723600587.0 extracted\n",
        "loading dataset into data structure...\n"
       ]
      },
      {
       "output_type": "stream",
       "stream": "stderr",
       "text": [
        "WARNING:root:sweep 28: ['Recording stopped before completing the experiment epoch']\n"
       ]
      },
      {
       "output_type": "stream",
       "stream": "stderr",
       "text": [
        "WARNING:root:sweep 29: ['Recording stopped before completing the experiment epoch']\n"
       ]
      },
      {
       "output_type": "stream",
       "stream": "stderr",
       "text": [
        "WARNING:root:sweep 30: ['Recording stopped before completing the experiment epoch']\n"
       ]
      },
      {
       "output_type": "stream",
       "stream": "stderr",
       "text": [
        "WARNING:root:sweep 31: ['Recording stopped before completing the experiment epoch']\n"
       ]
      },
      {
       "output_type": "stream",
       "stream": "stderr",
       "text": [
        "WARNING:root:sweep 32: ['Recording stopped before completing the experiment epoch']\n"
       ]
      },
      {
       "output_type": "stream",
       "stream": "stdout",
       "text": [
        "723612109.0 extracted\n",
        "loading dataset into data structure...\n"
       ]
      },
      {
       "output_type": "stream",
       "stream": "stderr",
       "text": [
        "WARNING:root:sweep 26: ['Recording stopped before completing the experiment epoch']\n"
       ]
      },
      {
       "output_type": "stream",
       "stream": "stderr",
       "text": [
        "WARNING:root:sweep 27: ['Recording stopped before completing the experiment epoch']\n"
       ]
      },
      {
       "output_type": "stream",
       "stream": "stderr",
       "text": [
        "WARNING:root:sweep 28: ['Recording stopped before completing the experiment epoch']\n"
       ]
      },
      {
       "output_type": "stream",
       "stream": "stderr",
       "text": [
        "WARNING:root:sweep 29: ['Recording stopped before completing the experiment epoch']\n"
       ]
      },
      {
       "output_type": "stream",
       "stream": "stderr",
       "text": [
        "WARNING:root:sweep 30: ['Recording stopped before completing the experiment epoch']\n"
       ]
      },
      {
       "output_type": "stream",
       "stream": "stdout",
       "text": [
        "723632259.0 extracted\n",
        "loading dataset into data structure...\n"
       ]
      },
      {
       "output_type": "stream",
       "stream": "stderr",
       "text": [
        "WARNING:root:sweep 25: ['Recording stopped before completing the experiment epoch']\n"
       ]
      },
      {
       "output_type": "stream",
       "stream": "stderr",
       "text": [
        "WARNING:root:sweep 26: ['Recording stopped before completing the experiment epoch']\n"
       ]
      },
      {
       "output_type": "stream",
       "stream": "stderr",
       "text": [
        "WARNING:root:sweep 27: ['Recording stopped before completing the experiment epoch']\n"
       ]
      },
      {
       "output_type": "stream",
       "stream": "stderr",
       "text": [
        "WARNING:root:sweep 28: ['Recording stopped before completing the experiment epoch']\n"
       ]
      },
      {
       "output_type": "stream",
       "stream": "stderr",
       "text": [
        "WARNING:root:sweep 29: ['Recording stopped before completing the experiment epoch']\n"
       ]
      },
      {
       "output_type": "stream",
       "stream": "stdout",
       "text": [
        "723719530.0 extracted\n",
        "loading dataset into data structure...\n"
       ]
      },
      {
       "output_type": "stream",
       "stream": "stderr",
       "text": [
        "WARNING:root:sweep 23: ['Recording stopped before completing the experiment epoch']\n"
       ]
      },
      {
       "output_type": "stream",
       "stream": "stderr",
       "text": [
        "WARNING:root:sweep 24: ['Recording stopped before completing the experiment epoch']\n"
       ]
      },
      {
       "output_type": "stream",
       "stream": "stderr",
       "text": [
        "WARNING:root:sweep 25: ['Recording stopped before completing the experiment epoch']\n"
       ]
      },
      {
       "output_type": "stream",
       "stream": "stderr",
       "text": [
        "WARNING:root:sweep 26: ['Recording stopped before completing the experiment epoch']\n"
       ]
      },
      {
       "output_type": "stream",
       "stream": "stderr",
       "text": [
        "WARNING:root:sweep 27: ['Recording stopped before completing the experiment epoch']\n"
       ]
      },
      {
       "output_type": "stream",
       "stream": "stderr",
       "text": [
        "WARNING:root:sweep 28: ['Recording stopped before completing the experiment epoch']\n"
       ]
      },
      {
       "output_type": "stream",
       "stream": "stdout",
       "text": [
        "723731306.0 extracted\n",
        "loading dataset into data structure...\n"
       ]
      },
      {
       "output_type": "stream",
       "stream": "stderr",
       "text": [
        "WARNING:root:sweep 27: ['Recording stopped before completing the experiment epoch']\n"
       ]
      },
      {
       "output_type": "stream",
       "stream": "stderr",
       "text": [
        "WARNING:root:sweep 28: ['Recording stopped before completing the experiment epoch']\n"
       ]
      },
      {
       "output_type": "stream",
       "stream": "stderr",
       "text": [
        "WARNING:root:sweep 29: ['Recording stopped before completing the experiment epoch']\n"
       ]
      },
      {
       "output_type": "stream",
       "stream": "stderr",
       "text": [
        "WARNING:root:sweep 30: ['Recording stopped before completing the experiment epoch']\n"
       ]
      },
      {
       "output_type": "stream",
       "stream": "stderr",
       "text": [
        "WARNING:root:sweep 31: ['Recording stopped before completing the experiment epoch']\n"
       ]
      },
      {
       "output_type": "stream",
       "stream": "stderr",
       "text": [
        "WARNING:root:sweep 32: ['Recording stopped before completing the experiment epoch']\n"
       ]
      },
      {
       "output_type": "stream",
       "stream": "stdout",
       "text": [
        "723750537.0 extracted\n",
        "loading dataset into data structure...\n"
       ]
      },
      {
       "output_type": "stream",
       "stream": "stderr",
       "text": [
        "WARNING:root:sweep 21: ['Recording stopped before completing the experiment epoch']\n"
       ]
      },
      {
       "output_type": "stream",
       "stream": "stderr",
       "text": [
        "WARNING:root:sweep 22: ['Recording stopped before completing the experiment epoch']\n"
       ]
      },
      {
       "output_type": "stream",
       "stream": "stderr",
       "text": [
        "WARNING:root:sweep 23: ['Recording stopped before completing the experiment epoch']\n"
       ]
      },
      {
       "output_type": "stream",
       "stream": "stderr",
       "text": [
        "WARNING:root:sweep 24: ['Recording stopped before completing the experiment epoch']\n"
       ]
      },
      {
       "output_type": "stream",
       "stream": "stderr",
       "text": [
        "WARNING:root:sweep 25: ['Recording stopped before completing the experiment epoch']\n"
       ]
      },
      {
       "output_type": "stream",
       "stream": "stderr",
       "text": [
        "WARNING:root:sweep 26: ['Recording stopped before completing the experiment epoch']\n"
       ]
      },
      {
       "output_type": "stream",
       "stream": "stdout",
       "text": [
        "723754537.0 extracted\n",
        "loading dataset into data structure...\n"
       ]
      },
      {
       "output_type": "stream",
       "stream": "stderr",
       "text": [
        "WARNING:root:sweep 27: ['Recording stopped before completing the experiment epoch']\n"
       ]
      },
      {
       "output_type": "stream",
       "stream": "stderr",
       "text": [
        "WARNING:root:sweep 28: ['Recording stopped before completing the experiment epoch']\n"
       ]
      },
      {
       "output_type": "stream",
       "stream": "stderr",
       "text": [
        "WARNING:root:sweep 29: ['Recording stopped before completing the experiment epoch']\n"
       ]
      },
      {
       "output_type": "stream",
       "stream": "stderr",
       "text": [
        "WARNING:root:sweep 30: ['Recording stopped before completing the experiment epoch']\n"
       ]
      },
      {
       "output_type": "stream",
       "stream": "stderr",
       "text": [
        "WARNING:root:sweep 31: ['Recording stopped before completing the experiment epoch']\n"
       ]
      },
      {
       "output_type": "stream",
       "stream": "stdout",
       "text": [
        "723947788.0 extracted\n",
        "loading dataset into data structure...\n"
       ]
      },
      {
       "output_type": "stream",
       "stream": "stderr",
       "text": [
        "WARNING:root:sweep 27: ['Recording stopped before completing the experiment epoch']\n"
       ]
      },
      {
       "output_type": "stream",
       "stream": "stderr",
       "text": [
        "WARNING:root:sweep 28: ['Recording stopped before completing the experiment epoch']\n"
       ]
      },
      {
       "output_type": "stream",
       "stream": "stderr",
       "text": [
        "WARNING:root:sweep 29: ['Recording stopped before completing the experiment epoch']\n"
       ]
      },
      {
       "output_type": "stream",
       "stream": "stderr",
       "text": [
        "WARNING:root:sweep 30: ['Recording stopped before completing the experiment epoch']\n"
       ]
      },
      {
       "output_type": "stream",
       "stream": "stderr",
       "text": [
        "WARNING:root:sweep 31: ['Recording stopped before completing the experiment epoch']\n"
       ]
      },
      {
       "output_type": "stream",
       "stream": "stderr",
       "text": [
        "WARNING:root:sweep 32: ['Recording stopped before completing the experiment epoch']\n"
       ]
      },
      {
       "output_type": "stream",
       "stream": "stdout",
       "text": [
        "723956153.0 extracted\n",
        "loading dataset into data structure...\n"
       ]
      },
      {
       "output_type": "stream",
       "stream": "stdout",
       "text": [
        "723964904.0 extracted\n",
        "loading dataset into data structure...\n"
       ]
      },
      {
       "output_type": "stream",
       "stream": "stderr",
       "text": [
        "WARNING:root:sweep 25: ['Recording stopped before completing the experiment epoch']\n"
       ]
      },
      {
       "output_type": "stream",
       "stream": "stderr",
       "text": [
        "WARNING:root:sweep 26: ['Recording stopped before completing the experiment epoch']\n"
       ]
      },
      {
       "output_type": "stream",
       "stream": "stderr",
       "text": [
        "WARNING:root:sweep 27: ['Recording stopped before completing the experiment epoch']\n"
       ]
      },
      {
       "output_type": "stream",
       "stream": "stderr",
       "text": [
        "WARNING:root:sweep 28: ['Recording stopped before completing the experiment epoch']\n"
       ]
      },
      {
       "output_type": "stream",
       "stream": "stderr",
       "text": [
        "WARNING:root:sweep 29: ['Recording stopped before completing the experiment epoch']\n"
       ]
      },
      {
       "output_type": "stream",
       "stream": "stdout",
       "text": [
        "723967761.0 extracted\n",
        "loading dataset into data structure...\n"
       ]
      },
      {
       "output_type": "stream",
       "stream": "stderr",
       "text": [
        "WARNING:root:sweep 23: ['Recording stopped before completing the experiment epoch']\n"
       ]
      },
      {
       "output_type": "stream",
       "stream": "stderr",
       "text": [
        "WARNING:root:sweep 24: ['Recording stopped before completing the experiment epoch']\n"
       ]
      },
      {
       "output_type": "stream",
       "stream": "stderr",
       "text": [
        "WARNING:root:sweep 25: ['Recording stopped before completing the experiment epoch']\n"
       ]
      },
      {
       "output_type": "stream",
       "stream": "stderr",
       "text": [
        "WARNING:root:sweep 26: ['Recording stopped before completing the experiment epoch']\n"
       ]
      },
      {
       "output_type": "stream",
       "stream": "stderr",
       "text": [
        "WARNING:root:sweep 27: ['Recording stopped before completing the experiment epoch']\n"
       ]
      },
      {
       "output_type": "stream",
       "stream": "stdout",
       "text": [
        "723968079.0 extracted\n",
        "loading dataset into data structure...\n"
       ]
      },
      {
       "output_type": "stream",
       "stream": "stderr",
       "text": [
        "WARNING:root:sweep 25: ['Recording stopped before completing the experiment epoch']\n"
       ]
      },
      {
       "output_type": "stream",
       "stream": "stderr",
       "text": [
        "WARNING:root:sweep 26: ['Recording stopped before completing the experiment epoch']\n"
       ]
      },
      {
       "output_type": "stream",
       "stream": "stderr",
       "text": [
        "WARNING:root:sweep 27: ['Recording stopped before completing the experiment epoch']\n"
       ]
      },
      {
       "output_type": "stream",
       "stream": "stderr",
       "text": [
        "WARNING:root:sweep 28: ['Recording stopped before completing the experiment epoch']\n"
       ]
      },
      {
       "output_type": "stream",
       "stream": "stderr",
       "text": [
        "WARNING:root:sweep 29: ['Recording stopped before completing the experiment epoch']\n"
       ]
      },
      {
       "output_type": "stream",
       "stream": "stdout",
       "text": [
        "724023692.0 extracted\n",
        "loading dataset into data structure...\n"
       ]
      },
      {
       "output_type": "stream",
       "stream": "stderr",
       "text": [
        "WARNING:root:sweep 27: ['Recording stopped before completing the experiment epoch']\n"
       ]
      },
      {
       "output_type": "stream",
       "stream": "stderr",
       "text": [
        "WARNING:root:sweep 28: ['Recording stopped before completing the experiment epoch']\n"
       ]
      },
      {
       "output_type": "stream",
       "stream": "stderr",
       "text": [
        "WARNING:root:sweep 29: ['Recording stopped before completing the experiment epoch']\n"
       ]
      },
      {
       "output_type": "stream",
       "stream": "stderr",
       "text": [
        "WARNING:root:sweep 30: ['Recording stopped before completing the experiment epoch']\n"
       ]
      },
      {
       "output_type": "stream",
       "stream": "stderr",
       "text": [
        "WARNING:root:sweep 31: ['Recording stopped before completing the experiment epoch']\n"
       ]
      },
      {
       "output_type": "stream",
       "stream": "stdout",
       "text": [
        "724161376.0 extracted\n",
        "loading dataset into data structure...\n"
       ]
      },
      {
       "output_type": "stream",
       "stream": "stderr",
       "text": [
        "WARNING:root:sweep 11: ['experiment epoch is missing', 'stim epoch is missing']\n"
       ]
      },
      {
       "output_type": "stream",
       "stream": "stderr",
       "text": [
        "WARNING:root:sweep 27: ['Recording stopped before completing the experiment epoch']\n"
       ]
      },
      {
       "output_type": "stream",
       "stream": "stderr",
       "text": [
        "WARNING:root:sweep 28: ['Recording stopped before completing the experiment epoch']\n"
       ]
      },
      {
       "output_type": "stream",
       "stream": "stderr",
       "text": [
        "WARNING:root:sweep 29: ['Recording stopped before completing the experiment epoch']\n"
       ]
      },
      {
       "output_type": "stream",
       "stream": "stderr",
       "text": [
        "WARNING:root:sweep 30: ['Recording stopped before completing the experiment epoch']\n"
       ]
      },
      {
       "output_type": "stream",
       "stream": "stderr",
       "text": [
        "WARNING:root:sweep 31: ['Recording stopped before completing the experiment epoch']\n"
       ]
      },
      {
       "output_type": "stream",
       "stream": "stdout",
       "text": [
        "724162025.0 extracted\n",
        "loading dataset into data structure...\n"
       ]
      },
      {
       "output_type": "stream",
       "stream": "stderr",
       "text": [
        "/nethome/kcni/ychen/.local/lib/python3.6/site-packages/ipfx/spike_features.py:87: RuntimeWarning: invalid value encountered in less\n",
        "  width_levels[width_levels < v[spike_indexes]] = thresh_to_peak_levels[width_levels < v[spike_indexes]]\n"
       ]
      },
      {
       "output_type": "stream",
       "stream": "stdout",
       "text": [
        "724173929.0 extracted\n",
        "loading dataset into data structure...\n"
       ]
      },
      {
       "output_type": "stream",
       "stream": "stderr",
       "text": [
        "WARNING:root:sweep 33: ['Recording stopped before completing the experiment epoch']\n"
       ]
      },
      {
       "output_type": "stream",
       "stream": "stderr",
       "text": [
        "WARNING:root:sweep 34: ['Recording stopped before completing the experiment epoch']\n"
       ]
      },
      {
       "output_type": "stream",
       "stream": "stderr",
       "text": [
        "WARNING:root:sweep 35: ['Recording stopped before completing the experiment epoch']\n"
       ]
      },
      {
       "output_type": "stream",
       "stream": "stderr",
       "text": [
        "WARNING:root:sweep 36: ['Recording stopped before completing the experiment epoch']\n"
       ]
      },
      {
       "output_type": "stream",
       "stream": "stderr",
       "text": [
        "WARNING:root:sweep 37: ['Recording stopped before completing the experiment epoch']\n"
       ]
      },
      {
       "output_type": "stream",
       "stream": "stdout",
       "text": [
        "724191966.0 extracted\n"
       ]
      },
      {
       "output_type": "stream",
       "stream": "stdout",
       "text": [
        "loading dataset into data structure...\n"
       ]
      },
      {
       "output_type": "stream",
       "stream": "stderr",
       "text": [
        "WARNING:root:sweep 25: ['Recording stopped before completing the experiment epoch']\n"
       ]
      },
      {
       "output_type": "stream",
       "stream": "stderr",
       "text": [
        "WARNING:root:sweep 26: ['Recording stopped before completing the experiment epoch']\n"
       ]
      },
      {
       "output_type": "stream",
       "stream": "stderr",
       "text": [
        "WARNING:root:sweep 27: ['Recording stopped before completing the experiment epoch']\n"
       ]
      },
      {
       "output_type": "stream",
       "stream": "stderr",
       "text": [
        "WARNING:root:sweep 28: ['Recording stopped before completing the experiment epoch']\n"
       ]
      },
      {
       "output_type": "stream",
       "stream": "stderr",
       "text": [
        "WARNING:root:sweep 29: ['Recording stopped before completing the experiment epoch']\n"
       ]
      },
      {
       "output_type": "stream",
       "stream": "stderr",
       "text": [
        "WARNING:root:sweep 30: ['Recording stopped before completing the experiment epoch']\n"
       ]
      },
      {
       "output_type": "stream",
       "stream": "stdout",
       "text": [
        "724193531.0 extracted\n",
        "loading dataset into data structure...\n"
       ]
      },
      {
       "output_type": "stream",
       "stream": "stderr",
       "text": [
        "WARNING:root:sweep 25: ['Recording stopped before completing the experiment epoch']\n"
       ]
      },
      {
       "output_type": "stream",
       "stream": "stderr",
       "text": [
        "WARNING:root:sweep 26: ['Recording stopped before completing the experiment epoch']\n"
       ]
      },
      {
       "output_type": "stream",
       "stream": "stderr",
       "text": [
        "WARNING:root:sweep 27: ['Recording stopped before completing the experiment epoch']\n"
       ]
      },
      {
       "output_type": "stream",
       "stream": "stderr",
       "text": [
        "WARNING:root:sweep 28: ['Recording stopped before completing the experiment epoch']\n"
       ]
      },
      {
       "output_type": "stream",
       "stream": "stderr",
       "text": [
        "WARNING:root:sweep 29: ['Recording stopped before completing the experiment epoch']\n"
       ]
      },
      {
       "output_type": "stream",
       "stream": "stdout",
       "text": [
        "724583974.0 extracted\n",
        "loading dataset into data structure...\n"
       ]
      },
      {
       "output_type": "stream",
       "stream": "stdout",
       "text": [
        "724603706.0 extracted\n",
        "loading dataset into data structure...\n"
       ]
      },
      {
       "output_type": "stream",
       "stream": "stderr",
       "text": [
        "WARNING:root:sweep 24: ['Recording stopped before completing the experiment epoch']\n"
       ]
      },
      {
       "output_type": "stream",
       "stream": "stderr",
       "text": [
        "WARNING:root:sweep 25: ['Recording stopped before completing the experiment epoch']\n"
       ]
      },
      {
       "output_type": "stream",
       "stream": "stderr",
       "text": [
        "WARNING:root:sweep 26: ['Recording stopped before completing the experiment epoch']\n"
       ]
      },
      {
       "output_type": "stream",
       "stream": "stderr",
       "text": [
        "WARNING:root:sweep 27: ['Recording stopped before completing the experiment epoch']\n"
       ]
      },
      {
       "output_type": "stream",
       "stream": "stderr",
       "text": [
        "WARNING:root:sweep 28: ['Recording stopped before completing the experiment epoch']\n"
       ]
      },
      {
       "output_type": "stream",
       "stream": "stderr",
       "text": [
        "WARNING:root:sweep 29: ['Recording stopped before completing the experiment epoch']\n"
       ]
      },
      {
       "output_type": "stream",
       "stream": "stderr",
       "text": [
        "WARNING:root:sweep 30: ['Recording stopped before completing the experiment epoch']\n"
       ]
      },
      {
       "output_type": "stream",
       "stream": "stderr",
       "text": [
        "WARNING:root:sweep 31: ['Recording stopped before completing the experiment epoch']\n"
       ]
      },
      {
       "output_type": "stream",
       "stream": "stderr",
       "text": [
        "WARNING:root:sweep 32: ['Recording stopped before completing the experiment epoch']\n"
       ]
      },
      {
       "output_type": "stream",
       "stream": "stdout",
       "text": [
        "724633921.0 extracted\n",
        "loading dataset into data structure...\n"
       ]
      },
      {
       "output_type": "stream",
       "stream": "stdout",
       "text": [
        "724634038.0 extracted\n",
        "loading dataset into data structure...\n"
       ]
      },
      {
       "output_type": "stream",
       "stream": "stderr",
       "text": [
        "WARNING:root:sweep 22: ['Recording stopped before completing the experiment epoch']\n"
       ]
      },
      {
       "output_type": "stream",
       "stream": "stderr",
       "text": [
        "WARNING:root:sweep 23: ['Recording stopped before completing the experiment epoch']\n"
       ]
      },
      {
       "output_type": "stream",
       "stream": "stderr",
       "text": [
        "WARNING:root:sweep 24: ['Recording stopped before completing the experiment epoch']\n"
       ]
      },
      {
       "output_type": "stream",
       "stream": "stderr",
       "text": [
        "WARNING:root:sweep 25: ['Recording stopped before completing the experiment epoch']\n"
       ]
      },
      {
       "output_type": "stream",
       "stream": "stderr",
       "text": [
        "WARNING:root:sweep 26: ['Recording stopped before completing the experiment epoch']\n"
       ]
      },
      {
       "output_type": "stream",
       "stream": "stdout",
       "text": [
        "724655827.0 extracted\n",
        "loading dataset into data structure...\n"
       ]
      },
      {
       "output_type": "stream",
       "stream": "stderr",
       "text": [
        "WARNING:root:sweep 21: ['Recording stopped before completing the experiment epoch']\n"
       ]
      },
      {
       "output_type": "stream",
       "stream": "stderr",
       "text": [
        "WARNING:root:sweep 22: ['Recording stopped before completing the experiment epoch']\n"
       ]
      },
      {
       "output_type": "stream",
       "stream": "stderr",
       "text": [
        "WARNING:root:sweep 23: ['Recording stopped before completing the experiment epoch']\n"
       ]
      },
      {
       "output_type": "stream",
       "stream": "stderr",
       "text": [
        "WARNING:root:sweep 24: ['Recording stopped before completing the experiment epoch']\n"
       ]
      },
      {
       "output_type": "stream",
       "stream": "stderr",
       "text": [
        "WARNING:root:sweep 25: ['Recording stopped before completing the experiment epoch']\n"
       ]
      },
      {
       "output_type": "stream",
       "stream": "stderr",
       "text": [
        "WARNING:root:sweep 26: ['Recording stopped before completing the experiment epoch']\n"
       ]
      },
      {
       "output_type": "stream",
       "stream": "stdout",
       "text": [
        "724670298.0 extracted\n",
        "loading dataset into data structure...\n"
       ]
      },
      {
       "output_type": "stream",
       "stream": "stdout",
       "text": [
        "724701355.0 extracted\n",
        "loading dataset into data structure...\n"
       ]
      },
      {
       "output_type": "stream",
       "stream": "stderr",
       "text": [
        "WARNING:root:sweep 29: ['Recording stopped before completing the experiment epoch']\n"
       ]
      },
      {
       "output_type": "stream",
       "stream": "stderr",
       "text": [
        "WARNING:root:sweep 30: ['Recording stopped before completing the experiment epoch']\n"
       ]
      },
      {
       "output_type": "stream",
       "stream": "stderr",
       "text": [
        "WARNING:root:sweep 31: ['Recording stopped before completing the experiment epoch']\n"
       ]
      },
      {
       "output_type": "stream",
       "stream": "stderr",
       "text": [
        "WARNING:root:sweep 32: ['Recording stopped before completing the experiment epoch']\n"
       ]
      },
      {
       "output_type": "stream",
       "stream": "stderr",
       "text": [
        "WARNING:root:sweep 33: ['Recording stopped before completing the experiment epoch']\n"
       ]
      },
      {
       "output_type": "stream",
       "stream": "stdout",
       "text": [
        "724744790.0 extracted\n"
       ]
      },
      {
       "output_type": "stream",
       "stream": "stdout",
       "text": [
        "loading dataset into data structure...\n"
       ]
      },
      {
       "output_type": "stream",
       "stream": "stderr",
       "text": [
        "/nethome/kcni/ychen/.local/lib/python3.6/site-packages/ipfx/spike_features.py:87: RuntimeWarning: invalid value encountered in less\n",
        "  width_levels[width_levels < v[spike_indexes]] = thresh_to_peak_levels[width_levels < v[spike_indexes]]\n"
       ]
      },
      {
       "output_type": "stream",
       "stream": "stdout",
       "text": [
        "724756081.0 extracted\n"
       ]
      },
      {
       "output_type": "stream",
       "stream": "stdout",
       "text": [
        "loading dataset into data structure...\n"
       ]
      },
      {
       "output_type": "stream",
       "stream": "stderr",
       "text": [
        "WARNING:root:sweep 30: ['Recording stopped before completing the experiment epoch']\n"
       ]
      },
      {
       "output_type": "stream",
       "stream": "stderr",
       "text": [
        "WARNING:root:sweep 31: ['Recording stopped before completing the experiment epoch']\n"
       ]
      },
      {
       "output_type": "stream",
       "stream": "stderr",
       "text": [
        "WARNING:root:sweep 32: ['Recording stopped before completing the experiment epoch']\n"
       ]
      },
      {
       "output_type": "stream",
       "stream": "stderr",
       "text": [
        "WARNING:root:sweep 33: ['Recording stopped before completing the experiment epoch']\n"
       ]
      },
      {
       "output_type": "stream",
       "stream": "stderr",
       "text": [
        "WARNING:root:sweep 34: ['Recording stopped before completing the experiment epoch']\n"
       ]
      },
      {
       "output_type": "stream",
       "stream": "stdout",
       "text": [
        "724770442.0 extracted\n",
        "loading dataset into data structure...\n"
       ]
      },
      {
       "output_type": "stream",
       "stream": "stderr",
       "text": [
        "WARNING:root:sweep 21: ['Recording stopped before completing the experiment epoch']\n"
       ]
      },
      {
       "output_type": "stream",
       "stream": "stderr",
       "text": [
        "WARNING:root:sweep 22: ['Recording stopped before completing the experiment epoch']\n"
       ]
      },
      {
       "output_type": "stream",
       "stream": "stderr",
       "text": [
        "WARNING:root:sweep 23: ['Recording stopped before completing the experiment epoch']\n"
       ]
      },
      {
       "output_type": "stream",
       "stream": "stderr",
       "text": [
        "WARNING:root:sweep 24: ['Recording stopped before completing the experiment epoch']\n"
       ]
      },
      {
       "output_type": "stream",
       "stream": "stderr",
       "text": [
        "WARNING:root:sweep 25: ['Recording stopped before completing the experiment epoch']\n"
       ]
      },
      {
       "output_type": "stream",
       "stream": "stdout",
       "text": [
        "724775364.0 extracted\n",
        "loading dataset into data structure...\n"
       ]
      },
      {
       "output_type": "stream",
       "stream": "stderr",
       "text": [
        "WARNING:root:sweep 31: ['Recording stopped before completing the experiment epoch']\n"
       ]
      },
      {
       "output_type": "stream",
       "stream": "stdout",
       "text": [
        "724775685.0 extracted\n",
        "loading dataset into data structure...\n"
       ]
      },
      {
       "output_type": "stream",
       "stream": "stderr",
       "text": [
        "WARNING:root:sweep 21: ['Recording stopped before completing the experiment epoch']\n"
       ]
      },
      {
       "output_type": "stream",
       "stream": "stderr",
       "text": [
        "WARNING:root:sweep 22: ['Recording stopped before completing the experiment epoch']\n"
       ]
      },
      {
       "output_type": "stream",
       "stream": "stderr",
       "text": [
        "WARNING:root:sweep 23: ['Recording stopped before completing the experiment epoch']\n"
       ]
      },
      {
       "output_type": "stream",
       "stream": "stderr",
       "text": [
        "WARNING:root:sweep 24: ['Recording stopped before completing the experiment epoch']\n"
       ]
      },
      {
       "output_type": "stream",
       "stream": "stderr",
       "text": [
        "WARNING:root:sweep 25: ['Recording stopped before completing the experiment epoch']\n"
       ]
      },
      {
       "output_type": "stream",
       "stream": "stdout",
       "text": [
        "724790044.0 extracted\n",
        "loading dataset into data structure...\n"
       ]
      },
      {
       "output_type": "stream",
       "stream": "stderr",
       "text": [
        "WARNING:root:sweep 29: ['Recording stopped before completing the experiment epoch']\n"
       ]
      },
      {
       "output_type": "stream",
       "stream": "stderr",
       "text": [
        "WARNING:root:sweep 30: ['Recording stopped before completing the experiment epoch']\n"
       ]
      },
      {
       "output_type": "stream",
       "stream": "stderr",
       "text": [
        "WARNING:root:sweep 31: ['Recording stopped before completing the experiment epoch']\n"
       ]
      },
      {
       "output_type": "stream",
       "stream": "stderr",
       "text": [
        "WARNING:root:sweep 32: ['Recording stopped before completing the experiment epoch']\n"
       ]
      },
      {
       "output_type": "stream",
       "stream": "stderr",
       "text": [
        "WARNING:root:sweep 33: ['Recording stopped before completing the experiment epoch']\n"
       ]
      },
      {
       "output_type": "stream",
       "stream": "stderr",
       "text": [
        "WARNING:root:sweep 34: ['Recording stopped before completing the experiment epoch']\n"
       ]
      },
      {
       "output_type": "stream",
       "stream": "stdout",
       "text": [
        "724790111.0 extracted\n",
        "loading dataset into data structure...\n"
       ]
      },
      {
       "output_type": "stream",
       "stream": "stderr",
       "text": [
        "WARNING:root:sweep 6: ['Recording stopped before completing the experiment epoch']\n"
       ]
      },
      {
       "output_type": "stream",
       "stream": "stderr",
       "text": [
        "WARNING:root:sweep 35: ['Recording stopped before completing the experiment epoch']\n"
       ]
      },
      {
       "output_type": "stream",
       "stream": "stderr",
       "text": [
        "WARNING:root:sweep 36: ['Recording stopped before completing the experiment epoch']\n"
       ]
      },
      {
       "output_type": "stream",
       "stream": "stderr",
       "text": [
        "WARNING:root:sweep 37: ['Recording stopped before completing the experiment epoch']\n"
       ]
      },
      {
       "output_type": "stream",
       "stream": "stdout",
       "text": [
        "724799969.0 extracted\n",
        "loading dataset into data structure...\n"
       ]
      },
      {
       "output_type": "stream",
       "stream": "stderr",
       "text": [
        "WARNING:root:sweep 26: ['Recording stopped before completing the experiment epoch']\n"
       ]
      },
      {
       "output_type": "stream",
       "stream": "stderr",
       "text": [
        "WARNING:root:sweep 27: ['Recording stopped before completing the experiment epoch']\n"
       ]
      },
      {
       "output_type": "stream",
       "stream": "stderr",
       "text": [
        "WARNING:root:sweep 28: ['Recording stopped before completing the experiment epoch']\n"
       ]
      },
      {
       "output_type": "stream",
       "stream": "stderr",
       "text": [
        "WARNING:root:sweep 29: ['Recording stopped before completing the experiment epoch']\n"
       ]
      },
      {
       "output_type": "stream",
       "stream": "stderr",
       "text": [
        "WARNING:root:sweep 30: ['Recording stopped before completing the experiment epoch']\n"
       ]
      },
      {
       "output_type": "stream",
       "stream": "stdout",
       "text": [
        "724802323.0 extracted\n",
        "loading dataset into data structure...\n"
       ]
      },
      {
       "output_type": "stream",
       "stream": "stdout",
       "text": [
        "724802621.0 extracted\n",
        "loading dataset into data structure...\n"
       ]
      },
      {
       "output_type": "stream",
       "stream": "stderr",
       "text": [
        "WARNING:root:sweep 31: ['Recording stopped before completing the experiment epoch']\n"
       ]
      },
      {
       "output_type": "stream",
       "stream": "stderr",
       "text": [
        "WARNING:root:sweep 32: ['Recording stopped before completing the experiment epoch']\n"
       ]
      },
      {
       "output_type": "stream",
       "stream": "stderr",
       "text": [
        "WARNING:root:sweep 33: ['Recording stopped before completing the experiment epoch']\n"
       ]
      },
      {
       "output_type": "stream",
       "stream": "stderr",
       "text": [
        "WARNING:root:sweep 34: ['Recording stopped before completing the experiment epoch']\n"
       ]
      },
      {
       "output_type": "stream",
       "stream": "stderr",
       "text": [
        "WARNING:root:sweep 35: ['Recording stopped before completing the experiment epoch']\n"
       ]
      },
      {
       "output_type": "stream",
       "stream": "stdout",
       "text": [
        "724805528.0 extracted\n",
        "loading dataset into data structure...\n"
       ]
      },
      {
       "output_type": "stream",
       "stream": "stderr",
       "text": [
        "WARNING:root:sweep 21: ['Recording stopped before completing the experiment epoch']\n"
       ]
      },
      {
       "output_type": "stream",
       "stream": "stderr",
       "text": [
        "WARNING:root:sweep 22: ['Recording stopped before completing the experiment epoch']\n"
       ]
      },
      {
       "output_type": "stream",
       "stream": "stderr",
       "text": [
        "WARNING:root:sweep 23: ['Recording stopped before completing the experiment epoch']\n"
       ]
      },
      {
       "output_type": "stream",
       "stream": "stderr",
       "text": [
        "WARNING:root:sweep 24: ['Recording stopped before completing the experiment epoch']\n"
       ]
      },
      {
       "output_type": "stream",
       "stream": "stderr",
       "text": [
        "WARNING:root:sweep 25: ['Recording stopped before completing the experiment epoch']\n"
       ]
      },
      {
       "output_type": "stream",
       "stream": "stdout",
       "text": [
        "724810448.0 extracted\n",
        "loading dataset into data structure...\n"
       ]
      },
      {
       "output_type": "stream",
       "stream": "stderr",
       "text": [
        "WARNING:root:sweep 23: ['Recording stopped before completing the experiment epoch']\n"
       ]
      },
      {
       "output_type": "stream",
       "stream": "stderr",
       "text": [
        "WARNING:root:sweep 24: ['Recording stopped before completing the experiment epoch']\n"
       ]
      },
      {
       "output_type": "stream",
       "stream": "stderr",
       "text": [
        "WARNING:root:sweep 25: ['Recording stopped before completing the experiment epoch']\n"
       ]
      },
      {
       "output_type": "stream",
       "stream": "stderr",
       "text": [
        "WARNING:root:sweep 26: ['Recording stopped before completing the experiment epoch']\n"
       ]
      },
      {
       "output_type": "stream",
       "stream": "stderr",
       "text": [
        "WARNING:root:sweep 27: ['Recording stopped before completing the experiment epoch']\n"
       ]
      },
      {
       "output_type": "stream",
       "stream": "stdout",
       "text": [
        "724811326.0 extracted\n",
        "loading dataset into data structure...\n"
       ]
      },
      {
       "output_type": "stream",
       "stream": "stderr",
       "text": [
        "WARNING:root:sweep 24: ['Recording stopped before completing the experiment epoch']\n"
       ]
      },
      {
       "output_type": "stream",
       "stream": "stderr",
       "text": [
        "WARNING:root:sweep 25: ['Recording stopped before completing the experiment epoch']\n"
       ]
      },
      {
       "output_type": "stream",
       "stream": "stderr",
       "text": [
        "WARNING:root:sweep 26: ['Recording stopped before completing the experiment epoch']\n"
       ]
      },
      {
       "output_type": "stream",
       "stream": "stderr",
       "text": [
        "WARNING:root:sweep 27: ['Recording stopped before completing the experiment epoch']\n"
       ]
      },
      {
       "output_type": "stream",
       "stream": "stdout",
       "text": [
        "724811831.0 extracted\n",
        "loading dataset into data structure...\n"
       ]
      },
      {
       "output_type": "stream",
       "stream": "stderr",
       "text": [
        "WARNING:root:sweep 22: ['Recording stopped before completing the experiment epoch']\n"
       ]
      },
      {
       "output_type": "stream",
       "stream": "stderr",
       "text": [
        "WARNING:root:sweep 23: ['Recording stopped before completing the experiment epoch']\n"
       ]
      },
      {
       "output_type": "stream",
       "stream": "stderr",
       "text": [
        "WARNING:root:sweep 24: ['Recording stopped before completing the experiment epoch']\n"
       ]
      },
      {
       "output_type": "stream",
       "stream": "stderr",
       "text": [
        "WARNING:root:sweep 25: ['Recording stopped before completing the experiment epoch']\n"
       ]
      },
      {
       "output_type": "stream",
       "stream": "stderr",
       "text": [
        "WARNING:root:sweep 26: ['Recording stopped before completing the experiment epoch']\n"
       ]
      },
      {
       "output_type": "stream",
       "stream": "stderr",
       "text": [
        "/nethome/kcni/ychen/.local/lib/python3.6/site-packages/ipfx/spike_features.py:87: RuntimeWarning: invalid value encountered in less\n",
        "  width_levels[width_levels < v[spike_indexes]] = thresh_to_peak_levels[width_levels < v[spike_indexes]]\n"
       ]
      },
      {
       "output_type": "stream",
       "stream": "stdout",
       "text": [
        "724812900.0 extracted\n",
        "loading dataset into data structure...\n"
       ]
      },
      {
       "output_type": "stream",
       "stream": "stderr",
       "text": [
        "WARNING:root:sweep 23: ['Recording stopped before completing the experiment epoch']\n"
       ]
      },
      {
       "output_type": "stream",
       "stream": "stderr",
       "text": [
        "WARNING:root:sweep 24: ['Recording stopped before completing the experiment epoch']\n"
       ]
      },
      {
       "output_type": "stream",
       "stream": "stderr",
       "text": [
        "WARNING:root:sweep 25: ['Recording stopped before completing the experiment epoch']\n"
       ]
      },
      {
       "output_type": "stream",
       "stream": "stderr",
       "text": [
        "WARNING:root:sweep 26: ['Recording stopped before completing the experiment epoch']\n"
       ]
      },
      {
       "output_type": "stream",
       "stream": "stderr",
       "text": [
        "WARNING:root:sweep 27: ['Recording stopped before completing the experiment epoch']\n"
       ]
      },
      {
       "output_type": "stream",
       "stream": "stderr",
       "text": [
        "/nethome/kcni/ychen/.local/lib/python3.6/site-packages/ipfx/spike_features.py:87: RuntimeWarning: invalid value encountered in less\n",
        "  width_levels[width_levels < v[spike_indexes]] = thresh_to_peak_levels[width_levels < v[spike_indexes]]\n"
       ]
      },
      {
       "output_type": "stream",
       "stream": "stdout",
       "text": [
        "724814013.0 extracted\n",
        "loading dataset into data structure...\n"
       ]
      },
      {
       "output_type": "stream",
       "stream": "stderr",
       "text": [
        "WARNING:root:sweep 29: ['Recording stopped before completing the experiment epoch']\n"
       ]
      },
      {
       "output_type": "stream",
       "stream": "stderr",
       "text": [
        "WARNING:root:sweep 30: ['Recording stopped before completing the experiment epoch']\n"
       ]
      },
      {
       "output_type": "stream",
       "stream": "stderr",
       "text": [
        "WARNING:root:sweep 31: ['Recording stopped before completing the experiment epoch']\n"
       ]
      },
      {
       "output_type": "stream",
       "stream": "stderr",
       "text": [
        "WARNING:root:sweep 32: ['Recording stopped before completing the experiment epoch']\n"
       ]
      },
      {
       "output_type": "stream",
       "stream": "stderr",
       "text": [
        "WARNING:root:sweep 33: ['Recording stopped before completing the experiment epoch']\n"
       ]
      },
      {
       "output_type": "stream",
       "stream": "stdout",
       "text": [
        "726081520.0 extracted\n",
        "loading dataset into data structure...\n"
       ]
      },
      {
       "output_type": "stream",
       "stream": "stdout",
       "text": [
        "726138342.0 extracted\n",
        "loading dataset into data structure...\n"
       ]
      },
      {
       "output_type": "stream",
       "stream": "stderr",
       "text": [
        "WARNING:root:sweep 38: ['Recording stopped before completing the experiment epoch']\n"
       ]
      },
      {
       "output_type": "stream",
       "stream": "stderr",
       "text": [
        "WARNING:root:sweep 39: ['Recording stopped before completing the experiment epoch']\n"
       ]
      },
      {
       "output_type": "stream",
       "stream": "stderr",
       "text": [
        "WARNING:root:sweep 40: ['Recording stopped before completing the experiment epoch']\n"
       ]
      },
      {
       "output_type": "stream",
       "stream": "stderr",
       "text": [
        "WARNING:root:sweep 41: ['Recording stopped before completing the experiment epoch']\n"
       ]
      },
      {
       "output_type": "stream",
       "stream": "stderr",
       "text": [
        "WARNING:root:sweep 42: ['Recording stopped before completing the experiment epoch']\n"
       ]
      },
      {
       "output_type": "stream",
       "stream": "stderr",
       "text": [
        "/nethome/kcni/ychen/.local/lib/python3.6/site-packages/ipfx/spike_features.py:87: RuntimeWarning: invalid value encountered in less\n",
        "  width_levels[width_levels < v[spike_indexes]] = thresh_to_peak_levels[width_levels < v[spike_indexes]]\n"
       ]
      },
      {
       "output_type": "stream",
       "stream": "stdout",
       "text": [
        "726156251.0 extracted\n",
        "loading dataset into data structure...\n"
       ]
      },
      {
       "output_type": "stream",
       "stream": "stderr",
       "text": [
        "WARNING:root:sweep 33: ['Recording stopped before completing the experiment epoch']\n"
       ]
      },
      {
       "output_type": "stream",
       "stream": "stderr",
       "text": [
        "WARNING:root:sweep 34: ['Recording stopped before completing the experiment epoch']\n"
       ]
      },
      {
       "output_type": "stream",
       "stream": "stderr",
       "text": [
        "WARNING:root:sweep 35: ['Recording stopped before completing the experiment epoch']\n"
       ]
      },
      {
       "output_type": "stream",
       "stream": "stderr",
       "text": [
        "WARNING:root:sweep 36: ['Recording stopped before completing the experiment epoch']\n"
       ]
      },
      {
       "output_type": "stream",
       "stream": "stderr",
       "text": [
        "WARNING:root:sweep 37: ['Recording stopped before completing the experiment epoch']\n"
       ]
      },
      {
       "output_type": "stream",
       "stream": "stderr",
       "text": [
        "WARNING:root:sweep 41: ['experiment epoch is missing', 'stim epoch is missing']\n"
       ]
      },
      {
       "output_type": "stream",
       "stream": "stdout",
       "text": [
        "726192665.0 extracted\n",
        "loading dataset into data structure...\n"
       ]
      },
      {
       "output_type": "stream",
       "stream": "stderr",
       "text": [
        "WARNING:root:sweep 23: ['Recording stopped before completing the experiment epoch']\n"
       ]
      },
      {
       "output_type": "stream",
       "stream": "stderr",
       "text": [
        "WARNING:root:sweep 24: ['Recording stopped before completing the experiment epoch']\n"
       ]
      },
      {
       "output_type": "stream",
       "stream": "stderr",
       "text": [
        "WARNING:root:sweep 25: ['Recording stopped before completing the experiment epoch']\n"
       ]
      },
      {
       "output_type": "stream",
       "stream": "stderr",
       "text": [
        "WARNING:root:sweep 26: ['Recording stopped before completing the experiment epoch']\n"
       ]
      },
      {
       "output_type": "stream",
       "stream": "stderr",
       "text": [
        "WARNING:root:sweep 27: ['Recording stopped before completing the experiment epoch']\n"
       ]
      },
      {
       "output_type": "stream",
       "stream": "stdout",
       "text": [
        "726231894.0 extracted\n",
        "loading dataset into data structure...\n"
       ]
      },
      {
       "output_type": "stream",
       "stream": "stderr",
       "text": [
        "WARNING:root:sweep 24: ['Recording stopped before completing the experiment epoch']\n"
       ]
      },
      {
       "output_type": "stream",
       "stream": "stderr",
       "text": [
        "WARNING:root:sweep 25: ['Recording stopped before completing the experiment epoch']\n"
       ]
      },
      {
       "output_type": "stream",
       "stream": "stderr",
       "text": [
        "WARNING:root:sweep 26: ['Recording stopped before completing the experiment epoch']\n"
       ]
      },
      {
       "output_type": "stream",
       "stream": "stderr",
       "text": [
        "WARNING:root:sweep 27: ['Recording stopped before completing the experiment epoch']\n"
       ]
      },
      {
       "output_type": "stream",
       "stream": "stderr",
       "text": [
        "WARNING:root:sweep 28: ['Recording stopped before completing the experiment epoch']\n"
       ]
      },
      {
       "output_type": "stream",
       "stream": "stderr",
       "text": [
        "/nethome/kcni/ychen/.local/lib/python3.6/site-packages/ipfx/spike_features.py:87: RuntimeWarning: invalid value encountered in less\n",
        "  width_levels[width_levels < v[spike_indexes]] = thresh_to_peak_levels[width_levels < v[spike_indexes]]\n"
       ]
      },
      {
       "output_type": "stream",
       "stream": "stdout",
       "text": [
        "726264600.0 extracted\n",
        "loading dataset into data structure...\n"
       ]
      },
      {
       "output_type": "stream",
       "stream": "stderr",
       "text": [
        "WARNING:root:sweep 21: ['Recording stopped before completing the experiment epoch']\n"
       ]
      },
      {
       "output_type": "stream",
       "stream": "stderr",
       "text": [
        "WARNING:root:sweep 22: ['Recording stopped before completing the experiment epoch']\n"
       ]
      },
      {
       "output_type": "stream",
       "stream": "stderr",
       "text": [
        "WARNING:root:sweep 23: ['Recording stopped before completing the experiment epoch']\n"
       ]
      },
      {
       "output_type": "stream",
       "stream": "stderr",
       "text": [
        "WARNING:root:sweep 24: ['Recording stopped before completing the experiment epoch']\n"
       ]
      },
      {
       "output_type": "stream",
       "stream": "stderr",
       "text": [
        "WARNING:root:sweep 25: ['Recording stopped before completing the experiment epoch']\n"
       ]
      },
      {
       "output_type": "stream",
       "stream": "stdout",
       "text": [
        "726300728.0 extracted\n",
        "loading dataset into data structure...\n"
       ]
      },
      {
       "output_type": "stream",
       "stream": "stderr",
       "text": [
        "WARNING:root:sweep 24: ['Recording stopped before completing the experiment epoch']\n"
       ]
      },
      {
       "output_type": "stream",
       "stream": "stderr",
       "text": [
        "WARNING:root:sweep 25: ['Recording stopped before completing the experiment epoch']\n"
       ]
      },
      {
       "output_type": "stream",
       "stream": "stderr",
       "text": [
        "WARNING:root:sweep 26: ['Recording stopped before completing the experiment epoch']\n"
       ]
      },
      {
       "output_type": "stream",
       "stream": "stderr",
       "text": [
        "WARNING:root:sweep 27: ['Recording stopped before completing the experiment epoch']\n"
       ]
      },
      {
       "output_type": "stream",
       "stream": "stderr",
       "text": [
        "WARNING:root:sweep 28: ['Recording stopped before completing the experiment epoch']\n"
       ]
      },
      {
       "output_type": "stream",
       "stream": "stdout",
       "text": [
        "726339406.0 extracted\n",
        "loading dataset into data structure...\n"
       ]
      },
      {
       "output_type": "stream",
       "stream": "stderr",
       "text": [
        "WARNING:root:sweep 29: ['Recording stopped before completing the experiment epoch']\n"
       ]
      },
      {
       "output_type": "stream",
       "stream": "stderr",
       "text": [
        "WARNING:root:sweep 30: ['Recording stopped before completing the experiment epoch']\n"
       ]
      },
      {
       "output_type": "stream",
       "stream": "stderr",
       "text": [
        "WARNING:root:sweep 31: ['Recording stopped before completing the experiment epoch']\n"
       ]
      },
      {
       "output_type": "stream",
       "stream": "stderr",
       "text": [
        "WARNING:root:sweep 32: ['Recording stopped before completing the experiment epoch']\n"
       ]
      },
      {
       "output_type": "stream",
       "stream": "stderr",
       "text": [
        "WARNING:root:sweep 33: ['Recording stopped before completing the experiment epoch']\n"
       ]
      },
      {
       "output_type": "stream",
       "stream": "stdout",
       "text": [
        "726357324.0 extracted\n",
        "loading dataset into data structure...\n"
       ]
      },
      {
       "output_type": "stream",
       "stream": "stderr",
       "text": [
        "WARNING:root:sweep 23: ['Recording stopped before completing the experiment epoch']\n"
       ]
      },
      {
       "output_type": "stream",
       "stream": "stderr",
       "text": [
        "WARNING:root:sweep 24: ['Recording stopped before completing the experiment epoch']\n"
       ]
      },
      {
       "output_type": "stream",
       "stream": "stderr",
       "text": [
        "WARNING:root:sweep 25: ['Recording stopped before completing the experiment epoch']\n"
       ]
      },
      {
       "output_type": "stream",
       "stream": "stderr",
       "text": [
        "WARNING:root:sweep 26: ['Recording stopped before completing the experiment epoch']\n"
       ]
      },
      {
       "output_type": "stream",
       "stream": "stderr",
       "text": [
        "WARNING:root:sweep 27: ['Recording stopped before completing the experiment epoch']\n"
       ]
      },
      {
       "output_type": "stream",
       "stream": "stdout",
       "text": [
        "726357452.0 extracted\n",
        "loading dataset into data structure...\n"
       ]
      },
      {
       "output_type": "stream",
       "stream": "stderr",
       "text": [
        "WARNING:root:sweep 23: ['Recording stopped before completing the experiment epoch']\n"
       ]
      },
      {
       "output_type": "stream",
       "stream": "stderr",
       "text": [
        "WARNING:root:sweep 24: ['Recording stopped before completing the experiment epoch']\n"
       ]
      },
      {
       "output_type": "stream",
       "stream": "stderr",
       "text": [
        "WARNING:root:sweep 25: ['Recording stopped before completing the experiment epoch']\n"
       ]
      },
      {
       "output_type": "stream",
       "stream": "stderr",
       "text": [
        "WARNING:root:sweep 26: ['Recording stopped before completing the experiment epoch']\n"
       ]
      },
      {
       "output_type": "stream",
       "stream": "stderr",
       "text": [
        "WARNING:root:sweep 27: ['Recording stopped before completing the experiment epoch']\n"
       ]
      },
      {
       "output_type": "stream",
       "stream": "stdout",
       "text": [
        "726375516.0 extracted\n",
        "loading dataset into data structure...\n"
       ]
      },
      {
       "output_type": "stream",
       "stream": "stdout",
       "text": [
        "726950294.0 extracted\n",
        "loading dataset into data structure...\n"
       ]
      },
      {
       "output_type": "stream",
       "stream": "stderr",
       "text": [
        "/nethome/kcni/ychen/.local/lib/python3.6/site-packages/ipfx/spike_features.py:87: RuntimeWarning: invalid value encountered in less\n",
        "  width_levels[width_levels < v[spike_indexes]] = thresh_to_peak_levels[width_levels < v[spike_indexes]]\n"
       ]
      },
      {
       "output_type": "stream",
       "stream": "stdout",
       "text": [
        "726974014.0 extracted\n",
        "loading dataset into data structure...\n"
       ]
      },
      {
       "output_type": "stream",
       "stream": "stderr",
       "text": [
        "WARNING:root:sweep 25: ['Recording stopped before completing the experiment epoch']\n"
       ]
      },
      {
       "output_type": "stream",
       "stream": "stderr",
       "text": [
        "WARNING:root:sweep 26: ['Recording stopped before completing the experiment epoch']\n"
       ]
      },
      {
       "output_type": "stream",
       "stream": "stderr",
       "text": [
        "WARNING:root:sweep 27: ['Recording stopped before completing the experiment epoch']\n"
       ]
      },
      {
       "output_type": "stream",
       "stream": "stderr",
       "text": [
        "WARNING:root:sweep 28: ['Recording stopped before completing the experiment epoch']\n"
       ]
      },
      {
       "output_type": "stream",
       "stream": "stderr",
       "text": [
        "WARNING:root:sweep 29: ['Recording stopped before completing the experiment epoch']\n"
       ]
      },
      {
       "output_type": "stream",
       "stream": "stdout",
       "text": [
        "726981718.0 extracted\n",
        "loading dataset into data structure...\n"
       ]
      },
      {
       "output_type": "stream",
       "stream": "stderr",
       "text": [
        "WARNING:root:sweep 14: ['Recording stopped before completing the experiment epoch']\n"
       ]
      },
      {
       "output_type": "stream",
       "stream": "stderr",
       "text": [
        "WARNING:root:sweep 33: ['Recording stopped before completing the experiment epoch']\n"
       ]
      },
      {
       "output_type": "stream",
       "stream": "stdout",
       "text": [
        "726982093.0 extracted\n",
        "loading dataset into data structure...\n"
       ]
      },
      {
       "output_type": "stream",
       "stream": "stdout",
       "text": [
        "726996635.0 extracted\n",
        "loading dataset into data structure...\n"
       ]
      },
      {
       "output_type": "stream",
       "stream": "stderr",
       "text": [
        "WARNING:root:sweep 28: ['Recording stopped before completing the experiment epoch']\n"
       ]
      },
      {
       "output_type": "stream",
       "stream": "stderr",
       "text": [
        "WARNING:root:sweep 29: ['Recording stopped before completing the experiment epoch']\n"
       ]
      },
      {
       "output_type": "stream",
       "stream": "stderr",
       "text": [
        "WARNING:root:sweep 30: ['Recording stopped before completing the experiment epoch']\n"
       ]
      },
      {
       "output_type": "stream",
       "stream": "stderr",
       "text": [
        "WARNING:root:sweep 31: ['Recording stopped before completing the experiment epoch']\n"
       ]
      },
      {
       "output_type": "stream",
       "stream": "stderr",
       "text": [
        "WARNING:root:sweep 32: ['Recording stopped before completing the experiment epoch']\n"
       ]
      },
      {
       "output_type": "stream",
       "stream": "stderr",
       "text": [
        "WARNING:root:sweep 37: ['Recording stopped before completing the experiment epoch']\n"
       ]
      },
      {
       "output_type": "stream",
       "stream": "stderr",
       "text": [
        "WARNING:root:sweep 39: ['Recording stopped before completing the experiment epoch']\n"
       ]
      },
      {
       "output_type": "stream",
       "stream": "stderr",
       "text": [
        "/nethome/kcni/ychen/.local/lib/python3.6/site-packages/ipfx/spike_features.py:87: RuntimeWarning: invalid value encountered in less\n",
        "  width_levels[width_levels < v[spike_indexes]] = thresh_to_peak_levels[width_levels < v[spike_indexes]]\n"
       ]
      },
      {
       "output_type": "stream",
       "stream": "stdout",
       "text": [
        "726997146.0 extracted\n",
        "loading dataset into data structure...\n"
       ]
      },
      {
       "output_type": "stream",
       "stream": "stderr",
       "text": [
        "WARNING:root:sweep 21: ['Recording stopped before completing the experiment epoch']\n"
       ]
      },
      {
       "output_type": "stream",
       "stream": "stderr",
       "text": [
        "WARNING:root:sweep 22: ['Recording stopped before completing the experiment epoch']\n"
       ]
      },
      {
       "output_type": "stream",
       "stream": "stderr",
       "text": [
        "WARNING:root:sweep 23: ['Recording stopped before completing the experiment epoch']\n"
       ]
      },
      {
       "output_type": "stream",
       "stream": "stderr",
       "text": [
        "WARNING:root:sweep 24: ['Recording stopped before completing the experiment epoch']\n"
       ]
      },
      {
       "output_type": "stream",
       "stream": "stderr",
       "text": [
        "WARNING:root:sweep 25: ['Recording stopped before completing the experiment epoch']\n"
       ]
      },
      {
       "output_type": "stream",
       "stream": "stdout",
       "text": [
        "727068669.0 extracted\n",
        "loading dataset into data structure...\n"
       ]
      },
      {
       "output_type": "stream",
       "stream": "stdout",
       "text": [
        "727114502.0 extracted\n",
        "loading dataset into data structure...\n"
       ]
      },
      {
       "output_type": "stream",
       "stream": "stderr",
       "text": [
        "WARNING:root:sweep 36: ['Recording stopped before completing the experiment epoch']\n"
       ]
      },
      {
       "output_type": "stream",
       "stream": "stderr",
       "text": [
        "WARNING:root:sweep 37: ['Recording stopped before completing the experiment epoch']\n"
       ]
      },
      {
       "output_type": "stream",
       "stream": "stderr",
       "text": [
        "WARNING:root:sweep 38: ['Recording stopped before completing the experiment epoch']\n"
       ]
      },
      {
       "output_type": "stream",
       "stream": "stderr",
       "text": [
        "WARNING:root:sweep 39: ['Recording stopped before completing the experiment epoch']\n"
       ]
      },
      {
       "output_type": "stream",
       "stream": "stderr",
       "text": [
        "WARNING:root:sweep 40: ['Recording stopped before completing the experiment epoch']\n"
       ]
      },
      {
       "output_type": "stream",
       "stream": "stdout",
       "text": [
        "727146579.0 extracted\n",
        "loading dataset into data structure...\n"
       ]
      },
      {
       "output_type": "stream",
       "stream": "stderr",
       "text": [
        "WARNING:root:sweep 5: ['Recording stopped before completing the experiment epoch']\n"
       ]
      },
      {
       "output_type": "stream",
       "stream": "stdout",
       "text": [
        "727155057.0 extracted\n",
        "loading dataset into data structure...\n"
       ]
      },
      {
       "output_type": "stream",
       "stream": "stderr",
       "text": [
        "WARNING:root:sweep 24: ['Recording stopped before completing the experiment epoch']\n"
       ]
      },
      {
       "output_type": "stream",
       "stream": "stderr",
       "text": [
        "WARNING:root:sweep 25: ['Recording stopped before completing the experiment epoch']\n"
       ]
      },
      {
       "output_type": "stream",
       "stream": "stderr",
       "text": [
        "WARNING:root:sweep 26: ['Recording stopped before completing the experiment epoch']\n"
       ]
      },
      {
       "output_type": "stream",
       "stream": "stderr",
       "text": [
        "WARNING:root:sweep 27: ['Recording stopped before completing the experiment epoch']\n"
       ]
      },
      {
       "output_type": "stream",
       "stream": "stderr",
       "text": [
        "WARNING:root:sweep 28: ['Recording stopped before completing the experiment epoch']\n"
       ]
      },
      {
       "output_type": "stream",
       "stream": "stdout",
       "text": [
        "727163311.0 extracted\n",
        "loading dataset into data structure...\n"
       ]
      },
      {
       "output_type": "stream",
       "stream": "stderr",
       "text": [
        "WARNING:root:sweep 8: ['Recording stopped before completing the experiment epoch']\n"
       ]
      },
      {
       "output_type": "stream",
       "stream": "stderr",
       "text": [
        "WARNING:root:sweep 10: ['Recording stopped before completing the experiment epoch']\n"
       ]
      },
      {
       "output_type": "stream",
       "stream": "stderr",
       "text": [
        "WARNING:root:sweep 17: ['Recording stopped before completing the experiment epoch']\n"
       ]
      },
      {
       "output_type": "stream",
       "stream": "stderr",
       "text": [
        "WARNING:root:sweep 19: ['Recording stopped before completing the experiment epoch']\n"
       ]
      },
      {
       "output_type": "stream",
       "stream": "stdout",
       "text": [
        "727166151.0 extracted\n",
        "loading dataset into data structure...\n"
       ]
      },
      {
       "output_type": "stream",
       "stream": "stderr",
       "text": [
        "WARNING:root:sweep 21: ['Recording stopped before completing the experiment epoch']\n"
       ]
      },
      {
       "output_type": "stream",
       "stream": "stderr",
       "text": [
        "WARNING:root:sweep 22: ['Recording stopped before completing the experiment epoch']\n"
       ]
      },
      {
       "output_type": "stream",
       "stream": "stderr",
       "text": [
        "WARNING:root:sweep 23: ['Recording stopped before completing the experiment epoch']\n"
       ]
      },
      {
       "output_type": "stream",
       "stream": "stderr",
       "text": [
        "WARNING:root:sweep 24: ['Recording stopped before completing the experiment epoch']\n"
       ]
      },
      {
       "output_type": "stream",
       "stream": "stderr",
       "text": [
        "WARNING:root:sweep 25: ['Recording stopped before completing the experiment epoch']\n"
       ]
      },
      {
       "output_type": "stream",
       "stream": "stdout",
       "text": [
        "727172315.0 extracted\n",
        "loading dataset into data structure...\n"
       ]
      },
      {
       "output_type": "stream",
       "stream": "stderr",
       "text": [
        "WARNING:root:sweep 28: ['Recording stopped before completing the experiment epoch']\n"
       ]
      },
      {
       "output_type": "stream",
       "stream": "stderr",
       "text": [
        "WARNING:root:sweep 29: ['Recording stopped before completing the experiment epoch']\n"
       ]
      },
      {
       "output_type": "stream",
       "stream": "stderr",
       "text": [
        "WARNING:root:sweep 30: ['Recording stopped before completing the experiment epoch']\n"
       ]
      },
      {
       "output_type": "stream",
       "stream": "stderr",
       "text": [
        "WARNING:root:sweep 31: ['Recording stopped before completing the experiment epoch']\n"
       ]
      },
      {
       "output_type": "stream",
       "stream": "stderr",
       "text": [
        "WARNING:root:sweep 32: ['Recording stopped before completing the experiment epoch']\n"
       ]
      },
      {
       "output_type": "stream",
       "stream": "stdout",
       "text": [
        "727204412.0 extracted\n",
        "loading dataset into data structure...\n"
       ]
      },
      {
       "output_type": "stream",
       "stream": "stderr",
       "text": [
        "WARNING:root:sweep 18: ['Recording stopped before completing the experiment epoch']\n"
       ]
      },
      {
       "output_type": "stream",
       "stream": "stderr",
       "text": [
        "WARNING:root:sweep 19: ['Recording stopped before completing the experiment epoch']\n"
       ]
      },
      {
       "output_type": "stream",
       "stream": "stderr",
       "text": [
        "WARNING:root:sweep 20: ['Recording stopped before completing the experiment epoch']\n"
       ]
      },
      {
       "output_type": "stream",
       "stream": "stderr",
       "text": [
        "WARNING:root:sweep 21: ['Recording stopped before completing the experiment epoch']\n"
       ]
      },
      {
       "output_type": "stream",
       "stream": "stderr",
       "text": [
        "WARNING:root:sweep 22: ['Recording stopped before completing the experiment epoch']\n"
       ]
      },
      {
       "output_type": "stream",
       "stream": "stdout",
       "text": [
        "727204460.0 extracted\n",
        "loading dataset into data structure...\n"
       ]
      },
      {
       "output_type": "stream",
       "stream": "stderr",
       "text": [
        "WARNING:root:sweep 27: ['Recording stopped before completing the experiment epoch']\n"
       ]
      },
      {
       "output_type": "stream",
       "stream": "stderr",
       "text": [
        "WARNING:root:sweep 28: ['Recording stopped before completing the experiment epoch']\n"
       ]
      },
      {
       "output_type": "stream",
       "stream": "stderr",
       "text": [
        "WARNING:root:sweep 29: ['Recording stopped before completing the experiment epoch']\n"
       ]
      },
      {
       "output_type": "stream",
       "stream": "stderr",
       "text": [
        "WARNING:root:sweep 30: ['Recording stopped before completing the experiment epoch']\n"
       ]
      },
      {
       "output_type": "stream",
       "stream": "stderr",
       "text": [
        "WARNING:root:sweep 31: ['Recording stopped before completing the experiment epoch']\n"
       ]
      },
      {
       "output_type": "stream",
       "stream": "stdout",
       "text": [
        "727238274.0 extracted\n",
        "loading dataset into data structure...\n"
       ]
      },
      {
       "output_type": "stream",
       "stream": "stderr",
       "text": [
        "WARNING:root:sweep 44: ['Recording stopped before completing the experiment epoch']\n"
       ]
      },
      {
       "output_type": "stream",
       "stream": "stderr",
       "text": [
        "WARNING:root:sweep 45: ['Recording stopped before completing the experiment epoch']\n"
       ]
      },
      {
       "output_type": "stream",
       "stream": "stderr",
       "text": [
        "WARNING:root:sweep 46: ['Recording stopped before completing the experiment epoch']\n"
       ]
      },
      {
       "output_type": "stream",
       "stream": "stderr",
       "text": [
        "WARNING:root:sweep 47: ['Recording stopped before completing the experiment epoch']\n"
       ]
      },
      {
       "output_type": "stream",
       "stream": "stderr",
       "text": [
        "WARNING:root:sweep 48: ['Recording stopped before completing the experiment epoch']\n"
       ]
      },
      {
       "output_type": "stream",
       "stream": "stderr",
       "text": [
        "WARNING:root:sweep 49: ['Recording stopped before completing the experiment epoch']\n"
       ]
      },
      {
       "output_type": "stream",
       "stream": "stderr",
       "text": [
        "/nethome/kcni/ychen/.local/lib/python3.6/site-packages/ipfx/spike_features.py:87: RuntimeWarning: invalid value encountered in less\n",
        "  width_levels[width_levels < v[spike_indexes]] = thresh_to_peak_levels[width_levels < v[spike_indexes]]\n"
       ]
      },
      {
       "output_type": "stream",
       "stream": "stdout",
       "text": [
        "727279381.0 extracted\n",
        "loading dataset into data structure...\n"
       ]
      },
      {
       "output_type": "stream",
       "stream": "stderr",
       "text": [
        "WARNING:root:sweep 34: ['Recording stopped before completing the experiment epoch']\n"
       ]
      },
      {
       "output_type": "stream",
       "stream": "stderr",
       "text": [
        "WARNING:root:sweep 35: ['Recording stopped before completing the experiment epoch']\n"
       ]
      },
      {
       "output_type": "stream",
       "stream": "stderr",
       "text": [
        "WARNING:root:sweep 36: ['Recording stopped before completing the experiment epoch']\n"
       ]
      },
      {
       "output_type": "stream",
       "stream": "stderr",
       "text": [
        "WARNING:root:sweep 37: ['Recording stopped before completing the experiment epoch']\n"
       ]
      },
      {
       "output_type": "stream",
       "stream": "stderr",
       "text": [
        "WARNING:root:sweep 38: ['Recording stopped before completing the experiment epoch']\n"
       ]
      },
      {
       "output_type": "stream",
       "stream": "stdout",
       "text": [
        "727292932.0 extracted\n",
        "loading dataset into data structure...\n"
       ]
      },
      {
       "output_type": "stream",
       "stream": "stderr",
       "text": [
        "WARNING:root:sweep 25: ['Recording stopped before completing the experiment epoch']\n"
       ]
      },
      {
       "output_type": "stream",
       "stream": "stderr",
       "text": [
        "WARNING:root:sweep 26: ['Recording stopped before completing the experiment epoch']\n"
       ]
      },
      {
       "output_type": "stream",
       "stream": "stderr",
       "text": [
        "WARNING:root:sweep 27: ['Recording stopped before completing the experiment epoch']\n"
       ]
      },
      {
       "output_type": "stream",
       "stream": "stderr",
       "text": [
        "WARNING:root:sweep 28: ['Recording stopped before completing the experiment epoch']\n"
       ]
      },
      {
       "output_type": "stream",
       "stream": "stderr",
       "text": [
        "WARNING:root:sweep 29: ['Recording stopped before completing the experiment epoch']\n"
       ]
      },
      {
       "output_type": "stream",
       "stream": "stderr",
       "text": [
        "WARNING:root:sweep 30: ['Recording stopped before completing the experiment epoch']\n"
       ]
      },
      {
       "output_type": "stream",
       "stream": "stdout",
       "text": [
        "727327912.0 extracted\n",
        "loading dataset into data structure...\n"
       ]
      },
      {
       "output_type": "stream",
       "stream": "stdout",
       "text": [
        "727336328.0 extracted\n",
        "loading dataset into data structure...\n"
       ]
      },
      {
       "output_type": "stream",
       "stream": "stderr",
       "text": [
        "WARNING:root:sweep 28: ['Recording stopped before completing the experiment epoch']\n"
       ]
      },
      {
       "output_type": "stream",
       "stream": "stderr",
       "text": [
        "WARNING:root:sweep 29: ['Recording stopped before completing the experiment epoch']\n"
       ]
      },
      {
       "output_type": "stream",
       "stream": "stderr",
       "text": [
        "WARNING:root:sweep 30: ['Recording stopped before completing the experiment epoch']\n"
       ]
      },
      {
       "output_type": "stream",
       "stream": "stderr",
       "text": [
        "WARNING:root:sweep 31: ['Recording stopped before completing the experiment epoch']\n"
       ]
      },
      {
       "output_type": "stream",
       "stream": "stderr",
       "text": [
        "WARNING:root:sweep 32: ['Recording stopped before completing the experiment epoch']\n"
       ]
      },
      {
       "output_type": "stream",
       "stream": "stdout",
       "text": [
        "727351241.0 extracted\n",
        "loading dataset into data structure...\n"
       ]
      },
      {
       "output_type": "stream",
       "stream": "stderr",
       "text": [
        "WARNING:root:sweep 22: ['Recording stopped before completing the experiment epoch']\n"
       ]
      },
      {
       "output_type": "stream",
       "stream": "stderr",
       "text": [
        "WARNING:root:sweep 23: ['Recording stopped before completing the experiment epoch']\n"
       ]
      },
      {
       "output_type": "stream",
       "stream": "stderr",
       "text": [
        "WARNING:root:sweep 24: ['Recording stopped before completing the experiment epoch']\n"
       ]
      },
      {
       "output_type": "stream",
       "stream": "stderr",
       "text": [
        "WARNING:root:sweep 25: ['Recording stopped before completing the experiment epoch']\n"
       ]
      },
      {
       "output_type": "stream",
       "stream": "stderr",
       "text": [
        "WARNING:root:sweep 26: ['Recording stopped before completing the experiment epoch']\n"
       ]
      },
      {
       "output_type": "stream",
       "stream": "stdout",
       "text": [
        "727352912.0 extracted\n",
        "loading dataset into data structure...\n"
       ]
      },
      {
       "output_type": "stream",
       "stream": "stderr",
       "text": [
        "WARNING:root:sweep 26: ['experiment epoch is missing', 'stim epoch is missing']\n"
       ]
      },
      {
       "output_type": "stream",
       "stream": "stderr",
       "text": [
        "WARNING:root:sweep 29: ['Recording stopped before completing the experiment epoch']\n"
       ]
      },
      {
       "output_type": "stream",
       "stream": "stderr",
       "text": [
        "WARNING:root:sweep 30: ['Recording stopped before completing the experiment epoch']\n"
       ]
      },
      {
       "output_type": "stream",
       "stream": "stderr",
       "text": [
        "WARNING:root:sweep 31: ['Recording stopped before completing the experiment epoch']\n"
       ]
      },
      {
       "output_type": "stream",
       "stream": "stderr",
       "text": [
        "WARNING:root:sweep 32: ['Recording stopped before completing the experiment epoch']\n"
       ]
      },
      {
       "output_type": "stream",
       "stream": "stderr",
       "text": [
        "WARNING:root:sweep 33: ['Recording stopped before completing the experiment epoch']\n"
       ]
      },
      {
       "output_type": "stream",
       "stream": "stdout",
       "text": [
        "727363278.0 extracted\n",
        "loading dataset into data structure...\n"
       ]
      },
      {
       "output_type": "stream",
       "stream": "stderr",
       "text": [
        "WARNING:root:sweep 24: ['Recording stopped before completing the experiment epoch']\n"
       ]
      },
      {
       "output_type": "stream",
       "stream": "stderr",
       "text": [
        "WARNING:root:sweep 25: ['Recording stopped before completing the experiment epoch']\n"
       ]
      },
      {
       "output_type": "stream",
       "stream": "stderr",
       "text": [
        "WARNING:root:sweep 26: ['Recording stopped before completing the experiment epoch']\n"
       ]
      },
      {
       "output_type": "stream",
       "stream": "stderr",
       "text": [
        "WARNING:root:sweep 27: ['Recording stopped before completing the experiment epoch']\n"
       ]
      },
      {
       "output_type": "stream",
       "stream": "stderr",
       "text": [
        "WARNING:root:sweep 28: ['Recording stopped before completing the experiment epoch']\n"
       ]
      },
      {
       "output_type": "stream",
       "stream": "stdout",
       "text": [
        "727370663.0 extracted\n",
        "loading dataset into data structure...\n"
       ]
      },
      {
       "output_type": "stream",
       "stream": "stderr",
       "text": [
        "WARNING:root:sweep 24: ['Recording stopped before completing the experiment epoch']\n"
       ]
      },
      {
       "output_type": "stream",
       "stream": "stderr",
       "text": [
        "WARNING:root:sweep 25: ['Recording stopped before completing the experiment epoch']\n"
       ]
      },
      {
       "output_type": "stream",
       "stream": "stderr",
       "text": [
        "WARNING:root:sweep 26: ['Recording stopped before completing the experiment epoch']\n"
       ]
      },
      {
       "output_type": "stream",
       "stream": "stderr",
       "text": [
        "WARNING:root:sweep 27: ['Recording stopped before completing the experiment epoch']\n"
       ]
      },
      {
       "output_type": "stream",
       "stream": "stderr",
       "text": [
        "WARNING:root:sweep 28: ['Recording stopped before completing the experiment epoch']\n"
       ]
      },
      {
       "output_type": "stream",
       "stream": "stdout",
       "text": [
        "727388125.0 extracted\n",
        "loading dataset into data structure...\n"
       ]
      },
      {
       "output_type": "stream",
       "stream": "stderr",
       "text": [
        "WARNING:root:sweep 28: ['Recording stopped before completing the experiment epoch']\n"
       ]
      },
      {
       "output_type": "stream",
       "stream": "stderr",
       "text": [
        "WARNING:root:sweep 29: ['Recording stopped before completing the experiment epoch']\n"
       ]
      },
      {
       "output_type": "stream",
       "stream": "stderr",
       "text": [
        "WARNING:root:sweep 30: ['Recording stopped before completing the experiment epoch']\n"
       ]
      },
      {
       "output_type": "stream",
       "stream": "stderr",
       "text": [
        "WARNING:root:sweep 31: ['Recording stopped before completing the experiment epoch']\n"
       ]
      },
      {
       "output_type": "stream",
       "stream": "stderr",
       "text": [
        "WARNING:root:sweep 32: ['Recording stopped before completing the experiment epoch']\n"
       ]
      },
      {
       "output_type": "stream",
       "stream": "stderr",
       "text": [
        "/nethome/kcni/ychen/.local/lib/python3.6/site-packages/ipfx/spike_features.py:87: RuntimeWarning: invalid value encountered in less\n",
        "  width_levels[width_levels < v[spike_indexes]] = thresh_to_peak_levels[width_levels < v[spike_indexes]]\n"
       ]
      },
      {
       "output_type": "stream",
       "stream": "stdout",
       "text": [
        "727727828.0 extracted\n",
        "loading dataset into data structure...\n"
       ]
      },
      {
       "output_type": "stream",
       "stream": "stderr",
       "text": [
        "WARNING:root:sweep 26: ['Recording stopped before completing the experiment epoch']\n"
       ]
      },
      {
       "output_type": "stream",
       "stream": "stderr",
       "text": [
        "WARNING:root:sweep 27: ['Recording stopped before completing the experiment epoch']\n"
       ]
      },
      {
       "output_type": "stream",
       "stream": "stderr",
       "text": [
        "WARNING:root:sweep 28: ['Recording stopped before completing the experiment epoch']\n"
       ]
      },
      {
       "output_type": "stream",
       "stream": "stderr",
       "text": [
        "WARNING:root:sweep 29: ['Recording stopped before completing the experiment epoch']\n"
       ]
      },
      {
       "output_type": "stream",
       "stream": "stderr",
       "text": [
        "WARNING:root:sweep 30: ['Recording stopped before completing the experiment epoch']\n"
       ]
      },
      {
       "output_type": "stream",
       "stream": "stderr",
       "text": [
        "/nethome/kcni/ychen/.local/lib/python3.6/site-packages/ipfx/spike_features.py:87: RuntimeWarning: invalid value encountered in less\n",
        "  width_levels[width_levels < v[spike_indexes]] = thresh_to_peak_levels[width_levels < v[spike_indexes]]\n"
       ]
      },
      {
       "output_type": "stream",
       "stream": "stdout",
       "text": [
        "727766640.0 extracted\n",
        "loading dataset into data structure...\n"
       ]
      },
      {
       "output_type": "stream",
       "stream": "stderr",
       "text": [
        "WARNING:root:sweep 24: ['Recording stopped before completing the experiment epoch']\n"
       ]
      },
      {
       "output_type": "stream",
       "stream": "stderr",
       "text": [
        "WARNING:root:sweep 25: ['Recording stopped before completing the experiment epoch']\n"
       ]
      },
      {
       "output_type": "stream",
       "stream": "stderr",
       "text": [
        "WARNING:root:sweep 26: ['Recording stopped before completing the experiment epoch']\n"
       ]
      },
      {
       "output_type": "stream",
       "stream": "stderr",
       "text": [
        "WARNING:root:sweep 27: ['Recording stopped before completing the experiment epoch']\n"
       ]
      },
      {
       "output_type": "stream",
       "stream": "stderr",
       "text": [
        "WARNING:root:sweep 28: ['Recording stopped before completing the experiment epoch']\n"
       ]
      },
      {
       "output_type": "stream",
       "stream": "stdout",
       "text": [
        "727791672.0 extracted\n",
        "loading dataset into data structure...\n"
       ]
      },
      {
       "output_type": "stream",
       "stream": "stderr",
       "text": [
        "WARNING:root:sweep 28: ['Recording stopped before completing the experiment epoch']\n"
       ]
      },
      {
       "output_type": "stream",
       "stream": "stderr",
       "text": [
        "WARNING:root:sweep 29: ['Recording stopped before completing the experiment epoch']\n"
       ]
      },
      {
       "output_type": "stream",
       "stream": "stderr",
       "text": [
        "WARNING:root:sweep 30: ['Recording stopped before completing the experiment epoch']\n"
       ]
      },
      {
       "output_type": "stream",
       "stream": "stderr",
       "text": [
        "WARNING:root:sweep 31: ['Recording stopped before completing the experiment epoch']\n"
       ]
      },
      {
       "output_type": "stream",
       "stream": "stderr",
       "text": [
        "WARNING:root:sweep 32: ['Recording stopped before completing the experiment epoch']\n"
       ]
      },
      {
       "output_type": "stream",
       "stream": "stdout",
       "text": [
        "727823900.0 extracted\n",
        "loading dataset into data structure...\n"
       ]
      },
      {
       "output_type": "stream",
       "stream": "stderr",
       "text": [
        "WARNING:root:sweep 24: ['Recording stopped before completing the experiment epoch']\n"
       ]
      },
      {
       "output_type": "stream",
       "stream": "stderr",
       "text": [
        "WARNING:root:sweep 25: ['Recording stopped before completing the experiment epoch']\n"
       ]
      },
      {
       "output_type": "stream",
       "stream": "stderr",
       "text": [
        "WARNING:root:sweep 26: ['Recording stopped before completing the experiment epoch']\n"
       ]
      },
      {
       "output_type": "stream",
       "stream": "stderr",
       "text": [
        "WARNING:root:sweep 27: ['Recording stopped before completing the experiment epoch']\n"
       ]
      },
      {
       "output_type": "stream",
       "stream": "stderr",
       "text": [
        "WARNING:root:sweep 28: ['Recording stopped before completing the experiment epoch']\n"
       ]
      },
      {
       "output_type": "stream",
       "stream": "stdout",
       "text": [
        "727824228.0 extracted\n",
        "loading dataset into data structure...\n"
       ]
      },
      {
       "output_type": "stream",
       "stream": "stderr",
       "text": [
        "WARNING:root:sweep 30: ['Recording stopped before completing the experiment epoch']\n"
       ]
      },
      {
       "output_type": "stream",
       "stream": "stderr",
       "text": [
        "WARNING:root:sweep 31: ['Recording stopped before completing the experiment epoch']\n"
       ]
      },
      {
       "output_type": "stream",
       "stream": "stderr",
       "text": [
        "WARNING:root:sweep 32: ['Recording stopped before completing the experiment epoch']\n"
       ]
      },
      {
       "output_type": "stream",
       "stream": "stderr",
       "text": [
        "WARNING:root:sweep 33: ['Recording stopped before completing the experiment epoch']\n"
       ]
      },
      {
       "output_type": "stream",
       "stream": "stderr",
       "text": [
        "WARNING:root:sweep 34: ['Recording stopped before completing the experiment epoch']\n"
       ]
      },
      {
       "output_type": "stream",
       "stream": "stdout",
       "text": [
        "727851191.0 extracted\n",
        "loading dataset into data structure...\n"
       ]
      },
      {
       "output_type": "stream",
       "stream": "stderr",
       "text": [
        "WARNING:root:sweep 23: ['Recording stopped before completing the experiment epoch']\n"
       ]
      },
      {
       "output_type": "stream",
       "stream": "stderr",
       "text": [
        "WARNING:root:sweep 24: ['Recording stopped before completing the experiment epoch']\n"
       ]
      },
      {
       "output_type": "stream",
       "stream": "stderr",
       "text": [
        "WARNING:root:sweep 25: ['Recording stopped before completing the experiment epoch']\n"
       ]
      },
      {
       "output_type": "stream",
       "stream": "stderr",
       "text": [
        "WARNING:root:sweep 26: ['Recording stopped before completing the experiment epoch']\n"
       ]
      },
      {
       "output_type": "stream",
       "stream": "stderr",
       "text": [
        "WARNING:root:sweep 27: ['Recording stopped before completing the experiment epoch']\n"
       ]
      },
      {
       "output_type": "stream",
       "stream": "stdout",
       "text": [
        "727897981.0 extracted\n",
        "loading dataset into data structure...\n"
       ]
      },
      {
       "output_type": "stream",
       "stream": "stdout",
       "text": [
        "728077517.0 extracted\n",
        "loading dataset into data structure...\n"
       ]
      },
      {
       "output_type": "stream",
       "stream": "stderr",
       "text": [
        "WARNING:root:sweep 16: ['experiment epoch is missing', 'stim epoch is missing']\n"
       ]
      },
      {
       "output_type": "stream",
       "stream": "stderr",
       "text": [
        "WARNING:root:sweep 23: ['Recording stopped before completing the experiment epoch']\n"
       ]
      },
      {
       "output_type": "stream",
       "stream": "stderr",
       "text": [
        "WARNING:root:sweep 24: ['Recording stopped before completing the experiment epoch']\n"
       ]
      },
      {
       "output_type": "stream",
       "stream": "stderr",
       "text": [
        "WARNING:root:sweep 25: ['Recording stopped before completing the experiment epoch']\n"
       ]
      },
      {
       "output_type": "stream",
       "stream": "stdout",
       "text": [
        "728150511.0 extracted\n",
        "loading dataset into data structure...\n"
       ]
      },
      {
       "output_type": "stream",
       "stream": "stderr",
       "text": [
        "WARNING:root:sweep 23: ['Recording stopped before completing the experiment epoch']\n"
       ]
      },
      {
       "output_type": "stream",
       "stream": "stderr",
       "text": [
        "WARNING:root:sweep 24: ['Recording stopped before completing the experiment epoch']\n"
       ]
      },
      {
       "output_type": "stream",
       "stream": "stderr",
       "text": [
        "WARNING:root:sweep 25: ['Recording stopped before completing the experiment epoch']\n"
       ]
      },
      {
       "output_type": "stream",
       "stream": "stderr",
       "text": [
        "WARNING:root:sweep 26: ['Recording stopped before completing the experiment epoch']\n"
       ]
      },
      {
       "output_type": "stream",
       "stream": "stderr",
       "text": [
        "WARNING:root:sweep 27: ['Recording stopped before completing the experiment epoch']\n"
       ]
      },
      {
       "output_type": "stream",
       "stream": "stdout",
       "text": [
        "728477746.0 extracted\n",
        "loading dataset into data structure...\n"
       ]
      },
      {
       "output_type": "stream",
       "stream": "stderr",
       "text": [
        "WARNING:root:sweep 25: ['Recording stopped before completing the experiment epoch']\n"
       ]
      },
      {
       "output_type": "stream",
       "stream": "stderr",
       "text": [
        "WARNING:root:sweep 26: ['Recording stopped before completing the experiment epoch']\n"
       ]
      },
      {
       "output_type": "stream",
       "stream": "stderr",
       "text": [
        "WARNING:root:sweep 27: ['Recording stopped before completing the experiment epoch']\n"
       ]
      },
      {
       "output_type": "stream",
       "stream": "stderr",
       "text": [
        "WARNING:root:sweep 28: ['Recording stopped before completing the experiment epoch']\n"
       ]
      },
      {
       "output_type": "stream",
       "stream": "stderr",
       "text": [
        "WARNING:root:sweep 29: ['Recording stopped before completing the experiment epoch']\n"
       ]
      },
      {
       "output_type": "stream",
       "stream": "stdout",
       "text": [
        "728533046.0 extracted\n",
        "loading dataset into data structure...\n"
       ]
      },
      {
       "output_type": "stream",
       "stream": "stderr",
       "text": [
        "WARNING:root:sweep 6: ['Recording stopped before completing the experiment epoch']\n"
       ]
      },
      {
       "output_type": "stream",
       "stream": "stderr",
       "text": [
        "WARNING:root:sweep 8: ['Recording stopped before completing the experiment epoch']\n"
       ]
      },
      {
       "output_type": "stream",
       "stream": "stderr",
       "text": [
        "WARNING:root:sweep 16: ['Recording stopped before completing the experiment epoch']\n"
       ]
      },
      {
       "output_type": "stream",
       "stream": "stderr",
       "text": [
        "WARNING:root:sweep 18: ['Recording stopped before completing the experiment epoch']\n"
       ]
      },
      {
       "output_type": "stream",
       "stream": "stderr",
       "text": [
        "WARNING:root:sweep 49: ['Recording stopped before completing the experiment epoch']\n"
       ]
      },
      {
       "output_type": "stream",
       "stream": "stderr",
       "text": [
        "WARNING:root:sweep 53: ['Recording stopped before completing the experiment epoch']\n"
       ]
      },
      {
       "output_type": "stream",
       "stream": "stderr",
       "text": [
        "WARNING:root:sweep 69: ['Recording stopped before completing the experiment epoch']\n"
       ]
      },
      {
       "output_type": "stream",
       "stream": "stderr",
       "text": [
        "WARNING:root:sweep 70: ['Recording stopped before completing the experiment epoch']\n"
       ]
      },
      {
       "output_type": "stream",
       "stream": "stderr",
       "text": [
        "WARNING:root:sweep 71: ['Recording stopped before completing the experiment epoch']\n"
       ]
      },
      {
       "output_type": "stream",
       "stream": "stderr",
       "text": [
        "WARNING:root:sweep 72: ['Recording stopped before completing the experiment epoch']\n"
       ]
      },
      {
       "output_type": "stream",
       "stream": "stderr",
       "text": [
        "WARNING:root:sweep 95: ['Recording stopped before completing the experiment epoch']\n"
       ]
      },
      {
       "output_type": "stream",
       "stream": "stderr",
       "text": [
        "WARNING:root:sweep 105: ['experiment epoch is missing', 'stim epoch is missing']\n"
       ]
      },
      {
       "output_type": "stream",
       "stream": "stdout",
       "text": [
        "728733066.0 extracted\n",
        "loading dataset into data structure...\n"
       ]
      },
      {
       "output_type": "stream",
       "stream": "stderr",
       "text": [
        "WARNING:root:sweep 26: ['Recording stopped before completing the experiment epoch']\n"
       ]
      },
      {
       "output_type": "stream",
       "stream": "stderr",
       "text": [
        "WARNING:root:sweep 27: ['Recording stopped before completing the experiment epoch']\n"
       ]
      },
      {
       "output_type": "stream",
       "stream": "stderr",
       "text": [
        "WARNING:root:sweep 28: ['Recording stopped before completing the experiment epoch']\n"
       ]
      },
      {
       "output_type": "stream",
       "stream": "stderr",
       "text": [
        "WARNING:root:sweep 29: ['Recording stopped before completing the experiment epoch']\n"
       ]
      },
      {
       "output_type": "stream",
       "stream": "stderr",
       "text": [
        "WARNING:root:sweep 30: ['Recording stopped before completing the experiment epoch']\n"
       ]
      },
      {
       "output_type": "stream",
       "stream": "stderr",
       "text": [
        "/nethome/kcni/ychen/.local/lib/python3.6/site-packages/ipfx/spike_features.py:87: RuntimeWarning: invalid value encountered in less\n",
        "  width_levels[width_levels < v[spike_indexes]] = thresh_to_peak_levels[width_levels < v[spike_indexes]]\n"
       ]
      },
      {
       "output_type": "stream",
       "stream": "stdout",
       "text": [
        "728756256.0 extracted\n",
        "loading dataset into data structure...\n"
       ]
      },
      {
       "output_type": "stream",
       "stream": "stdout",
       "text": [
        "728756295.0 extracted\n",
        "loading dataset into data structure...\n"
       ]
      },
      {
       "output_type": "stream",
       "stream": "stdout",
       "text": [
        "728772052.0 extracted\n",
        "loading dataset into data structure...\n"
       ]
      },
      {
       "output_type": "stream",
       "stream": "stderr",
       "text": [
        "WARNING:root:sweep 27: ['Recording stopped before completing the experiment epoch']\n"
       ]
      },
      {
       "output_type": "stream",
       "stream": "stderr",
       "text": [
        "WARNING:root:sweep 28: ['Recording stopped before completing the experiment epoch']\n"
       ]
      },
      {
       "output_type": "stream",
       "stream": "stderr",
       "text": [
        "WARNING:root:sweep 29: ['Recording stopped before completing the experiment epoch']\n"
       ]
      },
      {
       "output_type": "stream",
       "stream": "stderr",
       "text": [
        "WARNING:root:sweep 30: ['Recording stopped before completing the experiment epoch']\n"
       ]
      },
      {
       "output_type": "stream",
       "stream": "stderr",
       "text": [
        "WARNING:root:sweep 31: ['Recording stopped before completing the experiment epoch']\n"
       ]
      },
      {
       "output_type": "stream",
       "stream": "stdout",
       "text": [
        "728775704.0 extracted\n",
        "loading dataset into data structure...\n"
       ]
      },
      {
       "output_type": "stream",
       "stream": "stderr",
       "text": [
        "WARNING:root:sweep 26: ['Recording stopped before completing the experiment epoch']\n"
       ]
      },
      {
       "output_type": "stream",
       "stream": "stderr",
       "text": [
        "WARNING:root:sweep 27: ['Recording stopped before completing the experiment epoch']\n"
       ]
      },
      {
       "output_type": "stream",
       "stream": "stderr",
       "text": [
        "WARNING:root:sweep 28: ['Recording stopped before completing the experiment epoch']\n"
       ]
      },
      {
       "output_type": "stream",
       "stream": "stderr",
       "text": [
        "WARNING:root:sweep 29: ['Recording stopped before completing the experiment epoch']\n"
       ]
      },
      {
       "output_type": "stream",
       "stream": "stderr",
       "text": [
        "WARNING:root:sweep 30: ['Recording stopped before completing the experiment epoch']\n"
       ]
      },
      {
       "output_type": "stream",
       "stream": "stdout",
       "text": [
        "728786009.0 extracted\n",
        "loading dataset into data structure...\n"
       ]
      },
      {
       "output_type": "stream",
       "stream": "stdout",
       "text": [
        "728792260.0 extracted\n",
        "loading dataset into data structure...\n"
       ]
      },
      {
       "output_type": "stream",
       "stream": "stderr",
       "text": [
        "WARNING:root:sweep 23: ['Recording stopped before completing the experiment epoch']\n"
       ]
      },
      {
       "output_type": "stream",
       "stream": "stderr",
       "text": [
        "WARNING:root:sweep 24: ['Recording stopped before completing the experiment epoch']\n"
       ]
      },
      {
       "output_type": "stream",
       "stream": "stderr",
       "text": [
        "WARNING:root:sweep 25: ['Recording stopped before completing the experiment epoch']\n"
       ]
      },
      {
       "output_type": "stream",
       "stream": "stderr",
       "text": [
        "WARNING:root:sweep 26: ['Recording stopped before completing the experiment epoch']\n"
       ]
      },
      {
       "output_type": "stream",
       "stream": "stderr",
       "text": [
        "WARNING:root:sweep 27: ['Recording stopped before completing the experiment epoch']\n"
       ]
      },
      {
       "output_type": "stream",
       "stream": "stderr",
       "text": [
        "/nethome/kcni/ychen/.local/lib/python3.6/site-packages/ipfx/spike_features.py:87: RuntimeWarning: invalid value encountered in less\n",
        "  width_levels[width_levels < v[spike_indexes]] = thresh_to_peak_levels[width_levels < v[spike_indexes]]\n"
       ]
      },
      {
       "output_type": "stream",
       "stream": "stdout",
       "text": [
        "728800860.0 extracted\n",
        "loading dataset into data structure...\n"
       ]
      },
      {
       "output_type": "stream",
       "stream": "stderr",
       "text": [
        "WARNING:root:sweep 27: ['Recording stopped before completing the experiment epoch']\n"
       ]
      },
      {
       "output_type": "stream",
       "stream": "stderr",
       "text": [
        "WARNING:root:sweep 28: ['Recording stopped before completing the experiment epoch']\n"
       ]
      },
      {
       "output_type": "stream",
       "stream": "stderr",
       "text": [
        "WARNING:root:sweep 29: ['Recording stopped before completing the experiment epoch']\n"
       ]
      },
      {
       "output_type": "stream",
       "stream": "stderr",
       "text": [
        "WARNING:root:sweep 30: ['Recording stopped before completing the experiment epoch']\n"
       ]
      },
      {
       "output_type": "stream",
       "stream": "stderr",
       "text": [
        "WARNING:root:sweep 31: ['Recording stopped before completing the experiment epoch']\n"
       ]
      },
      {
       "output_type": "stream",
       "stream": "stdout",
       "text": [
        "728815682.0 extracted\n",
        "loading dataset into data structure...\n"
       ]
      },
      {
       "output_type": "stream",
       "stream": "stderr",
       "text": [
        "WARNING:root:sweep 11: ['Recording stopped before completing the experiment epoch']\n"
       ]
      },
      {
       "output_type": "stream",
       "stream": "stderr",
       "text": [
        "WARNING:root:sweep 15: ['Recording stopped before completing the experiment epoch']\n"
       ]
      },
      {
       "output_type": "stream",
       "stream": "stderr",
       "text": [
        "WARNING:root:sweep 18: ['Recording stopped before completing the experiment epoch']\n"
       ]
      },
      {
       "output_type": "stream",
       "stream": "stderr",
       "text": [
        "WARNING:root:sweep 55: ['Recording stopped before completing the experiment epoch']\n"
       ]
      },
      {
       "output_type": "stream",
       "stream": "stderr",
       "text": [
        "/nethome/kcni/ychen/.local/lib/python3.6/site-packages/ipfx/spike_features.py:87: RuntimeWarning: invalid value encountered in less\n",
        "  width_levels[width_levels < v[spike_indexes]] = thresh_to_peak_levels[width_levels < v[spike_indexes]]\n"
       ]
      },
      {
       "output_type": "stream",
       "stream": "stdout",
       "text": [
        "729135271.0 extracted\n",
        "loading dataset into data structure...\n"
       ]
      },
      {
       "output_type": "stream",
       "stream": "stderr",
       "text": [
        "WARNING:root:sweep 33: ['Recording stopped before completing the experiment epoch']\n"
       ]
      },
      {
       "output_type": "stream",
       "stream": "stderr",
       "text": [
        "WARNING:root:sweep 34: ['Recording stopped before completing the experiment epoch']\n"
       ]
      },
      {
       "output_type": "stream",
       "stream": "stderr",
       "text": [
        "WARNING:root:sweep 35: ['Recording stopped before completing the experiment epoch']\n"
       ]
      },
      {
       "output_type": "stream",
       "stream": "stderr",
       "text": [
        "WARNING:root:sweep 36: ['Recording stopped before completing the experiment epoch']\n"
       ]
      },
      {
       "output_type": "stream",
       "stream": "stderr",
       "text": [
        "WARNING:root:sweep 37: ['Recording stopped before completing the experiment epoch']\n"
       ]
      },
      {
       "output_type": "stream",
       "stream": "stderr",
       "text": [
        "/nethome/kcni/ychen/.local/lib/python3.6/site-packages/ipfx/spike_features.py:87: RuntimeWarning: invalid value encountered in less\n",
        "  width_levels[width_levels < v[spike_indexes]] = thresh_to_peak_levels[width_levels < v[spike_indexes]]\n"
       ]
      },
      {
       "output_type": "stream",
       "stream": "stdout",
       "text": [
        "729190038.0 extracted\n",
        "loading dataset into data structure...\n"
       ]
      },
      {
       "output_type": "stream",
       "stream": "stderr",
       "text": [
        "WARNING:root:sweep 29: ['Recording stopped before completing the experiment epoch']\n"
       ]
      },
      {
       "output_type": "stream",
       "stream": "stderr",
       "text": [
        "WARNING:root:sweep 30: ['Recording stopped before completing the experiment epoch']\n"
       ]
      },
      {
       "output_type": "stream",
       "stream": "stderr",
       "text": [
        "WARNING:root:sweep 31: ['Recording stopped before completing the experiment epoch']\n"
       ]
      },
      {
       "output_type": "stream",
       "stream": "stderr",
       "text": [
        "WARNING:root:sweep 32: ['Recording stopped before completing the experiment epoch']\n"
       ]
      },
      {
       "output_type": "stream",
       "stream": "stderr",
       "text": [
        "WARNING:root:sweep 33: ['Recording stopped before completing the experiment epoch']\n"
       ]
      },
      {
       "output_type": "stream",
       "stream": "stdout",
       "text": [
        "729233190.0 extracted\n",
        "loading dataset into data structure...\n"
       ]
      },
      {
       "output_type": "stream",
       "stream": "stderr",
       "text": [
        "WARNING:root:sweep 23: ['Recording stopped before completing the experiment epoch']\n"
       ]
      },
      {
       "output_type": "stream",
       "stream": "stderr",
       "text": [
        "WARNING:root:sweep 24: ['Recording stopped before completing the experiment epoch']\n"
       ]
      },
      {
       "output_type": "stream",
       "stream": "stderr",
       "text": [
        "WARNING:root:sweep 25: ['Recording stopped before completing the experiment epoch']\n"
       ]
      },
      {
       "output_type": "stream",
       "stream": "stderr",
       "text": [
        "WARNING:root:sweep 26: ['Recording stopped before completing the experiment epoch']\n"
       ]
      },
      {
       "output_type": "stream",
       "stream": "stderr",
       "text": [
        "WARNING:root:sweep 27: ['Recording stopped before completing the experiment epoch']\n"
       ]
      },
      {
       "output_type": "stream",
       "stream": "stdout",
       "text": [
        "729269557.0 extracted\n",
        "loading dataset into data structure...\n"
       ]
      },
      {
       "output_type": "stream",
       "stream": "stderr",
       "text": [
        "WARNING:root:sweep 22: ['Recording stopped before completing the experiment epoch']\n"
       ]
      },
      {
       "output_type": "stream",
       "stream": "stderr",
       "text": [
        "WARNING:root:sweep 23: ['Recording stopped before completing the experiment epoch']\n"
       ]
      },
      {
       "output_type": "stream",
       "stream": "stderr",
       "text": [
        "WARNING:root:sweep 24: ['Recording stopped before completing the experiment epoch']\n"
       ]
      },
      {
       "output_type": "stream",
       "stream": "stderr",
       "text": [
        "WARNING:root:sweep 25: ['Recording stopped before completing the experiment epoch']\n"
       ]
      },
      {
       "output_type": "stream",
       "stream": "stderr",
       "text": [
        "WARNING:root:sweep 26: ['Recording stopped before completing the experiment epoch']\n"
       ]
      },
      {
       "output_type": "stream",
       "stream": "stderr",
       "text": [
        "WARNING:root:sweep 27: ['Recording stopped before completing the experiment epoch']\n"
       ]
      },
      {
       "output_type": "stream",
       "stream": "stdout",
       "text": [
        "729270635.0 extracted\n",
        "loading dataset into data structure...\n"
       ]
      },
      {
       "output_type": "stream",
       "stream": "stderr",
       "text": [
        "WARNING:root:sweep 20: ['Recording stopped before completing the experiment epoch']\n"
       ]
      },
      {
       "output_type": "stream",
       "stream": "stderr",
       "text": [
        "WARNING:root:sweep 21: ['Recording stopped before completing the experiment epoch']\n"
       ]
      },
      {
       "output_type": "stream",
       "stream": "stderr",
       "text": [
        "WARNING:root:sweep 22: ['Recording stopped before completing the experiment epoch']\n"
       ]
      },
      {
       "output_type": "stream",
       "stream": "stderr",
       "text": [
        "WARNING:root:sweep 23: ['Recording stopped before completing the experiment epoch']\n"
       ]
      },
      {
       "output_type": "stream",
       "stream": "stderr",
       "text": [
        "WARNING:root:sweep 24: ['Recording stopped before completing the experiment epoch']\n"
       ]
      },
      {
       "output_type": "stream",
       "stream": "stdout",
       "text": [
        "729316795.0 extracted\n",
        "loading dataset into data structure...\n"
       ]
      },
      {
       "output_type": "stream",
       "stream": "stderr",
       "text": [
        "WARNING:root:sweep 20: ['Recording stopped before completing the experiment epoch']\n"
       ]
      },
      {
       "output_type": "stream",
       "stream": "stderr",
       "text": [
        "WARNING:root:sweep 21: ['Recording stopped before completing the experiment epoch']\n"
       ]
      },
      {
       "output_type": "stream",
       "stream": "stderr",
       "text": [
        "WARNING:root:sweep 22: ['Recording stopped before completing the experiment epoch']\n"
       ]
      },
      {
       "output_type": "stream",
       "stream": "stderr",
       "text": [
        "WARNING:root:sweep 23: ['Recording stopped before completing the experiment epoch']\n"
       ]
      },
      {
       "output_type": "stream",
       "stream": "stderr",
       "text": [
        "WARNING:root:sweep 24: ['Recording stopped before completing the experiment epoch']\n"
       ]
      },
      {
       "output_type": "stream",
       "stream": "stderr",
       "text": [
        "WARNING:root:sweep 25: ['Recording stopped before completing the experiment epoch']\n"
       ]
      },
      {
       "output_type": "stream",
       "stream": "stderr",
       "text": [
        "WARNING:root:sweep 26: ['Recording stopped before completing the experiment epoch']\n"
       ]
      },
      {
       "output_type": "stream",
       "stream": "stdout",
       "text": [
        "729368968.0 extracted\n",
        "loading dataset into data structure...\n"
       ]
      },
      {
       "output_type": "stream",
       "stream": "stderr",
       "text": [
        "WARNING:root:sweep 23: ['Recording stopped before completing the experiment epoch']\n"
       ]
      },
      {
       "output_type": "stream",
       "stream": "stderr",
       "text": [
        "WARNING:root:sweep 24: ['Recording stopped before completing the experiment epoch']\n"
       ]
      },
      {
       "output_type": "stream",
       "stream": "stdout",
       "text": [
        "729415408.0 extracted\n",
        "loading dataset into data structure...\n"
       ]
      },
      {
       "output_type": "stream",
       "stream": "stderr",
       "text": [
        "WARNING:root:sweep 23: ['Recording stopped before completing the experiment epoch']\n"
       ]
      },
      {
       "output_type": "stream",
       "stream": "stderr",
       "text": [
        "WARNING:root:sweep 24: ['Recording stopped before completing the experiment epoch']\n"
       ]
      },
      {
       "output_type": "stream",
       "stream": "stderr",
       "text": [
        "WARNING:root:sweep 25: ['Recording stopped before completing the experiment epoch']\n"
       ]
      },
      {
       "output_type": "stream",
       "stream": "stderr",
       "text": [
        "WARNING:root:sweep 26: ['Recording stopped before completing the experiment epoch']\n"
       ]
      },
      {
       "output_type": "stream",
       "stream": "stderr",
       "text": [
        "WARNING:root:sweep 27: ['Recording stopped before completing the experiment epoch']\n"
       ]
      },
      {
       "output_type": "stream",
       "stream": "stderr",
       "text": [
        "/nethome/kcni/ychen/.local/lib/python3.6/site-packages/ipfx/spike_features.py:87: RuntimeWarning: invalid value encountered in less\n",
        "  width_levels[width_levels < v[spike_indexes]] = thresh_to_peak_levels[width_levels < v[spike_indexes]]\n"
       ]
      },
      {
       "output_type": "stream",
       "stream": "stdout",
       "text": [
        "729429892.0 extracted\n",
        "loading dataset into data structure...\n"
       ]
      },
      {
       "output_type": "stream",
       "stream": "stderr",
       "text": [
        "WARNING:root:sweep 11: ['experiment epoch is missing', 'stim epoch is missing']\n"
       ]
      },
      {
       "output_type": "stream",
       "stream": "stderr",
       "text": [
        "WARNING:root:sweep 28: ['Recording stopped before completing the experiment epoch']\n"
       ]
      },
      {
       "output_type": "stream",
       "stream": "stderr",
       "text": [
        "WARNING:root:sweep 29: ['Recording stopped before completing the experiment epoch']\n"
       ]
      },
      {
       "output_type": "stream",
       "stream": "stderr",
       "text": [
        "WARNING:root:sweep 30: ['Recording stopped before completing the experiment epoch']\n"
       ]
      },
      {
       "output_type": "stream",
       "stream": "stderr",
       "text": [
        "WARNING:root:sweep 31: ['Recording stopped before completing the experiment epoch']\n"
       ]
      },
      {
       "output_type": "stream",
       "stream": "stderr",
       "text": [
        "WARNING:root:sweep 32: ['Recording stopped before completing the experiment epoch']\n"
       ]
      },
      {
       "output_type": "stream",
       "stream": "stdout",
       "text": [
        "730734599.0 extracted\n",
        "loading dataset into data structure...\n"
       ]
      },
      {
       "output_type": "stream",
       "stream": "stderr",
       "text": [
        "WARNING:root:sweep 25: ['Recording stopped before completing the experiment epoch']\n"
       ]
      },
      {
       "output_type": "stream",
       "stream": "stderr",
       "text": [
        "WARNING:root:sweep 26: ['Recording stopped before completing the experiment epoch']\n"
       ]
      },
      {
       "output_type": "stream",
       "stream": "stderr",
       "text": [
        "WARNING:root:sweep 27: ['Recording stopped before completing the experiment epoch']\n"
       ]
      },
      {
       "output_type": "stream",
       "stream": "stderr",
       "text": [
        "WARNING:root:sweep 28: ['Recording stopped before completing the experiment epoch']\n"
       ]
      },
      {
       "output_type": "stream",
       "stream": "stderr",
       "text": [
        "WARNING:root:sweep 29: ['Recording stopped before completing the experiment epoch']\n"
       ]
      },
      {
       "output_type": "stream",
       "stream": "stdout",
       "text": [
        "730744363.0 extracted\n",
        "loading dataset into data structure...\n"
       ]
      },
      {
       "output_type": "stream",
       "stream": "stderr",
       "text": [
        "WARNING:root:sweep 26: ['Recording stopped before completing the experiment epoch']\n"
       ]
      },
      {
       "output_type": "stream",
       "stream": "stderr",
       "text": [
        "WARNING:root:sweep 27: ['Recording stopped before completing the experiment epoch']\n"
       ]
      },
      {
       "output_type": "stream",
       "stream": "stderr",
       "text": [
        "WARNING:root:sweep 28: ['Recording stopped before completing the experiment epoch']\n"
       ]
      },
      {
       "output_type": "stream",
       "stream": "stderr",
       "text": [
        "WARNING:root:sweep 29: ['Recording stopped before completing the experiment epoch']\n"
       ]
      },
      {
       "output_type": "stream",
       "stream": "stderr",
       "text": [
        "WARNING:root:sweep 30: ['Recording stopped before completing the experiment epoch']\n"
       ]
      },
      {
       "output_type": "stream",
       "stream": "stdout",
       "text": [
        "730789905.0 extracted\n",
        "loading dataset into data structure...\n"
       ]
      },
      {
       "output_type": "stream",
       "stream": "stderr",
       "text": [
        "WARNING:root:sweep 25: ['Recording stopped before completing the experiment epoch']\n"
       ]
      },
      {
       "output_type": "stream",
       "stream": "stderr",
       "text": [
        "WARNING:root:sweep 26: ['Recording stopped before completing the experiment epoch']\n"
       ]
      },
      {
       "output_type": "stream",
       "stream": "stderr",
       "text": [
        "WARNING:root:sweep 27: ['Recording stopped before completing the experiment epoch']\n"
       ]
      },
      {
       "output_type": "stream",
       "stream": "stderr",
       "text": [
        "WARNING:root:sweep 28: ['Recording stopped before completing the experiment epoch']\n"
       ]
      },
      {
       "output_type": "stream",
       "stream": "stderr",
       "text": [
        "WARNING:root:sweep 29: ['Recording stopped before completing the experiment epoch']\n"
       ]
      },
      {
       "output_type": "stream",
       "stream": "stdout",
       "text": [
        "730794744.0 extracted\n",
        "loading dataset into data structure...\n"
       ]
      },
      {
       "output_type": "stream",
       "stream": "stderr",
       "text": [
        "WARNING:root:sweep 25: ['Recording stopped before completing the experiment epoch']\n"
       ]
      },
      {
       "output_type": "stream",
       "stream": "stderr",
       "text": [
        "WARNING:root:sweep 26: ['Recording stopped before completing the experiment epoch']\n"
       ]
      },
      {
       "output_type": "stream",
       "stream": "stderr",
       "text": [
        "WARNING:root:sweep 27: ['Recording stopped before completing the experiment epoch']\n"
       ]
      },
      {
       "output_type": "stream",
       "stream": "stderr",
       "text": [
        "WARNING:root:sweep 28: ['Recording stopped before completing the experiment epoch']\n"
       ]
      },
      {
       "output_type": "stream",
       "stream": "stderr",
       "text": [
        "WARNING:root:sweep 29: ['Recording stopped before completing the experiment epoch']\n"
       ]
      },
      {
       "output_type": "stream",
       "stream": "stderr",
       "text": [
        "/nethome/kcni/ychen/.local/lib/python3.6/site-packages/ipfx/spike_features.py:87: RuntimeWarning: invalid value encountered in less\n",
        "  width_levels[width_levels < v[spike_indexes]] = thresh_to_peak_levels[width_levels < v[spike_indexes]]\n"
       ]
      },
      {
       "output_type": "stream",
       "stream": "stdout",
       "text": [
        "730796336.0 extracted\n",
        "loading dataset into data structure...\n"
       ]
      },
      {
       "output_type": "stream",
       "stream": "stderr",
       "text": [
        "WARNING:root:sweep 28: ['Recording stopped before completing the experiment epoch']\n"
       ]
      },
      {
       "output_type": "stream",
       "stream": "stderr",
       "text": [
        "WARNING:root:sweep 29: ['Recording stopped before completing the experiment epoch']\n"
       ]
      },
      {
       "output_type": "stream",
       "stream": "stderr",
       "text": [
        "WARNING:root:sweep 30: ['Recording stopped before completing the experiment epoch']\n"
       ]
      },
      {
       "output_type": "stream",
       "stream": "stderr",
       "text": [
        "WARNING:root:sweep 31: ['Recording stopped before completing the experiment epoch']\n"
       ]
      },
      {
       "output_type": "stream",
       "stream": "stderr",
       "text": [
        "WARNING:root:sweep 32: ['Recording stopped before completing the experiment epoch']\n"
       ]
      },
      {
       "output_type": "stream",
       "stream": "stdout",
       "text": [
        "730803523.0 extracted\n",
        "loading dataset into data structure...\n"
       ]
      },
      {
       "output_type": "stream",
       "stream": "stderr",
       "text": [
        "WARNING:root:sweep 24: ['Recording stopped before completing the experiment epoch']\n"
       ]
      },
      {
       "output_type": "stream",
       "stream": "stderr",
       "text": [
        "WARNING:root:sweep 25: ['Recording stopped before completing the experiment epoch']\n"
       ]
      },
      {
       "output_type": "stream",
       "stream": "stderr",
       "text": [
        "WARNING:root:sweep 26: ['Recording stopped before completing the experiment epoch']\n"
       ]
      },
      {
       "output_type": "stream",
       "stream": "stderr",
       "text": [
        "WARNING:root:sweep 27: ['Recording stopped before completing the experiment epoch']\n"
       ]
      },
      {
       "output_type": "stream",
       "stream": "stderr",
       "text": [
        "WARNING:root:sweep 28: ['Recording stopped before completing the experiment epoch']\n"
       ]
      },
      {
       "output_type": "stream",
       "stream": "stderr",
       "text": [
        "/nethome/kcni/ychen/.local/lib/python3.6/site-packages/ipfx/spike_features.py:87: RuntimeWarning: invalid value encountered in less\n",
        "  width_levels[width_levels < v[spike_indexes]] = thresh_to_peak_levels[width_levels < v[spike_indexes]]\n"
       ]
      },
      {
       "output_type": "stream",
       "stream": "stdout",
       "text": [
        "730814458.0 extracted\n",
        "loading dataset into data structure...\n"
       ]
      },
      {
       "output_type": "stream",
       "stream": "stderr",
       "text": [
        "WARNING:root:sweep 29: ['Recording stopped before completing the experiment epoch']\n"
       ]
      },
      {
       "output_type": "stream",
       "stream": "stderr",
       "text": [
        "WARNING:root:sweep 30: ['Recording stopped before completing the experiment epoch']\n"
       ]
      },
      {
       "output_type": "stream",
       "stream": "stderr",
       "text": [
        "WARNING:root:sweep 31: ['Recording stopped before completing the experiment epoch']\n"
       ]
      },
      {
       "output_type": "stream",
       "stream": "stderr",
       "text": [
        "WARNING:root:sweep 32: ['Recording stopped before completing the experiment epoch']\n"
       ]
      },
      {
       "output_type": "stream",
       "stream": "stderr",
       "text": [
        "WARNING:root:sweep 33: ['Recording stopped before completing the experiment epoch']\n"
       ]
      },
      {
       "output_type": "stream",
       "stream": "stdout",
       "text": [
        "730831464.0 extracted\n",
        "loading dataset into data structure...\n"
       ]
      },
      {
       "output_type": "stream",
       "stream": "stderr",
       "text": [
        "WARNING:root:sweep 38: ['Recording stopped before completing the experiment epoch']\n"
       ]
      },
      {
       "output_type": "stream",
       "stream": "stderr",
       "text": [
        "WARNING:root:sweep 39: ['Recording stopped before completing the experiment epoch']\n"
       ]
      },
      {
       "output_type": "stream",
       "stream": "stderr",
       "text": [
        "WARNING:root:sweep 40: ['Recording stopped before completing the experiment epoch']\n"
       ]
      },
      {
       "output_type": "stream",
       "stream": "stderr",
       "text": [
        "WARNING:root:sweep 41: ['Recording stopped before completing the experiment epoch']\n"
       ]
      },
      {
       "output_type": "stream",
       "stream": "stdout",
       "text": [
        "730849363.0 extracted\n",
        "loading dataset into data structure...\n"
       ]
      },
      {
       "output_type": "stream",
       "stream": "stderr",
       "text": [
        "WARNING:root:sweep 27: ['Recording stopped before completing the experiment epoch']\n"
       ]
      },
      {
       "output_type": "stream",
       "stream": "stderr",
       "text": [
        "WARNING:root:sweep 28: ['Recording stopped before completing the experiment epoch']\n"
       ]
      },
      {
       "output_type": "stream",
       "stream": "stderr",
       "text": [
        "WARNING:root:sweep 29: ['Recording stopped before completing the experiment epoch']\n"
       ]
      },
      {
       "output_type": "stream",
       "stream": "stderr",
       "text": [
        "WARNING:root:sweep 30: ['Recording stopped before completing the experiment epoch']\n"
       ]
      },
      {
       "output_type": "stream",
       "stream": "stderr",
       "text": [
        "WARNING:root:sweep 31: ['Recording stopped before completing the experiment epoch']\n"
       ]
      },
      {
       "output_type": "stream",
       "stream": "stdout",
       "text": [
        "730859444.0 extracted\n",
        "loading dataset into data structure...\n"
       ]
      },
      {
       "output_type": "stream",
       "stream": "stderr",
       "text": [
        "WARNING:root:sweep 24: ['Recording stopped before completing the experiment epoch']\n"
       ]
      },
      {
       "output_type": "stream",
       "stream": "stderr",
       "text": [
        "WARNING:root:sweep 25: ['Recording stopped before completing the experiment epoch']\n"
       ]
      },
      {
       "output_type": "stream",
       "stream": "stderr",
       "text": [
        "WARNING:root:sweep 26: ['Recording stopped before completing the experiment epoch']\n"
       ]
      },
      {
       "output_type": "stream",
       "stream": "stderr",
       "text": [
        "WARNING:root:sweep 27: ['Recording stopped before completing the experiment epoch']\n"
       ]
      },
      {
       "output_type": "stream",
       "stream": "stderr",
       "text": [
        "WARNING:root:sweep 28: ['Recording stopped before completing the experiment epoch']\n"
       ]
      },
      {
       "output_type": "stream",
       "stream": "stdout",
       "text": [
        "730867067.0 extracted\n",
        "loading dataset into data structure...\n"
       ]
      },
      {
       "output_type": "stream",
       "stream": "stdout",
       "text": [
        "730878829.0 extracted\n",
        "loading dataset into data structure...\n"
       ]
      },
      {
       "output_type": "stream",
       "stream": "stderr",
       "text": [
        "WARNING:root:sweep 31: ['Recording stopped before completing the experiment epoch']\n"
       ]
      },
      {
       "output_type": "stream",
       "stream": "stderr",
       "text": [
        "WARNING:root:sweep 32: ['Recording stopped before completing the experiment epoch']\n"
       ]
      },
      {
       "output_type": "stream",
       "stream": "stderr",
       "text": [
        "WARNING:root:sweep 33: ['Recording stopped before completing the experiment epoch']\n"
       ]
      },
      {
       "output_type": "stream",
       "stream": "stderr",
       "text": [
        "WARNING:root:sweep 34: ['Recording stopped before completing the experiment epoch']\n"
       ]
      },
      {
       "output_type": "stream",
       "stream": "stderr",
       "text": [
        "WARNING:root:sweep 35: ['Recording stopped before completing the experiment epoch']\n"
       ]
      },
      {
       "output_type": "stream",
       "stream": "stderr",
       "text": [
        "/nethome/kcni/ychen/.local/lib/python3.6/site-packages/ipfx/spike_features.py:87: RuntimeWarning: invalid value encountered in less\n",
        "  width_levels[width_levels < v[spike_indexes]] = thresh_to_peak_levels[width_levels < v[spike_indexes]]\n"
       ]
      },
      {
       "output_type": "stream",
       "stream": "stdout",
       "text": [
        "731300491.0 extracted\n",
        "loading dataset into data structure...\n"
       ]
      },
      {
       "output_type": "stream",
       "stream": "stderr",
       "text": [
        "WARNING:root:sweep 36: ['Recording stopped before completing the experiment epoch']\n"
       ]
      },
      {
       "output_type": "stream",
       "stream": "stderr",
       "text": [
        "WARNING:root:sweep 37: ['Recording stopped before completing the experiment epoch']\n"
       ]
      },
      {
       "output_type": "stream",
       "stream": "stderr",
       "text": [
        "WARNING:root:sweep 38: ['Recording stopped before completing the experiment epoch']\n"
       ]
      },
      {
       "output_type": "stream",
       "stream": "stderr",
       "text": [
        "WARNING:root:sweep 39: ['Recording stopped before completing the experiment epoch']\n"
       ]
      },
      {
       "output_type": "stream",
       "stream": "stderr",
       "text": [
        "WARNING:root:sweep 40: ['Recording stopped before completing the experiment epoch']\n"
       ]
      },
      {
       "output_type": "stream",
       "stream": "stdout",
       "text": [
        "731373072.0 extracted\n",
        "loading dataset into data structure...\n"
       ]
      },
      {
       "output_type": "stream",
       "stream": "stdout",
       "text": [
        "731397860.0 extracted\n",
        "loading dataset into data structure...\n"
       ]
      },
      {
       "output_type": "stream",
       "stream": "stderr",
       "text": [
        "WARNING:root:sweep 33: ['Recording stopped before completing the experiment epoch']\n"
       ]
      },
      {
       "output_type": "stream",
       "stream": "stderr",
       "text": [
        "WARNING:root:sweep 34: ['Recording stopped before completing the experiment epoch']\n"
       ]
      },
      {
       "output_type": "stream",
       "stream": "stderr",
       "text": [
        "WARNING:root:sweep 35: ['Recording stopped before completing the experiment epoch']\n"
       ]
      },
      {
       "output_type": "stream",
       "stream": "stderr",
       "text": [
        "WARNING:root:sweep 36: ['Recording stopped before completing the experiment epoch']\n"
       ]
      },
      {
       "output_type": "stream",
       "stream": "stderr",
       "text": [
        "WARNING:root:sweep 37: ['Recording stopped before completing the experiment epoch']\n"
       ]
      },
      {
       "output_type": "stream",
       "stream": "stderr",
       "text": [
        "/nethome/kcni/ychen/.local/lib/python3.6/site-packages/ipfx/spike_features.py:87: RuntimeWarning: invalid value encountered in less\n",
        "  width_levels[width_levels < v[spike_indexes]] = thresh_to_peak_levels[width_levels < v[spike_indexes]]\n"
       ]
      },
      {
       "output_type": "stream",
       "stream": "stdout",
       "text": [
        "731431918.0 extracted\n",
        "loading dataset into data structure...\n"
       ]
      },
      {
       "output_type": "stream",
       "stream": "stderr",
       "text": [
        "WARNING:root:sweep 26: ['Recording stopped before completing the experiment epoch']\n"
       ]
      },
      {
       "output_type": "stream",
       "stream": "stderr",
       "text": [
        "WARNING:root:sweep 27: ['Recording stopped before completing the experiment epoch']\n"
       ]
      },
      {
       "output_type": "stream",
       "stream": "stderr",
       "text": [
        "WARNING:root:sweep 28: ['Recording stopped before completing the experiment epoch']\n"
       ]
      },
      {
       "output_type": "stream",
       "stream": "stderr",
       "text": [
        "WARNING:root:sweep 29: ['Recording stopped before completing the experiment epoch']\n"
       ]
      },
      {
       "output_type": "stream",
       "stream": "stderr",
       "text": [
        "WARNING:root:sweep 30: ['Recording stopped before completing the experiment epoch']\n"
       ]
      },
      {
       "output_type": "stream",
       "stream": "stdout",
       "text": [
        "731651186.0 extracted\n",
        "loading dataset into data structure...\n"
       ]
      },
      {
       "output_type": "stream",
       "stream": "stderr",
       "text": [
        "WARNING:root:sweep 23: ['Recording stopped before completing the experiment epoch']\n"
       ]
      },
      {
       "output_type": "stream",
       "stream": "stderr",
       "text": [
        "WARNING:root:sweep 24: ['Recording stopped before completing the experiment epoch']\n"
       ]
      },
      {
       "output_type": "stream",
       "stream": "stderr",
       "text": [
        "WARNING:root:sweep 25: ['Recording stopped before completing the experiment epoch']\n"
       ]
      },
      {
       "output_type": "stream",
       "stream": "stderr",
       "text": [
        "WARNING:root:sweep 26: ['Recording stopped before completing the experiment epoch']\n"
       ]
      },
      {
       "output_type": "stream",
       "stream": "stderr",
       "text": [
        "WARNING:root:sweep 27: ['Recording stopped before completing the experiment epoch']\n"
       ]
      },
      {
       "output_type": "stream",
       "stream": "stdout",
       "text": [
        "731675250.0 extracted\n",
        "loading dataset into data structure...\n"
       ]
      },
      {
       "output_type": "stream",
       "stream": "stderr",
       "text": [
        "/nethome/kcni/ychen/.local/lib/python3.6/site-packages/ipfx/spike_features.py:87: RuntimeWarning: invalid value encountered in less\n",
        "  width_levels[width_levels < v[spike_indexes]] = thresh_to_peak_levels[width_levels < v[spike_indexes]]\n"
       ]
      },
      {
       "output_type": "stream",
       "stream": "stdout",
       "text": [
        "731683221.0 extracted\n",
        "loading dataset into data structure...\n"
       ]
      },
      {
       "output_type": "stream",
       "stream": "stderr",
       "text": [
        "WARNING:root:sweep 32: ['Recording stopped before completing the experiment epoch']\n"
       ]
      },
      {
       "output_type": "stream",
       "stream": "stderr",
       "text": [
        "WARNING:root:sweep 33: ['Recording stopped before completing the experiment epoch']\n"
       ]
      },
      {
       "output_type": "stream",
       "stream": "stderr",
       "text": [
        "WARNING:root:sweep 34: ['Recording stopped before completing the experiment epoch']\n"
       ]
      },
      {
       "output_type": "stream",
       "stream": "stderr",
       "text": [
        "WARNING:root:sweep 35: ['Recording stopped before completing the experiment epoch']\n"
       ]
      },
      {
       "output_type": "stream",
       "stream": "stderr",
       "text": [
        "WARNING:root:sweep 36: ['Recording stopped before completing the experiment epoch']\n"
       ]
      },
      {
       "output_type": "stream",
       "stream": "stdout",
       "text": [
        "731705048.0 extracted\n",
        "loading dataset into data structure...\n"
       ]
      },
      {
       "output_type": "stream",
       "stream": "stderr",
       "text": [
        "WARNING:root:sweep 25: ['Recording stopped before completing the experiment epoch']\n"
       ]
      },
      {
       "output_type": "stream",
       "stream": "stderr",
       "text": [
        "WARNING:root:sweep 26: ['Recording stopped before completing the experiment epoch']\n"
       ]
      },
      {
       "output_type": "stream",
       "stream": "stderr",
       "text": [
        "WARNING:root:sweep 27: ['Recording stopped before completing the experiment epoch']\n"
       ]
      },
      {
       "output_type": "stream",
       "stream": "stderr",
       "text": [
        "WARNING:root:sweep 28: ['Recording stopped before completing the experiment epoch']\n"
       ]
      },
      {
       "output_type": "stream",
       "stream": "stderr",
       "text": [
        "WARNING:root:sweep 29: ['Recording stopped before completing the experiment epoch']\n"
       ]
      },
      {
       "output_type": "stream",
       "stream": "stderr",
       "text": [
        "/nethome/kcni/ychen/.local/lib/python3.6/site-packages/ipfx/spike_features.py:87: RuntimeWarning: invalid value encountered in less\n",
        "  width_levels[width_levels < v[spike_indexes]] = thresh_to_peak_levels[width_levels < v[spike_indexes]]\n"
       ]
      },
      {
       "output_type": "stream",
       "stream": "stdout",
       "text": [
        "731709424.0 extracted\n",
        "loading dataset into data structure...\n"
       ]
      },
      {
       "output_type": "stream",
       "stream": "stderr",
       "text": [
        "WARNING:root:sweep 28: ['Recording stopped before completing the experiment epoch']\n"
       ]
      },
      {
       "output_type": "stream",
       "stream": "stderr",
       "text": [
        "WARNING:root:sweep 29: ['Recording stopped before completing the experiment epoch']\n"
       ]
      },
      {
       "output_type": "stream",
       "stream": "stderr",
       "text": [
        "WARNING:root:sweep 30: ['Recording stopped before completing the experiment epoch']\n"
       ]
      },
      {
       "output_type": "stream",
       "stream": "stderr",
       "text": [
        "WARNING:root:sweep 31: ['Recording stopped before completing the experiment epoch']\n"
       ]
      },
      {
       "output_type": "stream",
       "stream": "stderr",
       "text": [
        "WARNING:root:sweep 32: ['Recording stopped before completing the experiment epoch']\n"
       ]
      },
      {
       "output_type": "stream",
       "stream": "stderr",
       "text": [
        "/nethome/kcni/ychen/.local/lib/python3.6/site-packages/ipfx/spike_features.py:87: RuntimeWarning: invalid value encountered in less\n",
        "  width_levels[width_levels < v[spike_indexes]] = thresh_to_peak_levels[width_levels < v[spike_indexes]]\n"
       ]
      },
      {
       "output_type": "stream",
       "stream": "stdout",
       "text": [
        "731733715.0 extracted\n",
        "loading dataset into data structure...\n"
       ]
      },
      {
       "output_type": "stream",
       "stream": "stderr",
       "text": [
        "WARNING:root:sweep 23: ['Recording stopped before completing the experiment epoch']\n"
       ]
      },
      {
       "output_type": "stream",
       "stream": "stderr",
       "text": [
        "WARNING:root:sweep 24: ['Recording stopped before completing the experiment epoch']\n"
       ]
      },
      {
       "output_type": "stream",
       "stream": "stderr",
       "text": [
        "WARNING:root:sweep 25: ['Recording stopped before completing the experiment epoch']\n"
       ]
      },
      {
       "output_type": "stream",
       "stream": "stderr",
       "text": [
        "WARNING:root:sweep 26: ['Recording stopped before completing the experiment epoch']\n"
       ]
      },
      {
       "output_type": "stream",
       "stream": "stderr",
       "text": [
        "WARNING:root:sweep 27: ['Recording stopped before completing the experiment epoch']\n"
       ]
      },
      {
       "output_type": "stream",
       "stream": "stdout",
       "text": [
        "731743339.0 extracted\n",
        "loading dataset into data structure...\n"
       ]
      },
      {
       "output_type": "stream",
       "stream": "stderr",
       "text": [
        "WARNING:root:sweep 28: ['Recording stopped before completing the experiment epoch']\n"
       ]
      },
      {
       "output_type": "stream",
       "stream": "stderr",
       "text": [
        "WARNING:root:sweep 29: ['Recording stopped before completing the experiment epoch']\n"
       ]
      },
      {
       "output_type": "stream",
       "stream": "stderr",
       "text": [
        "WARNING:root:sweep 30: ['Recording stopped before completing the experiment epoch']\n"
       ]
      },
      {
       "output_type": "stream",
       "stream": "stderr",
       "text": [
        "WARNING:root:sweep 31: ['Recording stopped before completing the experiment epoch']\n"
       ]
      },
      {
       "output_type": "stream",
       "stream": "stderr",
       "text": [
        "WARNING:root:sweep 32: ['Recording stopped before completing the experiment epoch']\n"
       ]
      },
      {
       "output_type": "stream",
       "stream": "stdout",
       "text": [
        "731765828.0 extracted\n",
        "loading dataset into data structure...\n"
       ]
      },
      {
       "output_type": "stream",
       "stream": "stderr",
       "text": [
        "WARNING:root:sweep 23: ['Recording stopped before completing the experiment epoch']\n"
       ]
      },
      {
       "output_type": "stream",
       "stream": "stderr",
       "text": [
        "WARNING:root:sweep 24: ['Recording stopped before completing the experiment epoch']\n"
       ]
      },
      {
       "output_type": "stream",
       "stream": "stderr",
       "text": [
        "WARNING:root:sweep 25: ['Recording stopped before completing the experiment epoch']\n"
       ]
      },
      {
       "output_type": "stream",
       "stream": "stderr",
       "text": [
        "WARNING:root:sweep 26: ['Recording stopped before completing the experiment epoch']\n"
       ]
      },
      {
       "output_type": "stream",
       "stream": "stderr",
       "text": [
        "WARNING:root:sweep 27: ['Recording stopped before completing the experiment epoch']\n"
       ]
      },
      {
       "output_type": "stream",
       "stream": "stdout",
       "text": [
        "731817645.0 extracted\n",
        "loading dataset into data structure...\n"
       ]
      },
      {
       "output_type": "stream",
       "stream": "stderr",
       "text": [
        "WARNING:root:sweep 23: ['Recording stopped before completing the experiment epoch']\n"
       ]
      },
      {
       "output_type": "stream",
       "stream": "stderr",
       "text": [
        "WARNING:root:sweep 24: ['Recording stopped before completing the experiment epoch']\n"
       ]
      },
      {
       "output_type": "stream",
       "stream": "stderr",
       "text": [
        "WARNING:root:sweep 25: ['Recording stopped before completing the experiment epoch']\n"
       ]
      },
      {
       "output_type": "stream",
       "stream": "stderr",
       "text": [
        "WARNING:root:sweep 26: ['Recording stopped before completing the experiment epoch']\n"
       ]
      },
      {
       "output_type": "stream",
       "stream": "stderr",
       "text": [
        "WARNING:root:sweep 27: ['Recording stopped before completing the experiment epoch']\n"
       ]
      },
      {
       "output_type": "stream",
       "stream": "stdout",
       "text": [
        "731830471.0 extracted\n",
        "loading dataset into data structure...\n"
       ]
      },
      {
       "output_type": "stream",
       "stream": "stderr",
       "text": [
        "WARNING:root:sweep 20: ['Recording stopped before completing the experiment epoch']\n"
       ]
      },
      {
       "output_type": "stream",
       "stream": "stderr",
       "text": [
        "WARNING:root:sweep 21: ['Recording stopped before completing the experiment epoch']\n"
       ]
      },
      {
       "output_type": "stream",
       "stream": "stderr",
       "text": [
        "WARNING:root:sweep 22: ['Recording stopped before completing the experiment epoch']\n"
       ]
      },
      {
       "output_type": "stream",
       "stream": "stderr",
       "text": [
        "WARNING:root:sweep 23: ['Recording stopped before completing the experiment epoch']\n"
       ]
      },
      {
       "output_type": "stream",
       "stream": "stderr",
       "text": [
        "WARNING:root:sweep 24: ['Recording stopped before completing the experiment epoch']\n"
       ]
      },
      {
       "output_type": "stream",
       "stream": "stderr",
       "text": [
        "WARNING:root:sweep 25: ['Recording stopped before completing the experiment epoch']\n"
       ]
      },
      {
       "output_type": "stream",
       "stream": "stderr",
       "text": [
        "/nethome/kcni/ychen/.local/lib/python3.6/site-packages/ipfx/spike_features.py:87: RuntimeWarning: invalid value encountered in less\n",
        "  width_levels[width_levels < v[spike_indexes]] = thresh_to_peak_levels[width_levels < v[spike_indexes]]\n"
       ]
      },
      {
       "output_type": "stream",
       "stream": "stdout",
       "text": [
        "731877396.0 extracted\n",
        "loading dataset into data structure...\n"
       ]
      },
      {
       "output_type": "stream",
       "stream": "stderr",
       "text": [
        "WARNING:root:sweep 27: ['Recording stopped before completing the experiment epoch']\n"
       ]
      },
      {
       "output_type": "stream",
       "stream": "stderr",
       "text": [
        "WARNING:root:sweep 28: ['Recording stopped before completing the experiment epoch']\n"
       ]
      },
      {
       "output_type": "stream",
       "stream": "stderr",
       "text": [
        "WARNING:root:sweep 29: ['Recording stopped before completing the experiment epoch']\n"
       ]
      },
      {
       "output_type": "stream",
       "stream": "stderr",
       "text": [
        "WARNING:root:sweep 30: ['Recording stopped before completing the experiment epoch']\n"
       ]
      },
      {
       "output_type": "stream",
       "stream": "stderr",
       "text": [
        "WARNING:root:sweep 31: ['Recording stopped before completing the experiment epoch']\n"
       ]
      },
      {
       "output_type": "stream",
       "stream": "stdout",
       "text": [
        "731882356.0 extracted\n",
        "loading dataset into data structure...\n"
       ]
      },
      {
       "output_type": "stream",
       "stream": "stderr",
       "text": [
        "WARNING:root:sweep 24: ['Recording stopped before completing the experiment epoch']\n"
       ]
      },
      {
       "output_type": "stream",
       "stream": "stderr",
       "text": [
        "WARNING:root:sweep 25: ['Recording stopped before completing the experiment epoch']\n"
       ]
      },
      {
       "output_type": "stream",
       "stream": "stderr",
       "text": [
        "WARNING:root:sweep 26: ['Recording stopped before completing the experiment epoch']\n"
       ]
      },
      {
       "output_type": "stream",
       "stream": "stderr",
       "text": [
        "WARNING:root:sweep 27: ['Recording stopped before completing the experiment epoch']\n"
       ]
      },
      {
       "output_type": "stream",
       "stream": "stderr",
       "text": [
        "WARNING:root:sweep 28: ['Recording stopped before completing the experiment epoch']\n"
       ]
      },
      {
       "output_type": "stream",
       "stream": "stdout",
       "text": [
        "731917470.0 extracted\n",
        "loading dataset into data structure...\n"
       ]
      },
      {
       "output_type": "stream",
       "stream": "stderr",
       "text": [
        "WARNING:root:sweep 24: ['Recording stopped before completing the experiment epoch']\n"
       ]
      },
      {
       "output_type": "stream",
       "stream": "stderr",
       "text": [
        "WARNING:root:sweep 25: ['Recording stopped before completing the experiment epoch']\n"
       ]
      },
      {
       "output_type": "stream",
       "stream": "stderr",
       "text": [
        "WARNING:root:sweep 26: ['Recording stopped before completing the experiment epoch']\n"
       ]
      },
      {
       "output_type": "stream",
       "stream": "stderr",
       "text": [
        "WARNING:root:sweep 27: ['Recording stopped before completing the experiment epoch']\n"
       ]
      },
      {
       "output_type": "stream",
       "stream": "stderr",
       "text": [
        "WARNING:root:sweep 28: ['Recording stopped before completing the experiment epoch']\n"
       ]
      },
      {
       "output_type": "stream",
       "stream": "stdout",
       "text": [
        "731974838.0 extracted\n",
        "loading dataset into data structure...\n"
       ]
      },
      {
       "output_type": "stream",
       "stream": "stderr",
       "text": [
        "WARNING:root:sweep 23: ['Recording stopped before completing the experiment epoch']\n"
       ]
      },
      {
       "output_type": "stream",
       "stream": "stderr",
       "text": [
        "WARNING:root:sweep 24: ['Recording stopped before completing the experiment epoch']\n"
       ]
      },
      {
       "output_type": "stream",
       "stream": "stderr",
       "text": [
        "WARNING:root:sweep 25: ['Recording stopped before completing the experiment epoch']\n"
       ]
      },
      {
       "output_type": "stream",
       "stream": "stderr",
       "text": [
        "WARNING:root:sweep 26: ['Recording stopped before completing the experiment epoch']\n"
       ]
      },
      {
       "output_type": "stream",
       "stream": "stderr",
       "text": [
        "WARNING:root:sweep 27: ['Recording stopped before completing the experiment epoch']\n"
       ]
      },
      {
       "output_type": "stream",
       "stream": "stdout",
       "text": [
        "731980846.0 extracted\n",
        "loading dataset into data structure...\n"
       ]
      },
      {
       "output_type": "stream",
       "stream": "stderr",
       "text": [
        "WARNING:root:sweep 23: ['Recording stopped before completing the experiment epoch']\n"
       ]
      },
      {
       "output_type": "stream",
       "stream": "stderr",
       "text": [
        "WARNING:root:sweep 24: ['Recording stopped before completing the experiment epoch']\n"
       ]
      },
      {
       "output_type": "stream",
       "stream": "stderr",
       "text": [
        "WARNING:root:sweep 25: ['Recording stopped before completing the experiment epoch']\n"
       ]
      },
      {
       "output_type": "stream",
       "stream": "stderr",
       "text": [
        "WARNING:root:sweep 26: ['Recording stopped before completing the experiment epoch']\n"
       ]
      },
      {
       "output_type": "stream",
       "stream": "stderr",
       "text": [
        "WARNING:root:sweep 27: ['Recording stopped before completing the experiment epoch']\n"
       ]
      },
      {
       "output_type": "stream",
       "stream": "stdout",
       "text": [
        "732017877.0 extracted\n",
        "loading dataset into data structure...\n"
       ]
      },
      {
       "output_type": "stream",
       "stream": "stderr",
       "text": [
        "WARNING:root:sweep 25: ['Recording stopped before completing the experiment epoch']\n"
       ]
      },
      {
       "output_type": "stream",
       "stream": "stderr",
       "text": [
        "WARNING:root:sweep 26: ['Recording stopped before completing the experiment epoch']\n"
       ]
      },
      {
       "output_type": "stream",
       "stream": "stderr",
       "text": [
        "WARNING:root:sweep 27: ['Recording stopped before completing the experiment epoch']\n"
       ]
      },
      {
       "output_type": "stream",
       "stream": "stderr",
       "text": [
        "WARNING:root:sweep 28: ['Recording stopped before completing the experiment epoch']\n"
       ]
      },
      {
       "output_type": "stream",
       "stream": "stderr",
       "text": [
        "WARNING:root:sweep 29: ['Recording stopped before completing the experiment epoch']\n"
       ]
      },
      {
       "output_type": "stream",
       "stream": "stdout",
       "text": [
        "732486682.0 extracted\n",
        "loading dataset into data structure...\n"
       ]
      },
      {
       "output_type": "stream",
       "stream": "stdout",
       "text": [
        "732518824.0 extracted\n",
        "loading dataset into data structure...\n"
       ]
      },
      {
       "output_type": "stream",
       "stream": "stderr",
       "text": [
        "WARNING:root:sweep 5: ['Recording stopped before completing the experiment epoch']\n"
       ]
      },
      {
       "output_type": "stream",
       "stream": "stderr",
       "text": [
        "WARNING:root:sweep 15: ['Recording stopped before completing the experiment epoch']\n"
       ]
      },
      {
       "output_type": "stream",
       "stream": "stderr",
       "text": [
        "WARNING:root:sweep 28: ['Recording stopped before completing the experiment epoch']\n"
       ]
      },
      {
       "output_type": "stream",
       "stream": "stdout",
       "text": [
        "732708277.0 extracted\n",
        "loading dataset into data structure...\n"
       ]
      },
      {
       "output_type": "stream",
       "stream": "stderr",
       "text": [
        "WARNING:root:sweep 5: ['Recording stopped before completing the experiment epoch']\n"
       ]
      },
      {
       "output_type": "stream",
       "stream": "stderr",
       "text": [
        "WARNING:root:sweep 17: ['Recording stopped before completing the experiment epoch']\n"
       ]
      },
      {
       "output_type": "stream",
       "stream": "stdout",
       "text": [
        "732718094.0 extracted\n",
        "loading dataset into data structure...\n"
       ]
      },
      {
       "output_type": "stream",
       "stream": "stderr",
       "text": [
        "WARNING:root:sweep 14: ['Recording stopped before completing the experiment epoch']\n"
       ]
      },
      {
       "output_type": "stream",
       "stream": "stdout",
       "text": [
        "732755070.0 extracted\n",
        "loading dataset into data structure...\n"
       ]
      },
      {
       "output_type": "stream",
       "stream": "stderr",
       "text": [
        "WARNING:root:sweep 27: ['Recording stopped before completing the experiment epoch']\n"
       ]
      },
      {
       "output_type": "stream",
       "stream": "stderr",
       "text": [
        "WARNING:root:sweep 28: ['Recording stopped before completing the experiment epoch']\n"
       ]
      },
      {
       "output_type": "stream",
       "stream": "stderr",
       "text": [
        "WARNING:root:sweep 29: ['Recording stopped before completing the experiment epoch']\n"
       ]
      },
      {
       "output_type": "stream",
       "stream": "stderr",
       "text": [
        "WARNING:root:sweep 30: ['Recording stopped before completing the experiment epoch']\n"
       ]
      },
      {
       "output_type": "stream",
       "stream": "stderr",
       "text": [
        "WARNING:root:sweep 31: ['Recording stopped before completing the experiment epoch']\n"
       ]
      },
      {
       "output_type": "stream",
       "stream": "stdout",
       "text": [
        "732765167.0 extracted\n",
        "loading dataset into data structure...\n"
       ]
      },
      {
       "output_type": "stream",
       "stream": "stderr",
       "text": [
        "/nethome/kcni/ychen/.local/lib/python3.6/site-packages/ipfx/spike_features.py:87: RuntimeWarning: invalid value encountered in less\n",
        "  width_levels[width_levels < v[spike_indexes]] = thresh_to_peak_levels[width_levels < v[spike_indexes]]\n"
       ]
      },
      {
       "output_type": "stream",
       "stream": "stdout",
       "text": [
        "732773383.0 extracted\n",
        "loading dataset into data structure...\n"
       ]
      },
      {
       "output_type": "stream",
       "stream": "stdout",
       "text": [
        "732783696.0 extracted\n",
        "loading dataset into data structure...\n"
       ]
      },
      {
       "output_type": "stream",
       "stream": "stderr",
       "text": [
        "WARNING:root:sweep 17: ['Recording stopped before completing the experiment epoch']\n"
       ]
      },
      {
       "output_type": "stream",
       "stream": "stderr",
       "text": [
        "WARNING:root:sweep 20: ['Recording stopped before completing the experiment epoch']\n"
       ]
      },
      {
       "output_type": "stream",
       "stream": "stdout",
       "text": [
        "733333331.0 extracted\n",
        "loading dataset into data structure...\n"
       ]
      },
      {
       "output_type": "stream",
       "stream": "stderr",
       "text": [
        "WARNING:root:sweep 4: ['Recording stopped before completing the experiment epoch']\n"
       ]
      },
      {
       "output_type": "stream",
       "stream": "stderr",
       "text": [
        "WARNING:root:sweep 5: ['Recording stopped before completing the experiment epoch']\n"
       ]
      },
      {
       "output_type": "stream",
       "stream": "stderr",
       "text": [
        "WARNING:root:sweep 7: ['Recording stopped before completing the experiment epoch']\n"
       ]
      },
      {
       "output_type": "stream",
       "stream": "stderr",
       "text": [
        "WARNING:root:sweep 8: ['Recording stopped before completing the experiment epoch']\n"
       ]
      },
      {
       "output_type": "stream",
       "stream": "stderr",
       "text": [
        "WARNING:root:sweep 9: ['Recording stopped before completing the experiment epoch']\n"
       ]
      },
      {
       "output_type": "stream",
       "stream": "stderr",
       "text": [
        "WARNING:root:sweep 20: ['Recording stopped before completing the experiment epoch']\n"
       ]
      },
      {
       "output_type": "stream",
       "stream": "stderr",
       "text": [
        "WARNING:root:sweep 22: ['Recording stopped before completing the experiment epoch']\n"
       ]
      },
      {
       "output_type": "stream",
       "stream": "stderr",
       "text": [
        "WARNING:root:sweep 38: ['Recording stopped before completing the experiment epoch']\n"
       ]
      },
      {
       "output_type": "stream",
       "stream": "stdout",
       "text": [
        "733375462.0 extracted\n",
        "loading dataset into data structure...\n"
       ]
      },
      {
       "output_type": "stream",
       "stream": "stderr",
       "text": [
        "WARNING:root:sweep 6: ['Recording stopped before completing the experiment epoch']\n"
       ]
      },
      {
       "output_type": "stream",
       "stream": "stderr",
       "text": [
        "WARNING:root:sweep 22: ['Recording stopped before completing the experiment epoch']\n"
       ]
      },
      {
       "output_type": "stream",
       "stream": "stderr",
       "text": [
        "WARNING:root:sweep 23: ['Recording stopped before completing the experiment epoch']\n"
       ]
      },
      {
       "output_type": "stream",
       "stream": "stdout",
       "text": [
        "733377050.0 extracted\n",
        "loading dataset into data structure...\n"
       ]
      },
      {
       "output_type": "stream",
       "stream": "stderr",
       "text": [
        "WARNING:root:sweep 13: ['Recording stopped before completing the experiment epoch']\n"
       ]
      },
      {
       "output_type": "stream",
       "stream": "stdout",
       "text": [
        "733483384.0 extracted\n",
        "loading dataset into data structure...\n"
       ]
      },
      {
       "output_type": "stream",
       "stream": "stderr",
       "text": [
        "WARNING:root:sweep 30: ['Recording stopped before completing the experiment epoch']\n"
       ]
      },
      {
       "output_type": "stream",
       "stream": "stderr",
       "text": [
        "/nethome/kcni/ychen/.local/lib/python3.6/site-packages/ipfx/spike_features.py:87: RuntimeWarning: invalid value encountered in less\n",
        "  width_levels[width_levels < v[spike_indexes]] = thresh_to_peak_levels[width_levels < v[spike_indexes]]\n"
       ]
      },
      {
       "output_type": "stream",
       "stream": "stdout",
       "text": [
        "733537608.0 extracted\n",
        "loading dataset into data structure...\n"
       ]
      },
      {
       "output_type": "stream",
       "stream": "stderr",
       "text": [
        "WARNING:root:sweep 4: ['Recording stopped before completing the experiment epoch']\n"
       ]
      },
      {
       "output_type": "stream",
       "stream": "stderr",
       "text": [
        "WARNING:root:sweep 17: ['Recording stopped before completing the experiment epoch']\n"
       ]
      },
      {
       "output_type": "stream",
       "stream": "stderr",
       "text": [
        "WARNING:root:sweep 24: ['Recording stopped before completing the experiment epoch']\n"
       ]
      },
      {
       "output_type": "stream",
       "stream": "stdout",
       "text": [
        "733619834.0 extracted\n",
        "loading dataset into data structure...\n"
       ]
      },
      {
       "output_type": "stream",
       "stream": "stdout",
       "text": [
        "734644382.0 extracted\n",
        "loading dataset into data structure...\n"
       ]
      },
      {
       "output_type": "stream",
       "stream": "stderr",
       "text": [
        "WARNING:root:sweep 20: ['Recording stopped before completing the experiment epoch']\n"
       ]
      },
      {
       "output_type": "stream",
       "stream": "stderr",
       "text": [
        "WARNING:root:sweep 36: ['Recording stopped before completing the experiment epoch']\n"
       ]
      },
      {
       "output_type": "stream",
       "stream": "stderr",
       "text": [
        "/nethome/kcni/ychen/.local/lib/python3.6/site-packages/ipfx/spike_features.py:87: RuntimeWarning: invalid value encountered in less\n",
        "  width_levels[width_levels < v[spike_indexes]] = thresh_to_peak_levels[width_levels < v[spike_indexes]]\n"
       ]
      },
      {
       "output_type": "stream",
       "stream": "stdout",
       "text": [
        "734651498.0 extracted\n",
        "loading dataset into data structure...\n"
       ]
      },
      {
       "output_type": "stream",
       "stream": "stderr",
       "text": [
        "WARNING:root:sweep 6: ['Recording stopped before completing the experiment epoch']\n"
       ]
      },
      {
       "output_type": "stream",
       "stream": "stderr",
       "text": [
        "WARNING:root:sweep 12: ['Recording stopped before completing the experiment epoch']\n"
       ]
      },
      {
       "output_type": "stream",
       "stream": "stdout",
       "text": [
        "734691771.0 extracted\n",
        "loading dataset into data structure...\n"
       ]
      },
      {
       "output_type": "stream",
       "stream": "stderr",
       "text": [
        "WARNING:root:sweep 7: ['Recording stopped before completing the experiment epoch']\n"
       ]
      },
      {
       "output_type": "stream",
       "stream": "stdout",
       "text": [
        "734717687.0 extracted\n",
        "loading dataset into data structure...\n"
       ]
      },
      {
       "output_type": "stream",
       "stream": "stderr",
       "text": [
        "WARNING:root:sweep 6: ['Recording stopped before completing the experiment epoch']\n"
       ]
      },
      {
       "output_type": "stream",
       "stream": "stderr",
       "text": [
        "WARNING:root:sweep 12: ['Recording stopped before completing the experiment epoch']\n"
       ]
      },
      {
       "output_type": "stream",
       "stream": "stderr",
       "text": [
        "WARNING:root:sweep 14: ['Recording stopped before completing the experiment epoch']\n"
       ]
      },
      {
       "output_type": "stream",
       "stream": "stderr",
       "text": [
        "WARNING:root:sweep 17: ['Recording stopped before completing the experiment epoch']\n"
       ]
      },
      {
       "output_type": "stream",
       "stream": "stderr",
       "text": [
        "WARNING:root:sweep 31: ['Recording stopped before completing the experiment epoch']\n"
       ]
      },
      {
       "output_type": "stream",
       "stream": "stdout",
       "text": [
        "734747421.0 extracted\n",
        "loading dataset into data structure...\n"
       ]
      },
      {
       "output_type": "stream",
       "stream": "stderr",
       "text": [
        "WARNING:root:sweep 27: ['Recording stopped before completing the experiment epoch']\n"
       ]
      },
      {
       "output_type": "stream",
       "stream": "stderr",
       "text": [
        "/nethome/kcni/ychen/.local/lib/python3.6/site-packages/ipfx/spike_features.py:87: RuntimeWarning: invalid value encountered in less\n",
        "  width_levels[width_levels < v[spike_indexes]] = thresh_to_peak_levels[width_levels < v[spike_indexes]]\n"
       ]
      },
      {
       "output_type": "stream",
       "stream": "stdout",
       "text": [
        "734802524.0 extracted\n",
        "loading dataset into data structure...\n"
       ]
      },
      {
       "output_type": "stream",
       "stream": "stderr",
       "text": [
        "WARNING:root:sweep 6: ['Recording stopped before completing the experiment epoch']\n"
       ]
      },
      {
       "output_type": "stream",
       "stream": "stderr",
       "text": [
        "WARNING:root:sweep 18: ['Recording stopped before completing the experiment epoch']\n"
       ]
      },
      {
       "output_type": "stream",
       "stream": "stderr",
       "text": [
        "WARNING:root:sweep 19: ['Recording stopped before completing the experiment epoch']\n"
       ]
      },
      {
       "output_type": "stream",
       "stream": "stderr",
       "text": [
        "WARNING:root:sweep 20: ['Recording stopped before completing the experiment epoch']\n"
       ]
      },
      {
       "output_type": "stream",
       "stream": "stderr",
       "text": [
        "WARNING:root:sweep 22: ['Recording stopped before completing the experiment epoch']\n"
       ]
      },
      {
       "output_type": "stream",
       "stream": "stderr",
       "text": [
        "WARNING:root:sweep 23: ['Recording stopped before completing the experiment epoch']\n"
       ]
      },
      {
       "output_type": "stream",
       "stream": "stderr",
       "text": [
        "WARNING:root:sweep 24: ['Recording stopped before completing the experiment epoch']\n"
       ]
      },
      {
       "output_type": "stream",
       "stream": "stderr",
       "text": [
        "WARNING:root:sweep 30: ['Recording stopped before completing the experiment epoch']\n"
       ]
      },
      {
       "output_type": "stream",
       "stream": "stderr",
       "text": [
        "WARNING:root:sweep 31: ['Recording stopped before completing the experiment epoch']\n"
       ]
      },
      {
       "output_type": "stream",
       "stream": "stderr",
       "text": [
        "WARNING:root:sweep 32: ['Recording stopped before completing the experiment epoch']\n"
       ]
      },
      {
       "output_type": "stream",
       "stream": "stdout",
       "text": [
        "735167623.0 extracted\n",
        "loading dataset into data structure...\n"
       ]
      },
      {
       "output_type": "stream",
       "stream": "stderr",
       "text": [
        "WARNING:root:sweep 12: ['Recording stopped before completing the experiment epoch']\n"
       ]
      },
      {
       "output_type": "stream",
       "stream": "stderr",
       "text": [
        "WARNING:root:sweep 13: ['Recording stopped before completing the experiment epoch']\n"
       ]
      },
      {
       "output_type": "stream",
       "stream": "stderr",
       "text": [
        "WARNING:root:sweep 14: ['Recording stopped before completing the experiment epoch']\n"
       ]
      },
      {
       "output_type": "stream",
       "stream": "stderr",
       "text": [
        "WARNING:root:sweep 15: ['Recording stopped before completing the experiment epoch']\n"
       ]
      },
      {
       "output_type": "stream",
       "stream": "stderr",
       "text": [
        "WARNING:root:sweep 37: ['Recording stopped before completing the experiment epoch']\n"
       ]
      },
      {
       "output_type": "stream",
       "stream": "stderr",
       "text": [
        "WARNING:root:sweep 41: ['Recording stopped before completing the experiment epoch']\n"
       ]
      },
      {
       "output_type": "stream",
       "stream": "stderr",
       "text": [
        "WARNING:root:sweep 42: ['Recording stopped before completing the experiment epoch']\n"
       ]
      },
      {
       "output_type": "stream",
       "stream": "stderr",
       "text": [
        "WARNING:root:sweep 43: ['Recording stopped before completing the experiment epoch']\n"
       ]
      },
      {
       "output_type": "stream",
       "stream": "stderr",
       "text": [
        "WARNING:root:sweep 44: ['Recording stopped before completing the experiment epoch']\n"
       ]
      },
      {
       "output_type": "stream",
       "stream": "stderr",
       "text": [
        "WARNING:root:sweep 45: ['Recording stopped before completing the experiment epoch']\n"
       ]
      },
      {
       "output_type": "stream",
       "stream": "stderr",
       "text": [
        "WARNING:root:sweep 46: ['Recording stopped before completing the experiment epoch']\n"
       ]
      },
      {
       "output_type": "stream",
       "stream": "stderr",
       "text": [
        "WARNING:root:sweep 47: ['Recording stopped before completing the experiment epoch']\n"
       ]
      },
      {
       "output_type": "stream",
       "stream": "stderr",
       "text": [
        "WARNING:root:sweep 48: ['Recording stopped before completing the experiment epoch']\n"
       ]
      },
      {
       "output_type": "stream",
       "stream": "stderr",
       "text": [
        "WARNING:root:sweep 49: ['Recording stopped before completing the experiment epoch']\n"
       ]
      },
      {
       "output_type": "stream",
       "stream": "stderr",
       "text": [
        "WARNING:root:sweep 50: ['Recording stopped before completing the experiment epoch']\n"
       ]
      },
      {
       "output_type": "stream",
       "stream": "stderr",
       "text": [
        "WARNING:root:sweep 51: ['Recording stopped before completing the experiment epoch']\n"
       ]
      },
      {
       "output_type": "stream",
       "stream": "stderr",
       "text": [
        "WARNING:root:sweep 53: ['Recording stopped before completing the experiment epoch']\n"
       ]
      },
      {
       "output_type": "stream",
       "stream": "stderr",
       "text": [
        "/nethome/kcni/ychen/.local/lib/python3.6/site-packages/ipfx/spike_features.py:87: RuntimeWarning: invalid value encountered in less\n",
        "  width_levels[width_levels < v[spike_indexes]] = thresh_to_peak_levels[width_levels < v[spike_indexes]]\n"
       ]
      },
      {
       "output_type": "stream",
       "stream": "stdout",
       "text": [
        "735174951.0 extracted\n",
        "loading dataset into data structure...\n"
       ]
      },
      {
       "output_type": "stream",
       "stream": "stderr",
       "text": [
        "WARNING:root:sweep 4: ['Recording stopped before completing the experiment epoch']\n"
       ]
      },
      {
       "output_type": "stream",
       "stream": "stderr",
       "text": [
        "WARNING:root:sweep 6: ['Recording stopped before completing the experiment epoch']\n"
       ]
      },
      {
       "output_type": "stream",
       "stream": "stderr",
       "text": [
        "WARNING:root:sweep 7: ['Recording stopped before completing the experiment epoch']\n"
       ]
      },
      {
       "output_type": "stream",
       "stream": "stderr",
       "text": [
        "WARNING:root:sweep 8: ['Recording stopped before completing the experiment epoch']\n"
       ]
      },
      {
       "output_type": "stream",
       "stream": "stderr",
       "text": [
        "WARNING:root:sweep 9: ['Recording stopped before completing the experiment epoch']\n"
       ]
      },
      {
       "output_type": "stream",
       "stream": "stderr",
       "text": [
        "WARNING:root:sweep 10: ['Recording stopped before completing the experiment epoch']\n"
       ]
      },
      {
       "output_type": "stream",
       "stream": "stderr",
       "text": [
        "WARNING:root:sweep 11: ['Recording stopped before completing the experiment epoch']\n"
       ]
      },
      {
       "output_type": "stream",
       "stream": "stderr",
       "text": [
        "WARNING:root:sweep 12: ['Recording stopped before completing the experiment epoch']\n"
       ]
      },
      {
       "output_type": "stream",
       "stream": "stderr",
       "text": [
        "WARNING:root:sweep 13: ['Recording stopped before completing the experiment epoch']\n"
       ]
      },
      {
       "output_type": "stream",
       "stream": "stderr",
       "text": [
        "WARNING:root:sweep 14: ['Recording stopped before completing the experiment epoch']\n"
       ]
      },
      {
       "output_type": "stream",
       "stream": "stderr",
       "text": [
        "WARNING:root:sweep 15: ['Recording stopped before completing the experiment epoch']\n"
       ]
      },
      {
       "output_type": "stream",
       "stream": "stderr",
       "text": [
        "WARNING:root:sweep 16: ['Recording stopped before completing the experiment epoch']\n"
       ]
      },
      {
       "output_type": "stream",
       "stream": "stderr",
       "text": [
        "WARNING:root:sweep 17: ['Recording stopped before completing the experiment epoch']\n"
       ]
      },
      {
       "output_type": "stream",
       "stream": "stderr",
       "text": [
        "WARNING:root:sweep 26: ['Recording stopped before completing the experiment epoch']\n"
       ]
      },
      {
       "output_type": "stream",
       "stream": "stdout",
       "text": [
        "736247974.0 extracted\n",
        "loading dataset into data structure...\n"
       ]
      },
      {
       "output_type": "stream",
       "stream": "stderr",
       "text": [
        "WARNING:root:sweep 6: ['Recording stopped before completing the experiment epoch']\n"
       ]
      },
      {
       "output_type": "stream",
       "stream": "stderr",
       "text": [
        "WARNING:root:sweep 8: ['Recording stopped before completing the experiment epoch']\n"
       ]
      },
      {
       "output_type": "stream",
       "stream": "stderr",
       "text": [
        "WARNING:root:sweep 13: ['Recording stopped before completing the experiment epoch']\n"
       ]
      },
      {
       "output_type": "stream",
       "stream": "stderr",
       "text": [
        "WARNING:root:sweep 32: ['Recording stopped before completing the experiment epoch']\n"
       ]
      },
      {
       "output_type": "stream",
       "stream": "stderr",
       "text": [
        "WARNING:root:sweep 33: ['Recording stopped before completing the experiment epoch']\n"
       ]
      },
      {
       "output_type": "stream",
       "stream": "stdout",
       "text": [
        "736282349.0 extracted\n",
        "loading dataset into data structure...\n"
       ]
      },
      {
       "output_type": "stream",
       "stream": "stdout",
       "text": [
        "736330755.0 extracted\n",
        "loading dataset into data structure...\n"
       ]
      },
      {
       "output_type": "stream",
       "stream": "stderr",
       "text": [
        "WARNING:root:sweep 6: ['Recording stopped before completing the experiment epoch']\n"
       ]
      },
      {
       "output_type": "stream",
       "stream": "stderr",
       "text": [
        "WARNING:root:sweep 7: ['Recording stopped before completing the experiment epoch']\n"
       ]
      },
      {
       "output_type": "stream",
       "stream": "stderr",
       "text": [
        "WARNING:root:sweep 8: ['Recording stopped before completing the experiment epoch']\n"
       ]
      },
      {
       "output_type": "stream",
       "stream": "stderr",
       "text": [
        "WARNING:root:sweep 16: ['Recording stopped before completing the experiment epoch']\n"
       ]
      },
      {
       "output_type": "stream",
       "stream": "stderr",
       "text": [
        "WARNING:root:sweep 17: ['Recording stopped before completing the experiment epoch']\n"
       ]
      },
      {
       "output_type": "stream",
       "stream": "stderr",
       "text": [
        "WARNING:root:sweep 18: ['Recording stopped before completing the experiment epoch']\n"
       ]
      },
      {
       "output_type": "stream",
       "stream": "stderr",
       "text": [
        "WARNING:root:sweep 19: ['Recording stopped before completing the experiment epoch']\n"
       ]
      },
      {
       "output_type": "stream",
       "stream": "stderr",
       "text": [
        "WARNING:root:sweep 20: ['Recording stopped before completing the experiment epoch']\n"
       ]
      },
      {
       "output_type": "stream",
       "stream": "stderr",
       "text": [
        "WARNING:root:sweep 21: ['Recording stopped before completing the experiment epoch']\n"
       ]
      },
      {
       "output_type": "stream",
       "stream": "stderr",
       "text": [
        "WARNING:root:sweep 23: ['Recording stopped before completing the experiment epoch']\n"
       ]
      },
      {
       "output_type": "stream",
       "stream": "stderr",
       "text": [
        "WARNING:root:sweep 24: ['Recording stopped before completing the experiment epoch']\n"
       ]
      },
      {
       "output_type": "stream",
       "stream": "stderr",
       "text": [
        "WARNING:root:sweep 25: ['Recording stopped before completing the experiment epoch']\n"
       ]
      },
      {
       "output_type": "stream",
       "stream": "stderr",
       "text": [
        "WARNING:root:sweep 26: ['Recording stopped before completing the experiment epoch']\n"
       ]
      },
      {
       "output_type": "stream",
       "stream": "stderr",
       "text": [
        "WARNING:root:sweep 27: ['Recording stopped before completing the experiment epoch']\n"
       ]
      },
      {
       "output_type": "stream",
       "stream": "stderr",
       "text": [
        "WARNING:root:sweep 28: ['Recording stopped before completing the experiment epoch']\n"
       ]
      },
      {
       "output_type": "stream",
       "stream": "stderr",
       "text": [
        "WARNING:root:sweep 29: ['Recording stopped before completing the experiment epoch']\n"
       ]
      },
      {
       "output_type": "stream",
       "stream": "stderr",
       "text": [
        "WARNING:root:sweep 31: ['Recording stopped before completing the experiment epoch']\n"
       ]
      },
      {
       "output_type": "stream",
       "stream": "stderr",
       "text": [
        "WARNING:root:sweep 32: ['Recording stopped before completing the experiment epoch']\n"
       ]
      },
      {
       "output_type": "stream",
       "stream": "stderr",
       "text": [
        "WARNING:root:sweep 33: ['Recording stopped before completing the experiment epoch']\n"
       ]
      },
      {
       "output_type": "stream",
       "stream": "stderr",
       "text": [
        "WARNING:root:sweep 34: ['Recording stopped before completing the experiment epoch']\n"
       ]
      },
      {
       "output_type": "stream",
       "stream": "stderr",
       "text": [
        "WARNING:root:sweep 35: ['Recording stopped before completing the experiment epoch']\n"
       ]
      },
      {
       "output_type": "stream",
       "stream": "stderr",
       "text": [
        "WARNING:root:sweep 37: ['Recording stopped before completing the experiment epoch']\n"
       ]
      },
      {
       "output_type": "stream",
       "stream": "stderr",
       "text": [
        "WARNING:root:sweep 40: ['Recording stopped before completing the experiment epoch']\n"
       ]
      },
      {
       "output_type": "stream",
       "stream": "stderr",
       "text": [
        "WARNING:root:sweep 55: ['Recording stopped before completing the experiment epoch']\n"
       ]
      },
      {
       "output_type": "stream",
       "stream": "stderr",
       "text": [
        "WARNING:root:sweep 59: ['Recording stopped before completing the experiment epoch']\n"
       ]
      },
      {
       "output_type": "stream",
       "stream": "stderr",
       "text": [
        "WARNING:root:sweep 69: ['Recording stopped before completing the experiment epoch']\n"
       ]
      },
      {
       "output_type": "stream",
       "stream": "stderr",
       "text": [
        "WARNING:root:sweep 73: ['Recording stopped before completing the experiment epoch']\n"
       ]
      },
      {
       "output_type": "stream",
       "stream": "stderr",
       "text": [
        "WARNING:root:sweep 79: ['Recording stopped before completing the experiment epoch']\n"
       ]
      },
      {
       "output_type": "stream",
       "stream": "stderr",
       "text": [
        "WARNING:root:sweep 85: ['Recording stopped before completing the experiment epoch']\n"
       ]
      },
      {
       "output_type": "stream",
       "stream": "stderr",
       "text": [
        "WARNING:root:sweep 97: ['Recording stopped before completing the experiment epoch']\n"
       ]
      },
      {
       "output_type": "stream",
       "stream": "stderr",
       "text": [
        "WARNING:root:sweep 111: ['Recording stopped before completing the experiment epoch']\n"
       ]
      },
      {
       "output_type": "stream",
       "stream": "stderr",
       "text": [
        "WARNING:root:sweep 113: ['Recording stopped before completing the experiment epoch']\n"
       ]
      },
      {
       "output_type": "stream",
       "stream": "stdout",
       "text": [
        "736466540.0 extracted\n",
        "loading dataset into data structure...\n"
       ]
      },
      {
       "output_type": "stream",
       "stream": "stderr",
       "text": [
        "/nethome/kcni/ychen/.local/lib/python3.6/site-packages/ipfx/spike_features.py:87: RuntimeWarning: invalid value encountered in less\n",
        "  width_levels[width_levels < v[spike_indexes]] = thresh_to_peak_levels[width_levels < v[spike_indexes]]\n"
       ]
      },
      {
       "output_type": "stream",
       "stream": "stdout",
       "text": [
        "736490544.0 extracted\n",
        "loading dataset into data structure...\n"
       ]
      },
      {
       "output_type": "stream",
       "stream": "stderr",
       "text": [
        "WARNING:root:sweep 14: ['Recording stopped before completing the experiment epoch']\n"
       ]
      },
      {
       "output_type": "stream",
       "stream": "stderr",
       "text": [
        "WARNING:root:sweep 17: ['Recording stopped before completing the experiment epoch']\n"
       ]
      },
      {
       "output_type": "stream",
       "stream": "stdout",
       "text": [
        "736490818.0 extracted\n",
        "loading dataset into data structure...\n"
       ]
      },
      {
       "output_type": "stream",
       "stream": "stderr",
       "text": [
        "WARNING:root:sweep 21: ['Recording stopped before completing the experiment epoch']\n"
       ]
      },
      {
       "output_type": "stream",
       "stream": "stdout",
       "text": [
        "736493069.0 extracted\n",
        "loading dataset into data structure...\n"
       ]
      },
      {
       "output_type": "stream",
       "stream": "stdout",
       "text": [
        "736493111.0 extracted\n"
       ]
      },
      {
       "output_type": "stream",
       "stream": "stdout",
       "text": [
        "loading dataset into data structure...\n"
       ]
      },
      {
       "output_type": "stream",
       "stream": "stderr",
       "text": [
        "WARNING:root:sweep 7: ['Recording stopped before completing the experiment epoch']\n"
       ]
      },
      {
       "output_type": "stream",
       "stream": "stderr",
       "text": [
        "WARNING:root:sweep 16: ['Recording stopped before completing the experiment epoch']\n"
       ]
      },
      {
       "output_type": "stream",
       "stream": "stderr",
       "text": [
        "WARNING:root:sweep 33: ['Recording stopped before completing the experiment epoch']\n"
       ]
      },
      {
       "output_type": "stream",
       "stream": "stdout",
       "text": [
        "736499204.0 extracted\n",
        "loading dataset into data structure...\n"
       ]
      },
      {
       "output_type": "stream",
       "stream": "stderr",
       "text": [
        "WARNING:root:sweep 12: ['Recording stopped before completing the experiment epoch']\n"
       ]
      },
      {
       "output_type": "stream",
       "stream": "stdout",
       "text": [
        "736501576.0 extracted\n",
        "loading dataset into data structure...\n"
       ]
      },
      {
       "output_type": "stream",
       "stream": "stderr",
       "text": [
        "WARNING:root:sweep 27: ['Recording stopped before completing the experiment epoch']\n"
       ]
      },
      {
       "output_type": "stream",
       "stream": "stderr",
       "text": [
        "WARNING:root:sweep 28: ['Recording stopped before completing the experiment epoch']\n"
       ]
      },
      {
       "output_type": "stream",
       "stream": "stdout",
       "text": [
        "736800603.0 extracted\n"
       ]
      },
      {
       "output_type": "stream",
       "stream": "stdout",
       "text": [
        "loading dataset into data structure...\n"
       ]
      },
      {
       "output_type": "stream",
       "stream": "stderr",
       "text": [
        "WARNING:root:sweep 16: ['Recording stopped before completing the experiment epoch']\n"
       ]
      },
      {
       "output_type": "stream",
       "stream": "stderr",
       "text": [
        "WARNING:root:sweep 23: ['Recording stopped before completing the experiment epoch']\n"
       ]
      },
      {
       "output_type": "stream",
       "stream": "stderr",
       "text": [
        "WARNING:root:sweep 24: ['Recording stopped before completing the experiment epoch']\n"
       ]
      },
      {
       "output_type": "stream",
       "stream": "stderr",
       "text": [
        "WARNING:root:sweep 25: ['Recording stopped before completing the experiment epoch']\n"
       ]
      },
      {
       "output_type": "stream",
       "stream": "stderr",
       "text": [
        "WARNING:root:sweep 26: ['Recording stopped before completing the experiment epoch']\n"
       ]
      },
      {
       "output_type": "stream",
       "stream": "stderr",
       "text": [
        "WARNING:root:sweep 27: ['Recording stopped before completing the experiment epoch']\n"
       ]
      },
      {
       "output_type": "stream",
       "stream": "stderr",
       "text": [
        "WARNING:root:sweep 28: ['Recording stopped before completing the experiment epoch']\n"
       ]
      },
      {
       "output_type": "stream",
       "stream": "stderr",
       "text": [
        "WARNING:root:sweep 29: ['Recording stopped before completing the experiment epoch']\n"
       ]
      },
      {
       "output_type": "stream",
       "stream": "stderr",
       "text": [
        "WARNING:root:sweep 41: ['Recording stopped before completing the experiment epoch']\n"
       ]
      },
      {
       "output_type": "stream",
       "stream": "stderr",
       "text": [
        "WARNING:root:sweep 42: ['Recording stopped before completing the experiment epoch']\n"
       ]
      },
      {
       "output_type": "stream",
       "stream": "stderr",
       "text": [
        "WARNING:root:sweep 43: ['Recording stopped before completing the experiment epoch']\n"
       ]
      },
      {
       "output_type": "stream",
       "stream": "stderr",
       "text": [
        "WARNING:root:sweep 45: ['Recording stopped before completing the experiment epoch']\n"
       ]
      },
      {
       "output_type": "stream",
       "stream": "stderr",
       "text": [
        "WARNING:root:sweep 46: ['Recording stopped before completing the experiment epoch']\n"
       ]
      },
      {
       "output_type": "stream",
       "stream": "stderr",
       "text": [
        "WARNING:root:sweep 47: ['Recording stopped before completing the experiment epoch']\n"
       ]
      },
      {
       "output_type": "stream",
       "stream": "stderr",
       "text": [
        "WARNING:root:sweep 48: ['Recording stopped before completing the experiment epoch']\n"
       ]
      },
      {
       "output_type": "stream",
       "stream": "stderr",
       "text": [
        "WARNING:root:sweep 50: ['Recording stopped before completing the experiment epoch']\n"
       ]
      },
      {
       "output_type": "stream",
       "stream": "stdout",
       "text": [
        "736800747.0 extracted\n",
        "loading dataset into data structure...\n"
       ]
      },
      {
       "output_type": "stream",
       "stream": "stderr",
       "text": [
        "WARNING:root:sweep 4: ['Recording stopped before completing the experiment epoch']\n"
       ]
      },
      {
       "output_type": "stream",
       "stream": "stderr",
       "text": [
        "WARNING:root:sweep 6: ['Recording stopped before completing the experiment epoch']\n"
       ]
      },
      {
       "output_type": "stream",
       "stream": "stderr",
       "text": [
        "WARNING:root:sweep 14: ['Recording stopped before completing the experiment epoch']\n"
       ]
      },
      {
       "output_type": "stream",
       "stream": "stderr",
       "text": [
        "WARNING:root:sweep 15: ['Recording stopped before completing the experiment epoch']\n"
       ]
      },
      {
       "output_type": "stream",
       "stream": "stderr",
       "text": [
        "WARNING:root:sweep 16: ['Recording stopped before completing the experiment epoch']\n"
       ]
      },
      {
       "output_type": "stream",
       "stream": "stderr",
       "text": [
        "WARNING:root:sweep 17: ['Recording stopped before completing the experiment epoch']\n"
       ]
      },
      {
       "output_type": "stream",
       "stream": "stderr",
       "text": [
        "WARNING:root:sweep 18: ['Recording stopped before completing the experiment epoch']\n"
       ]
      },
      {
       "output_type": "stream",
       "stream": "stderr",
       "text": [
        "WARNING:root:sweep 19: ['Recording stopped before completing the experiment epoch']\n"
       ]
      },
      {
       "output_type": "stream",
       "stream": "stderr",
       "text": [
        "WARNING:root:sweep 20: ['Recording stopped before completing the experiment epoch']\n"
       ]
      },
      {
       "output_type": "stream",
       "stream": "stderr",
       "text": [
        "WARNING:root:sweep 21: ['Recording stopped before completing the experiment epoch']\n"
       ]
      },
      {
       "output_type": "stream",
       "stream": "stderr",
       "text": [
        "WARNING:root:sweep 35: ['Recording stopped before completing the experiment epoch']\n"
       ]
      },
      {
       "output_type": "stream",
       "stream": "stderr",
       "text": [
        "WARNING:root:sweep 36: ['Recording stopped before completing the experiment epoch']\n"
       ]
      },
      {
       "output_type": "stream",
       "stream": "stdout",
       "text": [
        "736805833.0 extracted\n",
        "loading dataset into data structure...\n"
       ]
      },
      {
       "output_type": "stream",
       "stream": "stderr",
       "text": [
        "WARNING:root:sweep 6: ['Recording stopped before completing the experiment epoch']\n"
       ]
      },
      {
       "output_type": "stream",
       "stream": "stderr",
       "text": [
        "WARNING:root:sweep 14: ['Recording stopped before completing the experiment epoch']\n"
       ]
      },
      {
       "output_type": "stream",
       "stream": "stdout",
       "text": [
        "736811637.0 extracted\n",
        "loading dataset into data structure...\n"
       ]
      },
      {
       "output_type": "stream",
       "stream": "stderr",
       "text": [
        "WARNING:root:sweep 10: ['Recording stopped before completing the experiment epoch']\n"
       ]
      },
      {
       "output_type": "stream",
       "stream": "stderr",
       "text": [
        "WARNING:root:sweep 15: ['Recording stopped before completing the experiment epoch']\n"
       ]
      },
      {
       "output_type": "stream",
       "stream": "stderr",
       "text": [
        "WARNING:root:sweep 16: ['Recording stopped before completing the experiment epoch']\n"
       ]
      },
      {
       "output_type": "stream",
       "stream": "stdout",
       "text": [
        "736834462.0 extracted\n",
        "loading dataset into data structure...\n"
       ]
      },
      {
       "output_type": "stream",
       "stream": "stderr",
       "text": [
        "WARNING:root:sweep 11: ['Recording stopped before completing the experiment epoch']\n"
       ]
      },
      {
       "output_type": "stream",
       "stream": "stderr",
       "text": [
        "WARNING:root:sweep 26: ['Recording stopped before completing the experiment epoch']\n"
       ]
      },
      {
       "output_type": "stream",
       "stream": "stderr",
       "text": [
        "WARNING:root:sweep 28: ['Recording stopped before completing the experiment epoch']\n"
       ]
      },
      {
       "output_type": "stream",
       "stream": "stdout",
       "text": [
        "736884821.0 extracted\n",
        "loading dataset into data structure...\n"
       ]
      },
      {
       "output_type": "stream",
       "stream": "stderr",
       "text": [
        "WARNING:root:sweep 16: ['Recording stopped before completing the experiment epoch']\n"
       ]
      },
      {
       "output_type": "stream",
       "stream": "stdout",
       "text": [
        "736887426.0 extracted\n",
        "loading dataset into data structure...\n"
       ]
      },
      {
       "output_type": "stream",
       "stream": "stderr",
       "text": [
        "WARNING:root:sweep 13: ['Recording stopped before completing the experiment epoch']\n"
       ]
      },
      {
       "output_type": "stream",
       "stream": "stderr",
       "text": [
        "WARNING:root:sweep 20: ['Recording stopped before completing the experiment epoch']\n"
       ]
      },
      {
       "output_type": "stream",
       "stream": "stderr",
       "text": [
        "/nethome/kcni/ychen/.local/lib/python3.6/site-packages/ipfx/spike_features.py:87: RuntimeWarning: invalid value encountered in less\n",
        "  width_levels[width_levels < v[spike_indexes]] = thresh_to_peak_levels[width_levels < v[spike_indexes]]\n"
       ]
      },
      {
       "output_type": "stream",
       "stream": "stdout",
       "text": [
        "737181466.0 extracted\n",
        "loading dataset into data structure...\n"
       ]
      },
      {
       "output_type": "stream",
       "stream": "stderr",
       "text": [
        "WARNING:root:sweep 5: ['Recording stopped before completing the experiment epoch']\n"
       ]
      },
      {
       "output_type": "stream",
       "stream": "stderr",
       "text": [
        "WARNING:root:sweep 12: ['Recording stopped before completing the experiment epoch']\n"
       ]
      },
      {
       "output_type": "stream",
       "stream": "stderr",
       "text": [
        "WARNING:root:sweep 18: ['Recording stopped before completing the experiment epoch']\n"
       ]
      },
      {
       "output_type": "stream",
       "stream": "stdout",
       "text": [
        "737232125.0 extracted\n",
        "loading dataset into data structure...\n"
       ]
      },
      {
       "output_type": "stream",
       "stream": "stderr",
       "text": [
        "WARNING:root:sweep 18: ['Recording stopped before completing the experiment epoch']\n"
       ]
      },
      {
       "output_type": "stream",
       "stream": "stderr",
       "text": [
        "WARNING:root:sweep 19: ['Recording stopped before completing the experiment epoch']\n"
       ]
      },
      {
       "output_type": "stream",
       "stream": "stderr",
       "text": [
        "WARNING:root:sweep 22: ['Recording stopped before completing the experiment epoch']\n"
       ]
      },
      {
       "output_type": "stream",
       "stream": "stderr",
       "text": [
        "WARNING:root:sweep 35: ['Recording stopped before completing the experiment epoch']\n"
       ]
      },
      {
       "output_type": "stream",
       "stream": "stdout",
       "text": [
        "737379585.0 extracted\n",
        "loading dataset into data structure...\n"
       ]
      },
      {
       "output_type": "stream",
       "stream": "stderr",
       "text": [
        "WARNING:root:sweep 6: ['Recording stopped before completing the experiment epoch']\n"
       ]
      },
      {
       "output_type": "stream",
       "stream": "stderr",
       "text": [
        "WARNING:root:sweep 10: ['Recording stopped before completing the experiment epoch']\n"
       ]
      },
      {
       "output_type": "stream",
       "stream": "stderr",
       "text": [
        "WARNING:root:sweep 11: ['Recording stopped before completing the experiment epoch']\n"
       ]
      },
      {
       "output_type": "stream",
       "stream": "stderr",
       "text": [
        "WARNING:root:sweep 19: ['Recording stopped before completing the experiment epoch']\n"
       ]
      },
      {
       "output_type": "stream",
       "stream": "stderr",
       "text": [
        "/nethome/kcni/ychen/.local/lib/python3.6/site-packages/ipfx/spike_features.py:87: RuntimeWarning: invalid value encountered in less\n",
        "  width_levels[width_levels < v[spike_indexes]] = thresh_to_peak_levels[width_levels < v[spike_indexes]]\n"
       ]
      },
      {
       "output_type": "stream",
       "stream": "stdout",
       "text": [
        "737412666.0 extracted\n",
        "loading dataset into data structure...\n"
       ]
      },
      {
       "output_type": "stream",
       "stream": "stderr",
       "text": [
        "WARNING:root:sweep 12: ['Recording stopped before completing the experiment epoch']\n"
       ]
      },
      {
       "output_type": "stream",
       "stream": "stdout",
       "text": [
        "737459574.0 extracted\n",
        "loading dataset into data structure...\n"
       ]
      },
      {
       "output_type": "stream",
       "stream": "stderr",
       "text": [
        "WARNING:root:sweep 36: ['Recording stopped before completing the experiment epoch']\n"
       ]
      },
      {
       "output_type": "stream",
       "stream": "stdout",
       "text": [
        "737488739.0 extracted\n",
        "loading dataset into data structure...\n"
       ]
      },
      {
       "output_type": "stream",
       "stream": "stderr",
       "text": [
        "WARNING:root:sweep 29: ['Recording stopped before completing the experiment epoch']\n"
       ]
      },
      {
       "output_type": "stream",
       "stream": "stdout",
       "text": [
        "738039565.0 extracted\n",
        "loading dataset into data structure...\n"
       ]
      },
      {
       "output_type": "stream",
       "stream": "stderr",
       "text": [
        "WARNING:root:sweep 16: ['Recording stopped before completing the experiment epoch']\n"
       ]
      },
      {
       "output_type": "stream",
       "stream": "stdout",
       "text": [
        "738040602.0 extracted\n",
        "loading dataset into data structure...\n"
       ]
      },
      {
       "output_type": "stream",
       "stream": "stderr",
       "text": [
        "WARNING:root:sweep 26: ['Recording stopped before completing the experiment epoch']\n"
       ]
      },
      {
       "output_type": "stream",
       "stream": "stderr",
       "text": [
        "WARNING:root:sweep 31: ['Recording stopped before completing the experiment epoch']\n"
       ]
      },
      {
       "output_type": "stream",
       "stream": "stdout",
       "text": [
        "738041308.0 extracted\n",
        "loading dataset into data structure...\n"
       ]
      },
      {
       "output_type": "stream",
       "stream": "stderr",
       "text": [
        "WARNING:root:sweep 4: ['Recording stopped before completing the experiment epoch']\n"
       ]
      },
      {
       "output_type": "stream",
       "stream": "stderr",
       "text": [
        "WARNING:root:sweep 12: ['Recording stopped before completing the experiment epoch']\n"
       ]
      },
      {
       "output_type": "stream",
       "stream": "stdout",
       "text": [
        "738041476.0 extracted\n",
        "loading dataset into data structure...\n"
       ]
      },
      {
       "output_type": "stream",
       "stream": "stderr",
       "text": [
        "WARNING:root:sweep 26: ['Recording stopped before completing the experiment epoch']\n"
       ]
      },
      {
       "output_type": "stream",
       "stream": "stderr",
       "text": [
        "WARNING:root:sweep 30: ['Recording stopped before completing the experiment epoch']\n"
       ]
      },
      {
       "output_type": "stream",
       "stream": "stdout",
       "text": [
        "738041530.0 extracted\n",
        "loading dataset into data structure...\n"
       ]
      },
      {
       "output_type": "stream",
       "stream": "stderr",
       "text": [
        "WARNING:root:sweep 14: ['Recording stopped before completing the experiment epoch']\n"
       ]
      },
      {
       "output_type": "stream",
       "stream": "stderr",
       "text": [
        "WARNING:root:sweep 26: ['Recording stopped before completing the experiment epoch']\n"
       ]
      },
      {
       "output_type": "stream",
       "stream": "stdout",
       "text": [
        "738042857.0 extracted\n",
        "loading dataset into data structure...\n"
       ]
      },
      {
       "output_type": "stream",
       "stream": "stderr",
       "text": [
        "WARNING:root:sweep 6: ['Recording stopped before completing the experiment epoch']\n"
       ]
      },
      {
       "output_type": "stream",
       "stream": "stdout",
       "text": [
        "738043931.0 extracted\n",
        "loading dataset into data structure...\n"
       ]
      },
      {
       "output_type": "stream",
       "stream": "stderr",
       "text": [
        "WARNING:root:sweep 10: ['Recording stopped before completing the experiment epoch']\n"
       ]
      },
      {
       "output_type": "stream",
       "stream": "stdout",
       "text": [
        "738367245.0 extracted\n",
        "loading dataset into data structure...\n"
       ]
      },
      {
       "output_type": "stream",
       "stream": "stderr",
       "text": [
        "WARNING:root:sweep 10: ['Recording stopped before completing the experiment epoch']\n"
       ]
      },
      {
       "output_type": "stream",
       "stream": "stdout",
       "text": [
        "738401019.0 extracted\n",
        "loading dataset into data structure...\n"
       ]
      },
      {
       "output_type": "stream",
       "stream": "stdout",
       "text": [
        "738429639.0 extracted\n",
        "loading dataset into data structure...\n"
       ]
      },
      {
       "output_type": "stream",
       "stream": "stdout",
       "text": [
        "738442715.0 extracted\n",
        "loading dataset into data structure...\n"
       ]
      },
      {
       "output_type": "stream",
       "stream": "stderr",
       "text": [
        "WARNING:root:sweep 12: ['Recording stopped before completing the experiment epoch']\n"
       ]
      },
      {
       "output_type": "stream",
       "stream": "stdout",
       "text": [
        "738453781.0 extracted\n",
        "loading dataset into data structure...\n"
       ]
      },
      {
       "output_type": "stream",
       "stream": "stderr",
       "text": [
        "WARNING:root:sweep 24: ['Recording stopped before completing the experiment epoch']\n"
       ]
      },
      {
       "output_type": "stream",
       "stream": "stdout",
       "text": [
        "738468369.0 extracted\n",
        "loading dataset into data structure...\n"
       ]
      },
      {
       "output_type": "stream",
       "stream": "stderr",
       "text": [
        "WARNING:root:sweep 6: ['Recording stopped before completing the experiment epoch']\n"
       ]
      },
      {
       "output_type": "stream",
       "stream": "stderr",
       "text": [
        "WARNING:root:sweep 12: ['Recording stopped before completing the experiment epoch']\n"
       ]
      },
      {
       "output_type": "stream",
       "stream": "stdout",
       "text": [
        "738551522.0 extracted\n",
        "loading dataset into data structure...\n"
       ]
      },
      {
       "output_type": "stream",
       "stream": "stderr",
       "text": [
        "WARNING:root:sweep 14: ['Recording stopped before completing the experiment epoch']\n"
       ]
      },
      {
       "output_type": "stream",
       "stream": "stdout",
       "text": [
        "738651575.0 extracted\n",
        "loading dataset into data structure...\n"
       ]
      },
      {
       "output_type": "stream",
       "stream": "stderr",
       "text": [
        "WARNING:root:sweep 14: ['Recording stopped before completing the experiment epoch']\n"
       ]
      },
      {
       "output_type": "stream",
       "stream": "stdout",
       "text": [
        "738709906.0 extracted\n",
        "loading dataset into data structure...\n"
       ]
      },
      {
       "output_type": "stream",
       "stream": "stderr",
       "text": [
        "WARNING:root:sweep 6: ['Recording stopped before completing the experiment epoch']\n"
       ]
      },
      {
       "output_type": "stream",
       "stream": "stdout",
       "text": [
        "738745195.0 extracted\n",
        "loading dataset into data structure...\n"
       ]
      },
      {
       "output_type": "stream",
       "stream": "stderr",
       "text": [
        "WARNING:root:sweep 5: ['Recording stopped before completing the experiment epoch']\n"
       ]
      },
      {
       "output_type": "stream",
       "stream": "stdout",
       "text": [
        "738753600.0 extracted\n",
        "loading dataset into data structure...\n"
       ]
      },
      {
       "output_type": "stream",
       "stream": "stderr",
       "text": [
        "WARNING:root:sweep 11: ['Recording stopped before completing the experiment epoch']\n"
       ]
      },
      {
       "output_type": "stream",
       "stream": "stderr",
       "text": [
        "WARNING:root:sweep 14: ['Recording stopped before completing the experiment epoch']\n"
       ]
      },
      {
       "output_type": "stream",
       "stream": "stdout",
       "text": [
        "738768160.0 extracted\n",
        "loading dataset into data structure...\n"
       ]
      },
      {
       "output_type": "stream",
       "stream": "stderr",
       "text": [
        "WARNING:root:sweep 21: ['Recording stopped before completing the experiment epoch']\n"
       ]
      },
      {
       "output_type": "stream",
       "stream": "stderr",
       "text": [
        "WARNING:root:sweep 36: ['Recording stopped before completing the experiment epoch']\n"
       ]
      },
      {
       "output_type": "stream",
       "stream": "stdout",
       "text": [
        "738778332.0 extracted\n",
        "loading dataset into data structure...\n"
       ]
      },
      {
       "output_type": "stream",
       "stream": "stderr",
       "text": [
        "WARNING:root:sweep 15: ['Recording stopped before completing the experiment epoch']\n"
       ]
      },
      {
       "output_type": "stream",
       "stream": "stderr",
       "text": [
        "/nethome/kcni/ychen/.local/lib/python3.6/site-packages/ipfx/spike_features.py:87: RuntimeWarning: invalid value encountered in less\n",
        "  width_levels[width_levels < v[spike_indexes]] = thresh_to_peak_levels[width_levels < v[spike_indexes]]\n"
       ]
      },
      {
       "output_type": "stream",
       "stream": "stdout",
       "text": [
        "738783662.0 extracted\n",
        "loading dataset into data structure...\n"
       ]
      },
      {
       "output_type": "stream",
       "stream": "stdout",
       "text": [
        "738827343.0 extracted\n",
        "loading dataset into data structure...\n"
       ]
      },
      {
       "output_type": "stream",
       "stream": "stderr",
       "text": [
        "WARNING:root:sweep 15: ['Recording stopped before completing the experiment epoch']\n"
       ]
      },
      {
       "output_type": "stream",
       "stream": "stderr",
       "text": [
        "WARNING:root:sweep 43: ['Recording stopped before completing the experiment epoch']\n"
       ]
      },
      {
       "output_type": "stream",
       "stream": "stderr",
       "text": [
        "WARNING:root:sweep 47: ['Recording stopped before completing the experiment epoch']\n"
       ]
      },
      {
       "output_type": "stream",
       "stream": "stderr",
       "text": [
        "WARNING:root:sweep 67: ['Recording stopped before completing the experiment epoch']\n"
       ]
      },
      {
       "ename": "ValueError",
       "evalue": "attempt to get argmax of an empty sequence",
       "output_type": "pyerr",
       "traceback": [
        "\u001b[0;31m---------------------------------------------------------------------------\u001b[0m",
        "\u001b[0;31mValueError\u001b[0m                                Traceback (most recent call last)",
        "\u001b[0;32m<ipython-input-4-fd577292a1af>\u001b[0m in \u001b[0;36m<module>\u001b[0;34m\u001b[0m\n\u001b[1;32m     56\u001b[0m         \u001b[0;31m# run the analysis and print out a few of the features\u001b[0m\u001b[0;34m\u001b[0m\u001b[0;34m\u001b[0m\u001b[0;34m\u001b[0m\u001b[0m\n\u001b[1;32m     57\u001b[0m         \u001b[0mlong_square_analysis\u001b[0m \u001b[0;34m=\u001b[0m \u001b[0mspa\u001b[0m\u001b[0;34m.\u001b[0m\u001b[0mLongSquareAnalysis\u001b[0m\u001b[0;34m(\u001b[0m\u001b[0mspfx\u001b[0m\u001b[0;34m,\u001b[0m \u001b[0msptfx\u001b[0m\u001b[0;34m,\u001b[0m \u001b[0msubthresh_min_amp\u001b[0m\u001b[0;34m=\u001b[0m\u001b[0;34m-\u001b[0m\u001b[0;36m100.0\u001b[0m\u001b[0;34m)\u001b[0m\u001b[0;34m\u001b[0m\u001b[0;34m\u001b[0m\u001b[0m\n\u001b[0;32m---> 58\u001b[0;31m         \u001b[0mdata\u001b[0m \u001b[0;34m=\u001b[0m \u001b[0mlong_square_analysis\u001b[0m\u001b[0;34m.\u001b[0m\u001b[0manalyze\u001b[0m\u001b[0;34m(\u001b[0m\u001b[0mlong_square_sweeps\u001b[0m\u001b[0;34m)\u001b[0m\u001b[0;34m\u001b[0m\u001b[0;34m\u001b[0m\u001b[0m\n\u001b[0m\u001b[1;32m     59\u001b[0m \u001b[0;34m\u001b[0m\u001b[0m\n\u001b[1;32m     60\u001b[0m         \u001b[0mspecimen_dict\u001b[0m \u001b[0;34m=\u001b[0m \u001b[0msummarize_cell_ephys_features\u001b[0m\u001b[0;34m(\u001b[0m\u001b[0mdata\u001b[0m\u001b[0;34m)\u001b[0m\u001b[0;34m\u001b[0m\u001b[0;34m\u001b[0m\u001b[0m\n",
        "\u001b[0;32m~/.local/lib/python3.6/site-packages/ipfx/stimulus_protocol_analysis.py\u001b[0m in \u001b[0;36manalyze\u001b[0;34m(self, sweep_set)\u001b[0m\n\u001b[1;32m    129\u001b[0m \u001b[0;34m\u001b[0m\u001b[0m\n\u001b[1;32m    130\u001b[0m         \u001b[0mextra_sweep_feature_names\u001b[0m \u001b[0;34m=\u001b[0m \u001b[0;34m[\u001b[0m\u001b[0;34m'peak_deflect'\u001b[0m\u001b[0;34m,\u001b[0m\u001b[0;34m'stim_amp'\u001b[0m\u001b[0;34m,\u001b[0m\u001b[0;34m'v_baseline'\u001b[0m\u001b[0;34m,\u001b[0m\u001b[0;34m'sag'\u001b[0m\u001b[0;34m]\u001b[0m\u001b[0;34m\u001b[0m\u001b[0;34m\u001b[0m\u001b[0m\n\u001b[0;32m--> 131\u001b[0;31m         \u001b[0mfeatures\u001b[0m \u001b[0;34m=\u001b[0m \u001b[0msuper\u001b[0m\u001b[0;34m(\u001b[0m\u001b[0mLongSquareAnalysis\u001b[0m\u001b[0;34m,\u001b[0m \u001b[0mself\u001b[0m\u001b[0;34m)\u001b[0m\u001b[0;34m.\u001b[0m\u001b[0manalyze\u001b[0m\u001b[0;34m(\u001b[0m\u001b[0msweep_set\u001b[0m\u001b[0;34m,\u001b[0m \u001b[0mextra_sweep_features\u001b[0m\u001b[0;34m=\u001b[0m\u001b[0mextra_sweep_feature_names\u001b[0m\u001b[0;34m)\u001b[0m\u001b[0;34m\u001b[0m\u001b[0;34m\u001b[0m\u001b[0m\n\u001b[0m\u001b[1;32m    132\u001b[0m \u001b[0;34m\u001b[0m\u001b[0m\n\u001b[1;32m    133\u001b[0m         \u001b[0mfeatures\u001b[0m\u001b[0;34m[\u001b[0m\u001b[0;34m\"v_baseline\"\u001b[0m\u001b[0;34m]\u001b[0m \u001b[0;34m=\u001b[0m \u001b[0mnp\u001b[0m\u001b[0;34m.\u001b[0m\u001b[0mnanmean\u001b[0m\u001b[0;34m(\u001b[0m\u001b[0mself\u001b[0m\u001b[0;34m.\u001b[0m\u001b[0m_sweep_features\u001b[0m\u001b[0;34m[\u001b[0m\u001b[0;34m\"v_baseline\"\u001b[0m\u001b[0;34m]\u001b[0m\u001b[0;34m.\u001b[0m\u001b[0mvalues\u001b[0m\u001b[0;34m)\u001b[0m\u001b[0;34m\u001b[0m\u001b[0;34m\u001b[0m\u001b[0m\n",
        "\u001b[0;32m~/.local/lib/python3.6/site-packages/ipfx/stimulus_protocol_analysis.py\u001b[0m in \u001b[0;36manalyze\u001b[0;34m(self, sweep_set, extra_sweep_features, exclude_clipped)\u001b[0m\n\u001b[1;32m     82\u001b[0m \u001b[0;34m\u001b[0m\u001b[0m\n\u001b[1;32m     83\u001b[0m     \u001b[0;32mdef\u001b[0m \u001b[0manalyze\u001b[0m\u001b[0;34m(\u001b[0m\u001b[0mself\u001b[0m\u001b[0;34m,\u001b[0m \u001b[0msweep_set\u001b[0m\u001b[0;34m,\u001b[0m \u001b[0mextra_sweep_features\u001b[0m\u001b[0;34m=\u001b[0m\u001b[0;32mNone\u001b[0m\u001b[0;34m,\u001b[0m \u001b[0mexclude_clipped\u001b[0m\u001b[0;34m=\u001b[0m\u001b[0;32mFalse\u001b[0m\u001b[0;34m)\u001b[0m\u001b[0;34m:\u001b[0m\u001b[0;34m\u001b[0m\u001b[0;34m\u001b[0m\u001b[0m\n\u001b[0;32m---> 84\u001b[0;31m         \u001b[0mself\u001b[0m\u001b[0;34m.\u001b[0m\u001b[0manalyze_basic_features\u001b[0m\u001b[0;34m(\u001b[0m\u001b[0msweep_set\u001b[0m\u001b[0;34m,\u001b[0m \u001b[0mextra_sweep_features\u001b[0m\u001b[0;34m=\u001b[0m\u001b[0mextra_sweep_features\u001b[0m\u001b[0;34m,\u001b[0m \u001b[0mexclude_clipped\u001b[0m\u001b[0;34m=\u001b[0m\u001b[0mexclude_clipped\u001b[0m\u001b[0;34m)\u001b[0m\u001b[0;34m\u001b[0m\u001b[0;34m\u001b[0m\u001b[0m\n\u001b[0m\u001b[1;32m     85\u001b[0m         \u001b[0;32mreturn\u001b[0m \u001b[0;34m{\u001b[0m\u001b[0;34m\"spikes_set\"\u001b[0m\u001b[0;34m:\u001b[0m \u001b[0mself\u001b[0m\u001b[0;34m.\u001b[0m\u001b[0m_spikes_set\u001b[0m\u001b[0;34m,\u001b[0m \u001b[0;34m\"sweeps\"\u001b[0m\u001b[0;34m:\u001b[0m \u001b[0mself\u001b[0m\u001b[0;34m.\u001b[0m\u001b[0m_sweep_features\u001b[0m\u001b[0;34m}\u001b[0m\u001b[0;34m\u001b[0m\u001b[0;34m\u001b[0m\u001b[0m\n\u001b[1;32m     86\u001b[0m \u001b[0;34m\u001b[0m\u001b[0m\n",
        "\u001b[0;32m~/.local/lib/python3.6/site-packages/ipfx/stimulus_protocol_analysis.py\u001b[0m in \u001b[0;36manalyze_basic_features\u001b[0;34m(self, sweep_set, extra_sweep_features, exclude_clipped)\u001b[0m\n\u001b[1;32m     75\u001b[0m \u001b[0;34m\u001b[0m\u001b[0m\n\u001b[1;32m     76\u001b[0m         self._sweep_features = pd.DataFrame([ self.sptx.process(sweep.t, sweep.v, sweep.i, spikes, extra_sweep_features, exclude_clipped=exclude_clipped)\n\u001b[0;32m---> 77\u001b[0;31m                                               for sweep, spikes in zip(sweep_set.sweeps, self._spikes_set) ])\n\u001b[0m\u001b[1;32m     78\u001b[0m \u001b[0;34m\u001b[0m\u001b[0m\n\u001b[1;32m     79\u001b[0m     \u001b[0;32mdef\u001b[0m \u001b[0mreset_basic_features\u001b[0m\u001b[0;34m(\u001b[0m\u001b[0mself\u001b[0m\u001b[0;34m)\u001b[0m\u001b[0;34m:\u001b[0m\u001b[0;34m\u001b[0m\u001b[0;34m\u001b[0m\u001b[0m\n",
        "\u001b[0;32m~/.local/lib/python3.6/site-packages/ipfx/stimulus_protocol_analysis.py\u001b[0m in \u001b[0;36m<listcomp>\u001b[0;34m(.0)\u001b[0m\n\u001b[1;32m     75\u001b[0m \u001b[0;34m\u001b[0m\u001b[0m\n\u001b[1;32m     76\u001b[0m         self._sweep_features = pd.DataFrame([ self.sptx.process(sweep.t, sweep.v, sweep.i, spikes, extra_sweep_features, exclude_clipped=exclude_clipped)\n\u001b[0;32m---> 77\u001b[0;31m                                               for sweep, spikes in zip(sweep_set.sweeps, self._spikes_set) ])\n\u001b[0m\u001b[1;32m     78\u001b[0m \u001b[0;34m\u001b[0m\u001b[0m\n\u001b[1;32m     79\u001b[0m     \u001b[0;32mdef\u001b[0m \u001b[0mreset_basic_features\u001b[0m\u001b[0;34m(\u001b[0m\u001b[0mself\u001b[0m\u001b[0;34m)\u001b[0m\u001b[0;34m:\u001b[0m\u001b[0;34m\u001b[0m\u001b[0;34m\u001b[0m\u001b[0m\n",
        "\u001b[0;32m~/.local/lib/python3.6/site-packages/ipfx/feature_extractor.py\u001b[0m in \u001b[0;36mprocess\u001b[0;34m(self, t, v, i, spikes_df, extra_features, exclude_clipped)\u001b[0m\n\u001b[1;32m    272\u001b[0m \u001b[0;34m\u001b[0m\u001b[0m\n\u001b[1;32m    273\u001b[0m         \u001b[0;32mif\u001b[0m \u001b[0;34m'peak_deflect'\u001b[0m \u001b[0;32min\u001b[0m \u001b[0mextra_features\u001b[0m\u001b[0;34m:\u001b[0m\u001b[0;34m\u001b[0m\u001b[0;34m\u001b[0m\u001b[0m\n\u001b[0;32m--> 274\u001b[0;31m             \u001b[0mfeatures\u001b[0m\u001b[0;34m[\u001b[0m\u001b[0;34m'peak_deflect'\u001b[0m\u001b[0;34m]\u001b[0m \u001b[0;34m=\u001b[0m \u001b[0msubf\u001b[0m\u001b[0;34m.\u001b[0m\u001b[0mvoltage_deflection\u001b[0m\u001b[0;34m(\u001b[0m\u001b[0mt\u001b[0m\u001b[0;34m,\u001b[0m \u001b[0mv\u001b[0m\u001b[0;34m,\u001b[0m \u001b[0mi\u001b[0m\u001b[0;34m,\u001b[0m \u001b[0mself\u001b[0m\u001b[0;34m.\u001b[0m\u001b[0mstart\u001b[0m\u001b[0;34m,\u001b[0m \u001b[0mself\u001b[0m\u001b[0;34m.\u001b[0m\u001b[0mend\u001b[0m\u001b[0;34m,\u001b[0m \u001b[0mself\u001b[0m\u001b[0;34m.\u001b[0m\u001b[0mdeflect_type\u001b[0m\u001b[0;34m)\u001b[0m\u001b[0;34m\u001b[0m\u001b[0;34m\u001b[0m\u001b[0m\n\u001b[0m\u001b[1;32m    275\u001b[0m \u001b[0;34m\u001b[0m\u001b[0m\n\u001b[1;32m    276\u001b[0m         \u001b[0;32mif\u001b[0m \u001b[0;34m'stim_amp'\u001b[0m \u001b[0;32min\u001b[0m \u001b[0mextra_features\u001b[0m\u001b[0;34m:\u001b[0m\u001b[0;34m\u001b[0m\u001b[0;34m\u001b[0m\u001b[0m\n",
        "\u001b[0;32m~/.local/lib/python3.6/site-packages/ipfx/subthresh_features.py\u001b[0m in \u001b[0;36mvoltage_deflection\u001b[0;34m(t, v, i, start, end, deflect_type)\u001b[0m\n\u001b[1;32m     65\u001b[0m \u001b[0;34m\u001b[0m\u001b[0m\n\u001b[1;32m     66\u001b[0m     \u001b[0mv_window\u001b[0m \u001b[0;34m=\u001b[0m \u001b[0mv\u001b[0m\u001b[0;34m[\u001b[0m\u001b[0mstart_index\u001b[0m\u001b[0;34m:\u001b[0m\u001b[0mend_index\u001b[0m\u001b[0;34m]\u001b[0m\u001b[0;34m\u001b[0m\u001b[0;34m\u001b[0m\u001b[0m\n\u001b[0;32m---> 67\u001b[0;31m     \u001b[0mdeflect_index\u001b[0m \u001b[0;34m=\u001b[0m \u001b[0mdeflect_func\u001b[0m\u001b[0;34m(\u001b[0m\u001b[0mv_window\u001b[0m\u001b[0;34m)\u001b[0m \u001b[0;34m+\u001b[0m \u001b[0mstart_index\u001b[0m\u001b[0;34m\u001b[0m\u001b[0;34m\u001b[0m\u001b[0m\n\u001b[0m\u001b[1;32m     68\u001b[0m \u001b[0;34m\u001b[0m\u001b[0m\n\u001b[1;32m     69\u001b[0m     \u001b[0;32mreturn\u001b[0m \u001b[0mv\u001b[0m\u001b[0;34m[\u001b[0m\u001b[0mdeflect_index\u001b[0m\u001b[0;34m]\u001b[0m\u001b[0;34m,\u001b[0m \u001b[0mdeflect_index\u001b[0m\u001b[0;34m\u001b[0m\u001b[0;34m\u001b[0m\u001b[0m\n",
        "\u001b[0;32m<__array_function__ internals>\u001b[0m in \u001b[0;36margmax\u001b[0;34m(*args, **kwargs)\u001b[0m\n",
        "\u001b[0;32m/quarantine/PYTHON/anaconda3/envs/py36/lib/python3.6/site-packages/numpy/core/fromnumeric.py\u001b[0m in \u001b[0;36margmax\u001b[0;34m(a, axis, out)\u001b[0m\n\u001b[1;32m   1151\u001b[0m \u001b[0;34m\u001b[0m\u001b[0m\n\u001b[1;32m   1152\u001b[0m     \"\"\"\n\u001b[0;32m-> 1153\u001b[0;31m     \u001b[0;32mreturn\u001b[0m \u001b[0m_wrapfunc\u001b[0m\u001b[0;34m(\u001b[0m\u001b[0ma\u001b[0m\u001b[0;34m,\u001b[0m \u001b[0;34m'argmax'\u001b[0m\u001b[0;34m,\u001b[0m \u001b[0maxis\u001b[0m\u001b[0;34m=\u001b[0m\u001b[0maxis\u001b[0m\u001b[0;34m,\u001b[0m \u001b[0mout\u001b[0m\u001b[0;34m=\u001b[0m\u001b[0mout\u001b[0m\u001b[0;34m)\u001b[0m\u001b[0;34m\u001b[0m\u001b[0;34m\u001b[0m\u001b[0m\n\u001b[0m\u001b[1;32m   1154\u001b[0m \u001b[0;34m\u001b[0m\u001b[0m\n\u001b[1;32m   1155\u001b[0m \u001b[0;34m\u001b[0m\u001b[0m\n",
        "\u001b[0;32m/quarantine/PYTHON/anaconda3/envs/py36/lib/python3.6/site-packages/numpy/core/fromnumeric.py\u001b[0m in \u001b[0;36m_wrapfunc\u001b[0;34m(obj, method, *args, **kwds)\u001b[0m\n\u001b[1;32m     59\u001b[0m \u001b[0;34m\u001b[0m\u001b[0m\n\u001b[1;32m     60\u001b[0m     \u001b[0;32mtry\u001b[0m\u001b[0;34m:\u001b[0m\u001b[0;34m\u001b[0m\u001b[0;34m\u001b[0m\u001b[0m\n\u001b[0;32m---> 61\u001b[0;31m         \u001b[0;32mreturn\u001b[0m \u001b[0mbound\u001b[0m\u001b[0;34m(\u001b[0m\u001b[0;34m*\u001b[0m\u001b[0margs\u001b[0m\u001b[0;34m,\u001b[0m \u001b[0;34m**\u001b[0m\u001b[0mkwds\u001b[0m\u001b[0;34m)\u001b[0m\u001b[0;34m\u001b[0m\u001b[0;34m\u001b[0m\u001b[0m\n\u001b[0m\u001b[1;32m     62\u001b[0m     \u001b[0;32mexcept\u001b[0m \u001b[0mTypeError\u001b[0m\u001b[0;34m:\u001b[0m\u001b[0;34m\u001b[0m\u001b[0;34m\u001b[0m\u001b[0m\n\u001b[1;32m     63\u001b[0m         \u001b[0;31m# A TypeError occurs if the object does have such a method in its\u001b[0m\u001b[0;34m\u001b[0m\u001b[0;34m\u001b[0m\u001b[0;34m\u001b[0m\u001b[0m\n",
        "\u001b[0;31mValueError\u001b[0m: attempt to get argmax of an empty sequence"
       ]
      }
     ],
     "prompt_number": 4
    }
   ],
   "metadata": {}
  }
 ]
}
