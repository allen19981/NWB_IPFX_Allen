{
 "metadata": {
  "kernelspec": {
   "display_name": "Python 3",
   "language": "python",
   "name": "python3"
  },
  "language_info": {
   "codemirror_mode": {
    "name": "ipython",
    "version": 3
   },
   "file_extension": ".py",
   "mimetype": "text/x-python",
   "name": "python",
   "nbconvert_exporter": "python",
   "pygments_lexer": "ipython3",
   "version": "3.7.1"
  },
  "name": ""
 },
 "nbformat": 3,
 "nbformat_minor": 0,
 "worksheets": [
  {
   "cells": [
    {
     "cell_type": "code",
     "collapsed": false,
     "input": [
      "# Load IPFX libraries\n",
      "from ipfx.dataset.create import create_ephys_data_set\n",
      "from ipfx.data_set_features import extract_data_set_features\n",
      "from ipfx.utilities import drop_failed_sweeps\n",
      "\n",
      "# Load pandas library too\n",
      "import pandas as pd\n",
      "human_data_dict = {}"
     ],
     "language": "python",
     "metadata": {},
     "outputs": [],
     "prompt_number": 1
    },
    {
     "cell_type": "code",
     "collapsed": false,
     "input": [
      "from ipfx.data_access import get_archive_info\n",
      "archive_url, file_manifest, experiment_metadata = get_archive_info(dataset=\"human\")\n",
      "human_specimen_id = list(experiment_metadata['cell_specimen_id'])\n",
      "file_manifest\n",
      "file_name_dict = {}\n",
      "for index, row in file_manifest.iterrows():\n",
      "    if row[\"file_name\"][-4:] == \".nwb\":\n",
      "        file_name_dict[row[\"cell_specimen_id\"]] = row[\"file_name\"]\n",
      "        \n",
      "new_file_name = {}\n",
      "index = 0\n",
      "for item in file_name_dict:\n",
      "    if index > 219:\n",
      "        new_file_name[item] = file_name_dict[item]\n",
      "    index += 1\n",
      "\n",
      "file_name_dict = new_file_name"
     ],
     "language": "python",
     "metadata": {},
     "outputs": [],
     "prompt_number": 2
    },
    {
     "cell_type": "code",
     "collapsed": false,
     "input": [
      "def summarize_cell_ephys_features(lsa_results):\n",
      "    hero_keep_features = ['adapt', 'avg_rate', 'first_isi', 'isi_cv', 'latency', 'mean_isi', 'median_isi', \n",
      "                          'stim_amp']\n",
      "    rheo_keep_features = ['threshold_v', 'peak_v', 'trough_v', \n",
      "     'fast_trough_v', 'adp_v', 'width', 'upstroke_downstroke_ratio', 'peak_t', 'fast_trough_t', 'trough_t']\n",
      "    \n",
      "    overall_cell_keep_features = ['v_baseline', 'rheobase_i', 'fi_fit_slope', \n",
      "                                  'sag', 'vm_for_sag', 'input_resistance', 'tau']\n",
      "    \n",
      "    hero_small_dict = lsa_results['hero_sweep'][hero_keep_features]\n",
      "    rheobase_sweep_index = lsa_results['rheobase_sweep'].name\n",
      "    rheobase_sweep = lsa_results['spikes_set'][rheobase_sweep_index].iloc[0]\n",
      "    \n",
      "    rheo_spike_small_dict = rheobase_sweep[rheo_keep_features]\n",
      "    rheo_first_isi = lsa_results['rheobase_sweep']['first_isi']\n",
      "    rheo_spike_small_dict['rheo_first_isi'] = rheo_first_isi\n",
      "\n",
      "    spike_comb_dict = {**hero_small_dict, **rheo_spike_small_dict}\n",
      "\n",
      "    overall_cell_features = {x: lsa_results[x] for x in overall_cell_keep_features if x in lsa_results}\n",
      "    final_cell_feature_dict = {**spike_comb_dict, **overall_cell_features}\n",
      "    return(final_cell_feature_dict)"
     ],
     "language": "python",
     "metadata": {},
     "outputs": [],
     "prompt_number": 3
    },
    {
     "cell_type": "code",
     "collapsed": false,
     "input": [
      "import urllib.request\n",
      "from ipfx.dataset.create import create_ephys_data_set\n",
      "from ipfx.utilities import drop_failed_sweeps\n",
      "\n",
      "for item in file_name_dict:\n",
      "    specimen_id = item\n",
      "    file_name_spec = file_name_dict[item]\n",
      "#     row = file_manifest.query('cell_specimen_id == {} & technique == \"intracellular_electrophysiology\"'.format(specimen_id))\n",
      "#     archive_uri = row['archive_uri'].values[0]\n",
      "#     file_name = row['file_name'].values[0]\n",
      "#     print('Intrinsic ephys file url: ' + archive_uri)\n",
      "#     print('Intrinsic ephys file name: ' + file_name)\n",
      "\n",
      "#     print('downloading data for cell from DANDI...')\n",
      "    try:\n",
      "#         urllib.request.urlretrieve(archive_uri, file_name)\n",
      "#         print('data downloaded!')\n",
      "\n",
      "        # Create Ephys Data Set\n",
      "\n",
      "        print('loading dataset into data structure...')\n",
      "        nwb_file_name = '/external/rprshnas01/netdata_kcni/stlab/AIBS_patchseq_2020/human/ephys/000023/{}'.format(file_name_spec)\n",
      "        data_set = create_ephys_data_set(nwb_file=nwb_file_name) ##loads nwb file into ipfx data structure\n",
      "\n",
      "        # Drop failed sweeps: sweeps with incomplete recording or failing QC criteria\n",
      "        drop_failed_sweeps(data_set)\n",
      "\n",
      "        from ipfx.feature_extractor import SpikeFeatureExtractor, SpikeTrainFeatureExtractor\n",
      "\n",
      "        import ipfx.stimulus_protocol_analysis as spa\n",
      "        from ipfx.epochs import get_stim_epoch\n",
      "        import matplotlib.pyplot as plt\n",
      "\n",
      "\n",
      "        # get sweep table of Long Square sweeps\n",
      "        long_square_table = data_set.filtered_sweep_table(\n",
      "            stimuli=data_set.ontology.long_square_names\n",
      "        )\n",
      "        long_square_sweeps = data_set.sweep_set(long_square_table.sweep_number)\n",
      "\n",
      "        # Select epoch corresponding to the actual recording from the sweeps\n",
      "        # and align sweeps so that the experiment would start at the same time\n",
      "        long_square_sweeps.select_epoch(\"recording\")\n",
      "        long_square_sweeps.align_to_start_of_epoch(\"experiment\")\n",
      "\n",
      "        # find the start and end time of the stimulus\n",
      "        # (treating the first sweep as representative)\n",
      "        stim_start_index, stim_end_index = get_stim_epoch(long_square_sweeps.i[0])\n",
      "        stim_start_time = long_square_sweeps.t[0][stim_start_index]\n",
      "        stim_end_time = long_square_sweeps.t[0][stim_end_index]\n",
      "\n",
      "        # build the extractors\n",
      "        spfx = SpikeFeatureExtractor(start=stim_start_time, end=stim_end_time)\n",
      "        sptfx = SpikeTrainFeatureExtractor(start=stim_start_time, end=stim_end_time)\n",
      "\n",
      "        # run the analysis and print out a few of the features\n",
      "        long_square_analysis = spa.LongSquareAnalysis(spfx, sptfx, subthresh_min_amp=-100.0)\n",
      "        data = long_square_analysis.analyze(long_square_sweeps)\n",
      "\n",
      "        specimen_dict = summarize_cell_ephys_features(data)\n",
      "        human_data_dict[specimen_id] = specimen_dict\n",
      "        \n",
      "        print(\"{} extracted\".format(item))\n",
      "        dfObj = pd.DataFrame(human_data_dict)\n",
      "        dfObj.to_csv('human_features_from_nwb_local3.csv')\n",
      "        \n",
      "    except urllib.error.HTTPError as err:\n",
      "        print(err.code)\n",
      "\n"
     ],
     "language": "python",
     "metadata": {},
     "outputs": [
      {
       "output_type": "stream",
       "stream": "stdout",
       "text": [
        "loading dataset into data structure...\n"
       ]
      },
      {
       "output_type": "stream",
       "stream": "stderr",
       "text": [
        "WARNING:root:sweep 5: ['Recording stopped before completing the experiment epoch']\n"
       ]
      },
      {
       "output_type": "stream",
       "stream": "stderr",
       "text": [
        "WARNING:root:sweep 17: ['Recording stopped before completing the experiment epoch']\n"
       ]
      },
      {
       "output_type": "stream",
       "stream": "stderr",
       "text": [
        "WARNING:root:sweep 18: ['Recording stopped before completing the experiment epoch']\n"
       ]
      },
      {
       "output_type": "stream",
       "stream": "stderr",
       "text": [
        "WARNING:root:sweep 19: ['Recording stopped before completing the experiment epoch']\n"
       ]
      },
      {
       "output_type": "stream",
       "stream": "stderr",
       "text": [
        "WARNING:root:sweep 20: ['Recording stopped before completing the experiment epoch']\n"
       ]
      },
      {
       "output_type": "stream",
       "stream": "stderr",
       "text": [
        "WARNING:root:sweep 43: ['Recording stopped before completing the experiment epoch']\n"
       ]
      },
      {
       "output_type": "stream",
       "stream": "stderr",
       "text": [
        "WARNING:root:sweep 48: ['Recording stopped before completing the experiment epoch']\n"
       ]
      },
      {
       "output_type": "stream",
       "stream": "stderr",
       "text": [
        "WARNING:root:sweep 51: ['Recording stopped before completing the experiment epoch']\n"
       ]
      },
      {
       "output_type": "stream",
       "stream": "stderr",
       "text": [
        "WARNING:root:sweep 54: ['Recording stopped before completing the experiment epoch']\n"
       ]
      },
      {
       "output_type": "stream",
       "stream": "stderr",
       "text": [
        "WARNING:root:sweep 56: ['Recording stopped before completing the experiment epoch']\n"
       ]
      },
      {
       "output_type": "stream",
       "stream": "stderr",
       "text": [
        "WARNING:root:sweep 57: ['Recording stopped before completing the experiment epoch']\n"
       ]
      },
      {
       "output_type": "stream",
       "stream": "stdout",
       "text": [
        "767829778 extracted\n",
        "loading dataset into data structure...\n"
       ]
      },
      {
       "output_type": "stream",
       "stream": "stderr",
       "text": [
        "WARNING:root:sweep 15: ['Recording stopped before completing the experiment epoch']\n"
       ]
      },
      {
       "output_type": "stream",
       "stream": "stderr",
       "text": [
        "WARNING:root:sweep 39: ['Recording stopped before completing the experiment epoch']\n"
       ]
      },
      {
       "output_type": "stream",
       "stream": "stderr",
       "text": [
        "WARNING:root:sweep 40: ['Recording stopped before completing the experiment epoch']\n"
       ]
      },
      {
       "output_type": "stream",
       "stream": "stderr",
       "text": [
        "WARNING:root:sweep 41: ['Recording stopped before completing the experiment epoch']\n"
       ]
      },
      {
       "output_type": "stream",
       "stream": "stderr",
       "text": [
        "WARNING:root:sweep 42: ['Recording stopped before completing the experiment epoch']\n"
       ]
      },
      {
       "output_type": "stream",
       "stream": "stderr",
       "text": [
        "WARNING:root:sweep 43: ['Recording stopped before completing the experiment epoch']\n"
       ]
      },
      {
       "output_type": "stream",
       "stream": "stderr",
       "text": [
        "WARNING:root:sweep 49: ['Recording stopped before completing the experiment epoch']\n"
       ]
      },
      {
       "output_type": "stream",
       "stream": "stderr",
       "text": [
        "WARNING:root:sweep 54: ['Recording stopped before completing the experiment epoch']\n"
       ]
      },
      {
       "output_type": "stream",
       "stream": "stdout",
       "text": [
        "768819569 extracted\n",
        "loading dataset into data structure...\n"
       ]
      },
      {
       "output_type": "stream",
       "stream": "stderr",
       "text": [
        "WARNING:root:sweep 173: ['Recording stopped before completing the experiment epoch']\n"
       ]
      },
      {
       "output_type": "stream",
       "stream": "stderr",
       "text": [
        "WARNING:root:sweep 174: ['Recording stopped before completing the experiment epoch']\n"
       ]
      },
      {
       "output_type": "stream",
       "stream": "stderr",
       "text": [
        "WARNING:root:sweep 175: ['Recording stopped before completing the experiment epoch']\n"
       ]
      },
      {
       "output_type": "stream",
       "stream": "stderr",
       "text": [
        "WARNING:root:sweep 176: ['Recording stopped before completing the experiment epoch']\n"
       ]
      },
      {
       "output_type": "stream",
       "stream": "stderr",
       "text": [
        "WARNING:root:sweep 177: ['Recording stopped before completing the experiment epoch']\n"
       ]
      },
      {
       "output_type": "stream",
       "stream": "stderr",
       "text": [
        "WARNING:root:sweep 178: ['test epoch is missing']\n"
       ]
      },
      {
       "output_type": "stream",
       "stream": "stderr",
       "text": [
        "WARNING:root:sweep 179: ['test epoch is missing']\n"
       ]
      },
      {
       "output_type": "stream",
       "stream": "stderr",
       "text": [
        "WARNING:root:sweep 180: ['test epoch is missing']\n"
       ]
      },
      {
       "output_type": "stream",
       "stream": "stderr",
       "text": [
        "WARNING:root:sweep 181: ['test epoch is missing']\n"
       ]
      },
      {
       "output_type": "stream",
       "stream": "stderr",
       "text": [
        "WARNING:root:sweep 182: ['test epoch is missing']\n"
       ]
      },
      {
       "output_type": "stream",
       "stream": "stderr",
       "text": [
        "WARNING:root:sweep 183: ['test epoch is missing']\n"
       ]
      },
      {
       "output_type": "stream",
       "stream": "stderr",
       "text": [
        "WARNING:root:sweep 184: ['test epoch is missing']\n"
       ]
      },
      {
       "output_type": "stream",
       "stream": "stdout",
       "text": [
        "768848167 extracted\n",
        "loading dataset into data structure...\n"
       ]
      },
      {
       "output_type": "stream",
       "stream": "stderr",
       "text": [
        "/nethome/kcni/ychen/.local/lib/python3.6/site-packages/ipfx/spike_features.py:87: RuntimeWarning: invalid value encountered in less\n",
        "  width_levels[width_levels < v[spike_indexes]] = thresh_to_peak_levels[width_levels < v[spike_indexes]]\n"
       ]
      },
      {
       "output_type": "stream",
       "stream": "stdout",
       "text": [
        "768848534 extracted\n",
        "loading dataset into data structure...\n"
       ]
      },
      {
       "output_type": "stream",
       "stream": "stderr",
       "text": [
        "WARNING:root:sweep 4: ['Recording stopped before completing the experiment epoch']\n"
       ]
      },
      {
       "output_type": "stream",
       "stream": "stderr",
       "text": [
        "WARNING:root:sweep 5: ['Recording stopped before completing the experiment epoch']\n"
       ]
      },
      {
       "output_type": "stream",
       "stream": "stderr",
       "text": [
        "WARNING:root:sweep 6: ['Recording stopped before completing the experiment epoch']\n"
       ]
      },
      {
       "output_type": "stream",
       "stream": "stderr",
       "text": [
        "WARNING:root:sweep 7: ['Recording stopped before completing the experiment epoch']\n"
       ]
      },
      {
       "output_type": "stream",
       "stream": "stderr",
       "text": [
        "WARNING:root:sweep 8: ['test epoch is missing', 'experiment epoch is missing', 'stim epoch is missing']\n"
       ]
      },
      {
       "output_type": "stream",
       "stream": "stderr",
       "text": [
        "WARNING:root:sweep 9: ['Recording stopped before completing the experiment epoch']\n"
       ]
      },
      {
       "output_type": "stream",
       "stream": "stderr",
       "text": [
        "WARNING:root:sweep 10: ['Recording stopped before completing the experiment epoch']\n"
       ]
      },
      {
       "output_type": "stream",
       "stream": "stderr",
       "text": [
        "WARNING:root:sweep 11: ['Recording stopped before completing the experiment epoch']\n"
       ]
      },
      {
       "output_type": "stream",
       "stream": "stderr",
       "text": [
        "WARNING:root:sweep 15: ['Recording stopped before completing the experiment epoch']\n"
       ]
      },
      {
       "output_type": "stream",
       "stream": "stderr",
       "text": [
        "WARNING:root:sweep 16: ['Recording stopped before completing the experiment epoch']\n"
       ]
      },
      {
       "output_type": "stream",
       "stream": "stderr",
       "text": [
        "WARNING:root:sweep 18: ['Recording stopped before completing the experiment epoch']\n"
       ]
      },
      {
       "output_type": "stream",
       "stream": "stderr",
       "text": [
        "WARNING:root:sweep 19: ['Recording stopped before completing the experiment epoch']\n"
       ]
      },
      {
       "output_type": "stream",
       "stream": "stderr",
       "text": [
        "WARNING:root:sweep 20: ['Recording stopped before completing the experiment epoch']\n"
       ]
      },
      {
       "output_type": "stream",
       "stream": "stderr",
       "text": [
        "WARNING:root:sweep 23: ['Recording stopped before completing the experiment epoch']\n"
       ]
      },
      {
       "output_type": "stream",
       "stream": "stderr",
       "text": [
        "WARNING:root:sweep 24: ['Recording stopped before completing the experiment epoch']\n"
       ]
      },
      {
       "output_type": "stream",
       "stream": "stderr",
       "text": [
        "WARNING:root:sweep 25: ['Recording stopped before completing the experiment epoch']\n"
       ]
      },
      {
       "output_type": "stream",
       "stream": "stderr",
       "text": [
        "WARNING:root:sweep 26: ['Recording stopped before completing the experiment epoch']\n"
       ]
      },
      {
       "output_type": "stream",
       "stream": "stderr",
       "text": [
        "WARNING:root:sweep 27: ['Recording stopped before completing the experiment epoch']\n"
       ]
      },
      {
       "output_type": "stream",
       "stream": "stderr",
       "text": [
        "WARNING:root:sweep 28: ['Recording stopped before completing the experiment epoch']\n"
       ]
      },
      {
       "output_type": "stream",
       "stream": "stderr",
       "text": [
        "WARNING:root:sweep 29: ['Recording stopped before completing the experiment epoch']\n"
       ]
      },
      {
       "output_type": "stream",
       "stream": "stderr",
       "text": [
        "WARNING:root:sweep 30: ['Recording stopped before completing the experiment epoch']\n"
       ]
      },
      {
       "output_type": "stream",
       "stream": "stderr",
       "text": [
        "WARNING:root:sweep 31: ['Recording stopped before completing the experiment epoch']\n"
       ]
      },
      {
       "output_type": "stream",
       "stream": "stderr",
       "text": [
        "WARNING:root:sweep 32: ['Recording stopped before completing the experiment epoch']\n"
       ]
      },
      {
       "output_type": "stream",
       "stream": "stderr",
       "text": [
        "WARNING:root:sweep 33: ['Recording stopped before completing the experiment epoch']\n"
       ]
      },
      {
       "output_type": "stream",
       "stream": "stderr",
       "text": [
        "WARNING:root:sweep 34: ['Recording stopped before completing the experiment epoch']\n"
       ]
      },
      {
       "output_type": "stream",
       "stream": "stderr",
       "text": [
        "WARNING:root:sweep 35: ['Recording stopped before completing the experiment epoch']\n"
       ]
      },
      {
       "output_type": "stream",
       "stream": "stderr",
       "text": [
        "WARNING:root:sweep 38: ['Recording stopped before completing the experiment epoch']\n"
       ]
      },
      {
       "output_type": "stream",
       "stream": "stderr",
       "text": [
        "WARNING:root:sweep 40: ['Recording stopped before completing the experiment epoch']\n"
       ]
      },
      {
       "output_type": "stream",
       "stream": "stderr",
       "text": [
        "WARNING:root:sweep 43: ['Recording stopped before completing the experiment epoch']\n"
       ]
      },
      {
       "output_type": "stream",
       "stream": "stderr",
       "text": [
        "WARNING:root:sweep 52: ['Recording stopped before completing the experiment epoch']\n"
       ]
      },
      {
       "output_type": "stream",
       "stream": "stderr",
       "text": [
        "WARNING:root:sweep 53: ['Recording stopped before completing the experiment epoch']\n"
       ]
      },
      {
       "output_type": "stream",
       "stream": "stderr",
       "text": [
        "WARNING:root:sweep 77: ['Recording stopped before completing the experiment epoch']\n"
       ]
      },
      {
       "output_type": "stream",
       "stream": "stderr",
       "text": [
        "WARNING:root:sweep 78: ['Recording stopped before completing the experiment epoch']\n"
       ]
      },
      {
       "output_type": "stream",
       "stream": "stderr",
       "text": [
        "WARNING:root:sweep 79: ['Recording stopped before completing the experiment epoch']\n"
       ]
      },
      {
       "output_type": "stream",
       "stream": "stderr",
       "text": [
        "WARNING:root:sweep 80: ['Recording stopped before completing the experiment epoch']\n"
       ]
      },
      {
       "output_type": "stream",
       "stream": "stderr",
       "text": [
        "WARNING:root:sweep 81: ['Recording stopped before completing the experiment epoch']\n"
       ]
      },
      {
       "output_type": "stream",
       "stream": "stderr",
       "text": [
        "WARNING:root:sweep 82: ['Recording stopped before completing the experiment epoch']\n"
       ]
      },
      {
       "output_type": "stream",
       "stream": "stderr",
       "text": [
        "WARNING:root:sweep 86: ['Recording stopped before completing the experiment epoch']\n"
       ]
      },
      {
       "output_type": "stream",
       "stream": "stdout",
       "text": [
        "768852834 extracted\n",
        "loading dataset into data structure...\n"
       ]
      },
      {
       "output_type": "stream",
       "stream": "stdout",
       "text": [
        "768857541 extracted\n",
        "loading dataset into data structure...\n"
       ]
      },
      {
       "output_type": "stream",
       "stream": "stderr",
       "text": [
        "WARNING:root:sweep 16: ['Recording stopped before completing the experiment epoch']\n"
       ]
      },
      {
       "output_type": "stream",
       "stream": "stderr",
       "text": [
        "WARNING:root:sweep 37: ['Recording stopped before completing the experiment epoch']\n"
       ]
      },
      {
       "output_type": "stream",
       "stream": "stderr",
       "text": [
        "WARNING:root:sweep 59: ['Recording stopped before completing the experiment epoch']\n"
       ]
      },
      {
       "output_type": "stream",
       "stream": "stderr",
       "text": [
        "WARNING:root:sweep 60: ['Recording stopped before completing the experiment epoch']\n"
       ]
      },
      {
       "output_type": "stream",
       "stream": "stderr",
       "text": [
        "WARNING:root:sweep 61: ['Recording stopped before completing the experiment epoch']\n"
       ]
      },
      {
       "output_type": "stream",
       "stream": "stderr",
       "text": [
        "WARNING:root:sweep 62: ['Recording stopped before completing the experiment epoch']\n"
       ]
      },
      {
       "output_type": "stream",
       "stream": "stderr",
       "text": [
        "WARNING:root:sweep 63: ['Recording stopped before completing the experiment epoch']\n"
       ]
      },
      {
       "output_type": "stream",
       "stream": "stdout",
       "text": [
        "768860866 extracted\n",
        "loading dataset into data structure...\n"
       ]
      },
      {
       "output_type": "stream",
       "stream": "stdout",
       "text": [
        "768866114 extracted\n",
        "loading dataset into data structure...\n"
       ]
      },
      {
       "output_type": "stream",
       "stream": "stdout",
       "text": [
        "768867010 extracted\n",
        "loading dataset into data structure...\n"
       ]
      },
      {
       "output_type": "stream",
       "stream": "stderr",
       "text": [
        "WARNING:root:sweep 36: ['Recording stopped before completing the experiment epoch']\n"
       ]
      },
      {
       "output_type": "stream",
       "stream": "stderr",
       "text": [
        "WARNING:root:sweep 37: ['Recording stopped before completing the experiment epoch']\n"
       ]
      },
      {
       "output_type": "stream",
       "stream": "stderr",
       "text": [
        "WARNING:root:sweep 38: ['Recording stopped before completing the experiment epoch']\n"
       ]
      },
      {
       "output_type": "stream",
       "stream": "stderr",
       "text": [
        "WARNING:root:sweep 39: ['Recording stopped before completing the experiment epoch']\n"
       ]
      },
      {
       "output_type": "stream",
       "stream": "stderr",
       "text": [
        "WARNING:root:sweep 40: ['Recording stopped before completing the experiment epoch']\n"
       ]
      },
      {
       "output_type": "stream",
       "stream": "stderr",
       "text": [
        "WARNING:root:sweep 41: ['Recording stopped before completing the experiment epoch']\n"
       ]
      },
      {
       "output_type": "stream",
       "stream": "stderr",
       "text": [
        "WARNING:root:sweep 42: ['Recording stopped before completing the experiment epoch']\n"
       ]
      },
      {
       "output_type": "stream",
       "stream": "stderr",
       "text": [
        "WARNING:root:sweep 43: ['Recording stopped before completing the experiment epoch']\n"
       ]
      },
      {
       "output_type": "stream",
       "stream": "stderr",
       "text": [
        "WARNING:root:sweep 44: ['Recording stopped before completing the experiment epoch']\n"
       ]
      },
      {
       "output_type": "stream",
       "stream": "stderr",
       "text": [
        "WARNING:root:sweep 45: ['Recording stopped before completing the experiment epoch']\n"
       ]
      },
      {
       "output_type": "stream",
       "stream": "stderr",
       "text": [
        "WARNING:root:sweep 49: ['Recording stopped before completing the experiment epoch']\n"
       ]
      },
      {
       "output_type": "stream",
       "stream": "stderr",
       "text": [
        "WARNING:root:sweep 50: ['Recording stopped before completing the experiment epoch']\n"
       ]
      },
      {
       "output_type": "stream",
       "stream": "stderr",
       "text": [
        "WARNING:root:sweep 51: ['Recording stopped before completing the experiment epoch']\n"
       ]
      },
      {
       "output_type": "stream",
       "stream": "stderr",
       "text": [
        "WARNING:root:sweep 53: ['Recording stopped before completing the experiment epoch']\n"
       ]
      },
      {
       "output_type": "stream",
       "stream": "stdout",
       "text": [
        "768875010 extracted\n",
        "loading dataset into data structure...\n"
       ]
      },
      {
       "output_type": "stream",
       "stream": "stderr",
       "text": [
        "WARNING:root:sweep 14: ['Recording stopped before completing the experiment epoch']\n"
       ]
      },
      {
       "output_type": "stream",
       "stream": "stdout",
       "text": [
        "768885440 extracted\n",
        "loading dataset into data structure...\n"
       ]
      },
      {
       "output_type": "stream",
       "stream": "stderr",
       "text": [
        "WARNING:root:sweep 17: ['Recording stopped before completing the experiment epoch']\n"
       ]
      },
      {
       "output_type": "stream",
       "stream": "stderr",
       "text": [
        "WARNING:root:sweep 47: ['Recording stopped before completing the experiment epoch']\n"
       ]
      },
      {
       "output_type": "stream",
       "stream": "stderr",
       "text": [
        "WARNING:root:sweep 48: ['Recording stopped before completing the experiment epoch']\n"
       ]
      },
      {
       "output_type": "stream",
       "stream": "stderr",
       "text": [
        "WARNING:root:sweep 49: ['Recording stopped before completing the experiment epoch']\n"
       ]
      },
      {
       "output_type": "stream",
       "stream": "stderr",
       "text": [
        "WARNING:root:sweep 50: ['Recording stopped before completing the experiment epoch']\n"
       ]
      },
      {
       "output_type": "stream",
       "stream": "stderr",
       "text": [
        "WARNING:root:sweep 51: ['Recording stopped before completing the experiment epoch']\n"
       ]
      },
      {
       "output_type": "stream",
       "stream": "stderr",
       "text": [
        "WARNING:root:sweep 52: ['Recording stopped before completing the experiment epoch']\n"
       ]
      },
      {
       "output_type": "stream",
       "stream": "stderr",
       "text": [
        "WARNING:root:sweep 53: ['Recording stopped before completing the experiment epoch']\n"
       ]
      },
      {
       "output_type": "stream",
       "stream": "stderr",
       "text": [
        "WARNING:root:sweep 57: ['Recording stopped before completing the experiment epoch']\n"
       ]
      },
      {
       "output_type": "stream",
       "stream": "stdout",
       "text": [
        "768891309 extracted\n",
        "loading dataset into data structure...\n"
       ]
      },
      {
       "output_type": "stream",
       "stream": "stderr",
       "text": [
        "WARNING:root:sweep 8: ['Recording stopped before completing the experiment epoch']\n"
       ]
      },
      {
       "output_type": "stream",
       "stream": "stderr",
       "text": [
        "WARNING:root:sweep 62: ['Recording stopped before completing the experiment epoch']\n"
       ]
      },
      {
       "output_type": "stream",
       "stream": "stderr",
       "text": [
        "WARNING:root:sweep 63: ['Recording stopped before completing the experiment epoch']\n"
       ]
      },
      {
       "output_type": "stream",
       "stream": "stderr",
       "text": [
        "WARNING:root:sweep 64: ['Recording stopped before completing the experiment epoch']\n"
       ]
      },
      {
       "output_type": "stream",
       "stream": "stderr",
       "text": [
        "WARNING:root:sweep 65: ['Recording stopped before completing the experiment epoch']\n"
       ]
      },
      {
       "output_type": "stream",
       "stream": "stderr",
       "text": [
        "WARNING:root:sweep 66: ['Recording stopped before completing the experiment epoch']\n"
       ]
      },
      {
       "output_type": "stream",
       "stream": "stderr",
       "text": [
        "WARNING:root:sweep 67: ['Recording stopped before completing the experiment epoch']\n"
       ]
      },
      {
       "output_type": "stream",
       "stream": "stderr",
       "text": [
        "WARNING:root:sweep 68: ['Recording stopped before completing the experiment epoch']\n"
       ]
      },
      {
       "output_type": "stream",
       "stream": "stderr",
       "text": [
        "WARNING:root:sweep 72: ['Recording stopped before completing the experiment epoch']\n"
       ]
      },
      {
       "output_type": "stream",
       "stream": "stderr",
       "text": [
        "WARNING:root:sweep 76: ['Recording stopped before completing the experiment epoch']\n"
       ]
      },
      {
       "output_type": "stream",
       "stream": "stdout",
       "text": [
        "768897784 extracted\n",
        "loading dataset into data structure...\n"
       ]
      },
      {
       "output_type": "stream",
       "stream": "stderr",
       "text": [
        "WARNING:root:sweep 39: ['Recording stopped before completing the experiment epoch']\n"
       ]
      },
      {
       "output_type": "stream",
       "stream": "stderr",
       "text": [
        "WARNING:root:sweep 76: ['experiment epoch is missing', 'stim epoch is missing']\n"
       ]
      },
      {
       "output_type": "stream",
       "stream": "stderr",
       "text": [
        "WARNING:root:sweep 77: ['Recording stopped before completing the experiment epoch']\n"
       ]
      },
      {
       "output_type": "stream",
       "stream": "stderr",
       "text": [
        "WARNING:root:sweep 78: ['Recording stopped before completing the experiment epoch']\n"
       ]
      },
      {
       "output_type": "stream",
       "stream": "stderr",
       "text": [
        "WARNING:root:sweep 79: ['Recording stopped before completing the experiment epoch']\n"
       ]
      },
      {
       "output_type": "stream",
       "stream": "stderr",
       "text": [
        "WARNING:root:sweep 80: ['Recording stopped before completing the experiment epoch']\n"
       ]
      },
      {
       "output_type": "stream",
       "stream": "stderr",
       "text": [
        "WARNING:root:sweep 81: ['Recording stopped before completing the experiment epoch']\n"
       ]
      },
      {
       "output_type": "stream",
       "stream": "stderr",
       "text": [
        "WARNING:root:sweep 85: ['Recording stopped before completing the experiment epoch']\n"
       ]
      },
      {
       "output_type": "stream",
       "stream": "stderr",
       "text": [
        "WARNING:root:sweep 86: ['Recording stopped before completing the experiment epoch']\n"
       ]
      },
      {
       "output_type": "stream",
       "stream": "stdout",
       "text": [
        "768899667 extracted\n",
        "loading dataset into data structure...\n"
       ]
      },
      {
       "output_type": "stream",
       "stream": "stderr",
       "text": [
        "WARNING:root:sweep 9: ['Recording stopped before completing the experiment epoch']\n"
       ]
      },
      {
       "output_type": "stream",
       "stream": "stderr",
       "text": [
        "WARNING:root:sweep 12: ['Recording stopped before completing the experiment epoch']\n"
       ]
      },
      {
       "output_type": "stream",
       "stream": "stderr",
       "text": [
        "WARNING:root:sweep 16: ['Recording stopped before completing the experiment epoch']\n"
       ]
      },
      {
       "output_type": "stream",
       "stream": "stderr",
       "text": [
        "WARNING:root:sweep 18: ['Recording stopped before completing the experiment epoch']\n"
       ]
      },
      {
       "output_type": "stream",
       "stream": "stderr",
       "text": [
        "WARNING:root:sweep 21: ['Recording stopped before completing the experiment epoch']\n"
       ]
      },
      {
       "output_type": "stream",
       "stream": "stderr",
       "text": [
        "WARNING:root:sweep 32: ['Recording stopped before completing the experiment epoch']\n"
       ]
      },
      {
       "output_type": "stream",
       "stream": "stderr",
       "text": [
        "WARNING:root:sweep 45: ['Recording stopped before completing the experiment epoch']\n"
       ]
      },
      {
       "output_type": "stream",
       "stream": "stderr",
       "text": [
        "WARNING:root:sweep 53: ['Recording stopped before completing the experiment epoch']\n"
       ]
      },
      {
       "output_type": "stream",
       "stream": "stderr",
       "text": [
        "WARNING:root:sweep 54: ['Recording stopped before completing the experiment epoch']\n"
       ]
      },
      {
       "output_type": "stream",
       "stream": "stderr",
       "text": [
        "WARNING:root:sweep 55: ['Recording stopped before completing the experiment epoch']\n"
       ]
      },
      {
       "output_type": "stream",
       "stream": "stderr",
       "text": [
        "WARNING:root:sweep 56: ['Recording stopped before completing the experiment epoch']\n"
       ]
      },
      {
       "output_type": "stream",
       "stream": "stderr",
       "text": [
        "WARNING:root:sweep 57: ['Recording stopped before completing the experiment epoch']\n"
       ]
      },
      {
       "output_type": "stream",
       "stream": "stdout",
       "text": [
        "768904007 extracted\n",
        "loading dataset into data structure...\n"
       ]
      },
      {
       "output_type": "stream",
       "stream": "stderr",
       "text": [
        "WARNING:root:sweep 27: ['Recording stopped before completing the experiment epoch']\n"
       ]
      },
      {
       "output_type": "stream",
       "stream": "stderr",
       "text": [
        "WARNING:root:sweep 31: ['Recording stopped before completing the experiment epoch']\n"
       ]
      },
      {
       "output_type": "stream",
       "stream": "stdout",
       "text": [
        "769228370 extracted\n",
        "loading dataset into data structure...\n"
       ]
      },
      {
       "output_type": "stream",
       "stream": "stderr",
       "text": [
        "WARNING:root:sweep 20: ['Recording stopped before completing the experiment epoch']\n"
       ]
      },
      {
       "output_type": "stream",
       "stream": "stderr",
       "text": [
        "WARNING:root:sweep 33: ['Recording stopped before completing the experiment epoch']\n"
       ]
      },
      {
       "output_type": "stream",
       "stream": "stderr",
       "text": [
        "WARNING:root:sweep 37: ['Recording stopped before completing the experiment epoch']\n"
       ]
      },
      {
       "output_type": "stream",
       "stream": "stderr",
       "text": [
        "WARNING:root:sweep 38: ['Recording stopped before completing the experiment epoch']\n"
       ]
      },
      {
       "output_type": "stream",
       "stream": "stderr",
       "text": [
        "WARNING:root:sweep 40: ['Recording stopped before completing the experiment epoch']\n"
       ]
      },
      {
       "output_type": "stream",
       "stream": "stderr",
       "text": [
        "WARNING:root:sweep 44: ['Recording stopped before completing the experiment epoch']\n"
       ]
      },
      {
       "output_type": "stream",
       "stream": "stderr",
       "text": [
        "WARNING:root:sweep 45: ['Recording stopped before completing the experiment epoch']\n"
       ]
      },
      {
       "output_type": "stream",
       "stream": "stderr",
       "text": [
        "WARNING:root:sweep 46: ['Recording stopped before completing the experiment epoch']\n"
       ]
      },
      {
       "output_type": "stream",
       "stream": "stderr",
       "text": [
        "WARNING:root:sweep 47: ['Recording stopped before completing the experiment epoch']\n"
       ]
      },
      {
       "output_type": "stream",
       "stream": "stderr",
       "text": [
        "WARNING:root:sweep 51: ['Recording stopped before completing the experiment epoch']\n"
       ]
      },
      {
       "output_type": "stream",
       "stream": "stderr",
       "text": [
        "WARNING:root:sweep 57: ['Recording stopped before completing the experiment epoch']\n"
       ]
      },
      {
       "output_type": "stream",
       "stream": "stderr",
       "text": [
        "WARNING:root:sweep 58: ['Recording stopped before completing the experiment epoch']\n"
       ]
      },
      {
       "output_type": "stream",
       "stream": "stdout",
       "text": [
        "769293848 extracted\n",
        "loading dataset into data structure...\n"
       ]
      },
      {
       "output_type": "stream",
       "stream": "stdout",
       "text": [
        "770249790 extracted\n",
        "loading dataset into data structure...\n"
       ]
      },
      {
       "output_type": "stream",
       "stream": "stderr",
       "text": [
        "WARNING:root:sweep 7: ['Recording stopped before completing the experiment epoch']\n"
       ]
      },
      {
       "output_type": "stream",
       "stream": "stderr",
       "text": [
        "WARNING:root:sweep 44: ['Recording stopped before completing the experiment epoch']\n"
       ]
      },
      {
       "output_type": "stream",
       "stream": "stderr",
       "text": [
        "WARNING:root:sweep 47: ['Recording stopped before completing the experiment epoch']\n"
       ]
      },
      {
       "output_type": "stream",
       "stream": "stderr",
       "text": [
        "WARNING:root:sweep 48: ['Recording stopped before completing the experiment epoch']\n"
       ]
      },
      {
       "output_type": "stream",
       "stream": "stderr",
       "text": [
        "WARNING:root:sweep 49: ['Recording stopped before completing the experiment epoch']\n"
       ]
      },
      {
       "output_type": "stream",
       "stream": "stderr",
       "text": [
        "WARNING:root:sweep 50: ['Recording stopped before completing the experiment epoch']\n"
       ]
      },
      {
       "output_type": "stream",
       "stream": "stderr",
       "text": [
        "WARNING:root:sweep 51: ['Recording stopped before completing the experiment epoch']\n"
       ]
      },
      {
       "output_type": "stream",
       "stream": "stdout",
       "text": [
        "770255008 extracted\n",
        "loading dataset into data structure...\n"
       ]
      },
      {
       "output_type": "stream",
       "stream": "stdout",
       "text": [
        "770255641 extracted\n",
        "loading dataset into data structure...\n"
       ]
      },
      {
       "output_type": "stream",
       "stream": "stdout",
       "text": [
        "770268354 extracted\n",
        "loading dataset into data structure...\n"
       ]
      },
      {
       "output_type": "stream",
       "stream": "stderr",
       "text": [
        "WARNING:root:sweep 14: ['Recording stopped before completing the experiment epoch']\n"
       ]
      },
      {
       "output_type": "stream",
       "stream": "stderr",
       "text": [
        "WARNING:root:sweep 21: ['Recording stopped before completing the experiment epoch']\n"
       ]
      },
      {
       "output_type": "stream",
       "stream": "stderr",
       "text": [
        "WARNING:root:sweep 32: ['Recording stopped before completing the experiment epoch']\n"
       ]
      },
      {
       "output_type": "stream",
       "stream": "stderr",
       "text": [
        "WARNING:root:sweep 39: ['Recording stopped before completing the experiment epoch']\n"
       ]
      },
      {
       "output_type": "stream",
       "stream": "stdout",
       "text": [
        "770268817 extracted\n",
        "loading dataset into data structure...\n"
       ]
      },
      {
       "output_type": "stream",
       "stream": "stdout",
       "text": [
        "770275637 extracted\n",
        "loading dataset into data structure...\n"
       ]
      },
      {
       "output_type": "stream",
       "stream": "stderr",
       "text": [
        "WARNING:root:sweep 14: ['Recording stopped before completing the experiment epoch']\n"
       ]
      },
      {
       "output_type": "stream",
       "stream": "stderr",
       "text": [
        "WARNING:root:sweep 20: ['Recording stopped before completing the experiment epoch']\n"
       ]
      },
      {
       "output_type": "stream",
       "stream": "stderr",
       "text": [
        "WARNING:root:sweep 22: ['Recording stopped before completing the experiment epoch']\n"
       ]
      },
      {
       "output_type": "stream",
       "stream": "stderr",
       "text": [
        "WARNING:root:sweep 24: ['Recording stopped before completing the experiment epoch']\n"
       ]
      },
      {
       "output_type": "stream",
       "stream": "stderr",
       "text": [
        "WARNING:root:sweep 25: ['Recording stopped before completing the experiment epoch']\n"
       ]
      },
      {
       "output_type": "stream",
       "stream": "stdout",
       "text": [
        "770275864 extracted\n",
        "loading dataset into data structure...\n"
       ]
      },
      {
       "output_type": "stream",
       "stream": "stdout",
       "text": [
        "770307286 extracted\n",
        "loading dataset into data structure...\n"
       ]
      },
      {
       "output_type": "stream",
       "stream": "stderr",
       "text": [
        "WARNING:root:sweep 7: ['Recording stopped before completing the experiment epoch']\n"
       ]
      },
      {
       "output_type": "stream",
       "stream": "stderr",
       "text": [
        "WARNING:root:sweep 16: ['Recording stopped before completing the experiment epoch']\n"
       ]
      },
      {
       "output_type": "stream",
       "stream": "stdout",
       "text": [
        "770320417 extracted\n",
        "loading dataset into data structure...\n"
       ]
      },
      {
       "output_type": "stream",
       "stream": "stdout",
       "text": [
        "770337451 extracted\n",
        "loading dataset into data structure...\n"
       ]
      },
      {
       "output_type": "stream",
       "stream": "stdout",
       "text": [
        "770369798 extracted\n",
        "loading dataset into data structure...\n"
       ]
      },
      {
       "output_type": "stream",
       "stream": "stderr",
       "text": [
        "WARNING:root:sweep 32: ['Recording stopped before completing the experiment epoch']\n"
       ]
      },
      {
       "output_type": "stream",
       "stream": "stderr",
       "text": [
        "WARNING:root:sweep 38: ['Recording stopped before completing the experiment epoch']\n"
       ]
      },
      {
       "output_type": "stream",
       "stream": "stderr",
       "text": [
        "WARNING:root:sweep 39: ['Recording stopped before completing the experiment epoch']\n"
       ]
      },
      {
       "output_type": "stream",
       "stream": "stderr",
       "text": [
        "WARNING:root:sweep 40: ['Recording stopped before completing the experiment epoch']\n"
       ]
      },
      {
       "output_type": "stream",
       "stream": "stderr",
       "text": [
        "WARNING:root:sweep 41: ['Recording stopped before completing the experiment epoch']\n"
       ]
      },
      {
       "output_type": "stream",
       "stream": "stderr",
       "text": [
        "WARNING:root:sweep 42: ['Recording stopped before completing the experiment epoch']\n"
       ]
      },
      {
       "output_type": "stream",
       "stream": "stdout",
       "text": [
        "770402036 extracted\n",
        "loading dataset into data structure...\n"
       ]
      },
      {
       "output_type": "stream",
       "stream": "stderr",
       "text": [
        "WARNING:root:sweep 12: ['Recording stopped before completing the experiment epoch']\n"
       ]
      },
      {
       "output_type": "stream",
       "stream": "stdout",
       "text": [
        "770414962 extracted\n",
        "loading dataset into data structure...\n"
       ]
      },
      {
       "output_type": "stream",
       "stream": "stdout",
       "text": [
        "770466523 extracted\n",
        "loading dataset into data structure...\n"
       ]
      },
      {
       "output_type": "stream",
       "stream": "stdout",
       "text": [
        "770466619 extracted\n",
        "loading dataset into data structure...\n"
       ]
      },
      {
       "output_type": "stream",
       "stream": "stderr",
       "text": [
        "WARNING:root:sweep 4: ['Recording stopped before completing the experiment epoch']\n"
       ]
      },
      {
       "output_type": "stream",
       "stream": "stderr",
       "text": [
        "WARNING:root:sweep 5: ['experiment epoch is missing', 'stim epoch is missing']\n"
       ]
      },
      {
       "output_type": "stream",
       "stream": "stdout",
       "text": [
        "770511487 extracted\n",
        "loading dataset into data structure...\n"
       ]
      },
      {
       "output_type": "stream",
       "stream": "stderr",
       "text": [
        "WARNING:root:sweep 13: ['Recording stopped before completing the experiment epoch']\n"
       ]
      },
      {
       "output_type": "stream",
       "stream": "stderr",
       "text": [
        "WARNING:root:sweep 62: ['Recording stopped before completing the experiment epoch']\n"
       ]
      },
      {
       "output_type": "stream",
       "stream": "stdout",
       "text": [
        "770516177 extracted\n",
        "loading dataset into data structure...\n"
       ]
      },
      {
       "output_type": "stream",
       "stream": "stderr",
       "text": [
        "WARNING:root:sweep 14: ['Recording stopped before completing the experiment epoch']\n"
       ]
      },
      {
       "output_type": "stream",
       "stream": "stderr",
       "text": [
        "WARNING:root:sweep 31: ['Recording stopped before completing the experiment epoch']\n"
       ]
      },
      {
       "output_type": "stream",
       "stream": "stderr",
       "text": [
        "/nethome/kcni/ychen/.local/lib/python3.6/site-packages/ipfx/spike_features.py:87: RuntimeWarning: invalid value encountered in less\n",
        "  width_levels[width_levels < v[spike_indexes]] = thresh_to_peak_levels[width_levels < v[spike_indexes]]\n"
       ]
      },
      {
       "output_type": "stream",
       "stream": "stdout",
       "text": [
        "770544209 extracted\n",
        "loading dataset into data structure...\n"
       ]
      },
      {
       "output_type": "stream",
       "stream": "stdout",
       "text": [
        "770581916 extracted\n",
        "loading dataset into data structure...\n"
       ]
      },
      {
       "output_type": "stream",
       "stream": "stdout",
       "text": [
        "770611301 extracted\n",
        "loading dataset into data structure...\n"
       ]
      },
      {
       "output_type": "stream",
       "stream": "stdout",
       "text": [
        "770611354 extracted\n",
        "loading dataset into data structure...\n"
       ]
      },
      {
       "output_type": "stream",
       "stream": "stdout",
       "text": [
        "770645883 extracted\n",
        "loading dataset into data structure...\n"
       ]
      },
      {
       "output_type": "stream",
       "stream": "stdout",
       "text": [
        "770650205 extracted\n",
        "loading dataset into data structure...\n"
       ]
      },
      {
       "output_type": "stream",
       "stream": "stdout",
       "text": [
        "770658546 extracted\n",
        "loading dataset into data structure...\n"
       ]
      },
      {
       "output_type": "stream",
       "stream": "stdout",
       "text": [
        "770662671 extracted\n",
        "loading dataset into data structure...\n"
       ]
      },
      {
       "output_type": "stream",
       "stream": "stderr",
       "text": [
        "WARNING:root:sweep 35: ['Recording stopped before completing the experiment epoch']\n"
       ]
      },
      {
       "output_type": "stream",
       "stream": "stderr",
       "text": [
        "WARNING:root:sweep 36: ['Recording stopped before completing the experiment epoch']\n"
       ]
      },
      {
       "output_type": "stream",
       "stream": "stderr",
       "text": [
        "WARNING:root:sweep 37: ['Recording stopped before completing the experiment epoch']\n"
       ]
      },
      {
       "output_type": "stream",
       "stream": "stderr",
       "text": [
        "WARNING:root:sweep 38: ['Recording stopped before completing the experiment epoch']\n"
       ]
      },
      {
       "output_type": "stream",
       "stream": "stderr",
       "text": [
        "WARNING:root:sweep 39: ['Recording stopped before completing the experiment epoch']\n"
       ]
      },
      {
       "output_type": "stream",
       "stream": "stdout",
       "text": [
        "774350590 extracted\n",
        "loading dataset into data structure...\n"
       ]
      },
      {
       "output_type": "stream",
       "stream": "stderr",
       "text": [
        "WARNING:root:sweep 8: ['Recording stopped before completing the experiment epoch']\n"
       ]
      },
      {
       "output_type": "stream",
       "stream": "stderr",
       "text": [
        "WARNING:root:sweep 17: ['Recording stopped before completing the experiment epoch']\n"
       ]
      },
      {
       "output_type": "stream",
       "stream": "stdout",
       "text": [
        "774356649 extracted\n",
        "loading dataset into data structure...\n"
       ]
      },
      {
       "output_type": "stream",
       "stream": "stderr",
       "text": [
        "WARNING:root:sweep 34: ['Recording stopped before completing the experiment epoch']\n"
       ]
      },
      {
       "output_type": "stream",
       "stream": "stderr",
       "text": [
        "WARNING:root:sweep 60: ['Recording stopped before completing the experiment epoch']\n"
       ]
      },
      {
       "output_type": "stream",
       "stream": "stderr",
       "text": [
        "WARNING:root:sweep 61: ['Recording stopped before completing the experiment epoch']\n"
       ]
      },
      {
       "output_type": "stream",
       "stream": "stderr",
       "text": [
        "WARNING:root:sweep 62: ['Recording stopped before completing the experiment epoch']\n"
       ]
      },
      {
       "output_type": "stream",
       "stream": "stderr",
       "text": [
        "WARNING:root:sweep 63: ['Recording stopped before completing the experiment epoch']\n"
       ]
      },
      {
       "output_type": "stream",
       "stream": "stderr",
       "text": [
        "WARNING:root:sweep 64: ['Recording stopped before completing the experiment epoch']\n"
       ]
      },
      {
       "output_type": "stream",
       "stream": "stdout",
       "text": [
        "774378959 extracted\n",
        "loading dataset into data structure...\n"
       ]
      },
      {
       "output_type": "stream",
       "stream": "stderr",
       "text": [
        "WARNING:root:sweep 37: ['Recording stopped before completing the experiment epoch']\n"
       ]
      },
      {
       "output_type": "stream",
       "stream": "stderr",
       "text": [
        "WARNING:root:sweep 40: ['Recording stopped before completing the experiment epoch']\n"
       ]
      },
      {
       "output_type": "stream",
       "stream": "stdout",
       "text": [
        "774399058 extracted\n",
        "loading dataset into data structure...\n"
       ]
      },
      {
       "output_type": "stream",
       "stream": "stdout",
       "text": [
        "774416149 extracted\n",
        "loading dataset into data structure...\n"
       ]
      },
      {
       "output_type": "stream",
       "stream": "stdout",
       "text": [
        "774420848 extracted\n",
        "loading dataset into data structure...\n"
       ]
      },
      {
       "output_type": "stream",
       "stream": "stderr",
       "text": [
        "WARNING:root:sweep 15: ['Recording stopped before completing the experiment epoch']\n"
       ]
      },
      {
       "output_type": "stream",
       "stream": "stdout",
       "text": [
        "774421995 extracted\n",
        "loading dataset into data structure...\n"
       ]
      },
      {
       "output_type": "stream",
       "stream": "stderr",
       "text": [
        "WARNING:root:sweep 15: ['Recording stopped before completing the experiment epoch']\n"
       ]
      },
      {
       "output_type": "stream",
       "stream": "stdout",
       "text": [
        "774429713 extracted\n",
        "loading dataset into data structure...\n"
       ]
      },
      {
       "output_type": "stream",
       "stream": "stderr",
       "text": [
        "WARNING:root:sweep 14: ['Recording stopped before completing the experiment epoch']\n"
       ]
      },
      {
       "output_type": "stream",
       "stream": "stdout",
       "text": [
        "774620186 extracted\n",
        "loading dataset into data structure...\n"
       ]
      },
      {
       "output_type": "stream",
       "stream": "stderr",
       "text": [
        "WARNING:root:sweep 14: ['Recording stopped before completing the experiment epoch']\n"
       ]
      },
      {
       "output_type": "stream",
       "stream": "stderr",
       "text": [
        "WARNING:root:sweep 16: ['Recording stopped before completing the experiment epoch']\n"
       ]
      },
      {
       "output_type": "stream",
       "stream": "stdout",
       "text": [
        "774631985 extracted\n",
        "loading dataset into data structure...\n"
       ]
      },
      {
       "output_type": "stream",
       "stream": "stderr",
       "text": [
        "WARNING:root:sweep 66: ['Recording stopped before completing the experiment epoch']\n"
       ]
      },
      {
       "output_type": "stream",
       "stream": "stderr",
       "text": [
        "WARNING:root:sweep 67: ['Recording stopped before completing the experiment epoch']\n"
       ]
      },
      {
       "output_type": "stream",
       "stream": "stderr",
       "text": [
        "WARNING:root:sweep 68: ['Recording stopped before completing the experiment epoch']\n"
       ]
      },
      {
       "output_type": "stream",
       "stream": "stderr",
       "text": [
        "WARNING:root:sweep 69: ['Recording stopped before completing the experiment epoch']\n"
       ]
      },
      {
       "output_type": "stream",
       "stream": "stderr",
       "text": [
        "WARNING:root:sweep 70: ['Recording stopped before completing the experiment epoch']\n"
       ]
      },
      {
       "output_type": "stream",
       "stream": "stderr",
       "text": [
        "WARNING:root:sweep 82: ['experiment epoch is missing', 'stim epoch is missing']\n"
       ]
      },
      {
       "output_type": "stream",
       "stream": "stdout",
       "text": [
        "783585601 extracted\n",
        "loading dataset into data structure...\n"
       ]
      },
      {
       "output_type": "stream",
       "stream": "stderr",
       "text": [
        "WARNING:root:sweep 36: ['Recording stopped before completing the experiment epoch']\n"
       ]
      },
      {
       "output_type": "stream",
       "stream": "stderr",
       "text": [
        "WARNING:root:sweep 37: ['Recording stopped before completing the experiment epoch']\n"
       ]
      },
      {
       "output_type": "stream",
       "stream": "stderr",
       "text": [
        "WARNING:root:sweep 38: ['Recording stopped before completing the experiment epoch']\n"
       ]
      },
      {
       "output_type": "stream",
       "stream": "stderr",
       "text": [
        "WARNING:root:sweep 39: ['Recording stopped before completing the experiment epoch']\n"
       ]
      },
      {
       "output_type": "stream",
       "stream": "stderr",
       "text": [
        "WARNING:root:sweep 40: ['Recording stopped before completing the experiment epoch']\n"
       ]
      },
      {
       "output_type": "stream",
       "stream": "stdout",
       "text": [
        "783585742 extracted\n",
        "loading dataset into data structure...\n"
       ]
      },
      {
       "output_type": "stream",
       "stream": "stderr",
       "text": [
        "WARNING:root:sweep 7: ['Recording stopped before completing the experiment epoch']\n"
       ]
      },
      {
       "output_type": "stream",
       "stream": "stderr",
       "text": [
        "WARNING:root:sweep 44: ['Recording stopped before completing the experiment epoch']\n"
       ]
      },
      {
       "output_type": "stream",
       "stream": "stderr",
       "text": [
        "WARNING:root:sweep 45: ['Recording stopped before completing the experiment epoch']\n"
       ]
      },
      {
       "output_type": "stream",
       "stream": "stderr",
       "text": [
        "WARNING:root:sweep 88: ['Recording stopped before completing the experiment epoch']\n"
       ]
      },
      {
       "output_type": "stream",
       "stream": "stderr",
       "text": [
        "WARNING:root:sweep 92: ['Recording stopped before completing the experiment epoch']\n"
       ]
      },
      {
       "output_type": "stream",
       "stream": "stderr",
       "text": [
        "WARNING:root:sweep 93: ['Recording stopped before completing the experiment epoch']\n"
       ]
      },
      {
       "output_type": "stream",
       "stream": "stderr",
       "text": [
        "WARNING:root:sweep 94: ['Recording stopped before completing the experiment epoch']\n"
       ]
      },
      {
       "output_type": "stream",
       "stream": "stderr",
       "text": [
        "WARNING:root:sweep 95: ['Recording stopped before completing the experiment epoch']\n"
       ]
      },
      {
       "output_type": "stream",
       "stream": "stderr",
       "text": [
        "WARNING:root:sweep 96: ['Recording stopped before completing the experiment epoch']\n"
       ]
      },
      {
       "output_type": "stream",
       "stream": "stdout",
       "text": [
        "783615441 extracted\n",
        "loading dataset into data structure...\n"
       ]
      },
      {
       "output_type": "stream",
       "stream": "stderr",
       "text": [
        "WARNING:root:sweep 5: ['Recording stopped before completing the experiment epoch']\n"
       ]
      },
      {
       "output_type": "stream",
       "stream": "stderr",
       "text": [
        "WARNING:root:sweep 19: ['Recording stopped before completing the experiment epoch']\n"
       ]
      },
      {
       "output_type": "stream",
       "stream": "stderr",
       "text": [
        "WARNING:root:sweep 20: ['Recording stopped before completing the experiment epoch']\n"
       ]
      },
      {
       "output_type": "stream",
       "stream": "stdout",
       "text": [
        "783624438 extracted\n",
        "loading dataset into data structure...\n"
       ]
      },
      {
       "output_type": "stream",
       "stream": "stderr",
       "text": [
        "WARNING:root:sweep 7: ['Recording stopped before completing the experiment epoch']\n"
       ]
      },
      {
       "output_type": "stream",
       "stream": "stderr",
       "text": [
        "WARNING:root:sweep 8: ['Recording stopped before completing the experiment epoch']\n"
       ]
      },
      {
       "output_type": "stream",
       "stream": "stderr",
       "text": [
        "WARNING:root:sweep 46: ['Recording stopped before completing the experiment epoch']\n"
       ]
      },
      {
       "output_type": "stream",
       "stream": "stdout",
       "text": [
        "783698501 extracted\n",
        "loading dataset into data structure...\n"
       ]
      },
      {
       "output_type": "stream",
       "stream": "stderr",
       "text": [
        "WARNING:root:sweep 108: ['test epoch is missing', 'experiment epoch is missing', 'stim epoch is missing']\n"
       ]
      },
      {
       "output_type": "stream",
       "stream": "stderr",
       "text": [
        "/nethome/kcni/ychen/.local/lib/python3.6/site-packages/ipfx/spike_features.py:87: RuntimeWarning: invalid value encountered in less\n",
        "  width_levels[width_levels < v[spike_indexes]] = thresh_to_peak_levels[width_levels < v[spike_indexes]]\n"
       ]
      },
      {
       "output_type": "stream",
       "stream": "stdout",
       "text": [
        "785378321 extracted\n",
        "loading dataset into data structure...\n"
       ]
      },
      {
       "output_type": "stream",
       "stream": "stderr",
       "text": [
        "WARNING:root:sweep 19: ['Recording stopped before completing the experiment epoch']\n"
       ]
      },
      {
       "output_type": "stream",
       "stream": "stderr",
       "text": [
        "WARNING:root:sweep 33: ['Recording stopped before completing the experiment epoch']\n"
       ]
      },
      {
       "output_type": "stream",
       "stream": "stderr",
       "text": [
        "WARNING:root:sweep 73: ['Recording stopped before completing the experiment epoch']\n"
       ]
      },
      {
       "output_type": "stream",
       "stream": "stderr",
       "text": [
        "WARNING:root:sweep 115: ['Recording stopped before completing the experiment epoch']\n"
       ]
      },
      {
       "output_type": "stream",
       "stream": "stderr",
       "text": [
        "WARNING:root:sweep 116: ['Recording stopped before completing the experiment epoch']\n"
       ]
      },
      {
       "output_type": "stream",
       "stream": "stderr",
       "text": [
        "WARNING:root:sweep 117: ['Recording stopped before completing the experiment epoch']\n"
       ]
      },
      {
       "output_type": "stream",
       "stream": "stderr",
       "text": [
        "WARNING:root:sweep 118: ['Recording stopped before completing the experiment epoch']\n"
       ]
      },
      {
       "output_type": "stream",
       "stream": "stderr",
       "text": [
        "WARNING:root:sweep 119: ['Recording stopped before completing the experiment epoch']\n"
       ]
      },
      {
       "output_type": "stream",
       "stream": "stderr",
       "text": [
        "WARNING:root:sweep 124: ['Recording stopped before completing the experiment epoch']\n"
       ]
      },
      {
       "output_type": "stream",
       "stream": "stderr",
       "text": [
        "WARNING:root:sweep 125: ['Recording stopped before completing the experiment epoch']\n"
       ]
      },
      {
       "output_type": "stream",
       "stream": "stdout",
       "text": [
        "785379684 extracted\n",
        "loading dataset into data structure...\n"
       ]
      },
      {
       "output_type": "stream",
       "stream": "stderr",
       "text": [
        "WARNING:root:sweep 4: ['Recording stopped before completing the experiment epoch']\n"
       ]
      },
      {
       "output_type": "stream",
       "stream": "stderr",
       "text": [
        "WARNING:root:sweep 66: ['Recording stopped before completing the experiment epoch']\n"
       ]
      },
      {
       "output_type": "stream",
       "stream": "stderr",
       "text": [
        "WARNING:root:sweep 67: ['Recording stopped before completing the experiment epoch']\n"
       ]
      },
      {
       "output_type": "stream",
       "stream": "stderr",
       "text": [
        "WARNING:root:sweep 68: ['Recording stopped before completing the experiment epoch']\n"
       ]
      },
      {
       "output_type": "stream",
       "stream": "stderr",
       "text": [
        "WARNING:root:sweep 69: ['Recording stopped before completing the experiment epoch']\n"
       ]
      },
      {
       "output_type": "stream",
       "stream": "stderr",
       "text": [
        "WARNING:root:sweep 70: ['Recording stopped before completing the experiment epoch']\n"
       ]
      },
      {
       "output_type": "stream",
       "stream": "stderr",
       "text": [
        "WARNING:root:sweep 79: ['test epoch is missing', 'experiment epoch is missing', 'stim epoch is missing']\n"
       ]
      },
      {
       "output_type": "stream",
       "stream": "stderr",
       "text": [
        "WARNING:root:sweep 82: ['experiment epoch is missing', 'stim epoch is missing']\n"
       ]
      },
      {
       "output_type": "stream",
       "stream": "stderr",
       "text": [
        "WARNING:root:sweep 84: ['Recording stopped before completing the experiment epoch']\n"
       ]
      },
      {
       "output_type": "stream",
       "stream": "stderr",
       "text": [
        "WARNING:root:sweep 86: ['Recording stopped before completing the experiment epoch']\n"
       ]
      },
      {
       "output_type": "stream",
       "stream": "stderr",
       "text": [
        "WARNING:root:sweep 90: ['test epoch is missing', 'experiment epoch is missing', 'stim epoch is missing']\n"
       ]
      },
      {
       "output_type": "stream",
       "stream": "stdout",
       "text": [
        "786437731 extracted\n",
        "loading dataset into data structure...\n"
       ]
      },
      {
       "output_type": "stream",
       "stream": "stderr",
       "text": [
        "WARNING:root:sweep 4: ['Recording stopped before completing the experiment epoch']\n"
       ]
      },
      {
       "output_type": "stream",
       "stream": "stderr",
       "text": [
        "WARNING:root:sweep 5: ['Recording stopped before completing the experiment epoch']\n"
       ]
      },
      {
       "output_type": "stream",
       "stream": "stderr",
       "text": [
        "WARNING:root:sweep 6: ['Recording stopped before completing the experiment epoch']\n"
       ]
      },
      {
       "output_type": "stream",
       "stream": "stderr",
       "text": [
        "WARNING:root:sweep 8: ['Recording stopped before completing the experiment epoch']\n"
       ]
      },
      {
       "output_type": "stream",
       "stream": "stderr",
       "text": [
        "WARNING:root:sweep 10: ['Recording stopped before completing the experiment epoch']\n"
       ]
      },
      {
       "output_type": "stream",
       "stream": "stderr",
       "text": [
        "WARNING:root:sweep 11: ['Recording stopped before completing the experiment epoch']\n"
       ]
      },
      {
       "output_type": "stream",
       "stream": "stderr",
       "text": [
        "WARNING:root:sweep 12: ['Recording stopped before completing the experiment epoch']\n"
       ]
      },
      {
       "output_type": "stream",
       "stream": "stderr",
       "text": [
        "WARNING:root:sweep 13: ['Recording stopped before completing the experiment epoch']\n"
       ]
      },
      {
       "output_type": "stream",
       "stream": "stderr",
       "text": [
        "WARNING:root:sweep 14: ['Recording stopped before completing the experiment epoch']\n"
       ]
      },
      {
       "output_type": "stream",
       "stream": "stderr",
       "text": [
        "WARNING:root:sweep 15: ['Recording stopped before completing the experiment epoch']\n"
       ]
      },
      {
       "output_type": "stream",
       "stream": "stderr",
       "text": [
        "WARNING:root:sweep 16: ['Recording stopped before completing the experiment epoch']\n"
       ]
      },
      {
       "output_type": "stream",
       "stream": "stderr",
       "text": [
        "WARNING:root:sweep 17: ['Recording stopped before completing the experiment epoch']\n"
       ]
      },
      {
       "output_type": "stream",
       "stream": "stderr",
       "text": [
        "WARNING:root:sweep 18: ['Recording stopped before completing the experiment epoch']\n"
       ]
      },
      {
       "output_type": "stream",
       "stream": "stderr",
       "text": [
        "WARNING:root:sweep 19: ['Recording stopped before completing the experiment epoch']\n"
       ]
      },
      {
       "output_type": "stream",
       "stream": "stderr",
       "text": [
        "WARNING:root:sweep 20: ['Recording stopped before completing the experiment epoch']\n"
       ]
      },
      {
       "output_type": "stream",
       "stream": "stderr",
       "text": [
        "WARNING:root:sweep 21: ['experiment epoch is missing', 'stim epoch is missing']\n"
       ]
      },
      {
       "output_type": "stream",
       "stream": "stderr",
       "text": [
        "WARNING:root:sweep 26: ['Recording stopped before completing the experiment epoch']\n"
       ]
      },
      {
       "output_type": "stream",
       "stream": "stderr",
       "text": [
        "WARNING:root:sweep 27: ['Recording stopped before completing the experiment epoch']\n"
       ]
      },
      {
       "output_type": "stream",
       "stream": "stderr",
       "text": [
        "WARNING:root:sweep 35: ['experiment epoch is missing', 'stim epoch is missing']\n"
       ]
      },
      {
       "output_type": "stream",
       "stream": "stderr",
       "text": [
        "WARNING:root:sweep 36: ['experiment epoch is missing', 'stim epoch is missing']\n"
       ]
      },
      {
       "output_type": "stream",
       "stream": "stderr",
       "text": [
        "WARNING:root:sweep 37: ['experiment epoch is missing', 'stim epoch is missing']\n"
       ]
      },
      {
       "output_type": "stream",
       "stream": "stderr",
       "text": [
        "WARNING:root:sweep 38: ['test epoch is missing', 'experiment epoch is missing', 'stim epoch is missing']\n"
       ]
      },
      {
       "output_type": "stream",
       "stream": "stderr",
       "text": [
        "WARNING:root:sweep 39: ['test epoch is missing', 'experiment epoch is missing', 'stim epoch is missing']\n"
       ]
      },
      {
       "output_type": "stream",
       "stream": "stderr",
       "text": [
        "WARNING:root:sweep 45: ['experiment epoch is missing', 'stim epoch is missing']\n"
       ]
      },
      {
       "output_type": "stream",
       "stream": "stderr",
       "text": [
        "WARNING:root:sweep 46: ['experiment epoch is missing', 'stim epoch is missing']\n"
       ]
      },
      {
       "output_type": "stream",
       "stream": "stderr",
       "text": [
        "WARNING:root:sweep 47: ['experiment epoch is missing', 'stim epoch is missing']\n"
       ]
      },
      {
       "output_type": "stream",
       "stream": "stderr",
       "text": [
        "WARNING:root:sweep 53: ['experiment epoch is missing', 'stim epoch is missing']\n"
       ]
      },
      {
       "output_type": "stream",
       "stream": "stderr",
       "text": [
        "WARNING:root:sweep 54: ['experiment epoch is missing', 'stim epoch is missing']\n"
       ]
      },
      {
       "output_type": "stream",
       "stream": "stderr",
       "text": [
        "WARNING:root:sweep 55: ['test epoch is missing', 'experiment epoch is missing', 'stim epoch is missing']\n"
       ]
      },
      {
       "output_type": "stream",
       "stream": "stdout",
       "text": [
        "786443982 extracted\n",
        "loading dataset into data structure...\n"
       ]
      },
      {
       "output_type": "stream",
       "stream": "stdout",
       "text": [
        "786448035 extracted\n",
        "loading dataset into data structure...\n"
       ]
      },
      {
       "output_type": "stream",
       "stream": "stderr",
       "text": [
        "WARNING:root:sweep 42: ['Recording stopped before completing the experiment epoch']\n"
       ]
      },
      {
       "output_type": "stream",
       "stream": "stderr",
       "text": [
        "WARNING:root:sweep 43: ['Recording stopped before completing the experiment epoch']\n"
       ]
      },
      {
       "output_type": "stream",
       "stream": "stderr",
       "text": [
        "WARNING:root:sweep 44: ['Recording stopped before completing the experiment epoch']\n"
       ]
      },
      {
       "output_type": "stream",
       "stream": "stderr",
       "text": [
        "WARNING:root:sweep 45: ['Recording stopped before completing the experiment epoch']\n"
       ]
      },
      {
       "output_type": "stream",
       "stream": "stderr",
       "text": [
        "WARNING:root:sweep 46: ['Recording stopped before completing the experiment epoch']\n"
       ]
      },
      {
       "output_type": "stream",
       "stream": "stdout",
       "text": [
        "786456546 extracted\n",
        "loading dataset into data structure...\n"
       ]
      },
      {
       "output_type": "stream",
       "stream": "stderr",
       "text": [
        "WARNING:root:sweep 9: ['Recording stopped before completing the experiment epoch']\n"
       ]
      },
      {
       "output_type": "stream",
       "stream": "stderr",
       "text": [
        "WARNING:root:sweep 17: ['Recording stopped before completing the experiment epoch']\n"
       ]
      },
      {
       "output_type": "stream",
       "stream": "stderr",
       "text": [
        "WARNING:root:sweep 36: ['Recording stopped before completing the experiment epoch']\n"
       ]
      },
      {
       "output_type": "stream",
       "stream": "stderr",
       "text": [
        "WARNING:root:sweep 39: ['Recording stopped before completing the experiment epoch']\n"
       ]
      },
      {
       "output_type": "stream",
       "stream": "stdout",
       "text": [
        "786464137 extracted\n",
        "loading dataset into data structure...\n"
       ]
      },
      {
       "output_type": "stream",
       "stream": "stderr",
       "text": [
        "WARNING:root:sweep 41: ['Recording stopped before completing the experiment epoch']\n"
       ]
      },
      {
       "output_type": "stream",
       "stream": "stderr",
       "text": [
        "WARNING:root:sweep 42: ['Recording stopped before completing the experiment epoch']\n"
       ]
      },
      {
       "output_type": "stream",
       "stream": "stderr",
       "text": [
        "WARNING:root:sweep 43: ['Recording stopped before completing the experiment epoch']\n"
       ]
      },
      {
       "output_type": "stream",
       "stream": "stderr",
       "text": [
        "WARNING:root:sweep 44: ['Recording stopped before completing the experiment epoch']\n"
       ]
      },
      {
       "output_type": "stream",
       "stream": "stderr",
       "text": [
        "WARNING:root:sweep 45: ['Recording stopped before completing the experiment epoch']\n"
       ]
      },
      {
       "output_type": "stream",
       "stream": "stdout",
       "text": [
        "786465214 extracted\n",
        "loading dataset into data structure...\n"
       ]
      },
      {
       "output_type": "stream",
       "stream": "stderr",
       "text": [
        "WARNING:root:sweep 18: ['Recording stopped before completing the experiment epoch']\n"
       ]
      },
      {
       "output_type": "stream",
       "stream": "stderr",
       "text": [
        "WARNING:root:sweep 23: ['Recording stopped before completing the experiment epoch']\n"
       ]
      },
      {
       "output_type": "stream",
       "stream": "stdout",
       "text": [
        "786472956 extracted\n",
        "loading dataset into data structure...\n"
       ]
      },
      {
       "output_type": "stream",
       "stream": "stdout",
       "text": [
        "786484903 extracted\n",
        "loading dataset into data structure...\n"
       ]
      },
      {
       "output_type": "stream",
       "stream": "stderr",
       "text": [
        "WARNING:root:sweep 39: ['Recording stopped before completing the experiment epoch']\n"
       ]
      },
      {
       "output_type": "stream",
       "stream": "stderr",
       "text": [
        "WARNING:root:sweep 40: ['Recording stopped before completing the experiment epoch']\n"
       ]
      },
      {
       "output_type": "stream",
       "stream": "stderr",
       "text": [
        "WARNING:root:sweep 41: ['Recording stopped before completing the experiment epoch']\n"
       ]
      },
      {
       "output_type": "stream",
       "stream": "stderr",
       "text": [
        "WARNING:root:sweep 42: ['Recording stopped before completing the experiment epoch']\n"
       ]
      },
      {
       "output_type": "stream",
       "stream": "stderr",
       "text": [
        "WARNING:root:sweep 43: ['Recording stopped before completing the experiment epoch']\n"
       ]
      },
      {
       "output_type": "stream",
       "stream": "stdout",
       "text": [
        "786497332 extracted\n",
        "loading dataset into data structure...\n"
       ]
      },
      {
       "output_type": "stream",
       "stream": "stdout",
       "text": [
        "786497938 extracted\n",
        "loading dataset into data structure...\n"
       ]
      },
      {
       "output_type": "stream",
       "stream": "stderr",
       "text": [
        "WARNING:root:sweep 5: ['Recording stopped before completing the experiment epoch']\n"
       ]
      },
      {
       "output_type": "stream",
       "stream": "stdout",
       "text": [
        "786508373 extracted\n",
        "loading dataset into data structure...\n"
       ]
      },
      {
       "output_type": "stream",
       "stream": "stdout",
       "text": [
        "786520776 extracted\n",
        "loading dataset into data structure...\n"
       ]
      },
      {
       "output_type": "stream",
       "stream": "stderr",
       "text": [
        "WARNING:root:sweep 37: ['Recording stopped before completing the experiment epoch']\n"
       ]
      },
      {
       "output_type": "stream",
       "stream": "stderr",
       "text": [
        "WARNING:root:sweep 38: ['Recording stopped before completing the experiment epoch']\n"
       ]
      },
      {
       "output_type": "stream",
       "stream": "stderr",
       "text": [
        "WARNING:root:sweep 39: ['Recording stopped before completing the experiment epoch']\n"
       ]
      },
      {
       "output_type": "stream",
       "stream": "stderr",
       "text": [
        "WARNING:root:sweep 40: ['Recording stopped before completing the experiment epoch']\n"
       ]
      },
      {
       "output_type": "stream",
       "stream": "stderr",
       "text": [
        "WARNING:root:sweep 41: ['Recording stopped before completing the experiment epoch']\n"
       ]
      },
      {
       "output_type": "stream",
       "stream": "stdout",
       "text": [
        "787089230 extracted\n",
        "loading dataset into data structure...\n"
       ]
      },
      {
       "output_type": "stream",
       "stream": "stderr",
       "text": [
        "WARNING:root:sweep 7: ['Recording stopped before completing the experiment epoch']\n"
       ]
      },
      {
       "output_type": "stream",
       "stream": "stderr",
       "text": [
        "WARNING:root:sweep 9: ['Recording stopped before completing the experiment epoch']\n"
       ]
      },
      {
       "output_type": "stream",
       "stream": "stderr",
       "text": [
        "WARNING:root:sweep 21: ['Recording stopped before completing the experiment epoch']\n"
       ]
      },
      {
       "output_type": "stream",
       "stream": "stderr",
       "text": [
        "WARNING:root:sweep 47: ['Recording stopped before completing the experiment epoch']\n"
       ]
      },
      {
       "output_type": "stream",
       "stream": "stderr",
       "text": [
        "WARNING:root:sweep 48: ['Recording stopped before completing the experiment epoch']\n"
       ]
      },
      {
       "output_type": "stream",
       "stream": "stderr",
       "text": [
        "WARNING:root:sweep 49: ['Recording stopped before completing the experiment epoch']\n"
       ]
      },
      {
       "output_type": "stream",
       "stream": "stderr",
       "text": [
        "WARNING:root:sweep 50: ['Recording stopped before completing the experiment epoch']\n"
       ]
      },
      {
       "output_type": "stream",
       "stream": "stderr",
       "text": [
        "WARNING:root:sweep 51: ['Recording stopped before completing the experiment epoch']\n"
       ]
      },
      {
       "output_type": "stream",
       "stream": "stdout",
       "text": [
        "787239157 extracted\n",
        "loading dataset into data structure...\n"
       ]
      },
      {
       "output_type": "stream",
       "stream": "stderr",
       "text": [
        "WARNING:root:sweep 16: ['Recording stopped before completing the experiment epoch']\n"
       ]
      },
      {
       "output_type": "stream",
       "stream": "stderr",
       "text": [
        "WARNING:root:sweep 22: ['experiment epoch is missing', 'stim epoch is missing']\n"
       ]
      },
      {
       "output_type": "stream",
       "stream": "stderr",
       "text": [
        "WARNING:root:sweep 83: ['Recording stopped before completing the experiment epoch']\n"
       ]
      },
      {
       "output_type": "stream",
       "stream": "stderr",
       "text": [
        "WARNING:root:sweep 84: ['Recording stopped before completing the experiment epoch']\n"
       ]
      },
      {
       "output_type": "stream",
       "stream": "stderr",
       "text": [
        "WARNING:root:sweep 85: ['Recording stopped before completing the experiment epoch']\n"
       ]
      },
      {
       "output_type": "stream",
       "stream": "stderr",
       "text": [
        "WARNING:root:sweep 86: ['Recording stopped before completing the experiment epoch']\n"
       ]
      },
      {
       "output_type": "stream",
       "stream": "stderr",
       "text": [
        "WARNING:root:sweep 87: ['Recording stopped before completing the experiment epoch']\n"
       ]
      },
      {
       "output_type": "stream",
       "stream": "stderr",
       "text": [
        "WARNING:root:sweep 91: ['Recording stopped before completing the experiment epoch']\n"
       ]
      },
      {
       "output_type": "stream",
       "stream": "stderr",
       "text": [
        "WARNING:root:sweep 97: ['test epoch is missing', 'experiment epoch is missing', 'stim epoch is missing']\n"
       ]
      },
      {
       "output_type": "stream",
       "stream": "stderr",
       "text": [
        "WARNING:root:sweep 99: ['Recording stopped before completing the experiment epoch']\n"
       ]
      },
      {
       "output_type": "stream",
       "stream": "stdout",
       "text": [
        "793375469 extracted\n",
        "loading dataset into data structure...\n"
       ]
      },
      {
       "output_type": "stream",
       "stream": "stderr",
       "text": [
        "WARNING:root:sweep 43: ['Recording stopped before completing the experiment epoch']\n"
       ]
      },
      {
       "output_type": "stream",
       "stream": "stderr",
       "text": [
        "WARNING:root:sweep 44: ['Recording stopped before completing the experiment epoch']\n"
       ]
      },
      {
       "output_type": "stream",
       "stream": "stderr",
       "text": [
        "WARNING:root:sweep 45: ['Recording stopped before completing the experiment epoch']\n"
       ]
      },
      {
       "output_type": "stream",
       "stream": "stderr",
       "text": [
        "WARNING:root:sweep 46: ['Recording stopped before completing the experiment epoch']\n"
       ]
      },
      {
       "output_type": "stream",
       "stream": "stderr",
       "text": [
        "WARNING:root:sweep 47: ['Recording stopped before completing the experiment epoch']\n"
       ]
      },
      {
       "output_type": "stream",
       "stream": "stdout",
       "text": [
        "793433676 extracted\n",
        "loading dataset into data structure...\n"
       ]
      },
      {
       "output_type": "stream",
       "stream": "stderr",
       "text": [
        "WARNING:root:sweep 17: ['Recording stopped before completing the experiment epoch']\n"
       ]
      },
      {
       "output_type": "stream",
       "stream": "stderr",
       "text": [
        "WARNING:root:sweep 48: ['Recording stopped before completing the experiment epoch']\n"
       ]
      },
      {
       "output_type": "stream",
       "stream": "stderr",
       "text": [
        "WARNING:root:sweep 49: ['Recording stopped before completing the experiment epoch']\n"
       ]
      },
      {
       "output_type": "stream",
       "stream": "stderr",
       "text": [
        "WARNING:root:sweep 50: ['Recording stopped before completing the experiment epoch']\n"
       ]
      },
      {
       "output_type": "stream",
       "stream": "stderr",
       "text": [
        "WARNING:root:sweep 51: ['Recording stopped before completing the experiment epoch']\n"
       ]
      },
      {
       "output_type": "stream",
       "stream": "stderr",
       "text": [
        "WARNING:root:sweep 52: ['Recording stopped before completing the experiment epoch']\n"
       ]
      },
      {
       "output_type": "stream",
       "stream": "stderr",
       "text": [
        "WARNING:root:sweep 53: ['Recording stopped before completing the experiment epoch']\n"
       ]
      },
      {
       "output_type": "stream",
       "stream": "stderr",
       "text": [
        "WARNING:root:sweep 54: ['Recording stopped before completing the experiment epoch']\n"
       ]
      },
      {
       "output_type": "stream",
       "stream": "stderr",
       "text": [
        "WARNING:root:sweep 58: ['Recording stopped before completing the experiment epoch']\n"
       ]
      },
      {
       "output_type": "stream",
       "stream": "stderr",
       "text": [
        "/nethome/kcni/ychen/.local/lib/python3.6/site-packages/ipfx/spike_features.py:87: RuntimeWarning: invalid value encountered in less\n",
        "  width_levels[width_levels < v[spike_indexes]] = thresh_to_peak_levels[width_levels < v[spike_indexes]]\n"
       ]
      },
      {
       "output_type": "stream",
       "stream": "stdout",
       "text": [
        "793490645 extracted\n",
        "loading dataset into data structure...\n"
       ]
      },
      {
       "output_type": "stream",
       "stream": "stderr",
       "text": [
        "WARNING:root:sweep 35: ['Recording stopped before completing the experiment epoch']\n"
       ]
      },
      {
       "output_type": "stream",
       "stream": "stderr",
       "text": [
        "WARNING:root:sweep 44: ['Recording stopped before completing the experiment epoch']\n"
       ]
      },
      {
       "output_type": "stream",
       "stream": "stderr",
       "text": [
        "WARNING:root:sweep 45: ['Recording stopped before completing the experiment epoch']\n"
       ]
      },
      {
       "output_type": "stream",
       "stream": "stderr",
       "text": [
        "WARNING:root:sweep 46: ['Recording stopped before completing the experiment epoch']\n"
       ]
      },
      {
       "output_type": "stream",
       "stream": "stderr",
       "text": [
        "WARNING:root:sweep 47: ['Recording stopped before completing the experiment epoch']\n"
       ]
      },
      {
       "output_type": "stream",
       "stream": "stderr",
       "text": [
        "WARNING:root:sweep 48: ['Recording stopped before completing the experiment epoch']\n"
       ]
      },
      {
       "output_type": "stream",
       "stream": "stdout",
       "text": [
        "793518153 extracted\n",
        "loading dataset into data structure...\n"
       ]
      },
      {
       "output_type": "stream",
       "stream": "stderr",
       "text": [
        "WARNING:root:sweep 20: ['Recording stopped before completing the experiment epoch']\n"
       ]
      },
      {
       "output_type": "stream",
       "stream": "stderr",
       "text": [
        "WARNING:root:sweep 38: ['Recording stopped before completing the experiment epoch']\n"
       ]
      },
      {
       "output_type": "stream",
       "stream": "stderr",
       "text": [
        "WARNING:root:sweep 73: ['Recording stopped before completing the experiment epoch']\n"
       ]
      },
      {
       "output_type": "stream",
       "stream": "stderr",
       "text": [
        "WARNING:root:sweep 74: ['Recording stopped before completing the experiment epoch']\n"
       ]
      },
      {
       "output_type": "stream",
       "stream": "stderr",
       "text": [
        "WARNING:root:sweep 75: ['Recording stopped before completing the experiment epoch']\n"
       ]
      },
      {
       "output_type": "stream",
       "stream": "stderr",
       "text": [
        "WARNING:root:sweep 76: ['Recording stopped before completing the experiment epoch']\n"
       ]
      },
      {
       "output_type": "stream",
       "stream": "stderr",
       "text": [
        "WARNING:root:sweep 77: ['Recording stopped before completing the experiment epoch']\n"
       ]
      },
      {
       "output_type": "stream",
       "stream": "stderr",
       "text": [
        "WARNING:root:sweep 80: ['Recording stopped before completing the experiment epoch']\n"
       ]
      },
      {
       "output_type": "stream",
       "stream": "stderr",
       "text": [
        "WARNING:root:sweep 85: ['Recording stopped before completing the experiment epoch']\n"
       ]
      },
      {
       "output_type": "stream",
       "stream": "stderr",
       "text": [
        "WARNING:root:sweep 88: ['Recording stopped before completing the experiment epoch']\n"
       ]
      },
      {
       "output_type": "stream",
       "stream": "stdout",
       "text": [
        "793523352 extracted\n",
        "loading dataset into data structure...\n"
       ]
      },
      {
       "output_type": "stream",
       "stream": "stderr",
       "text": [
        "WARNING:root:sweep 15: ['Recording stopped before completing the experiment epoch']\n"
       ]
      },
      {
       "output_type": "stream",
       "stream": "stderr",
       "text": [
        "WARNING:root:sweep 16: ['Recording stopped before completing the experiment epoch']\n"
       ]
      },
      {
       "ename": "AssertionError",
       "evalue": "Given time (1.499980) is outside of time range (-0.100000, 1.018960)",
       "output_type": "pyerr",
       "traceback": [
        "\u001b[0;31m---------------------------------------------------------------------------\u001b[0m",
        "\u001b[0;31mAssertionError\u001b[0m                            Traceback (most recent call last)",
        "\u001b[0;32m<ipython-input-4-7dc7a5ad309a>\u001b[0m in \u001b[0;36m<module>\u001b[0;34m\u001b[0m\n\u001b[1;32m     56\u001b[0m         \u001b[0;31m# run the analysis and print out a few of the features\u001b[0m\u001b[0;34m\u001b[0m\u001b[0;34m\u001b[0m\u001b[0;34m\u001b[0m\u001b[0m\n\u001b[1;32m     57\u001b[0m         \u001b[0mlong_square_analysis\u001b[0m \u001b[0;34m=\u001b[0m \u001b[0mspa\u001b[0m\u001b[0;34m.\u001b[0m\u001b[0mLongSquareAnalysis\u001b[0m\u001b[0;34m(\u001b[0m\u001b[0mspfx\u001b[0m\u001b[0;34m,\u001b[0m \u001b[0msptfx\u001b[0m\u001b[0;34m,\u001b[0m \u001b[0msubthresh_min_amp\u001b[0m\u001b[0;34m=\u001b[0m\u001b[0;34m-\u001b[0m\u001b[0;36m100.0\u001b[0m\u001b[0;34m)\u001b[0m\u001b[0;34m\u001b[0m\u001b[0;34m\u001b[0m\u001b[0m\n\u001b[0;32m---> 58\u001b[0;31m         \u001b[0mdata\u001b[0m \u001b[0;34m=\u001b[0m \u001b[0mlong_square_analysis\u001b[0m\u001b[0;34m.\u001b[0m\u001b[0manalyze\u001b[0m\u001b[0;34m(\u001b[0m\u001b[0mlong_square_sweeps\u001b[0m\u001b[0;34m)\u001b[0m\u001b[0;34m\u001b[0m\u001b[0;34m\u001b[0m\u001b[0m\n\u001b[0m\u001b[1;32m     59\u001b[0m \u001b[0;34m\u001b[0m\u001b[0m\n\u001b[1;32m     60\u001b[0m         \u001b[0mspecimen_dict\u001b[0m \u001b[0;34m=\u001b[0m \u001b[0msummarize_cell_ephys_features\u001b[0m\u001b[0;34m(\u001b[0m\u001b[0mdata\u001b[0m\u001b[0;34m)\u001b[0m\u001b[0;34m\u001b[0m\u001b[0;34m\u001b[0m\u001b[0m\n",
        "\u001b[0;32m~/.local/lib/python3.6/site-packages/ipfx/stimulus_protocol_analysis.py\u001b[0m in \u001b[0;36manalyze\u001b[0;34m(self, sweep_set)\u001b[0m\n\u001b[1;32m    129\u001b[0m \u001b[0;34m\u001b[0m\u001b[0m\n\u001b[1;32m    130\u001b[0m         \u001b[0mextra_sweep_feature_names\u001b[0m \u001b[0;34m=\u001b[0m \u001b[0;34m[\u001b[0m\u001b[0;34m'peak_deflect'\u001b[0m\u001b[0;34m,\u001b[0m\u001b[0;34m'stim_amp'\u001b[0m\u001b[0;34m,\u001b[0m\u001b[0;34m'v_baseline'\u001b[0m\u001b[0;34m,\u001b[0m\u001b[0;34m'sag'\u001b[0m\u001b[0;34m]\u001b[0m\u001b[0;34m\u001b[0m\u001b[0;34m\u001b[0m\u001b[0m\n\u001b[0;32m--> 131\u001b[0;31m         \u001b[0mfeatures\u001b[0m \u001b[0;34m=\u001b[0m \u001b[0msuper\u001b[0m\u001b[0;34m(\u001b[0m\u001b[0mLongSquareAnalysis\u001b[0m\u001b[0;34m,\u001b[0m \u001b[0mself\u001b[0m\u001b[0;34m)\u001b[0m\u001b[0;34m.\u001b[0m\u001b[0manalyze\u001b[0m\u001b[0;34m(\u001b[0m\u001b[0msweep_set\u001b[0m\u001b[0;34m,\u001b[0m \u001b[0mextra_sweep_features\u001b[0m\u001b[0;34m=\u001b[0m\u001b[0mextra_sweep_feature_names\u001b[0m\u001b[0;34m)\u001b[0m\u001b[0;34m\u001b[0m\u001b[0;34m\u001b[0m\u001b[0m\n\u001b[0m\u001b[1;32m    132\u001b[0m \u001b[0;34m\u001b[0m\u001b[0m\n\u001b[1;32m    133\u001b[0m         \u001b[0mfeatures\u001b[0m\u001b[0;34m[\u001b[0m\u001b[0;34m\"v_baseline\"\u001b[0m\u001b[0;34m]\u001b[0m \u001b[0;34m=\u001b[0m \u001b[0mnp\u001b[0m\u001b[0;34m.\u001b[0m\u001b[0mnanmean\u001b[0m\u001b[0;34m(\u001b[0m\u001b[0mself\u001b[0m\u001b[0;34m.\u001b[0m\u001b[0m_sweep_features\u001b[0m\u001b[0;34m[\u001b[0m\u001b[0;34m\"v_baseline\"\u001b[0m\u001b[0;34m]\u001b[0m\u001b[0;34m.\u001b[0m\u001b[0mvalues\u001b[0m\u001b[0;34m)\u001b[0m\u001b[0;34m\u001b[0m\u001b[0;34m\u001b[0m\u001b[0m\n",
        "\u001b[0;32m~/.local/lib/python3.6/site-packages/ipfx/stimulus_protocol_analysis.py\u001b[0m in \u001b[0;36manalyze\u001b[0;34m(self, sweep_set, extra_sweep_features, exclude_clipped)\u001b[0m\n\u001b[1;32m     82\u001b[0m \u001b[0;34m\u001b[0m\u001b[0m\n\u001b[1;32m     83\u001b[0m     \u001b[0;32mdef\u001b[0m \u001b[0manalyze\u001b[0m\u001b[0;34m(\u001b[0m\u001b[0mself\u001b[0m\u001b[0;34m,\u001b[0m \u001b[0msweep_set\u001b[0m\u001b[0;34m,\u001b[0m \u001b[0mextra_sweep_features\u001b[0m\u001b[0;34m=\u001b[0m\u001b[0;32mNone\u001b[0m\u001b[0;34m,\u001b[0m \u001b[0mexclude_clipped\u001b[0m\u001b[0;34m=\u001b[0m\u001b[0;32mFalse\u001b[0m\u001b[0;34m)\u001b[0m\u001b[0;34m:\u001b[0m\u001b[0;34m\u001b[0m\u001b[0;34m\u001b[0m\u001b[0m\n\u001b[0;32m---> 84\u001b[0;31m         \u001b[0mself\u001b[0m\u001b[0;34m.\u001b[0m\u001b[0manalyze_basic_features\u001b[0m\u001b[0;34m(\u001b[0m\u001b[0msweep_set\u001b[0m\u001b[0;34m,\u001b[0m \u001b[0mextra_sweep_features\u001b[0m\u001b[0;34m=\u001b[0m\u001b[0mextra_sweep_features\u001b[0m\u001b[0;34m,\u001b[0m \u001b[0mexclude_clipped\u001b[0m\u001b[0;34m=\u001b[0m\u001b[0mexclude_clipped\u001b[0m\u001b[0;34m)\u001b[0m\u001b[0;34m\u001b[0m\u001b[0;34m\u001b[0m\u001b[0m\n\u001b[0m\u001b[1;32m     85\u001b[0m         \u001b[0;32mreturn\u001b[0m \u001b[0;34m{\u001b[0m\u001b[0;34m\"spikes_set\"\u001b[0m\u001b[0;34m:\u001b[0m \u001b[0mself\u001b[0m\u001b[0;34m.\u001b[0m\u001b[0m_spikes_set\u001b[0m\u001b[0;34m,\u001b[0m \u001b[0;34m\"sweeps\"\u001b[0m\u001b[0;34m:\u001b[0m \u001b[0mself\u001b[0m\u001b[0;34m.\u001b[0m\u001b[0m_sweep_features\u001b[0m\u001b[0;34m}\u001b[0m\u001b[0;34m\u001b[0m\u001b[0;34m\u001b[0m\u001b[0m\n\u001b[1;32m     86\u001b[0m \u001b[0;34m\u001b[0m\u001b[0m\n",
        "\u001b[0;32m~/.local/lib/python3.6/site-packages/ipfx/stimulus_protocol_analysis.py\u001b[0m in \u001b[0;36manalyze_basic_features\u001b[0;34m(self, sweep_set, extra_sweep_features, exclude_clipped)\u001b[0m\n\u001b[1;32m     72\u001b[0m         \u001b[0mself\u001b[0m\u001b[0;34m.\u001b[0m\u001b[0m_spikes_set\u001b[0m \u001b[0;34m=\u001b[0m \u001b[0;34m[\u001b[0m\u001b[0;34m]\u001b[0m\u001b[0;34m\u001b[0m\u001b[0;34m\u001b[0m\u001b[0m\n\u001b[1;32m     73\u001b[0m         \u001b[0;32mfor\u001b[0m \u001b[0msweep\u001b[0m \u001b[0;32min\u001b[0m \u001b[0msweep_set\u001b[0m\u001b[0;34m.\u001b[0m\u001b[0msweeps\u001b[0m\u001b[0;34m:\u001b[0m\u001b[0;34m\u001b[0m\u001b[0;34m\u001b[0m\u001b[0m\n\u001b[0;32m---> 74\u001b[0;31m             \u001b[0mself\u001b[0m\u001b[0;34m.\u001b[0m\u001b[0m_spikes_set\u001b[0m\u001b[0;34m.\u001b[0m\u001b[0mappend\u001b[0m\u001b[0;34m(\u001b[0m\u001b[0mself\u001b[0m\u001b[0;34m.\u001b[0m\u001b[0mspx\u001b[0m\u001b[0;34m.\u001b[0m\u001b[0mprocess\u001b[0m\u001b[0;34m(\u001b[0m\u001b[0msweep\u001b[0m\u001b[0;34m.\u001b[0m\u001b[0mt\u001b[0m\u001b[0;34m,\u001b[0m \u001b[0msweep\u001b[0m\u001b[0;34m.\u001b[0m\u001b[0mv\u001b[0m\u001b[0;34m,\u001b[0m \u001b[0msweep\u001b[0m\u001b[0;34m.\u001b[0m\u001b[0mi\u001b[0m\u001b[0;34m)\u001b[0m\u001b[0;34m)\u001b[0m\u001b[0;34m\u001b[0m\u001b[0;34m\u001b[0m\u001b[0m\n\u001b[0m\u001b[1;32m     75\u001b[0m \u001b[0;34m\u001b[0m\u001b[0m\n\u001b[1;32m     76\u001b[0m         self._sweep_features = pd.DataFrame([ self.sptx.process(sweep.t, sweep.v, sweep.i, spikes, extra_sweep_features, exclude_clipped=exclude_clipped)\n",
        "\u001b[0;32m~/.local/lib/python3.6/site-packages/ipfx/feature_extractor.py\u001b[0m in \u001b[0;36mprocess\u001b[0;34m(self, t, v, i)\u001b[0m\n\u001b[1;32m     91\u001b[0m         putative_spikes = spkd.detect_putative_spikes(v, t, self.start, self.end,\n\u001b[1;32m     92\u001b[0m                                                     \u001b[0mdv_cutoff\u001b[0m\u001b[0;34m=\u001b[0m\u001b[0mself\u001b[0m\u001b[0;34m.\u001b[0m\u001b[0mdv_cutoff\u001b[0m\u001b[0;34m,\u001b[0m\u001b[0;34m\u001b[0m\u001b[0;34m\u001b[0m\u001b[0m\n\u001b[0;32m---> 93\u001b[0;31m                                                     dvdt=dvdt)\n\u001b[0m\u001b[1;32m     94\u001b[0m         \u001b[0mpeaks\u001b[0m \u001b[0;34m=\u001b[0m \u001b[0mspkd\u001b[0m\u001b[0;34m.\u001b[0m\u001b[0mfind_peak_indexes\u001b[0m\u001b[0;34m(\u001b[0m\u001b[0mv\u001b[0m\u001b[0;34m,\u001b[0m \u001b[0mt\u001b[0m\u001b[0;34m,\u001b[0m \u001b[0mputative_spikes\u001b[0m\u001b[0;34m,\u001b[0m \u001b[0mself\u001b[0m\u001b[0;34m.\u001b[0m\u001b[0mend\u001b[0m\u001b[0;34m)\u001b[0m\u001b[0;34m\u001b[0m\u001b[0;34m\u001b[0m\u001b[0m\n\u001b[1;32m     95\u001b[0m         putative_spikes, peaks = spkd.filter_putative_spikes(v, t, putative_spikes, peaks,\n",
        "\u001b[0;32m~/.local/lib/python3.6/site-packages/ipfx/spike_detector.py\u001b[0m in \u001b[0;36mdetect_putative_spikes\u001b[0;34m(v, t, start, end, filter, dv_cutoff, dvdt)\u001b[0m\n\u001b[1;32m     38\u001b[0m \u001b[0;34m\u001b[0m\u001b[0m\n\u001b[1;32m     39\u001b[0m     \u001b[0mstart_index\u001b[0m \u001b[0;34m=\u001b[0m \u001b[0mtsu\u001b[0m\u001b[0;34m.\u001b[0m\u001b[0mfind_time_index\u001b[0m\u001b[0;34m(\u001b[0m\u001b[0mt\u001b[0m\u001b[0;34m,\u001b[0m \u001b[0mstart\u001b[0m\u001b[0;34m)\u001b[0m\u001b[0;34m\u001b[0m\u001b[0;34m\u001b[0m\u001b[0m\n\u001b[0;32m---> 40\u001b[0;31m     \u001b[0mend_index\u001b[0m \u001b[0;34m=\u001b[0m \u001b[0mtsu\u001b[0m\u001b[0;34m.\u001b[0m\u001b[0mfind_time_index\u001b[0m\u001b[0;34m(\u001b[0m\u001b[0mt\u001b[0m\u001b[0;34m,\u001b[0m \u001b[0mend\u001b[0m\u001b[0;34m)\u001b[0m\u001b[0;34m\u001b[0m\u001b[0;34m\u001b[0m\u001b[0m\n\u001b[0m\u001b[1;32m     41\u001b[0m     \u001b[0mv_window\u001b[0m \u001b[0;34m=\u001b[0m \u001b[0mv\u001b[0m\u001b[0;34m[\u001b[0m\u001b[0mstart_index\u001b[0m\u001b[0;34m:\u001b[0m\u001b[0mend_index\u001b[0m \u001b[0;34m+\u001b[0m \u001b[0;36m1\u001b[0m\u001b[0;34m]\u001b[0m\u001b[0;34m\u001b[0m\u001b[0;34m\u001b[0m\u001b[0m\n\u001b[1;32m     42\u001b[0m     \u001b[0mt_window\u001b[0m \u001b[0;34m=\u001b[0m \u001b[0mt\u001b[0m\u001b[0;34m[\u001b[0m\u001b[0mstart_index\u001b[0m\u001b[0;34m:\u001b[0m\u001b[0mend_index\u001b[0m \u001b[0;34m+\u001b[0m \u001b[0;36m1\u001b[0m\u001b[0;34m]\u001b[0m\u001b[0;34m\u001b[0m\u001b[0;34m\u001b[0m\u001b[0m\n",
        "\u001b[0;32m~/.local/lib/python3.6/site-packages/ipfx/time_series_utils.py\u001b[0m in \u001b[0;36mfind_time_index\u001b[0;34m(t, t_0)\u001b[0m\n\u001b[1;32m     18\u001b[0m     \u001b[0midx\u001b[0m\u001b[0;34m:\u001b[0m \u001b[0mindex\u001b[0m \u001b[0mof\u001b[0m \u001b[0mt\u001b[0m \u001b[0mclosest\u001b[0m \u001b[0mto\u001b[0m \u001b[0mt_0\u001b[0m\u001b[0;34m\u001b[0m\u001b[0;34m\u001b[0m\u001b[0m\n\u001b[1;32m     19\u001b[0m     \"\"\"\n\u001b[0;32m---> 20\u001b[0;31m     \u001b[0;32massert\u001b[0m \u001b[0mt\u001b[0m\u001b[0;34m[\u001b[0m\u001b[0;36m0\u001b[0m\u001b[0;34m]\u001b[0m \u001b[0;34m<=\u001b[0m \u001b[0mt_0\u001b[0m \u001b[0;34m<=\u001b[0m \u001b[0mt\u001b[0m\u001b[0;34m[\u001b[0m\u001b[0;34m-\u001b[0m\u001b[0;36m1\u001b[0m\u001b[0;34m]\u001b[0m\u001b[0;34m,\u001b[0m \u001b[0;34m\"Given time ({:f}) is outside of time range ({:f}, {:f})\"\u001b[0m\u001b[0;34m.\u001b[0m\u001b[0mformat\u001b[0m\u001b[0;34m(\u001b[0m\u001b[0mt_0\u001b[0m\u001b[0;34m,\u001b[0m \u001b[0mt\u001b[0m\u001b[0;34m[\u001b[0m\u001b[0;36m0\u001b[0m\u001b[0;34m]\u001b[0m\u001b[0;34m,\u001b[0m \u001b[0mt\u001b[0m\u001b[0;34m[\u001b[0m\u001b[0;34m-\u001b[0m\u001b[0;36m1\u001b[0m\u001b[0;34m]\u001b[0m\u001b[0;34m)\u001b[0m\u001b[0;34m\u001b[0m\u001b[0;34m\u001b[0m\u001b[0m\n\u001b[0m\u001b[1;32m     21\u001b[0m \u001b[0;34m\u001b[0m\u001b[0m\n\u001b[1;32m     22\u001b[0m     \u001b[0midx\u001b[0m \u001b[0;34m=\u001b[0m \u001b[0mnp\u001b[0m\u001b[0;34m.\u001b[0m\u001b[0margmin\u001b[0m\u001b[0;34m(\u001b[0m\u001b[0mabs\u001b[0m\u001b[0;34m(\u001b[0m\u001b[0mt\u001b[0m \u001b[0;34m-\u001b[0m \u001b[0mt_0\u001b[0m\u001b[0;34m)\u001b[0m\u001b[0;34m)\u001b[0m\u001b[0;34m\u001b[0m\u001b[0;34m\u001b[0m\u001b[0m\n",
        "\u001b[0;31mAssertionError\u001b[0m: Given time (1.499980) is outside of time range (-0.100000, 1.018960)"
       ]
      }
     ],
     "prompt_number": 4
    }
   ],
   "metadata": {}
  }
 ]
}
